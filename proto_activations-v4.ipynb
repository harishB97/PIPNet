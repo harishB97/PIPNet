{
 "cells": [
  {
   "cell_type": "code",
   "execution_count": 1,
   "metadata": {},
   "outputs": [],
   "source": [
    "import sys\n",
    "import os"
   ]
  },
  {
   "cell_type": "code",
   "execution_count": 2,
   "metadata": {},
   "outputs": [],
   "source": [
    "# run_path = \"/home/harishbabu/projects/PIPNet/runs/154-PruningNaiveHPIPNet_cnext13_CUB-18-imgnet-224_with-equalize-aug_img=224_nprotos=20\"\n",
    "\n",
    "# run_path = \"/home/harishbabu/projects/PIPNet/runs/158-PruningNaiveHPIPNetExpWeightPruning_cnext13_CUB-18-imgnet-224_with-equalize-aug_img=224_nprotos=20\"\n",
    "\n",
    "# run_path = \"/home/harishbabu/projects/PIPNet/runs/159-PruningNaiveHPIPNetMaskL1=1.0_cnext13_CUB-18-imgnet-224_with-equalize-aug_img=224_nprotos=20\"\n",
    "\n",
    "# run_path = \"/home/harishbabu/projects/PIPNet/runs/160-PruningNaiveHPIPNetMaskL1=0.5_cnext13_CUB-18-imgnet-224_with-equalize-aug_img=224_nprotos=20\"\n",
    "\n",
    "# run_path = \"/home/harishbabu/projects/PIPNet/runs/161-PruningNaiveHPIPNetMaskL1=0.5MaskTrainExtra=15eps_cnext13_CUB-18-imgnet-224_with-equalize-aug_img=224_nprotos=20\"\n",
    "\n",
    "# run_path = \"/projects/ml4science/harishbabu/projects/PIPNet/162-PruningNaiveHPIPNetMaskL1=0.5MaskTrainExtra=15epsEps=60_cnext13_CUB-18-imgnet-224_with-equalize-aug_img=224_nprotos=20\"\n",
    "\n",
    "# run_path = \"/home/harishbabu/projects/PIPNet/runs/163-PruningNaiveHPIPNetMaskL1=0.5MaskTrainExtra=15epsEps=60TanhDesc=0.2MinCont=0.1_cnext13_CUB-18-imgnet-224_with-equalize-aug_img=224_nprotos=20\"\n",
    "\n",
    "# run_path = \"/projects/ml4science/harishbabu/projects/PIPNet/164-PruningNaiveHPIPNetMaskL1=0.5MaskTrainExtra=15epsEps=60TanhDesc=0.05MinCont=0.1_cnext13_CUB-18-imgnet-224_with-equalize-aug_img=224_nprotos=20\"\n",
    "\n",
    "# run_path = \"/home/harishbabu/projects/PIPNet/runs/167-PruningNaiveHPIPNetMaskL1=0.5MaskTrainExtra=15epsEps=60TanhDesc=0.05MinCont=0.1_cnext26_CUB-18-imgnet-224_with-equalize-aug_img=224_nprotos=20\"\n",
    "\n",
    "run_path = \"/home/harishbabu/projects/PIPNet_wandb/runs/178-PruningNaiveHPIPNetMaskL1=0.5MaskTrainExtra=15epsEps=60TanhDesc=0.05MinCont=0.1_cnext26_CUB-190-imgnet-224_WeightedCE_with-equalize-aug_img=224_nprotos=20\"\n",
    "\n",
    "# run_path = \"/home/harishbabu/projects/PIPNet/runs/202-PruningBF=1.1NaiveHPIPNetMaskL1=0.5MaskTrainExtra=05epsEps=60Cl=2.0TanhDesc=0.05MinCont=0.1_cnext13_CUB-190-imgnet-224_WeightedCE_with-equalize-aug_img=224_nprotos=10pc\"\n",
    "\n",
    "# run_path = \"/home/harishbabu/projects/PIPNet/runs/207-PruningBF=1.1NaiveHPIPNetMaskL1=0.5MaskTrainExtra=05epsEps=60Cl=2.0TanhDesc=0.05MinCont=0.1_cnext26_BUT-51-224_WeightedCE_with-equalize-aug_img=224_nprotos=10pc\"\n",
    "\n",
    "# run_path = \"/home/harishbabu/projects/PIPNet/runs/208-PruningBF=1.1NaiveHPIPNetMaskL1=0.5MaskTrainExtra=05epsEps=60Cl=2.0TanhDesc=0.05MinCont=0.1_cnext26_FISH-38-224_WeightedCE_with-equalize-aug_img=224_nprotos=10pc\"\n",
    "\n",
    "# run_path = \"runs/225-BUT30_nprotos=10pc-cnext26_PruningBF=1.1NaiveHPIPNetMaskL1=0.5MaskTrainExtra=15epsEps=60Cl=2.0TanhDesc=0.05MinCont=0.1_BUT-30-imgnet-224_WeightedCE_with-equalize-aug_img=224\"\n",
    "\n",
    "try:\n",
    "    sys.path.remove('/home/harishbabu/projects/PIPNet')\n",
    "except:\n",
    "    pass\n",
    "sys.path.insert(0, os.path.join(run_path, 'source_clone'))\n"
   ]
  },
  {
   "cell_type": "code",
   "execution_count": 3,
   "metadata": {},
   "outputs": [
    {
     "name": "stdout",
     "output_type": "stream",
     "text": [
      "/home/harishbabu/projects/PIPNet_wandb/runs/178-PruningNaiveHPIPNetMaskL1=0.5MaskTrainExtra=15epsEps=60TanhDesc=0.05MinCont=0.1_cnext26_CUB-190-imgnet-224_WeightedCE_with-equalize-aug_img=224_nprotos=20\n"
     ]
    }
   ],
   "source": [
    "print(run_path)"
   ]
  },
  {
   "cell_type": "code",
   "execution_count": 4,
   "metadata": {},
   "outputs": [],
   "source": [
    "import torch.nn as nn\n",
    "import torch\n",
    "\n",
    "import sys, os\n",
    "import random\n",
    "import numpy as np\n",
    "from shutil import copy\n",
    "import matplotlib.pyplot as plt\n",
    "from copy import deepcopy\n",
    "\n",
    "from omegaconf import OmegaConf\n",
    "import shutil\n",
    "import pickle\n",
    "import random\n",
    "from tqdm import tqdm\n",
    "\n",
    "from torchvision.datasets.folder import ImageFolder\n",
    "from torch.utils.data import DataLoader\n",
    "import torch.nn.functional as F\n",
    "# from skimage.filters import threshold_local, gaussian\n",
    "import ntpath"
   ]
  },
  {
   "cell_type": "code",
   "execution_count": 5,
   "metadata": {},
   "outputs": [
    {
     "name": "stdout",
     "output_type": "stream",
     "text": [
      "/home/harishbabu/projects/PIPNet_wandb/runs/178-PruningNaiveHPIPNetMaskL1=0.5MaskTrainExtra=15epsEps=60TanhDesc=0.05MinCont=0.1_cnext26_CUB-190-imgnet-224_WeightedCE_with-equalize-aug_img=224_nprotos=20/source_clone\n"
     ]
    }
   ],
   "source": [
    "print(sys.path[0])"
   ]
  },
  {
   "cell_type": "code",
   "execution_count": 6,
   "metadata": {},
   "outputs": [
    {
     "name": "stdout",
     "output_type": "stream",
     "text": [
      "/home/harishbabu/projects/PIPNet_wandb/runs/178-PruningNaiveHPIPNetMaskL1=0.5MaskTrainExtra=15epsEps=60TanhDesc=0.05MinCont=0.1_cnext26_CUB-190-imgnet-224_WeightedCE_with-equalize-aug_img=224_nprotos=20/source_clone/util/node.py\n"
     ]
    }
   ],
   "source": [
    "# import pipnet.pipnet\n",
    "# from pipnet.pipnet import PIPNet, get_network\n",
    "# # from pipnet import pipnet\n",
    "# print(pipnet.__file__)\n",
    "from util import node\n",
    "print(node.__file__)"
   ]
  },
  {
   "cell_type": "code",
   "execution_count": 7,
   "metadata": {},
   "outputs": [
    {
     "name": "stdout",
     "output_type": "stream",
     "text": [
      "Heatmaps showing where a prototype is found will not be generated because OpenCV is not installed.\n"
     ]
    }
   ],
   "source": [
    "from pipnet.pipnet import PIPNet, get_network\n",
    "from util.log import Log\n",
    "from util.args import get_args, save_args, get_optimizer_nn\n",
    "from util.data import get_dataloaders\n",
    "from util.func import init_weights_xavier\n",
    "from pipnet.train import train_pipnet, test_pipnet\n",
    "# from pipnet.test import eval_pipnet, get_thresholds, eval_ood\n",
    "from util.eval_cub_csv import eval_prototypes_cub_parts_csv, get_topk_cub, get_proto_patches_cub\n",
    "from util.vis_pipnet import visualize, visualize_topk\n",
    "from util.visualize_prediction import vis_pred, vis_pred_experiments\n",
    "from util.node import Node\n",
    "from util.phylo_utils import construct_phylo_tree, construct_discretized_phylo_tree\n",
    "from util.func import get_patch_size\n",
    "from util.data import ModifiedLabelLoader"
   ]
  },
  {
   "cell_type": "code",
   "execution_count": 8,
   "metadata": {},
   "outputs": [],
   "source": [
    "from PIL import Image\n",
    "import numpy as np\n",
    "import pdb\n",
    "\n",
    "# def get_heatmap(latent_activation, input_image):\n",
    "#     image_a = latent_activation.cpu().numpy()\n",
    "#     image_a = (image_a - image_a.min()) / (image_a.max() - image_a.min())\n",
    "\n",
    "#     input_image = (input_image - input_image.min()) / (input_image.max() - input_image.min())\n",
    "#     image_b = input_image.permute(1, 2, 0).cpu().numpy()\n",
    "    \n",
    "#     reshaped_image_a = np.array(Image.fromarray((image_a[0] * 255).astype('uint8')).resize((input_image.shape[-1], input_image.shape[-1])))\n",
    "#     normalized_heatmap = (reshaped_image_a - np.min(reshaped_image_a)) / (np.max(reshaped_image_a) - np.min(reshaped_image_a))\n",
    "    \n",
    "#     heatmap_colormap = plt.get_cmap('jet')\n",
    "#     heatmap_colored = heatmap_colormap(normalized_heatmap)\n",
    "    \n",
    "#     heatmap_colored_uint8 = (heatmap_colored[:, :, :3] * 255).astype(np.uint8)\n",
    "#     image_a_heatmap_pillow = Image.fromarray(heatmap_colored_uint8)\n",
    "#     image_b_pillow = Image.fromarray((image_b * 255).astype('uint8'))\n",
    "    \n",
    "#     result_image = Image.blend(image_b_pillow, image_a_heatmap_pillow, alpha=0.3)\n",
    "    \n",
    "#     return np.array(result_image)\n",
    "\n",
    "def get_heatmap(latent_activation, input_image, constant_color_scale=False):\n",
    "    image_a = latent_activation.cpu().numpy()\n",
    "    image_a = (image_a - image_a.min()) / (image_a.max() - image_a.min())\n",
    "\n",
    "    # input_image = (input_image - input_image.min()) / (input_image.max() - input_image.min())\n",
    "    image_b = input_image.permute(1, 2, 0).cpu().numpy()\n",
    "    \n",
    "    reshaped_image_a = np.array(Image.fromarray((image_a[0] * 255).astype('uint8')).resize((input_image.shape[-1], input_image.shape[-1])))\n",
    "    normalized_heatmap = (reshaped_image_a - np.min(reshaped_image_a)) / (np.max(reshaped_image_a) - np.min(reshaped_image_a))\n",
    "\n",
    "    if constant_color_scale:\n",
    "        normalized_heatmap = np.concatenate((normalized_heatmap, np.zeros((normalized_heatmap.shape[1], 1)), np.ones((normalized_heatmap.shape[1], 1))), axis=1)\n",
    "    \n",
    "    heatmap_colormap = plt.get_cmap('jet')\n",
    "    heatmap_colored = heatmap_colormap(normalized_heatmap)\n",
    "\n",
    "    if constant_color_scale:\n",
    "        heatmap_colored = heatmap_colored[:, :-2]\n",
    "    \n",
    "    heatmap_colored_uint8 = (heatmap_colored[:, :, :3] * 255).astype(np.uint8)\n",
    "    image_a_heatmap_pillow = Image.fromarray(heatmap_colored_uint8)\n",
    "    image_b_pillow = Image.fromarray((image_b * 255).astype('uint8'))\n",
    "    \n",
    "    result_image = Image.blend(image_b_pillow, image_a_heatmap_pillow, alpha=0.3)\n",
    "    \n",
    "    return np.array(result_image)\n",
    "\n",
    "\n",
    "def get_heatmap_uninterpolated(latent_activation, input_image):\n",
    "    image_a = latent_activation.cpu().numpy()\n",
    "    image_a = (image_a - image_a.min()) / (image_a.max() - image_a.min())\n",
    "\n",
    "    input_image = (input_image - input_image.min()) / (input_image.max() - input_image.min())\n",
    "    image_b = input_image.permute(1, 2, 0).cpu().numpy()\n",
    "    \n",
    "    reshaped_image_a = np.array(Image.fromarray((image_a[0] * 255).astype('uint8')).resize((input_image.shape[-1], input_image.shape[-1]), \\\n",
    "                                                                                          resample=Image.NEAREST ))\n",
    "    normalized_heatmap = (reshaped_image_a - np.min(reshaped_image_a)) / (np.max(reshaped_image_a) - np.min(reshaped_image_a))\n",
    "    \n",
    "    heatmap_colormap = plt.get_cmap('jet')\n",
    "    heatmap_colored = heatmap_colormap(normalized_heatmap)\n",
    "    \n",
    "    heatmap_colored_uint8 = (heatmap_colored[:, :, :3] * 255).astype(np.uint8)\n",
    "    image_a_heatmap_pillow = Image.fromarray(heatmap_colored_uint8)\n",
    "    image_b_pillow = Image.fromarray((image_b * 255).astype('uint8'))\n",
    "    \n",
    "    result_image = Image.blend(image_b_pillow, image_a_heatmap_pillow, alpha=0.3)\n",
    "    \n",
    "    return np.array(result_image)\n",
    "\n",
    "def get_bb_gaussian_threshold(latent_activation, sigma=1.0, percentile=97, extend_h=0, extend_w=0):\n",
    "    # latent_activation -> []\n",
    "    upscaled_similarity = get_upscaled_activation_uninterpolated(latent_activation, \\\n",
    "                                                                 image_size=(args.image_size, args.image_size))\n",
    "    upscaled_similarity = minmaxscale(upscaled_similarity)\n",
    "    upscaled_similarity = gaussian(upscaled_similarity, sigma=sigma)\n",
    "    upscaled_similarity = threshold_local(upscaled_similarity, block_size=15, method='mean')\n",
    "    h_min, h_max, w_min, w_max = find_top_percentile_bbox(upscaled_similarity ,percentile=97)\n",
    "    h_min = max(0, h_min-extend_h)\n",
    "    h_max = min(upscaled_similarity.shape[0], h_max+extend_h)\n",
    "    w_min = max(0, w_min-extend_w)\n",
    "    w_max = min(upscaled_similarity.shape[1], w_max+extend_w)\n",
    "    return h_min, h_max, w_min, w_max\n",
    "\n",
    "\n",
    "def minmaxscale(tensor):\n",
    "    return (tensor - tensor.min()) / (tensor.max() - tensor.min())\n",
    "\n",
    "from torch.utils.data import DataLoader, SequentialSampler\n",
    "from torch.utils.data import DataLoader\n",
    "\n",
    "def unshuffle_dataloader(dataloader):\n",
    "    if type(dataloader.dataset) == ImageFolder:\n",
    "        dataset = dataloader.dataset\n",
    "    else:\n",
    "        dataset = dataloader.dataset.dataset.dataset\n",
    "    new_dataloader = DataLoader(\n",
    "        dataset=dataset,\n",
    "        batch_size=dataloader.batch_size,\n",
    "        shuffle=False,\n",
    "        num_workers=dataloader.num_workers,\n",
    "        pin_memory=dataloader.pin_memory,\n",
    "        drop_last=dataloader.drop_last,\n",
    "        timeout=dataloader.timeout,\n",
    "        worker_init_fn=dataloader.worker_init_fn,\n",
    "        multiprocessing_context=dataloader.multiprocessing_context,\n",
    "        generator=dataloader.generator,\n",
    "        prefetch_factor=dataloader.prefetch_factor,\n",
    "        persistent_workers=dataloader.persistent_workers\n",
    "    )\n",
    "    return new_dataloader"
   ]
  },
  {
   "cell_type": "markdown",
   "metadata": {},
   "source": [
    "## Load Model"
   ]
  },
  {
   "cell_type": "code",
   "execution_count": 9,
   "metadata": {},
   "outputs": [
    {
     "name": "stdout",
     "output_type": "stream",
     "text": [
      "------------------------- No discretization -------------------------\n"
     ]
    }
   ],
   "source": [
    "args_file = open(os.path.join(run_path, 'metadata', 'args.pickle'), 'rb')\n",
    "args = pickle.load(args_file)\n",
    "\n",
    "if args.phylo_config:\n",
    "    phylo_config = OmegaConf.load(args.phylo_config)\n",
    "\n",
    "if args.phylo_config:\n",
    "    # construct the phylo tree\n",
    "    if phylo_config.phyloDistances_string == 'None':\n",
    "        if '031' in run_path: # this run uses a different phylogeny file that had an extra root node which is a mistake\n",
    "            root = construct_phylo_tree('/home/harishbabu/data/phlyogenyCUB/18Species-with-extra-root-node/1_tree-consensus-Hacket-18Species-modified_cub-names_v1.phy')\n",
    "        else:\n",
    "            root = construct_phylo_tree(phylo_config.phylogeny_path)\n",
    "        print('-'*25 + ' No discretization ' + '-'*25)\n",
    "    else:\n",
    "        root = construct_discretized_phylo_tree(phylo_config.phylogeny_path, phylo_config.phyloDistances_string)\n",
    "        print('-'*25 + ' Discretized ' + '-'*25)\n",
    "else:\n",
    "    # construct the tree (original hierarchy as described in the paper)\n",
    "    root = Node(\"root\")\n",
    "    root.add_children(['animal','vehicle','everyday_object','weapon','scuba_diver'])\n",
    "    root.add_children_to('animal',['non_primate','primate'])\n",
    "    root.add_children_to('non_primate',['African_elephant','giant_panda','lion'])\n",
    "    root.add_children_to('primate',['capuchin','gibbon','orangutan'])\n",
    "    root.add_children_to('vehicle',['ambulance','pickup','sports_car'])\n",
    "    root.add_children_to('everyday_object',['laptop','sandal','wine_bottle'])\n",
    "    root.add_children_to('weapon',['assault_rifle','rifle'])\n",
    "    # flat root\n",
    "    # root.add_children(['scuba_diver','African_elephant','giant_panda','lion','capuchin','gibbon','orangutan','ambulance','pickup','sports_car','laptop','sandal','wine_bottle','assault_rifle','rifle'])\n",
    "root.assign_all_descendents()\n",
    "\n",
    "exp_no = int(os.path.basename(run_path)[:3])\n",
    "\n",
    "if exp_no < 77:\n",
    "    if ('num_protos_per_descendant' in args) and (args.num_protos_per_descendant > 0):\n",
    "        for node in root.nodes_with_children():\n",
    "            node.set_num_protos(args.num_protos_per_descendant)\n",
    "if exp_no == 77:\n",
    "    # update num of protos per node based on num_protos_per_descendant\n",
    "    if args.num_features == 0 and args.num_protos_per_descendant == 0:\n",
    "        raise Exception('Either of num_features or num_protos_per_descendant must be greater than zero')\n",
    "    for node in root.nodes_with_children():\n",
    "        node.set_num_protos(num_protos_per_descendant=args.num_protos_per_descendant,\\\n",
    "                                                            min_protos=args.num_features)\n",
    "else:\n",
    "    if ('num_protos_per_child' in args) and ('num_protos_per_descendant' in args):\n",
    "        if args.num_features == 0 and args.num_protos_per_descendant == 0 and args.num_protos_per_child == 0:\n",
    "            raise Exception('Either of num_features or num_protos_per_descendant or num_protos_per_child must be greater than zero')\n",
    "        for node in root.nodes_with_children():\n",
    "            node.set_num_protos(num_protos_per_descendant=args.num_protos_per_descendant,\\\n",
    "                                num_protos_per_child=args.num_protos_per_child,\\\n",
    "                                min_protos=args.num_features,\\\n",
    "                                split_protos=('protopool' in args) and (args.protopool == 'n'))\n",
    "    elif ('num_protos_per_descendant' in args):\n",
    "        # update num of protos per node based on num_protos_per_descendant\n",
    "        if args.num_features == 0 and args.num_protos_per_descendant == 0 and args.num_protos_per_child == 0:\n",
    "            raise Exception('Either of num_features or num_protos_per_descendant or num_protos_per_child must be greater than zero')\n",
    "        for node in root.nodes_with_children():\n",
    "            node.set_num_protos(num_protos_per_descendant=args.num_protos_per_descendant,\\\n",
    "                                min_protos=args.num_features,\\\n",
    "                                split_protos=('protopool' in args) and (args.protopool == 'n'))"
   ]
  },
  {
   "cell_type": "code",
   "execution_count": 10,
   "metadata": {},
   "outputs": [
    {
     "data": {
      "text/plain": [
       "'/home/harishbabu/projects/PIPNet'"
      ]
     },
     "execution_count": 10,
     "metadata": {},
     "output_type": "execute_result"
    }
   ],
   "source": [
    "os.getcwd()"
   ]
  },
  {
   "cell_type": "code",
   "execution_count": 11,
   "metadata": {},
   "outputs": [
    {
     "name": "stdout",
     "output_type": "stream",
     "text": [
      "/home/harishbabu/.conda/envs/hpnet4/bin/python\n"
     ]
    }
   ],
   "source": [
    "!which python"
   ]
  },
  {
   "cell_type": "code",
   "execution_count": 12,
   "metadata": {},
   "outputs": [
    {
     "name": "stdout",
     "output_type": "stream",
     "text": [
      "1\n",
      "CUB-190-imgnet-224\n"
     ]
    }
   ],
   "source": [
    "args.batch_size = 1\n",
    "\n",
    "print(args.batch_size)\n",
    "print(args.dataset)"
   ]
  },
  {
   "cell_type": "code",
   "execution_count": null,
   "metadata": {},
   "outputs": [],
   "source": []
  },
  {
   "cell_type": "code",
   "execution_count": 13,
   "metadata": {
    "scrolled": true
   },
   "outputs": [
    {
     "name": "stdout",
     "output_type": "stream",
     "text": [
      "Dropping 0 samples from trainloader\n",
      "Dropping 0 samples from trainloader_normal\n",
      "Dropping 0 samples from trainloader_normal_augment\n",
      "Num classes (k) =  190 ['cub_001_Black_footed_Albatross', 'cub_002_Laysan_Albatross', 'cub_003_Sooty_Albatross', 'cub_004_Groove_billed_Ani', 'cub_005_Crested_Auklet'] etc.\n",
      "1 1\n"
     ]
    },
    {
     "name": "stderr",
     "output_type": "stream",
     "text": [
      "/home/harishbabu/.conda/envs/hpnet4/lib/python3.9/site-packages/torch/utils/data/dataloader.py:560: UserWarning: This DataLoader will create 8 worker processes in total. Our suggested max number of worker in current system is 1, which is smaller than what this DataLoader is going to create. Please be aware that excessive worker creation might get DataLoader running slow or even freeze, lower the worker number to avoid potential slowness/freeze if necessary.\n",
      "  warnings.warn(_create_warning_msg(\n"
     ]
    },
    {
     "name": "stdout",
     "output_type": "stream",
     "text": [
      "Number of prototypes:  20\n",
      "----------Prototypes per descendant: 0----------\n",
      "Assigned 20 protos to node root\n",
      "Assigned 20 protos to node 129+024+067\n",
      "Assigned 20 protos to node 089+046\n",
      "Assigned 20 protos to node 129+065\n",
      "Assigned 20 protos to node 024+051\n",
      "Assigned 20 protos to node 067+070\n",
      "Assigned 20 protos to node 089+090\n",
      "Assigned 20 protos to node 046+087\n",
      "Assigned 20 protos to node 129+192\n",
      "Assigned 20 protos to node 065+006\n",
      "Assigned 20 protos to node 024+031\n",
      "Assigned 20 protos to node 051+052\n",
      "Assigned 20 protos to node 067+068\n",
      "Assigned 20 protos to node 129+043\n",
      "Assigned 20 protos to node 192+081\n",
      "Assigned 20 protos to node 065+144\n",
      "Assigned 20 protos to node 006+071\n",
      "Assigned 20 protos to node 024+086\n",
      "Assigned 20 protos to node 031+004\n",
      "Assigned 20 protos to node 051+053\n",
      "Assigned 20 protos to node 067+069\n",
      "Assigned 20 protos to node 129+018\n",
      "Assigned 20 protos to node 043+078\n",
      "Assigned 20 protos to node 192+036\n",
      "Assigned 20 protos to node 081+083\n",
      "Assigned 20 protos to node 065+084\n",
      "Assigned 20 protos to node 144+147\n",
      "Assigned 20 protos to node 006+058\n",
      "Assigned 20 protos to node 071+072\n",
      "Assigned 20 protos to node 024+001\n",
      "Assigned 20 protos to node 031+032\n",
      "Assigned 20 protos to node 051+050\n",
      "Assigned 20 protos to node 129+107\n",
      "Assigned 20 protos to node 043+042\n",
      "Assigned 20 protos to node 078+038\n",
      "Assigned 20 protos to node 192+191\n",
      "Assigned 20 protos to node 036+188\n",
      "Assigned 20 protos to node 081+082\n",
      "Assigned 20 protos to node 065+061\n",
      "Assigned 20 protos to node 084+063\n",
      "Assigned 20 protos to node 144+143\n",
      "Assigned 20 protos to node 006+008\n",
      "Assigned 20 protos to node 024+100\n",
      "Assigned 20 protos to node 001+045\n",
      "Assigned 20 protos to node 031+033\n",
      "Assigned 20 protos to node 129+136\n",
      "Assigned 20 protos to node 107+151\n",
      "Assigned 20 protos to node 043+040\n",
      "Assigned 20 protos to node 078+041\n",
      "Assigned 20 protos to node 192+187\n",
      "Assigned 20 protos to node 191+189\n",
      "Assigned 20 protos to node 081+080\n",
      "Assigned 20 protos to node 082+079\n",
      "Assigned 20 protos to node 065+066\n",
      "Assigned 20 protos to node 061+064\n",
      "Assigned 20 protos to node 144+142\n",
      "Assigned 20 protos to node 006+005\n",
      "Assigned 20 protos to node 008+106\n",
      "Assigned 20 protos to node 024+023\n",
      "Assigned 20 protos to node 100+101\n",
      "Assigned 20 protos to node 001+003\n",
      "Assigned 20 protos to node 129+199\n",
      "Assigned 20 protos to node 136+085\n",
      "Assigned 20 protos to node 107+111\n",
      "Assigned 20 protos to node 151+153\n",
      "Assigned 20 protos to node 043+037\n",
      "Assigned 20 protos to node 040+102\n",
      "Assigned 20 protos to node 078+077\n",
      "Assigned 20 protos to node 192+190\n",
      "Assigned 20 protos to node 065+062\n",
      "Assigned 20 protos to node 144+145\n",
      "Assigned 20 protos to node 006+007\n",
      "Assigned 20 protos to node 024+025\n",
      "Assigned 20 protos to node 001+002\n",
      "Assigned 20 protos to node 129+118\n",
      "Assigned 20 protos to node 199+186\n",
      "Assigned 20 protos to node 136+138\n",
      "Assigned 20 protos to node 107+073\n",
      "Assigned 20 protos to node 111+112\n",
      "Assigned 20 protos to node 151+157\n",
      "Assigned 20 protos to node 153+154\n",
      "Assigned 20 protos to node 043+039\n",
      "Assigned 20 protos to node 065+059\n",
      "Assigned 20 protos to node 144+146\n",
      "Assigned 20 protos to node 129+104\n",
      "Assigned 20 protos to node 199+150\n",
      "Assigned 20 protos to node 186+185\n",
      "Assigned 20 protos to node 136+137\n",
      "Assigned 20 protos to node 107+093\n",
      "Assigned 20 protos to node 073+074\n",
      "Assigned 20 protos to node 151+156\n",
      "Assigned 20 protos to node 157+152\n",
      "Assigned 20 protos to node 153+155\n",
      "Assigned 20 protos to node 065+060\n",
      "Assigned 20 protos to node 144+141\n",
      "Assigned 20 protos to node 129+035\n",
      "Assigned 20 protos to node 199+094\n",
      "Assigned 20 protos to node 150+019\n",
      "Assigned 20 protos to node 107+030\n",
      "Assigned 20 protos to node 129+054\n",
      "Assigned 20 protos to node 035+055\n",
      "Assigned 20 protos to node 199+028\n",
      "Assigned 20 protos to node 150+149\n",
      "Assigned 20 protos to node 107+029\n",
      "Assigned 20 protos to node 129+175\n",
      "Assigned 20 protos to node 054+140\n",
      "Assigned 20 protos to node 035+048\n",
      "Assigned 20 protos to node 199+198\n",
      "Assigned 20 protos to node 150+091\n",
      "Assigned 20 protos to node 107+108\n",
      "Assigned 20 protos to node 129+011\n",
      "Assigned 20 protos to node 175+020\n",
      "Assigned 20 protos to node 054+057\n",
      "Assigned 20 protos to node 140+017\n",
      "Assigned 20 protos to node 035+056\n",
      "Assigned 20 protos to node 048+047\n",
      "Assigned 20 protos to node 199+194\n",
      "Assigned 20 protos to node 129+121\n",
      "Assigned 20 protos to node 011+013\n",
      "Assigned 20 protos to node 175+099\n",
      "Assigned 20 protos to node 054+014\n",
      "Assigned 20 protos to node 140+139\n",
      "Assigned 20 protos to node 035+034\n",
      "Assigned 20 protos to node 199+193\n",
      "Assigned 20 protos to node 129+117\n",
      "Assigned 20 protos to node 011+095\n",
      "Assigned 20 protos to node 013+088\n",
      "Assigned 20 protos to node 175+181\n",
      "Assigned 20 protos to node 054+016\n",
      "Assigned 20 protos to node 199+197\n",
      "Assigned 20 protos to node 193+195\n",
      "Assigned 20 protos to node 129+133\n",
      "Assigned 20 protos to node 117+114\n",
      "Assigned 20 protos to node 011+026\n",
      "Assigned 20 protos to node 095+096\n",
      "Assigned 20 protos to node 013+012\n",
      "Assigned 20 protos to node 175+168+173+183\n",
      "Assigned 20 protos to node 054+015\n",
      "Assigned 20 protos to node 199+196\n",
      "Assigned 20 protos to node 129+021\n",
      "Assigned 20 protos to node 133+130\n",
      "Assigned 20 protos to node 117+115\n",
      "Assigned 20 protos to node 011+049\n",
      "Assigned 20 protos to node 026+010\n",
      "Assigned 20 protos to node 095+098\n",
      "Assigned 20 protos to node 096+097\n",
      "Assigned 20 protos to node 175+162\n",
      "Assigned 20 protos to node 168+177\n",
      "Assigned 20 protos to node 173+161\n",
      "Assigned 20 protos to node 183+159\n",
      "Assigned 20 protos to node 129+128\n",
      "Assigned 20 protos to node 021+148\n",
      "Assigned 20 protos to node 133+076\n",
      "Assigned 20 protos to node 130+120\n",
      "Assigned 20 protos to node 117+116\n",
      "Assigned 20 protos to node 115+119\n",
      "Assigned 20 protos to node 011+009\n",
      "Assigned 20 protos to node 026+027\n",
      "Assigned 20 protos to node 175+167\n",
      "Assigned 20 protos to node 162+180\n",
      "Assigned 20 protos to node 168+200\n",
      "Assigned 20 protos to node 177+178\n",
      "Assigned 20 protos to node 173+179\n",
      "Assigned 20 protos to node 161+166\n",
      "Assigned 20 protos to node 183+184\n",
      "Assigned 20 protos to node 129+127\n",
      "Assigned 20 protos to node 128+131\n",
      "Assigned 20 protos to node 133+132\n",
      "Assigned 20 protos to node 175+169\n",
      "Assigned 20 protos to node 168+170\n",
      "Assigned 20 protos to node 173+172\n",
      "Assigned 20 protos to node 129+123\n",
      "Assigned 20 protos to node 128+124\n",
      "Assigned 20 protos to node 133+122\n",
      "Assigned 20 protos to node 175+165+182\n",
      "Assigned 20 protos to node 129+125\n",
      "Assigned 20 protos to node 123+113\n",
      "Assigned 20 protos to node 128+126\n",
      "Assigned 20 protos to node 175+160\n",
      "Assigned 20 protos to node 165+164+163\n",
      "Assigned 20 protos to node 175+176\n",
      "Assigned 20 protos to node 160+109\n",
      "Assigned 20 protos to node 165+158\n",
      "Assigned 20 protos to node 175+174\n",
      "Output shape:  torch.Size([1, 20, 26, 26])\n",
      "26\n"
     ]
    }
   ],
   "source": [
    "if torch.cuda.is_available():\n",
    "    device = torch.device('cuda')\n",
    "    device_ids = [torch.cuda.current_device()]\n",
    "else:\n",
    "    device = torch.device('cpu')\n",
    "    device_ids = []\n",
    "\n",
    "# args_file = open(os.path.join(run_path, 'metadata', 'args.pickle'), 'rb')\n",
    "# args = pickle.load(args_file)\n",
    "\n",
    "# ckpt_file_name = 'net_overspecific_pruned_replaced_thresh=0.5_last'\n",
    "# ckpt_file_name = 'net_trained_30'\n",
    "# ckpt_file_name = 'net_trained_10'\n",
    "# ckpt_file_name = 'net_pretrained'\n",
    "ckpt_file_name = 'net_trained_last'\n",
    "epoch = ckpt_file_name.split('_')[-1]\n",
    "\n",
    "ckpt_path = os.path.join(run_path, 'checkpoints', ckpt_file_name)\n",
    "checkpoint = torch.load(ckpt_path, map_location=device)\n",
    "\n",
    "if ckpt_file_name != 'net_trained_last':\n",
    "    print('\\n', (10*'-')+'WARNING: Not using the final trained model'+(10*'-'), '\\n')\n",
    "\n",
    "# Obtain the dataset and dataloaders\n",
    "trainloader, trainloader_pretraining, trainloader_normal, trainloader_normal_augment, projectloader, testloader, test_projectloader, classes = get_dataloaders(args, device)\n",
    "\n",
    "print(args.batch_size, trainloader.batch_size)\n",
    "\n",
    "if len(classes)<=20:\n",
    "    if args.validation_size == 0.:\n",
    "        print(\"Classes: \", testloader.dataset.class_to_idx, flush=True)\n",
    "    else:\n",
    "        print(\"Classes: \", str(classes), flush=True)\n",
    "\n",
    "# Create a convolutional network based on arguments and add 1x1 conv layer\n",
    "feature_net, add_on_layers, pool_layer, classification_layers, num_prototypes = get_network(len(classes), args, root=root)\n",
    "   \n",
    "# Create a PIP-Net\n",
    "net = PIPNet(num_classes=len(classes),\n",
    "                    num_prototypes=num_prototypes,\n",
    "                    feature_net = feature_net,\n",
    "                    args = args,\n",
    "                    add_on_layers = add_on_layers,\n",
    "                    pool_layer = pool_layer,\n",
    "                    classification_layers = classification_layers,\n",
    "                    num_parent_nodes = len(root.nodes_with_children()),\n",
    "                    root = root\n",
    "                    )\n",
    "\n",
    "# Create a PIP-Net\n",
    "if ('byol' in args) and (args.byol == 'y'):\n",
    "    from pipnet.pipnet import PIPNetBYOL\n",
    "    net = PIPNetBYOL(num_classes=len(classes),\n",
    "                        num_prototypes=num_prototypes,\n",
    "                        feature_net = feature_net,\n",
    "                        args = args,\n",
    "                        add_on_layers = add_on_layers,\n",
    "                        pool_layer = pool_layer,\n",
    "                        classification_layers = classification_layers,\n",
    "                        num_parent_nodes = len(root.nodes_with_children()),\n",
    "                        root = root\n",
    "                        )\n",
    "else:\n",
    "    net = PIPNet(num_classes=len(classes),\n",
    "                    num_prototypes=num_prototypes,\n",
    "                    feature_net = feature_net,\n",
    "                    args = args,\n",
    "                    add_on_layers = add_on_layers,\n",
    "                    pool_layer = pool_layer,\n",
    "                    classification_layers = classification_layers,\n",
    "                    num_parent_nodes = len(root.nodes_with_children()),\n",
    "                    root = root\n",
    "                    )\n",
    "        \n",
    "net = net.to(device=device)\n",
    "net = nn.DataParallel(net, device_ids = device_ids)    \n",
    "net.load_state_dict(checkpoint['model_state_dict'],strict=True)\n",
    "# print(net.eval())\n",
    "criterion = nn.NLLLoss(reduction='mean').to(device)\n",
    "\n",
    "# Forward one batch through the backbone to get the latent output size\n",
    "with torch.no_grad():\n",
    "    xs1, _, _ = next(iter(trainloader))\n",
    "    xs1 = xs1.to(device)\n",
    "    _, proto_features, _, _ = net(xs1)\n",
    "    wshape = proto_features['root'].shape[-1]\n",
    "    args.wshape = wshape #needed for calculating image patch size\n",
    "    print(\"Output shape: \", proto_features['root'].shape, flush=True)\n",
    "    \n",
    "print(args.wshape)"
   ]
  },
  {
   "cell_type": "code",
   "execution_count": 14,
   "metadata": {},
   "outputs": [
    {
     "data": {
      "text/plain": [
       "Parameter containing:\n",
       "tensor([[ 0.0000,  3.2064,  0.0000,  3.8520,  0.7683,  0.0000,  5.0439,  0.0000,\n",
       "          0.0000,  0.0000,  0.0000,  0.0000,  0.0000,  0.0000,  0.0000,  0.0000,\n",
       "          0.0000,  0.0000,  0.0000,  0.0000],\n",
       "        [ 0.0000,  0.0000,  0.0000,  0.0000,  0.0000,  0.0000,  0.0000,  0.0000,\n",
       "          0.0000,  0.0000,  0.2300,  0.0658,  0.0000,  0.0000,  0.0000,  0.0000,\n",
       "          0.5068,  0.0384,  0.0000, 12.2687]], device='cuda:0',\n",
       "       requires_grad=True)"
      ]
     },
     "execution_count": 14,
     "metadata": {},
     "output_type": "execute_result"
    }
   ],
   "source": [
    "net.module._root_classification.weight"
   ]
  },
  {
   "cell_type": "markdown",
   "metadata": {},
   "source": [
    "# Find subtree root - only for finding does not affect the run, use the value found here in the visualization block"
   ]
  },
  {
   "cell_type": "code",
   "execution_count": 14,
   "metadata": {},
   "outputs": [
    {
     "name": "stdout",
     "output_type": "stream",
     "text": [
      "129+043\n"
     ]
    }
   ],
   "source": [
    "# leaf_descendents = set(['cub_067_Anna_Hummingbird', 'cub_070_Green_Violetear', 'cub_072_Pomarine_Jaeger'])\n",
    "# leaf_descendents = set(['cub_072_Pomarine_Jaeger', 'cub_083_White_breasted_Kingfisher'])\n",
    "leaf_descendents = set(['cub_072_Pomarine_Jaeger', 'cub_147_Least_Tern'])\n",
    "leaf_descendents = set(['cub_083_White_breasted_Kingfisher', 'cub_038_Great_Crested_Flycatcher'])\n",
    "leaf_descendents = set(['cub_018_Spotted_Catbird', 'cub_038_Great_Crested_Flycatcher'])\n",
    "\n",
    "subtree_root = root\n",
    "for node in root.nodes_with_children():\n",
    "    if leaf_descendents.issubset(node.leaf_descendents) and (len(node.leaf_descendents) < len(subtree_root.leaf_descendents)):\n",
    "        subtree_root = node\n",
    "\n",
    "# root.get_node('053+004')\n",
    "\n",
    "print(subtree_root.name)\n",
    "\n",
    "# 18 species subset 024+051"
   ]
  },
  {
   "cell_type": "markdown",
   "metadata": {
    "jp-MarkdownHeadingCollapsed": true
   },
   "source": [
    "# Proto activations on leaf descendents - topk images using  NAIVE-HPIPNET with HEATMAP"
   ]
  },
  {
   "cell_type": "code",
   "execution_count": 14,
   "metadata": {
    "scrolled": true
   },
   "outputs": [
    {
     "name": "stdout",
     "output_type": "stream",
     "text": [
      "Skipping node root\n",
      "Skipping node 129+024+067\n",
      "Skipping node 089+046\n",
      "Skipping node 129+065\n",
      "Skipping node 024+051\n",
      "Skipping node 067+070\n",
      "Skipping node 089+090\n",
      "Skipping node 046+087\n"
     ]
    },
    {
     "name": "stderr",
     "output_type": "stream",
     "text": [
      "Collecting topk: 4116it [02:56, 23.27it/s]\n"
     ]
    },
    {
     "name": "stdout",
     "output_type": "stream",
     "text": [
      "Node 129+192\n",
      "Skipping 129+043\n",
      "\t Child: 192+081\n",
      "\t\tProto:19 036:(0.1063) 079:(0.3009) 080:(0.3149) 081:(0.3018) 082:(0.3851) 083:(0.315) 187:(0.136) 188:(0.1453) 189:(0.1149) 190:(0.3018) 191:(0.187) 192:(0.189) \n",
      "\t\tProto:17 036:(0.0504) 079:(0.187) 080:(0.1817) 081:(0.1395) 082:(0.1947) 083:(0.4346) 187:(0.1182) 188:(0.1301) 189:(0.0795) 190:(0.147) 191:(0.115) 192:(0.1938) \n",
      "\t\tProto:11 036:(0.9067) 079:(0.9154) 080:(0.9002) 081:(0.6546) 082:(0.923) 083:(0.564) 187:(0.5684) 188:(0.8395) 189:(0.9648) 190:(0.9478) 191:(0.7516) 192:(0.7791) \n",
      "\t\tProto:14 036:(0.0652) 079:(0.5519) 080:(0.4787) 081:(0.4297) 082:(0.7067) 083:(0.8716) 187:(0.6352) 188:(0.5102) 189:(0.3007) 190:(0.0792) 191:(0.4077) 192:(0.5158) \n",
      "Skipping node 065+006\n",
      "Skipping node 024+031\n",
      "Skipping node 051+052\n",
      "Skipping node 067+068\n"
     ]
    },
    {
     "name": "stderr",
     "output_type": "stream",
     "text": [
      "Collecting topk: 3767it [02:41, 23.26it/s]\n"
     ]
    },
    {
     "name": "stdout",
     "output_type": "stream",
     "text": [
      "Node 129+043\n",
      "Skipping 129+018\n",
      "Skipping 043+078\n"
     ]
    },
    {
     "name": "stderr",
     "output_type": "stream",
     "text": [
      "Collecting topk: 349it [00:19, 17.64it/s]\n"
     ]
    },
    {
     "name": "stdout",
     "output_type": "stream",
     "text": [
      "Node 192+081\n",
      "\t Child: 192+036\n",
      "\t\tProto:0 036:(0.9996) 187:(0.9842) 188:(0.9973) 189:(0.9989) 190:(0.945) 191:(0.9988) 192:(0.9732) \n",
      "\t\tProto:9 036:(0.9995) 187:(0.9991) 188:(0.9967) 189:(1.0) 190:(0.9987) 191:(0.9999) 192:(0.9968) \n",
      "\t\tProto:2 036:(0.9999) 187:(1.0) 188:(1.0) 189:(0.9992) 190:(0.9999) 191:(0.9999) 192:(1.0) \n",
      "\t\tProto:7 036:(0.9999) 187:(0.9973) 188:(0.9926) 189:(0.9998) 190:(0.9978) 191:(0.9989) 192:(0.9985) \n",
      "\t Child: 081+083\n",
      "\t\tProto:11 079:(0.9983) 080:(0.9995) 081:(0.9991) 082:(0.9992) 083:(0.9942) \n",
      "\t\tProto:12 079:(0.9899) 080:(0.9958) 081:(0.9921) 082:(0.9829) 083:(0.9642) \n",
      "\t\tProto:14 079:(0.9993) 080:(0.9998) 081:(0.999) 082:(0.999) 083:(0.9964) \n",
      "\t\tProto:15 079:(0.9999) 080:(1.0) 081:(1.0) 082:(0.9999) 083:(1.0) \n",
      "\t\tProto:16 079:(1.0) 080:(1.0) 081:(0.9987) 082:(1.0) 083:(0.9998) \n",
      "Skipping node 065+144\n",
      "Skipping node 006+071\n",
      "Skipping node 024+086\n",
      "Skipping node 031+004\n",
      "Skipping node 051+053\n",
      "Skipping node 067+069\n",
      "Skipping node 129+018\n",
      "Skipping node 043+078\n"
     ]
    },
    {
     "name": "stderr",
     "output_type": "stream",
     "text": [
      "Collecting topk: 199it [00:13, 14.56it/s]\n"
     ]
    },
    {
     "name": "stdout",
     "output_type": "stream",
     "text": [
      "Node 192+036\n",
      "\t Child: 192+191\n",
      "\t\tProto:9 187:(0.9948) 189:(0.9933) 190:(0.9925) 191:(0.9984) 192:(0.9939) \n",
      "\t\tProto:2 187:(1.0) 189:(0.9995) 190:(0.9993) 191:(1.0) 192:(0.9998) \n",
      "\t Child: 036+188\n",
      "\t\tProto:10 036:(0.999) 188:(0.9996) \n",
      "\t\tProto:14 036:(1.0) 188:(0.9996) \n"
     ]
    },
    {
     "name": "stderr",
     "output_type": "stream",
     "text": [
      "Collecting topk: 150it [00:11, 13.39it/s]  \n"
     ]
    },
    {
     "name": "stdout",
     "output_type": "stream",
     "text": [
      "Node 081+083\n",
      "\t Child: 081+082\n",
      "\t\tProto:2 079:(0.9999) 080:(1.0) 081:(0.9999) 082:(0.9999) \n",
      "\t\tProto:4 079:(1.0) 080:(0.9999) 081:(0.9999) 082:(1.0) \n",
      "\t Child: cub_083_White_breasted_Kingfisher\n",
      "\t\tProto:12 083:(0.9995) \n",
      "\t\tProto:15 083:(1.0) \n",
      "Skipping node 065+084\n",
      "Skipping node 144+147\n",
      "Skipping node 006+058\n",
      "Skipping node 071+072\n",
      "Skipping node 024+001\n",
      "Skipping node 031+032\n",
      "Skipping node 051+050\n",
      "Skipping node 129+107\n",
      "Skipping node 043+042\n",
      "Skipping node 078+038\n"
     ]
    },
    {
     "name": "stderr",
     "output_type": "stream",
     "text": [
      "Collecting topk: 139it [00:11, 12.61it/s]\n"
     ]
    },
    {
     "name": "stdout",
     "output_type": "stream",
     "text": [
      "Node 192+191\n",
      "\t Child: 192+187\n",
      "\t\tProto:8 187:(0.9989) 190:(0.9992) 192:(0.9998) \n",
      "\t\tProto:5 187:(1.0) 190:(1.0) 192:(1.0) \n",
      "\t\tProto:6 187:(1.0) 190:(1.0) 192:(1.0) \n",
      "\t Child: 191+189\n",
      "\t\tProto:17 189:(0.9998) 191:(0.9999) \n",
      "\t\tProto:13 189:(1.0) 191:(1.0) \n",
      "\t\tProto:14 189:(1.0) 191:(1.0) \n"
     ]
    },
    {
     "name": "stderr",
     "output_type": "stream",
     "text": [
      "Collecting topk: 100% 60/60 [00:07<00:00,  7.78it/s]\n"
     ]
    },
    {
     "name": "stdout",
     "output_type": "stream",
     "text": [
      "Node 036+188\n",
      "\t Child: cub_036_Northern_Flicker\n",
      "\t\tProto:2 036:(1.0) \n",
      "\t Child: cub_188_Pileated_Woodpecker\n",
      "\t\tProto:11 188:(1.0) \n",
      "\t\tProto:12 188:(1.0) \n"
     ]
    },
    {
     "name": "stderr",
     "output_type": "stream",
     "text": [
      "Collecting topk: 120it [00:10, 11.90it/s]\n"
     ]
    },
    {
     "name": "stdout",
     "output_type": "stream",
     "text": [
      "Node 081+082\n",
      "\t Child: 081+080\n",
      "\t\tProto:0 080:(1.0) 081:(1.0) \n",
      "\t Child: 082+079\n",
      "\t\tProto:12 079:(1.0) 082:(0.9994) \n",
      "\t\tProto:13 079:(1.0) 082:(0.9997) \n",
      "Skipping node 065+061\n",
      "Skipping node 084+063\n",
      "Skipping node 144+143\n",
      "Skipping node 006+008\n",
      "Skipping node 024+100\n",
      "Skipping node 001+045\n",
      "Skipping node 031+033\n",
      "Skipping node 129+136\n",
      "Skipping node 107+151\n",
      "Skipping node 043+040\n",
      "Skipping node 078+041\n"
     ]
    },
    {
     "name": "stderr",
     "output_type": "stream",
     "text": [
      "Collecting topk: 79it [00:08,  9.40it/s]   \n"
     ]
    },
    {
     "name": "stdout",
     "output_type": "stream",
     "text": [
      "Node 192+187\n",
      "\t Child: 192+190\n",
      "\t\tProto:2 190:(1.0) 192:(1.0) \n",
      "\t Child: cub_187_American_Three_toed_Woodpecker\n",
      "\t\tProto:13 187:(1.0) \n"
     ]
    },
    {
     "name": "stderr",
     "output_type": "stream",
     "text": [
      "Collecting topk: 100% 60/60 [00:07<00:00,  7.92it/s]\n"
     ]
    },
    {
     "name": "stdout",
     "output_type": "stream",
     "text": [
      "Node 191+189\n",
      "\t Child: cub_191_Red_headed_Woodpecker\n",
      "\t\tProto:0 191:(1.0) \n",
      "\t\tProto:5 191:(1.0) \n",
      "\t Child: cub_189_Red_bellied_Woodpecker\n",
      "\t\tProto:19 189:(1.0) \n",
      "\t\tProto:12 189:(1.0) \n"
     ]
    },
    {
     "name": "stderr",
     "output_type": "stream",
     "text": [
      "Collecting topk: 100% 60/60 [00:07<00:00,  8.07it/s]\n"
     ]
    },
    {
     "name": "stdout",
     "output_type": "stream",
     "text": [
      "Node 081+080\n",
      "\t Child: cub_081_Pied_Kingfisher\n",
      "\t\tProto:7 081:(1.0) \n",
      "\t Child: cub_080_Green_Kingfisher\n",
      "\t\tProto:17 080:(1.0) \n"
     ]
    },
    {
     "name": "stderr",
     "output_type": "stream",
     "text": [
      "Collecting topk: 100% 60/60 [00:07<00:00,  7.57it/s]\n"
     ]
    },
    {
     "name": "stdout",
     "output_type": "stream",
     "text": [
      "Node 082+079\n",
      "\t Child: cub_082_Ringed_Kingfisher\n",
      "\t\tProto:6 082:(1.0) \n",
      "\t Child: cub_079_Belted_Kingfisher\n",
      "\t\tProto:12 079:(1.0) \n",
      "Skipping node 065+066\n",
      "Skipping node 061+064\n",
      "Skipping node 144+142\n",
      "Skipping node 006+005\n",
      "Skipping node 008+106\n",
      "Skipping node 024+023\n",
      "Skipping node 100+101\n",
      "Skipping node 001+003\n",
      "Skipping node 129+199\n",
      "Skipping node 136+085\n",
      "Skipping node 107+111\n",
      "Skipping node 151+153\n",
      "Skipping node 043+037\n",
      "Skipping node 040+102\n",
      "Skipping node 078+077\n"
     ]
    },
    {
     "name": "stderr",
     "output_type": "stream",
     "text": [
      "Collecting topk: 100% 59/59 [00:07<00:00,  7.72it/s]\n"
     ]
    },
    {
     "name": "stdout",
     "output_type": "stream",
     "text": [
      "Node 192+190\n",
      "\t Child: cub_192_Downy_Woodpecker\n",
      "\t\tProto:4 192:(1.0) \n",
      "\t Child: cub_190_Red_cockaded_Woodpecker\n",
      "\t\tProto:10 190:(1.0) \n",
      "\t\tProto:18 190:(1.0) \n",
      "Skipping node 065+062\n",
      "Skipping node 144+145\n",
      "Skipping node 006+007\n",
      "Skipping node 024+025\n",
      "Skipping node 001+002\n",
      "Skipping node 129+118\n",
      "Skipping node 199+186\n",
      "Skipping node 136+138\n",
      "Skipping node 107+073\n",
      "Skipping node 111+112\n",
      "Skipping node 151+157\n",
      "Skipping node 153+154\n",
      "Skipping node 043+039\n",
      "Skipping node 065+059\n",
      "Skipping node 144+146\n",
      "Skipping node 129+104\n",
      "Skipping node 199+150\n",
      "Skipping node 186+185\n",
      "Skipping node 136+137\n",
      "Skipping node 107+093\n",
      "Skipping node 073+074\n",
      "Skipping node 151+156\n",
      "Skipping node 157+152\n",
      "Skipping node 153+155\n",
      "Skipping node 065+060\n",
      "Skipping node 144+141\n",
      "Skipping node 129+035\n",
      "Skipping node 199+094\n",
      "Skipping node 150+019\n",
      "Skipping node 107+030\n",
      "Skipping node 129+054\n",
      "Skipping node 035+055\n",
      "Skipping node 199+028\n",
      "Skipping node 150+149\n",
      "Skipping node 107+029\n",
      "Skipping node 129+175\n",
      "Skipping node 054+140\n",
      "Skipping node 035+048\n",
      "Skipping node 199+198\n",
      "Skipping node 150+091\n",
      "Skipping node 107+108\n",
      "Skipping node 129+011\n",
      "Skipping node 175+020\n",
      "Skipping node 054+057\n",
      "Skipping node 140+017\n",
      "Skipping node 035+056\n",
      "Skipping node 048+047\n",
      "Skipping node 199+194\n",
      "Skipping node 129+121\n",
      "Skipping node 011+013\n",
      "Skipping node 175+099\n",
      "Skipping node 054+014\n",
      "Skipping node 140+139\n",
      "Skipping node 035+034\n",
      "Skipping node 199+193\n",
      "Skipping node 129+117\n",
      "Skipping node 011+095\n",
      "Skipping node 013+088\n",
      "Skipping node 175+181\n",
      "Skipping node 054+016\n",
      "Skipping node 199+197\n",
      "Skipping node 193+195\n",
      "Skipping node 129+133\n",
      "Skipping node 117+114\n",
      "Skipping node 011+026\n",
      "Skipping node 095+096\n",
      "Skipping node 013+012\n",
      "Skipping node 175+168+173+183\n",
      "Skipping node 054+015\n",
      "Skipping node 199+196\n",
      "Skipping node 129+021\n",
      "Skipping node 133+130\n",
      "Skipping node 117+115\n",
      "Skipping node 011+049\n",
      "Skipping node 026+010\n",
      "Skipping node 095+098\n",
      "Skipping node 096+097\n",
      "Skipping node 175+162\n",
      "Skipping node 168+177\n",
      "Skipping node 173+161\n",
      "Skipping node 183+159\n",
      "Skipping node 129+128\n",
      "Skipping node 021+148\n",
      "Skipping node 133+076\n",
      "Skipping node 130+120\n",
      "Skipping node 117+116\n",
      "Skipping node 115+119\n",
      "Skipping node 011+009\n",
      "Skipping node 026+027\n",
      "Skipping node 175+167\n",
      "Skipping node 162+180\n",
      "Skipping node 168+200\n",
      "Skipping node 177+178\n",
      "Skipping node 173+179\n",
      "Skipping node 161+166\n",
      "Skipping node 183+184\n",
      "Skipping node 129+127\n",
      "Skipping node 128+131\n",
      "Skipping node 133+132\n",
      "Skipping node 175+169\n",
      "Skipping node 168+170\n",
      "Skipping node 173+172\n",
      "Skipping node 129+123\n",
      "Skipping node 128+124\n",
      "Skipping node 133+122\n",
      "Skipping node 175+165+182\n",
      "Skipping node 129+125\n",
      "Skipping node 123+113\n",
      "Skipping node 128+126\n",
      "Skipping node 175+160\n",
      "Skipping node 165+164+163\n",
      "Skipping node 175+176\n",
      "Skipping node 160+109\n",
      "Skipping node 165+158\n",
      "Skipping node 175+174\n",
      "Done !!!\n"
     ]
    }
   ],
   "source": [
    "# Proto activations on leaf descendents - topk images\n",
    "\n",
    "def get_heatmap(latent_activation, input_image, constant_color_scale=False):\n",
    "    image_a = latent_activation.cpu().numpy()\n",
    "    # image_a = (image_a - image_a.min()) / (image_a.max() - image_a.min())\n",
    "\n",
    "    # input_image = (input_image - input_image.min()) / (input_image.max() - input_image.min())\n",
    "    image_b = input_image.permute(1, 2, 0).cpu().numpy()\n",
    "    \n",
    "    reshaped_image_a = np.array(Image.fromarray((image_a[0] * 255).astype('uint8')).resize((input_image.shape[-1], input_image.shape[-1])))\n",
    "\n",
    "    if constant_color_scale:\n",
    "        reshaped_image_a = np.concatenate((reshaped_image_a, np.zeros((reshaped_image_a.shape[1], 1)), np.ones((reshaped_image_a.shape[1], 1))*255), axis=1)\n",
    "    \n",
    "    normalized_heatmap = (reshaped_image_a - np.min(reshaped_image_a)) / (np.max(reshaped_image_a) - np.min(reshaped_image_a))\n",
    "\n",
    "    heatmap_colormap = plt.get_cmap('jet')\n",
    "    heatmap_colored = heatmap_colormap(normalized_heatmap)\n",
    "\n",
    "    if constant_color_scale:\n",
    "        heatmap_colored = heatmap_colored[:, :-2]\n",
    "    \n",
    "    heatmap_colored_uint8 = (heatmap_colored[:, :, :3] * 255).astype(np.uint8)\n",
    "    image_a_heatmap_pillow = Image.fromarray(heatmap_colored_uint8)\n",
    "    image_b_pillow = Image.fromarray((image_b * 255).astype('uint8'))\n",
    "    \n",
    "    result_image = Image.blend(image_b_pillow, image_a_heatmap_pillow, alpha=0.3)\n",
    "    \n",
    "    return np.array(result_image)\n",
    "\n",
    "def get_heatmap_uninterpolated(latent_activation, input_image):\n",
    "    image_a = latent_activation.cpu().numpy()\n",
    "    image_a = (image_a - image_a.min()) / (image_a.max() - image_a.min())\n",
    "\n",
    "    input_image = (input_image - input_image.min()) / (input_image.max() - input_image.min())\n",
    "    image_b = input_image.permute(1, 2, 0).cpu().numpy()\n",
    "    \n",
    "    reshaped_image_a = np.array(Image.fromarray((image_a[0] * 255).astype('uint8')).resize((input_image.shape[-1], input_image.shape[-1]), \\\n",
    "                                                                                          resample=Image.NEAREST ))\n",
    "    normalized_heatmap = (reshaped_image_a - np.min(reshaped_image_a)) / (np.max(reshaped_image_a) - np.min(reshaped_image_a))\n",
    "    \n",
    "    heatmap_colormap = plt.get_cmap('jet')\n",
    "    heatmap_colored = heatmap_colormap(normalized_heatmap)\n",
    "    \n",
    "    heatmap_colored_uint8 = (heatmap_colored[:, :, :3] * 255).astype(np.uint8)\n",
    "    image_a_heatmap_pillow = Image.fromarray(heatmap_colored_uint8)\n",
    "    image_b_pillow = Image.fromarray((image_b * 255).astype('uint8'))\n",
    "    \n",
    "    result_image = Image.blend(image_b_pillow, image_a_heatmap_pillow, alpha=0.3)\n",
    "    \n",
    "    return np.array(result_image)\n",
    "\n",
    "from util.data import ModifiedLabelLoader\n",
    "from collections import defaultdict\n",
    "import heapq\n",
    "import pdb\n",
    "from util.vis_pipnet import get_img_coordinates\n",
    "import torchvision.transforms as transforms\n",
    "from PIL import ImageFont, Image, ImageDraw as D\n",
    "import torchvision\n",
    "from datetime import datetime\n",
    "txt_file = open(os.path.join(run_path, \"num_proto_details_\"+datetime.now().strftime(\"%m:%d:%H:%M:%S\")+\".txt\"), \"a\")\n",
    "txt_file.write('\\n')\n",
    "\n",
    "vizloader_name = 'testloader' # projectloader\n",
    "find_non_descendants = False # True, False # param\n",
    "topk = 3\n",
    "save_images = True # True, False\n",
    "font = ImageFont.truetype(\"arial.ttf\", 50)\n",
    "save_activation_as_npy_path = None # 'activation_as_npy'\n",
    "if (save_activation_as_npy_path is not None):\n",
    "    save_activation_as_npy_path = '_'.join(['activation_as_npy', vizloader_name])  # activation_as_npy, added for NUMPY SAVING\n",
    "if find_non_descendants and (save_activation_as_npy_path is not None):\n",
    "    save_activation_as_npy_path = save_activation_as_npy_path + '_non_desc'\n",
    "plot_overspecificity_score = True\n",
    "subtree_root = root.get_node('024+051')\n",
    "\n",
    "from datetime import datetime\n",
    "txt_file = open(os.path.join(run_path, \"num_proto_details_\"+datetime.now().strftime(\"%m:%d:%H:%M:%S\")+\".txt\"), \"a\")\n",
    "txt_file.write('\\n')\n",
    "\n",
    "def write_num_proto_details(proto_mean_activations, node_name, net, threshold, txt_file, args):\n",
    "    \n",
    "    rand_input = torch.randn((1, 3, args.image_size, args.image_size))\n",
    "    with torch.no_grad():\n",
    "        *_, pooled, out = net(rand_input)\n",
    "    num_protos = pooled[node_name].shape[1]\n",
    "    used_protos = len(proto_mean_activations)\n",
    "    non_overspecific = 0\n",
    "    for p in proto_mean_activations:\n",
    "        logstr = '\\t'*2 + f'Proto:{p} '\n",
    "        protos_mean_for_all_leaf_descedants = []\n",
    "        for leaf_descendent in proto_mean_activations[p]:\n",
    "            mean_activation = round(np.mean([activation for activation, *_ in proto_mean_activations[p][leaf_descendent]]), 4)\n",
    "            protos_mean_for_all_leaf_descedants.append(mean_activation)\n",
    "            \n",
    "        if all([(mean_activation>0.2) for mean_activation in protos_mean_for_all_leaf_descedants]):\n",
    "            non_overspecific += 1\n",
    "            \n",
    "    txt_file.write(f\"Node:{node_name},Total:{num_protos},Used:{used_protos},Good:{non_overspecific},threshold={threshold}\\n\")\n",
    "\n",
    "\n",
    "def get_heap():\n",
    "    list_ = []\n",
    "    heapq.heapify(list_)\n",
    "    return list_\n",
    "\n",
    "patchsize, skip = get_patch_size(args)\n",
    "\n",
    "\n",
    "vizloader_dict = {'trainloader': trainloader,\n",
    "                 'projectloader': projectloader,\n",
    "                 'testloader': testloader,\n",
    "                 'test_projectloader': test_projectloader}\n",
    "vizloader_dict[vizloader_name] = unshuffle_dataloader(vizloader_dict[vizloader_name])\n",
    "\n",
    "\n",
    "if type(vizloader_dict[vizloader_name].dataset) == ImageFolder:\n",
    "    name2label = vizloader_dict[vizloader_name].dataset.class_to_idx\n",
    "    label2name = {label:name for name, label in name2label.items()}\n",
    "else:\n",
    "    name2label = vizloader_dict[vizloader_name].dataset.dataset.dataset.class_to_idx\n",
    "    label2name = {label:name for name, label in name2label.items()}\n",
    "    \n",
    "overspecificity_score_and_proto_mask = []\n",
    "\n",
    "for node in root.nodes_with_children():\n",
    "#     if node.name == 'root':\n",
    "#         continue\n",
    "#     non_leaf_children_names = [child.name for child in node.children if not child.is_leaf()]\n",
    "#     if len(non_leaf_children_names) == 0: # if all the children are leaf nodes then skip this node\n",
    "#         continue\n",
    "\n",
    "    if (node.name not in subtree_root.descendents) and (node.name != subtree_root.name):\n",
    "        print('Skipping node', node.name)\n",
    "        continue\n",
    "\n",
    "    if node.name in root.get_node('129+043').descendents:\n",
    "        print('Skipping node', node.name)\n",
    "        continue\n",
    "        \n",
    "    name2label = vizloader_dict[vizloader_name].dataset.class_to_idx\n",
    "    label2name = {label:name for name, label in name2label.items()}\n",
    "    modifiedLabelLoader = ModifiedLabelLoader(vizloader_dict[vizloader_name], node)\n",
    "    coarse_label2name = modifiedLabelLoader.modifiedlabel2name\n",
    "    node_label_to_children = {label: name for name, label in node.children_to_labels.items()}\n",
    "    \n",
    "    imgs = modifiedLabelLoader.filtered_imgs\n",
    "\n",
    "    img_iter = tqdm(enumerate(modifiedLabelLoader),\n",
    "                    total=len(modifiedLabelLoader),\n",
    "                    mininterval=50.,\n",
    "                    desc='Collecting topk',\n",
    "                    ncols=0)\n",
    "\n",
    "    classification_weights = getattr(net.module, '_'+node.name+'_classification').weight\n",
    "    \n",
    "    # maps proto_number -> grand_child_name (or descendant leaf name) -> list of top-k activations\n",
    "    proto_mean_activations = defaultdict(lambda: defaultdict(get_heap))\n",
    "\n",
    "    # maps class names to the prototypes that belong to that\n",
    "    class_and_prototypes = defaultdict(set)\n",
    "\n",
    "    for i, (xs, orig_y, ys) in img_iter:\n",
    "#         if coarse_label2name[ys.item()] not in non_leaf_children_names:\n",
    "#             continue\n",
    "\n",
    "        xs, ys = xs.to(device), ys.to(device)\n",
    "\n",
    "        with torch.no_grad():\n",
    "            model_output = net(xs, inference=False)\n",
    "            if len(model_output) == 3:\n",
    "                softmaxes, pooled, _ = model_output\n",
    "            elif len(model_output) == 4:\n",
    "                _, softmaxes, pooled, _ = model_output\n",
    "            pooled = pooled[node.name].squeeze(0) \n",
    "            softmaxes = softmaxes[node.name]#.squeeze(0)\n",
    "\n",
    "            for p in range(pooled.shape[0]): # pooled.shape -> [768] (== num of prototypes)\n",
    "                c_weight = torch.max(classification_weights[:,p]) # classification_weights[:,p].shape -> [200] (== num of classes)\n",
    "                relevant_proto_classes = torch.nonzero(classification_weights[:, p] > 1e-3)\n",
    "                relevant_proto_class_names = [node_label_to_children[class_idx.item()] for class_idx in relevant_proto_classes]\n",
    "                \n",
    "                # Take the max per prototype.                             \n",
    "                max_per_prototype, max_idx_per_prototype = torch.max(softmaxes, dim=0)\n",
    "                max_per_prototype_h, max_idx_per_prototype_h = torch.max(max_per_prototype, dim=1)\n",
    "                max_per_prototype_w, max_idx_per_prototype_w = torch.max(max_per_prototype_h, dim=1) #shape (num_prototypes)\n",
    "                \n",
    "                h_idx = max_idx_per_prototype_h[p, max_idx_per_prototype_w[p]]\n",
    "                w_idx = max_idx_per_prototype_w[p]\n",
    "\n",
    "                if len(relevant_proto_class_names) == 0:\n",
    "                    continue\n",
    "                \n",
    "#                 if (len(relevant_proto_class_names) == 1) and (relevant_proto_class_names[0] not in non_leaf_children_names):\n",
    "#                     continue\n",
    "                \n",
    "                h_coor_min, h_coor_max, w_coor_min, w_coor_max = get_img_coordinates(args.image_size, softmaxes.shape, patchsize, skip, h_idx, w_idx)\n",
    "                latent_activation = softmaxes[:, p, :, :]\n",
    "                \n",
    "                if not find_non_descendants:\n",
    "                    if (coarse_label2name[ys.item()] in relevant_proto_class_names):\n",
    "                        child_node = root.get_node(coarse_label2name[ys.item()])\n",
    "                        leaf_descendent = label2name[orig_y.item()][4:7]\n",
    "                        img_to_open = imgs[i][0] # it is a tuple of (path to image, lable)\n",
    "                        if topk and (len(proto_mean_activations[p][leaf_descendent]) >= topk):\n",
    "                            heapq.heappushpop(proto_mean_activations[p][leaf_descendent],\\\n",
    "                                              (pooled[p].item(), img_to_open,\\\n",
    "                                               (h_coor_min, h_coor_max, w_coor_min, w_coor_max), latent_activation))\n",
    "                        else:\n",
    "                            heapq.heappush(proto_mean_activations[p][leaf_descendent],\\\n",
    "                                           (pooled[p].item(), img_to_open,\\\n",
    "                                            (h_coor_min, h_coor_max, w_coor_min, w_coor_max), latent_activation))\n",
    "                else:\n",
    "                    if (coarse_label2name[ys.item()] not in relevant_proto_class_names):\n",
    "                        child_node = root.get_node(coarse_label2name[ys.item()])\n",
    "                        leaf_descendent = label2name[orig_y.item()][4:7]\n",
    "                        img_to_open = imgs[i][0] # it is a tuple of (path to image, lable)\n",
    "                        if topk and (len(proto_mean_activations[p][leaf_descendent]) >= topk):\n",
    "                            heapq.heappushpop(proto_mean_activations[p][leaf_descendent],\\\n",
    "                                              (pooled[p].item(), img_to_open,\\\n",
    "                                               (h_coor_min, h_coor_max, w_coor_min, w_coor_max), latent_activation))\n",
    "                        else:\n",
    "                            heapq.heappush(proto_mean_activations[p][leaf_descendent],\\\n",
    "                                           (pooled[p].item(), img_to_open,\\\n",
    "                                            (h_coor_min, h_coor_max, w_coor_min, w_coor_max), latent_activation))\n",
    "\n",
    "                class_and_prototypes[', '.join(relevant_proto_class_names)].add(p)\n",
    "\n",
    "    # write_num_proto_details(proto_mean_activations, node.name, net, threshold=0.2, txt_file=txt_file, args=args)\n",
    "\n",
    "    if plot_overspecificity_score:\n",
    "        for child_classname in class_and_prototypes:\n",
    "            for p in class_and_prototypes[child_classname]:\n",
    "                mean_activation_of_every_leaf = []\n",
    "                for leaf_descendent in proto_mean_activations[p]:\n",
    "                    mean_activation = round(np.mean([activation for activation, *_ in proto_mean_activations[p][leaf_descendent]]), 4)\n",
    "                    mean_activation_of_every_leaf.append(mean_activation)\n",
    "\n",
    "                overspecificity_score = 1\n",
    "                for mean_act in mean_activation_of_every_leaf:\n",
    "                    overspecificity_score *= mean_act * 1.0\n",
    "                proto_presence = getattr(net.module, '_'+node.name+'_proto_presence')\n",
    "                proto_presence = F.gumbel_softmax(proto_presence, tau=0.5, hard=True, dim=-1)\n",
    "                proto_mask = proto_presence[p, 1].item()\n",
    "                overspecificity_score_and_proto_mask.append((overspecificity_score, len(mean_activation_of_every_leaf), proto_mask))\n",
    "\n",
    "    print('Node', node.name)\n",
    "    for child_classname in class_and_prototypes:\n",
    "\n",
    "        if (child_classname in root.get_node('129+043').descendents) or (child_classname == '129+043'):\n",
    "            print('Skipping', child_classname)\n",
    "            continue\n",
    "        \n",
    "        print('\\t'*1, 'Child:', child_classname)\n",
    "        for p in class_and_prototypes[child_classname]:\n",
    "            \n",
    "            logstr = '\\t'*2 + f'Proto:{p} '\n",
    "            mean_activation_of_every_leaf = []\n",
    "            for leaf_descendent in proto_mean_activations[p]:\n",
    "                mean_activation = round(np.mean([activation for activation, *_ in proto_mean_activations[p][leaf_descendent]]), 4)\n",
    "                num_images = len(proto_mean_activations[p][leaf_descendent])\n",
    "                logstr += f'{leaf_descendent}:({mean_activation}) '\n",
    "                mean_activation_of_every_leaf.append(mean_activation)\n",
    "            print(logstr)\n",
    "            \n",
    "            # # if the mean_activation is less for all leaf descendants skip the node\n",
    "            # if all([mean_act < 0.2 for mean_act in mean_activation_of_every_leaf]):\n",
    "            #     if find_non_descendants:\n",
    "            #         print('\\t'*2 + f'Not skipping proto {p} of {node.name} coz of find_non_descendants')\n",
    "            #     else:\n",
    "            #         print('\\t'*2 + f'Skipping proto {p} of {node.name}')\n",
    "            #         continue\n",
    "            \n",
    "            # have this for NON descendants\n",
    "            if len(proto_mean_activations[p]) == 0:\n",
    "                continue\n",
    "            \n",
    "            if save_images or save_activation_as_npy_path:\n",
    "                patches = []\n",
    "                right_descriptions = []\n",
    "                text_region_width = 3 # 3x the width of a patch\n",
    "                for leaf_descendent, heap in proto_mean_activations[p].items():\n",
    "                    heap = sorted(heap)[::-1]\n",
    "                    mean_activation = round(np.mean([activation for activation, *_ in proto_mean_activations[p][leaf_descendent]]), 4)\n",
    "                    for rank, ele in enumerate(heap):\n",
    "                        activation, img_to_open, (h_coor_min, h_coor_max, w_coor_min, w_coor_max), latent_activation = ele\n",
    "                        image = transforms.Resize(size=(args.image_size, args.image_size))(Image.open(img_to_open))\n",
    "                        img_tensor = transforms.ToTensor()(image)#.unsqueeze_(0) #shape (1, 3, h, w)\n",
    "                        img_tensor_patch = img_tensor[:, h_coor_min:h_coor_max, w_coor_min:w_coor_max]\n",
    "                        overlayed_image_np = get_heatmap(latent_activation, img_tensor, constant_color_scale=True)\n",
    "                        overlayed_image = torch.tensor(overlayed_image_np).permute(2, 0, 1).float() / 255.\n",
    "                        patches.append(overlayed_image)\n",
    "                        \n",
    "                        # added for NUMPY SAVING\n",
    "                        \n",
    "                        if save_activation_as_npy_path:\n",
    "#                             upscaled_similarity_interpolated = get_upscaled_activation_interpolated(latent_activation,\n",
    "#                                                                                        image_size=(args.image_size, args.image_size))\n",
    "                            latent_activation_npy = latent_activation.squeeze().cpu().numpy()\n",
    "                            data = {'node_name': node.name,\n",
    "                                    'proto_num': p,\n",
    "                                    'child_name': child_classname,\n",
    "                                    'leaf_desc': leaf_descendent,\n",
    "                                     'rank': rank,\n",
    "                                     'img_path': img_to_open,\n",
    "                                     'img_filename': ntpath.basename(img_to_open),\n",
    "                                     'activation': latent_activation_npy,\n",
    "                                     'max_activation': activation,\n",
    "                                     'model_type': 'NAIVE-HPIPNET'}\n",
    "                            filename = str(rank)+ '-' + ntpath.basename(img_to_open) + '.npy'\n",
    "                            save_path = os.path.join(run_path, save_activation_as_npy_path, \\\n",
    "                                                     node.name, str(p), leaf_descendent,\n",
    "                                                     filename)\n",
    "                            os.makedirs(os.path.dirname(save_path), exist_ok=True)\n",
    "                            np.save(save_path, data, allow_pickle=True)\n",
    "\n",
    "                    # description on the right hand side\n",
    "                    text = f'{mean_activation}, {leaf_descendent}'\n",
    "                    txtimage = Image.new(\"RGB\", (patches[0].shape[-2]*text_region_width,patches[0].shape[-1]), (0, 0, 0))\n",
    "                    draw = D.Draw(txtimage)\n",
    "                    draw.text((150, patches[0].shape[1]//2), text, anchor='mm', fill=\"white\", font=font)\n",
    "                    txttensor = transforms.ToTensor()(txtimage)#.unsqueeze_(0)\n",
    "                    right_descriptions.append(txttensor)\n",
    "                    \n",
    "                # weird thing padding should be zero for non descendants else it raises some error # change\n",
    "                if find_non_descendants or (len(patches) == topk): # (len(patches) == topk) means there is only one leaf descendant\n",
    "                    padding = 0\n",
    "                else:\n",
    "                    padding = 1\n",
    "\n",
    "                grid = torchvision.utils.make_grid(patches, nrow=topk, padding=padding)\n",
    "                grid_right_descriptions = torchvision.utils.make_grid(right_descriptions, nrow=1, padding=padding)\n",
    "\n",
    "                # merging right description with the grid of images\n",
    "                try:\n",
    "                    grid = torch.cat([grid, grid_right_descriptions], dim=-1)\n",
    "                except:\n",
    "                    pdb.set_trace()\n",
    "\n",
    "                # description on the top\n",
    "                text = f'Node:{node.name}, p{p}, Child:{child_classname}'\n",
    "                txtimage = Image.new(\"RGB\", (grid.shape[-1], args.wshape), (0, 0, 0))\n",
    "                draw = D.Draw(txtimage)\n",
    "                draw.text((150, patches[0].shape[1]//2), text, anchor='mm', fill=\"white\", font=font)\n",
    "                txttensor = transforms.ToTensor()(txtimage)#.unsqueeze_(0)\n",
    "\n",
    "                # merging top description with the grid of images\n",
    "                grid = torch.cat([grid, txttensor], dim=1)\n",
    "                \n",
    "                if save_images:\n",
    "                    prefix = 'non_' if find_non_descendants else ''\n",
    "                    os.makedirs(os.path.join(run_path, prefix+f'descendent_specific_topk_heatmap_ep={epoch}_{subtree_root.name}', node.name), exist_ok=True)\n",
    "                    torchvision.utils.save_image(grid, os.path.join(run_path, prefix+f'descendent_specific_topk_heatmap_ep={epoch}_{subtree_root.name}', node.name, f'{child_classname}-p{p}.png'))\n",
    "\n",
    "txt_file.write('\\n')\n",
    "txt_file.close()\n",
    "print('Done !!!')"
   ]
  },
  {
   "cell_type": "code",
   "execution_count": 16,
   "metadata": {},
   "outputs": [
    {
     "name": "stdout",
     "output_type": "stream",
     "text": [
      "root\n",
      "129+024+067\n",
      "024+051\n",
      "051+052\n",
      "051+053\n"
     ]
    }
   ],
   "source": [
    "target_leaf = root.get_node('cub_053_Western_Grebe')\n",
    "for node in root.nodes_with_children():\n",
    "    if target_leaf.name in node.leaf_descendents:\n",
    "        print(node.name)"
   ]
  },
  {
   "cell_type": "markdown",
   "metadata": {},
   "source": [
    "# Proto activations on leaf descendents - topk images using  NAIVE-HPIPNET with HEATMAP (clean visualization)"
   ]
  },
  {
   "cell_type": "code",
   "execution_count": 16,
   "metadata": {
    "scrolled": true
   },
   "outputs": [
    {
     "name": "stdout",
     "output_type": "stream",
     "text": [
      "Skipping node root\n"
     ]
    },
    {
     "name": "stderr",
     "output_type": "stream",
     "text": [
      "Collecting topk: 208it [00:05, 41.47it/s]\n"
     ]
    },
    {
     "name": "stdout",
     "output_type": "stream",
     "text": [
      "Node 001+029+044\n",
      "\t Child: 001+010\n",
      "\t\tProto:0 but_001_Taygetis_cleopatra_ott3105132:(0.9757) but_002_Taygetis_thamyra_ott483838:(0.6139) but_003_Morpho_menelaus_ott830884:(0.9623) but_004_Morpho_helenor_ott634337:(0.9988) but_005_Opsiphanes_invirae_ott1056460:(0.9996) but_006_Catoblepia_berecynthia_ott3104050:(0.8694) but_007_Caligo_idomeneus_ott401861:(0.9993) but_008_Caligo_eurilochus_ott572882:(0.996) but_009_Bia_actorion_ott451938:(0.9729) but_010_Hypna_clytemnestra_ott552641:(0.9763) but_011_Memphis_glauce_ott235310:(0.9948) but_012_Memphis_moruus_ott834399:(0.9584) \n",
      "\t\tProto:8 but_001_Taygetis_cleopatra_ott3105132:(0.8395) but_002_Taygetis_thamyra_ott483838:(0.9044) but_003_Morpho_menelaus_ott830884:(0.9685) but_004_Morpho_helenor_ott634337:(0.6457) but_005_Opsiphanes_invirae_ott1056460:(0.8951) but_006_Catoblepia_berecynthia_ott3104050:(0.5974) but_007_Caligo_idomeneus_ott401861:(0.9528) but_008_Caligo_eurilochus_ott572882:(0.7243) but_009_Bia_actorion_ott451938:(0.7273) but_010_Hypna_clytemnestra_ott552641:(0.2188) but_011_Memphis_glauce_ott235310:(0.7898) but_012_Memphis_moruus_ott834399:(0.6904) \n",
      "\t\tProto:6 but_001_Taygetis_cleopatra_ott3105132:(0.8984) but_002_Taygetis_thamyra_ott483838:(0.958) but_003_Morpho_menelaus_ott830884:(0.9913) but_004_Morpho_helenor_ott634337:(0.7427) but_005_Opsiphanes_invirae_ott1056460:(0.3894) but_006_Catoblepia_berecynthia_ott3104050:(0.6072) but_007_Caligo_idomeneus_ott401861:(0.9947) but_008_Caligo_eurilochus_ott572882:(0.9955) but_009_Bia_actorion_ott451938:(0.0197) but_010_Hypna_clytemnestra_ott552641:(0.907) but_011_Memphis_glauce_ott235310:(0.7355) but_012_Memphis_moruus_ott834399:(0.9151) \n",
      "\t Child: 029+038\n",
      "\t\tProto:10 but_013_Heliconius_atthis_ott1024619:(1.0) but_014_Heliconius_elevatus_ott1034618:(0.9998) but_015_Heliconius_ethilla_ott358146:(1.0) but_016_Heliconius_numata_ott358148:(1.0) but_017_Heliconius_ismenius_ott984238:(1.0) but_018_Heliconius_melpomene_ott896444:(1.0) but_019_Heliconius_timareta_ott145706:(1.0) but_020_Heliconius_cydno_ott984236:(1.0) but_021_Heliconius_pachinus_ott984241:(0.9999) but_022_Heliconius_wallacei_ott984240:(1.0) but_023_Heliconius_hierax_ott372033:(1.0) but_024_Heliconius_xanthocles_ott1034613:(1.0) but_028_Heliconius_eleuchia_ott407976:(1.0) but_029_Heliconius_sara_ott1034608:(1.0) but_030_Heliconius_charithonia_ott259142:(1.0) but_032_Heliconius_clysonymus_ott1034615:(0.9998) but_033_Heliconius_telesiphe_ott984230:(1.0) but_034_Eueides_isabella_ott1034607:(1.0) but_035_Eueides_aliphera_ott1034606:(1.0) but_036_Dryadula_phaetusa_ott896449:(0.9059) but_037_Dryas_iulia_ott458065:(1.0) but_038_Ithomia_xenos_ott265497:(1.0) but_039_Greta_nero_ott3119044:(0.9999) but_040_Godyris_zavaleta_ott411073:(1.0) but_041_Greta_annette_ott221639:(0.9999) but_042_Hyposcada_virginiana_ott79749:(1.0) but_043_Paititia_neglecta_ott361142:(0.9999) \n",
      "\t\tProto:13 but_013_Heliconius_atthis_ott1024619:(0.9978) but_014_Heliconius_elevatus_ott1034618:(0.9932) but_015_Heliconius_ethilla_ott358146:(0.9999) but_016_Heliconius_numata_ott358148:(0.9996) but_017_Heliconius_ismenius_ott984238:(0.9993) but_018_Heliconius_melpomene_ott896444:(0.9998) but_019_Heliconius_timareta_ott145706:(0.9999) but_020_Heliconius_cydno_ott984236:(0.9998) but_021_Heliconius_pachinus_ott984241:(0.9999) but_022_Heliconius_wallacei_ott984240:(0.9943) but_023_Heliconius_hierax_ott372033:(0.9999) but_024_Heliconius_xanthocles_ott1034613:(0.9999) but_028_Heliconius_eleuchia_ott407976:(0.9981) but_029_Heliconius_sara_ott1034608:(0.9947) but_030_Heliconius_charithonia_ott259142:(1.0) but_032_Heliconius_clysonymus_ott1034615:(0.9225) but_033_Heliconius_telesiphe_ott984230:(0.9698) but_034_Eueides_isabella_ott1034607:(0.9999) but_035_Eueides_aliphera_ott1034606:(0.9999) but_036_Dryadula_phaetusa_ott896449:(0.9999) but_037_Dryas_iulia_ott458065:(0.9769) but_038_Ithomia_xenos_ott265497:(1.0) but_039_Greta_nero_ott3119044:(0.9954) but_040_Godyris_zavaleta_ott411073:(0.9999) but_041_Greta_annette_ott221639:(0.9903) but_042_Hyposcada_virginiana_ott79749:(0.9997) but_043_Paititia_neglecta_ott361142:(1.0) \n",
      "\t Child: 044+054\n",
      "\t\tProto:29 but_044_Catonephele_orites_ott773670:(0.9753) but_045_Eunica_pusilla_ott3116519:(0.9549) but_046_Eunica_marsolia_ott3116572:(0.9508) but_047_Temenis_laothoe_ott1079091:(0.999) but_048_Nessaea_obrinus_ott3116445:(0.9938) but_049_Batesia_hypochlora_ott451934:(0.9934) but_052_Pyrrhogyra_amphiro_ott3116287:(0.7716) but_053_Pyrrhogyra_otolais_ott461907:(0.9944) but_054_Tigridia_acesta_ott105886:(0.9117) but_055_Colobura_dirce_ott977975:(0.9979) \n",
      "\t\tProto:21 but_044_Catonephele_orites_ott773670:(0.9863) but_045_Eunica_pusilla_ott3116519:(0.9995) but_046_Eunica_marsolia_ott3116572:(0.999) but_047_Temenis_laothoe_ott1079091:(0.9936) but_048_Nessaea_obrinus_ott3116445:(0.73) but_049_Batesia_hypochlora_ott451934:(0.9295) but_052_Pyrrhogyra_amphiro_ott3116287:(0.9986) but_053_Pyrrhogyra_otolais_ott461907:(0.9972) but_054_Tigridia_acesta_ott105886:(0.9956) but_055_Colobura_dirce_ott977975:(0.9981) \n"
     ]
    },
    {
     "name": "stderr",
     "output_type": "stream",
     "text": [
      "Collecting topk: 100% 8/8 [00:00<00:00, 11.09it/s]\n"
     ]
    },
    {
     "name": "stdout",
     "output_type": "stream",
     "text": [
      "Node 056+057\n",
      "\t Child: but_056_Rhetus_periander_ott3125491\n",
      "\t\tProto:5 but_056_Rhetus_periander_ott3125491:(1.0) \n",
      "\t Child: but_057_Lasaia_agesilas_ott627865\n",
      "\t\tProto:19 but_057_Lasaia_agesilas_ott627865:(1.0) \n"
     ]
    },
    {
     "name": "stderr",
     "output_type": "stream",
     "text": [
      "Collecting topk: 54it [00:01, 34.65it/s]\n"
     ]
    },
    {
     "name": "stdout",
     "output_type": "stream",
     "text": [
      "Node 001+010\n",
      "\t Child: 001+003\n",
      "\t\tProto:8 but_001_Taygetis_cleopatra_ott3105132:(0.506) but_002_Taygetis_thamyra_ott483838:(0.9659) but_003_Morpho_menelaus_ott830884:(0.9982) but_004_Morpho_helenor_ott634337:(0.9932) but_005_Opsiphanes_invirae_ott1056460:(0.9871) but_006_Catoblepia_berecynthia_ott3104050:(0.9918) but_007_Caligo_idomeneus_ott401861:(0.9992) but_008_Caligo_eurilochus_ott572882:(0.9997) but_009_Bia_actorion_ott451938:(0.7919) \n",
      "\t\tProto:3 but_001_Taygetis_cleopatra_ott3105132:(0.9987) but_002_Taygetis_thamyra_ott483838:(0.9695) but_003_Morpho_menelaus_ott830884:(0.9954) but_004_Morpho_helenor_ott634337:(0.9956) but_005_Opsiphanes_invirae_ott1056460:(0.9891) but_006_Catoblepia_berecynthia_ott3104050:(0.9741) but_007_Caligo_idomeneus_ott401861:(0.9988) but_008_Caligo_eurilochus_ott572882:(0.9884) but_009_Bia_actorion_ott451938:(0.9929) \n",
      "\t\tProto:7 but_001_Taygetis_cleopatra_ott3105132:(0.9999) but_002_Taygetis_thamyra_ott483838:(0.9993) but_003_Morpho_menelaus_ott830884:(0.9576) but_004_Morpho_helenor_ott634337:(0.9998) but_005_Opsiphanes_invirae_ott1056460:(0.9968) but_006_Catoblepia_berecynthia_ott3104050:(0.9989) but_007_Caligo_idomeneus_ott401861:(0.999) but_008_Caligo_eurilochus_ott572882:(0.9997) but_009_Bia_actorion_ott451938:(0.8843) \n",
      "\t Child: 010+011\n",
      "\t\tProto:17 but_010_Hypna_clytemnestra_ott552641:(0.9859) but_011_Memphis_glauce_ott235310:(0.9993) but_012_Memphis_moruus_ott834399:(0.9799) \n",
      "\t\tProto:10 but_010_Hypna_clytemnestra_ott552641:(0.9987) but_011_Memphis_glauce_ott235310:(0.9999) but_012_Memphis_moruus_ott834399:(0.9997) \n",
      "\t\tProto:18 but_010_Hypna_clytemnestra_ott552641:(0.9572) but_011_Memphis_glauce_ott235310:(0.9904) but_012_Memphis_moruus_ott834399:(0.9599) \n"
     ]
    },
    {
     "name": "stderr",
     "output_type": "stream",
     "text": [
      "Collecting topk: 111it [00:02, 40.59it/s]\n"
     ]
    },
    {
     "name": "stdout",
     "output_type": "stream",
     "text": [
      "Node 029+038\n",
      "\t Child: 029+036\n",
      "\t\tProto:3 but_013_Heliconius_atthis_ott1024619:(0.7822) but_014_Heliconius_elevatus_ott1034618:(0.9982) but_015_Heliconius_ethilla_ott358146:(0.9948) but_016_Heliconius_numata_ott358148:(0.9731) but_017_Heliconius_ismenius_ott984238:(0.7746) but_018_Heliconius_melpomene_ott896444:(0.9951) but_019_Heliconius_timareta_ott145706:(0.9994) but_020_Heliconius_cydno_ott984236:(0.8663) but_021_Heliconius_pachinus_ott984241:(0.9902) but_022_Heliconius_wallacei_ott984240:(0.9985) but_023_Heliconius_hierax_ott372033:(0.9964) but_024_Heliconius_xanthocles_ott1034613:(0.9961) but_028_Heliconius_eleuchia_ott407976:(0.9534) but_029_Heliconius_sara_ott1034608:(0.9571) but_030_Heliconius_charithonia_ott259142:(0.9676) but_032_Heliconius_clysonymus_ott1034615:(0.8761) but_033_Heliconius_telesiphe_ott984230:(0.9865) but_034_Eueides_isabella_ott1034607:(0.9865) but_035_Eueides_aliphera_ott1034606:(0.6197) but_036_Dryadula_phaetusa_ott896449:(0.041) but_037_Dryas_iulia_ott458065:(0.5229) \n",
      "\t\tProto:4 but_013_Heliconius_atthis_ott1024619:(0.9997) but_014_Heliconius_elevatus_ott1034618:(0.9292) but_015_Heliconius_ethilla_ott358146:(0.9978) but_016_Heliconius_numata_ott358148:(0.9999) but_017_Heliconius_ismenius_ott984238:(0.9959) but_018_Heliconius_melpomene_ott896444:(0.9981) but_019_Heliconius_timareta_ott145706:(0.9988) but_020_Heliconius_cydno_ott984236:(0.982) but_021_Heliconius_pachinus_ott984241:(0.9879) but_022_Heliconius_wallacei_ott984240:(0.9997) but_023_Heliconius_hierax_ott372033:(0.9988) but_024_Heliconius_xanthocles_ott1034613:(0.9956) but_028_Heliconius_eleuchia_ott407976:(0.9984) but_029_Heliconius_sara_ott1034608:(0.995) but_030_Heliconius_charithonia_ott259142:(0.9865) but_032_Heliconius_clysonymus_ott1034615:(0.9947) but_033_Heliconius_telesiphe_ott984230:(0.9678) but_034_Eueides_isabella_ott1034607:(0.8572) but_035_Eueides_aliphera_ott1034606:(0.822) but_036_Dryadula_phaetusa_ott896449:(0.643) but_037_Dryas_iulia_ott458065:(0.9803) \n",
      "\t\tProto:5 but_013_Heliconius_atthis_ott1024619:(0.9992) but_014_Heliconius_elevatus_ott1034618:(0.635) but_015_Heliconius_ethilla_ott358146:(0.9823) but_016_Heliconius_numata_ott358148:(0.9979) but_017_Heliconius_ismenius_ott984238:(0.8621) but_018_Heliconius_melpomene_ott896444:(0.9967) but_019_Heliconius_timareta_ott145706:(0.9649) but_020_Heliconius_cydno_ott984236:(0.996) but_021_Heliconius_pachinus_ott984241:(0.9985) but_022_Heliconius_wallacei_ott984240:(0.9994) but_023_Heliconius_hierax_ott372033:(0.9995) but_024_Heliconius_xanthocles_ott1034613:(0.9923) but_028_Heliconius_eleuchia_ott407976:(0.9928) but_029_Heliconius_sara_ott1034608:(0.9957) but_030_Heliconius_charithonia_ott259142:(0.961) but_032_Heliconius_clysonymus_ott1034615:(0.9138) but_033_Heliconius_telesiphe_ott984230:(0.9989) but_034_Eueides_isabella_ott1034607:(0.7548) but_035_Eueides_aliphera_ott1034606:(0.7564) but_036_Dryadula_phaetusa_ott896449:(0.5444) but_037_Dryas_iulia_ott458065:(0.9882) \n",
      "\t\tProto:6 but_013_Heliconius_atthis_ott1024619:(0.8906) but_014_Heliconius_elevatus_ott1034618:(0.9965) but_015_Heliconius_ethilla_ott358146:(0.7452) but_016_Heliconius_numata_ott358148:(0.9987) but_017_Heliconius_ismenius_ott984238:(0.4624) but_018_Heliconius_melpomene_ott896444:(0.9641) but_019_Heliconius_timareta_ott145706:(0.9888) but_020_Heliconius_cydno_ott984236:(0.77) but_021_Heliconius_pachinus_ott984241:(0.9664) but_022_Heliconius_wallacei_ott984240:(0.9764) but_023_Heliconius_hierax_ott372033:(0.9811) but_024_Heliconius_xanthocles_ott1034613:(0.9933) but_028_Heliconius_eleuchia_ott407976:(0.9612) but_029_Heliconius_sara_ott1034608:(0.9991) but_030_Heliconius_charithonia_ott259142:(0.874) but_032_Heliconius_clysonymus_ott1034615:(0.7204) but_033_Heliconius_telesiphe_ott984230:(0.9981) but_034_Eueides_isabella_ott1034607:(0.6168) but_035_Eueides_aliphera_ott1034606:(0.6414) but_036_Dryadula_phaetusa_ott896449:(0.3658) but_037_Dryas_iulia_ott458065:(0.922) \n",
      "\t\tProto:7 but_013_Heliconius_atthis_ott1024619:(0.9965) but_014_Heliconius_elevatus_ott1034618:(0.9282) but_015_Heliconius_ethilla_ott358146:(0.7975) but_016_Heliconius_numata_ott358148:(0.9424) but_017_Heliconius_ismenius_ott984238:(0.9902) but_018_Heliconius_melpomene_ott896444:(0.9774) but_019_Heliconius_timareta_ott145706:(0.9637) but_020_Heliconius_cydno_ott984236:(0.9571) but_021_Heliconius_pachinus_ott984241:(0.5173) but_022_Heliconius_wallacei_ott984240:(0.9968) but_023_Heliconius_hierax_ott372033:(0.986) but_024_Heliconius_xanthocles_ott1034613:(0.9652) but_028_Heliconius_eleuchia_ott407976:(0.9519) but_029_Heliconius_sara_ott1034608:(0.9846) but_030_Heliconius_charithonia_ott259142:(0.8711) but_032_Heliconius_clysonymus_ott1034615:(0.9027) but_033_Heliconius_telesiphe_ott984230:(0.3979) but_034_Eueides_isabella_ott1034607:(0.7879) but_035_Eueides_aliphera_ott1034606:(0.4223) but_036_Dryadula_phaetusa_ott896449:(0.2259) but_037_Dryas_iulia_ott458065:(0.7059) \n",
      "\t\tProto:8 but_013_Heliconius_atthis_ott1024619:(0.9978) but_014_Heliconius_elevatus_ott1034618:(0.9984) but_015_Heliconius_ethilla_ott358146:(0.9968) but_016_Heliconius_numata_ott358148:(1.0) but_017_Heliconius_ismenius_ott984238:(0.9994) but_018_Heliconius_melpomene_ott896444:(0.9999) but_019_Heliconius_timareta_ott145706:(0.9879) but_020_Heliconius_cydno_ott984236:(0.9987) but_021_Heliconius_pachinus_ott984241:(0.9987) but_022_Heliconius_wallacei_ott984240:(0.9917) but_023_Heliconius_hierax_ott372033:(0.9924) but_024_Heliconius_xanthocles_ott1034613:(0.9173) but_028_Heliconius_eleuchia_ott407976:(0.9996) but_029_Heliconius_sara_ott1034608:(0.9983) but_030_Heliconius_charithonia_ott259142:(0.9519) but_032_Heliconius_clysonymus_ott1034615:(0.9963) but_033_Heliconius_telesiphe_ott984230:(0.9908) but_034_Eueides_isabella_ott1034607:(0.939) but_035_Eueides_aliphera_ott1034606:(0.9874) but_036_Dryadula_phaetusa_ott896449:(0.5328) but_037_Dryas_iulia_ott458065:(0.9928) \n",
      "\t\tProto:9 but_013_Heliconius_atthis_ott1024619:(0.9191) but_014_Heliconius_elevatus_ott1034618:(0.7937) but_015_Heliconius_ethilla_ott358146:(0.8551) but_016_Heliconius_numata_ott358148:(0.9926) but_017_Heliconius_ismenius_ott984238:(0.9019) but_018_Heliconius_melpomene_ott896444:(0.956) but_019_Heliconius_timareta_ott145706:(0.96) but_020_Heliconius_cydno_ott984236:(0.8528) but_021_Heliconius_pachinus_ott984241:(0.8156) but_022_Heliconius_wallacei_ott984240:(0.9248) but_023_Heliconius_hierax_ott372033:(0.9867) but_024_Heliconius_xanthocles_ott1034613:(0.9651) but_028_Heliconius_eleuchia_ott407976:(0.5947) but_029_Heliconius_sara_ott1034608:(0.8801) but_030_Heliconius_charithonia_ott259142:(0.7734) but_032_Heliconius_clysonymus_ott1034615:(0.8084) but_033_Heliconius_telesiphe_ott984230:(0.863) but_034_Eueides_isabella_ott1034607:(0.968) but_035_Eueides_aliphera_ott1034606:(0.9414) but_036_Dryadula_phaetusa_ott896449:(0.495) but_037_Dryas_iulia_ott458065:(0.9381) \n",
      "\t Child: 038+043\n",
      "\t\tProto:16 but_038_Ithomia_xenos_ott265497:(0.9993) but_039_Greta_nero_ott3119044:(0.9983) but_040_Godyris_zavaleta_ott411073:(0.9919) but_041_Greta_annette_ott221639:(0.9962) but_042_Hyposcada_virginiana_ott79749:(0.9904) but_043_Paititia_neglecta_ott361142:(0.74) \n",
      "\t\tProto:18 but_038_Ithomia_xenos_ott265497:(0.9999) but_039_Greta_nero_ott3119044:(1.0) but_040_Godyris_zavaleta_ott411073:(0.9999) but_041_Greta_annette_ott221639:(0.9999) but_042_Hyposcada_virginiana_ott79749:(0.9969) but_043_Paititia_neglecta_ott361142:(1.0) \n"
     ]
    },
    {
     "name": "stderr",
     "output_type": "stream",
     "text": [
      "Collecting topk: 43it [00:01, 31.95it/s]\n"
     ]
    },
    {
     "name": "stdout",
     "output_type": "stream",
     "text": [
      "Node 044+054\n",
      "\t Child: 044+045+052\n",
      "\t\tProto:0 but_044_Catonephele_orites_ott773670:(0.9989) but_045_Eunica_pusilla_ott3116519:(0.8618) but_046_Eunica_marsolia_ott3116572:(0.9487) but_047_Temenis_laothoe_ott1079091:(0.9997) but_048_Nessaea_obrinus_ott3116445:(0.9989) but_049_Batesia_hypochlora_ott451934:(0.9996) but_052_Pyrrhogyra_amphiro_ott3116287:(0.993) but_053_Pyrrhogyra_otolais_ott461907:(0.9976) \n",
      "\t\tProto:4 but_044_Catonephele_orites_ott773670:(0.9997) but_045_Eunica_pusilla_ott3116519:(0.9996) but_046_Eunica_marsolia_ott3116572:(0.9752) but_047_Temenis_laothoe_ott1079091:(0.9983) but_048_Nessaea_obrinus_ott3116445:(0.9999) but_049_Batesia_hypochlora_ott451934:(0.9998) but_052_Pyrrhogyra_amphiro_ott3116287:(0.9959) but_053_Pyrrhogyra_otolais_ott461907:(0.997) \n",
      "\t Child: 054+055\n",
      "\t\tProto:11 but_054_Tigridia_acesta_ott105886:(1.0) but_055_Colobura_dirce_ott977975:(1.0) \n"
     ]
    },
    {
     "name": "stderr",
     "output_type": "stream",
     "text": [
      "Collecting topk: 41it [00:01, 30.24it/s]\n"
     ]
    },
    {
     "name": "stdout",
     "output_type": "stream",
     "text": [
      "Node 001+003\n",
      "\t Child: 001+002\n",
      "\t\tProto:0 but_001_Taygetis_cleopatra_ott3105132:(0.9999) but_002_Taygetis_thamyra_ott483838:(0.9999) \n",
      "\t\tProto:4 but_001_Taygetis_cleopatra_ott3105132:(0.9978) but_002_Taygetis_thamyra_ott483838:(0.9999) \n",
      "\t\tProto:7 but_001_Taygetis_cleopatra_ott3105132:(1.0) but_002_Taygetis_thamyra_ott483838:(0.9996) \n",
      "\t Child: 003+005\n",
      "\t\tProto:18 but_003_Morpho_menelaus_ott830884:(1.0) but_004_Morpho_helenor_ott634337:(1.0) but_005_Opsiphanes_invirae_ott1056460:(0.9996) but_006_Catoblepia_berecynthia_ott3104050:(0.9992) but_007_Caligo_idomeneus_ott401861:(1.0) but_008_Caligo_eurilochus_ott572882:(1.0) but_009_Bia_actorion_ott451938:(0.6667) \n",
      "\t\tProto:19 but_003_Morpho_menelaus_ott830884:(0.9994) but_004_Morpho_helenor_ott634337:(0.958) but_005_Opsiphanes_invirae_ott1056460:(0.9084) but_006_Catoblepia_berecynthia_ott3104050:(0.9959) but_007_Caligo_idomeneus_ott401861:(0.999) but_008_Caligo_eurilochus_ott572882:(0.9988) but_009_Bia_actorion_ott451938:(0.7281) \n",
      "\t\tProto:14 but_003_Morpho_menelaus_ott830884:(1.0) but_004_Morpho_helenor_ott634337:(1.0) but_005_Opsiphanes_invirae_ott1056460:(0.8972) but_006_Catoblepia_berecynthia_ott3104050:(0.9985) but_007_Caligo_idomeneus_ott401861:(1.0) but_008_Caligo_eurilochus_ott572882:(0.9999) but_009_Bia_actorion_ott451938:(0.7223) \n",
      "\t\tProto:15 but_003_Morpho_menelaus_ott830884:(0.9963) but_004_Morpho_helenor_ott634337:(0.9998) but_005_Opsiphanes_invirae_ott1056460:(0.999) but_006_Catoblepia_berecynthia_ott3104050:(0.5963) but_007_Caligo_idomeneus_ott401861:(0.9898) but_008_Caligo_eurilochus_ott572882:(1.0) but_009_Bia_actorion_ott451938:(0.4757) \n"
     ]
    },
    {
     "name": "stderr",
     "output_type": "stream",
     "text": [
      "Collecting topk: 13it [00:00, 15.54it/s]  \n"
     ]
    },
    {
     "name": "stdout",
     "output_type": "stream",
     "text": [
      "Node 010+011\n",
      "\t Child: but_010_Hypna_clytemnestra_ott552641\n",
      "\t\tProto:1 but_010_Hypna_clytemnestra_ott552641:(1.0) \n",
      "\t Child: 011+012\n",
      "\t\tProto:12 but_011_Memphis_glauce_ott235310:(1.0) but_012_Memphis_moruus_ott834399:(1.0) \n",
      "\t\tProto:13 but_011_Memphis_glauce_ott235310:(0.9999) but_012_Memphis_moruus_ott834399:(0.9998) \n"
     ]
    },
    {
     "name": "stderr",
     "output_type": "stream",
     "text": [
      "Collecting topk: 89it [00:02, 38.76it/s]\n"
     ]
    },
    {
     "name": "stdout",
     "output_type": "stream",
     "text": [
      "Node 029+036\n",
      "\t Child: 029+034\n",
      "\t\tProto:9 but_013_Heliconius_atthis_ott1024619:(0.9999) but_014_Heliconius_elevatus_ott1034618:(0.9999) but_015_Heliconius_ethilla_ott358146:(0.9999) but_016_Heliconius_numata_ott358148:(1.0) but_017_Heliconius_ismenius_ott984238:(0.9907) but_018_Heliconius_melpomene_ott896444:(1.0) but_019_Heliconius_timareta_ott145706:(1.0) but_020_Heliconius_cydno_ott984236:(0.9989) but_021_Heliconius_pachinus_ott984241:(0.9999) but_022_Heliconius_wallacei_ott984240:(1.0) but_023_Heliconius_hierax_ott372033:(0.9999) but_024_Heliconius_xanthocles_ott1034613:(1.0) but_028_Heliconius_eleuchia_ott407976:(0.9999) but_029_Heliconius_sara_ott1034608:(0.9998) but_030_Heliconius_charithonia_ott259142:(0.9997) but_032_Heliconius_clysonymus_ott1034615:(0.9963) but_033_Heliconius_telesiphe_ott984230:(0.9999) but_034_Eueides_isabella_ott1034607:(0.9996) but_035_Eueides_aliphera_ott1034606:(0.7365) \n",
      "\t\tProto:4 but_013_Heliconius_atthis_ott1024619:(1.0) but_014_Heliconius_elevatus_ott1034618:(0.9607) but_015_Heliconius_ethilla_ott358146:(0.9967) but_016_Heliconius_numata_ott358148:(0.9971) but_017_Heliconius_ismenius_ott984238:(0.9999) but_018_Heliconius_melpomene_ott896444:(1.0) but_019_Heliconius_timareta_ott145706:(0.9999) but_020_Heliconius_cydno_ott984236:(0.9998) but_021_Heliconius_pachinus_ott984241:(0.9996) but_022_Heliconius_wallacei_ott984240:(1.0) but_023_Heliconius_hierax_ott372033:(0.9976) but_024_Heliconius_xanthocles_ott1034613:(0.9949) but_028_Heliconius_eleuchia_ott407976:(0.9999) but_029_Heliconius_sara_ott1034608:(1.0) but_030_Heliconius_charithonia_ott259142:(0.9753) but_032_Heliconius_clysonymus_ott1034615:(0.996) but_033_Heliconius_telesiphe_ott984230:(0.9822) but_034_Eueides_isabella_ott1034607:(0.9886) but_035_Eueides_aliphera_ott1034606:(0.191) \n",
      "\t\tProto:6 but_013_Heliconius_atthis_ott1024619:(0.9963) but_014_Heliconius_elevatus_ott1034618:(0.9662) but_015_Heliconius_ethilla_ott358146:(0.9962) but_016_Heliconius_numata_ott358148:(0.9987) but_017_Heliconius_ismenius_ott984238:(0.9869) but_018_Heliconius_melpomene_ott896444:(0.9935) but_019_Heliconius_timareta_ott145706:(0.9998) but_020_Heliconius_cydno_ott984236:(0.9983) but_021_Heliconius_pachinus_ott984241:(1.0) but_022_Heliconius_wallacei_ott984240:(0.9913) but_023_Heliconius_hierax_ott372033:(0.9998) but_024_Heliconius_xanthocles_ott1034613:(0.9938) but_028_Heliconius_eleuchia_ott407976:(0.9998) but_029_Heliconius_sara_ott1034608:(0.9989) but_030_Heliconius_charithonia_ott259142:(0.9987) but_032_Heliconius_clysonymus_ott1034615:(0.9994) but_033_Heliconius_telesiphe_ott984230:(0.9987) but_034_Eueides_isabella_ott1034607:(0.9484) but_035_Eueides_aliphera_ott1034606:(0.5497) \n",
      "\t\tProto:7 but_013_Heliconius_atthis_ott1024619:(0.997) but_014_Heliconius_elevatus_ott1034618:(0.9996) but_015_Heliconius_ethilla_ott358146:(0.9999) but_016_Heliconius_numata_ott358148:(1.0) but_017_Heliconius_ismenius_ott984238:(0.9982) but_018_Heliconius_melpomene_ott896444:(1.0) but_019_Heliconius_timareta_ott145706:(0.9998) but_020_Heliconius_cydno_ott984236:(0.9979) but_021_Heliconius_pachinus_ott984241:(0.9999) but_022_Heliconius_wallacei_ott984240:(0.9999) but_023_Heliconius_hierax_ott372033:(0.9998) but_024_Heliconius_xanthocles_ott1034613:(0.9999) but_028_Heliconius_eleuchia_ott407976:(0.9997) but_029_Heliconius_sara_ott1034608:(0.9999) but_030_Heliconius_charithonia_ott259142:(0.9994) but_032_Heliconius_clysonymus_ott1034615:(0.9992) but_033_Heliconius_telesiphe_ott984230:(0.9997) but_034_Eueides_isabella_ott1034607:(0.9989) but_035_Eueides_aliphera_ott1034606:(0.3627) \n",
      "\t Child: 036+037\n",
      "\t\tProto:18 but_036_Dryadula_phaetusa_ott896449:(0.1338) but_037_Dryas_iulia_ott458065:(0.1664) \n"
     ]
    },
    {
     "name": "stderr",
     "output_type": "stream",
     "text": [
      "Collecting topk: 22it [00:00, 22.68it/s]  \n"
     ]
    },
    {
     "name": "stdout",
     "output_type": "stream",
     "text": [
      "Node 038+043\n",
      "\t Child: 038+042\n",
      "\t\tProto:9 but_038_Ithomia_xenos_ott265497:(1.0) but_039_Greta_nero_ott3119044:(1.0) but_040_Godyris_zavaleta_ott411073:(1.0) but_041_Greta_annette_ott221639:(1.0) but_042_Hyposcada_virginiana_ott79749:(1.0) \n",
      "\t\tProto:3 but_038_Ithomia_xenos_ott265497:(0.9995) but_039_Greta_nero_ott3119044:(0.9973) but_040_Godyris_zavaleta_ott411073:(0.9999) but_041_Greta_annette_ott221639:(0.9274) but_042_Hyposcada_virginiana_ott79749:(0.9994) \n",
      "\t Child: but_043_Paititia_neglecta_ott361142\n",
      "\t\tProto:11 but_043_Paititia_neglecta_ott361142:(1.0) \n",
      "\t\tProto:12 but_043_Paititia_neglecta_ott361142:(1.0) \n",
      "\t\tProto:14 but_043_Paititia_neglecta_ott361142:(1.0) \n"
     ]
    },
    {
     "name": "stderr",
     "output_type": "stream",
     "text": [
      "Collecting topk: 35it [00:01, 27.98it/s]  \n"
     ]
    },
    {
     "name": "stdout",
     "output_type": "stream",
     "text": [
      "Node 044+045+052\n",
      "\t Child: but_044_Catonephele_orites_ott773670\n",
      "\t\tProto:7 but_044_Catonephele_orites_ott773670:(1.0) \n",
      "\t Child: 045+047\n",
      "\t\tProto:16 but_045_Eunica_pusilla_ott3116519:(0.9987) but_046_Eunica_marsolia_ott3116572:(0.9619) but_047_Temenis_laothoe_ott1079091:(0.9975) but_048_Nessaea_obrinus_ott3116445:(0.9985) but_049_Batesia_hypochlora_ott451934:(0.9981) \n",
      "\t\tProto:10 but_045_Eunica_pusilla_ott3116519:(0.9009) but_046_Eunica_marsolia_ott3116572:(0.5606) but_047_Temenis_laothoe_ott1079091:(0.9684) but_048_Nessaea_obrinus_ott3116445:(0.9605) but_049_Batesia_hypochlora_ott451934:(0.9142) \n",
      "\t\tProto:11 but_045_Eunica_pusilla_ott3116519:(0.9943) but_046_Eunica_marsolia_ott3116572:(0.9766) but_047_Temenis_laothoe_ott1079091:(0.9921) but_048_Nessaea_obrinus_ott3116445:(0.9948) but_049_Batesia_hypochlora_ott451934:(0.9865) \n",
      "\t\tProto:13 but_045_Eunica_pusilla_ott3116519:(0.9535) but_046_Eunica_marsolia_ott3116572:(0.9257) but_047_Temenis_laothoe_ott1079091:(0.9971) but_048_Nessaea_obrinus_ott3116445:(1.0) but_049_Batesia_hypochlora_ott451934:(0.9998) \n",
      "\t Child: 052+053\n",
      "\t\tProto:25 but_052_Pyrrhogyra_amphiro_ott3116287:(0.9999) but_053_Pyrrhogyra_otolais_ott461907:(1.0) \n"
     ]
    },
    {
     "name": "stderr",
     "output_type": "stream",
     "text": [
      "Collecting topk: 100% 8/8 [00:00<00:00, 11.35it/s]\n"
     ]
    },
    {
     "name": "stdout",
     "output_type": "stream",
     "text": [
      "Node 054+055\n",
      "\t Child: but_054_Tigridia_acesta_ott105886\n",
      "\t\tProto:8 but_054_Tigridia_acesta_ott105886:(1.0) \n",
      "\t Child: but_055_Colobura_dirce_ott977975\n",
      "\t\tProto:17 but_055_Colobura_dirce_ott977975:(0.9989) \n",
      "\t\tProto:10 but_055_Colobura_dirce_ott977975:(1.0) \n"
     ]
    },
    {
     "name": "stderr",
     "output_type": "stream",
     "text": [
      "Collecting topk: 100% 9/9 [00:00<00:00, 12.40it/s]\n"
     ]
    },
    {
     "name": "stdout",
     "output_type": "stream",
     "text": [
      "Node 001+002\n",
      "\t Child: but_001_Taygetis_cleopatra_ott3105132\n",
      "\t\tProto:3 but_001_Taygetis_cleopatra_ott3105132:(0.9998) \n",
      "\t\tProto:6 but_001_Taygetis_cleopatra_ott3105132:(0.9991) \n",
      "\t\tProto:7 but_001_Taygetis_cleopatra_ott3105132:(1.0) \n",
      "\t Child: but_002_Taygetis_thamyra_ott483838\n",
      "\t\tProto:14 but_002_Taygetis_thamyra_ott483838:(0.9565) \n"
     ]
    },
    {
     "name": "stderr",
     "output_type": "stream",
     "text": [
      "Collecting topk: 32it [00:01, 26.85it/s]\n"
     ]
    },
    {
     "name": "stdout",
     "output_type": "stream",
     "text": [
      "Node 003+005\n",
      "\t Child: 003+004\n",
      "\t\tProto:9 but_003_Morpho_menelaus_ott830884:(0.9997) but_004_Morpho_helenor_ott634337:(0.9991) \n",
      "\t\tProto:2 but_003_Morpho_menelaus_ott830884:(0.9997) but_004_Morpho_helenor_ott634337:(0.9991) \n",
      "\t\tProto:3 but_003_Morpho_menelaus_ott830884:(0.9994) but_004_Morpho_helenor_ott634337:(1.0) \n",
      "\t Child: 005+009\n",
      "\t\tProto:18 but_005_Opsiphanes_invirae_ott1056460:(0.9994) but_006_Catoblepia_berecynthia_ott3104050:(0.9995) but_007_Caligo_idomeneus_ott401861:(0.999) but_008_Caligo_eurilochus_ott572882:(0.9866) but_009_Bia_actorion_ott451938:(0.9999) \n",
      "\t\tProto:14 but_005_Opsiphanes_invirae_ott1056460:(1.0) but_006_Catoblepia_berecynthia_ott3104050:(1.0) but_007_Caligo_idomeneus_ott401861:(0.9997) but_008_Caligo_eurilochus_ott572882:(0.9972) but_009_Bia_actorion_ott451938:(1.0) \n",
      "\t\tProto:15 but_005_Opsiphanes_invirae_ott1056460:(0.9999) but_006_Catoblepia_berecynthia_ott3104050:(1.0) but_007_Caligo_idomeneus_ott401861:(0.9994) but_008_Caligo_eurilochus_ott572882:(0.9916) but_009_Bia_actorion_ott451938:(0.9999) \n"
     ]
    },
    {
     "name": "stderr",
     "output_type": "stream",
     "text": [
      "Collecting topk: 100% 9/9 [00:00<00:00, 12.37it/s]\n"
     ]
    },
    {
     "name": "stdout",
     "output_type": "stream",
     "text": [
      "Node 011+012\n",
      "\t Child: but_011_Memphis_glauce_ott235310\n",
      "\t\tProto:1 but_011_Memphis_glauce_ott235310:(1.0) \n",
      "\t\tProto:2 but_011_Memphis_glauce_ott235310:(1.0) \n",
      "\t Child: but_012_Memphis_moruus_ott834399\n",
      "\t\tProto:19 but_012_Memphis_moruus_ott834399:(1.0) \n"
     ]
    },
    {
     "name": "stderr",
     "output_type": "stream",
     "text": [
      "Collecting topk: 83it [00:02, 39.48it/s]\n"
     ]
    },
    {
     "name": "stdout",
     "output_type": "stream",
     "text": [
      "Node 029+034\n",
      "\t Child: 029+013\n",
      "\t\tProto:1 but_013_Heliconius_atthis_ott1024619:(1.0) but_014_Heliconius_elevatus_ott1034618:(0.9973) but_015_Heliconius_ethilla_ott358146:(0.9999) but_016_Heliconius_numata_ott358148:(1.0) but_017_Heliconius_ismenius_ott984238:(1.0) but_018_Heliconius_melpomene_ott896444:(1.0) but_019_Heliconius_timareta_ott145706:(0.9999) but_020_Heliconius_cydno_ott984236:(1.0) but_021_Heliconius_pachinus_ott984241:(1.0) but_022_Heliconius_wallacei_ott984240:(0.9999) but_023_Heliconius_hierax_ott372033:(0.9998) but_024_Heliconius_xanthocles_ott1034613:(0.9998) but_028_Heliconius_eleuchia_ott407976:(1.0) but_029_Heliconius_sara_ott1034608:(0.9999) but_030_Heliconius_charithonia_ott259142:(0.9993) but_032_Heliconius_clysonymus_ott1034615:(0.9991) but_033_Heliconius_telesiphe_ott984230:(0.9928) \n",
      "\t\tProto:9 but_013_Heliconius_atthis_ott1024619:(0.9999) but_014_Heliconius_elevatus_ott1034618:(1.0) but_015_Heliconius_ethilla_ott358146:(0.9737) but_016_Heliconius_numata_ott358148:(1.0) but_017_Heliconius_ismenius_ott984238:(1.0) but_018_Heliconius_melpomene_ott896444:(1.0) but_019_Heliconius_timareta_ott145706:(0.9939) but_020_Heliconius_cydno_ott984236:(0.9999) but_021_Heliconius_pachinus_ott984241:(0.9932) but_022_Heliconius_wallacei_ott984240:(0.9999) but_023_Heliconius_hierax_ott372033:(1.0) but_024_Heliconius_xanthocles_ott1034613:(0.9996) but_028_Heliconius_eleuchia_ott407976:(1.0) but_029_Heliconius_sara_ott1034608:(0.9997) but_030_Heliconius_charithonia_ott259142:(0.9821) but_032_Heliconius_clysonymus_ott1034615:(0.9996) but_033_Heliconius_telesiphe_ott984230:(0.9992) \n",
      "\t Child: 034+035\n",
      "\t\tProto:16 but_034_Eueides_isabella_ott1034607:(0.9884) but_035_Eueides_aliphera_ott1034606:(0.9984) \n",
      "\t\tProto:10 but_034_Eueides_isabella_ott1034607:(0.1245) but_035_Eueides_aliphera_ott1034606:(0.9143) \n"
     ]
    },
    {
     "name": "stderr",
     "output_type": "stream",
     "text": [
      "Collecting topk: 100% 6/6 [00:00<00:00,  8.95it/s]\n"
     ]
    },
    {
     "name": "stdout",
     "output_type": "stream",
     "text": [
      "Node 036+037\n",
      "\t Child: but_036_Dryadula_phaetusa_ott896449\n",
      "\t\tProto:1 but_036_Dryadula_phaetusa_ott896449:(0.9997) \n",
      "\t Child: but_037_Dryas_iulia_ott458065\n",
      "\t\tProto:14 but_037_Dryas_iulia_ott458065:(1.0) \n",
      "\t\tProto:15 but_037_Dryas_iulia_ott458065:(0.999) \n"
     ]
    },
    {
     "name": "stderr",
     "output_type": "stream",
     "text": [
      "Collecting topk: 18it [00:00, 19.37it/s]  \n"
     ]
    },
    {
     "name": "stdout",
     "output_type": "stream",
     "text": [
      "Node 038+042\n",
      "\t Child: 038+039\n",
      "\t\tProto:1 but_038_Ithomia_xenos_ott265497:(0.9999) but_039_Greta_nero_ott3119044:(0.9999) but_040_Godyris_zavaleta_ott411073:(0.9999) but_041_Greta_annette_ott221639:(0.9997) \n",
      "\t\tProto:4 but_038_Ithomia_xenos_ott265497:(1.0) but_039_Greta_nero_ott3119044:(0.9979) but_040_Godyris_zavaleta_ott411073:(0.9999) but_041_Greta_annette_ott221639:(0.9992) \n",
      "\t\tProto:5 but_038_Ithomia_xenos_ott265497:(0.9997) but_039_Greta_nero_ott3119044:(0.9999) but_040_Godyris_zavaleta_ott411073:(1.0) but_041_Greta_annette_ott221639:(0.9999) \n",
      "\t Child: but_042_Hyposcada_virginiana_ott79749\n",
      "\t\tProto:19 but_042_Hyposcada_virginiana_ott79749:(1.0) \n"
     ]
    },
    {
     "name": "stderr",
     "output_type": "stream",
     "text": [
      "Collecting topk: 24it [00:01, 23.60it/s]\n"
     ]
    },
    {
     "name": "stdout",
     "output_type": "stream",
     "text": [
      "Node 045+047\n",
      "\t Child: 045+046\n",
      "\t\tProto:1 but_045_Eunica_pusilla_ott3116519:(1.0) but_046_Eunica_marsolia_ott3116572:(0.9997) \n",
      "\t\tProto:9 but_045_Eunica_pusilla_ott3116519:(1.0) but_046_Eunica_marsolia_ott3116572:(0.9998) \n",
      "\t Child: 047+049\n",
      "\t\tProto:17 but_047_Temenis_laothoe_ott1079091:(0.9999) but_048_Nessaea_obrinus_ott3116445:(1.0) but_049_Batesia_hypochlora_ott451934:(1.0) \n",
      "\t\tProto:10 but_047_Temenis_laothoe_ott1079091:(1.0) but_048_Nessaea_obrinus_ott3116445:(1.0) but_049_Batesia_hypochlora_ott451934:(1.0) \n"
     ]
    },
    {
     "name": "stderr",
     "output_type": "stream",
     "text": [
      "Collecting topk: 100% 7/7 [00:00<00:00,  9.94it/s]\n"
     ]
    },
    {
     "name": "stdout",
     "output_type": "stream",
     "text": [
      "Node 052+053\n",
      "\t Child: but_052_Pyrrhogyra_amphiro_ott3116287\n",
      "\t\tProto:2 but_052_Pyrrhogyra_amphiro_ott3116287:(1.0) \n",
      "\t\tProto:7 but_052_Pyrrhogyra_amphiro_ott3116287:(1.0) \n",
      "\t Child: but_053_Pyrrhogyra_otolais_ott461907\n",
      "\t\tProto:15 but_053_Pyrrhogyra_otolais_ott461907:(1.0) \n"
     ]
    },
    {
     "name": "stderr",
     "output_type": "stream",
     "text": [
      "Collecting topk: 100% 10/10 [00:00<00:00, 13.22it/s]\n"
     ]
    },
    {
     "name": "stdout",
     "output_type": "stream",
     "text": [
      "Node 003+004\n",
      "\t Child: but_003_Morpho_menelaus_ott830884\n",
      "\t\tProto:2 but_003_Morpho_menelaus_ott830884:(0.9999) \n",
      "\t Child: but_004_Morpho_helenor_ott634337\n",
      "\t\tProto:10 but_004_Morpho_helenor_ott634337:(0.9635) \n",
      "\t\tProto:12 but_004_Morpho_helenor_ott634337:(0.9991) \n",
      "\t\tProto:13 but_004_Morpho_helenor_ott634337:(0.9985) \n",
      "\t\tProto:15 but_004_Morpho_helenor_ott634337:(0.9967) \n",
      "\t\tProto:17 but_004_Morpho_helenor_ott634337:(0.9993) \n"
     ]
    },
    {
     "name": "stderr",
     "output_type": "stream",
     "text": [
      "Collecting topk: 22it [00:00, 23.01it/s]  \n"
     ]
    },
    {
     "name": "stdout",
     "output_type": "stream",
     "text": [
      "Node 005+009\n",
      "\t Child: 005+007\n",
      "\t\tProto:1 but_005_Opsiphanes_invirae_ott1056460:(0.9979) but_006_Catoblepia_berecynthia_ott3104050:(0.9996) but_007_Caligo_idomeneus_ott401861:(1.0) but_008_Caligo_eurilochus_ott572882:(0.9997) \n",
      "\t\tProto:2 but_005_Opsiphanes_invirae_ott1056460:(1.0) but_006_Catoblepia_berecynthia_ott3104050:(0.9981) but_007_Caligo_idomeneus_ott401861:(1.0) but_008_Caligo_eurilochus_ott572882:(0.9995) \n",
      "\t Child: but_009_Bia_actorion_ott451938\n",
      "\t\tProto:12 but_009_Bia_actorion_ott451938:(0.9974) \n",
      "\t\tProto:13 but_009_Bia_actorion_ott451938:(0.9983) \n"
     ]
    },
    {
     "name": "stderr",
     "output_type": "stream",
     "text": [
      "Collecting topk: 76it [00:01, 38.15it/s]\n"
     ]
    },
    {
     "name": "stdout",
     "output_type": "stream",
     "text": [
      "Node 029+013\n",
      "\t Child: 029+032\n",
      "\t\tProto:8 but_028_Heliconius_eleuchia_ott407976:(0.9974) but_029_Heliconius_sara_ott1034608:(0.9999) but_030_Heliconius_charithonia_ott259142:(0.9644) but_032_Heliconius_clysonymus_ott1034615:(0.977) but_033_Heliconius_telesiphe_ott984230:(1.0) \n",
      "\t\tProto:1 but_028_Heliconius_eleuchia_ott407976:(0.9999) but_029_Heliconius_sara_ott1034608:(0.9998) but_030_Heliconius_charithonia_ott259142:(0.9392) but_032_Heliconius_clysonymus_ott1034615:(0.9892) but_033_Heliconius_telesiphe_ott984230:(0.9962) \n",
      "\t\tProto:4 but_028_Heliconius_eleuchia_ott407976:(0.8496) but_029_Heliconius_sara_ott1034608:(0.9969) but_030_Heliconius_charithonia_ott259142:(0.6692) but_032_Heliconius_clysonymus_ott1034615:(0.6005) but_033_Heliconius_telesiphe_ott984230:(0.9951) \n",
      "\t Child: 013+023\n",
      "\t\tProto:17 but_013_Heliconius_atthis_ott1024619:(1.0) but_014_Heliconius_elevatus_ott1034618:(0.9921) but_015_Heliconius_ethilla_ott358146:(0.9901) but_016_Heliconius_numata_ott358148:(1.0) but_017_Heliconius_ismenius_ott984238:(1.0) but_018_Heliconius_melpomene_ott896444:(1.0) but_019_Heliconius_timareta_ott145706:(1.0) but_020_Heliconius_cydno_ott984236:(0.9988) but_021_Heliconius_pachinus_ott984241:(0.9736) but_022_Heliconius_wallacei_ott984240:(0.021) but_023_Heliconius_hierax_ott372033:(0.9996) but_024_Heliconius_xanthocles_ott1034613:(0.9976) \n",
      "\t\tProto:18 but_013_Heliconius_atthis_ott1024619:(0.9618) but_014_Heliconius_elevatus_ott1034618:(0.93) but_015_Heliconius_ethilla_ott358146:(0.9774) but_016_Heliconius_numata_ott358148:(0.9879) but_017_Heliconius_ismenius_ott984238:(0.9977) but_018_Heliconius_melpomene_ott896444:(0.9999) but_019_Heliconius_timareta_ott145706:(0.9703) but_020_Heliconius_cydno_ott984236:(0.7592) but_021_Heliconius_pachinus_ott984241:(0.7139) but_022_Heliconius_wallacei_ott984240:(0.9452) but_023_Heliconius_hierax_ott372033:(0.8694) but_024_Heliconius_xanthocles_ott1034613:(0.9997) \n",
      "\t\tProto:14 but_013_Heliconius_atthis_ott1024619:(0.9996) but_014_Heliconius_elevatus_ott1034618:(0.9976) but_015_Heliconius_ethilla_ott358146:(0.9975) but_016_Heliconius_numata_ott358148:(0.9999) but_017_Heliconius_ismenius_ott984238:(0.9881) but_018_Heliconius_melpomene_ott896444:(0.9998) but_019_Heliconius_timareta_ott145706:(0.9868) but_020_Heliconius_cydno_ott984236:(0.9774) but_021_Heliconius_pachinus_ott984241:(0.9997) but_022_Heliconius_wallacei_ott984240:(0.7115) but_023_Heliconius_hierax_ott372033:(0.9476) but_024_Heliconius_xanthocles_ott1034613:(1.0) \n"
     ]
    },
    {
     "name": "stderr",
     "output_type": "stream",
     "text": [
      "Collecting topk: 100% 7/7 [00:00<00:00,  9.87it/s]\n"
     ]
    },
    {
     "name": "stdout",
     "output_type": "stream",
     "text": [
      "Node 034+035\n",
      "\t Child: but_034_Eueides_isabella_ott1034607\n",
      "\t\tProto:1 but_034_Eueides_isabella_ott1034607:(0.9999) \n",
      "\t\tProto:9 but_034_Eueides_isabella_ott1034607:(0.9999) \n",
      "\t Child: but_035_Eueides_aliphera_ott1034606\n",
      "\t\tProto:16 but_035_Eueides_aliphera_ott1034606:(1.0) \n"
     ]
    },
    {
     "name": "stderr",
     "output_type": "stream",
     "text": [
      "Collecting topk: 15it [00:00, 18.10it/s]  \n"
     ]
    },
    {
     "name": "stdout",
     "output_type": "stream",
     "text": [
      "Node 038+039\n",
      "\t Child: but_038_Ithomia_xenos_ott265497\n",
      "\t\tProto:2 but_038_Ithomia_xenos_ott265497:(1.0) \n",
      "\t Child: 039+040\n",
      "\t\tProto:13 but_039_Greta_nero_ott3119044:(1.0) but_040_Godyris_zavaleta_ott411073:(1.0) but_041_Greta_annette_ott221639:(1.0) \n"
     ]
    },
    {
     "name": "stderr",
     "output_type": "stream",
     "text": [
      "Collecting topk: 100% 8/8 [00:00<00:00, 10.74it/s]\n"
     ]
    },
    {
     "name": "stdout",
     "output_type": "stream",
     "text": [
      "Node 045+046\n",
      "\t Child: but_045_Eunica_pusilla_ott3116519\n",
      "\t\tProto:0 but_045_Eunica_pusilla_ott3116519:(0.9998) \n",
      "\t\tProto:8 but_045_Eunica_pusilla_ott3116519:(1.0) \n",
      "\t\tProto:2 but_045_Eunica_pusilla_ott3116519:(1.0) \n",
      "\t\tProto:4 but_045_Eunica_pusilla_ott3116519:(0.9948) \n",
      "\t Child: but_046_Eunica_marsolia_ott3116572\n",
      "\t\tProto:13 but_046_Eunica_marsolia_ott3116572:(1.0) \n"
     ]
    },
    {
     "name": "stderr",
     "output_type": "stream",
     "text": [
      "Collecting topk: 16it [00:00, 18.34it/s]  \n"
     ]
    },
    {
     "name": "stdout",
     "output_type": "stream",
     "text": [
      "Node 047+049\n",
      "\t Child: 047+048\n",
      "\t\tProto:0 but_047_Temenis_laothoe_ott1079091:(1.0) but_048_Nessaea_obrinus_ott3116445:(0.9996) \n",
      "\t\tProto:7 but_047_Temenis_laothoe_ott1079091:(0.9999) but_048_Nessaea_obrinus_ott3116445:(1.0) \n",
      "\t Child: but_049_Batesia_hypochlora_ott451934\n",
      "\t\tProto:16 but_049_Batesia_hypochlora_ott451934:(1.0) \n",
      "\t\tProto:17 but_049_Batesia_hypochlora_ott451934:(1.0) \n"
     ]
    },
    {
     "name": "stderr",
     "output_type": "stream",
     "text": [
      "Collecting topk: 18it [00:00, 20.22it/s]\n"
     ]
    },
    {
     "name": "stdout",
     "output_type": "stream",
     "text": [
      "Node 005+007\n",
      "\t Child: 005+006\n",
      "\t\tProto:9 but_005_Opsiphanes_invirae_ott1056460:(1.0) but_006_Catoblepia_berecynthia_ott3104050:(0.9999) \n",
      "\t\tProto:3 but_005_Opsiphanes_invirae_ott1056460:(1.0) but_006_Catoblepia_berecynthia_ott3104050:(1.0) \n",
      "\t Child: 007+008\n",
      "\t\tProto:13 but_007_Caligo_idomeneus_ott401861:(1.0) but_008_Caligo_eurilochus_ott572882:(0.9999) \n"
     ]
    },
    {
     "name": "stderr",
     "output_type": "stream",
     "text": [
      "Collecting topk: 19it [00:00, 20.39it/s]\n"
     ]
    },
    {
     "name": "stdout",
     "output_type": "stream",
     "text": [
      "Node 029+032\n",
      "\t Child: 029+030\n",
      "\t\tProto:0 but_028_Heliconius_eleuchia_ott407976:(1.0) but_029_Heliconius_sara_ott1034608:(1.0) but_030_Heliconius_charithonia_ott259142:(0.9998) \n",
      "\t\tProto:1 but_028_Heliconius_eleuchia_ott407976:(1.0) but_029_Heliconius_sara_ott1034608:(1.0) but_030_Heliconius_charithonia_ott259142:(1.0) \n",
      "\t\tProto:7 but_028_Heliconius_eleuchia_ott407976:(1.0) but_029_Heliconius_sara_ott1034608:(1.0) but_030_Heliconius_charithonia_ott259142:(0.9969) \n",
      "\t Child: 032+033\n",
      "\t\tProto:19 but_032_Heliconius_clysonymus_ott1034615:(1.0) but_033_Heliconius_telesiphe_ott984230:(1.0) \n"
     ]
    },
    {
     "name": "stderr",
     "output_type": "stream",
     "text": [
      "Collecting topk: 57it [00:01, 34.86it/s]\n"
     ]
    },
    {
     "name": "stdout",
     "output_type": "stream",
     "text": [
      "Node 013+023\n",
      "\t Child: 013+022\n",
      "\t\tProto:3 but_013_Heliconius_atthis_ott1024619:(0.9979) but_014_Heliconius_elevatus_ott1034618:(0.6528) but_015_Heliconius_ethilla_ott358146:(0.9974) but_016_Heliconius_numata_ott358148:(0.9859) but_017_Heliconius_ismenius_ott984238:(0.9994) but_018_Heliconius_melpomene_ott896444:(0.9747) but_019_Heliconius_timareta_ott145706:(0.9357) but_020_Heliconius_cydno_ott984236:(0.9996) but_021_Heliconius_pachinus_ott984241:(0.9333) but_022_Heliconius_wallacei_ott984240:(0.9997) \n",
      "\t\tProto:4 but_013_Heliconius_atthis_ott1024619:(0.9965) but_014_Heliconius_elevatus_ott1034618:(0.6123) but_015_Heliconius_ethilla_ott358146:(0.9974) but_016_Heliconius_numata_ott358148:(0.9995) but_017_Heliconius_ismenius_ott984238:(0.9903) but_018_Heliconius_melpomene_ott896444:(0.9867) but_019_Heliconius_timareta_ott145706:(0.999) but_020_Heliconius_cydno_ott984236:(0.9978) but_021_Heliconius_pachinus_ott984241:(0.9271) but_022_Heliconius_wallacei_ott984240:(0.9464) \n",
      "\t\tProto:5 but_013_Heliconius_atthis_ott1024619:(0.9975) but_014_Heliconius_elevatus_ott1034618:(0.5769) but_015_Heliconius_ethilla_ott358146:(0.9752) but_016_Heliconius_numata_ott358148:(0.9761) but_017_Heliconius_ismenius_ott984238:(0.8314) but_018_Heliconius_melpomene_ott896444:(0.9998) but_019_Heliconius_timareta_ott145706:(0.9864) but_020_Heliconius_cydno_ott984236:(0.9985) but_021_Heliconius_pachinus_ott984241:(0.9823) but_022_Heliconius_wallacei_ott984240:(0.9964) \n",
      "\t\tProto:7 but_013_Heliconius_atthis_ott1024619:(0.9998) but_014_Heliconius_elevatus_ott1034618:(0.8066) but_015_Heliconius_ethilla_ott358146:(0.9947) but_016_Heliconius_numata_ott358148:(0.9998) but_017_Heliconius_ismenius_ott984238:(0.9998) but_018_Heliconius_melpomene_ott896444:(0.9406) but_019_Heliconius_timareta_ott145706:(0.9987) but_020_Heliconius_cydno_ott984236:(1.0) but_021_Heliconius_pachinus_ott984241:(0.8859) but_022_Heliconius_wallacei_ott984240:(0.9999) \n",
      "\t\tProto:8 but_013_Heliconius_atthis_ott1024619:(0.9996) but_014_Heliconius_elevatus_ott1034618:(0.5014) but_015_Heliconius_ethilla_ott358146:(0.9938) but_016_Heliconius_numata_ott358148:(0.9996) but_017_Heliconius_ismenius_ott984238:(0.999) but_018_Heliconius_melpomene_ott896444:(0.2843) but_019_Heliconius_timareta_ott145706:(0.9954) but_020_Heliconius_cydno_ott984236:(0.999) but_021_Heliconius_pachinus_ott984241:(0.9661) but_022_Heliconius_wallacei_ott984240:(0.999) \n",
      "\t Child: 023+024\n",
      "\t\tProto:11 but_023_Heliconius_hierax_ott372033:(0.9991) but_024_Heliconius_xanthocles_ott1034613:(0.9999) \n"
     ]
    },
    {
     "name": "stderr",
     "output_type": "stream",
     "text": [
      "Collecting topk: 10it [00:00, 12.84it/s]  \n"
     ]
    },
    {
     "name": "stdout",
     "output_type": "stream",
     "text": [
      "Node 039+040\n",
      "\t Child: but_039_Greta_nero_ott3119044\n",
      "\t\tProto:1 but_039_Greta_nero_ott3119044:(1.0) \n",
      "\t Child: 040+041\n",
      "\t\tProto:19 but_040_Godyris_zavaleta_ott411073:(1.0) but_041_Greta_annette_ott221639:(0.5751) \n"
     ]
    },
    {
     "name": "stderr",
     "output_type": "stream",
     "text": [
      "Collecting topk: 100% 10/10 [00:00<00:00, 13.31it/s]\n"
     ]
    },
    {
     "name": "stdout",
     "output_type": "stream",
     "text": [
      "Node 047+048\n",
      "\t Child: but_047_Temenis_laothoe_ott1079091\n",
      "\t\tProto:8 but_047_Temenis_laothoe_ott1079091:(0.9998) \n",
      "\t\tProto:5 but_047_Temenis_laothoe_ott1079091:(1.0) \n",
      "\t Child: but_048_Nessaea_obrinus_ott3116445\n",
      "\t\tProto:12 but_048_Nessaea_obrinus_ott3116445:(1.0) \n"
     ]
    },
    {
     "name": "stderr",
     "output_type": "stream",
     "text": [
      "Collecting topk: 100% 9/9 [00:00<00:00, 12.41it/s]\n"
     ]
    },
    {
     "name": "stdout",
     "output_type": "stream",
     "text": [
      "Node 005+006\n",
      "\t Child: but_005_Opsiphanes_invirae_ott1056460\n",
      "\t\tProto:5 but_005_Opsiphanes_invirae_ott1056460:(1.0) \n",
      "\t Child: but_006_Catoblepia_berecynthia_ott3104050\n",
      "\t\tProto:11 but_006_Catoblepia_berecynthia_ott3104050:(1.0) \n"
     ]
    },
    {
     "name": "stderr",
     "output_type": "stream",
     "text": [
      "Collecting topk: 100% 9/9 [00:00<00:00, 12.45it/s]\n"
     ]
    },
    {
     "name": "stdout",
     "output_type": "stream",
     "text": [
      "Node 007+008\n",
      "\t Child: but_007_Caligo_idomeneus_ott401861\n",
      "\t\tProto:0 but_007_Caligo_idomeneus_ott401861:(0.9831) \n",
      "\t\tProto:2 but_007_Caligo_idomeneus_ott401861:(0.9948) \n",
      "\t\tProto:5 but_007_Caligo_idomeneus_ott401861:(0.9996) \n",
      "\t Child: but_008_Caligo_eurilochus_ott572882\n",
      "\t\tProto:10 but_008_Caligo_eurilochus_ott572882:(0.9999) \n"
     ]
    },
    {
     "name": "stderr",
     "output_type": "stream",
     "text": [
      "Collecting topk: 13it [00:00, 16.12it/s]  \n"
     ]
    },
    {
     "name": "stdout",
     "output_type": "stream",
     "text": [
      "Node 029+030\n",
      "\t Child: 029+028\n",
      "\t\tProto:0 but_028_Heliconius_eleuchia_ott407976:(0.9998) but_029_Heliconius_sara_ott1034608:(1.0) \n",
      "\t\tProto:9 but_028_Heliconius_eleuchia_ott407976:(1.0) but_029_Heliconius_sara_ott1034608:(1.0) \n",
      "\t\tProto:5 but_028_Heliconius_eleuchia_ott407976:(1.0) but_029_Heliconius_sara_ott1034608:(1.0) \n",
      "\t Child: but_030_Heliconius_charithonia_ott259142\n",
      "\t\tProto:15 but_030_Heliconius_charithonia_ott259142:(1.0) \n"
     ]
    },
    {
     "name": "stderr",
     "output_type": "stream",
     "text": [
      "Collecting topk: 100% 6/6 [00:00<00:00,  8.81it/s]\n"
     ]
    },
    {
     "name": "stdout",
     "output_type": "stream",
     "text": [
      "Node 032+033\n",
      "\t Child: but_032_Heliconius_clysonymus_ott1034615\n",
      "\t\tProto:5 but_032_Heliconius_clysonymus_ott1034615:(0.9996) \n",
      "\t Child: but_033_Heliconius_telesiphe_ott984230\n",
      "\t\tProto:16 but_033_Heliconius_telesiphe_ott984230:(1.0) \n"
     ]
    },
    {
     "name": "stderr",
     "output_type": "stream",
     "text": [
      "Collecting topk: 47it [00:01, 32.67it/s]  \n"
     ]
    },
    {
     "name": "stdout",
     "output_type": "stream",
     "text": [
      "Node 013+022\n",
      "\t Child: 013+018\n",
      "\t\tProto:9 but_013_Heliconius_atthis_ott1024619:(0.9994) but_014_Heliconius_elevatus_ott1034618:(0.9977) but_015_Heliconius_ethilla_ott358146:(0.9999) but_016_Heliconius_numata_ott358148:(1.0) but_017_Heliconius_ismenius_ott984238:(0.9995) but_018_Heliconius_melpomene_ott896444:(1.0) but_019_Heliconius_timareta_ott145706:(0.9728) but_020_Heliconius_cydno_ott984236:(0.9974) but_021_Heliconius_pachinus_ott984241:(0.9996) \n",
      "\t\tProto:4 but_013_Heliconius_atthis_ott1024619:(0.993) but_014_Heliconius_elevatus_ott1034618:(0.9989) but_015_Heliconius_ethilla_ott358146:(0.9993) but_016_Heliconius_numata_ott358148:(1.0) but_017_Heliconius_ismenius_ott984238:(0.9986) but_018_Heliconius_melpomene_ott896444:(0.9997) but_019_Heliconius_timareta_ott145706:(0.9998) but_020_Heliconius_cydno_ott984236:(0.9908) but_021_Heliconius_pachinus_ott984241:(0.9984) \n",
      "\t Child: but_022_Heliconius_wallacei_ott984240\n",
      "\t\tProto:16 but_022_Heliconius_wallacei_ott984240:(0.9987) \n",
      "\t\tProto:18 but_022_Heliconius_wallacei_ott984240:(0.9985) \n"
     ]
    },
    {
     "name": "stderr",
     "output_type": "stream",
     "text": [
      "Collecting topk: 100% 10/10 [00:00<00:00, 13.08it/s]\n"
     ]
    },
    {
     "name": "stdout",
     "output_type": "stream",
     "text": [
      "Node 023+024\n",
      "\t Child: but_023_Heliconius_hierax_ott372033\n",
      "\t\tProto:9 but_023_Heliconius_hierax_ott372033:(1.0) \n",
      "\t Child: but_024_Heliconius_xanthocles_ott1034613\n",
      "\t\tProto:17 but_024_Heliconius_xanthocles_ott1034613:(1.0) \n",
      "\t\tProto:10 but_024_Heliconius_xanthocles_ott1034613:(1.0) \n"
     ]
    },
    {
     "name": "stderr",
     "output_type": "stream",
     "text": [
      "Collecting topk: 100% 7/7 [00:00<00:00, 10.16it/s]\n"
     ]
    },
    {
     "name": "stdout",
     "output_type": "stream",
     "text": [
      "Node 040+041\n",
      "\t Child: but_040_Godyris_zavaleta_ott411073\n",
      "\t\tProto:2 but_040_Godyris_zavaleta_ott411073:(1.0) \n",
      "\t Child: but_041_Greta_annette_ott221639\n",
      "\t\tProto:13 but_041_Greta_annette_ott221639:(1.0) \n"
     ]
    },
    {
     "name": "stderr",
     "output_type": "stream",
     "text": [
      "Collecting topk: 100% 10/10 [00:00<00:00, 13.51it/s]\n"
     ]
    },
    {
     "name": "stdout",
     "output_type": "stream",
     "text": [
      "Node 029+028\n",
      "\t Child: but_029_Heliconius_sara_ott1034608\n",
      "\t\tProto:9 but_029_Heliconius_sara_ott1034608:(1.0) \n",
      "\t\tProto:3 but_029_Heliconius_sara_ott1034608:(1.0) \n",
      "\t\tProto:4 but_029_Heliconius_sara_ott1034608:(1.0) \n",
      "\t\tProto:7 but_029_Heliconius_sara_ott1034608:(1.0) \n",
      "\t Child: but_028_Heliconius_eleuchia_ott407976\n",
      "\t\tProto:19 but_028_Heliconius_eleuchia_ott407976:(1.0) \n"
     ]
    },
    {
     "name": "stderr",
     "output_type": "stream",
     "text": [
      "Collecting topk: 42it [00:01, 30.85it/s]\n"
     ]
    },
    {
     "name": "stdout",
     "output_type": "stream",
     "text": [
      "Node 013+018\n",
      "\t Child: 013+016\n",
      "\t\tProto:8 but_013_Heliconius_atthis_ott1024619:(1.0) but_014_Heliconius_elevatus_ott1034618:(0.9739) but_015_Heliconius_ethilla_ott358146:(0.9993) but_016_Heliconius_numata_ott358148:(1.0) but_017_Heliconius_ismenius_ott984238:(0.9998) \n",
      "\t\tProto:9 but_013_Heliconius_atthis_ott1024619:(0.9978) but_014_Heliconius_elevatus_ott1034618:(0.959) but_015_Heliconius_ethilla_ott358146:(0.9964) but_016_Heliconius_numata_ott358148:(0.9972) but_017_Heliconius_ismenius_ott984238:(0.9997) \n",
      "\t\tProto:3 but_013_Heliconius_atthis_ott1024619:(1.0) but_014_Heliconius_elevatus_ott1034618:(0.9509) but_015_Heliconius_ethilla_ott358146:(0.9998) but_016_Heliconius_numata_ott358148:(0.9989) but_017_Heliconius_ismenius_ott984238:(1.0) \n",
      "\t Child: 018+019\n",
      "\t\tProto:11 but_018_Heliconius_melpomene_ott896444:(0.997) but_019_Heliconius_timareta_ott145706:(0.9983) but_020_Heliconius_cydno_ott984236:(0.9983) but_021_Heliconius_pachinus_ott984241:(0.969) \n",
      "\t\tProto:12 but_018_Heliconius_melpomene_ott896444:(1.0) but_019_Heliconius_timareta_ott145706:(0.9993) but_020_Heliconius_cydno_ott984236:(1.0) but_021_Heliconius_pachinus_ott984241:(0.9952) \n",
      "\t\tProto:13 but_018_Heliconius_melpomene_ott896444:(0.9975) but_019_Heliconius_timareta_ott145706:(0.9327) but_020_Heliconius_cydno_ott984236:(0.9923) but_021_Heliconius_pachinus_ott984241:(0.9899) \n",
      "\t\tProto:15 but_018_Heliconius_melpomene_ott896444:(1.0) but_019_Heliconius_timareta_ott145706:(0.9996) but_020_Heliconius_cydno_ott984236:(0.9897) but_021_Heliconius_pachinus_ott984241:(0.9978) \n"
     ]
    },
    {
     "name": "stderr",
     "output_type": "stream",
     "text": [
      "Collecting topk: 23it [00:01, 21.83it/s]\n"
     ]
    },
    {
     "name": "stdout",
     "output_type": "stream",
     "text": [
      "Node 013+016\n",
      "\t Child: 013+015\n",
      "\t\tProto:4 but_013_Heliconius_atthis_ott1024619:(1.0) but_014_Heliconius_elevatus_ott1034618:(1.0) but_015_Heliconius_ethilla_ott358146:(1.0) \n",
      "\t Child: 016+017\n",
      "\t\tProto:16 but_016_Heliconius_numata_ott358148:(1.0) but_017_Heliconius_ismenius_ott984238:(0.9989) \n"
     ]
    },
    {
     "name": "stderr",
     "output_type": "stream",
     "text": [
      "Collecting topk: 19it [00:00, 20.46it/s]  \n"
     ]
    },
    {
     "name": "stdout",
     "output_type": "stream",
     "text": [
      "Node 018+019\n",
      "\t Child: but_018_Heliconius_melpomene_ott896444\n",
      "\t\tProto:8 but_018_Heliconius_melpomene_ott896444:(0.9999) \n",
      "\t\tProto:1 but_018_Heliconius_melpomene_ott896444:(1.0) \n",
      "\t\tProto:6 but_018_Heliconius_melpomene_ott896444:(0.9936) \n",
      "\t Child: 019+020\n",
      "\t\tProto:19 but_019_Heliconius_timareta_ott145706:(0.9968) but_020_Heliconius_cydno_ott984236:(0.9976) but_021_Heliconius_pachinus_ott984241:(0.5849) \n",
      "\t\tProto:11 but_019_Heliconius_timareta_ott145706:(1.0) but_020_Heliconius_cydno_ott984236:(1.0) but_021_Heliconius_pachinus_ott984241:(0.9954) \n",
      "\t\tProto:13 but_019_Heliconius_timareta_ott145706:(0.9998) but_020_Heliconius_cydno_ott984236:(1.0) but_021_Heliconius_pachinus_ott984241:(1.0) \n",
      "\t\tProto:14 but_019_Heliconius_timareta_ott145706:(0.9994) but_020_Heliconius_cydno_ott984236:(0.9983) but_021_Heliconius_pachinus_ott984241:(0.9999) \n"
     ]
    },
    {
     "name": "stderr",
     "output_type": "stream",
     "text": [
      "Collecting topk: 15it [00:00, 17.77it/s]  \n"
     ]
    },
    {
     "name": "stdout",
     "output_type": "stream",
     "text": [
      "Node 013+015\n",
      "\t Child: 013+014\n",
      "\t\tProto:9 but_013_Heliconius_atthis_ott1024619:(1.0) but_014_Heliconius_elevatus_ott1034618:(1.0) \n",
      "\t\tProto:3 but_013_Heliconius_atthis_ott1024619:(1.0) but_014_Heliconius_elevatus_ott1034618:(1.0) \n",
      "\t Child: but_015_Heliconius_ethilla_ott358146\n",
      "\t\tProto:18 but_015_Heliconius_ethilla_ott358146:(1.0) \n"
     ]
    },
    {
     "name": "stderr",
     "output_type": "stream",
     "text": [
      "Collecting topk: 100% 8/8 [00:00<00:00, 11.20it/s]\n"
     ]
    },
    {
     "name": "stdout",
     "output_type": "stream",
     "text": [
      "Node 016+017\n",
      "\t Child: but_016_Heliconius_numata_ott358148\n",
      "\t\tProto:9 but_016_Heliconius_numata_ott358148:(1.0) \n",
      "\t\tProto:3 but_016_Heliconius_numata_ott358148:(1.0) \n",
      "\t\tProto:6 but_016_Heliconius_numata_ott358148:(1.0) \n",
      "\t Child: but_017_Heliconius_ismenius_ott984238\n",
      "\t\tProto:18 but_017_Heliconius_ismenius_ott984238:(1.0) \n"
     ]
    },
    {
     "name": "stderr",
     "output_type": "stream",
     "text": [
      "Collecting topk: 13it [00:00, 15.87it/s]  \n"
     ]
    },
    {
     "name": "stdout",
     "output_type": "stream",
     "text": [
      "Node 019+020\n",
      "\t Child: but_019_Heliconius_timareta_ott145706\n",
      "\t\tProto:3 but_019_Heliconius_timareta_ott145706:(1.0) \n",
      "\t Child: 020+021\n",
      "\t\tProto:16 but_020_Heliconius_cydno_ott984236:(1.0) but_021_Heliconius_pachinus_ott984241:(0.9994) \n",
      "\t\tProto:11 but_020_Heliconius_cydno_ott984236:(1.0) but_021_Heliconius_pachinus_ott984241:(0.9998) \n",
      "\t\tProto:14 but_020_Heliconius_cydno_ott984236:(1.0) but_021_Heliconius_pachinus_ott984241:(1.0) \n"
     ]
    },
    {
     "name": "stderr",
     "output_type": "stream",
     "text": [
      "Collecting topk: 100% 10/10 [00:00<00:00, 13.41it/s]\n"
     ]
    },
    {
     "name": "stdout",
     "output_type": "stream",
     "text": [
      "Node 013+014\n",
      "\t Child: but_013_Heliconius_atthis_ott1024619\n",
      "\t\tProto:7 but_013_Heliconius_atthis_ott1024619:(1.0) \n",
      "\t Child: but_014_Heliconius_elevatus_ott1034618\n",
      "\t\tProto:11 but_014_Heliconius_elevatus_ott1034618:(1.0) \n",
      "\t\tProto:15 but_014_Heliconius_elevatus_ott1034618:(1.0) \n"
     ]
    },
    {
     "name": "stderr",
     "output_type": "stream",
     "text": [
      "Collecting topk: 100% 8/8 [00:00<00:00, 10.90it/s]\n"
     ]
    },
    {
     "name": "stdout",
     "output_type": "stream",
     "text": [
      "Node 020+021\n",
      "\t Child: but_020_Heliconius_cydno_ott984236\n",
      "\t\tProto:0 but_020_Heliconius_cydno_ott984236:(1.0) \n",
      "\t\tProto:2 but_020_Heliconius_cydno_ott984236:(1.0) \n",
      "\t\tProto:4 but_020_Heliconius_cydno_ott984236:(1.0) \n",
      "\t\tProto:7 but_020_Heliconius_cydno_ott984236:(1.0) \n",
      "\t\tProto:9 but_020_Heliconius_cydno_ott984236:(0.9999) \n",
      "\t Child: but_021_Heliconius_pachinus_ott984241\n",
      "\t\tProto:17 but_021_Heliconius_pachinus_ott984241:(1.0) \n",
      "Done !!!\n"
     ]
    }
   ],
   "source": [
    "# Proto activations on leaf descendents - topk images\n",
    "\n",
    "def get_heatmap(latent_activation, input_image, constant_color_scale=False):\n",
    "    image_a = latent_activation.cpu().numpy()\n",
    "    # image_a = (image_a - image_a.min()) / (image_a.max() - image_a.min())\n",
    "\n",
    "    # input_image = (input_image - input_image.min()) / (input_image.max() - input_image.min())\n",
    "    image_b = input_image.permute(1, 2, 0).cpu().numpy()\n",
    "    \n",
    "    reshaped_image_a = np.array(Image.fromarray((image_a[0] * 255).astype('uint8')).resize((input_image.shape[-1], input_image.shape[-1])))\n",
    "\n",
    "    if constant_color_scale:\n",
    "        reshaped_image_a = np.concatenate((reshaped_image_a, np.zeros((reshaped_image_a.shape[1], 1)), np.ones((reshaped_image_a.shape[1], 1))*255), axis=1)\n",
    "    \n",
    "    normalized_heatmap = (reshaped_image_a - np.min(reshaped_image_a)) / (np.max(reshaped_image_a) - np.min(reshaped_image_a))\n",
    "\n",
    "    heatmap_colormap = plt.get_cmap('jet')\n",
    "    heatmap_colored = heatmap_colormap(normalized_heatmap)\n",
    "\n",
    "    if constant_color_scale:\n",
    "        heatmap_colored = heatmap_colored[:, :-2]\n",
    "    \n",
    "    heatmap_colored_uint8 = (heatmap_colored[:, :, :3] * 255).astype(np.uint8)\n",
    "    image_a_heatmap_pillow = Image.fromarray(heatmap_colored_uint8)\n",
    "    image_b_pillow = Image.fromarray((image_b * 255).astype('uint8'))\n",
    "    \n",
    "    result_image = Image.blend(image_b_pillow, image_a_heatmap_pillow, alpha=0.3)\n",
    "    \n",
    "    return np.array(result_image)\n",
    "\n",
    "def get_heatmap_uninterpolated(latent_activation, input_image):\n",
    "    image_a = latent_activation.cpu().numpy()\n",
    "    image_a = (image_a - image_a.min()) / (image_a.max() - image_a.min())\n",
    "\n",
    "    input_image = (input_image - input_image.min()) / (input_image.max() - input_image.min())\n",
    "    image_b = input_image.permute(1, 2, 0).cpu().numpy()\n",
    "    \n",
    "    reshaped_image_a = np.array(Image.fromarray((image_a[0] * 255).astype('uint8')).resize((input_image.shape[-1], input_image.shape[-1]), \\\n",
    "                                                                                          resample=Image.NEAREST ))\n",
    "    normalized_heatmap = (reshaped_image_a - np.min(reshaped_image_a)) / (np.max(reshaped_image_a) - np.min(reshaped_image_a))\n",
    "    \n",
    "    heatmap_colormap = plt.get_cmap('jet')\n",
    "    heatmap_colored = heatmap_colormap(normalized_heatmap)\n",
    "    \n",
    "    heatmap_colored_uint8 = (heatmap_colored[:, :, :3] * 255).astype(np.uint8)\n",
    "    image_a_heatmap_pillow = Image.fromarray(heatmap_colored_uint8)\n",
    "    image_b_pillow = Image.fromarray((image_b * 255).astype('uint8'))\n",
    "    \n",
    "    result_image = Image.blend(image_b_pillow, image_a_heatmap_pillow, alpha=0.3)\n",
    "    \n",
    "    return np.array(result_image)\n",
    "\n",
    "from util.data import ModifiedLabelLoader\n",
    "from collections import defaultdict\n",
    "import heapq\n",
    "import pdb\n",
    "from util.vis_pipnet import get_img_coordinates\n",
    "import torchvision.transforms as transforms\n",
    "from PIL import ImageFont, Image, ImageDraw as D\n",
    "import torchvision\n",
    "from datetime import datetime\n",
    "from PIL import Image, ImageDraw, ImageFont\n",
    "import math\n",
    "# txt_file = open(os.path.join(run_path, \"num_proto_details_\"+datetime.now().strftime(\"%m:%d:%H:%M:%S\")+\".txt\"), \"a\")\n",
    "# txt_file.write('\\n')\n",
    "\n",
    "vizloader_name = 'testloader' # projectloader\n",
    "find_non_descendants = False # True, False # param\n",
    "topk = 2\n",
    "save_images = True # True, False\n",
    "font = ImageFont.truetype(\"arial.ttf\", 50)\n",
    "save_activation_as_npy_path = None # 'activation_as_npy'\n",
    "if (save_activation_as_npy_path is not None):\n",
    "    save_activation_as_npy_path = '_'.join(['activation_as_npy', vizloader_name])  # activation_as_npy, added for NUMPY SAVING\n",
    "if find_non_descendants and (save_activation_as_npy_path is not None):\n",
    "    save_activation_as_npy_path = save_activation_as_npy_path + '_non_desc'\n",
    "plot_overspecificity_score = True\n",
    "subtree_root = root.get_node('024+051')\n",
    "    \n",
    "from datetime import datetime\n",
    "# txt_file = open(os.path.join(run_path, \"num_proto_details_\"+datetime.now().strftime(\"%m:%d:%H:%M:%S\")+\".txt\"), \"a\")\n",
    "# txt_file.write('\\n')\n",
    "\n",
    "def write_num_proto_details(proto_mean_activations, node_name, net, threshold, txt_file, args):\n",
    "    \n",
    "    rand_input = torch.randn((1, 3, args.image_size, args.image_size))\n",
    "    with torch.no_grad():\n",
    "        *_, pooled, out = net(rand_input)\n",
    "    num_protos = pooled[node_name].shape[1]\n",
    "    used_protos = len(proto_mean_activations)\n",
    "    non_overspecific = 0\n",
    "    for p in proto_mean_activations:\n",
    "        logstr = '\\t'*2 + f'Proto:{p} '\n",
    "        protos_mean_for_all_leaf_descedants = []\n",
    "        for leaf_descendent in proto_mean_activations[p]:\n",
    "            mean_activation = round(np.mean([activation for activation, *_ in proto_mean_activations[p][leaf_descendent]]), 4)\n",
    "            protos_mean_for_all_leaf_descedants.append(mean_activation)\n",
    "            \n",
    "        if all([(mean_activation>0.2) for mean_activation in protos_mean_for_all_leaf_descedants]):\n",
    "            non_overspecific += 1\n",
    "            \n",
    "    txt_file.write(f\"Node:{node_name},Total:{num_protos},Used:{used_protos},Good:{non_overspecific},threshold={threshold}\\n\")\n",
    "\n",
    "\n",
    "def get_heap():\n",
    "    list_ = []\n",
    "    heapq.heapify(list_)\n",
    "    return list_\n",
    "\n",
    "patchsize, skip = get_patch_size(args)\n",
    "\n",
    "\n",
    "vizloader_dict = {'trainloader': trainloader,\n",
    "                 'projectloader': projectloader,\n",
    "                 'testloader': testloader,\n",
    "                 'test_projectloader': test_projectloader}\n",
    "vizloader_dict[vizloader_name] = unshuffle_dataloader(vizloader_dict[vizloader_name])\n",
    "\n",
    "\n",
    "if type(vizloader_dict[vizloader_name].dataset) == ImageFolder:\n",
    "    name2label = vizloader_dict[vizloader_name].dataset.class_to_idx\n",
    "    label2name = {label:name for name, label in name2label.items()}\n",
    "else:\n",
    "    name2label = vizloader_dict[vizloader_name].dataset.dataset.dataset.class_to_idx\n",
    "    label2name = {label:name for name, label in name2label.items()}\n",
    "    \n",
    "overspecificity_score_and_proto_mask = []\n",
    "\n",
    "for node in root.nodes_with_children():\n",
    "#     if node.name == 'root':\n",
    "#         continue\n",
    "#     non_leaf_children_names = [child.name for child in node.children if not child.is_leaf()]\n",
    "#     if len(non_leaf_children_names) == 0: # if all the children are leaf nodes then skip this node\n",
    "#         continue\n",
    "\n",
    "    if node.name not in subtree_root.descendents:\n",
    "        print('Skipping node', node.name)\n",
    "        continue\n",
    "\n",
    "    name2label = vizloader_dict[vizloader_name].dataset.class_to_idx\n",
    "    label2name = {label:name for name, label in name2label.items()}\n",
    "    modifiedLabelLoader = ModifiedLabelLoader(vizloader_dict[vizloader_name], node)\n",
    "    coarse_label2name = modifiedLabelLoader.modifiedlabel2name\n",
    "    node_label_to_children = {label: name for name, label in node.children_to_labels.items()}\n",
    "    \n",
    "    imgs = modifiedLabelLoader.filtered_imgs\n",
    "\n",
    "    img_iter = tqdm(enumerate(modifiedLabelLoader),\n",
    "                    total=len(modifiedLabelLoader),\n",
    "                    mininterval=50.,\n",
    "                    desc='Collecting topk',\n",
    "                    ncols=0)\n",
    "\n",
    "    classification_weights = getattr(net.module, '_'+node.name+'_classification').weight\n",
    "    \n",
    "    # maps proto_number -> grand_child_name (or descendant leaf name) -> list of top-k activations\n",
    "    proto_mean_activations = defaultdict(lambda: defaultdict(get_heap))\n",
    "\n",
    "    # maps class names to the prototypes that belong to that\n",
    "    class_and_prototypes = defaultdict(set)\n",
    "\n",
    "    for i, (xs, orig_y, ys) in img_iter:\n",
    "#         if coarse_label2name[ys.item()] not in non_leaf_children_names:\n",
    "#             continue\n",
    "\n",
    "        xs, ys = xs.to(device), ys.to(device)\n",
    "\n",
    "        with torch.no_grad():\n",
    "            model_output = net(xs, inference=False)\n",
    "            if len(model_output) == 3:\n",
    "                softmaxes, pooled, _ = model_output\n",
    "            elif len(model_output) == 4:\n",
    "                _, softmaxes, pooled, _ = model_output\n",
    "            pooled = pooled[node.name].squeeze(0) \n",
    "            softmaxes = softmaxes[node.name]#.squeeze(0)\n",
    "\n",
    "            for p in range(pooled.shape[0]): # pooled.shape -> [768] (== num of prototypes)\n",
    "                c_weight = torch.max(classification_weights[:,p]) # classification_weights[:,p].shape -> [200] (== num of classes)\n",
    "                relevant_proto_classes = torch.nonzero(classification_weights[:, p] > 1e-3)\n",
    "                relevant_proto_class_names = [node_label_to_children[class_idx.item()] for class_idx in relevant_proto_classes]\n",
    "                \n",
    "                # Take the max per prototype.                             \n",
    "                max_per_prototype, max_idx_per_prototype = torch.max(softmaxes, dim=0)\n",
    "                max_per_prototype_h, max_idx_per_prototype_h = torch.max(max_per_prototype, dim=1)\n",
    "                max_per_prototype_w, max_idx_per_prototype_w = torch.max(max_per_prototype_h, dim=1) #shape (num_prototypes)\n",
    "                \n",
    "                h_idx = max_idx_per_prototype_h[p, max_idx_per_prototype_w[p]]\n",
    "                w_idx = max_idx_per_prototype_w[p]\n",
    "\n",
    "                if len(relevant_proto_class_names) == 0:\n",
    "                    continue\n",
    "                \n",
    "#                 if (len(relevant_proto_class_names) == 1) and (relevant_proto_class_names[0] not in non_leaf_children_names):\n",
    "#                     continue\n",
    "                \n",
    "                h_coor_min, h_coor_max, w_coor_min, w_coor_max = get_img_coordinates(args.image_size, softmaxes.shape, patchsize, skip, h_idx, w_idx)\n",
    "                latent_activation = softmaxes[:, p, :, :]\n",
    "                \n",
    "                if not find_non_descendants:\n",
    "                    if (coarse_label2name[ys.item()] in relevant_proto_class_names):\n",
    "                        child_node = root.get_node(coarse_label2name[ys.item()])\n",
    "                        leaf_descendent = label2name[orig_y.item()]#[4:7]\n",
    "                        img_to_open = imgs[i][0] # it is a tuple of (path to image, lable)\n",
    "                        if topk and (len(proto_mean_activations[p][leaf_descendent]) >= topk):\n",
    "                            heapq.heappushpop(proto_mean_activations[p][leaf_descendent],\\\n",
    "                                              (pooled[p].item(), img_to_open,\\\n",
    "                                               (h_coor_min, h_coor_max, w_coor_min, w_coor_max), latent_activation))\n",
    "                        else:\n",
    "                            heapq.heappush(proto_mean_activations[p][leaf_descendent],\\\n",
    "                                           (pooled[p].item(), img_to_open,\\\n",
    "                                            (h_coor_min, h_coor_max, w_coor_min, w_coor_max), latent_activation))\n",
    "                else:\n",
    "                    if (coarse_label2name[ys.item()] not in relevant_proto_class_names):\n",
    "                        child_node = root.get_node(coarse_label2name[ys.item()])\n",
    "                        leaf_descendent = label2name[orig_y.item()]#[4:7]\n",
    "                        img_to_open = imgs[i][0] # it is a tuple of (path to image, lable)\n",
    "                        if topk and (len(proto_mean_activations[p][leaf_descendent]) >= topk):\n",
    "                            heapq.heappushpop(proto_mean_activations[p][leaf_descendent],\\\n",
    "                                              (pooled[p].item(), img_to_open,\\\n",
    "                                               (h_coor_min, h_coor_max, w_coor_min, w_coor_max), latent_activation))\n",
    "                        else:\n",
    "                            heapq.heappush(proto_mean_activations[p][leaf_descendent],\\\n",
    "                                           (pooled[p].item(), img_to_open,\\\n",
    "                                            (h_coor_min, h_coor_max, w_coor_min, w_coor_max), latent_activation))\n",
    "\n",
    "                class_and_prototypes[', '.join(relevant_proto_class_names)].add(p)\n",
    "\n",
    "    # write_num_proto_details(proto_mean_activations, node.name, net, threshold=0.2, txt_file=txt_file, args=args)\n",
    "\n",
    "    if plot_overspecificity_score:\n",
    "        for child_classname in class_and_prototypes:\n",
    "            for p in class_and_prototypes[child_classname]:\n",
    "                mean_activation_of_every_leaf = []\n",
    "                for leaf_descendent in proto_mean_activations[p]:\n",
    "                    mean_activation = round(np.mean([activation for activation, *_ in proto_mean_activations[p][leaf_descendent]]), 4)\n",
    "                    mean_activation_of_every_leaf.append(mean_activation)\n",
    "\n",
    "                overspecificity_score = 1\n",
    "                for mean_act in mean_activation_of_every_leaf:\n",
    "                    overspecificity_score *= mean_act * 1.0\n",
    "                proto_presence = getattr(net.module, '_'+node.name+'_proto_presence')\n",
    "                proto_presence = F.gumbel_softmax(proto_presence, tau=0.5, hard=True, dim=-1)\n",
    "                proto_mask = proto_presence[p, 1].item()\n",
    "                overspecificity_score_and_proto_mask.append((overspecificity_score, len(mean_activation_of_every_leaf), proto_mask))\n",
    "\n",
    "    print('Node', node.name)\n",
    "    for child_classname in class_and_prototypes:\n",
    "        \n",
    "        print('\\t'*1, 'Child:', child_classname)\n",
    "        for p in class_and_prototypes[child_classname]:\n",
    "            \n",
    "            logstr = '\\t'*2 + f'Proto:{p} '\n",
    "            mean_activation_of_every_leaf = []\n",
    "            for leaf_descendent in proto_mean_activations[p]:\n",
    "                mean_activation = round(np.mean([activation for activation, *_ in proto_mean_activations[p][leaf_descendent]]), 4)\n",
    "                num_images = len(proto_mean_activations[p][leaf_descendent])\n",
    "                logstr += f'{leaf_descendent}:({mean_activation}) '\n",
    "                mean_activation_of_every_leaf.append(mean_activation)\n",
    "            print(logstr)\n",
    "            \n",
    "            # # if the mean_activation is less for all leaf descendants skip the node\n",
    "            # if all([mean_act < 0.2 for mean_act in mean_activation_of_every_leaf]):\n",
    "            #     if find_non_descendants:\n",
    "            #         print('\\t'*2 + f'Not skipping proto {p} of {node.name} coz of find_non_descendants')\n",
    "            #     else:\n",
    "            #         print('\\t'*2 + f'Skipping proto {p} of {node.name}')\n",
    "            #         continue\n",
    "            \n",
    "            # have this for NON descendants\n",
    "            if len(proto_mean_activations[p]) == 0:\n",
    "                continue\n",
    "            \n",
    "            if save_images or save_activation_as_npy_path:\n",
    "                patches = []\n",
    "                right_descriptions = []\n",
    "                text_region_width = 3 # 3x the width of a patch\n",
    "\n",
    "                font_size = 40\n",
    "                fnt = ImageFont.truetype(\"arial.ttf\", font_size)\n",
    "                max_width = ImageDraw.Draw(Image.new(\"RGB\", (100, 100), (255, 0, 0))).textlength('-', font=fnt)\n",
    "                \n",
    "                for leaf_descendent in proto_mean_activations[p]:\n",
    "                    for word in leaf_descendent.split('_')[2:]:\n",
    "                        width_of_word = ImageDraw.Draw(Image.new(\"RGB\", (100, 100), (255, 0, 0))).textlength(word, font=fnt)\n",
    "                        max_width = max(max_width, width_of_word)\n",
    "\n",
    "                for leaf_descendent, heap in proto_mean_activations[p].items():\n",
    "                    species_name = ' '.join(leaf_descendent.split('_')[2:])\n",
    "                    heap = sorted(heap)[::-1]\n",
    "                    mean_activation = round(np.mean([activation for activation, *_ in proto_mean_activations[p][leaf_descendent]]), 4)\n",
    "                    for rank, ele in enumerate(heap):\n",
    "                        activation, img_to_open, (h_coor_min, h_coor_max, w_coor_min, w_coor_max), latent_activation = ele\n",
    "                        image = transforms.Resize(size=(args.image_size, args.image_size))(Image.open(img_to_open))\n",
    "                        img_tensor = transforms.ToTensor()(image)#.unsqueeze_(0) #shape (1, 3, h, w)\n",
    "                        img_tensor_patch = img_tensor[:, h_coor_min:h_coor_max, w_coor_min:w_coor_max]\n",
    "                        # latent_activation[latent_activation < torch.quantile(latent_activation, 0.75).item()] = 0.\n",
    "                        # latent_activation[latent_activation < 1.5] = 0.\n",
    "                        # pdb.set_trace()\n",
    "                        overlayed_image_np = get_heatmap(latent_activation, img_tensor, constant_color_scale=True)\n",
    "                        overlayed_image = torch.tensor(overlayed_image_np).permute(2, 0, 1).float() / 255.\n",
    "                        # overlayed_image = img_tensor\n",
    "                        patches.append(overlayed_image)\n",
    "                        \n",
    "                        # added for NUMPY SAVING\n",
    "                        \n",
    "                        if save_activation_as_npy_path:\n",
    "#                             upscaled_similarity_interpolated = get_upscaled_activation_interpolated(latent_activation,\n",
    "#                                                                                        image_size=(args.image_size, args.image_size))\n",
    "                            latent_activation_npy = latent_activation.squeeze().cpu().numpy()\n",
    "                            data = {'node_name': node.name,\n",
    "                                    'proto_num': p,\n",
    "                                    'child_name': child_classname,\n",
    "                                    'leaf_desc': leaf_descendent,\n",
    "                                     'rank': rank,\n",
    "                                     'img_path': img_to_open,\n",
    "                                     'img_filename': ntpath.basename(img_to_open),\n",
    "                                     'activation': latent_activation_npy,\n",
    "                                     'max_activation': activation,\n",
    "                                     'model_type': 'NAIVE-HPIPNET'}\n",
    "                            filename = str(rank)+ '-' + ntpath.basename(img_to_open) + '.npy'\n",
    "                            save_path = os.path.join(run_path, save_activation_as_npy_path, \\\n",
    "                                                     node.name, str(p), leaf_descendent,\n",
    "                                                     filename)\n",
    "                            os.makedirs(os.path.dirname(save_path), exist_ok=True)\n",
    "                            np.save(save_path, data, allow_pickle=True)\n",
    "\n",
    "                    # # description on the right hand side\n",
    "                    # text = f'{mean_activation}, {leaf_descendent}'\n",
    "                    # txtimage = Image.new(\"RGB\", (patches[0].shape[-2]*text_region_width,patches[0].shape[-1]), (255, 255, 255))\n",
    "                    # draw = D.Draw(txtimage)\n",
    "                    # draw.text((150, patches[0].shape[1]//2), text, anchor='mm', fill=\"black\", font=font)\n",
    "                    # pdb.set_trace()\n",
    "                    # txttensor = transforms.ToTensor()(txtimage)#.unsqueeze_(0)\n",
    "                    # right_descriptions.append(txttensor)\n",
    "\n",
    "                    text = '\\n'.join(species_name.split(' '))\n",
    "                    \n",
    "                    image_size = (math.ceil(max_width) + 10, patches[0].shape[-1])\n",
    "                    txtimage = Image.new(\"RGB\", image_size, (255, 255, 255))\n",
    "                    d = ImageDraw.Draw(txtimage)\n",
    "                    d.multiline_text((image_size[0]/2, image_size[1]/2), text, font=fnt, fill=(0, 0, 0), align =\"center\", anchor=\"mm\")\n",
    "                    txttensor = transforms.ToTensor()(txtimage)#.unsqueeze_(0)\n",
    "                    right_descriptions.append(txttensor)\n",
    "                    \n",
    "\n",
    "                padding = 0\n",
    "\n",
    "                # grid = torchvision.utils.make_grid(patches, nrow=topk, padding=padding, border=0)\n",
    "                # grid_right_descriptions = torchvision.utils.make_grid(right_descriptions, nrow=1, padding=padding, border=0)\n",
    "                # grid = torch.cat([grid_right_descriptions, grid], dim=-1)\n",
    "\n",
    "                grid_rows = []\n",
    "                for k in range(len(proto_mean_activations[p])):\n",
    "                    grid_row = torchvision.utils.make_grid(patches[k*topk:(k+1)*topk], nrow=topk, padding=padding, border=0)\n",
    "                    grid_right_description = torchvision.utils.make_grid(right_descriptions[k], nrow=1, padding=padding, border=0)\n",
    "                    grid_row = torch.cat([grid_right_description, grid_row], dim=-1)\n",
    "                    grid_rows.append(grid_row)\n",
    "                # grid = torch.cat(grid_rows, dim=0)\n",
    "                grid = torchvision.utils.make_grid(grid_rows, nrow=1, padding=5, pad_value=1.)\n",
    "                    \n",
    "                # # description on the top\n",
    "                # text = f'Node:{node.name}, p{p}, Child:{child_classname}'\n",
    "                # txtimage = Image.new(\"RGB\", (grid.shape[-1], args.wshape), (0, 0, 0))\n",
    "                # draw = D.Draw(txtimage)\n",
    "                # draw.text((150, patches[0].shape[1]//2), text, anchor='mm', fill=\"white\", font=font)\n",
    "                # txttensor = transforms.ToTensor()(txtimage)#.unsqueeze_(0)\n",
    "\n",
    "                # merging top description with the grid of images\n",
    "                # grid = torch.cat([grid, txttensor], dim=1)\n",
    "                \n",
    "                if save_images:\n",
    "                    prefix = 'non_' if find_non_descendants else ''\n",
    "                    os.makedirs(os.path.join(run_path, prefix+f'descendent_specific_topk_heatmap_clean_ep={epoch}', node.name), exist_ok=True)\n",
    "                    torchvision.utils.save_image(grid, os.path.join(run_path, prefix+f'descendent_specific_topk_heatmap_clean_ep={epoch}', node.name, f'{child_classname}-p{p}.png'), border=0) # , border_color=(255, 255, 255), border=10\n",
    "\n",
    "# txt_file.write('\\n')\n",
    "# txt_file.close()\n",
    "print('Done !!!')"
   ]
  },
  {
   "cell_type": "markdown",
   "metadata": {
    "jp-MarkdownHeadingCollapsed": true
   },
   "source": [
    "# With Color image and zoomed in image"
   ]
  },
  {
   "cell_type": "code",
   "execution_count": 15,
   "metadata": {
    "scrolled": true
   },
   "outputs": [
    {
     "name": "stderr",
     "output_type": "stream",
     "text": [
      "Collecting topk: 377it [00:05, 63.10it/s]\n"
     ]
    },
    {
     "name": "stdout",
     "output_type": "stream",
     "text": [
      "Node root\n",
      "\t Child: 026+004\n",
      "\t\tProto:1 but_001_Heliconius_cydno_alithea:(0.8326) but_002_Heliconius_cydno_chioneus:(0.9956) but_003_Heliconius_cydno_cydnides:(0.8772) but_004_Heliconius_doris_doris:(0.9743) but_018_Heliconius_melpomene_amaryllis:(0.9977) but_019_Heliconius_melpomene_bellula:(0.9891) but_020_Heliconius_melpomene_cythera:(0.9803) but_021_Heliconius_melpomene_malleti:(0.9972) but_022_Heliconius_melpomene_melpomene:(0.9953) but_023_Heliconius_melpomene_nanna:(0.5591) but_024_Heliconius_melpomene_plesseni:(0.9521) but_025_Heliconius_melpomene_rosina:(0.9981) but_026_Heliconius_melpomene_vulcanus:(0.9636) but_030_Heliconius_timareta_linaresi:(0.9293) \n",
      "\t\tProto:2 but_001_Heliconius_cydno_alithea:(0.5582) but_002_Heliconius_cydno_chioneus:(0.993) but_003_Heliconius_cydno_cydnides:(0.8837) but_004_Heliconius_doris_doris:(0.9866) but_018_Heliconius_melpomene_amaryllis:(0.9932) but_019_Heliconius_melpomene_bellula:(0.9796) but_020_Heliconius_melpomene_cythera:(0.9888) but_021_Heliconius_melpomene_malleti:(0.9998) but_022_Heliconius_melpomene_melpomene:(0.9893) but_023_Heliconius_melpomene_nanna:(0.9202) but_024_Heliconius_melpomene_plesseni:(0.9971) but_025_Heliconius_melpomene_rosina:(0.9925) but_026_Heliconius_melpomene_vulcanus:(0.9528) but_030_Heliconius_timareta_linaresi:(0.9974) \n",
      "\t\tProto:5 but_001_Heliconius_cydno_alithea:(0.4709) but_002_Heliconius_cydno_chioneus:(0.9994) but_003_Heliconius_cydno_cydnides:(0.9886) but_004_Heliconius_doris_doris:(0.9909) but_018_Heliconius_melpomene_amaryllis:(0.9974) but_019_Heliconius_melpomene_bellula:(0.9805) but_020_Heliconius_melpomene_cythera:(0.9986) but_021_Heliconius_melpomene_malleti:(0.9838) but_022_Heliconius_melpomene_melpomene:(0.909) but_023_Heliconius_melpomene_nanna:(0.9715) but_024_Heliconius_melpomene_plesseni:(0.989) but_025_Heliconius_melpomene_rosina:(0.9968) but_026_Heliconius_melpomene_vulcanus:(0.9965) but_030_Heliconius_timareta_linaresi:(0.9435) \n",
      "\t\tProto:7 but_001_Heliconius_cydno_alithea:(0.427) but_002_Heliconius_cydno_chioneus:(0.9584) but_003_Heliconius_cydno_cydnides:(0.8473) but_004_Heliconius_doris_doris:(0.4154) but_018_Heliconius_melpomene_amaryllis:(0.9773) but_019_Heliconius_melpomene_bellula:(0.6411) but_020_Heliconius_melpomene_cythera:(0.8804) but_021_Heliconius_melpomene_malleti:(0.8285) but_022_Heliconius_melpomene_melpomene:(0.7734) but_023_Heliconius_melpomene_nanna:(0.7413) but_024_Heliconius_melpomene_plesseni:(0.8225) but_025_Heliconius_melpomene_rosina:(0.9601) but_026_Heliconius_melpomene_vulcanus:(0.9298) but_030_Heliconius_timareta_linaresi:(0.7443) \n",
      "\t\tProto:8 but_001_Heliconius_cydno_alithea:(0.4229) but_002_Heliconius_cydno_chioneus:(0.8948) but_003_Heliconius_cydno_cydnides:(0.846) but_004_Heliconius_doris_doris:(0.8902) but_018_Heliconius_melpomene_amaryllis:(0.9556) but_019_Heliconius_melpomene_bellula:(0.8401) but_020_Heliconius_melpomene_cythera:(0.7741) but_021_Heliconius_melpomene_malleti:(0.9167) but_022_Heliconius_melpomene_melpomene:(0.8407) but_023_Heliconius_melpomene_nanna:(0.2834) but_024_Heliconius_melpomene_plesseni:(0.7836) but_025_Heliconius_melpomene_rosina:(0.9411) but_026_Heliconius_melpomene_vulcanus:(0.7197) but_030_Heliconius_timareta_linaresi:(0.9007) \n",
      "\t\tProto:9 but_001_Heliconius_cydno_alithea:(0.5654) but_002_Heliconius_cydno_chioneus:(0.7825) but_003_Heliconius_cydno_cydnides:(0.5752) but_004_Heliconius_doris_doris:(0.8982) but_018_Heliconius_melpomene_amaryllis:(0.8447) but_019_Heliconius_melpomene_bellula:(0.4275) but_020_Heliconius_melpomene_cythera:(0.6911) but_021_Heliconius_melpomene_malleti:(0.7754) but_022_Heliconius_melpomene_melpomene:(0.68) but_023_Heliconius_melpomene_nanna:(0.1233) but_024_Heliconius_melpomene_plesseni:(0.7871) but_025_Heliconius_melpomene_rosina:(0.8081) but_026_Heliconius_melpomene_vulcanus:(0.3768) but_030_Heliconius_timareta_linaresi:(0.4501) \n",
      "\t Child: 005+013\n",
      "\t\tProto:12 but_005_Heliconius_eleuchia_eleuchia:(0.387) but_006_Heliconius_eleuchia_primularis:(0.1006) but_007_Heliconius_erato_amalfreda:(0.9648) but_008_Heliconius_erato_chestertonii:(0.9671) but_009_Heliconius_erato_cyrbia:(0.756) but_010_Heliconius_erato_demophoon:(0.8586) but_011_Heliconius_erato_dignus:(0.1692) but_012_Heliconius_erato_erato:(0.9417) but_013_Heliconius_erato_hydara:(0.7321) but_014_Heliconius_erato_lativitta:(0.0553) but_015_Heliconius_erato_notabilis:(0.9141) but_016_Heliconius_erato_phyllis:(0.0564) but_017_Heliconius_erato_venus:(0.5887) but_027_Heliconius_sara_magdalena:(0.4939) but_028_Heliconius_sara_sara:(0.7909) but_029_Heliconius_telesiphe_sotericus:(0.1802) \n",
      "\t\tProto:13 but_005_Heliconius_eleuchia_eleuchia:(0.9342) but_006_Heliconius_eleuchia_primularis:(0.1899) but_007_Heliconius_erato_amalfreda:(0.9843) but_008_Heliconius_erato_chestertonii:(0.9684) but_009_Heliconius_erato_cyrbia:(0.9752) but_010_Heliconius_erato_demophoon:(0.9927) but_011_Heliconius_erato_dignus:(0.744) but_012_Heliconius_erato_erato:(0.9797) but_013_Heliconius_erato_hydara:(0.9789) but_014_Heliconius_erato_lativitta:(0.46) but_015_Heliconius_erato_notabilis:(0.9773) but_016_Heliconius_erato_phyllis:(0.9306) but_017_Heliconius_erato_venus:(0.9907) but_027_Heliconius_sara_magdalena:(0.5541) but_028_Heliconius_sara_sara:(0.5207) but_029_Heliconius_telesiphe_sotericus:(0.9443) \n",
      "\t\tProto:15 but_005_Heliconius_eleuchia_eleuchia:(0.9848) but_006_Heliconius_eleuchia_primularis:(0.1562) but_007_Heliconius_erato_amalfreda:(0.9706) but_008_Heliconius_erato_chestertonii:(0.9959) but_009_Heliconius_erato_cyrbia:(0.9971) but_010_Heliconius_erato_demophoon:(0.9778) but_011_Heliconius_erato_dignus:(0.9976) but_012_Heliconius_erato_erato:(0.9948) but_013_Heliconius_erato_hydara:(0.9995) but_014_Heliconius_erato_lativitta:(0.9996) but_015_Heliconius_erato_notabilis:(0.9998) but_016_Heliconius_erato_phyllis:(0.9951) but_017_Heliconius_erato_venus:(0.9997) but_027_Heliconius_sara_magdalena:(0.8314) but_028_Heliconius_sara_sara:(0.978) but_029_Heliconius_telesiphe_sotericus:(0.9986) \n",
      "\t\tProto:16 but_005_Heliconius_eleuchia_eleuchia:(0.9542) but_006_Heliconius_eleuchia_primularis:(0.7523) but_007_Heliconius_erato_amalfreda:(0.7724) but_008_Heliconius_erato_chestertonii:(0.5822) but_009_Heliconius_erato_cyrbia:(0.9545) but_010_Heliconius_erato_demophoon:(0.9997) but_011_Heliconius_erato_dignus:(0.475) but_012_Heliconius_erato_erato:(0.8725) but_013_Heliconius_erato_hydara:(0.9474) but_014_Heliconius_erato_lativitta:(0.4703) but_015_Heliconius_erato_notabilis:(0.9856) but_016_Heliconius_erato_phyllis:(0.9633) but_017_Heliconius_erato_venus:(0.8313) but_027_Heliconius_sara_magdalena:(0.8502) but_028_Heliconius_sara_sara:(0.6264) but_029_Heliconius_telesiphe_sotericus:(0.983) \n",
      "\t\tProto:18 but_005_Heliconius_eleuchia_eleuchia:(0.7608) but_006_Heliconius_eleuchia_primularis:(0.0878) but_007_Heliconius_erato_amalfreda:(0.9805) but_008_Heliconius_erato_chestertonii:(0.9817) but_009_Heliconius_erato_cyrbia:(0.9906) but_010_Heliconius_erato_demophoon:(0.9989) but_011_Heliconius_erato_dignus:(0.7476) but_012_Heliconius_erato_erato:(0.992) but_013_Heliconius_erato_hydara:(0.9797) but_014_Heliconius_erato_lativitta:(0.9996) but_015_Heliconius_erato_notabilis:(0.9986) but_016_Heliconius_erato_phyllis:(0.9945) but_017_Heliconius_erato_venus:(0.9988) but_027_Heliconius_sara_magdalena:(0.9113) but_028_Heliconius_sara_sara:(0.9841) but_029_Heliconius_telesiphe_sotericus:(0.9456) \n",
      "\t\tProto:19 but_005_Heliconius_eleuchia_eleuchia:(0.1027) but_006_Heliconius_eleuchia_primularis:(0.0584) but_007_Heliconius_erato_amalfreda:(0.0967) but_008_Heliconius_erato_chestertonii:(0.6223) but_009_Heliconius_erato_cyrbia:(0.1142) but_010_Heliconius_erato_demophoon:(0.2674) but_011_Heliconius_erato_dignus:(0.0962) but_012_Heliconius_erato_erato:(0.9483) but_013_Heliconius_erato_hydara:(0.4829) but_014_Heliconius_erato_lativitta:(0.8631) but_015_Heliconius_erato_notabilis:(0.0807) but_016_Heliconius_erato_phyllis:(0.1713) but_017_Heliconius_erato_venus:(0.1095) but_027_Heliconius_sara_magdalena:(0.8347) but_028_Heliconius_sara_sara:(0.3893) but_029_Heliconius_telesiphe_sotericus:(0.0886) \n"
     ]
    },
    {
     "name": "stderr",
     "output_type": "stream",
     "text": [
      "Collecting topk: 165it [00:03, 54.04it/s] \n"
     ]
    },
    {
     "name": "stdout",
     "output_type": "stream",
     "text": [
      "Node 026+004\n",
      "\t Child: 026+030\n",
      "\t\tProto:1 but_001_Heliconius_cydno_alithea:(0.4738) but_002_Heliconius_cydno_chioneus:(0.7147) but_003_Heliconius_cydno_cydnides:(0.9168) but_018_Heliconius_melpomene_amaryllis:(0.9965) but_019_Heliconius_melpomene_bellula:(0.8005) but_020_Heliconius_melpomene_cythera:(0.8459) but_021_Heliconius_melpomene_malleti:(0.7226) but_022_Heliconius_melpomene_melpomene:(0.8384) but_023_Heliconius_melpomene_nanna:(0.1824) but_024_Heliconius_melpomene_plesseni:(0.8585) but_025_Heliconius_melpomene_rosina:(0.9924) but_026_Heliconius_melpomene_vulcanus:(0.9195) but_030_Heliconius_timareta_linaresi:(0.9315) \n",
      "\t\tProto:3 but_001_Heliconius_cydno_alithea:(0.2052) but_002_Heliconius_cydno_chioneus:(0.8677) but_003_Heliconius_cydno_cydnides:(0.8527) but_018_Heliconius_melpomene_amaryllis:(0.7923) but_019_Heliconius_melpomene_bellula:(0.82) but_020_Heliconius_melpomene_cythera:(0.8137) but_021_Heliconius_melpomene_malleti:(0.8292) but_022_Heliconius_melpomene_melpomene:(0.9512) but_023_Heliconius_melpomene_nanna:(0.4585) but_024_Heliconius_melpomene_plesseni:(0.9749) but_025_Heliconius_melpomene_rosina:(0.9365) but_026_Heliconius_melpomene_vulcanus:(0.8565) but_030_Heliconius_timareta_linaresi:(0.4783) \n",
      "\t\tProto:4 but_001_Heliconius_cydno_alithea:(0.7335) but_002_Heliconius_cydno_chioneus:(0.9906) but_003_Heliconius_cydno_cydnides:(0.8161) but_018_Heliconius_melpomene_amaryllis:(0.9892) but_019_Heliconius_melpomene_bellula:(0.982) but_020_Heliconius_melpomene_cythera:(0.9447) but_021_Heliconius_melpomene_malleti:(0.9799) but_022_Heliconius_melpomene_melpomene:(0.9582) but_023_Heliconius_melpomene_nanna:(0.9463) but_024_Heliconius_melpomene_plesseni:(0.9917) but_025_Heliconius_melpomene_rosina:(0.9921) but_026_Heliconius_melpomene_vulcanus:(0.9776) but_030_Heliconius_timareta_linaresi:(0.863) \n",
      "\t\tProto:6 but_001_Heliconius_cydno_alithea:(0.817) but_002_Heliconius_cydno_chioneus:(0.9868) but_003_Heliconius_cydno_cydnides:(0.991) but_018_Heliconius_melpomene_amaryllis:(0.996) but_019_Heliconius_melpomene_bellula:(0.9977) but_020_Heliconius_melpomene_cythera:(0.984) but_021_Heliconius_melpomene_malleti:(0.9941) but_022_Heliconius_melpomene_melpomene:(0.9907) but_023_Heliconius_melpomene_nanna:(0.4516) but_024_Heliconius_melpomene_plesseni:(0.9797) but_025_Heliconius_melpomene_rosina:(0.987) but_026_Heliconius_melpomene_vulcanus:(0.9853) but_030_Heliconius_timareta_linaresi:(0.9858) \n",
      "\t\tProto:7 but_001_Heliconius_cydno_alithea:(0.5594) but_002_Heliconius_cydno_chioneus:(0.9722) but_003_Heliconius_cydno_cydnides:(0.9433) but_018_Heliconius_melpomene_amaryllis:(0.9923) but_019_Heliconius_melpomene_bellula:(0.9874) but_020_Heliconius_melpomene_cythera:(0.8666) but_021_Heliconius_melpomene_malleti:(0.8846) but_022_Heliconius_melpomene_melpomene:(0.9791) but_023_Heliconius_melpomene_nanna:(0.8895) but_024_Heliconius_melpomene_plesseni:(0.9947) but_025_Heliconius_melpomene_rosina:(0.9896) but_026_Heliconius_melpomene_vulcanus:(0.9851) but_030_Heliconius_timareta_linaresi:(0.9091) \n",
      "\t\tProto:9 but_001_Heliconius_cydno_alithea:(0.6728) but_002_Heliconius_cydno_chioneus:(0.9598) but_003_Heliconius_cydno_cydnides:(0.9238) but_018_Heliconius_melpomene_amaryllis:(0.9766) but_019_Heliconius_melpomene_bellula:(0.9682) but_020_Heliconius_melpomene_cythera:(0.927) but_021_Heliconius_melpomene_malleti:(0.9971) but_022_Heliconius_melpomene_melpomene:(0.9055) but_023_Heliconius_melpomene_nanna:(0.9725) but_024_Heliconius_melpomene_plesseni:(0.9592) but_025_Heliconius_melpomene_rosina:(0.9955) but_026_Heliconius_melpomene_vulcanus:(0.942) but_030_Heliconius_timareta_linaresi:(0.9727) \n",
      "\t Child: but_004_Heliconius_doris_doris\n",
      "\t\tProto:10 but_004_Heliconius_doris_doris:(0.8851) \n",
      "\t\tProto:13 but_004_Heliconius_doris_doris:(0.8648) \n",
      "\t\tProto:14 but_004_Heliconius_doris_doris:(0.9558) \n",
      "\t\tProto:15 but_004_Heliconius_doris_doris:(0.9966) \n",
      "\t\tProto:18 but_004_Heliconius_doris_doris:(0.7336) \n"
     ]
    },
    {
     "name": "stderr",
     "output_type": "stream",
     "text": [
      "Collecting topk: 212it [00:03, 59.67it/s]\n"
     ]
    },
    {
     "name": "stdout",
     "output_type": "stream",
     "text": [
      "Node 005+013\n",
      "\t Child: 005+028\n",
      "\t\tProto:1 but_005_Heliconius_eleuchia_eleuchia:(0.705) but_006_Heliconius_eleuchia_primularis:(0.7031) but_027_Heliconius_sara_magdalena:(0.9776) but_028_Heliconius_sara_sara:(0.7027) \n",
      "\t\tProto:2 but_005_Heliconius_eleuchia_eleuchia:(0.9971) but_006_Heliconius_eleuchia_primularis:(0.9994) but_027_Heliconius_sara_magdalena:(0.9995) but_028_Heliconius_sara_sara:(0.9975) \n",
      "\t\tProto:6 but_005_Heliconius_eleuchia_eleuchia:(0.9889) but_006_Heliconius_eleuchia_primularis:(0.9897) but_027_Heliconius_sara_magdalena:(0.9911) but_028_Heliconius_sara_sara:(0.9941) \n",
      "\t\tProto:7 but_005_Heliconius_eleuchia_eleuchia:(0.9741) but_006_Heliconius_eleuchia_primularis:(0.988) but_027_Heliconius_sara_magdalena:(0.992) but_028_Heliconius_sara_sara:(0.9759) \n",
      "\t Child: 013+029\n",
      "\t\tProto:10 but_007_Heliconius_erato_amalfreda:(0.9992) but_008_Heliconius_erato_chestertonii:(0.9846) but_009_Heliconius_erato_cyrbia:(0.9842) but_010_Heliconius_erato_demophoon:(0.9993) but_011_Heliconius_erato_dignus:(0.9613) but_012_Heliconius_erato_erato:(0.9878) but_013_Heliconius_erato_hydara:(0.995) but_014_Heliconius_erato_lativitta:(0.9993) but_015_Heliconius_erato_notabilis:(0.9993) but_016_Heliconius_erato_phyllis:(0.9953) but_017_Heliconius_erato_venus:(0.9995) but_029_Heliconius_telesiphe_sotericus:(0.994) \n",
      "\t\tProto:11 but_007_Heliconius_erato_amalfreda:(0.987) but_008_Heliconius_erato_chestertonii:(0.9871) but_009_Heliconius_erato_cyrbia:(0.997) but_010_Heliconius_erato_demophoon:(0.9988) but_011_Heliconius_erato_dignus:(0.9851) but_012_Heliconius_erato_erato:(0.9572) but_013_Heliconius_erato_hydara:(0.9648) but_014_Heliconius_erato_lativitta:(0.9508) but_015_Heliconius_erato_notabilis:(0.991) but_016_Heliconius_erato_phyllis:(0.9325) but_017_Heliconius_erato_venus:(0.9811) but_029_Heliconius_telesiphe_sotericus:(0.9849) \n",
      "\t\tProto:12 but_007_Heliconius_erato_amalfreda:(0.8609) but_008_Heliconius_erato_chestertonii:(0.9767) but_009_Heliconius_erato_cyrbia:(0.9536) but_010_Heliconius_erato_demophoon:(0.9987) but_011_Heliconius_erato_dignus:(0.9773) but_012_Heliconius_erato_erato:(0.8672) but_013_Heliconius_erato_hydara:(0.9718) but_014_Heliconius_erato_lativitta:(0.9712) but_015_Heliconius_erato_notabilis:(0.989) but_016_Heliconius_erato_phyllis:(0.9672) but_017_Heliconius_erato_venus:(0.9892) but_029_Heliconius_telesiphe_sotericus:(0.9791) \n",
      "\t\tProto:15 but_007_Heliconius_erato_amalfreda:(0.9985) but_008_Heliconius_erato_chestertonii:(0.9982) but_009_Heliconius_erato_cyrbia:(0.9954) but_010_Heliconius_erato_demophoon:(0.9985) but_011_Heliconius_erato_dignus:(0.9984) but_012_Heliconius_erato_erato:(0.9658) but_013_Heliconius_erato_hydara:(0.9998) but_014_Heliconius_erato_lativitta:(0.9936) but_015_Heliconius_erato_notabilis:(0.9994) but_016_Heliconius_erato_phyllis:(0.9974) but_017_Heliconius_erato_venus:(0.9997) but_029_Heliconius_telesiphe_sotericus:(0.9854) \n",
      "\t\tProto:17 but_007_Heliconius_erato_amalfreda:(0.9369) but_008_Heliconius_erato_chestertonii:(0.9941) but_009_Heliconius_erato_cyrbia:(0.9737) but_010_Heliconius_erato_demophoon:(0.9971) but_011_Heliconius_erato_dignus:(0.9827) but_012_Heliconius_erato_erato:(0.986) but_013_Heliconius_erato_hydara:(0.9898) but_014_Heliconius_erato_lativitta:(0.9939) but_015_Heliconius_erato_notabilis:(0.9786) but_016_Heliconius_erato_phyllis:(0.9922) but_017_Heliconius_erato_venus:(0.9873) but_029_Heliconius_telesiphe_sotericus:(0.9957) \n",
      "\t\tProto:19 but_007_Heliconius_erato_amalfreda:(0.9498) but_008_Heliconius_erato_chestertonii:(0.5507) but_009_Heliconius_erato_cyrbia:(0.9658) but_010_Heliconius_erato_demophoon:(0.9824) but_011_Heliconius_erato_dignus:(0.9304) but_012_Heliconius_erato_erato:(0.9157) but_013_Heliconius_erato_hydara:(0.987) but_014_Heliconius_erato_lativitta:(0.881) but_015_Heliconius_erato_notabilis:(0.9669) but_016_Heliconius_erato_phyllis:(0.7314) but_017_Heliconius_erato_venus:(0.9759) but_029_Heliconius_telesiphe_sotericus:(0.9027) \n"
     ]
    },
    {
     "name": "stderr",
     "output_type": "stream",
     "text": [
      "Collecting topk: 158it [00:02, 56.76it/s]\n"
     ]
    },
    {
     "name": "stdout",
     "output_type": "stream",
     "text": [
      "Node 026+030\n",
      "\t Child: 026+020+023+021+018+024+019+025\n",
      "\t\tProto:8 but_018_Heliconius_melpomene_amaryllis:(0.9988) but_019_Heliconius_melpomene_bellula:(0.9994) but_020_Heliconius_melpomene_cythera:(0.9429) but_021_Heliconius_melpomene_malleti:(0.9997) but_022_Heliconius_melpomene_melpomene:(0.9832) but_023_Heliconius_melpomene_nanna:(0.9927) but_024_Heliconius_melpomene_plesseni:(0.9811) but_025_Heliconius_melpomene_rosina:(0.9999) but_026_Heliconius_melpomene_vulcanus:(0.9889) \n",
      "\t\tProto:1 but_018_Heliconius_melpomene_amaryllis:(0.9473) but_019_Heliconius_melpomene_bellula:(0.9889) but_020_Heliconius_melpomene_cythera:(0.9683) but_021_Heliconius_melpomene_malleti:(0.9868) but_022_Heliconius_melpomene_melpomene:(0.9939) but_023_Heliconius_melpomene_nanna:(0.943) but_024_Heliconius_melpomene_plesseni:(0.9971) but_025_Heliconius_melpomene_rosina:(0.9923) but_026_Heliconius_melpomene_vulcanus:(0.9939) \n",
      "\t\tProto:5 but_018_Heliconius_melpomene_amaryllis:(0.9745) but_019_Heliconius_melpomene_bellula:(0.9836) but_020_Heliconius_melpomene_cythera:(0.6908) but_021_Heliconius_melpomene_malleti:(0.9833) but_022_Heliconius_melpomene_melpomene:(0.9924) but_023_Heliconius_melpomene_nanna:(0.9965) but_024_Heliconius_melpomene_plesseni:(0.9995) but_025_Heliconius_melpomene_rosina:(0.9924) but_026_Heliconius_melpomene_vulcanus:(0.9992) \n",
      "\t\tProto:7 but_018_Heliconius_melpomene_amaryllis:(0.964) but_019_Heliconius_melpomene_bellula:(0.9945) but_020_Heliconius_melpomene_cythera:(0.9652) but_021_Heliconius_melpomene_malleti:(0.9932) but_022_Heliconius_melpomene_melpomene:(0.998) but_023_Heliconius_melpomene_nanna:(0.9612) but_024_Heliconius_melpomene_plesseni:(0.9831) but_025_Heliconius_melpomene_rosina:(0.9854) but_026_Heliconius_melpomene_vulcanus:(0.9923) \n",
      "\t Child: 030+001\n",
      "\t\tProto:10 but_001_Heliconius_cydno_alithea:(0.6853) but_002_Heliconius_cydno_chioneus:(0.9981) but_003_Heliconius_cydno_cydnides:(0.9901) but_030_Heliconius_timareta_linaresi:(0.9888) \n",
      "\t\tProto:15 but_001_Heliconius_cydno_alithea:(0.7531) but_002_Heliconius_cydno_chioneus:(0.9993) but_003_Heliconius_cydno_cydnides:(0.8437) but_030_Heliconius_timareta_linaresi:(0.9876) \n",
      "\t\tProto:17 but_001_Heliconius_cydno_alithea:(0.1558) but_002_Heliconius_cydno_chioneus:(0.9948) but_003_Heliconius_cydno_cydnides:(0.7197) but_030_Heliconius_timareta_linaresi:(0.4809) \n",
      "\t\tProto:18 but_001_Heliconius_cydno_alithea:(0.0513) but_002_Heliconius_cydno_chioneus:(0.1332) but_003_Heliconius_cydno_cydnides:(0.0757) but_030_Heliconius_timareta_linaresi:(0.2394) \n",
      "\t\tProto:19 but_001_Heliconius_cydno_alithea:(0.9801) but_002_Heliconius_cydno_chioneus:(0.9979) but_003_Heliconius_cydno_cydnides:(0.9982) but_030_Heliconius_timareta_linaresi:(0.9956) \n"
     ]
    },
    {
     "name": "stderr",
     "output_type": "stream",
     "text": [
      "Collecting topk: 33it [00:01, 27.73it/s]\n"
     ]
    },
    {
     "name": "stdout",
     "output_type": "stream",
     "text": [
      "Node 005+028\n",
      "\t Child: 005+006\n",
      "\t\tProto:0 but_005_Heliconius_eleuchia_eleuchia:(0.9998) but_006_Heliconius_eleuchia_primularis:(0.9988) \n",
      "\t\tProto:9 but_005_Heliconius_eleuchia_eleuchia:(0.9997) but_006_Heliconius_eleuchia_primularis:(0.9995) \n",
      "\t\tProto:2 but_005_Heliconius_eleuchia_eleuchia:(0.9417) but_006_Heliconius_eleuchia_primularis:(0.9433) \n",
      "\t\tProto:6 but_005_Heliconius_eleuchia_eleuchia:(0.9999) but_006_Heliconius_eleuchia_primularis:(0.9999) \n",
      "\t Child: 028+027\n",
      "\t\tProto:16 but_027_Heliconius_sara_magdalena:(1.0) but_028_Heliconius_sara_sara:(1.0) \n",
      "\t\tProto:19 but_027_Heliconius_sara_magdalena:(0.9998) but_028_Heliconius_sara_sara:(0.9985) \n",
      "\t\tProto:13 but_027_Heliconius_sara_magdalena:(0.9981) but_028_Heliconius_sara_sara:(1.0) \n",
      "\t\tProto:14 but_027_Heliconius_sara_magdalena:(1.0) but_028_Heliconius_sara_sara:(0.9999) \n"
     ]
    },
    {
     "name": "stderr",
     "output_type": "stream",
     "text": [
      "Collecting topk: 179it [00:03, 55.11it/s] \n"
     ]
    },
    {
     "name": "stdout",
     "output_type": "stream",
     "text": [
      "Node 013+029\n",
      "\t Child: 013+015+014+017+011+016+008+009+010+007+012\n",
      "\t\tProto:0 but_007_Heliconius_erato_amalfreda:(0.7249) but_008_Heliconius_erato_chestertonii:(0.9728) but_009_Heliconius_erato_cyrbia:(0.937) but_010_Heliconius_erato_demophoon:(0.9995) but_011_Heliconius_erato_dignus:(0.9048) but_012_Heliconius_erato_erato:(0.9689) but_013_Heliconius_erato_hydara:(0.9653) but_014_Heliconius_erato_lativitta:(0.9972) but_015_Heliconius_erato_notabilis:(0.97) but_016_Heliconius_erato_phyllis:(0.92) but_017_Heliconius_erato_venus:(0.9702) \n",
      "\t\tProto:1 but_007_Heliconius_erato_amalfreda:(0.7944) but_008_Heliconius_erato_chestertonii:(0.6842) but_009_Heliconius_erato_cyrbia:(0.7212) but_010_Heliconius_erato_demophoon:(0.9427) but_011_Heliconius_erato_dignus:(0.4279) but_012_Heliconius_erato_erato:(0.9458) but_013_Heliconius_erato_hydara:(0.5448) but_014_Heliconius_erato_lativitta:(0.7915) but_015_Heliconius_erato_notabilis:(0.8012) but_016_Heliconius_erato_phyllis:(0.8203) but_017_Heliconius_erato_venus:(0.8172) \n",
      "\t\tProto:2 but_007_Heliconius_erato_amalfreda:(0.9342) but_008_Heliconius_erato_chestertonii:(0.9334) but_009_Heliconius_erato_cyrbia:(0.9508) but_010_Heliconius_erato_demophoon:(0.9054) but_011_Heliconius_erato_dignus:(0.2352) but_012_Heliconius_erato_erato:(0.9889) but_013_Heliconius_erato_hydara:(0.9951) but_014_Heliconius_erato_lativitta:(0.995) but_015_Heliconius_erato_notabilis:(0.9947) but_016_Heliconius_erato_phyllis:(0.9691) but_017_Heliconius_erato_venus:(0.9977) \n",
      "\t\tProto:3 but_007_Heliconius_erato_amalfreda:(0.4121) but_008_Heliconius_erato_chestertonii:(0.393) but_009_Heliconius_erato_cyrbia:(0.5264) but_010_Heliconius_erato_demophoon:(0.3759) but_011_Heliconius_erato_dignus:(0.3373) but_012_Heliconius_erato_erato:(0.4289) but_013_Heliconius_erato_hydara:(0.3814) but_014_Heliconius_erato_lativitta:(0.3793) but_015_Heliconius_erato_notabilis:(0.5331) but_016_Heliconius_erato_phyllis:(0.3606) but_017_Heliconius_erato_venus:(0.3606) \n",
      "\t\tProto:5 but_007_Heliconius_erato_amalfreda:(0.9346) but_008_Heliconius_erato_chestertonii:(0.8402) but_009_Heliconius_erato_cyrbia:(0.7677) but_010_Heliconius_erato_demophoon:(0.9187) but_011_Heliconius_erato_dignus:(0.4141) but_012_Heliconius_erato_erato:(0.9264) but_013_Heliconius_erato_hydara:(0.8879) but_014_Heliconius_erato_lativitta:(0.9199) but_015_Heliconius_erato_notabilis:(0.8562) but_016_Heliconius_erato_phyllis:(0.6538) but_017_Heliconius_erato_venus:(0.8591) \n",
      "\t\tProto:6 but_007_Heliconius_erato_amalfreda:(0.9914) but_008_Heliconius_erato_chestertonii:(0.9326) but_009_Heliconius_erato_cyrbia:(0.995) but_010_Heliconius_erato_demophoon:(0.3693) but_011_Heliconius_erato_dignus:(0.9856) but_012_Heliconius_erato_erato:(0.9964) but_013_Heliconius_erato_hydara:(0.9943) but_014_Heliconius_erato_lativitta:(0.9506) but_015_Heliconius_erato_notabilis:(0.9976) but_016_Heliconius_erato_phyllis:(0.9917) but_017_Heliconius_erato_venus:(0.9922) \n",
      "\t\tProto:8 but_007_Heliconius_erato_amalfreda:(0.9935) but_008_Heliconius_erato_chestertonii:(0.964) but_009_Heliconius_erato_cyrbia:(0.8873) but_010_Heliconius_erato_demophoon:(0.9794) but_011_Heliconius_erato_dignus:(0.9035) but_012_Heliconius_erato_erato:(0.9781) but_013_Heliconius_erato_hydara:(0.8793) but_014_Heliconius_erato_lativitta:(0.9548) but_015_Heliconius_erato_notabilis:(0.9649) but_016_Heliconius_erato_phyllis:(0.8079) but_017_Heliconius_erato_venus:(0.9693) \n",
      "\t Child: but_029_Heliconius_telesiphe_sotericus\n",
      "\t\tProto:10 but_029_Heliconius_telesiphe_sotericus:(0.9685) \n",
      "\t\tProto:11 but_029_Heliconius_telesiphe_sotericus:(0.999) \n",
      "\t\tProto:13 but_029_Heliconius_telesiphe_sotericus:(1.0) \n",
      "\t\tProto:16 but_029_Heliconius_telesiphe_sotericus:(0.9897) \n",
      "\t\tProto:18 but_029_Heliconius_telesiphe_sotericus:(0.9736) \n"
     ]
    },
    {
     "name": "stderr",
     "output_type": "stream",
     "text": [
      "Collecting topk: 123it [00:03, 31.73it/s]  \n"
     ]
    },
    {
     "name": "stdout",
     "output_type": "stream",
     "text": [
      "Node 026+020+023+021+018+024+019+025\n",
      "\t Child: but_026_Heliconius_melpomene_vulcanus\n",
      "\t\tProto:0 but_026_Heliconius_melpomene_vulcanus:(0.9982) \n",
      "\t\tProto:1 but_026_Heliconius_melpomene_vulcanus:(0.9964) \n",
      "\t\tProto:3 but_026_Heliconius_melpomene_vulcanus:(0.9966) \n",
      "\t\tProto:6 but_026_Heliconius_melpomene_vulcanus:(0.98) \n",
      "\t\tProto:9 but_026_Heliconius_melpomene_vulcanus:(0.9841) \n",
      "\t Child: but_020_Heliconius_melpomene_cythera\n",
      "\t\tProto:12 but_020_Heliconius_melpomene_cythera:(0.9986) \n",
      "\t\tProto:13 but_020_Heliconius_melpomene_cythera:(1.0) \n",
      "\t\tProto:14 but_020_Heliconius_melpomene_cythera:(0.9996) \n",
      "\t\tProto:17 but_020_Heliconius_melpomene_cythera:(0.9936) \n",
      "\t\tProto:18 but_020_Heliconius_melpomene_cythera:(1.0) \n",
      "\t Child: but_023_Heliconius_melpomene_nanna\n",
      "\t\tProto:29 but_023_Heliconius_melpomene_nanna:(0.9999) \n",
      "\t\tProto:20 but_023_Heliconius_melpomene_nanna:(0.9986) \n",
      "\t\tProto:28 but_023_Heliconius_melpomene_nanna:(0.9655) \n",
      "\t Child: but_021_Heliconius_melpomene_malleti\n",
      "\t\tProto:32 but_021_Heliconius_melpomene_malleti:(0.9999) \n",
      "\t\tProto:34 but_021_Heliconius_melpomene_malleti:(0.9998) \n",
      "\t\tProto:35 but_021_Heliconius_melpomene_malleti:(0.9999) \n",
      "\t\tProto:39 but_021_Heliconius_melpomene_malleti:(0.9994) \n",
      "\t Child: but_018_Heliconius_melpomene_amaryllis\n",
      "\t\tProto:40 but_018_Heliconius_melpomene_amaryllis:(1.0) \n",
      "\t\tProto:43 but_018_Heliconius_melpomene_amaryllis:(1.0) \n",
      "\t\tProto:44 but_018_Heliconius_melpomene_amaryllis:(1.0) \n",
      "\t\tProto:46 but_018_Heliconius_melpomene_amaryllis:(0.9994) \n",
      "\t Child: but_024_Heliconius_melpomene_plesseni\n",
      "\t\tProto:52 but_024_Heliconius_melpomene_plesseni:(0.997) \n",
      "\t\tProto:55 but_024_Heliconius_melpomene_plesseni:(0.9997) \n",
      "\t\tProto:56 but_024_Heliconius_melpomene_plesseni:(0.8354) \n",
      "\t\tProto:57 but_024_Heliconius_melpomene_plesseni:(1.0) \n",
      "\t\tProto:58 but_024_Heliconius_melpomene_plesseni:(1.0) \n",
      "\t Child: but_019_Heliconius_melpomene_bellula\n",
      "\t\tProto:65 but_019_Heliconius_melpomene_bellula:(0.998) \n",
      "\t\tProto:68 but_019_Heliconius_melpomene_bellula:(0.9983) \n",
      "\t\tProto:69 but_019_Heliconius_melpomene_bellula:(0.9999) \n",
      "\t\tProto:63 but_019_Heliconius_melpomene_bellula:(0.9949) \n",
      "\t Child: 025+022\n",
      "\t\tProto:70 but_022_Heliconius_melpomene_melpomene:(0.9949) but_025_Heliconius_melpomene_rosina:(0.9894) \n",
      "\t\tProto:72 but_022_Heliconius_melpomene_melpomene:(0.9781) but_025_Heliconius_melpomene_rosina:(0.9477) \n",
      "\t\tProto:73 but_022_Heliconius_melpomene_melpomene:(0.3656) but_025_Heliconius_melpomene_rosina:(0.311) \n",
      "\t\tProto:75 but_022_Heliconius_melpomene_melpomene:(0.9999) but_025_Heliconius_melpomene_rosina:(0.9946) \n",
      "\t\tProto:77 but_022_Heliconius_melpomene_melpomene:(0.9987) but_025_Heliconius_melpomene_rosina:(0.9929) \n",
      "\t\tProto:79 but_022_Heliconius_melpomene_melpomene:(0.9814) but_025_Heliconius_melpomene_rosina:(0.9989) \n"
     ]
    },
    {
     "name": "stderr",
     "output_type": "stream",
     "text": [
      "Collecting topk: 35it [00:01, 28.96it/s]  \n"
     ]
    },
    {
     "name": "stdout",
     "output_type": "stream",
     "text": [
      "Node 030+001\n",
      "\t Child: but_030_Heliconius_timareta_linaresi\n",
      "\t\tProto:1 but_030_Heliconius_timareta_linaresi:(0.992) \n",
      "\t\tProto:2 but_030_Heliconius_timareta_linaresi:(0.9943) \n",
      "\t\tProto:4 but_030_Heliconius_timareta_linaresi:(0.9557) \n",
      "\t\tProto:5 but_030_Heliconius_timareta_linaresi:(1.0) \n",
      "\t Child: 001+003+002\n",
      "\t\tProto:11 but_001_Heliconius_cydno_alithea:(0.6343) but_002_Heliconius_cydno_chioneus:(0.9871) but_003_Heliconius_cydno_cydnides:(0.1742) \n",
      "\t\tProto:13 but_001_Heliconius_cydno_alithea:(0.9572) but_002_Heliconius_cydno_chioneus:(0.9997) but_003_Heliconius_cydno_cydnides:(0.9774) \n",
      "\t\tProto:14 but_001_Heliconius_cydno_alithea:(0.6781) but_002_Heliconius_cydno_chioneus:(0.9992) but_003_Heliconius_cydno_cydnides:(0.23) \n",
      "\t\tProto:16 but_001_Heliconius_cydno_alithea:(0.789) but_002_Heliconius_cydno_chioneus:(0.9986) but_003_Heliconius_cydno_cydnides:(0.4284) \n",
      "\t\tProto:17 but_001_Heliconius_cydno_alithea:(0.8639) but_002_Heliconius_cydno_chioneus:(1.0) but_003_Heliconius_cydno_cydnides:(0.1071) \n"
     ]
    },
    {
     "name": "stderr",
     "output_type": "stream",
     "text": [
      "Collecting topk: 100% 16/16 [00:00<00:00, 17.05it/s]\n"
     ]
    },
    {
     "name": "stdout",
     "output_type": "stream",
     "text": [
      "Node 005+006\n",
      "\t Child: but_005_Heliconius_eleuchia_eleuchia\n",
      "\t\tProto:0 but_005_Heliconius_eleuchia_eleuchia:(0.9998) \n",
      "\t\tProto:4 but_005_Heliconius_eleuchia_eleuchia:(0.99) \n",
      "\t\tProto:5 but_005_Heliconius_eleuchia_eleuchia:(0.9999) \n",
      "\t\tProto:7 but_005_Heliconius_eleuchia_eleuchia:(1.0) \n",
      "\t Child: but_006_Heliconius_eleuchia_primularis\n",
      "\t\tProto:18 but_006_Heliconius_eleuchia_primularis:(0.9996) \n",
      "\t\tProto:15 but_006_Heliconius_eleuchia_primularis:(1.0) \n"
     ]
    },
    {
     "name": "stderr",
     "output_type": "stream",
     "text": [
      "Collecting topk: 100% 17/17 [00:00<00:00, 17.65it/s]\n"
     ]
    },
    {
     "name": "stdout",
     "output_type": "stream",
     "text": [
      "Node 028+027\n",
      "\t Child: but_028_Heliconius_sara_sara\n",
      "\t\tProto:0 but_028_Heliconius_sara_sara:(0.9999) \n",
      "\t\tProto:1 but_028_Heliconius_sara_sara:(0.9998) \n",
      "\t\tProto:9 but_028_Heliconius_sara_sara:(0.9997) \n",
      "\t Child: but_027_Heliconius_sara_magdalena\n",
      "\t\tProto:11 but_027_Heliconius_sara_magdalena:(0.9986) \n",
      "\t\tProto:13 but_027_Heliconius_sara_magdalena:(1.0) \n"
     ]
    },
    {
     "name": "stderr",
     "output_type": "stream",
     "text": [
      "Collecting topk: 100% 172/172 [00:06<00:00, 27.95it/s]\n"
     ]
    },
    {
     "name": "stdout",
     "output_type": "stream",
     "text": [
      "Node 013+015+014+017+011+016+008+009+010+007+012\n",
      "\t Child: but_013_Heliconius_erato_hydara\n",
      "\t\tProto:1 but_013_Heliconius_erato_hydara:(1.0) \n",
      "\t\tProto:3 but_013_Heliconius_erato_hydara:(0.9995) \n",
      "\t Child: but_015_Heliconius_erato_notabilis\n",
      "\t\tProto:10 but_015_Heliconius_erato_notabilis:(1.0) \n",
      "\t\tProto:19 but_015_Heliconius_erato_notabilis:(0.9998) \n",
      "\t\tProto:12 but_015_Heliconius_erato_notabilis:(1.0) \n",
      "\t\tProto:13 but_015_Heliconius_erato_notabilis:(0.9414) \n",
      "\t Child: but_014_Heliconius_erato_lativitta\n",
      "\t\tProto:20 but_014_Heliconius_erato_lativitta:(0.994) \n",
      "\t\tProto:22 but_014_Heliconius_erato_lativitta:(1.0) \n",
      "\t\tProto:24 but_014_Heliconius_erato_lativitta:(0.9857) \n",
      "\t\tProto:26 but_014_Heliconius_erato_lativitta:(1.0) \n",
      "\t\tProto:27 but_014_Heliconius_erato_lativitta:(0.9999) \n",
      "\t Child: but_017_Heliconius_erato_venus\n",
      "\t\tProto:34 but_017_Heliconius_erato_venus:(1.0) \n",
      "\t\tProto:35 but_017_Heliconius_erato_venus:(1.0) \n",
      "\t\tProto:30 but_017_Heliconius_erato_venus:(0.9999) \n",
      "\t\tProto:39 but_017_Heliconius_erato_venus:(0.9998) \n",
      "\t Child: but_011_Heliconius_erato_dignus\n",
      "\t\tProto:46 but_011_Heliconius_erato_dignus:(0.9354) \n",
      "\t\tProto:47 but_011_Heliconius_erato_dignus:(0.9996) \n",
      "\t Child: but_016_Heliconius_erato_phyllis\n",
      "\t\tProto:50 but_016_Heliconius_erato_phyllis:(1.0) \n",
      "\t\tProto:54 but_016_Heliconius_erato_phyllis:(0.999) \n",
      "\t\tProto:55 but_016_Heliconius_erato_phyllis:(0.9994) \n",
      "\t\tProto:56 but_016_Heliconius_erato_phyllis:(0.9954) \n",
      "\t\tProto:58 but_016_Heliconius_erato_phyllis:(0.9966) \n",
      "\t Child: but_008_Heliconius_erato_chestertonii\n",
      "\t\tProto:67 but_008_Heliconius_erato_chestertonii:(0.9975) \n",
      "\t\tProto:60 but_008_Heliconius_erato_chestertonii:(0.9999) \n",
      "\t\tProto:61 but_008_Heliconius_erato_chestertonii:(1.0) \n",
      "\t\tProto:62 but_008_Heliconius_erato_chestertonii:(0.9994) \n",
      "\t Child: but_009_Heliconius_erato_cyrbia\n",
      "\t\tProto:72 but_009_Heliconius_erato_cyrbia:(0.9997) \n",
      "\t\tProto:73 but_009_Heliconius_erato_cyrbia:(1.0) \n",
      "\t\tProto:74 but_009_Heliconius_erato_cyrbia:(0.9997) \n",
      "\t\tProto:79 but_009_Heliconius_erato_cyrbia:(0.9999) \n",
      "\t Child: but_010_Heliconius_erato_demophoon\n",
      "\t\tProto:81 but_010_Heliconius_erato_demophoon:(1.0) \n",
      "\t\tProto:82 but_010_Heliconius_erato_demophoon:(0.9937) \n",
      "\t\tProto:84 but_010_Heliconius_erato_demophoon:(0.9898) \n",
      "\t\tProto:85 but_010_Heliconius_erato_demophoon:(0.9999) \n",
      "\t\tProto:86 but_010_Heliconius_erato_demophoon:(0.9999) \n",
      "\t\tProto:87 but_010_Heliconius_erato_demophoon:(0.9998) \n",
      "\t Child: but_007_Heliconius_erato_amalfreda\n",
      "\t\tProto:96 but_007_Heliconius_erato_amalfreda:(0.9997) \n",
      "\t\tProto:92 but_007_Heliconius_erato_amalfreda:(1.0) \n",
      "\t\tProto:94 but_007_Heliconius_erato_amalfreda:(0.9992) \n",
      "\t Child: but_012_Heliconius_erato_erato\n",
      "\t\tProto:104 but_012_Heliconius_erato_erato:(1.0) \n",
      "\t\tProto:103 but_012_Heliconius_erato_erato:(1.0) \n"
     ]
    },
    {
     "name": "stderr",
     "output_type": "stream",
     "text": [
      "Collecting topk: 100% 33/33 [00:01<00:00, 28.07it/s]\n"
     ]
    },
    {
     "name": "stdout",
     "output_type": "stream",
     "text": [
      "Node 025+022\n",
      "\t Child: but_025_Heliconius_melpomene_rosina\n",
      "\t\tProto:1 but_025_Heliconius_melpomene_rosina:(1.0) \n",
      "\t\tProto:9 but_025_Heliconius_melpomene_rosina:(1.0) \n",
      "\t Child: but_022_Heliconius_melpomene_melpomene\n",
      "\t\tProto:17 but_022_Heliconius_melpomene_melpomene:(0.9999) \n",
      "\t\tProto:18 but_022_Heliconius_melpomene_melpomene:(1.0) \n",
      "\t\tProto:11 but_022_Heliconius_melpomene_melpomene:(1.0) \n"
     ]
    },
    {
     "name": "stderr",
     "output_type": "stream",
     "text": [
      "Collecting topk: 100% 30/30 [00:01<00:00, 25.12it/s]\n"
     ]
    },
    {
     "name": "stdout",
     "output_type": "stream",
     "text": [
      "Node 001+003+002\n",
      "\t Child: but_001_Heliconius_cydno_alithea\n",
      "\t\tProto:0 but_001_Heliconius_cydno_alithea:(0.9998) \n",
      "\t\tProto:5 but_001_Heliconius_cydno_alithea:(0.9906) \n",
      "\t\tProto:6 but_001_Heliconius_cydno_alithea:(0.9942) \n",
      "\t Child: but_003_Heliconius_cydno_cydnides\n",
      "\t\tProto:11 but_003_Heliconius_cydno_cydnides:(0.9997) \n",
      "\t\tProto:12 but_003_Heliconius_cydno_cydnides:(0.9999) \n",
      "\t\tProto:13 but_003_Heliconius_cydno_cydnides:(1.0) \n",
      "\t\tProto:15 but_003_Heliconius_cydno_cydnides:(0.9967) \n",
      "\t Child: but_002_Heliconius_cydno_chioneus\n",
      "\t\tProto:20 but_002_Heliconius_cydno_chioneus:(0.9966) \n",
      "\t\tProto:21 but_002_Heliconius_cydno_chioneus:(0.9998) \n",
      "\t\tProto:22 but_002_Heliconius_cydno_chioneus:(0.9999) \n",
      "\t\tProto:23 but_002_Heliconius_cydno_chioneus:(1.0) \n",
      "\t\tProto:25 but_002_Heliconius_cydno_chioneus:(1.0) \n",
      "\t\tProto:26 but_002_Heliconius_cydno_chioneus:(0.9999) \n",
      "\t\tProto:27 but_002_Heliconius_cydno_chioneus:(0.9998) \n",
      "\t\tProto:28 but_002_Heliconius_cydno_chioneus:(0.9999) \n",
      "\t\tProto:29 but_002_Heliconius_cydno_chioneus:(0.9206) \n",
      "Done !!!\n"
     ]
    }
   ],
   "source": [
    "# Proto activations on leaf descendents - topk images\n",
    "\n",
    "def get_heatmap(latent_activation, input_image, constant_color_scale=False):\n",
    "    image_a = latent_activation.cpu().numpy()\n",
    "    # image_a = (image_a - image_a.min()) / (image_a.max() - image_a.min())\n",
    "\n",
    "    # input_image = (input_image - input_image.min()) / (input_image.max() - input_image.min())\n",
    "    image_b = input_image.permute(1, 2, 0).cpu().numpy()\n",
    "    \n",
    "    reshaped_image_a = np.array(Image.fromarray((image_a[0] * 255).astype('uint8')).resize((input_image.shape[-1], input_image.shape[-1])))\n",
    "\n",
    "    if constant_color_scale:\n",
    "        reshaped_image_a = np.concatenate((reshaped_image_a, np.zeros((reshaped_image_a.shape[1], 1)), np.ones((reshaped_image_a.shape[1], 1))*255), axis=1)\n",
    "    \n",
    "    normalized_heatmap = (reshaped_image_a - np.min(reshaped_image_a)) / (np.max(reshaped_image_a) - np.min(reshaped_image_a))\n",
    "\n",
    "    heatmap_colormap = plt.get_cmap('jet')\n",
    "    # heatmap_colormap = plt.get_cmap('rainbow')\n",
    "    heatmap_colored = heatmap_colormap(normalized_heatmap)\n",
    "\n",
    "    if constant_color_scale:\n",
    "        heatmap_colored = heatmap_colored[:, :-2]\n",
    "    \n",
    "    heatmap_colored_uint8 = (heatmap_colored[:, :, :3] * 255).astype(np.uint8)\n",
    "    image_a_heatmap_pillow = Image.fromarray(heatmap_colored_uint8)\n",
    "    image_b_pillow = Image.fromarray((image_b * 255).astype('uint8'))\n",
    "    \n",
    "    result_image = Image.blend(image_b_pillow, image_a_heatmap_pillow, alpha=0.3)\n",
    "    \n",
    "    return np.array(result_image)\n",
    "\n",
    "def get_heatmap_uninterpolated(latent_activation, input_image):\n",
    "    image_a = latent_activation.cpu().numpy()\n",
    "    image_a = (image_a - image_a.min()) / (image_a.max() - image_a.min())\n",
    "\n",
    "    input_image = (input_image - input_image.min()) / (input_image.max() - input_image.min())\n",
    "    image_b = input_image.permute(1, 2, 0).cpu().numpy()\n",
    "    \n",
    "    reshaped_image_a = np.array(Image.fromarray((image_a[0] * 255).astype('uint8')).resize((input_image.shape[-1], input_image.shape[-1]), \\\n",
    "                                                                                          resample=Image.NEAREST ))\n",
    "    normalized_heatmap = (reshaped_image_a - np.min(reshaped_image_a)) / (np.max(reshaped_image_a) - np.min(reshaped_image_a))\n",
    "    \n",
    "    heatmap_colormap = plt.get_cmap('jet')\n",
    "    heatmap_colored = heatmap_colormap(normalized_heatmap)\n",
    "    \n",
    "    heatmap_colored_uint8 = (heatmap_colored[:, :, :3] * 255).astype(np.uint8)\n",
    "    image_a_heatmap_pillow = Image.fromarray(heatmap_colored_uint8)\n",
    "    image_b_pillow = Image.fromarray((image_b * 255).astype('uint8'))\n",
    "    \n",
    "    result_image = Image.blend(image_b_pillow, image_a_heatmap_pillow, alpha=0.3)\n",
    "    \n",
    "    return np.array(result_image)\n",
    "\n",
    "from util.data import ModifiedLabelLoader\n",
    "from collections import defaultdict\n",
    "import heapq\n",
    "import pdb\n",
    "from util.vis_pipnet import get_img_coordinates\n",
    "import torchvision.transforms as transforms\n",
    "from PIL import ImageFont, Image, ImageDraw as D\n",
    "import torchvision\n",
    "from datetime import datetime\n",
    "from PIL import Image, ImageDraw, ImageFont\n",
    "import math\n",
    "# txt_file = open(os.path.join(run_path, \"num_proto_details_\"+datetime.now().strftime(\"%m:%d:%H:%M:%S\")+\".txt\"), \"a\")\n",
    "# txt_file.write('\\n')\n",
    "\n",
    "vizloader_name = 'testloader' # projectloader\n",
    "find_non_descendants = False # True, False # param\n",
    "topk = 3\n",
    "save_images = True # True, False\n",
    "font = ImageFont.truetype(\"arial.ttf\", 50)\n",
    "save_activation_as_npy_path = None # 'activation_as_npy'\n",
    "if (save_activation_as_npy_path is not None):\n",
    "    save_activation_as_npy_path = '_'.join(['activation_as_npy', vizloader_name])  # activation_as_npy, added for NUMPY SAVING\n",
    "if find_non_descendants and (save_activation_as_npy_path is not None):\n",
    "    save_activation_as_npy_path = save_activation_as_npy_path + '_non_desc'\n",
    "plot_overspecificity_score = True\n",
    "subtree_root = root#.get_node('024+051')\n",
    "    \n",
    "from datetime import datetime\n",
    "# txt_file = open(os.path.join(run_path, \"num_proto_details_\"+datetime.now().strftime(\"%m:%d:%H:%M:%S\")+\".txt\"), \"a\")\n",
    "# txt_file.write('\\n')\n",
    "\n",
    "def write_num_proto_details(proto_mean_activations, node_name, net, threshold, txt_file, args):\n",
    "    \n",
    "    rand_input = torch.randn((1, 3, args.image_size, args.image_size))\n",
    "    with torch.no_grad():\n",
    "        *_, pooled, out = net(rand_input)\n",
    "    num_protos = pooled[node_name].shape[1]\n",
    "    used_protos = len(proto_mean_activations)\n",
    "    non_overspecific = 0\n",
    "    for p in proto_mean_activations:\n",
    "        logstr = '\\t'*2 + f'Proto:{p} '\n",
    "        protos_mean_for_all_leaf_descedants = []\n",
    "        for leaf_descendent in proto_mean_activations[p]:\n",
    "            mean_activation = round(np.mean([activation for activation, *_ in proto_mean_activations[p][leaf_descendent]]), 4)\n",
    "            protos_mean_for_all_leaf_descedants.append(mean_activation)\n",
    "            \n",
    "        if all([(mean_activation>0.2) for mean_activation in protos_mean_for_all_leaf_descedants]):\n",
    "            non_overspecific += 1\n",
    "            \n",
    "    txt_file.write(f\"Node:{node_name},Total:{num_protos},Used:{used_protos},Good:{non_overspecific},threshold={threshold}\\n\")\n",
    "\n",
    "\n",
    "def get_heap():\n",
    "    list_ = []\n",
    "    heapq.heapify(list_)\n",
    "    return list_\n",
    "\n",
    "patchsize, skip = get_patch_size(args)\n",
    "\n",
    "\n",
    "vizloader_dict = {'trainloader': trainloader,\n",
    "                 'projectloader': projectloader,\n",
    "                 'testloader': testloader,\n",
    "                 'test_projectloader': test_projectloader}\n",
    "vizloader_dict[vizloader_name] = unshuffle_dataloader(vizloader_dict[vizloader_name])\n",
    "\n",
    "\n",
    "if type(vizloader_dict[vizloader_name].dataset) == ImageFolder:\n",
    "    name2label = vizloader_dict[vizloader_name].dataset.class_to_idx\n",
    "    label2name = {label:name for name, label in name2label.items()}\n",
    "else:\n",
    "    name2label = vizloader_dict[vizloader_name].dataset.dataset.dataset.class_to_idx\n",
    "    label2name = {label:name for name, label in name2label.items()}\n",
    "    \n",
    "overspecificity_score_and_proto_mask = []\n",
    "\n",
    "for node in root.nodes_with_children():\n",
    "#     if node.name == 'root':\n",
    "#         continue\n",
    "#     non_leaf_children_names = [child.name for child in node.children if not child.is_leaf()]\n",
    "#     if len(non_leaf_children_names) == 0: # if all the children are leaf nodes then skip this node\n",
    "#         continue\n",
    "\n",
    "    if (node.name not in subtree_root.descendents) and (node.name != subtree_root.name):\n",
    "        print('Skipping node', node.name)\n",
    "        continue\n",
    "\n",
    "    name2label = vizloader_dict[vizloader_name].dataset.class_to_idx\n",
    "    label2name = {label:name for name, label in name2label.items()}\n",
    "    modifiedLabelLoader = ModifiedLabelLoader(vizloader_dict[vizloader_name], node)\n",
    "    coarse_label2name = modifiedLabelLoader.modifiedlabel2name\n",
    "    node_label_to_children = {label: name for name, label in node.children_to_labels.items()}\n",
    "    \n",
    "    imgs = modifiedLabelLoader.filtered_imgs\n",
    "\n",
    "    img_iter = tqdm(enumerate(modifiedLabelLoader),\n",
    "                    total=len(modifiedLabelLoader),\n",
    "                    mininterval=50.,\n",
    "                    desc='Collecting topk',\n",
    "                    ncols=0)\n",
    "\n",
    "    classification_weights = getattr(net.module, '_'+node.name+'_classification').weight\n",
    "    \n",
    "    # maps proto_number -> grand_child_name (or descendant leaf name) -> list of top-k activations\n",
    "    proto_mean_activations = defaultdict(lambda: defaultdict(get_heap))\n",
    "\n",
    "    # maps class names to the prototypes that belong to that\n",
    "    class_and_prototypes = defaultdict(set)\n",
    "\n",
    "    for i, (xs, orig_y, ys) in img_iter:\n",
    "#         if coarse_label2name[ys.item()] not in non_leaf_children_names:\n",
    "#             continue\n",
    "\n",
    "        xs, ys = xs.to(device), ys.to(device)\n",
    "\n",
    "        with torch.no_grad():\n",
    "            model_output = net(xs, inference=False)\n",
    "            if len(model_output) == 3:\n",
    "                softmaxes, pooled, _ = model_output\n",
    "            elif len(model_output) == 4:\n",
    "                _, softmaxes, pooled, _ = model_output\n",
    "            pooled = pooled[node.name].squeeze(0) \n",
    "            softmaxes = softmaxes[node.name]#.squeeze(0)\n",
    "\n",
    "            for p in range(pooled.shape[0]): # pooled.shape -> [768] (== num of prototypes)\n",
    "                c_weight = torch.max(classification_weights[:,p]) # classification_weights[:,p].shape -> [200] (== num of classes)\n",
    "                relevant_proto_classes = torch.nonzero(classification_weights[:, p] > 1e-3)\n",
    "                relevant_proto_class_names = [node_label_to_children[class_idx.item()] for class_idx in relevant_proto_classes]\n",
    "                \n",
    "                # Take the max per prototype.                             \n",
    "                max_per_prototype, max_idx_per_prototype = torch.max(softmaxes, dim=0)\n",
    "                max_per_prototype_h, max_idx_per_prototype_h = torch.max(max_per_prototype, dim=1)\n",
    "                max_per_prototype_w, max_idx_per_prototype_w = torch.max(max_per_prototype_h, dim=1) #shape (num_prototypes)\n",
    "                \n",
    "                h_idx = max_idx_per_prototype_h[p, max_idx_per_prototype_w[p]]\n",
    "                w_idx = max_idx_per_prototype_w[p]\n",
    "\n",
    "                if len(relevant_proto_class_names) == 0:\n",
    "                    continue\n",
    "                \n",
    "#                 if (len(relevant_proto_class_names) == 1) and (relevant_proto_class_names[0] not in non_leaf_children_names):\n",
    "#                     continue\n",
    "                \n",
    "                h_coor_min, h_coor_max, w_coor_min, w_coor_max = get_img_coordinates(args.image_size, softmaxes.shape, patchsize, skip, h_idx, w_idx)\n",
    "                latent_activation = softmaxes[:, p, :, :]\n",
    "                \n",
    "                if not find_non_descendants:\n",
    "                    if (coarse_label2name[ys.item()] in relevant_proto_class_names):\n",
    "                        child_node = root.get_node(coarse_label2name[ys.item()])\n",
    "                        leaf_descendent = label2name[orig_y.item()]#[4:7]\n",
    "                        img_to_open = imgs[i][0] # it is a tuple of (path to image, lable)\n",
    "                        if topk and (len(proto_mean_activations[p][leaf_descendent]) >= topk):\n",
    "                            heapq.heappushpop(proto_mean_activations[p][leaf_descendent],\\\n",
    "                                              (pooled[p].item(), img_to_open,\\\n",
    "                                               (h_coor_min, h_coor_max, w_coor_min, w_coor_max), latent_activation))\n",
    "                        else:\n",
    "                            heapq.heappush(proto_mean_activations[p][leaf_descendent],\\\n",
    "                                           (pooled[p].item(), img_to_open,\\\n",
    "                                            (h_coor_min, h_coor_max, w_coor_min, w_coor_max), latent_activation))\n",
    "                else:\n",
    "                    if (coarse_label2name[ys.item()] not in relevant_proto_class_names):\n",
    "                        child_node = root.get_node(coarse_label2name[ys.item()])\n",
    "                        leaf_descendent = label2name[orig_y.item()]#[4:7]\n",
    "                        img_to_open = imgs[i][0] # it is a tuple of (path to image, lable)\n",
    "                        if topk and (len(proto_mean_activations[p][leaf_descendent]) >= topk):\n",
    "                            heapq.heappushpop(proto_mean_activations[p][leaf_descendent],\\\n",
    "                                              (pooled[p].item(), img_to_open,\\\n",
    "                                               (h_coor_min, h_coor_max, w_coor_min, w_coor_max), latent_activation))\n",
    "                        else:\n",
    "                            heapq.heappush(proto_mean_activations[p][leaf_descendent],\\\n",
    "                                           (pooled[p].item(), img_to_open,\\\n",
    "                                            (h_coor_min, h_coor_max, w_coor_min, w_coor_max), latent_activation))\n",
    "\n",
    "                class_and_prototypes[', '.join(relevant_proto_class_names)].add(p)\n",
    "\n",
    "    # write_num_proto_details(proto_mean_activations, node.name, net, threshold=0.2, txt_file=txt_file, args=args)\n",
    "\n",
    "    if plot_overspecificity_score:\n",
    "        for child_classname in class_and_prototypes:\n",
    "            for p in class_and_prototypes[child_classname]:\n",
    "                mean_activation_of_every_leaf = []\n",
    "                for leaf_descendent in proto_mean_activations[p]:\n",
    "                    mean_activation = round(np.mean([activation for activation, *_ in proto_mean_activations[p][leaf_descendent]]), 4)\n",
    "                    mean_activation_of_every_leaf.append(mean_activation)\n",
    "\n",
    "                overspecificity_score = 1\n",
    "                for mean_act in mean_activation_of_every_leaf:\n",
    "                    overspecificity_score *= mean_act * 1.0\n",
    "                proto_presence = getattr(net.module, '_'+node.name+'_proto_presence')\n",
    "                proto_presence = F.gumbel_softmax(proto_presence, tau=0.5, hard=True, dim=-1)\n",
    "                proto_mask = proto_presence[p, 1].item()\n",
    "                overspecificity_score_and_proto_mask.append((overspecificity_score, len(mean_activation_of_every_leaf), proto_mask))\n",
    "\n",
    "    print('Node', node.name)\n",
    "    for child_classname in class_and_prototypes:\n",
    "        \n",
    "        print('\\t'*1, 'Child:', child_classname)\n",
    "        for p in class_and_prototypes[child_classname]:\n",
    "            \n",
    "            logstr = '\\t'*2 + f'Proto:{p} '\n",
    "            mean_activation_of_every_leaf = []\n",
    "            for leaf_descendent in proto_mean_activations[p]:\n",
    "                mean_activation = round(np.mean([activation for activation, *_ in proto_mean_activations[p][leaf_descendent]]), 4)\n",
    "                num_images = len(proto_mean_activations[p][leaf_descendent])\n",
    "                logstr += f'{leaf_descendent}:({mean_activation}) '\n",
    "                mean_activation_of_every_leaf.append(mean_activation)\n",
    "            print(logstr)\n",
    "            \n",
    "            # # if the mean_activation is less for all leaf descendants skip the node\n",
    "            # if all([mean_act < 0.2 for mean_act in mean_activation_of_every_leaf]):\n",
    "            #     if find_non_descendants:\n",
    "            #         print('\\t'*2 + f'Not skipping proto {p} of {node.name} coz of find_non_descendants')\n",
    "            #     else:\n",
    "            #         print('\\t'*2 + f'Skipping proto {p} of {node.name}')\n",
    "            #         continue\n",
    "            \n",
    "            # have this for NON descendants\n",
    "            if len(proto_mean_activations[p]) == 0:\n",
    "                continue\n",
    "            \n",
    "            if save_images or save_activation_as_npy_path:\n",
    "                patches = []\n",
    "                right_descriptions = []\n",
    "                text_region_width = 3 # 3x the width of a patch\n",
    "\n",
    "                font_size = 40\n",
    "                fnt = ImageFont.truetype(\"arial.ttf\", font_size)\n",
    "                max_width = ImageDraw.Draw(Image.new(\"RGB\", (100, 100), (255, 0, 0))).textlength('-', font=fnt)\n",
    "                \n",
    "                for leaf_descendent in proto_mean_activations[p]:\n",
    "                    for word in leaf_descendent.split('_')[2:]:\n",
    "                        width_of_word = ImageDraw.Draw(Image.new(\"RGB\", (100, 100), (255, 0, 0))).textlength(word, font=fnt)\n",
    "                        max_width = max(max_width, width_of_word)\n",
    "\n",
    "                for leaf_descendent, heap in proto_mean_activations[p].items():\n",
    "                    # if 'BUT' in args.dataset:\n",
    "                    #     species_name = ' '.join(leaf_descendent.split('_')[2:4])\n",
    "                    # else:\n",
    "                    species_name = ' '.join(leaf_descendent.split('_')[2:])\n",
    "                    heap = sorted(heap)[::-1]\n",
    "                    mean_activation = round(np.mean([activation for activation, *_ in proto_mean_activations[p][leaf_descendent]]), 4)\n",
    "                    for rank, ele in enumerate(heap):\n",
    "                        activation, img_to_open, (h_coor_min, h_coor_max, w_coor_min, w_coor_max), latent_activation = ele\n",
    "                        image = transforms.Resize(size=(args.image_size, args.image_size))(Image.open(img_to_open))\n",
    "                        img_tensor = transforms.ToTensor()(image)#.unsqueeze_(0) #shape (1, 3, h, w)\n",
    "\n",
    "                        overlayed_image_np = get_heatmap(latent_activation, img_tensor, constant_color_scale=True)\n",
    "                        overlayed_image = torch.tensor(overlayed_image_np).permute(2, 0, 1).float() / 255.\n",
    "                        \n",
    "                        reshaped_latent_activation = np.array(Image.fromarray((latent_activation.cpu().numpy()[0] * 255).astype('uint8')).resize((img_tensor.shape[-1], img_tensor.shape[-1])))\n",
    "                        center = np.unravel_index(np.argmax(reshaped_latent_activation), reshaped_latent_activation.shape)\n",
    "                        # center = ((h_coor_min + h_coor_max) / 2., (w_coor_min + w_coor_max) / 2.)\n",
    "                        patch_size = 64\n",
    "                        h_coor_min = int(max(0, center[0] - (patch_size/2.)))\n",
    "                        h_coor_max = int(min(img_tensor.shape[1], center[0] + (patch_size/2.)))\n",
    "                        w_coor_min = int(max(0, center[1] - (patch_size/2.)))\n",
    "                        w_coor_max = int(min(img_tensor.shape[2], center[1] + (patch_size/2.)))\n",
    "                        img_tensor_patch = img_tensor[:, h_coor_min:h_coor_max, w_coor_min:w_coor_max]\n",
    "\n",
    "                        \n",
    "                        \n",
    "                        \n",
    "                        # overlayed_image = img_tensor\n",
    "\n",
    "                        \n",
    "\n",
    "                        scale_factor = 1.7  # 70% increase\n",
    "\n",
    "                        heatmap_patch = overlayed_image[:, h_coor_min:h_coor_max, w_coor_min:w_coor_max]\n",
    "                        resized_heatmap_patch = F.interpolate(heatmap_patch.unsqueeze(0), scale_factor=scale_factor, \\\n",
    "                                                      mode='bilinear', align_corners=False).squeeze(0)\n",
    "                        resized_heatmap_patch = torchvision.utils.draw_bounding_boxes((resized_heatmap_patch * 255).to(torch.uint8), \\\n",
    "                                                                                torch.tensor([[0, 0, resized_heatmap_patch.shape[2], resized_heatmap_patch.shape[1]]]), \\\n",
    "                                                                                width=4, colors=(255, 0, 0))\n",
    "                        resized_heatmap_patch = resized_heatmap_patch.float() / 255.\n",
    "                        \n",
    "                        resized_img_patch = F.interpolate(img_tensor_patch.unsqueeze(0), scale_factor=scale_factor, \\\n",
    "                                                      mode='bilinear', align_corners=False).squeeze(0)\n",
    "                        resized_img_patch = torchvision.utils.draw_bounding_boxes((resized_img_patch * 255).to(torch.uint8), \\\n",
    "                                                                                torch.tensor([[0, 0, resized_img_patch.shape[2], resized_img_patch.shape[1]]]), \\\n",
    "                                                                                width=4, colors=(255, 255, 0))\n",
    "                        resized_img_patch = resized_img_patch.float() / 255.\n",
    "                        \n",
    "                        resized_patch = torchvision.utils.make_grid([resized_img_patch, resized_heatmap_patch], nrow=1, padding=1, pad_value=1., border=1)\n",
    "                        white_image = torch.ones(3, img_tensor.shape[1], img_tensor.shape[2])\n",
    "                        patch_height = resized_patch.shape[1]\n",
    "                        y_start = (white_image.shape[1] - patch_height) // 2                        \n",
    "                        x_start = 10  # 10 pixels from the left\n",
    "                        white_image[:, y_start:y_start+patch_height, x_start:x_start+resized_patch.shape[2]] = resized_patch\n",
    "\n",
    "                        # Bounding box on original image\n",
    "                        img_tensor = torchvision.utils.draw_bounding_boxes((img_tensor * 255).to(torch.uint8), \\\n",
    "                                                                                torch.tensor([[w_coor_min, h_coor_min, w_coor_max, h_coor_max]]), \\\n",
    "                                                                                width=2, colors=(255, 255, 0))\n",
    "                        img_tensor = img_tensor.float() / 255.\n",
    "\n",
    "                        # Bounding box on overlayed image\n",
    "                        overlayed_image = torchvision.utils.draw_bounding_boxes((overlayed_image * 255).to(torch.uint8), \\\n",
    "                                                                                torch.tensor([[w_coor_min, h_coor_min, w_coor_max, h_coor_max]]), \\\n",
    "                                                                                width=2, colors=(255, 0, 0))\n",
    "                        overlayed_image = overlayed_image.float() / 255.\n",
    "\n",
    "                        grid_cell = torchvision.utils.make_grid([overlayed_image, img_tensor, white_image], nrow=3, padding=5, pad_value=1., border=1)\n",
    "\n",
    "                        patches.append(grid_cell)\n",
    "                        \n",
    "                        # added for NUMPY SAVING\n",
    "                        \n",
    "                        if save_activation_as_npy_path:\n",
    "#                             upscaled_similarity_interpolated = get_upscaled_activation_interpolated(latent_activation,\n",
    "#                                                                                        image_size=(args.image_size, args.image_size))\n",
    "                            latent_activation_npy = latent_activation.squeeze().cpu().numpy()\n",
    "                            data = {'node_name': node.name,\n",
    "                                    'proto_num': p,\n",
    "                                    'child_name': child_classname,\n",
    "                                    'leaf_desc': leaf_descendent,\n",
    "                                     'rank': rank,\n",
    "                                     'img_path': img_to_open,\n",
    "                                     'img_filename': ntpath.basename(img_to_open),\n",
    "                                     'activation': latent_activation_npy,\n",
    "                                     'max_activation': activation,\n",
    "                                     'model_type': 'NAIVE-HPIPNET'}\n",
    "                            filename = str(rank)+ '-' + ntpath.basename(img_to_open) + '.npy'\n",
    "                            save_path = os.path.join(run_path, save_activation_as_npy_path, \\\n",
    "                                                     node.name, str(p), leaf_descendent,\n",
    "                                                     filename)\n",
    "                            os.makedirs(os.path.dirname(save_path), exist_ok=True)\n",
    "                            np.save(save_path, data, allow_pickle=True)\n",
    "\n",
    "                    # # description on the right hand side\n",
    "                    # text = f'{mean_activation}, {leaf_descendent}'\n",
    "                    # txtimage = Image.new(\"RGB\", (patches[0].shape[-2]*text_region_width,patches[0].shape[-1]), (255, 255, 255))\n",
    "                    # draw = D.Draw(txtimage)\n",
    "                    # draw.text((150, patches[0].shape[1]//2), text, anchor='mm', fill=\"black\", font=font)\n",
    "                    # pdb.set_trace()\n",
    "                    # txttensor = transforms.ToTensor()(txtimage)#.unsqueeze_(0)\n",
    "                    # right_descriptions.append(txttensor)\n",
    "\n",
    "                    text = '\\n'.join(species_name.split(' '))\n",
    "                    image_size = (math.ceil(max_width) + 10, patches[0].shape[1])\n",
    "                    txtimage = Image.new(\"RGB\", image_size, (255, 255, 255))\n",
    "                    d = ImageDraw.Draw(txtimage)\n",
    "                    d.multiline_text((image_size[0]/2, image_size[1]/2), text, font=fnt, fill=(0, 0, 0), align =\"center\", anchor=\"mm\")\n",
    "                    txttensor = transforms.ToTensor()(txtimage)#.unsqueeze_(0)\n",
    "                    right_descriptions.append(txttensor)\n",
    "                    \n",
    "\n",
    "                padding = 0\n",
    "\n",
    "                # grid = torchvision.utils.make_grid(patches, nrow=topk, padding=padding, border=0)\n",
    "                # grid_right_descriptions = torchvision.utils.make_grid(right_descriptions, nrow=1, padding=padding, border=0)\n",
    "                # grid = torch.cat([grid_right_descriptions, grid], dim=-1)\n",
    "\n",
    "                grid_rows = []\n",
    "                for k in range(len(proto_mean_activations[p])):\n",
    "                    grid_row = torchvision.utils.make_grid(patches[k*topk:(k+1)*topk], nrow=topk, padding=padding, border=0)\n",
    "                    grid_right_description = torchvision.utils.make_grid(right_descriptions[k], nrow=1, padding=padding, border=0)\n",
    "                    # pdb.set_trace()\n",
    "                    grid_row = torch.cat([grid_right_description, grid_row], dim=-1)\n",
    "                    grid_rows.append(grid_row)\n",
    "                # grid = torch.cat(grid_rows, dim=0)\n",
    "                grid = torchvision.utils.make_grid(grid_rows, nrow=1, padding=5, pad_value=1.)\n",
    "                    \n",
    "                # # description on the top\n",
    "                # text = f'Node:{node.name}, p{p}, Child:{child_classname}'\n",
    "                # txtimage = Image.new(\"RGB\", (grid.shape[-1], args.wshape), (0, 0, 0))\n",
    "                # draw = D.Draw(txtimage)\n",
    "                # draw.text((150, patches[0].shape[1]//2), text, anchor='mm', fill=\"white\", font=font)\n",
    "                # txttensor = transforms.ToTensor()(txtimage)#.unsqueeze_(0)\n",
    "\n",
    "                # merging top description with the grid of images\n",
    "                # grid = torch.cat([grid, txttensor], dim=1)\n",
    "                \n",
    "                if save_images:\n",
    "                    prefix = 'non_' if find_non_descendants else ''\n",
    "                    os.makedirs(os.path.join(run_path, prefix+f'descendent_specific_topk_heatmap_withbb_ep={epoch}_{subtree_root.name}', node.name), exist_ok=True)\n",
    "                    torchvision.utils.save_image(grid, os.path.join(run_path, prefix+f'descendent_specific_topk_heatmap_withbb_ep={epoch}_{subtree_root.name}', node.name, f'{child_classname}-p{p}.png'), border=0) # , border_color=(255, 255, 255), border=10\n",
    "\n",
    "# txt_file.write('\\n')\n",
    "# txt_file.close()\n",
    "print('Done !!!')"
   ]
  },
  {
   "cell_type": "markdown",
   "metadata": {
    "jp-MarkdownHeadingCollapsed": true
   },
   "source": [
    "# With only heatmpa, Color zoom in and heatmpa zoom in"
   ]
  },
  {
   "cell_type": "code",
   "execution_count": 16,
   "metadata": {},
   "outputs": [
    {
     "name": "stdout",
     "output_type": "stream",
     "text": [
      "Skipping node root\n",
      "Skipping node 129+024+067\n",
      "Skipping node 089+046\n",
      "Skipping node 129+065\n",
      "Skipping node 024+051\n",
      "Skipping node 067+070\n",
      "Skipping node 089+090\n",
      "Skipping node 046+087\n"
     ]
    },
    {
     "name": "stderr",
     "output_type": "stream",
     "text": [
      "Collecting topk: 4116it [03:22, 20.33it/s]\n"
     ]
    },
    {
     "name": "stdout",
     "output_type": "stream",
     "text": [
      "Node 129+192\n",
      "\t Child: 129+043\n",
      "\t\tProto:2 cub_009_Brewer_Blackbird:(0.9476) cub_010_Red_winged_Blackbird:(0.9895) cub_011_Rusty_Blackbird:(0.9819) cub_012_Yellow_headed_Blackbird:(0.9703) cub_013_Bobolink:(0.9883) cub_014_Indigo_Bunting:(0.9946) cub_015_Lazuli_Bunting:(0.9858) cub_016_Painted_Bunting:(0.9944) cub_017_Cardinal:(0.9827) cub_018_Spotted_Catbird:(0.9281) cub_019_Gray_Catbird:(0.9944) cub_020_Yellow_breasted_Chat:(0.9922) cub_021_Eastern_Towhee:(0.9896) cub_026_Bronzed_Cowbird:(0.9772) cub_027_Shiny_Cowbird:(0.985) cub_028_Brown_Creeper:(0.8242) cub_029_American_Crow:(0.9737) cub_030_Fish_Crow:(0.9808) cub_034_Gray_crowned_Rosy_Finch:(0.9747) cub_035_Purple_Finch:(0.9806) cub_037_Acadian_Flycatcher:(0.9812) cub_038_Great_Crested_Flycatcher:(0.9739) cub_039_Least_Flycatcher:(0.9815) cub_040_Olive_sided_Flycatcher:(0.9589) cub_041_Scissor_tailed_Flycatcher:(0.8648) cub_042_Vermilion_Flycatcher:(0.9206) cub_043_Yellow_bellied_Flycatcher:(0.9941) cub_047_American_Goldfinch:(0.9951) cub_048_European_Goldfinch:(0.8319) cub_049_Boat_tailed_Grackle:(0.9916) cub_054_Blue_Grosbeak:(0.9829) cub_055_Evening_Grosbeak:(0.9929) cub_056_Pine_Grosbeak:(0.9695) cub_057_Rose_breasted_Grosbeak:(0.9975) cub_073_Blue_Jay:(0.9295) cub_074_Florida_Jay:(0.983) cub_076_Dark_eyed_Junco:(0.9965) cub_077_Tropical_Kingbird:(0.957) cub_078_Gray_Kingbird:(0.9267) cub_085_Horned_Lark:(0.9277) cub_088_Western_Meadowlark:(0.9815) cub_091_Mockingbird:(0.9473) cub_093_Clark_Nutcracker:(0.8776) cub_094_White_breasted_Nuthatch:(0.9487) cub_095_Baltimore_Oriole:(0.9855) cub_096_Hooded_Oriole:(0.9754) cub_097_Orchard_Oriole:(0.9868) cub_098_Scott_Oriole:(0.9895) cub_099_Ovenbird:(0.9794) cub_102_Western_Wood_Pewee:(0.9635) cub_104_American_Pipit:(0.9945) cub_107_Common_Raven:(0.989) cub_108_White_necked_Raven:(0.9899) cub_109_American_Redstart:(0.9933) cub_111_Loggerhead_Shrike:(0.9779) cub_112_Great_Grey_Shrike:(0.9777) cub_113_Baird_Sparrow:(0.9975) cub_114_Black_throated_Sparrow:(0.9841) cub_115_Brewer_Sparrow:(0.9895) cub_116_Chipping_Sparrow:(0.975) cub_117_Clay_colored_Sparrow:(0.9772) cub_118_House_Sparrow:(0.978) cub_119_Field_Sparrow:(0.9894) cub_120_Fox_Sparrow:(0.9845) cub_121_Grasshopper_Sparrow:(0.9881) cub_122_Harris_Sparrow:(0.9959) cub_123_Henslow_Sparrow:(0.9964) cub_124_Le_Conte_Sparrow:(0.9807) cub_125_Lincoln_Sparrow:(0.9943) cub_126_Nelson_Sharp_tailed_Sparrow:(0.9856) cub_127_Savannah_Sparrow:(0.9894) cub_128_Seaside_Sparrow:(0.9473) cub_129_Song_Sparrow:(0.9673) cub_130_Tree_Sparrow:(0.9933) cub_131_Vesper_Sparrow:(0.9921) cub_132_White_crowned_Sparrow:(0.9882) cub_133_White_throated_Sparrow:(0.9967) cub_136_Barn_Swallow:(0.9008) cub_137_Cliff_Swallow:(0.9417) cub_138_Tree_Swallow:(0.9504) cub_139_Scarlet_Tanager:(0.5483) cub_140_Summer_Tanager:(0.8532) cub_148_Green_tailed_Towhee:(0.9668) cub_149_Brown_Thrasher:(0.9276) cub_150_Sage_Thrasher:(0.9427) cub_151_Black_capped_Vireo:(0.8743) cub_152_Blue_headed_Vireo:(0.9953) cub_153_Philadelphia_Vireo:(0.9958) cub_154_Red_eyed_Vireo:(0.9742) cub_155_Warbling_Vireo:(0.983) cub_156_White_eyed_Vireo:(0.9811) cub_157_Yellow_throated_Vireo:(0.9926) cub_158_Bay_breasted_Warbler:(0.9705) cub_159_Black_and_white_Warbler:(0.9749) cub_160_Black_throated_Blue_Warbler:(0.9934) cub_161_Blue_winged_Warbler:(0.9903) cub_162_Canada_Warbler:(0.9982) cub_163_Cape_May_Warbler:(0.997) cub_164_Cerulean_Warbler:(0.9973) cub_165_Chestnut_sided_Warbler:(0.9834) cub_166_Golden_winged_Warbler:(0.9845) cub_167_Hooded_Warbler:(0.9655) cub_168_Kentucky_Warbler:(0.9942) cub_169_Magnolia_Warbler:(0.9936) cub_170_Mourning_Warbler:(0.9955) cub_172_Nashville_Warbler:(0.9966) cub_173_Orange_crowned_Warbler:(0.9987) cub_174_Palm_Warbler:(0.9981) cub_175_Pine_Warbler:(0.9944) cub_176_Prairie_Warbler:(0.9859) cub_177_Prothonotary_Warbler:(0.9552) cub_178_Swainson_Warbler:(0.9928) cub_179_Tennessee_Warbler:(0.9938) cub_180_Wilson_Warbler:(0.9961) cub_181_Worm_eating_Warbler:(0.9928) cub_182_Yellow_Warbler:(0.9976) cub_183_Northern_Waterthrush:(0.9854) cub_184_Louisiana_Waterthrush:(0.9814) cub_185_Bohemian_Waxwing:(0.9216) cub_186_Cedar_Waxwing:(0.8708) cub_193_Bewick_Wren:(0.9852) cub_194_Cactus_Wren:(0.9914) cub_195_Carolina_Wren:(0.991) cub_196_House_Wren:(0.9852) cub_197_Marsh_Wren:(0.9772) cub_198_Rock_Wren:(0.9845) cub_199_Winter_Wren:(0.9908) cub_200_Common_Yellowthroat:(0.9958) \n",
      "\t\tProto:3 cub_009_Brewer_Blackbird:(0.9972) cub_010_Red_winged_Blackbird:(0.9804) cub_011_Rusty_Blackbird:(0.9966) cub_012_Yellow_headed_Blackbird:(0.9924) cub_013_Bobolink:(0.9548) cub_014_Indigo_Bunting:(0.994) cub_015_Lazuli_Bunting:(0.9985) cub_016_Painted_Bunting:(0.9981) cub_017_Cardinal:(0.9243) cub_018_Spotted_Catbird:(0.9095) cub_019_Gray_Catbird:(0.9972) cub_020_Yellow_breasted_Chat:(0.9891) cub_021_Eastern_Towhee:(0.9799) cub_026_Bronzed_Cowbird:(0.9774) cub_027_Shiny_Cowbird:(0.9915) cub_028_Brown_Creeper:(0.5975) cub_029_American_Crow:(0.9627) cub_030_Fish_Crow:(0.9921) cub_034_Gray_crowned_Rosy_Finch:(0.9978) cub_035_Purple_Finch:(0.9704) cub_037_Acadian_Flycatcher:(0.9907) cub_038_Great_Crested_Flycatcher:(0.9596) cub_039_Least_Flycatcher:(0.9892) cub_040_Olive_sided_Flycatcher:(0.9322) cub_041_Scissor_tailed_Flycatcher:(0.9637) cub_042_Vermilion_Flycatcher:(0.9847) cub_043_Yellow_bellied_Flycatcher:(0.9956) cub_047_American_Goldfinch:(0.9971) cub_048_European_Goldfinch:(0.859) cub_049_Boat_tailed_Grackle:(0.9841) cub_054_Blue_Grosbeak:(0.984) cub_055_Evening_Grosbeak:(0.9762) cub_056_Pine_Grosbeak:(0.9942) cub_057_Rose_breasted_Grosbeak:(0.973) cub_073_Blue_Jay:(0.9604) cub_074_Florida_Jay:(0.9948) cub_076_Dark_eyed_Junco:(0.9724) cub_077_Tropical_Kingbird:(0.9844) cub_078_Gray_Kingbird:(0.9431) cub_085_Horned_Lark:(0.9849) cub_088_Western_Meadowlark:(0.9847) cub_091_Mockingbird:(0.9986) cub_093_Clark_Nutcracker:(0.9871) cub_094_White_breasted_Nuthatch:(0.9928) cub_095_Baltimore_Oriole:(0.9846) cub_096_Hooded_Oriole:(0.9661) cub_097_Orchard_Oriole:(0.9913) cub_098_Scott_Oriole:(0.9884) cub_099_Ovenbird:(0.9849) cub_102_Western_Wood_Pewee:(0.9899) cub_104_American_Pipit:(0.9993) cub_107_Common_Raven:(0.9453) cub_108_White_necked_Raven:(0.9817) cub_109_American_Redstart:(0.9609) cub_111_Loggerhead_Shrike:(0.9848) cub_112_Great_Grey_Shrike:(0.9903) cub_113_Baird_Sparrow:(0.9607) cub_114_Black_throated_Sparrow:(0.9769) cub_115_Brewer_Sparrow:(0.9964) cub_116_Chipping_Sparrow:(0.9952) cub_117_Clay_colored_Sparrow:(0.9778) cub_118_House_Sparrow:(0.9979) cub_119_Field_Sparrow:(0.9981) cub_120_Fox_Sparrow:(0.9593) cub_121_Grasshopper_Sparrow:(0.9681) cub_122_Harris_Sparrow:(0.9901) cub_123_Henslow_Sparrow:(0.9635) cub_124_Le_Conte_Sparrow:(0.9897) cub_125_Lincoln_Sparrow:(0.9912) cub_126_Nelson_Sharp_tailed_Sparrow:(0.9958) cub_127_Savannah_Sparrow:(0.9641) cub_128_Seaside_Sparrow:(0.9636) cub_129_Song_Sparrow:(0.98) cub_130_Tree_Sparrow:(0.9964) cub_131_Vesper_Sparrow:(0.9613) cub_132_White_crowned_Sparrow:(0.9922) cub_133_White_throated_Sparrow:(0.9831) cub_136_Barn_Swallow:(0.9962) cub_137_Cliff_Swallow:(0.9883) cub_138_Tree_Swallow:(0.9529) cub_139_Scarlet_Tanager:(0.8738) cub_140_Summer_Tanager:(0.9752) cub_148_Green_tailed_Towhee:(0.9949) cub_149_Brown_Thrasher:(0.9541) cub_150_Sage_Thrasher:(0.9856) cub_151_Black_capped_Vireo:(0.976) cub_152_Blue_headed_Vireo:(0.9909) cub_153_Philadelphia_Vireo:(0.997) cub_154_Red_eyed_Vireo:(0.9817) cub_155_Warbling_Vireo:(0.9978) cub_156_White_eyed_Vireo:(0.9756) cub_157_Yellow_throated_Vireo:(0.9975) cub_158_Bay_breasted_Warbler:(0.9859) cub_159_Black_and_white_Warbler:(0.9562) cub_160_Black_throated_Blue_Warbler:(0.9426) cub_161_Blue_winged_Warbler:(0.999) cub_162_Canada_Warbler:(0.9914) cub_163_Cape_May_Warbler:(0.9914) cub_164_Cerulean_Warbler:(0.9652) cub_165_Chestnut_sided_Warbler:(0.9689) cub_166_Golden_winged_Warbler:(0.9819) cub_167_Hooded_Warbler:(0.982) cub_168_Kentucky_Warbler:(0.9859) cub_169_Magnolia_Warbler:(0.9952) cub_170_Mourning_Warbler:(0.9934) cub_172_Nashville_Warbler:(0.9978) cub_173_Orange_crowned_Warbler:(0.9981) cub_174_Palm_Warbler:(0.9976) cub_175_Pine_Warbler:(0.9974) cub_176_Prairie_Warbler:(0.9939) cub_177_Prothonotary_Warbler:(0.9984) cub_178_Swainson_Warbler:(0.9969) cub_179_Tennessee_Warbler:(0.9988) cub_180_Wilson_Warbler:(0.9935) cub_181_Worm_eating_Warbler:(0.9939) cub_182_Yellow_Warbler:(0.9972) cub_183_Northern_Waterthrush:(0.9949) cub_184_Louisiana_Waterthrush:(0.9895) cub_185_Bohemian_Waxwing:(0.9922) cub_186_Cedar_Waxwing:(0.9882) cub_193_Bewick_Wren:(0.9978) cub_194_Cactus_Wren:(0.9489) cub_195_Carolina_Wren:(0.9914) cub_196_House_Wren:(0.9939) cub_197_Marsh_Wren:(0.9744) cub_198_Rock_Wren:(0.9875) cub_199_Winter_Wren:(0.9913) cub_200_Common_Yellowthroat:(0.977) \n",
      "\t\tProto:4 cub_009_Brewer_Blackbird:(0.9785) cub_010_Red_winged_Blackbird:(0.99) cub_011_Rusty_Blackbird:(0.9788) cub_012_Yellow_headed_Blackbird:(0.9899) cub_013_Bobolink:(0.9684) cub_014_Indigo_Bunting:(0.9932) cub_015_Lazuli_Bunting:(0.9992) cub_016_Painted_Bunting:(0.9896) cub_017_Cardinal:(0.9828) cub_018_Spotted_Catbird:(0.7581) cub_019_Gray_Catbird:(0.9885) cub_020_Yellow_breasted_Chat:(0.9867) cub_021_Eastern_Towhee:(0.9932) cub_026_Bronzed_Cowbird:(0.9845) cub_027_Shiny_Cowbird:(0.9896) cub_028_Brown_Creeper:(0.6947) cub_029_American_Crow:(0.9912) cub_030_Fish_Crow:(0.9886) cub_034_Gray_crowned_Rosy_Finch:(0.9887) cub_035_Purple_Finch:(0.9851) cub_037_Acadian_Flycatcher:(0.998) cub_038_Great_Crested_Flycatcher:(0.996) cub_039_Least_Flycatcher:(0.9939) cub_040_Olive_sided_Flycatcher:(0.9404) cub_041_Scissor_tailed_Flycatcher:(0.9351) cub_042_Vermilion_Flycatcher:(0.989) cub_043_Yellow_bellied_Flycatcher:(0.997) cub_047_American_Goldfinch:(0.9959) cub_048_European_Goldfinch:(0.9417) cub_049_Boat_tailed_Grackle:(0.9811) cub_054_Blue_Grosbeak:(0.9966) cub_055_Evening_Grosbeak:(0.984) cub_056_Pine_Grosbeak:(0.9823) cub_057_Rose_breasted_Grosbeak:(0.9865) cub_073_Blue_Jay:(0.8985) cub_074_Florida_Jay:(0.9988) cub_076_Dark_eyed_Junco:(0.9934) cub_077_Tropical_Kingbird:(0.9565) cub_078_Gray_Kingbird:(0.9786) cub_085_Horned_Lark:(0.9872) cub_088_Western_Meadowlark:(0.9805) cub_091_Mockingbird:(0.9932) cub_093_Clark_Nutcracker:(0.9857) cub_094_White_breasted_Nuthatch:(0.9471) cub_095_Baltimore_Oriole:(0.9695) cub_096_Hooded_Oriole:(0.9932) cub_097_Orchard_Oriole:(0.9821) cub_098_Scott_Oriole:(0.9799) cub_099_Ovenbird:(0.9926) cub_102_Western_Wood_Pewee:(0.9882) cub_104_American_Pipit:(0.9941) cub_107_Common_Raven:(0.9844) cub_108_White_necked_Raven:(0.9918) cub_109_American_Redstart:(0.9957) cub_111_Loggerhead_Shrike:(0.9652) cub_112_Great_Grey_Shrike:(0.9641) cub_113_Baird_Sparrow:(0.9711) cub_114_Black_throated_Sparrow:(0.9697) cub_115_Brewer_Sparrow:(0.9942) cub_116_Chipping_Sparrow:(0.9795) cub_117_Clay_colored_Sparrow:(0.9818) cub_118_House_Sparrow:(0.9817) cub_119_Field_Sparrow:(0.9976) cub_120_Fox_Sparrow:(0.9895) cub_121_Grasshopper_Sparrow:(0.9966) cub_122_Harris_Sparrow:(0.9919) cub_123_Henslow_Sparrow:(0.9907) cub_124_Le_Conte_Sparrow:(0.9966) cub_125_Lincoln_Sparrow:(0.988) cub_126_Nelson_Sharp_tailed_Sparrow:(0.9943) cub_127_Savannah_Sparrow:(0.9893) cub_128_Seaside_Sparrow:(0.9773) cub_129_Song_Sparrow:(0.9854) cub_130_Tree_Sparrow:(0.9808) cub_131_Vesper_Sparrow:(0.995) cub_132_White_crowned_Sparrow:(0.96) cub_133_White_throated_Sparrow:(0.9525) cub_136_Barn_Swallow:(0.984) cub_137_Cliff_Swallow:(0.9918) cub_138_Tree_Swallow:(0.9717) cub_139_Scarlet_Tanager:(0.8363) cub_140_Summer_Tanager:(0.7478) cub_148_Green_tailed_Towhee:(0.9907) cub_149_Brown_Thrasher:(0.9303) cub_150_Sage_Thrasher:(0.9826) cub_151_Black_capped_Vireo:(0.8793) cub_152_Blue_headed_Vireo:(0.9915) cub_153_Philadelphia_Vireo:(0.9975) cub_154_Red_eyed_Vireo:(0.9877) cub_155_Warbling_Vireo:(0.9965) cub_156_White_eyed_Vireo:(0.9792) cub_157_Yellow_throated_Vireo:(0.9971) cub_158_Bay_breasted_Warbler:(0.9826) cub_159_Black_and_white_Warbler:(0.9695) cub_160_Black_throated_Blue_Warbler:(0.9965) cub_161_Blue_winged_Warbler:(0.9907) cub_162_Canada_Warbler:(0.9824) cub_163_Cape_May_Warbler:(0.9977) cub_164_Cerulean_Warbler:(0.9131) cub_165_Chestnut_sided_Warbler:(0.9284) cub_166_Golden_winged_Warbler:(0.9542) cub_167_Hooded_Warbler:(0.9912) cub_168_Kentucky_Warbler:(0.9922) cub_169_Magnolia_Warbler:(0.9948) cub_170_Mourning_Warbler:(0.9969) cub_172_Nashville_Warbler:(0.9929) cub_173_Orange_crowned_Warbler:(0.9927) cub_174_Palm_Warbler:(0.9971) cub_175_Pine_Warbler:(0.993) cub_176_Prairie_Warbler:(0.9982) cub_177_Prothonotary_Warbler:(0.9923) cub_178_Swainson_Warbler:(0.9929) cub_179_Tennessee_Warbler:(0.9964) cub_180_Wilson_Warbler:(0.9964) cub_181_Worm_eating_Warbler:(0.9928) cub_182_Yellow_Warbler:(0.9933) cub_183_Northern_Waterthrush:(0.9849) cub_184_Louisiana_Waterthrush:(0.9821) cub_185_Bohemian_Waxwing:(0.9811) cub_186_Cedar_Waxwing:(0.975) cub_193_Bewick_Wren:(0.9899) cub_194_Cactus_Wren:(0.9509) cub_195_Carolina_Wren:(0.9739) cub_196_House_Wren:(0.9917) cub_197_Marsh_Wren:(0.9899) cub_198_Rock_Wren:(0.9964) cub_199_Winter_Wren:(0.9986) cub_200_Common_Yellowthroat:(0.9758) \n",
      "\t\tProto:5 cub_009_Brewer_Blackbird:(0.9884) cub_010_Red_winged_Blackbird:(0.9671) cub_011_Rusty_Blackbird:(0.9865) cub_012_Yellow_headed_Blackbird:(0.9823) cub_013_Bobolink:(0.7794) cub_014_Indigo_Bunting:(0.9754) cub_015_Lazuli_Bunting:(0.9954) cub_016_Painted_Bunting:(0.9968) cub_017_Cardinal:(0.9442) cub_018_Spotted_Catbird:(0.9542) cub_019_Gray_Catbird:(0.9925) cub_020_Yellow_breasted_Chat:(0.9985) cub_021_Eastern_Towhee:(0.98) cub_026_Bronzed_Cowbird:(0.9845) cub_027_Shiny_Cowbird:(0.9851) cub_028_Brown_Creeper:(0.9681) cub_029_American_Crow:(0.9868) cub_030_Fish_Crow:(0.9928) cub_034_Gray_crowned_Rosy_Finch:(0.9842) cub_035_Purple_Finch:(0.9547) cub_037_Acadian_Flycatcher:(0.9872) cub_038_Great_Crested_Flycatcher:(0.9817) cub_039_Least_Flycatcher:(0.9925) cub_040_Olive_sided_Flycatcher:(0.9812) cub_041_Scissor_tailed_Flycatcher:(0.9707) cub_042_Vermilion_Flycatcher:(0.9421) cub_043_Yellow_bellied_Flycatcher:(0.9926) cub_047_American_Goldfinch:(0.9985) cub_048_European_Goldfinch:(0.9708) cub_049_Boat_tailed_Grackle:(0.9941) cub_054_Blue_Grosbeak:(0.9891) cub_055_Evening_Grosbeak:(0.999) cub_056_Pine_Grosbeak:(0.9714) cub_057_Rose_breasted_Grosbeak:(0.8005) cub_073_Blue_Jay:(0.996) cub_074_Florida_Jay:(0.9849) cub_076_Dark_eyed_Junco:(0.9794) cub_077_Tropical_Kingbird:(0.9927) cub_078_Gray_Kingbird:(0.8753) cub_085_Horned_Lark:(0.9975) cub_088_Western_Meadowlark:(0.9942) cub_091_Mockingbird:(0.9981) cub_093_Clark_Nutcracker:(0.9908) cub_094_White_breasted_Nuthatch:(0.961) cub_095_Baltimore_Oriole:(0.9913) cub_096_Hooded_Oriole:(0.9865) cub_097_Orchard_Oriole:(0.9899) cub_098_Scott_Oriole:(0.9938) cub_099_Ovenbird:(0.9891) cub_102_Western_Wood_Pewee:(0.9738) cub_104_American_Pipit:(0.9932) cub_107_Common_Raven:(0.9728) cub_108_White_necked_Raven:(0.8218) cub_109_American_Redstart:(0.9921) cub_111_Loggerhead_Shrike:(0.8408) cub_112_Great_Grey_Shrike:(0.9677) cub_113_Baird_Sparrow:(0.9116) cub_114_Black_throated_Sparrow:(0.918) cub_115_Brewer_Sparrow:(0.9732) cub_116_Chipping_Sparrow:(0.9869) cub_117_Clay_colored_Sparrow:(0.9879) cub_118_House_Sparrow:(0.9772) cub_119_Field_Sparrow:(0.9956) cub_120_Fox_Sparrow:(0.9859) cub_121_Grasshopper_Sparrow:(0.9684) cub_122_Harris_Sparrow:(0.9833) cub_123_Henslow_Sparrow:(0.9954) cub_124_Le_Conte_Sparrow:(0.9894) cub_125_Lincoln_Sparrow:(0.9871) cub_126_Nelson_Sharp_tailed_Sparrow:(0.9948) cub_127_Savannah_Sparrow:(0.9778) cub_128_Seaside_Sparrow:(0.9921) cub_129_Song_Sparrow:(0.9781) cub_130_Tree_Sparrow:(0.9903) cub_131_Vesper_Sparrow:(0.9926) cub_132_White_crowned_Sparrow:(0.9908) cub_133_White_throated_Sparrow:(0.9954) cub_136_Barn_Swallow:(0.9933) cub_137_Cliff_Swallow:(0.9807) cub_138_Tree_Swallow:(0.976) cub_139_Scarlet_Tanager:(0.9234) cub_140_Summer_Tanager:(0.9331) cub_148_Green_tailed_Towhee:(0.9696) cub_149_Brown_Thrasher:(0.9182) cub_150_Sage_Thrasher:(0.9886) cub_151_Black_capped_Vireo:(0.8948) cub_152_Blue_headed_Vireo:(0.9971) cub_153_Philadelphia_Vireo:(0.9996) cub_154_Red_eyed_Vireo:(0.9965) cub_155_Warbling_Vireo:(0.9991) cub_156_White_eyed_Vireo:(0.9956) cub_157_Yellow_throated_Vireo:(0.999) cub_158_Bay_breasted_Warbler:(0.9804) cub_159_Black_and_white_Warbler:(0.9123) cub_160_Black_throated_Blue_Warbler:(0.9817) cub_161_Blue_winged_Warbler:(0.9984) cub_162_Canada_Warbler:(0.9975) cub_163_Cape_May_Warbler:(0.9995) cub_164_Cerulean_Warbler:(0.965) cub_165_Chestnut_sided_Warbler:(0.9949) cub_166_Golden_winged_Warbler:(0.9875) cub_167_Hooded_Warbler:(0.9994) cub_168_Kentucky_Warbler:(0.9991) cub_169_Magnolia_Warbler:(0.9897) cub_170_Mourning_Warbler:(0.9958) cub_172_Nashville_Warbler:(0.9996) cub_173_Orange_crowned_Warbler:(0.9999) cub_174_Palm_Warbler:(0.9986) cub_175_Pine_Warbler:(0.998) cub_176_Prairie_Warbler:(0.996) cub_177_Prothonotary_Warbler:(0.9856) cub_178_Swainson_Warbler:(0.9959) cub_179_Tennessee_Warbler:(0.9996) cub_180_Wilson_Warbler:(0.9977) cub_181_Worm_eating_Warbler:(0.9996) cub_182_Yellow_Warbler:(0.9975) cub_183_Northern_Waterthrush:(0.9882) cub_184_Louisiana_Waterthrush:(0.9926) cub_185_Bohemian_Waxwing:(0.9799) cub_186_Cedar_Waxwing:(0.971) cub_193_Bewick_Wren:(0.9956) cub_194_Cactus_Wren:(0.9851) cub_195_Carolina_Wren:(0.9939) cub_196_House_Wren:(0.9982) cub_197_Marsh_Wren:(0.9943) cub_198_Rock_Wren:(0.9954) cub_199_Winter_Wren:(0.9946) cub_200_Common_Yellowthroat:(0.9905) \n",
      "\t\tProto:6 cub_009_Brewer_Blackbird:(0.9243) cub_010_Red_winged_Blackbird:(0.9538) cub_011_Rusty_Blackbird:(0.956) cub_012_Yellow_headed_Blackbird:(0.9854) cub_013_Bobolink:(0.9691) cub_014_Indigo_Bunting:(0.9881) cub_015_Lazuli_Bunting:(0.993) cub_016_Painted_Bunting:(0.9763) cub_017_Cardinal:(0.8325) cub_018_Spotted_Catbird:(0.8579) cub_019_Gray_Catbird:(0.9735) cub_020_Yellow_breasted_Chat:(0.9959) cub_021_Eastern_Towhee:(0.9647) cub_026_Bronzed_Cowbird:(0.9454) cub_027_Shiny_Cowbird:(0.9737) cub_028_Brown_Creeper:(0.6635) cub_029_American_Crow:(0.9767) cub_030_Fish_Crow:(0.9779) cub_034_Gray_crowned_Rosy_Finch:(0.9306) cub_035_Purple_Finch:(0.9299) cub_037_Acadian_Flycatcher:(0.9368) cub_038_Great_Crested_Flycatcher:(0.8809) cub_039_Least_Flycatcher:(0.9417) cub_040_Olive_sided_Flycatcher:(0.8106) cub_041_Scissor_tailed_Flycatcher:(0.8272) cub_042_Vermilion_Flycatcher:(0.9245) cub_043_Yellow_bellied_Flycatcher:(0.9452) cub_047_American_Goldfinch:(0.9861) cub_048_European_Goldfinch:(0.4726) cub_049_Boat_tailed_Grackle:(0.96) cub_054_Blue_Grosbeak:(0.9803) cub_055_Evening_Grosbeak:(0.9577) cub_056_Pine_Grosbeak:(0.9218) cub_057_Rose_breasted_Grosbeak:(0.9339) cub_073_Blue_Jay:(0.5935) cub_074_Florida_Jay:(0.9796) cub_076_Dark_eyed_Junco:(0.9849) cub_077_Tropical_Kingbird:(0.9602) cub_078_Gray_Kingbird:(0.9105) cub_085_Horned_Lark:(0.8816) cub_088_Western_Meadowlark:(0.9465) cub_091_Mockingbird:(0.967) cub_093_Clark_Nutcracker:(0.8522) cub_094_White_breasted_Nuthatch:(0.873) cub_095_Baltimore_Oriole:(0.9752) cub_096_Hooded_Oriole:(0.9827) cub_097_Orchard_Oriole:(0.9627) cub_098_Scott_Oriole:(0.9737) cub_099_Ovenbird:(0.8708) cub_102_Western_Wood_Pewee:(0.9288) cub_104_American_Pipit:(0.9788) cub_107_Common_Raven:(0.9603) cub_108_White_necked_Raven:(0.9836) cub_109_American_Redstart:(0.9702) cub_111_Loggerhead_Shrike:(0.9432) cub_112_Great_Grey_Shrike:(0.9597) cub_113_Baird_Sparrow:(0.9786) cub_114_Black_throated_Sparrow:(0.9818) cub_115_Brewer_Sparrow:(0.9602) cub_116_Chipping_Sparrow:(0.9824) cub_117_Clay_colored_Sparrow:(0.8886) cub_118_House_Sparrow:(0.9376) cub_119_Field_Sparrow:(0.9636) cub_120_Fox_Sparrow:(0.9604) cub_121_Grasshopper_Sparrow:(0.885) cub_122_Harris_Sparrow:(0.9204) cub_123_Henslow_Sparrow:(0.9319) cub_124_Le_Conte_Sparrow:(0.9342) cub_125_Lincoln_Sparrow:(0.987) cub_126_Nelson_Sharp_tailed_Sparrow:(0.951) cub_127_Savannah_Sparrow:(0.9637) cub_128_Seaside_Sparrow:(0.8371) cub_129_Song_Sparrow:(0.9712) cub_130_Tree_Sparrow:(0.9531) cub_131_Vesper_Sparrow:(0.978) cub_132_White_crowned_Sparrow:(0.9113) cub_133_White_throated_Sparrow:(0.969) cub_136_Barn_Swallow:(0.9428) cub_137_Cliff_Swallow:(0.9158) cub_138_Tree_Swallow:(0.9455) cub_139_Scarlet_Tanager:(0.843) cub_140_Summer_Tanager:(0.7227) cub_148_Green_tailed_Towhee:(0.9874) cub_149_Brown_Thrasher:(0.8523) cub_150_Sage_Thrasher:(0.9443) cub_151_Black_capped_Vireo:(0.6551) cub_152_Blue_headed_Vireo:(0.9677) cub_153_Philadelphia_Vireo:(0.9919) cub_154_Red_eyed_Vireo:(0.948) cub_155_Warbling_Vireo:(0.9492) cub_156_White_eyed_Vireo:(0.9859) cub_157_Yellow_throated_Vireo:(0.996) cub_158_Bay_breasted_Warbler:(0.9423) cub_159_Black_and_white_Warbler:(0.9582) cub_160_Black_throated_Blue_Warbler:(0.9734) cub_161_Blue_winged_Warbler:(0.9893) cub_162_Canada_Warbler:(0.997) cub_163_Cape_May_Warbler:(0.985) cub_164_Cerulean_Warbler:(0.9511) cub_165_Chestnut_sided_Warbler:(0.8947) cub_166_Golden_winged_Warbler:(0.9615) cub_167_Hooded_Warbler:(0.9698) cub_168_Kentucky_Warbler:(0.9885) cub_169_Magnolia_Warbler:(0.9944) cub_170_Mourning_Warbler:(0.9699) cub_172_Nashville_Warbler:(0.9927) cub_173_Orange_crowned_Warbler:(0.9943) cub_174_Palm_Warbler:(0.9951) cub_175_Pine_Warbler:(0.9919) cub_176_Prairie_Warbler:(0.9897) cub_177_Prothonotary_Warbler:(0.9328) cub_178_Swainson_Warbler:(0.8749) cub_179_Tennessee_Warbler:(0.9864) cub_180_Wilson_Warbler:(0.9801) cub_181_Worm_eating_Warbler:(0.9677) cub_182_Yellow_Warbler:(0.9863) cub_183_Northern_Waterthrush:(0.9934) cub_184_Louisiana_Waterthrush:(0.9808) cub_185_Bohemian_Waxwing:(0.8298) cub_186_Cedar_Waxwing:(0.9642) cub_193_Bewick_Wren:(0.9532) cub_194_Cactus_Wren:(0.9657) cub_195_Carolina_Wren:(0.9505) cub_196_House_Wren:(0.949) cub_197_Marsh_Wren:(0.9207) cub_198_Rock_Wren:(0.9663) cub_199_Winter_Wren:(0.9763) cub_200_Common_Yellowthroat:(0.9977) \n",
      "\t Child: 192+081\n",
      "\t\tProto:11 cub_036_Northern_Flicker:(0.9647) cub_079_Belted_Kingfisher:(0.2545) cub_080_Green_Kingfisher:(0.3178) cub_081_Pied_Kingfisher:(0.2344) cub_082_Ringed_Kingfisher:(0.3741) cub_083_White_breasted_Kingfisher:(0.7351) cub_187_American_Three_toed_Woodpecker:(0.0494) cub_188_Pileated_Woodpecker:(0.9485) cub_189_Red_bellied_Woodpecker:(0.986) cub_190_Red_cockaded_Woodpecker:(0.9743) cub_191_Red_headed_Woodpecker:(0.8368) cub_192_Downy_Woodpecker:(0.6266) \n",
      "\t\tProto:12 cub_036_Northern_Flicker:(0.1704) cub_079_Belted_Kingfisher:(0.4367) cub_080_Green_Kingfisher:(0.425) cub_081_Pied_Kingfisher:(0.3979) cub_082_Ringed_Kingfisher:(0.3241) cub_083_White_breasted_Kingfisher:(0.3117) cub_187_American_Three_toed_Woodpecker:(0.2686) cub_188_Pileated_Woodpecker:(0.5266) cub_189_Red_bellied_Woodpecker:(0.1929) cub_190_Red_cockaded_Woodpecker:(0.361) cub_191_Red_headed_Woodpecker:(0.1867) cub_192_Downy_Woodpecker:(0.4674) \n",
      "\t\tProto:13 cub_036_Northern_Flicker:(0.1268) cub_079_Belted_Kingfisher:(0.1896) cub_080_Green_Kingfisher:(0.221) cub_081_Pied_Kingfisher:(0.2542) cub_082_Ringed_Kingfisher:(0.2386) cub_083_White_breasted_Kingfisher:(0.1879) cub_187_American_Three_toed_Woodpecker:(0.1614) cub_188_Pileated_Woodpecker:(0.2646) cub_189_Red_bellied_Woodpecker:(0.2185) cub_190_Red_cockaded_Woodpecker:(0.1565) cub_191_Red_headed_Woodpecker:(0.2546) cub_192_Downy_Woodpecker:(0.2146) \n",
      "\t\tProto:14 cub_036_Northern_Flicker:(0.0654) cub_079_Belted_Kingfisher:(0.9875) cub_080_Green_Kingfisher:(0.9766) cub_081_Pied_Kingfisher:(0.9479) cub_082_Ringed_Kingfisher:(0.9878) cub_083_White_breasted_Kingfisher:(0.9598) cub_187_American_Three_toed_Woodpecker:(0.0603) cub_188_Pileated_Woodpecker:(0.0873) cub_189_Red_bellied_Woodpecker:(0.1082) cub_190_Red_cockaded_Woodpecker:(0.6634) cub_191_Red_headed_Woodpecker:(0.3401) cub_192_Downy_Woodpecker:(0.077) \n",
      "\t\tProto:16 cub_036_Northern_Flicker:(0.0797) cub_079_Belted_Kingfisher:(0.482) cub_080_Green_Kingfisher:(0.4425) cub_081_Pied_Kingfisher:(0.8837) cub_082_Ringed_Kingfisher:(0.4127) cub_083_White_breasted_Kingfisher:(0.2172) cub_187_American_Three_toed_Woodpecker:(0.9872) cub_188_Pileated_Woodpecker:(0.9203) cub_189_Red_bellied_Woodpecker:(0.1697) cub_190_Red_cockaded_Woodpecker:(0.397) cub_191_Red_headed_Woodpecker:(0.8414) cub_192_Downy_Woodpecker:(0.9664) \n",
      "\t\tProto:17 cub_036_Northern_Flicker:(0.243) cub_079_Belted_Kingfisher:(0.7257) cub_080_Green_Kingfisher:(0.5101) cub_081_Pied_Kingfisher:(0.5516) cub_082_Ringed_Kingfisher:(0.8148) cub_083_White_breasted_Kingfisher:(0.7755) cub_187_American_Three_toed_Woodpecker:(0.0926) cub_188_Pileated_Woodpecker:(0.7749) cub_189_Red_bellied_Woodpecker:(0.3063) cub_190_Red_cockaded_Woodpecker:(0.2775) cub_191_Red_headed_Woodpecker:(0.3371) cub_192_Downy_Woodpecker:(0.1635) \n",
      "\t\tProto:19 cub_036_Northern_Flicker:(0.1995) cub_079_Belted_Kingfisher:(0.1203) cub_080_Green_Kingfisher:(0.1755) cub_081_Pied_Kingfisher:(0.1595) cub_082_Ringed_Kingfisher:(0.1062) cub_083_White_breasted_Kingfisher:(0.2007) cub_187_American_Three_toed_Woodpecker:(0.1726) cub_188_Pileated_Woodpecker:(0.3122) cub_189_Red_bellied_Woodpecker:(0.2605) cub_190_Red_cockaded_Woodpecker:(0.2065) cub_191_Red_headed_Woodpecker:(0.2922) cub_192_Downy_Woodpecker:(0.1876) \n",
      "Skipping node 065+006\n",
      "Skipping node 024+031\n",
      "Skipping node 051+052\n",
      "Skipping node 067+068\n"
     ]
    },
    {
     "name": "stderr",
     "output_type": "stream",
     "text": [
      "Collecting topk: 3767it [03:04, 20.37it/s]\n"
     ]
    },
    {
     "name": "stdout",
     "output_type": "stream",
     "text": [
      "Node 129+043\n",
      "\t Child: 129+018\n",
      "\t\tProto:1 cub_009_Brewer_Blackbird:(0.9835) cub_010_Red_winged_Blackbird:(0.9906) cub_011_Rusty_Blackbird:(0.9356) cub_012_Yellow_headed_Blackbird:(0.9532) cub_013_Bobolink:(0.9913) cub_014_Indigo_Bunting:(0.99) cub_015_Lazuli_Bunting:(0.9838) cub_016_Painted_Bunting:(0.9341) cub_017_Cardinal:(0.9956) cub_018_Spotted_Catbird:(0.9916) cub_019_Gray_Catbird:(0.9346) cub_020_Yellow_breasted_Chat:(0.9825) cub_021_Eastern_Towhee:(0.9818) cub_026_Bronzed_Cowbird:(0.993) cub_027_Shiny_Cowbird:(0.9943) cub_028_Brown_Creeper:(0.8836) cub_029_American_Crow:(0.9891) cub_030_Fish_Crow:(0.9859) cub_034_Gray_crowned_Rosy_Finch:(0.9917) cub_035_Purple_Finch:(0.9635) cub_047_American_Goldfinch:(0.9819) cub_048_European_Goldfinch:(0.9985) cub_049_Boat_tailed_Grackle:(0.9866) cub_054_Blue_Grosbeak:(0.9963) cub_055_Evening_Grosbeak:(0.9992) cub_056_Pine_Grosbeak:(0.9212) cub_057_Rose_breasted_Grosbeak:(0.999) cub_073_Blue_Jay:(0.9907) cub_074_Florida_Jay:(0.9524) cub_076_Dark_eyed_Junco:(0.9958) cub_085_Horned_Lark:(0.9969) cub_088_Western_Meadowlark:(0.9952) cub_091_Mockingbird:(0.8624) cub_093_Clark_Nutcracker:(0.8462) cub_094_White_breasted_Nuthatch:(0.9766) cub_095_Baltimore_Oriole:(0.9854) cub_096_Hooded_Oriole:(0.9963) cub_097_Orchard_Oriole:(0.9934) cub_098_Scott_Oriole:(0.9919) cub_099_Ovenbird:(0.9919) cub_104_American_Pipit:(0.9723) cub_107_Common_Raven:(0.9939) cub_108_White_necked_Raven:(0.9937) cub_109_American_Redstart:(0.985) cub_111_Loggerhead_Shrike:(0.7326) cub_112_Great_Grey_Shrike:(0.829) cub_113_Baird_Sparrow:(0.9983) cub_114_Black_throated_Sparrow:(0.9946) cub_115_Brewer_Sparrow:(0.987) cub_116_Chipping_Sparrow:(0.9859) cub_117_Clay_colored_Sparrow:(0.9978) cub_118_House_Sparrow:(0.9897) cub_119_Field_Sparrow:(0.9881) cub_120_Fox_Sparrow:(0.9827) cub_121_Grasshopper_Sparrow:(0.979) cub_122_Harris_Sparrow:(0.9961) cub_123_Henslow_Sparrow:(0.9988) cub_124_Le_Conte_Sparrow:(0.9942) cub_125_Lincoln_Sparrow:(0.9959) cub_126_Nelson_Sharp_tailed_Sparrow:(0.9912) cub_127_Savannah_Sparrow:(0.9979) cub_128_Seaside_Sparrow:(0.9928) cub_129_Song_Sparrow:(0.9925) cub_130_Tree_Sparrow:(0.9778) cub_131_Vesper_Sparrow:(0.9907) cub_132_White_crowned_Sparrow:(0.9677) cub_133_White_throated_Sparrow:(0.9981) cub_136_Barn_Swallow:(0.8206) cub_137_Cliff_Swallow:(0.961) cub_138_Tree_Swallow:(0.936) cub_139_Scarlet_Tanager:(0.9473) cub_140_Summer_Tanager:(0.9122) cub_148_Green_tailed_Towhee:(0.9828) cub_149_Brown_Thrasher:(0.9601) cub_150_Sage_Thrasher:(0.9943) cub_151_Black_capped_Vireo:(0.9895) cub_152_Blue_headed_Vireo:(0.941) cub_153_Philadelphia_Vireo:(0.9303) cub_154_Red_eyed_Vireo:(0.8483) cub_155_Warbling_Vireo:(0.8783) cub_156_White_eyed_Vireo:(0.9459) cub_157_Yellow_throated_Vireo:(0.938) cub_158_Bay_breasted_Warbler:(0.8997) cub_159_Black_and_white_Warbler:(0.9964) cub_160_Black_throated_Blue_Warbler:(0.9911) cub_161_Blue_winged_Warbler:(0.953) cub_162_Canada_Warbler:(0.9977) cub_163_Cape_May_Warbler:(0.9961) cub_164_Cerulean_Warbler:(0.9016) cub_165_Chestnut_sided_Warbler:(0.9794) cub_166_Golden_winged_Warbler:(0.9954) cub_167_Hooded_Warbler:(0.9924) cub_168_Kentucky_Warbler:(0.9956) cub_169_Magnolia_Warbler:(0.9969) cub_170_Mourning_Warbler:(0.9654) cub_172_Nashville_Warbler:(0.8853) cub_173_Orange_crowned_Warbler:(0.9754) cub_174_Palm_Warbler:(0.9959) cub_175_Pine_Warbler:(0.9248) cub_176_Prairie_Warbler:(0.9941) cub_177_Prothonotary_Warbler:(0.9528) cub_178_Swainson_Warbler:(0.9148) cub_179_Tennessee_Warbler:(0.97) cub_180_Wilson_Warbler:(0.9831) cub_181_Worm_eating_Warbler:(0.9948) cub_182_Yellow_Warbler:(0.92) cub_183_Northern_Waterthrush:(0.9782) cub_184_Louisiana_Waterthrush:(0.9947) cub_185_Bohemian_Waxwing:(0.9025) cub_186_Cedar_Waxwing:(0.8768) cub_193_Bewick_Wren:(0.9681) cub_194_Cactus_Wren:(0.9877) cub_195_Carolina_Wren:(0.9418) cub_196_House_Wren:(0.8895) cub_197_Marsh_Wren:(0.9552) cub_198_Rock_Wren:(0.9329) cub_199_Winter_Wren:(0.9476) cub_200_Common_Yellowthroat:(0.9797) \n",
      "\t\tProto:4 cub_009_Brewer_Blackbird:(0.9987) cub_010_Red_winged_Blackbird:(0.9987) cub_011_Rusty_Blackbird:(0.9948) cub_012_Yellow_headed_Blackbird:(0.999) cub_013_Bobolink:(0.9984) cub_014_Indigo_Bunting:(0.9984) cub_015_Lazuli_Bunting:(0.9977) cub_016_Painted_Bunting:(0.9984) cub_017_Cardinal:(0.9984) cub_018_Spotted_Catbird:(0.9925) cub_019_Gray_Catbird:(0.9905) cub_020_Yellow_breasted_Chat:(0.9953) cub_021_Eastern_Towhee:(0.9973) cub_026_Bronzed_Cowbird:(0.9997) cub_027_Shiny_Cowbird:(0.9996) cub_028_Brown_Creeper:(0.9573) cub_029_American_Crow:(0.9991) cub_030_Fish_Crow:(0.9976) cub_034_Gray_crowned_Rosy_Finch:(0.9932) cub_035_Purple_Finch:(0.9857) cub_047_American_Goldfinch:(0.9972) cub_048_European_Goldfinch:(0.9996) cub_049_Boat_tailed_Grackle:(0.9948) cub_054_Blue_Grosbeak:(0.9997) cub_055_Evening_Grosbeak:(0.9996) cub_056_Pine_Grosbeak:(0.9537) cub_057_Rose_breasted_Grosbeak:(0.9993) cub_073_Blue_Jay:(0.989) cub_074_Florida_Jay:(0.9975) cub_076_Dark_eyed_Junco:(0.9913) cub_085_Horned_Lark:(0.9975) cub_088_Western_Meadowlark:(0.9982) cub_091_Mockingbird:(0.956) cub_093_Clark_Nutcracker:(0.9458) cub_094_White_breasted_Nuthatch:(0.9794) cub_095_Baltimore_Oriole:(0.9975) cub_096_Hooded_Oriole:(0.9985) cub_097_Orchard_Oriole:(0.998) cub_098_Scott_Oriole:(0.999) cub_099_Ovenbird:(0.9822) cub_104_American_Pipit:(0.9956) cub_107_Common_Raven:(0.995) cub_108_White_necked_Raven:(0.9951) cub_109_American_Redstart:(0.9993) cub_111_Loggerhead_Shrike:(0.9498) cub_112_Great_Grey_Shrike:(0.9064) cub_113_Baird_Sparrow:(0.9993) cub_114_Black_throated_Sparrow:(0.9975) cub_115_Brewer_Sparrow:(0.9922) cub_116_Chipping_Sparrow:(0.9984) cub_117_Clay_colored_Sparrow:(0.9977) cub_118_House_Sparrow:(0.9942) cub_119_Field_Sparrow:(0.9845) cub_120_Fox_Sparrow:(0.9934) cub_121_Grasshopper_Sparrow:(0.9952) cub_122_Harris_Sparrow:(0.9995) cub_123_Henslow_Sparrow:(0.9986) cub_124_Le_Conte_Sparrow:(0.9996) cub_125_Lincoln_Sparrow:(0.9953) cub_126_Nelson_Sharp_tailed_Sparrow:(0.995) cub_127_Savannah_Sparrow:(0.999) cub_128_Seaside_Sparrow:(0.9975) cub_129_Song_Sparrow:(0.9947) cub_130_Tree_Sparrow:(0.9903) cub_131_Vesper_Sparrow:(0.99) cub_132_White_crowned_Sparrow:(0.9939) cub_133_White_throated_Sparrow:(0.9987) cub_136_Barn_Swallow:(0.9958) cub_137_Cliff_Swallow:(0.9966) cub_138_Tree_Swallow:(0.9932) cub_139_Scarlet_Tanager:(0.985) cub_140_Summer_Tanager:(0.9565) cub_148_Green_tailed_Towhee:(0.9957) cub_149_Brown_Thrasher:(0.9818) cub_150_Sage_Thrasher:(0.9971) cub_151_Black_capped_Vireo:(0.9963) cub_152_Blue_headed_Vireo:(0.9542) cub_153_Philadelphia_Vireo:(0.9929) cub_154_Red_eyed_Vireo:(0.9872) cub_155_Warbling_Vireo:(0.9625) cub_156_White_eyed_Vireo:(0.9944) cub_157_Yellow_throated_Vireo:(0.9831) cub_158_Bay_breasted_Warbler:(0.9358) cub_159_Black_and_white_Warbler:(0.9977) cub_160_Black_throated_Blue_Warbler:(0.9994) cub_161_Blue_winged_Warbler:(0.9421) cub_162_Canada_Warbler:(0.9986) cub_163_Cape_May_Warbler:(0.9979) cub_164_Cerulean_Warbler:(0.973) cub_165_Chestnut_sided_Warbler:(0.9939) cub_166_Golden_winged_Warbler:(0.9968) cub_167_Hooded_Warbler:(0.9963) cub_168_Kentucky_Warbler:(0.9985) cub_169_Magnolia_Warbler:(0.9971) cub_170_Mourning_Warbler:(0.9913) cub_172_Nashville_Warbler:(0.9688) cub_173_Orange_crowned_Warbler:(0.9848) cub_174_Palm_Warbler:(0.9996) cub_175_Pine_Warbler:(0.9821) cub_176_Prairie_Warbler:(0.9933) cub_177_Prothonotary_Warbler:(0.9928) cub_178_Swainson_Warbler:(0.9925) cub_179_Tennessee_Warbler:(0.9966) cub_180_Wilson_Warbler:(0.9994) cub_181_Worm_eating_Warbler:(0.9985) cub_182_Yellow_Warbler:(0.9891) cub_183_Northern_Waterthrush:(0.9982) cub_184_Louisiana_Waterthrush:(0.999) cub_185_Bohemian_Waxwing:(0.99) cub_186_Cedar_Waxwing:(0.9774) cub_193_Bewick_Wren:(0.9914) cub_194_Cactus_Wren:(0.9937) cub_195_Carolina_Wren:(0.9908) cub_196_House_Wren:(0.9246) cub_197_Marsh_Wren:(0.981) cub_198_Rock_Wren:(0.9532) cub_199_Winter_Wren:(0.9873) cub_200_Common_Yellowthroat:(0.9668) \n",
      "\t\tProto:6 cub_009_Brewer_Blackbird:(0.9977) cub_010_Red_winged_Blackbird:(0.9989) cub_011_Rusty_Blackbird:(0.9963) cub_012_Yellow_headed_Blackbird:(0.9933) cub_013_Bobolink:(0.9986) cub_014_Indigo_Bunting:(0.9984) cub_015_Lazuli_Bunting:(0.9947) cub_016_Painted_Bunting:(0.9955) cub_017_Cardinal:(0.9664) cub_018_Spotted_Catbird:(0.998) cub_019_Gray_Catbird:(0.9726) cub_020_Yellow_breasted_Chat:(0.9769) cub_021_Eastern_Towhee:(0.9977) cub_026_Bronzed_Cowbird:(0.9929) cub_027_Shiny_Cowbird:(0.999) cub_028_Brown_Creeper:(0.9941) cub_029_American_Crow:(0.9975) cub_030_Fish_Crow:(0.9978) cub_034_Gray_crowned_Rosy_Finch:(0.9985) cub_035_Purple_Finch:(0.9555) cub_047_American_Goldfinch:(0.9976) cub_048_European_Goldfinch:(0.9995) cub_049_Boat_tailed_Grackle:(0.9942) cub_054_Blue_Grosbeak:(0.9992) cub_055_Evening_Grosbeak:(0.9995) cub_056_Pine_Grosbeak:(0.9432) cub_057_Rose_breasted_Grosbeak:(0.9994) cub_073_Blue_Jay:(0.9994) cub_074_Florida_Jay:(0.9653) cub_076_Dark_eyed_Junco:(0.9972) cub_085_Horned_Lark:(0.9997) cub_088_Western_Meadowlark:(0.9964) cub_091_Mockingbird:(0.9114) cub_093_Clark_Nutcracker:(0.9456) cub_094_White_breasted_Nuthatch:(0.9954) cub_095_Baltimore_Oriole:(0.9891) cub_096_Hooded_Oriole:(0.9997) cub_097_Orchard_Oriole:(0.9993) cub_098_Scott_Oriole:(0.9967) cub_099_Ovenbird:(0.972) cub_104_American_Pipit:(0.9913) cub_107_Common_Raven:(0.9974) cub_108_White_necked_Raven:(0.9929) cub_109_American_Redstart:(0.9992) cub_111_Loggerhead_Shrike:(0.9368) cub_112_Great_Grey_Shrike:(0.9621) cub_113_Baird_Sparrow:(0.9866) cub_114_Black_throated_Sparrow:(0.9991) cub_115_Brewer_Sparrow:(0.9888) cub_116_Chipping_Sparrow:(0.996) cub_117_Clay_colored_Sparrow:(0.9968) cub_118_House_Sparrow:(0.993) cub_119_Field_Sparrow:(0.9963) cub_120_Fox_Sparrow:(0.9866) cub_121_Grasshopper_Sparrow:(0.99) cub_122_Harris_Sparrow:(0.9988) cub_123_Henslow_Sparrow:(0.9858) cub_124_Le_Conte_Sparrow:(0.9978) cub_125_Lincoln_Sparrow:(0.9972) cub_126_Nelson_Sharp_tailed_Sparrow:(0.9874) cub_127_Savannah_Sparrow:(0.9985) cub_128_Seaside_Sparrow:(0.9707) cub_129_Song_Sparrow:(0.9988) cub_130_Tree_Sparrow:(0.9985) cub_131_Vesper_Sparrow:(0.9904) cub_132_White_crowned_Sparrow:(0.9991) cub_133_White_throated_Sparrow:(0.9993) cub_136_Barn_Swallow:(0.9989) cub_137_Cliff_Swallow:(0.9955) cub_138_Tree_Swallow:(0.9961) cub_139_Scarlet_Tanager:(0.9301) cub_140_Summer_Tanager:(0.9615) cub_148_Green_tailed_Towhee:(0.972) cub_149_Brown_Thrasher:(0.9527) cub_150_Sage_Thrasher:(0.9945) cub_151_Black_capped_Vireo:(0.9982) cub_152_Blue_headed_Vireo:(0.9796) cub_153_Philadelphia_Vireo:(0.9861) cub_154_Red_eyed_Vireo:(0.9752) cub_155_Warbling_Vireo:(0.9756) cub_156_White_eyed_Vireo:(0.9295) cub_157_Yellow_throated_Vireo:(0.977) cub_158_Bay_breasted_Warbler:(0.9826) cub_159_Black_and_white_Warbler:(0.9995) cub_160_Black_throated_Blue_Warbler:(0.9997) cub_161_Blue_winged_Warbler:(0.9901) cub_162_Canada_Warbler:(0.9985) cub_163_Cape_May_Warbler:(0.9991) cub_164_Cerulean_Warbler:(0.9937) cub_165_Chestnut_sided_Warbler:(0.9917) cub_166_Golden_winged_Warbler:(0.9977) cub_167_Hooded_Warbler:(0.9999) cub_168_Kentucky_Warbler:(0.9998) cub_169_Magnolia_Warbler:(0.9992) cub_170_Mourning_Warbler:(0.9957) cub_172_Nashville_Warbler:(0.9925) cub_173_Orange_crowned_Warbler:(0.977) cub_174_Palm_Warbler:(0.9994) cub_175_Pine_Warbler:(0.9838) cub_176_Prairie_Warbler:(0.998) cub_177_Prothonotary_Warbler:(0.9917) cub_178_Swainson_Warbler:(0.9955) cub_179_Tennessee_Warbler:(0.9936) cub_180_Wilson_Warbler:(0.9973) cub_181_Worm_eating_Warbler:(0.9996) cub_182_Yellow_Warbler:(0.993) cub_183_Northern_Waterthrush:(0.9995) cub_184_Louisiana_Waterthrush:(0.9982) cub_185_Bohemian_Waxwing:(0.9848) cub_186_Cedar_Waxwing:(0.9936) cub_193_Bewick_Wren:(0.9977) cub_194_Cactus_Wren:(0.9988) cub_195_Carolina_Wren:(0.9976) cub_196_House_Wren:(0.9934) cub_197_Marsh_Wren:(0.9961) cub_198_Rock_Wren:(0.9676) cub_199_Winter_Wren:(0.9979) cub_200_Common_Yellowthroat:(0.9918) \n",
      "\t Child: 043+078\n",
      "\t\tProto:17 cub_037_Acadian_Flycatcher:(0.0904) cub_038_Great_Crested_Flycatcher:(0.09) cub_039_Least_Flycatcher:(0.0793) cub_040_Olive_sided_Flycatcher:(0.0858) cub_041_Scissor_tailed_Flycatcher:(0.0847) cub_042_Vermilion_Flycatcher:(0.107) cub_043_Yellow_bellied_Flycatcher:(0.0868) cub_077_Tropical_Kingbird:(0.0942) cub_078_Gray_Kingbird:(0.0986) cub_102_Western_Wood_Pewee:(0.0858) \n",
      "\t\tProto:11 cub_037_Acadian_Flycatcher:(0.9378) cub_038_Great_Crested_Flycatcher:(0.9141) cub_039_Least_Flycatcher:(0.9574) cub_040_Olive_sided_Flycatcher:(0.9813) cub_041_Scissor_tailed_Flycatcher:(0.9695) cub_042_Vermilion_Flycatcher:(0.2764) cub_043_Yellow_bellied_Flycatcher:(0.9206) cub_077_Tropical_Kingbird:(0.9812) cub_078_Gray_Kingbird:(0.9667) cub_102_Western_Wood_Pewee:(0.939) \n",
      "\t\tProto:14 cub_037_Acadian_Flycatcher:(0.9875) cub_038_Great_Crested_Flycatcher:(0.9899) cub_039_Least_Flycatcher:(0.9923) cub_040_Olive_sided_Flycatcher:(0.9822) cub_041_Scissor_tailed_Flycatcher:(0.4495) cub_042_Vermilion_Flycatcher:(0.9916) cub_043_Yellow_bellied_Flycatcher:(0.9856) cub_077_Tropical_Kingbird:(0.4908) cub_078_Gray_Kingbird:(0.9201) cub_102_Western_Wood_Pewee:(0.9882) \n",
      "\t\tProto:15 cub_037_Acadian_Flycatcher:(0.0994) cub_038_Great_Crested_Flycatcher:(0.1168) cub_039_Least_Flycatcher:(0.1201) cub_040_Olive_sided_Flycatcher:(0.1042) cub_041_Scissor_tailed_Flycatcher:(0.6412) cub_042_Vermilion_Flycatcher:(0.9446) cub_043_Yellow_bellied_Flycatcher:(0.0907) cub_077_Tropical_Kingbird:(0.1199) cub_078_Gray_Kingbird:(0.1145) cub_102_Western_Wood_Pewee:(0.0816) \n"
     ]
    },
    {
     "name": "stderr",
     "output_type": "stream",
     "text": [
      "Collecting topk: 349it [00:31, 11.18it/s]\n"
     ]
    },
    {
     "name": "stdout",
     "output_type": "stream",
     "text": [
      "Node 192+081\n",
      "\t Child: 192+036\n",
      "\t\tProto:1 cub_036_Northern_Flicker:(0.9996) cub_187_American_Three_toed_Woodpecker:(0.9857) cub_188_Pileated_Woodpecker:(0.9989) cub_189_Red_bellied_Woodpecker:(0.9993) cub_190_Red_cockaded_Woodpecker:(0.9993) cub_191_Red_headed_Woodpecker:(0.9987) cub_192_Downy_Woodpecker:(0.9993) \n",
      "\t\tProto:5 cub_036_Northern_Flicker:(0.6302) cub_187_American_Three_toed_Woodpecker:(0.834) cub_188_Pileated_Woodpecker:(0.884) cub_189_Red_bellied_Woodpecker:(0.8316) cub_190_Red_cockaded_Woodpecker:(0.8387) cub_191_Red_headed_Woodpecker:(0.8435) cub_192_Downy_Woodpecker:(0.7487) \n",
      "\t\tProto:6 cub_036_Northern_Flicker:(1.0) cub_187_American_Three_toed_Woodpecker:(0.9997) cub_188_Pileated_Woodpecker:(1.0) cub_189_Red_bellied_Woodpecker:(0.9999) cub_190_Red_cockaded_Woodpecker:(1.0) cub_191_Red_headed_Woodpecker:(0.9998) cub_192_Downy_Woodpecker:(1.0) \n",
      "\t\tProto:7 cub_036_Northern_Flicker:(0.9993) cub_187_American_Three_toed_Woodpecker:(0.972) cub_188_Pileated_Woodpecker:(0.9992) cub_189_Red_bellied_Woodpecker:(0.9999) cub_190_Red_cockaded_Woodpecker:(0.9993) cub_191_Red_headed_Woodpecker:(0.9992) cub_192_Downy_Woodpecker:(0.998) \n",
      "\t\tProto:8 cub_036_Northern_Flicker:(0.9997) cub_187_American_Three_toed_Woodpecker:(0.9999) cub_188_Pileated_Woodpecker:(1.0) cub_189_Red_bellied_Woodpecker:(1.0) cub_190_Red_cockaded_Woodpecker:(1.0) cub_191_Red_headed_Woodpecker:(0.9998) cub_192_Downy_Woodpecker:(1.0) \n",
      "\t\tProto:9 cub_036_Northern_Flicker:(0.9997) cub_187_American_Three_toed_Woodpecker:(0.9952) cub_188_Pileated_Woodpecker:(0.9822) cub_189_Red_bellied_Woodpecker:(0.9995) cub_190_Red_cockaded_Woodpecker:(0.9997) cub_191_Red_headed_Woodpecker:(0.9993) cub_192_Downy_Woodpecker:(0.9964) \n",
      "\t Child: 081+083\n",
      "\t\tProto:10 cub_079_Belted_Kingfisher:(0.9982) cub_080_Green_Kingfisher:(1.0) cub_081_Pied_Kingfisher:(0.9995) cub_082_Ringed_Kingfisher:(0.9995) cub_083_White_breasted_Kingfisher:(0.9992) \n",
      "\t\tProto:11 cub_079_Belted_Kingfisher:(0.9994) cub_080_Green_Kingfisher:(0.9996) cub_081_Pied_Kingfisher:(0.9998) cub_082_Ringed_Kingfisher:(0.9992) cub_083_White_breasted_Kingfisher:(1.0) \n",
      "\t\tProto:12 cub_079_Belted_Kingfisher:(0.9995) cub_080_Green_Kingfisher:(0.9998) cub_081_Pied_Kingfisher:(0.9998) cub_082_Ringed_Kingfisher:(1.0) cub_083_White_breasted_Kingfisher:(0.9999) \n",
      "\t\tProto:15 cub_079_Belted_Kingfisher:(1.0) cub_080_Green_Kingfisher:(0.9997) cub_081_Pied_Kingfisher:(0.9969) cub_082_Ringed_Kingfisher:(1.0) cub_083_White_breasted_Kingfisher:(0.9997) \n",
      "\t\tProto:18 cub_079_Belted_Kingfisher:(1.0) cub_080_Green_Kingfisher:(0.9997) cub_081_Pied_Kingfisher:(0.9997) cub_082_Ringed_Kingfisher:(0.9998) cub_083_White_breasted_Kingfisher:(0.9996) \n",
      "\t\tProto:19 cub_079_Belted_Kingfisher:(0.9754) cub_080_Green_Kingfisher:(0.9641) cub_081_Pied_Kingfisher:(0.978) cub_082_Ringed_Kingfisher:(0.9964) cub_083_White_breasted_Kingfisher:(0.9689) \n",
      "Skipping node 065+144\n",
      "Skipping node 006+071\n",
      "Skipping node 024+086\n",
      "Skipping node 031+004\n",
      "Skipping node 051+053\n",
      "Skipping node 067+069\n"
     ]
    },
    {
     "name": "stderr",
     "output_type": "stream",
     "text": [
      "Collecting topk: 3471it [02:53, 19.96it/s] \n"
     ]
    },
    {
     "name": "stdout",
     "output_type": "stream",
     "text": [
      "Node 129+018\n",
      "\t Child: 129+107\n",
      "\t\tProto:0 cub_009_Brewer_Blackbird:(0.9985) cub_010_Red_winged_Blackbird:(0.9976) cub_011_Rusty_Blackbird:(0.9995) cub_012_Yellow_headed_Blackbird:(0.9993) cub_013_Bobolink:(0.9985) cub_014_Indigo_Bunting:(0.9995) cub_015_Lazuli_Bunting:(0.9997) cub_016_Painted_Bunting:(0.9994) cub_017_Cardinal:(0.9956) cub_019_Gray_Catbird:(0.9994) cub_020_Yellow_breasted_Chat:(0.985) cub_021_Eastern_Towhee:(0.995) cub_026_Bronzed_Cowbird:(0.9963) cub_027_Shiny_Cowbird:(0.9991) cub_028_Brown_Creeper:(0.9781) cub_029_American_Crow:(0.996) cub_030_Fish_Crow:(0.9985) cub_034_Gray_crowned_Rosy_Finch:(0.9996) cub_035_Purple_Finch:(0.9995) cub_047_American_Goldfinch:(0.9994) cub_048_European_Goldfinch:(0.9974) cub_049_Boat_tailed_Grackle:(0.9993) cub_054_Blue_Grosbeak:(0.9995) cub_055_Evening_Grosbeak:(0.9942) cub_056_Pine_Grosbeak:(0.998) cub_057_Rose_breasted_Grosbeak:(0.9995) cub_073_Blue_Jay:(0.9848) cub_074_Florida_Jay:(0.9987) cub_076_Dark_eyed_Junco:(0.9992) cub_085_Horned_Lark:(0.9973) cub_088_Western_Meadowlark:(0.9971) cub_091_Mockingbird:(0.9989) cub_093_Clark_Nutcracker:(0.9948) cub_094_White_breasted_Nuthatch:(0.9967) cub_095_Baltimore_Oriole:(0.999) cub_096_Hooded_Oriole:(0.9996) cub_097_Orchard_Oriole:(0.9997) cub_098_Scott_Oriole:(0.9982) cub_099_Ovenbird:(0.9984) cub_104_American_Pipit:(0.9965) cub_107_Common_Raven:(0.9946) cub_108_White_necked_Raven:(0.9869) cub_109_American_Redstart:(0.9993) cub_111_Loggerhead_Shrike:(0.9982) cub_112_Great_Grey_Shrike:(0.9944) cub_113_Baird_Sparrow:(0.9519) cub_114_Black_throated_Sparrow:(0.9992) cub_115_Brewer_Sparrow:(0.9985) cub_116_Chipping_Sparrow:(0.9998) cub_117_Clay_colored_Sparrow:(0.9895) cub_118_House_Sparrow:(0.9974) cub_119_Field_Sparrow:(0.9938) cub_120_Fox_Sparrow:(0.9874) cub_121_Grasshopper_Sparrow:(0.9943) cub_122_Harris_Sparrow:(0.9927) cub_123_Henslow_Sparrow:(0.9652) cub_124_Le_Conte_Sparrow:(0.9924) cub_125_Lincoln_Sparrow:(0.9955) cub_126_Nelson_Sharp_tailed_Sparrow:(0.9974) cub_127_Savannah_Sparrow:(0.9962) cub_128_Seaside_Sparrow:(0.9992) cub_129_Song_Sparrow:(0.9937) cub_130_Tree_Sparrow:(0.9982) cub_131_Vesper_Sparrow:(0.9858) cub_132_White_crowned_Sparrow:(0.998) cub_133_White_throated_Sparrow:(0.9957) cub_136_Barn_Swallow:(0.9992) cub_137_Cliff_Swallow:(0.9996) cub_138_Tree_Swallow:(0.996) cub_139_Scarlet_Tanager:(0.9992) cub_140_Summer_Tanager:(0.999) cub_148_Green_tailed_Towhee:(0.9965) cub_149_Brown_Thrasher:(0.997) cub_150_Sage_Thrasher:(0.9978) cub_151_Black_capped_Vireo:(0.9935) cub_152_Blue_headed_Vireo:(0.9964) cub_153_Philadelphia_Vireo:(0.9994) cub_154_Red_eyed_Vireo:(0.9989) cub_155_Warbling_Vireo:(0.9996) cub_156_White_eyed_Vireo:(0.9971) cub_157_Yellow_throated_Vireo:(0.9989) cub_158_Bay_breasted_Warbler:(0.9996) cub_159_Black_and_white_Warbler:(0.9968) cub_160_Black_throated_Blue_Warbler:(0.9991) cub_161_Blue_winged_Warbler:(0.9993) cub_162_Canada_Warbler:(0.9833) cub_163_Cape_May_Warbler:(0.9986) cub_164_Cerulean_Warbler:(0.9995) cub_165_Chestnut_sided_Warbler:(0.9965) cub_166_Golden_winged_Warbler:(0.9997) cub_167_Hooded_Warbler:(0.9964) cub_168_Kentucky_Warbler:(0.9938) cub_169_Magnolia_Warbler:(0.9962) cub_170_Mourning_Warbler:(0.9998) cub_172_Nashville_Warbler:(0.9976) cub_173_Orange_crowned_Warbler:(0.9995) cub_174_Palm_Warbler:(0.9997) cub_175_Pine_Warbler:(0.9997) cub_176_Prairie_Warbler:(0.9995) cub_177_Prothonotary_Warbler:(0.9998) cub_178_Swainson_Warbler:(0.9974) cub_179_Tennessee_Warbler:(0.9998) cub_180_Wilson_Warbler:(0.9992) cub_181_Worm_eating_Warbler:(0.9994) cub_182_Yellow_Warbler:(0.9994) cub_183_Northern_Waterthrush:(0.9996) cub_184_Louisiana_Waterthrush:(0.9997) cub_185_Bohemian_Waxwing:(0.9979) cub_186_Cedar_Waxwing:(0.9917) cub_193_Bewick_Wren:(0.9998) cub_194_Cactus_Wren:(0.9988) cub_195_Carolina_Wren:(0.9995) cub_196_House_Wren:(0.9989) cub_197_Marsh_Wren:(0.9998) cub_198_Rock_Wren:(0.9999) cub_199_Winter_Wren:(0.9996) cub_200_Common_Yellowthroat:(0.9979) \n",
      "\t\tProto:1 cub_009_Brewer_Blackbird:(0.999) cub_010_Red_winged_Blackbird:(0.9974) cub_011_Rusty_Blackbird:(0.9979) cub_012_Yellow_headed_Blackbird:(0.9991) cub_013_Bobolink:(0.9961) cub_014_Indigo_Bunting:(0.995) cub_015_Lazuli_Bunting:(0.9986) cub_016_Painted_Bunting:(0.9935) cub_017_Cardinal:(0.9799) cub_019_Gray_Catbird:(0.9986) cub_020_Yellow_breasted_Chat:(0.9998) cub_021_Eastern_Towhee:(0.9961) cub_026_Bronzed_Cowbird:(0.988) cub_027_Shiny_Cowbird:(0.9981) cub_028_Brown_Creeper:(0.9983) cub_029_American_Crow:(0.9884) cub_030_Fish_Crow:(0.9972) cub_034_Gray_crowned_Rosy_Finch:(0.9923) cub_035_Purple_Finch:(0.9934) cub_047_American_Goldfinch:(0.9943) cub_048_European_Goldfinch:(0.9853) cub_049_Boat_tailed_Grackle:(0.9989) cub_054_Blue_Grosbeak:(0.9954) cub_055_Evening_Grosbeak:(0.9935) cub_056_Pine_Grosbeak:(0.9994) cub_057_Rose_breasted_Grosbeak:(0.9859) cub_073_Blue_Jay:(0.9978) cub_074_Florida_Jay:(0.9995) cub_076_Dark_eyed_Junco:(0.9965) cub_085_Horned_Lark:(0.9971) cub_088_Western_Meadowlark:(0.995) cub_091_Mockingbird:(0.9994) cub_093_Clark_Nutcracker:(0.9992) cub_094_White_breasted_Nuthatch:(0.9972) cub_095_Baltimore_Oriole:(0.9983) cub_096_Hooded_Oriole:(0.9992) cub_097_Orchard_Oriole:(0.9963) cub_098_Scott_Oriole:(0.9959) cub_099_Ovenbird:(0.9849) cub_104_American_Pipit:(0.9969) cub_107_Common_Raven:(0.9882) cub_108_White_necked_Raven:(0.9694) cub_109_American_Redstart:(0.9979) cub_111_Loggerhead_Shrike:(0.9996) cub_112_Great_Grey_Shrike:(0.999) cub_113_Baird_Sparrow:(0.9308) cub_114_Black_throated_Sparrow:(0.9939) cub_115_Brewer_Sparrow:(0.9941) cub_116_Chipping_Sparrow:(0.999) cub_117_Clay_colored_Sparrow:(0.986) cub_118_House_Sparrow:(0.9952) cub_119_Field_Sparrow:(0.9943) cub_120_Fox_Sparrow:(0.9895) cub_121_Grasshopper_Sparrow:(0.9958) cub_122_Harris_Sparrow:(0.9967) cub_123_Henslow_Sparrow:(0.9872) cub_124_Le_Conte_Sparrow:(0.9911) cub_125_Lincoln_Sparrow:(0.9866) cub_126_Nelson_Sharp_tailed_Sparrow:(0.9949) cub_127_Savannah_Sparrow:(0.9835) cub_128_Seaside_Sparrow:(0.984) cub_129_Song_Sparrow:(0.9876) cub_130_Tree_Sparrow:(0.997) cub_131_Vesper_Sparrow:(0.9737) cub_132_White_crowned_Sparrow:(0.9987) cub_133_White_throated_Sparrow:(0.9943) cub_136_Barn_Swallow:(0.999) cub_137_Cliff_Swallow:(0.9966) cub_138_Tree_Swallow:(0.9997) cub_139_Scarlet_Tanager:(0.9978) cub_140_Summer_Tanager:(0.9966) cub_148_Green_tailed_Towhee:(0.9977) cub_149_Brown_Thrasher:(0.9915) cub_150_Sage_Thrasher:(0.9963) cub_151_Black_capped_Vireo:(0.9927) cub_152_Blue_headed_Vireo:(0.9989) cub_153_Philadelphia_Vireo:(0.999) cub_154_Red_eyed_Vireo:(0.9987) cub_155_Warbling_Vireo:(0.9979) cub_156_White_eyed_Vireo:(0.9996) cub_157_Yellow_throated_Vireo:(0.9998) cub_158_Bay_breasted_Warbler:(0.9997) cub_159_Black_and_white_Warbler:(0.9972) cub_160_Black_throated_Blue_Warbler:(0.9981) cub_161_Blue_winged_Warbler:(0.9998) cub_162_Canada_Warbler:(0.9956) cub_163_Cape_May_Warbler:(0.9981) cub_164_Cerulean_Warbler:(0.9987) cub_165_Chestnut_sided_Warbler:(0.9992) cub_166_Golden_winged_Warbler:(0.9989) cub_167_Hooded_Warbler:(0.999) cub_168_Kentucky_Warbler:(0.9994) cub_169_Magnolia_Warbler:(0.9989) cub_170_Mourning_Warbler:(0.9961) cub_172_Nashville_Warbler:(0.9958) cub_173_Orange_crowned_Warbler:(0.9993) cub_174_Palm_Warbler:(0.9992) cub_175_Pine_Warbler:(0.9996) cub_176_Prairie_Warbler:(0.9996) cub_177_Prothonotary_Warbler:(0.9987) cub_178_Swainson_Warbler:(0.9995) cub_179_Tennessee_Warbler:(0.998) cub_180_Wilson_Warbler:(0.9958) cub_181_Worm_eating_Warbler:(0.9958) cub_182_Yellow_Warbler:(0.9988) cub_183_Northern_Waterthrush:(0.998) cub_184_Louisiana_Waterthrush:(0.9986) cub_185_Bohemian_Waxwing:(0.9947) cub_186_Cedar_Waxwing:(0.9996) cub_193_Bewick_Wren:(0.9993) cub_194_Cactus_Wren:(0.9889) cub_195_Carolina_Wren:(0.9976) cub_196_House_Wren:(0.9973) cub_197_Marsh_Wren:(0.9972) cub_198_Rock_Wren:(0.9983) cub_199_Winter_Wren:(0.9959) cub_200_Common_Yellowthroat:(0.9986) \n",
      "\t\tProto:2 cub_009_Brewer_Blackbird:(0.9987) cub_010_Red_winged_Blackbird:(0.9972) cub_011_Rusty_Blackbird:(0.9917) cub_012_Yellow_headed_Blackbird:(0.9884) cub_013_Bobolink:(0.9859) cub_014_Indigo_Bunting:(0.9937) cub_015_Lazuli_Bunting:(0.9994) cub_016_Painted_Bunting:(0.9974) cub_017_Cardinal:(0.9972) cub_019_Gray_Catbird:(0.9949) cub_020_Yellow_breasted_Chat:(0.9896) cub_021_Eastern_Towhee:(0.9991) cub_026_Bronzed_Cowbird:(0.9872) cub_027_Shiny_Cowbird:(0.996) cub_028_Brown_Creeper:(0.8137) cub_029_American_Crow:(0.9948) cub_030_Fish_Crow:(0.991) cub_034_Gray_crowned_Rosy_Finch:(0.9978) cub_035_Purple_Finch:(0.9992) cub_047_American_Goldfinch:(0.9912) cub_048_European_Goldfinch:(0.9989) cub_049_Boat_tailed_Grackle:(0.9938) cub_054_Blue_Grosbeak:(0.9987) cub_055_Evening_Grosbeak:(0.9948) cub_056_Pine_Grosbeak:(0.9993) cub_057_Rose_breasted_Grosbeak:(0.9989) cub_073_Blue_Jay:(0.9979) cub_074_Florida_Jay:(0.9952) cub_076_Dark_eyed_Junco:(0.9998) cub_085_Horned_Lark:(0.9993) cub_088_Western_Meadowlark:(0.986) cub_091_Mockingbird:(0.9969) cub_093_Clark_Nutcracker:(0.9996) cub_094_White_breasted_Nuthatch:(0.9955) cub_095_Baltimore_Oriole:(0.9971) cub_096_Hooded_Oriole:(0.9604) cub_097_Orchard_Oriole:(0.9978) cub_098_Scott_Oriole:(0.9808) cub_099_Ovenbird:(0.9932) cub_104_American_Pipit:(0.998) cub_107_Common_Raven:(0.9888) cub_108_White_necked_Raven:(0.9961) cub_109_American_Redstart:(0.9995) cub_111_Loggerhead_Shrike:(0.9996) cub_112_Great_Grey_Shrike:(0.9986) cub_113_Baird_Sparrow:(0.9797) cub_114_Black_throated_Sparrow:(0.9939) cub_115_Brewer_Sparrow:(0.9964) cub_116_Chipping_Sparrow:(0.9989) cub_117_Clay_colored_Sparrow:(0.9994) cub_118_House_Sparrow:(0.9983) cub_119_Field_Sparrow:(0.9969) cub_120_Fox_Sparrow:(0.9816) cub_121_Grasshopper_Sparrow:(0.9939) cub_122_Harris_Sparrow:(0.9987) cub_123_Henslow_Sparrow:(0.957) cub_124_Le_Conte_Sparrow:(0.9659) cub_125_Lincoln_Sparrow:(0.9939) cub_126_Nelson_Sharp_tailed_Sparrow:(0.9597) cub_127_Savannah_Sparrow:(0.9928) cub_128_Seaside_Sparrow:(0.9924) cub_129_Song_Sparrow:(0.9985) cub_130_Tree_Sparrow:(0.9989) cub_131_Vesper_Sparrow:(0.9962) cub_132_White_crowned_Sparrow:(0.9987) cub_133_White_throated_Sparrow:(0.9995) cub_136_Barn_Swallow:(0.9999) cub_137_Cliff_Swallow:(0.995) cub_138_Tree_Swallow:(0.9997) cub_139_Scarlet_Tanager:(0.9957) cub_140_Summer_Tanager:(0.9969) cub_148_Green_tailed_Towhee:(0.9969) cub_149_Brown_Thrasher:(0.9859) cub_150_Sage_Thrasher:(0.9972) cub_151_Black_capped_Vireo:(0.9383) cub_152_Blue_headed_Vireo:(0.9942) cub_153_Philadelphia_Vireo:(0.9941) cub_154_Red_eyed_Vireo:(0.9869) cub_155_Warbling_Vireo:(0.9971) cub_156_White_eyed_Vireo:(0.9958) cub_157_Yellow_throated_Vireo:(0.9951) cub_158_Bay_breasted_Warbler:(0.9973) cub_159_Black_and_white_Warbler:(0.9898) cub_160_Black_throated_Blue_Warbler:(0.9973) cub_161_Blue_winged_Warbler:(0.9899) cub_162_Canada_Warbler:(0.9607) cub_163_Cape_May_Warbler:(0.9284) cub_164_Cerulean_Warbler:(0.9924) cub_165_Chestnut_sided_Warbler:(0.9986) cub_166_Golden_winged_Warbler:(0.9959) cub_167_Hooded_Warbler:(0.9942) cub_168_Kentucky_Warbler:(0.9656) cub_169_Magnolia_Warbler:(0.9972) cub_170_Mourning_Warbler:(0.9834) cub_172_Nashville_Warbler:(0.9914) cub_173_Orange_crowned_Warbler:(0.9799) cub_174_Palm_Warbler:(0.9917) cub_175_Pine_Warbler:(0.9979) cub_176_Prairie_Warbler:(0.994) cub_177_Prothonotary_Warbler:(0.9853) cub_178_Swainson_Warbler:(0.9894) cub_179_Tennessee_Warbler:(0.996) cub_180_Wilson_Warbler:(0.9928) cub_181_Worm_eating_Warbler:(0.9889) cub_182_Yellow_Warbler:(0.9799) cub_183_Northern_Waterthrush:(0.9653) cub_184_Louisiana_Waterthrush:(0.9794) cub_185_Bohemian_Waxwing:(0.9997) cub_186_Cedar_Waxwing:(0.9935) cub_193_Bewick_Wren:(0.9982) cub_194_Cactus_Wren:(0.9545) cub_195_Carolina_Wren:(0.9995) cub_196_House_Wren:(0.9973) cub_197_Marsh_Wren:(0.9991) cub_198_Rock_Wren:(0.9989) cub_199_Winter_Wren:(0.9884) cub_200_Common_Yellowthroat:(0.9871) \n",
      "\t\tProto:4 cub_009_Brewer_Blackbird:(0.9963) cub_010_Red_winged_Blackbird:(0.9979) cub_011_Rusty_Blackbird:(0.9992) cub_012_Yellow_headed_Blackbird:(0.9995) cub_013_Bobolink:(0.9974) cub_014_Indigo_Bunting:(0.9986) cub_015_Lazuli_Bunting:(0.9996) cub_016_Painted_Bunting:(0.9983) cub_017_Cardinal:(0.9957) cub_019_Gray_Catbird:(0.9988) cub_020_Yellow_breasted_Chat:(0.9892) cub_021_Eastern_Towhee:(0.9997) cub_026_Bronzed_Cowbird:(0.9936) cub_027_Shiny_Cowbird:(0.9988) cub_028_Brown_Creeper:(0.9853) cub_029_American_Crow:(0.998) cub_030_Fish_Crow:(0.9965) cub_034_Gray_crowned_Rosy_Finch:(0.9984) cub_035_Purple_Finch:(0.9976) cub_047_American_Goldfinch:(0.9976) cub_048_European_Goldfinch:(0.9984) cub_049_Boat_tailed_Grackle:(0.9982) cub_054_Blue_Grosbeak:(0.9975) cub_055_Evening_Grosbeak:(0.9979) cub_056_Pine_Grosbeak:(0.9975) cub_057_Rose_breasted_Grosbeak:(0.9923) cub_073_Blue_Jay:(0.9983) cub_074_Florida_Jay:(0.9998) cub_076_Dark_eyed_Junco:(0.9982) cub_085_Horned_Lark:(0.9934) cub_088_Western_Meadowlark:(0.9966) cub_091_Mockingbird:(0.9985) cub_093_Clark_Nutcracker:(0.9983) cub_094_White_breasted_Nuthatch:(0.9979) cub_095_Baltimore_Oriole:(0.9959) cub_096_Hooded_Oriole:(0.9989) cub_097_Orchard_Oriole:(0.9981) cub_098_Scott_Oriole:(0.998) cub_099_Ovenbird:(0.9966) cub_104_American_Pipit:(0.9945) cub_107_Common_Raven:(0.9936) cub_108_White_necked_Raven:(0.9858) cub_109_American_Redstart:(0.9971) cub_111_Loggerhead_Shrike:(0.9985) cub_112_Great_Grey_Shrike:(0.9934) cub_113_Baird_Sparrow:(0.9888) cub_114_Black_throated_Sparrow:(0.9992) cub_115_Brewer_Sparrow:(0.9969) cub_116_Chipping_Sparrow:(0.9994) cub_117_Clay_colored_Sparrow:(0.9755) cub_118_House_Sparrow:(0.9968) cub_119_Field_Sparrow:(0.9979) cub_120_Fox_Sparrow:(0.9966) cub_121_Grasshopper_Sparrow:(0.995) cub_122_Harris_Sparrow:(0.9977) cub_123_Henslow_Sparrow:(0.9859) cub_124_Le_Conte_Sparrow:(0.9984) cub_125_Lincoln_Sparrow:(0.9965) cub_126_Nelson_Sharp_tailed_Sparrow:(0.998) cub_127_Savannah_Sparrow:(0.9957) cub_128_Seaside_Sparrow:(0.9932) cub_129_Song_Sparrow:(0.9928) cub_130_Tree_Sparrow:(0.9994) cub_131_Vesper_Sparrow:(0.9887) cub_132_White_crowned_Sparrow:(0.9998) cub_133_White_throated_Sparrow:(0.9954) cub_136_Barn_Swallow:(0.9992) cub_137_Cliff_Swallow:(0.9995) cub_138_Tree_Swallow:(0.9983) cub_139_Scarlet_Tanager:(0.9995) cub_140_Summer_Tanager:(0.9987) cub_148_Green_tailed_Towhee:(0.9996) cub_149_Brown_Thrasher:(0.997) cub_150_Sage_Thrasher:(0.9956) cub_151_Black_capped_Vireo:(0.9952) cub_152_Blue_headed_Vireo:(0.9978) cub_153_Philadelphia_Vireo:(0.997) cub_154_Red_eyed_Vireo:(0.9968) cub_155_Warbling_Vireo:(0.9989) cub_156_White_eyed_Vireo:(0.9992) cub_157_Yellow_throated_Vireo:(0.9978) cub_158_Bay_breasted_Warbler:(0.9997) cub_159_Black_and_white_Warbler:(0.9893) cub_160_Black_throated_Blue_Warbler:(0.9996) cub_161_Blue_winged_Warbler:(0.9997) cub_162_Canada_Warbler:(0.9962) cub_163_Cape_May_Warbler:(0.9942) cub_164_Cerulean_Warbler:(0.9999) cub_165_Chestnut_sided_Warbler:(0.9978) cub_166_Golden_winged_Warbler:(0.9986) cub_167_Hooded_Warbler:(0.9988) cub_168_Kentucky_Warbler:(0.996) cub_169_Magnolia_Warbler:(0.9313) cub_170_Mourning_Warbler:(0.9989) cub_172_Nashville_Warbler:(0.9982) cub_173_Orange_crowned_Warbler:(0.9991) cub_174_Palm_Warbler:(0.9978) cub_175_Pine_Warbler:(0.9993) cub_176_Prairie_Warbler:(0.9957) cub_177_Prothonotary_Warbler:(0.9989) cub_178_Swainson_Warbler:(0.999) cub_179_Tennessee_Warbler:(0.9975) cub_180_Wilson_Warbler:(0.9982) cub_181_Worm_eating_Warbler:(0.9986) cub_182_Yellow_Warbler:(0.9995) cub_183_Northern_Waterthrush:(0.9984) cub_184_Louisiana_Waterthrush:(0.9966) cub_185_Bohemian_Waxwing:(0.9981) cub_186_Cedar_Waxwing:(0.9929) cub_193_Bewick_Wren:(0.9978) cub_194_Cactus_Wren:(0.9957) cub_195_Carolina_Wren:(0.9989) cub_196_House_Wren:(0.9979) cub_197_Marsh_Wren:(0.9955) cub_198_Rock_Wren:(0.9986) cub_199_Winter_Wren:(0.9955) cub_200_Common_Yellowthroat:(0.9984) \n",
      "\t\tProto:7 cub_009_Brewer_Blackbird:(0.9994) cub_010_Red_winged_Blackbird:(0.9983) cub_011_Rusty_Blackbird:(0.9985) cub_012_Yellow_headed_Blackbird:(0.9997) cub_013_Bobolink:(0.9976) cub_014_Indigo_Bunting:(0.9987) cub_015_Lazuli_Bunting:(0.9991) cub_016_Painted_Bunting:(0.9977) cub_017_Cardinal:(0.9886) cub_019_Gray_Catbird:(0.999) cub_020_Yellow_breasted_Chat:(0.998) cub_021_Eastern_Towhee:(0.9989) cub_026_Bronzed_Cowbird:(0.9917) cub_027_Shiny_Cowbird:(0.9944) cub_028_Brown_Creeper:(0.9932) cub_029_American_Crow:(0.9959) cub_030_Fish_Crow:(0.9971) cub_034_Gray_crowned_Rosy_Finch:(0.9965) cub_035_Purple_Finch:(0.9954) cub_047_American_Goldfinch:(0.9993) cub_048_European_Goldfinch:(0.9983) cub_049_Boat_tailed_Grackle:(0.9992) cub_054_Blue_Grosbeak:(0.9985) cub_055_Evening_Grosbeak:(0.9768) cub_056_Pine_Grosbeak:(0.9991) cub_057_Rose_breasted_Grosbeak:(0.9988) cub_073_Blue_Jay:(0.9988) cub_074_Florida_Jay:(0.9995) cub_076_Dark_eyed_Junco:(0.9984) cub_085_Horned_Lark:(0.9907) cub_088_Western_Meadowlark:(0.9865) cub_091_Mockingbird:(0.9984) cub_093_Clark_Nutcracker:(0.9966) cub_094_White_breasted_Nuthatch:(0.9991) cub_095_Baltimore_Oriole:(0.9994) cub_096_Hooded_Oriole:(0.9977) cub_097_Orchard_Oriole:(0.9973) cub_098_Scott_Oriole:(0.9975) cub_099_Ovenbird:(0.997) cub_104_American_Pipit:(0.9923) cub_107_Common_Raven:(0.992) cub_108_White_necked_Raven:(0.9891) cub_109_American_Redstart:(0.9994) cub_111_Loggerhead_Shrike:(0.9978) cub_112_Great_Grey_Shrike:(0.9994) cub_113_Baird_Sparrow:(0.9874) cub_114_Black_throated_Sparrow:(0.9987) cub_115_Brewer_Sparrow:(0.9978) cub_116_Chipping_Sparrow:(0.9987) cub_117_Clay_colored_Sparrow:(0.9858) cub_118_House_Sparrow:(0.9983) cub_119_Field_Sparrow:(0.9911) cub_120_Fox_Sparrow:(0.9935) cub_121_Grasshopper_Sparrow:(0.9934) cub_122_Harris_Sparrow:(0.9988) cub_123_Henslow_Sparrow:(0.9912) cub_124_Le_Conte_Sparrow:(0.9963) cub_125_Lincoln_Sparrow:(0.9983) cub_126_Nelson_Sharp_tailed_Sparrow:(0.999) cub_127_Savannah_Sparrow:(0.9923) cub_128_Seaside_Sparrow:(0.9915) cub_129_Song_Sparrow:(0.9903) cub_130_Tree_Sparrow:(0.9972) cub_131_Vesper_Sparrow:(0.9783) cub_132_White_crowned_Sparrow:(0.9986) cub_133_White_throated_Sparrow:(0.9914) cub_136_Barn_Swallow:(0.9996) cub_137_Cliff_Swallow:(0.9986) cub_138_Tree_Swallow:(0.9978) cub_139_Scarlet_Tanager:(0.9974) cub_140_Summer_Tanager:(0.9951) cub_148_Green_tailed_Towhee:(0.9972) cub_149_Brown_Thrasher:(0.9904) cub_150_Sage_Thrasher:(0.9951) cub_151_Black_capped_Vireo:(0.9937) cub_152_Blue_headed_Vireo:(0.9955) cub_153_Philadelphia_Vireo:(0.9989) cub_154_Red_eyed_Vireo:(0.999) cub_155_Warbling_Vireo:(0.9983) cub_156_White_eyed_Vireo:(0.9994) cub_157_Yellow_throated_Vireo:(0.999) cub_158_Bay_breasted_Warbler:(0.9988) cub_159_Black_and_white_Warbler:(0.998) cub_160_Black_throated_Blue_Warbler:(0.9998) cub_161_Blue_winged_Warbler:(0.9979) cub_162_Canada_Warbler:(0.9926) cub_163_Cape_May_Warbler:(0.9982) cub_164_Cerulean_Warbler:(0.9996) cub_165_Chestnut_sided_Warbler:(0.9992) cub_166_Golden_winged_Warbler:(0.9989) cub_167_Hooded_Warbler:(0.9995) cub_168_Kentucky_Warbler:(0.9981) cub_169_Magnolia_Warbler:(0.9967) cub_170_Mourning_Warbler:(0.9996) cub_172_Nashville_Warbler:(0.9955) cub_173_Orange_crowned_Warbler:(0.9987) cub_174_Palm_Warbler:(0.995) cub_175_Pine_Warbler:(0.9978) cub_176_Prairie_Warbler:(0.9989) cub_177_Prothonotary_Warbler:(0.9997) cub_178_Swainson_Warbler:(0.9995) cub_179_Tennessee_Warbler:(0.9964) cub_180_Wilson_Warbler:(0.9993) cub_181_Worm_eating_Warbler:(0.9984) cub_182_Yellow_Warbler:(0.9998) cub_183_Northern_Waterthrush:(0.9979) cub_184_Louisiana_Waterthrush:(0.9982) cub_185_Bohemian_Waxwing:(0.9983) cub_186_Cedar_Waxwing:(0.999) cub_193_Bewick_Wren:(0.9983) cub_194_Cactus_Wren:(0.9981) cub_195_Carolina_Wren:(0.9962) cub_196_House_Wren:(0.9931) cub_197_Marsh_Wren:(0.9984) cub_198_Rock_Wren:(0.9979) cub_199_Winter_Wren:(0.993) cub_200_Common_Yellowthroat:(0.999) \n",
      "\t\tProto:9 cub_009_Brewer_Blackbird:(0.9994) cub_010_Red_winged_Blackbird:(0.9997) cub_011_Rusty_Blackbird:(0.9989) cub_012_Yellow_headed_Blackbird:(0.9996) cub_013_Bobolink:(0.9987) cub_014_Indigo_Bunting:(0.9991) cub_015_Lazuli_Bunting:(0.9998) cub_016_Painted_Bunting:(0.9998) cub_017_Cardinal:(0.9993) cub_019_Gray_Catbird:(0.9986) cub_020_Yellow_breasted_Chat:(0.9913) cub_021_Eastern_Towhee:(0.9994) cub_026_Bronzed_Cowbird:(0.9983) cub_027_Shiny_Cowbird:(0.9992) cub_028_Brown_Creeper:(0.9739) cub_029_American_Crow:(0.9983) cub_030_Fish_Crow:(0.9997) cub_034_Gray_crowned_Rosy_Finch:(0.9999) cub_035_Purple_Finch:(0.9982) cub_047_American_Goldfinch:(0.9996) cub_048_European_Goldfinch:(0.9995) cub_049_Boat_tailed_Grackle:(0.9996) cub_054_Blue_Grosbeak:(0.9989) cub_055_Evening_Grosbeak:(0.9995) cub_056_Pine_Grosbeak:(0.9998) cub_057_Rose_breasted_Grosbeak:(0.9984) cub_073_Blue_Jay:(0.9987) cub_074_Florida_Jay:(1.0) cub_076_Dark_eyed_Junco:(0.9991) cub_085_Horned_Lark:(0.9977) cub_088_Western_Meadowlark:(0.9853) cub_091_Mockingbird:(0.9999) cub_093_Clark_Nutcracker:(0.9988) cub_094_White_breasted_Nuthatch:(0.9952) cub_095_Baltimore_Oriole:(0.9979) cub_096_Hooded_Oriole:(0.9998) cub_097_Orchard_Oriole:(0.9998) cub_098_Scott_Oriole:(0.9997) cub_099_Ovenbird:(0.9978) cub_104_American_Pipit:(0.9968) cub_107_Common_Raven:(0.9994) cub_108_White_necked_Raven:(0.9993) cub_109_American_Redstart:(0.9996) cub_111_Loggerhead_Shrike:(0.9995) cub_112_Great_Grey_Shrike:(0.9992) cub_113_Baird_Sparrow:(0.9946) cub_114_Black_throated_Sparrow:(0.9998) cub_115_Brewer_Sparrow:(0.9965) cub_116_Chipping_Sparrow:(0.9995) cub_117_Clay_colored_Sparrow:(0.9983) cub_118_House_Sparrow:(0.9988) cub_119_Field_Sparrow:(0.9995) cub_120_Fox_Sparrow:(0.9964) cub_121_Grasshopper_Sparrow:(0.9976) cub_122_Harris_Sparrow:(0.9997) cub_123_Henslow_Sparrow:(0.9935) cub_124_Le_Conte_Sparrow:(0.9987) cub_125_Lincoln_Sparrow:(0.9985) cub_126_Nelson_Sharp_tailed_Sparrow:(0.9997) cub_127_Savannah_Sparrow:(0.9961) cub_128_Seaside_Sparrow:(0.9991) cub_129_Song_Sparrow:(0.9971) cub_130_Tree_Sparrow:(0.9997) cub_131_Vesper_Sparrow:(0.9988) cub_132_White_crowned_Sparrow:(0.9994) cub_133_White_throated_Sparrow:(0.9994) cub_136_Barn_Swallow:(0.9993) cub_137_Cliff_Swallow:(0.9998) cub_138_Tree_Swallow:(0.9997) cub_139_Scarlet_Tanager:(0.9989) cub_140_Summer_Tanager:(0.9984) cub_148_Green_tailed_Towhee:(0.9997) cub_149_Brown_Thrasher:(0.9964) cub_150_Sage_Thrasher:(0.9996) cub_151_Black_capped_Vireo:(0.996) cub_152_Blue_headed_Vireo:(0.9933) cub_153_Philadelphia_Vireo:(0.9955) cub_154_Red_eyed_Vireo:(0.9989) cub_155_Warbling_Vireo:(0.996) cub_156_White_eyed_Vireo:(0.9985) cub_157_Yellow_throated_Vireo:(0.9993) cub_158_Bay_breasted_Warbler:(0.9992) cub_159_Black_and_white_Warbler:(0.9947) cub_160_Black_throated_Blue_Warbler:(0.9998) cub_161_Blue_winged_Warbler:(0.9997) cub_162_Canada_Warbler:(0.995) cub_163_Cape_May_Warbler:(0.9977) cub_164_Cerulean_Warbler:(0.9999) cub_165_Chestnut_sided_Warbler:(0.9998) cub_166_Golden_winged_Warbler:(0.9996) cub_167_Hooded_Warbler:(0.9997) cub_168_Kentucky_Warbler:(0.9987) cub_169_Magnolia_Warbler:(0.999) cub_170_Mourning_Warbler:(0.9992) cub_172_Nashville_Warbler:(0.9994) cub_173_Orange_crowned_Warbler:(0.9995) cub_174_Palm_Warbler:(0.997) cub_175_Pine_Warbler:(0.9987) cub_176_Prairie_Warbler:(0.9992) cub_177_Prothonotary_Warbler:(0.9998) cub_178_Swainson_Warbler:(0.9993) cub_179_Tennessee_Warbler:(0.9966) cub_180_Wilson_Warbler:(0.9991) cub_181_Worm_eating_Warbler:(0.9965) cub_182_Yellow_Warbler:(0.9994) cub_183_Northern_Waterthrush:(0.9984) cub_184_Louisiana_Waterthrush:(0.997) cub_185_Bohemian_Waxwing:(0.9985) cub_186_Cedar_Waxwing:(0.9981) cub_193_Bewick_Wren:(0.9983) cub_194_Cactus_Wren:(0.994) cub_195_Carolina_Wren:(0.9984) cub_196_House_Wren:(0.9995) cub_197_Marsh_Wren:(0.9969) cub_198_Rock_Wren:(0.9978) cub_199_Winter_Wren:(0.9942) cub_200_Common_Yellowthroat:(0.9987) \n",
      "\t Child: cub_018_Spotted_Catbird\n",
      "\t\tProto:10 cub_018_Spotted_Catbird:(1.0) \n",
      "\t\tProto:11 cub_018_Spotted_Catbird:(0.0818) \n",
      "\t\tProto:12 cub_018_Spotted_Catbird:(0.8497) \n",
      "\t\tProto:14 cub_018_Spotted_Catbird:(0.0873) \n",
      "\t\tProto:17 cub_018_Spotted_Catbird:(0.0778) \n",
      "\t\tProto:19 cub_018_Spotted_Catbird:(0.0813) \n"
     ]
    },
    {
     "name": "stderr",
     "output_type": "stream",
     "text": [
      "Collecting topk: 296it [00:28, 10.27it/s]\n"
     ]
    },
    {
     "name": "stdout",
     "output_type": "stream",
     "text": [
      "Node 043+078\n",
      "\t Child: 043+042\n",
      "\t\tProto:0 cub_037_Acadian_Flycatcher:(0.9998) cub_039_Least_Flycatcher:(0.9999) cub_040_Olive_sided_Flycatcher:(0.9968) cub_042_Vermilion_Flycatcher:(0.9984) cub_043_Yellow_bellied_Flycatcher:(0.9999) cub_102_Western_Wood_Pewee:(0.9982) \n",
      "\t\tProto:9 cub_037_Acadian_Flycatcher:(0.9964) cub_039_Least_Flycatcher:(0.9987) cub_040_Olive_sided_Flycatcher:(0.99) cub_042_Vermilion_Flycatcher:(0.9992) cub_043_Yellow_bellied_Flycatcher:(0.9993) cub_102_Western_Wood_Pewee:(0.9966) \n",
      "\t\tProto:3 cub_037_Acadian_Flycatcher:(0.9997) cub_039_Least_Flycatcher:(0.9999) cub_040_Olive_sided_Flycatcher:(0.9999) cub_042_Vermilion_Flycatcher:(0.9993) cub_043_Yellow_bellied_Flycatcher:(0.9988) cub_102_Western_Wood_Pewee:(0.9998) \n",
      "\t\tProto:4 cub_037_Acadian_Flycatcher:(0.9994) cub_039_Least_Flycatcher:(0.9997) cub_040_Olive_sided_Flycatcher:(0.9996) cub_042_Vermilion_Flycatcher:(1.0) cub_043_Yellow_bellied_Flycatcher:(1.0) cub_102_Western_Wood_Pewee:(0.9999) \n",
      "\t Child: 078+038\n",
      "\t\tProto:19 cub_038_Great_Crested_Flycatcher:(0.8709) cub_041_Scissor_tailed_Flycatcher:(0.9835) cub_077_Tropical_Kingbird:(0.5689) cub_078_Gray_Kingbird:(0.5106) \n",
      "\t\tProto:18 cub_038_Great_Crested_Flycatcher:(0.9801) cub_041_Scissor_tailed_Flycatcher:(0.9972) cub_077_Tropical_Kingbird:(0.9986) cub_078_Gray_Kingbird:(0.9964) \n",
      "\t\tProto:11 cub_038_Great_Crested_Flycatcher:(0.9996) cub_041_Scissor_tailed_Flycatcher:(0.9998) cub_077_Tropical_Kingbird:(0.9993) cub_078_Gray_Kingbird:(0.9999) \n",
      "\t\tProto:14 cub_038_Great_Crested_Flycatcher:(0.5258) cub_041_Scissor_tailed_Flycatcher:(0.9998) cub_077_Tropical_Kingbird:(1.0) cub_078_Gray_Kingbird:(0.9999) \n"
     ]
    },
    {
     "name": "stderr",
     "output_type": "stream",
     "text": [
      "Collecting topk: 199it [00:24,  8.07it/s]\n"
     ]
    },
    {
     "name": "stdout",
     "output_type": "stream",
     "text": [
      "Node 192+036\n",
      "\t Child: 192+191\n",
      "\t\tProto:0 cub_187_American_Three_toed_Woodpecker:(0.9999) cub_189_Red_bellied_Woodpecker:(0.9999) cub_190_Red_cockaded_Woodpecker:(1.0) cub_191_Red_headed_Woodpecker:(1.0) cub_192_Downy_Woodpecker:(1.0) \n",
      "\t\tProto:1 cub_187_American_Three_toed_Woodpecker:(0.9977) cub_189_Red_bellied_Woodpecker:(0.9983) cub_190_Red_cockaded_Woodpecker:(0.9994) cub_191_Red_headed_Woodpecker:(0.9988) cub_192_Downy_Woodpecker:(0.999) \n",
      "\t\tProto:3 cub_187_American_Three_toed_Woodpecker:(0.9993) cub_189_Red_bellied_Woodpecker:(0.9999) cub_190_Red_cockaded_Woodpecker:(0.9999) cub_191_Red_headed_Woodpecker:(0.9997) cub_192_Downy_Woodpecker:(0.9999) \n",
      "\t\tProto:7 cub_187_American_Three_toed_Woodpecker:(0.9997) cub_189_Red_bellied_Woodpecker:(0.996) cub_190_Red_cockaded_Woodpecker:(0.9999) cub_191_Red_headed_Woodpecker:(0.9999) cub_192_Downy_Woodpecker:(0.9999) \n",
      "\t Child: 036+188\n",
      "\t\tProto:16 cub_036_Northern_Flicker:(1.0) cub_188_Pileated_Woodpecker:(1.0) \n",
      "\t\tProto:19 cub_036_Northern_Flicker:(0.9991) cub_188_Pileated_Woodpecker:(0.9999) \n",
      "\t\tProto:11 cub_036_Northern_Flicker:(0.9968) cub_188_Pileated_Woodpecker:(1.0) \n"
     ]
    },
    {
     "name": "stderr",
     "output_type": "stream",
     "text": [
      "Collecting topk: 150it [00:22,  6.73it/s]  \n"
     ]
    },
    {
     "name": "stdout",
     "output_type": "stream",
     "text": [
      "Node 081+083\n",
      "\t Child: 081+082\n",
      "\t\tProto:0 cub_079_Belted_Kingfisher:(1.0) cub_080_Green_Kingfisher:(1.0) cub_081_Pied_Kingfisher:(1.0) cub_082_Ringed_Kingfisher:(1.0) \n",
      "\t\tProto:3 cub_079_Belted_Kingfisher:(0.9999) cub_080_Green_Kingfisher:(0.9998) cub_081_Pied_Kingfisher:(0.9992) cub_082_Ringed_Kingfisher:(0.9995) \n",
      "\t\tProto:4 cub_079_Belted_Kingfisher:(0.9999) cub_080_Green_Kingfisher:(0.9998) cub_081_Pied_Kingfisher:(0.9999) cub_082_Ringed_Kingfisher:(0.9999) \n",
      "\t\tProto:5 cub_079_Belted_Kingfisher:(0.9993) cub_080_Green_Kingfisher:(0.9994) cub_081_Pied_Kingfisher:(0.9976) cub_082_Ringed_Kingfisher:(0.9991) \n",
      "\t\tProto:6 cub_079_Belted_Kingfisher:(0.9999) cub_080_Green_Kingfisher:(0.9995) cub_081_Pied_Kingfisher:(1.0) cub_082_Ringed_Kingfisher:(0.9999) \n",
      "\t Child: cub_083_White_breasted_Kingfisher\n",
      "\t\tProto:14 cub_083_White_breasted_Kingfisher:(1.0) \n",
      "\t\tProto:15 cub_083_White_breasted_Kingfisher:(1.0) \n",
      "Skipping node 065+084\n",
      "Skipping node 144+147\n",
      "Skipping node 006+058\n",
      "Skipping node 071+072\n",
      "Skipping node 024+001\n",
      "Skipping node 031+032\n",
      "Skipping node 051+050\n"
     ]
    },
    {
     "name": "stderr",
     "output_type": "stream",
     "text": [
      "Collecting topk: 3456it [02:52, 20.08it/s]\n"
     ]
    },
    {
     "name": "stdout",
     "output_type": "stream",
     "text": [
      "Node 129+107\n",
      "\t Child: 129+136\n",
      "\t\tProto:2 cub_009_Brewer_Blackbird:(0.9317) cub_010_Red_winged_Blackbird:(0.9654) cub_011_Rusty_Blackbird:(0.9638) cub_012_Yellow_headed_Blackbird:(0.9431) cub_013_Bobolink:(0.9397) cub_014_Indigo_Bunting:(0.986) cub_015_Lazuli_Bunting:(0.9888) cub_016_Painted_Bunting:(0.9948) cub_017_Cardinal:(0.8898) cub_019_Gray_Catbird:(0.9632) cub_020_Yellow_breasted_Chat:(0.9896) cub_021_Eastern_Towhee:(0.8945) cub_026_Bronzed_Cowbird:(0.9114) cub_027_Shiny_Cowbird:(0.4775) cub_028_Brown_Creeper:(0.99) cub_034_Gray_crowned_Rosy_Finch:(0.9837) cub_035_Purple_Finch:(0.9755) cub_047_American_Goldfinch:(0.9352) cub_048_European_Goldfinch:(0.8442) cub_049_Boat_tailed_Grackle:(0.8534) cub_054_Blue_Grosbeak:(0.9628) cub_055_Evening_Grosbeak:(0.9969) cub_056_Pine_Grosbeak:(0.9853) cub_057_Rose_breasted_Grosbeak:(0.9492) cub_076_Dark_eyed_Junco:(0.9007) cub_085_Horned_Lark:(0.9905) cub_088_Western_Meadowlark:(0.9991) cub_091_Mockingbird:(0.5895) cub_094_White_breasted_Nuthatch:(0.983) cub_095_Baltimore_Oriole:(0.9751) cub_096_Hooded_Oriole:(0.9865) cub_097_Orchard_Oriole:(0.9921) cub_098_Scott_Oriole:(0.8365) cub_099_Ovenbird:(0.9508) cub_104_American_Pipit:(0.9756) cub_109_American_Redstart:(0.994) cub_113_Baird_Sparrow:(0.9879) cub_114_Black_throated_Sparrow:(0.9587) cub_115_Brewer_Sparrow:(0.9836) cub_116_Chipping_Sparrow:(0.9973) cub_117_Clay_colored_Sparrow:(0.9952) cub_118_House_Sparrow:(0.9843) cub_119_Field_Sparrow:(0.9935) cub_120_Fox_Sparrow:(0.9817) cub_121_Grasshopper_Sparrow:(0.9963) cub_122_Harris_Sparrow:(0.9985) cub_123_Henslow_Sparrow:(0.9639) cub_124_Le_Conte_Sparrow:(0.9979) cub_125_Lincoln_Sparrow:(0.993) cub_126_Nelson_Sharp_tailed_Sparrow:(0.9984) cub_127_Savannah_Sparrow:(0.9958) cub_128_Seaside_Sparrow:(0.9346) cub_129_Song_Sparrow:(0.995) cub_130_Tree_Sparrow:(0.9865) cub_131_Vesper_Sparrow:(0.9964) cub_132_White_crowned_Sparrow:(0.9957) cub_133_White_throated_Sparrow:(0.9981) cub_136_Barn_Swallow:(0.995) cub_137_Cliff_Swallow:(0.9853) cub_138_Tree_Swallow:(0.9638) cub_139_Scarlet_Tanager:(0.9688) cub_140_Summer_Tanager:(0.9667) cub_148_Green_tailed_Towhee:(0.9455) cub_149_Brown_Thrasher:(0.9734) cub_150_Sage_Thrasher:(0.9937) cub_158_Bay_breasted_Warbler:(0.9881) cub_159_Black_and_white_Warbler:(0.9986) cub_160_Black_throated_Blue_Warbler:(0.9138) cub_161_Blue_winged_Warbler:(0.8755) cub_162_Canada_Warbler:(0.9974) cub_163_Cape_May_Warbler:(0.9951) cub_164_Cerulean_Warbler:(0.9922) cub_165_Chestnut_sided_Warbler:(0.9868) cub_166_Golden_winged_Warbler:(0.9271) cub_167_Hooded_Warbler:(0.9943) cub_168_Kentucky_Warbler:(0.9944) cub_169_Magnolia_Warbler:(0.9961) cub_170_Mourning_Warbler:(0.9815) cub_172_Nashville_Warbler:(0.9956) cub_173_Orange_crowned_Warbler:(0.5995) cub_174_Palm_Warbler:(0.9943) cub_175_Pine_Warbler:(0.6928) cub_176_Prairie_Warbler:(0.982) cub_177_Prothonotary_Warbler:(0.956) cub_178_Swainson_Warbler:(0.9361) cub_179_Tennessee_Warbler:(0.7721) cub_180_Wilson_Warbler:(0.9751) cub_181_Worm_eating_Warbler:(0.99) cub_182_Yellow_Warbler:(0.9574) cub_183_Northern_Waterthrush:(0.9938) cub_184_Louisiana_Waterthrush:(0.9666) cub_185_Bohemian_Waxwing:(0.8312) cub_186_Cedar_Waxwing:(0.8259) cub_193_Bewick_Wren:(0.9921) cub_194_Cactus_Wren:(0.9944) cub_195_Carolina_Wren:(0.9956) cub_196_House_Wren:(0.9205) cub_197_Marsh_Wren:(0.9969) cub_198_Rock_Wren:(0.9511) cub_199_Winter_Wren:(0.9925) cub_200_Common_Yellowthroat:(0.9925) \n",
      "\t\tProto:3 cub_009_Brewer_Blackbird:(0.7175) cub_010_Red_winged_Blackbird:(0.7849) cub_011_Rusty_Blackbird:(0.7673) cub_012_Yellow_headed_Blackbird:(0.9961) cub_013_Bobolink:(0.9235) cub_014_Indigo_Bunting:(0.9486) cub_015_Lazuli_Bunting:(0.9529) cub_016_Painted_Bunting:(0.9513) cub_017_Cardinal:(0.9966) cub_019_Gray_Catbird:(0.8235) cub_020_Yellow_breasted_Chat:(0.9752) cub_021_Eastern_Towhee:(0.9623) cub_026_Bronzed_Cowbird:(0.9824) cub_027_Shiny_Cowbird:(0.8627) cub_028_Brown_Creeper:(0.9678) cub_034_Gray_crowned_Rosy_Finch:(0.9415) cub_035_Purple_Finch:(0.9937) cub_047_American_Goldfinch:(0.9985) cub_048_European_Goldfinch:(0.9965) cub_049_Boat_tailed_Grackle:(0.623) cub_054_Blue_Grosbeak:(0.967) cub_055_Evening_Grosbeak:(0.9856) cub_056_Pine_Grosbeak:(0.9932) cub_057_Rose_breasted_Grosbeak:(0.9975) cub_076_Dark_eyed_Junco:(0.9838) cub_085_Horned_Lark:(0.96) cub_088_Western_Meadowlark:(0.9973) cub_091_Mockingbird:(0.4043) cub_094_White_breasted_Nuthatch:(0.5284) cub_095_Baltimore_Oriole:(0.9957) cub_096_Hooded_Oriole:(0.9929) cub_097_Orchard_Oriole:(0.9267) cub_098_Scott_Oriole:(0.9534) cub_099_Ovenbird:(0.9985) cub_104_American_Pipit:(0.9763) cub_109_American_Redstart:(0.9472) cub_113_Baird_Sparrow:(0.9984) cub_114_Black_throated_Sparrow:(0.9822) cub_115_Brewer_Sparrow:(0.9888) cub_116_Chipping_Sparrow:(0.9853) cub_117_Clay_colored_Sparrow:(0.9971) cub_118_House_Sparrow:(0.9717) cub_119_Field_Sparrow:(0.9598) cub_120_Fox_Sparrow:(0.9848) cub_121_Grasshopper_Sparrow:(0.998) cub_122_Harris_Sparrow:(0.9886) cub_123_Henslow_Sparrow:(0.9974) cub_124_Le_Conte_Sparrow:(0.9989) cub_125_Lincoln_Sparrow:(0.9964) cub_126_Nelson_Sharp_tailed_Sparrow:(0.998) cub_127_Savannah_Sparrow:(0.9992) cub_128_Seaside_Sparrow:(0.9954) cub_129_Song_Sparrow:(0.9532) cub_130_Tree_Sparrow:(0.9743) cub_131_Vesper_Sparrow:(0.9904) cub_132_White_crowned_Sparrow:(0.9447) cub_133_White_throated_Sparrow:(0.9948) cub_136_Barn_Swallow:(0.9769) cub_137_Cliff_Swallow:(0.9486) cub_138_Tree_Swallow:(0.7555) cub_139_Scarlet_Tanager:(0.9959) cub_140_Summer_Tanager:(0.9906) cub_148_Green_tailed_Towhee:(0.9961) cub_149_Brown_Thrasher:(0.9652) cub_150_Sage_Thrasher:(0.9913) cub_158_Bay_breasted_Warbler:(0.9572) cub_159_Black_and_white_Warbler:(0.8979) cub_160_Black_throated_Blue_Warbler:(0.907) cub_161_Blue_winged_Warbler:(0.9454) cub_162_Canada_Warbler:(0.9761) cub_163_Cape_May_Warbler:(0.978) cub_164_Cerulean_Warbler:(0.5289) cub_165_Chestnut_sided_Warbler:(0.9399) cub_166_Golden_winged_Warbler:(0.9748) cub_167_Hooded_Warbler:(0.9799) cub_168_Kentucky_Warbler:(0.9734) cub_169_Magnolia_Warbler:(0.9765) cub_170_Mourning_Warbler:(0.8095) cub_172_Nashville_Warbler:(0.8875) cub_173_Orange_crowned_Warbler:(0.8834) cub_174_Palm_Warbler:(0.9792) cub_175_Pine_Warbler:(0.8057) cub_176_Prairie_Warbler:(0.8843) cub_177_Prothonotary_Warbler:(0.9964) cub_178_Swainson_Warbler:(0.8692) cub_179_Tennessee_Warbler:(0.8963) cub_180_Wilson_Warbler:(0.9972) cub_181_Worm_eating_Warbler:(0.9249) cub_182_Yellow_Warbler:(0.9958) cub_183_Northern_Waterthrush:(0.9883) cub_184_Louisiana_Waterthrush:(0.975) cub_185_Bohemian_Waxwing:(0.9874) cub_186_Cedar_Waxwing:(0.9879) cub_193_Bewick_Wren:(0.9756) cub_194_Cactus_Wren:(0.9946) cub_195_Carolina_Wren:(0.9822) cub_196_House_Wren:(0.957) cub_197_Marsh_Wren:(0.9311) cub_198_Rock_Wren:(0.9725) cub_199_Winter_Wren:(0.9495) cub_200_Common_Yellowthroat:(0.9825) \n",
      "\t\tProto:4 cub_009_Brewer_Blackbird:(0.6539) cub_010_Red_winged_Blackbird:(0.8226) cub_011_Rusty_Blackbird:(0.6832) cub_012_Yellow_headed_Blackbird:(0.9361) cub_013_Bobolink:(0.7741) cub_014_Indigo_Bunting:(0.8672) cub_015_Lazuli_Bunting:(0.9077) cub_016_Painted_Bunting:(0.9661) cub_017_Cardinal:(0.9534) cub_019_Gray_Catbird:(0.607) cub_020_Yellow_breasted_Chat:(0.9056) cub_021_Eastern_Towhee:(0.8691) cub_026_Bronzed_Cowbird:(0.6723) cub_027_Shiny_Cowbird:(0.6067) cub_028_Brown_Creeper:(0.6698) cub_034_Gray_crowned_Rosy_Finch:(0.9255) cub_035_Purple_Finch:(0.9346) cub_047_American_Goldfinch:(0.7781) cub_048_European_Goldfinch:(0.9178) cub_049_Boat_tailed_Grackle:(0.5944) cub_054_Blue_Grosbeak:(0.6563) cub_055_Evening_Grosbeak:(0.9373) cub_056_Pine_Grosbeak:(0.9721) cub_057_Rose_breasted_Grosbeak:(0.97) cub_076_Dark_eyed_Junco:(0.8629) cub_085_Horned_Lark:(0.9068) cub_088_Western_Meadowlark:(0.9838) cub_091_Mockingbird:(0.5402) cub_094_White_breasted_Nuthatch:(0.4994) cub_095_Baltimore_Oriole:(0.9619) cub_096_Hooded_Oriole:(0.9241) cub_097_Orchard_Oriole:(0.9107) cub_098_Scott_Oriole:(0.7383) cub_099_Ovenbird:(0.9549) cub_104_American_Pipit:(0.9062) cub_109_American_Redstart:(0.9012) cub_113_Baird_Sparrow:(0.9684) cub_114_Black_throated_Sparrow:(0.8403) cub_115_Brewer_Sparrow:(0.8961) cub_116_Chipping_Sparrow:(0.9634) cub_117_Clay_colored_Sparrow:(0.9248) cub_118_House_Sparrow:(0.9151) cub_119_Field_Sparrow:(0.9533) cub_120_Fox_Sparrow:(0.9611) cub_121_Grasshopper_Sparrow:(0.9435) cub_122_Harris_Sparrow:(0.9753) cub_123_Henslow_Sparrow:(0.9383) cub_124_Le_Conte_Sparrow:(0.9707) cub_125_Lincoln_Sparrow:(0.9829) cub_126_Nelson_Sharp_tailed_Sparrow:(0.9458) cub_127_Savannah_Sparrow:(0.9793) cub_128_Seaside_Sparrow:(0.9248) cub_129_Song_Sparrow:(0.9824) cub_130_Tree_Sparrow:(0.9687) cub_131_Vesper_Sparrow:(0.9644) cub_132_White_crowned_Sparrow:(0.8291) cub_133_White_throated_Sparrow:(0.9165) cub_136_Barn_Swallow:(0.9498) cub_137_Cliff_Swallow:(0.9445) cub_138_Tree_Swallow:(0.5329) cub_139_Scarlet_Tanager:(0.9747) cub_140_Summer_Tanager:(0.9382) cub_148_Green_tailed_Towhee:(0.9638) cub_149_Brown_Thrasher:(0.9391) cub_150_Sage_Thrasher:(0.9486) cub_158_Bay_breasted_Warbler:(0.95) cub_159_Black_and_white_Warbler:(0.8781) cub_160_Black_throated_Blue_Warbler:(0.6267) cub_161_Blue_winged_Warbler:(0.7614) cub_162_Canada_Warbler:(0.948) cub_163_Cape_May_Warbler:(0.9762) cub_164_Cerulean_Warbler:(0.4228) cub_165_Chestnut_sided_Warbler:(0.8112) cub_166_Golden_winged_Warbler:(0.808) cub_167_Hooded_Warbler:(0.864) cub_168_Kentucky_Warbler:(0.9239) cub_169_Magnolia_Warbler:(0.9528) cub_170_Mourning_Warbler:(0.6238) cub_172_Nashville_Warbler:(0.7527) cub_173_Orange_crowned_Warbler:(0.4952) cub_174_Palm_Warbler:(0.968) cub_175_Pine_Warbler:(0.6459) cub_176_Prairie_Warbler:(0.8304) cub_177_Prothonotary_Warbler:(0.8793) cub_178_Swainson_Warbler:(0.5881) cub_179_Tennessee_Warbler:(0.5288) cub_180_Wilson_Warbler:(0.7913) cub_181_Worm_eating_Warbler:(0.7902) cub_182_Yellow_Warbler:(0.9022) cub_183_Northern_Waterthrush:(0.9417) cub_184_Louisiana_Waterthrush:(0.9022) cub_185_Bohemian_Waxwing:(0.9139) cub_186_Cedar_Waxwing:(0.8143) cub_193_Bewick_Wren:(0.8621) cub_194_Cactus_Wren:(0.92) cub_195_Carolina_Wren:(0.818) cub_196_House_Wren:(0.729) cub_197_Marsh_Wren:(0.8056) cub_198_Rock_Wren:(0.7659) cub_199_Winter_Wren:(0.7827) cub_200_Common_Yellowthroat:(0.9077) \n",
      "\t\tProto:6 cub_009_Brewer_Blackbird:(0.1898) cub_010_Red_winged_Blackbird:(0.9902) cub_011_Rusty_Blackbird:(0.8701) cub_012_Yellow_headed_Blackbird:(0.9341) cub_013_Bobolink:(0.5283) cub_014_Indigo_Bunting:(0.1725) cub_015_Lazuli_Bunting:(0.3902) cub_016_Painted_Bunting:(0.8561) cub_017_Cardinal:(0.9712) cub_019_Gray_Catbird:(0.2656) cub_020_Yellow_breasted_Chat:(0.1953) cub_021_Eastern_Towhee:(0.9322) cub_026_Bronzed_Cowbird:(0.7619) cub_027_Shiny_Cowbird:(0.1123) cub_028_Brown_Creeper:(0.1919) cub_034_Gray_crowned_Rosy_Finch:(0.9522) cub_035_Purple_Finch:(0.9655) cub_047_American_Goldfinch:(0.8736) cub_048_European_Goldfinch:(0.9368) cub_049_Boat_tailed_Grackle:(0.4279) cub_054_Blue_Grosbeak:(0.5221) cub_055_Evening_Grosbeak:(0.911) cub_056_Pine_Grosbeak:(0.9551) cub_057_Rose_breasted_Grosbeak:(0.8643) cub_076_Dark_eyed_Junco:(0.8469) cub_085_Horned_Lark:(0.7111) cub_088_Western_Meadowlark:(0.931) cub_091_Mockingbird:(0.4553) cub_094_White_breasted_Nuthatch:(0.4334) cub_095_Baltimore_Oriole:(0.5085) cub_096_Hooded_Oriole:(0.826) cub_097_Orchard_Oriole:(0.9874) cub_098_Scott_Oriole:(0.7087) cub_099_Ovenbird:(0.9606) cub_104_American_Pipit:(0.6643) cub_109_American_Redstart:(0.8501) cub_113_Baird_Sparrow:(0.8393) cub_114_Black_throated_Sparrow:(0.1701) cub_115_Brewer_Sparrow:(0.8463) cub_116_Chipping_Sparrow:(0.9427) cub_117_Clay_colored_Sparrow:(0.8114) cub_118_House_Sparrow:(0.9128) cub_119_Field_Sparrow:(0.8856) cub_120_Fox_Sparrow:(0.9498) cub_121_Grasshopper_Sparrow:(0.9329) cub_122_Harris_Sparrow:(0.96) cub_123_Henslow_Sparrow:(0.9202) cub_124_Le_Conte_Sparrow:(0.966) cub_125_Lincoln_Sparrow:(0.9432) cub_126_Nelson_Sharp_tailed_Sparrow:(0.6974) cub_127_Savannah_Sparrow:(0.9781) cub_128_Seaside_Sparrow:(0.722) cub_129_Song_Sparrow:(0.9331) cub_130_Tree_Sparrow:(0.9422) cub_131_Vesper_Sparrow:(0.8324) cub_132_White_crowned_Sparrow:(0.8796) cub_133_White_throated_Sparrow:(0.8849) cub_136_Barn_Swallow:(0.861) cub_137_Cliff_Swallow:(0.9948) cub_138_Tree_Swallow:(0.1143) cub_139_Scarlet_Tanager:(0.9891) cub_140_Summer_Tanager:(0.8835) cub_148_Green_tailed_Towhee:(0.9472) cub_149_Brown_Thrasher:(0.9857) cub_150_Sage_Thrasher:(0.8436) cub_158_Bay_breasted_Warbler:(0.9204) cub_159_Black_and_white_Warbler:(0.5297) cub_160_Black_throated_Blue_Warbler:(0.2521) cub_161_Blue_winged_Warbler:(0.7574) cub_162_Canada_Warbler:(0.9077) cub_163_Cape_May_Warbler:(0.6762) cub_164_Cerulean_Warbler:(0.2625) cub_165_Chestnut_sided_Warbler:(0.7735) cub_166_Golden_winged_Warbler:(0.5195) cub_167_Hooded_Warbler:(0.9384) cub_168_Kentucky_Warbler:(0.893) cub_169_Magnolia_Warbler:(0.8967) cub_170_Mourning_Warbler:(0.9887) cub_172_Nashville_Warbler:(0.6982) cub_173_Orange_crowned_Warbler:(0.7268) cub_174_Palm_Warbler:(0.662) cub_175_Pine_Warbler:(0.9531) cub_176_Prairie_Warbler:(0.8545) cub_177_Prothonotary_Warbler:(0.7857) cub_178_Swainson_Warbler:(0.9443) cub_179_Tennessee_Warbler:(0.2434) cub_180_Wilson_Warbler:(0.9117) cub_181_Worm_eating_Warbler:(0.6053) cub_182_Yellow_Warbler:(0.8698) cub_183_Northern_Waterthrush:(0.8397) cub_184_Louisiana_Waterthrush:(0.9852) cub_185_Bohemian_Waxwing:(0.8856) cub_186_Cedar_Waxwing:(0.8383) cub_193_Bewick_Wren:(0.8784) cub_194_Cactus_Wren:(0.6557) cub_195_Carolina_Wren:(0.9393) cub_196_House_Wren:(0.8897) cub_197_Marsh_Wren:(0.884) cub_198_Rock_Wren:(0.4966) cub_199_Winter_Wren:(0.9894) cub_200_Common_Yellowthroat:(0.9083) \n",
      "\t Child: 107+151\n",
      "\t\tProto:16 cub_029_American_Crow:(0.1997) cub_030_Fish_Crow:(0.1122) cub_073_Blue_Jay:(0.1137) cub_074_Florida_Jay:(0.3922) cub_093_Clark_Nutcracker:(0.3772) cub_107_Common_Raven:(0.1472) cub_108_White_necked_Raven:(0.207) cub_111_Loggerhead_Shrike:(0.9665) cub_112_Great_Grey_Shrike:(0.942) cub_151_Black_capped_Vireo:(0.162) cub_152_Blue_headed_Vireo:(0.6081) cub_153_Philadelphia_Vireo:(0.4711) cub_154_Red_eyed_Vireo:(0.4771) cub_155_Warbling_Vireo:(0.278) cub_156_White_eyed_Vireo:(0.0871) cub_157_Yellow_throated_Vireo:(0.2998) \n",
      "\t\tProto:19 cub_029_American_Crow:(0.1017) cub_030_Fish_Crow:(0.1184) cub_073_Blue_Jay:(0.1729) cub_074_Florida_Jay:(0.1101) cub_093_Clark_Nutcracker:(0.3374) cub_107_Common_Raven:(0.1275) cub_108_White_necked_Raven:(0.1329) cub_111_Loggerhead_Shrike:(0.2117) cub_112_Great_Grey_Shrike:(0.2062) cub_151_Black_capped_Vireo:(0.1179) cub_152_Blue_headed_Vireo:(0.1048) cub_153_Philadelphia_Vireo:(0.1001) cub_154_Red_eyed_Vireo:(0.1186) cub_155_Warbling_Vireo:(0.1039) cub_156_White_eyed_Vireo:(0.1085) cub_157_Yellow_throated_Vireo:(0.0944) \n",
      "\t\tProto:18 cub_029_American_Crow:(0.9612) cub_030_Fish_Crow:(0.9086) cub_073_Blue_Jay:(0.9899) cub_074_Florida_Jay:(0.6743) cub_093_Clark_Nutcracker:(0.9135) cub_107_Common_Raven:(0.9761) cub_108_White_necked_Raven:(0.8826) cub_111_Loggerhead_Shrike:(0.8559) cub_112_Great_Grey_Shrike:(0.938) cub_151_Black_capped_Vireo:(0.3564) cub_152_Blue_headed_Vireo:(0.4502) cub_153_Philadelphia_Vireo:(0.9321) cub_154_Red_eyed_Vireo:(0.9127) cub_155_Warbling_Vireo:(0.9361) cub_156_White_eyed_Vireo:(0.0339) cub_157_Yellow_throated_Vireo:(0.0843) \n",
      "\t\tProto:11 cub_029_American_Crow:(0.276) cub_030_Fish_Crow:(0.4604) cub_073_Blue_Jay:(0.2682) cub_074_Florida_Jay:(0.6168) cub_093_Clark_Nutcracker:(0.2093) cub_107_Common_Raven:(0.7157) cub_108_White_necked_Raven:(0.7143) cub_111_Loggerhead_Shrike:(0.64) cub_112_Great_Grey_Shrike:(0.5266) cub_151_Black_capped_Vireo:(0.995) cub_152_Blue_headed_Vireo:(0.9938) cub_153_Philadelphia_Vireo:(0.0859) cub_154_Red_eyed_Vireo:(0.1059) cub_155_Warbling_Vireo:(0.0808) cub_156_White_eyed_Vireo:(0.9859) cub_157_Yellow_throated_Vireo:(0.9325) \n"
     ]
    },
    {
     "name": "stderr",
     "output_type": "stream",
     "text": [
      "Collecting topk: 177it [00:23,  7.54it/s]  \n"
     ]
    },
    {
     "name": "stdout",
     "output_type": "stream",
     "text": [
      "Node 043+042\n",
      "\t Child: 043+040\n",
      "\t\tProto:0 cub_037_Acadian_Flycatcher:(1.0) cub_039_Least_Flycatcher:(1.0) cub_040_Olive_sided_Flycatcher:(1.0) cub_043_Yellow_bellied_Flycatcher:(1.0) cub_102_Western_Wood_Pewee:(1.0) \n",
      "\t\tProto:1 cub_037_Acadian_Flycatcher:(0.9999) cub_039_Least_Flycatcher:(0.9999) cub_040_Olive_sided_Flycatcher:(0.9999) cub_043_Yellow_bellied_Flycatcher:(0.9998) cub_102_Western_Wood_Pewee:(0.9998) \n",
      "\t\tProto:2 cub_037_Acadian_Flycatcher:(1.0) cub_039_Least_Flycatcher:(1.0) cub_040_Olive_sided_Flycatcher:(1.0) cub_043_Yellow_bellied_Flycatcher:(1.0) cub_102_Western_Wood_Pewee:(0.9999) \n",
      "\t\tProto:3 cub_037_Acadian_Flycatcher:(0.9999) cub_039_Least_Flycatcher:(1.0) cub_040_Olive_sided_Flycatcher:(1.0) cub_043_Yellow_bellied_Flycatcher:(0.9992) cub_102_Western_Wood_Pewee:(0.9999) \n",
      "\t\tProto:6 cub_037_Acadian_Flycatcher:(0.9999) cub_039_Least_Flycatcher:(0.9999) cub_040_Olive_sided_Flycatcher:(1.0) cub_043_Yellow_bellied_Flycatcher:(0.9999) cub_102_Western_Wood_Pewee:(0.9999) \n",
      "\t\tProto:9 cub_037_Acadian_Flycatcher:(1.0) cub_039_Least_Flycatcher:(1.0) cub_040_Olive_sided_Flycatcher:(1.0) cub_043_Yellow_bellied_Flycatcher:(1.0) cub_102_Western_Wood_Pewee:(1.0) \n",
      "\t Child: cub_042_Vermilion_Flycatcher\n",
      "\t\tProto:10 cub_042_Vermilion_Flycatcher:(0.9992) \n",
      "\t\tProto:15 cub_042_Vermilion_Flycatcher:(1.0) \n"
     ]
    },
    {
     "name": "stderr",
     "output_type": "stream",
     "text": [
      "Collecting topk: 119it [00:21,  5.66it/s]  \n"
     ]
    },
    {
     "name": "stdout",
     "output_type": "stream",
     "text": [
      "Node 078+038\n",
      "\t Child: 078+041\n",
      "\t\tProto:9 cub_041_Scissor_tailed_Flycatcher:(0.9998) cub_077_Tropical_Kingbird:(1.0) cub_078_Gray_Kingbird:(1.0) \n",
      "\t\tProto:3 cub_041_Scissor_tailed_Flycatcher:(0.9997) cub_077_Tropical_Kingbird:(0.9996) cub_078_Gray_Kingbird:(0.9998) \n",
      "\t\tProto:6 cub_041_Scissor_tailed_Flycatcher:(1.0) cub_077_Tropical_Kingbird:(1.0) cub_078_Gray_Kingbird:(1.0) \n",
      "\t\tProto:7 cub_041_Scissor_tailed_Flycatcher:(0.9999) cub_077_Tropical_Kingbird:(1.0) cub_078_Gray_Kingbird:(1.0) \n",
      "\t Child: cub_038_Great_Crested_Flycatcher\n",
      "\t\tProto:19 cub_038_Great_Crested_Flycatcher:(1.0) \n",
      "\t\tProto:12 cub_038_Great_Crested_Flycatcher:(0.9999) \n"
     ]
    },
    {
     "name": "stderr",
     "output_type": "stream",
     "text": [
      "Collecting topk: 139it [00:21,  6.43it/s]\n"
     ]
    },
    {
     "name": "stdout",
     "output_type": "stream",
     "text": [
      "Node 192+191\n",
      "\t Child: 192+187\n",
      "\t\tProto:1 cub_187_American_Three_toed_Woodpecker:(1.0) cub_190_Red_cockaded_Woodpecker:(1.0) cub_192_Downy_Woodpecker:(1.0) \n",
      "\t\tProto:5 cub_187_American_Three_toed_Woodpecker:(0.9979) cub_190_Red_cockaded_Woodpecker:(0.9999) cub_192_Downy_Woodpecker:(0.9998) \n",
      "\t\tProto:6 cub_187_American_Three_toed_Woodpecker:(1.0) cub_190_Red_cockaded_Woodpecker:(1.0) cub_192_Downy_Woodpecker:(1.0) \n",
      "\t\tProto:7 cub_187_American_Three_toed_Woodpecker:(0.9999) cub_190_Red_cockaded_Woodpecker:(0.9999) cub_192_Downy_Woodpecker:(0.9995) \n",
      "\t Child: 191+189\n",
      "\t\tProto:17 cub_189_Red_bellied_Woodpecker:(1.0) cub_191_Red_headed_Woodpecker:(1.0) \n",
      "\t\tProto:18 cub_189_Red_bellied_Woodpecker:(1.0) cub_191_Red_headed_Woodpecker:(1.0) \n",
      "\t\tProto:13 cub_189_Red_bellied_Woodpecker:(1.0) cub_191_Red_headed_Woodpecker:(1.0) \n"
     ]
    },
    {
     "name": "stderr",
     "output_type": "stream",
     "text": [
      "Collecting topk: 100% 60/60 [00:17<00:00,  3.37it/s]\n"
     ]
    },
    {
     "name": "stdout",
     "output_type": "stream",
     "text": [
      "Node 036+188\n",
      "\t Child: cub_036_Northern_Flicker\n",
      "\t\tProto:2 cub_036_Northern_Flicker:(1.0) \n",
      "\t\tProto:6 cub_036_Northern_Flicker:(1.0) \n",
      "\t Child: cub_188_Pileated_Woodpecker\n",
      "\t\tProto:13 cub_188_Pileated_Woodpecker:(1.0) \n",
      "\t\tProto:14 cub_188_Pileated_Woodpecker:(1.0) \n"
     ]
    },
    {
     "name": "stderr",
     "output_type": "stream",
     "text": [
      "Collecting topk: 120it [00:20,  5.74it/s]\n"
     ]
    },
    {
     "name": "stdout",
     "output_type": "stream",
     "text": [
      "Node 081+082\n",
      "\t Child: 081+080\n",
      "\t\tProto:0 cub_080_Green_Kingfisher:(0.9999) cub_081_Pied_Kingfisher:(1.0) \n",
      "\t\tProto:8 cub_080_Green_Kingfisher:(0.9994) cub_081_Pied_Kingfisher:(0.9991) \n",
      "\t\tProto:2 cub_080_Green_Kingfisher:(0.9998) cub_081_Pied_Kingfisher:(0.9997) \n",
      "\t\tProto:5 cub_080_Green_Kingfisher:(1.0) cub_081_Pied_Kingfisher:(0.9999) \n",
      "\t Child: 082+079\n",
      "\t\tProto:12 cub_079_Belted_Kingfisher:(1.0) cub_082_Ringed_Kingfisher:(1.0) \n",
      "\t\tProto:13 cub_079_Belted_Kingfisher:(0.9995) cub_082_Ringed_Kingfisher:(0.9997) \n",
      "\t\tProto:14 cub_079_Belted_Kingfisher:(1.0) cub_082_Ringed_Kingfisher:(1.0) \n",
      "\t\tProto:15 cub_079_Belted_Kingfisher:(1.0) cub_082_Ringed_Kingfisher:(1.0) \n",
      "Skipping node 065+061\n",
      "Skipping node 084+063\n",
      "Skipping node 144+143\n",
      "Skipping node 006+008\n",
      "Skipping node 024+100\n",
      "Skipping node 001+045\n",
      "Skipping node 031+033\n"
     ]
    },
    {
     "name": "stderr",
     "output_type": "stream",
     "text": [
      "Collecting topk: 2987it [02:31, 19.78it/s]\n"
     ]
    },
    {
     "name": "stdout",
     "output_type": "stream",
     "text": [
      "Node 129+136\n",
      "\t Child: 129+199\n",
      "\t\tProto:8 cub_009_Brewer_Blackbird:(0.9787) cub_010_Red_winged_Blackbird:(0.9885) cub_011_Rusty_Blackbird:(0.9776) cub_012_Yellow_headed_Blackbird:(0.996) cub_013_Bobolink:(0.9938) cub_014_Indigo_Bunting:(0.9923) cub_015_Lazuli_Bunting:(0.9978) cub_016_Painted_Bunting:(0.9975) cub_017_Cardinal:(0.9659) cub_019_Gray_Catbird:(0.9964) cub_020_Yellow_breasted_Chat:(0.9957) cub_021_Eastern_Towhee:(0.9934) cub_026_Bronzed_Cowbird:(0.9959) cub_027_Shiny_Cowbird:(0.9927) cub_028_Brown_Creeper:(0.9746) cub_034_Gray_crowned_Rosy_Finch:(0.9955) cub_035_Purple_Finch:(0.9955) cub_047_American_Goldfinch:(0.9987) cub_048_European_Goldfinch:(0.9595) cub_049_Boat_tailed_Grackle:(0.9866) cub_054_Blue_Grosbeak:(0.9846) cub_055_Evening_Grosbeak:(0.9762) cub_056_Pine_Grosbeak:(0.9899) cub_057_Rose_breasted_Grosbeak:(0.9973) cub_076_Dark_eyed_Junco:(0.9975) cub_088_Western_Meadowlark:(0.9938) cub_091_Mockingbird:(0.9962) cub_094_White_breasted_Nuthatch:(0.997) cub_095_Baltimore_Oriole:(0.9975) cub_096_Hooded_Oriole:(0.9965) cub_097_Orchard_Oriole:(0.983) cub_098_Scott_Oriole:(0.9976) cub_099_Ovenbird:(0.9989) cub_104_American_Pipit:(0.9987) cub_109_American_Redstart:(0.9909) cub_113_Baird_Sparrow:(0.997) cub_114_Black_throated_Sparrow:(0.9416) cub_115_Brewer_Sparrow:(0.9923) cub_116_Chipping_Sparrow:(0.9982) cub_117_Clay_colored_Sparrow:(0.9942) cub_118_House_Sparrow:(0.9974) cub_119_Field_Sparrow:(0.999) cub_120_Fox_Sparrow:(0.9991) cub_121_Grasshopper_Sparrow:(0.9969) cub_122_Harris_Sparrow:(0.9956) cub_123_Henslow_Sparrow:(0.997) cub_124_Le_Conte_Sparrow:(0.9972) cub_125_Lincoln_Sparrow:(0.9984) cub_126_Nelson_Sharp_tailed_Sparrow:(0.9974) cub_127_Savannah_Sparrow:(0.9983) cub_128_Seaside_Sparrow:(0.9975) cub_129_Song_Sparrow:(0.9867) cub_130_Tree_Sparrow:(0.9951) cub_131_Vesper_Sparrow:(0.9987) cub_132_White_crowned_Sparrow:(0.9944) cub_133_White_throated_Sparrow:(0.9943) cub_139_Scarlet_Tanager:(0.9948) cub_140_Summer_Tanager:(0.9958) cub_148_Green_tailed_Towhee:(0.9982) cub_149_Brown_Thrasher:(0.9973) cub_150_Sage_Thrasher:(0.9976) cub_158_Bay_breasted_Warbler:(0.9933) cub_159_Black_and_white_Warbler:(0.9927) cub_160_Black_throated_Blue_Warbler:(0.9842) cub_161_Blue_winged_Warbler:(0.9867) cub_162_Canada_Warbler:(0.9885) cub_163_Cape_May_Warbler:(0.9971) cub_164_Cerulean_Warbler:(0.9949) cub_165_Chestnut_sided_Warbler:(0.9894) cub_166_Golden_winged_Warbler:(0.9786) cub_167_Hooded_Warbler:(0.9951) cub_168_Kentucky_Warbler:(0.9626) cub_169_Magnolia_Warbler:(0.9714) cub_170_Mourning_Warbler:(0.9991) cub_172_Nashville_Warbler:(0.9973) cub_173_Orange_crowned_Warbler:(0.9989) cub_174_Palm_Warbler:(0.9973) cub_175_Pine_Warbler:(0.9964) cub_176_Prairie_Warbler:(0.9727) cub_177_Prothonotary_Warbler:(0.9992) cub_178_Swainson_Warbler:(0.9953) cub_179_Tennessee_Warbler:(0.9978) cub_180_Wilson_Warbler:(0.9982) cub_181_Worm_eating_Warbler:(0.9969) cub_182_Yellow_Warbler:(0.9993) cub_183_Northern_Waterthrush:(0.9967) cub_184_Louisiana_Waterthrush:(0.9981) cub_185_Bohemian_Waxwing:(0.9549) cub_186_Cedar_Waxwing:(0.951) cub_193_Bewick_Wren:(0.9949) cub_194_Cactus_Wren:(0.996) cub_195_Carolina_Wren:(0.9974) cub_196_House_Wren:(0.9985) cub_197_Marsh_Wren:(0.9994) cub_198_Rock_Wren:(0.9985) cub_199_Winter_Wren:(0.9977) cub_200_Common_Yellowthroat:(0.9817) \n",
      "\t\tProto:3 cub_009_Brewer_Blackbird:(0.9993) cub_010_Red_winged_Blackbird:(0.981) cub_011_Rusty_Blackbird:(0.9991) cub_012_Yellow_headed_Blackbird:(0.9821) cub_013_Bobolink:(0.9979) cub_014_Indigo_Bunting:(0.9823) cub_015_Lazuli_Bunting:(0.997) cub_016_Painted_Bunting:(0.9992) cub_017_Cardinal:(0.953) cub_019_Gray_Catbird:(0.9996) cub_020_Yellow_breasted_Chat:(0.9992) cub_021_Eastern_Towhee:(0.9888) cub_026_Bronzed_Cowbird:(0.9981) cub_027_Shiny_Cowbird:(0.997) cub_028_Brown_Creeper:(0.977) cub_034_Gray_crowned_Rosy_Finch:(0.9986) cub_035_Purple_Finch:(0.9914) cub_047_American_Goldfinch:(0.9983) cub_048_European_Goldfinch:(0.8392) cub_049_Boat_tailed_Grackle:(0.9902) cub_054_Blue_Grosbeak:(0.9919) cub_055_Evening_Grosbeak:(0.9979) cub_056_Pine_Grosbeak:(0.9786) cub_057_Rose_breasted_Grosbeak:(0.9767) cub_076_Dark_eyed_Junco:(0.9853) cub_088_Western_Meadowlark:(0.9985) cub_091_Mockingbird:(0.9968) cub_094_White_breasted_Nuthatch:(0.9955) cub_095_Baltimore_Oriole:(0.9933) cub_096_Hooded_Oriole:(0.9962) cub_097_Orchard_Oriole:(0.9974) cub_098_Scott_Oriole:(0.999) cub_099_Ovenbird:(0.9999) cub_104_American_Pipit:(0.9996) cub_109_American_Redstart:(0.9996) cub_113_Baird_Sparrow:(0.9967) cub_114_Black_throated_Sparrow:(0.9912) cub_115_Brewer_Sparrow:(0.9974) cub_116_Chipping_Sparrow:(0.9958) cub_117_Clay_colored_Sparrow:(0.9911) cub_118_House_Sparrow:(0.9857) cub_119_Field_Sparrow:(0.9971) cub_120_Fox_Sparrow:(0.9995) cub_121_Grasshopper_Sparrow:(0.9976) cub_122_Harris_Sparrow:(0.9918) cub_123_Henslow_Sparrow:(0.9994) cub_124_Le_Conte_Sparrow:(0.9927) cub_125_Lincoln_Sparrow:(0.9991) cub_126_Nelson_Sharp_tailed_Sparrow:(0.9908) cub_127_Savannah_Sparrow:(0.9995) cub_128_Seaside_Sparrow:(0.9977) cub_129_Song_Sparrow:(0.9948) cub_130_Tree_Sparrow:(0.9922) cub_131_Vesper_Sparrow:(0.9997) cub_132_White_crowned_Sparrow:(0.9297) cub_133_White_throated_Sparrow:(0.9965) cub_139_Scarlet_Tanager:(0.9965) cub_140_Summer_Tanager:(0.9956) cub_148_Green_tailed_Towhee:(0.9993) cub_149_Brown_Thrasher:(0.9989) cub_150_Sage_Thrasher:(0.9998) cub_158_Bay_breasted_Warbler:(0.9948) cub_159_Black_and_white_Warbler:(0.9986) cub_160_Black_throated_Blue_Warbler:(0.9952) cub_161_Blue_winged_Warbler:(0.9912) cub_162_Canada_Warbler:(0.9994) cub_163_Cape_May_Warbler:(0.9919) cub_164_Cerulean_Warbler:(0.9901) cub_165_Chestnut_sided_Warbler:(0.9994) cub_166_Golden_winged_Warbler:(0.9984) cub_167_Hooded_Warbler:(0.9984) cub_168_Kentucky_Warbler:(0.9941) cub_169_Magnolia_Warbler:(0.9979) cub_170_Mourning_Warbler:(0.9999) cub_172_Nashville_Warbler:(0.9997) cub_173_Orange_crowned_Warbler:(0.9995) cub_174_Palm_Warbler:(0.9994) cub_175_Pine_Warbler:(0.9995) cub_176_Prairie_Warbler:(0.9976) cub_177_Prothonotary_Warbler:(0.9987) cub_178_Swainson_Warbler:(0.9973) cub_179_Tennessee_Warbler:(0.9994) cub_180_Wilson_Warbler:(0.9971) cub_181_Worm_eating_Warbler:(0.9978) cub_182_Yellow_Warbler:(0.999) cub_183_Northern_Waterthrush:(0.9979) cub_184_Louisiana_Waterthrush:(0.9984) cub_185_Bohemian_Waxwing:(0.5953) cub_186_Cedar_Waxwing:(0.8745) cub_193_Bewick_Wren:(0.999) cub_194_Cactus_Wren:(0.998) cub_195_Carolina_Wren:(0.9988) cub_196_House_Wren:(0.9979) cub_197_Marsh_Wren:(0.9955) cub_198_Rock_Wren:(0.9983) cub_199_Winter_Wren:(0.9975) cub_200_Common_Yellowthroat:(0.9967) \n",
      "\t\tProto:4 cub_009_Brewer_Blackbird:(0.9985) cub_010_Red_winged_Blackbird:(0.9972) cub_011_Rusty_Blackbird:(0.9973) cub_012_Yellow_headed_Blackbird:(0.9948) cub_013_Bobolink:(0.9896) cub_014_Indigo_Bunting:(0.9964) cub_015_Lazuli_Bunting:(0.9889) cub_016_Painted_Bunting:(0.998) cub_017_Cardinal:(0.9519) cub_019_Gray_Catbird:(0.9993) cub_020_Yellow_breasted_Chat:(0.9955) cub_021_Eastern_Towhee:(0.9973) cub_026_Bronzed_Cowbird:(0.9948) cub_027_Shiny_Cowbird:(0.9996) cub_028_Brown_Creeper:(0.944) cub_034_Gray_crowned_Rosy_Finch:(0.9995) cub_035_Purple_Finch:(0.9998) cub_047_American_Goldfinch:(0.9999) cub_048_European_Goldfinch:(0.9699) cub_049_Boat_tailed_Grackle:(0.9948) cub_054_Blue_Grosbeak:(0.9997) cub_055_Evening_Grosbeak:(0.9991) cub_056_Pine_Grosbeak:(0.9962) cub_057_Rose_breasted_Grosbeak:(0.9965) cub_076_Dark_eyed_Junco:(0.9984) cub_088_Western_Meadowlark:(0.9949) cub_091_Mockingbird:(0.9977) cub_094_White_breasted_Nuthatch:(0.9974) cub_095_Baltimore_Oriole:(0.999) cub_096_Hooded_Oriole:(0.9986) cub_097_Orchard_Oriole:(0.9994) cub_098_Scott_Oriole:(0.9991) cub_099_Ovenbird:(0.9987) cub_104_American_Pipit:(0.9989) cub_109_American_Redstart:(0.9987) cub_113_Baird_Sparrow:(0.9977) cub_114_Black_throated_Sparrow:(0.9905) cub_115_Brewer_Sparrow:(0.9998) cub_116_Chipping_Sparrow:(0.9985) cub_117_Clay_colored_Sparrow:(0.9972) cub_118_House_Sparrow:(0.9997) cub_119_Field_Sparrow:(0.9997) cub_120_Fox_Sparrow:(0.9988) cub_121_Grasshopper_Sparrow:(0.9988) cub_122_Harris_Sparrow:(0.9991) cub_123_Henslow_Sparrow:(0.9988) cub_124_Le_Conte_Sparrow:(0.9994) cub_125_Lincoln_Sparrow:(0.9996) cub_126_Nelson_Sharp_tailed_Sparrow:(0.9992) cub_127_Savannah_Sparrow:(0.9996) cub_128_Seaside_Sparrow:(0.9964) cub_129_Song_Sparrow:(0.999) cub_130_Tree_Sparrow:(0.9981) cub_131_Vesper_Sparrow:(0.9995) cub_132_White_crowned_Sparrow:(0.9964) cub_133_White_throated_Sparrow:(0.9973) cub_139_Scarlet_Tanager:(0.9972) cub_140_Summer_Tanager:(0.998) cub_148_Green_tailed_Towhee:(0.9986) cub_149_Brown_Thrasher:(0.9964) cub_150_Sage_Thrasher:(0.9976) cub_158_Bay_breasted_Warbler:(0.9991) cub_159_Black_and_white_Warbler:(0.9995) cub_160_Black_throated_Blue_Warbler:(0.9925) cub_161_Blue_winged_Warbler:(0.9995) cub_162_Canada_Warbler:(0.9996) cub_163_Cape_May_Warbler:(0.9955) cub_164_Cerulean_Warbler:(0.9945) cub_165_Chestnut_sided_Warbler:(0.9998) cub_166_Golden_winged_Warbler:(0.9972) cub_167_Hooded_Warbler:(0.999) cub_168_Kentucky_Warbler:(0.9959) cub_169_Magnolia_Warbler:(0.9991) cub_170_Mourning_Warbler:(0.9998) cub_172_Nashville_Warbler:(0.9994) cub_173_Orange_crowned_Warbler:(0.9994) cub_174_Palm_Warbler:(0.9998) cub_175_Pine_Warbler:(0.9997) cub_176_Prairie_Warbler:(0.997) cub_177_Prothonotary_Warbler:(0.9999) cub_178_Swainson_Warbler:(0.9997) cub_179_Tennessee_Warbler:(0.9999) cub_180_Wilson_Warbler:(0.9998) cub_181_Worm_eating_Warbler:(0.9963) cub_182_Yellow_Warbler:(0.9997) cub_183_Northern_Waterthrush:(0.9996) cub_184_Louisiana_Waterthrush:(0.9983) cub_185_Bohemian_Waxwing:(0.991) cub_186_Cedar_Waxwing:(0.9846) cub_193_Bewick_Wren:(0.9997) cub_194_Cactus_Wren:(0.9994) cub_195_Carolina_Wren:(0.9977) cub_196_House_Wren:(0.9993) cub_197_Marsh_Wren:(0.9988) cub_198_Rock_Wren:(0.9991) cub_199_Winter_Wren:(0.9996) cub_200_Common_Yellowthroat:(0.9923) \n",
      "\t\tProto:6 cub_009_Brewer_Blackbird:(0.9941) cub_010_Red_winged_Blackbird:(0.9889) cub_011_Rusty_Blackbird:(0.993) cub_012_Yellow_headed_Blackbird:(0.99) cub_013_Bobolink:(0.9799) cub_014_Indigo_Bunting:(0.9952) cub_015_Lazuli_Bunting:(0.9883) cub_016_Painted_Bunting:(0.9842) cub_017_Cardinal:(0.9087) cub_019_Gray_Catbird:(0.9984) cub_020_Yellow_breasted_Chat:(0.9922) cub_021_Eastern_Towhee:(0.9884) cub_026_Bronzed_Cowbird:(0.9943) cub_027_Shiny_Cowbird:(0.9882) cub_028_Brown_Creeper:(0.9664) cub_034_Gray_crowned_Rosy_Finch:(0.993) cub_035_Purple_Finch:(0.9952) cub_047_American_Goldfinch:(0.9928) cub_048_European_Goldfinch:(0.9093) cub_049_Boat_tailed_Grackle:(0.9932) cub_054_Blue_Grosbeak:(0.9911) cub_055_Evening_Grosbeak:(0.9943) cub_056_Pine_Grosbeak:(0.9874) cub_057_Rose_breasted_Grosbeak:(0.9792) cub_076_Dark_eyed_Junco:(0.9808) cub_088_Western_Meadowlark:(0.9988) cub_091_Mockingbird:(0.9936) cub_094_White_breasted_Nuthatch:(0.9918) cub_095_Baltimore_Oriole:(0.9954) cub_096_Hooded_Oriole:(0.9959) cub_097_Orchard_Oriole:(0.9954) cub_098_Scott_Oriole:(0.9982) cub_099_Ovenbird:(0.997) cub_104_American_Pipit:(0.9984) cub_109_American_Redstart:(0.9893) cub_113_Baird_Sparrow:(0.998) cub_114_Black_throated_Sparrow:(0.9974) cub_115_Brewer_Sparrow:(0.9976) cub_116_Chipping_Sparrow:(0.9978) cub_117_Clay_colored_Sparrow:(0.9905) cub_118_House_Sparrow:(0.99) cub_119_Field_Sparrow:(0.9957) cub_120_Fox_Sparrow:(0.9978) cub_121_Grasshopper_Sparrow:(0.9993) cub_122_Harris_Sparrow:(0.9946) cub_123_Henslow_Sparrow:(0.9994) cub_124_Le_Conte_Sparrow:(0.9986) cub_125_Lincoln_Sparrow:(0.998) cub_126_Nelson_Sharp_tailed_Sparrow:(0.9993) cub_127_Savannah_Sparrow:(0.9986) cub_128_Seaside_Sparrow:(0.9993) cub_129_Song_Sparrow:(0.9908) cub_130_Tree_Sparrow:(0.9958) cub_131_Vesper_Sparrow:(0.9966) cub_132_White_crowned_Sparrow:(0.9906) cub_133_White_throated_Sparrow:(0.996) cub_139_Scarlet_Tanager:(0.9765) cub_140_Summer_Tanager:(0.981) cub_148_Green_tailed_Towhee:(0.9984) cub_149_Brown_Thrasher:(0.9957) cub_150_Sage_Thrasher:(0.9983) cub_158_Bay_breasted_Warbler:(0.9933) cub_159_Black_and_white_Warbler:(0.9979) cub_160_Black_throated_Blue_Warbler:(0.9852) cub_161_Blue_winged_Warbler:(0.9926) cub_162_Canada_Warbler:(0.9978) cub_163_Cape_May_Warbler:(0.9969) cub_164_Cerulean_Warbler:(0.9878) cub_165_Chestnut_sided_Warbler:(0.9913) cub_166_Golden_winged_Warbler:(0.9931) cub_167_Hooded_Warbler:(0.9936) cub_168_Kentucky_Warbler:(0.9938) cub_169_Magnolia_Warbler:(0.9666) cub_170_Mourning_Warbler:(0.9944) cub_172_Nashville_Warbler:(0.9882) cub_173_Orange_crowned_Warbler:(0.9983) cub_174_Palm_Warbler:(0.9981) cub_175_Pine_Warbler:(0.9982) cub_176_Prairie_Warbler:(0.9868) cub_177_Prothonotary_Warbler:(0.9981) cub_178_Swainson_Warbler:(0.9958) cub_179_Tennessee_Warbler:(0.9986) cub_180_Wilson_Warbler:(0.9952) cub_181_Worm_eating_Warbler:(0.9942) cub_182_Yellow_Warbler:(0.9988) cub_183_Northern_Waterthrush:(0.9982) cub_184_Louisiana_Waterthrush:(0.9958) cub_185_Bohemian_Waxwing:(0.8535) cub_186_Cedar_Waxwing:(0.9538) cub_193_Bewick_Wren:(0.9972) cub_194_Cactus_Wren:(0.9981) cub_195_Carolina_Wren:(0.9967) cub_196_House_Wren:(0.9963) cub_197_Marsh_Wren:(0.9964) cub_198_Rock_Wren:(0.9989) cub_199_Winter_Wren:(0.9915) cub_200_Common_Yellowthroat:(0.9814) \n",
      "\t Child: 136+085\n",
      "\t\tProto:10 cub_085_Horned_Lark:(0.0923) cub_136_Barn_Swallow:(0.0791) cub_137_Cliff_Swallow:(0.0838) cub_138_Tree_Swallow:(0.0778) \n",
      "\t\tProto:11 cub_085_Horned_Lark:(0.0567) cub_136_Barn_Swallow:(0.9202) cub_137_Cliff_Swallow:(0.8477) cub_138_Tree_Swallow:(0.99) \n",
      "\t\tProto:14 cub_085_Horned_Lark:(0.0837) cub_136_Barn_Swallow:(0.0793) cub_137_Cliff_Swallow:(0.085) cub_138_Tree_Swallow:(0.0824) \n",
      "\t\tProto:15 cub_085_Horned_Lark:(0.996) cub_136_Barn_Swallow:(0.132) cub_137_Cliff_Swallow:(0.1893) cub_138_Tree_Swallow:(0.1427) \n"
     ]
    },
    {
     "name": "stderr",
     "output_type": "stream",
     "text": [
      "Collecting topk: 469it [00:36, 12.77it/s]\n"
     ]
    },
    {
     "name": "stdout",
     "output_type": "stream",
     "text": [
      "Node 107+151\n",
      "\t Child: 107+111\n",
      "\t\tProto:0 cub_029_American_Crow:(0.9996) cub_030_Fish_Crow:(0.9999) cub_073_Blue_Jay:(0.6389) cub_074_Florida_Jay:(0.9364) cub_093_Clark_Nutcracker:(0.9709) cub_107_Common_Raven:(0.9995) cub_108_White_necked_Raven:(0.9997) cub_111_Loggerhead_Shrike:(0.6634) cub_112_Great_Grey_Shrike:(0.7536) \n",
      "\t\tProto:1 cub_029_American_Crow:(0.9909) cub_030_Fish_Crow:(0.9905) cub_073_Blue_Jay:(0.886) cub_074_Florida_Jay:(0.9815) cub_093_Clark_Nutcracker:(0.9875) cub_107_Common_Raven:(0.9898) cub_108_White_necked_Raven:(0.9764) cub_111_Loggerhead_Shrike:(0.9724) cub_112_Great_Grey_Shrike:(0.9564) \n",
      "\t\tProto:2 cub_029_American_Crow:(0.9996) cub_030_Fish_Crow:(0.9998) cub_073_Blue_Jay:(0.9951) cub_074_Florida_Jay:(0.9998) cub_093_Clark_Nutcracker:(0.981) cub_107_Common_Raven:(0.9988) cub_108_White_necked_Raven:(0.9995) cub_111_Loggerhead_Shrike:(0.9985) cub_112_Great_Grey_Shrike:(0.9994) \n",
      "\t\tProto:3 cub_029_American_Crow:(0.9985) cub_030_Fish_Crow:(0.9998) cub_073_Blue_Jay:(0.9988) cub_074_Florida_Jay:(0.9998) cub_093_Clark_Nutcracker:(0.9939) cub_107_Common_Raven:(0.9999) cub_108_White_necked_Raven:(0.9983) cub_111_Loggerhead_Shrike:(0.9991) cub_112_Great_Grey_Shrike:(0.9993) \n",
      "\t\tProto:7 cub_029_American_Crow:(0.9999) cub_030_Fish_Crow:(0.9999) cub_073_Blue_Jay:(0.9996) cub_074_Florida_Jay:(1.0) cub_093_Clark_Nutcracker:(0.9856) cub_107_Common_Raven:(0.9999) cub_108_White_necked_Raven:(0.9999) cub_111_Loggerhead_Shrike:(0.9995) cub_112_Great_Grey_Shrike:(0.9996) \n",
      "\t\tProto:8 cub_029_American_Crow:(0.9989) cub_030_Fish_Crow:(0.9973) cub_073_Blue_Jay:(0.9914) cub_074_Florida_Jay:(0.9993) cub_093_Clark_Nutcracker:(0.9494) cub_107_Common_Raven:(0.9992) cub_108_White_necked_Raven:(0.9988) cub_111_Loggerhead_Shrike:(0.9979) cub_112_Great_Grey_Shrike:(0.9923) \n",
      "\t\tProto:9 cub_029_American_Crow:(0.9965) cub_030_Fish_Crow:(0.9941) cub_073_Blue_Jay:(0.9988) cub_074_Florida_Jay:(0.9999) cub_093_Clark_Nutcracker:(0.999) cub_107_Common_Raven:(0.9989) cub_108_White_necked_Raven:(0.9991) cub_111_Loggerhead_Shrike:(0.9998) cub_112_Great_Grey_Shrike:(0.9997) \n",
      "\t Child: 151+153\n",
      "\t\tProto:10 cub_151_Black_capped_Vireo:(0.9933) cub_152_Blue_headed_Vireo:(0.9999) cub_153_Philadelphia_Vireo:(0.9999) cub_154_Red_eyed_Vireo:(0.9999) cub_155_Warbling_Vireo:(0.9997) cub_156_White_eyed_Vireo:(0.9999) cub_157_Yellow_throated_Vireo:(0.9998) \n",
      "\t\tProto:12 cub_151_Black_capped_Vireo:(0.9732) cub_152_Blue_headed_Vireo:(0.9926) cub_153_Philadelphia_Vireo:(0.9976) cub_154_Red_eyed_Vireo:(0.9763) cub_155_Warbling_Vireo:(0.9726) cub_156_White_eyed_Vireo:(0.9952) cub_157_Yellow_throated_Vireo:(0.9968) \n",
      "\t\tProto:13 cub_151_Black_capped_Vireo:(0.9999) cub_152_Blue_headed_Vireo:(0.9997) cub_153_Philadelphia_Vireo:(0.9999) cub_154_Red_eyed_Vireo:(0.9999) cub_155_Warbling_Vireo:(0.9994) cub_156_White_eyed_Vireo:(0.9999) cub_157_Yellow_throated_Vireo:(0.9995) \n",
      "\t\tProto:18 cub_151_Black_capped_Vireo:(0.9826) cub_152_Blue_headed_Vireo:(0.9991) cub_153_Philadelphia_Vireo:(0.9993) cub_154_Red_eyed_Vireo:(0.9695) cub_155_Warbling_Vireo:(0.9938) cub_156_White_eyed_Vireo:(0.9904) cub_157_Yellow_throated_Vireo:(0.9979) \n",
      "\t\tProto:19 cub_151_Black_capped_Vireo:(0.9999) cub_152_Blue_headed_Vireo:(0.9997) cub_153_Philadelphia_Vireo:(0.9999) cub_154_Red_eyed_Vireo:(0.9998) cub_155_Warbling_Vireo:(0.9999) cub_156_White_eyed_Vireo:(0.9998) cub_157_Yellow_throated_Vireo:(0.9996) \n"
     ]
    },
    {
     "name": "stderr",
     "output_type": "stream",
     "text": [
      "Collecting topk: 147it [00:21,  6.73it/s]\n"
     ]
    },
    {
     "name": "stdout",
     "output_type": "stream",
     "text": [
      "Node 043+040\n",
      "\t Child: 043+037\n",
      "\t\tProto:0 cub_037_Acadian_Flycatcher:(0.9889) cub_039_Least_Flycatcher:(0.9838) cub_043_Yellow_bellied_Flycatcher:(0.9923) \n",
      "\t\tProto:2 cub_037_Acadian_Flycatcher:(0.9999) cub_039_Least_Flycatcher:(0.9988) cub_043_Yellow_bellied_Flycatcher:(0.9999) \n",
      "\t\tProto:4 cub_037_Acadian_Flycatcher:(1.0) cub_039_Least_Flycatcher:(0.9999) cub_043_Yellow_bellied_Flycatcher:(1.0) \n",
      "\t\tProto:5 cub_037_Acadian_Flycatcher:(1.0) cub_039_Least_Flycatcher:(1.0) cub_043_Yellow_bellied_Flycatcher:(1.0) \n",
      "\t\tProto:8 cub_037_Acadian_Flycatcher:(0.9991) cub_039_Least_Flycatcher:(0.9995) cub_043_Yellow_bellied_Flycatcher:(0.9997) \n",
      "\t\tProto:9 cub_037_Acadian_Flycatcher:(1.0) cub_039_Least_Flycatcher:(0.9999) cub_043_Yellow_bellied_Flycatcher:(0.9999) \n",
      "\t Child: 040+102\n",
      "\t\tProto:17 cub_040_Olive_sided_Flycatcher:(1.0) cub_102_Western_Wood_Pewee:(1.0) \n",
      "\t\tProto:18 cub_040_Olive_sided_Flycatcher:(1.0) cub_102_Western_Wood_Pewee:(1.0) \n",
      "\t\tProto:11 cub_040_Olive_sided_Flycatcher:(1.0) cub_102_Western_Wood_Pewee:(0.9993) \n"
     ]
    },
    {
     "name": "stderr",
     "output_type": "stream",
     "text": [
      "Collecting topk: 89it [00:19,  4.67it/s]   \n"
     ]
    },
    {
     "name": "stdout",
     "output_type": "stream",
     "text": [
      "Node 078+041\n",
      "\t Child: 078+077\n",
      "\t\tProto:0 cub_077_Tropical_Kingbird:(1.0) cub_078_Gray_Kingbird:(1.0) \n",
      "\t\tProto:8 cub_077_Tropical_Kingbird:(1.0) cub_078_Gray_Kingbird:(0.9999) \n",
      "\t\tProto:3 cub_077_Tropical_Kingbird:(1.0) cub_078_Gray_Kingbird:(1.0) \n",
      "\t\tProto:7 cub_077_Tropical_Kingbird:(1.0) cub_078_Gray_Kingbird:(1.0) \n",
      "\t Child: cub_041_Scissor_tailed_Flycatcher\n",
      "\t\tProto:16 cub_041_Scissor_tailed_Flycatcher:(0.9989) \n",
      "\t\tProto:13 cub_041_Scissor_tailed_Flycatcher:(1.0) \n"
     ]
    },
    {
     "name": "stderr",
     "output_type": "stream",
     "text": [
      "Collecting topk: 79it [00:19,  4.10it/s]   \n"
     ]
    },
    {
     "name": "stdout",
     "output_type": "stream",
     "text": [
      "Node 192+187\n",
      "\t Child: 192+190\n",
      "\t\tProto:0 cub_190_Red_cockaded_Woodpecker:(1.0) cub_192_Downy_Woodpecker:(1.0) \n",
      "\t\tProto:7 cub_190_Red_cockaded_Woodpecker:(1.0) cub_192_Downy_Woodpecker:(1.0) \n",
      "\t Child: cub_187_American_Three_toed_Woodpecker\n",
      "\t\tProto:18 cub_187_American_Three_toed_Woodpecker:(1.0) \n",
      "\t\tProto:19 cub_187_American_Three_toed_Woodpecker:(1.0) \n"
     ]
    },
    {
     "name": "stderr",
     "output_type": "stream",
     "text": [
      "Collecting topk: 100% 60/60 [00:17<00:00,  3.35it/s]\n"
     ]
    },
    {
     "name": "stdout",
     "output_type": "stream",
     "text": [
      "Node 191+189\n",
      "\t Child: cub_191_Red_headed_Woodpecker\n",
      "\t\tProto:0 cub_191_Red_headed_Woodpecker:(1.0) \n",
      "\t\tProto:1 cub_191_Red_headed_Woodpecker:(1.0) \n",
      "\t Child: cub_189_Red_bellied_Woodpecker\n",
      "\t\tProto:17 cub_189_Red_bellied_Woodpecker:(1.0) \n",
      "\t\tProto:11 cub_189_Red_bellied_Woodpecker:(1.0) \n"
     ]
    },
    {
     "name": "stderr",
     "output_type": "stream",
     "text": [
      "Collecting topk: 100% 60/60 [00:18<00:00,  3.28it/s]\n"
     ]
    },
    {
     "name": "stdout",
     "output_type": "stream",
     "text": [
      "Node 081+080\n",
      "\t Child: cub_081_Pied_Kingfisher\n",
      "\t\tProto:8 cub_081_Pied_Kingfisher:(1.0) \n",
      "\t\tProto:1 cub_081_Pied_Kingfisher:(1.0) \n",
      "\t Child: cub_080_Green_Kingfisher\n",
      "\t\tProto:10 cub_080_Green_Kingfisher:(1.0) \n",
      "\t\tProto:18 cub_080_Green_Kingfisher:(1.0) \n"
     ]
    },
    {
     "name": "stderr",
     "output_type": "stream",
     "text": [
      "Collecting topk: 100% 60/60 [00:18<00:00,  3.33it/s]\n"
     ]
    },
    {
     "name": "stdout",
     "output_type": "stream",
     "text": [
      "Node 082+079\n",
      "\t Child: cub_082_Ringed_Kingfisher\n",
      "\t\tProto:8 cub_082_Ringed_Kingfisher:(0.9999) \n",
      "\t\tProto:1 cub_082_Ringed_Kingfisher:(0.9964) \n",
      "\t\tProto:7 cub_082_Ringed_Kingfisher:(0.9999) \n",
      "\t Child: cub_079_Belted_Kingfisher\n",
      "\t\tProto:16 cub_079_Belted_Kingfisher:(0.9999) \n",
      "\t\tProto:14 cub_079_Belted_Kingfisher:(1.0) \n",
      "Skipping node 065+066\n",
      "Skipping node 061+064\n",
      "Skipping node 144+142\n",
      "Skipping node 006+005\n",
      "Skipping node 008+106\n",
      "Skipping node 024+023\n",
      "Skipping node 100+101\n",
      "Skipping node 001+003\n"
     ]
    },
    {
     "name": "stderr",
     "output_type": "stream",
     "text": [
      "Collecting topk: 2867it [02:23, 19.94it/s]\n"
     ]
    },
    {
     "name": "stdout",
     "output_type": "stream",
     "text": [
      "Node 129+199\n",
      "\t Child: 129+118\n",
      "\t\tProto:2 cub_009_Brewer_Blackbird:(0.9981) cub_010_Red_winged_Blackbird:(0.9997) cub_011_Rusty_Blackbird:(0.9961) cub_012_Yellow_headed_Blackbird:(0.9998) cub_013_Bobolink:(0.9998) cub_014_Indigo_Bunting:(0.9995) cub_015_Lazuli_Bunting:(0.9995) cub_016_Painted_Bunting:(0.9998) cub_017_Cardinal:(0.9984) cub_020_Yellow_breasted_Chat:(0.9987) cub_021_Eastern_Towhee:(0.9997) cub_026_Bronzed_Cowbird:(0.9994) cub_027_Shiny_Cowbird:(0.9987) cub_034_Gray_crowned_Rosy_Finch:(0.9983) cub_035_Purple_Finch:(0.9992) cub_047_American_Goldfinch:(0.9994) cub_048_European_Goldfinch:(0.9998) cub_049_Boat_tailed_Grackle:(0.9984) cub_054_Blue_Grosbeak:(0.9999) cub_055_Evening_Grosbeak:(0.9997) cub_056_Pine_Grosbeak:(0.998) cub_057_Rose_breasted_Grosbeak:(0.9999) cub_076_Dark_eyed_Junco:(0.9974) cub_088_Western_Meadowlark:(0.9925) cub_095_Baltimore_Oriole:(0.9998) cub_096_Hooded_Oriole:(0.9998) cub_097_Orchard_Oriole:(0.9996) cub_098_Scott_Oriole:(0.9996) cub_099_Ovenbird:(0.9756) cub_104_American_Pipit:(0.9816) cub_109_American_Redstart:(0.9999) cub_113_Baird_Sparrow:(0.9918) cub_114_Black_throated_Sparrow:(0.9977) cub_115_Brewer_Sparrow:(0.9963) cub_116_Chipping_Sparrow:(0.9916) cub_117_Clay_colored_Sparrow:(0.9938) cub_118_House_Sparrow:(0.9965) cub_119_Field_Sparrow:(0.9932) cub_120_Fox_Sparrow:(0.9591) cub_121_Grasshopper_Sparrow:(0.9944) cub_122_Harris_Sparrow:(0.9986) cub_123_Henslow_Sparrow:(0.9965) cub_124_Le_Conte_Sparrow:(0.9993) cub_125_Lincoln_Sparrow:(0.9971) cub_126_Nelson_Sharp_tailed_Sparrow:(0.9977) cub_127_Savannah_Sparrow:(0.9986) cub_128_Seaside_Sparrow:(0.9886) cub_129_Song_Sparrow:(0.9682) cub_130_Tree_Sparrow:(0.9846) cub_131_Vesper_Sparrow:(0.9792) cub_132_White_crowned_Sparrow:(0.9918) cub_133_White_throated_Sparrow:(0.9996) cub_139_Scarlet_Tanager:(0.9975) cub_140_Summer_Tanager:(0.9912) cub_148_Green_tailed_Towhee:(0.9913) cub_158_Bay_breasted_Warbler:(0.9952) cub_159_Black_and_white_Warbler:(0.9963) cub_160_Black_throated_Blue_Warbler:(0.9997) cub_161_Blue_winged_Warbler:(0.9993) cub_162_Canada_Warbler:(0.9995) cub_163_Cape_May_Warbler:(0.9999) cub_164_Cerulean_Warbler:(0.9983) cub_165_Chestnut_sided_Warbler:(0.9982) cub_166_Golden_winged_Warbler:(0.9989) cub_167_Hooded_Warbler:(0.999) cub_168_Kentucky_Warbler:(0.9995) cub_169_Magnolia_Warbler:(0.9971) cub_170_Mourning_Warbler:(0.9971) cub_172_Nashville_Warbler:(0.9945) cub_173_Orange_crowned_Warbler:(0.995) cub_174_Palm_Warbler:(0.9998) cub_175_Pine_Warbler:(0.9978) cub_176_Prairie_Warbler:(0.9998) cub_177_Prothonotary_Warbler:(0.9949) cub_178_Swainson_Warbler:(0.9969) cub_179_Tennessee_Warbler:(0.9938) cub_180_Wilson_Warbler:(0.9984) cub_181_Worm_eating_Warbler:(0.9978) cub_182_Yellow_Warbler:(0.9959) cub_183_Northern_Waterthrush:(0.9873) cub_184_Louisiana_Waterthrush:(0.9882) cub_200_Common_Yellowthroat:(0.9999) \n",
      "\t\tProto:7 cub_009_Brewer_Blackbird:(0.9877) cub_010_Red_winged_Blackbird:(0.994) cub_011_Rusty_Blackbird:(0.9368) cub_012_Yellow_headed_Blackbird:(0.9981) cub_013_Bobolink:(0.998) cub_014_Indigo_Bunting:(0.9967) cub_015_Lazuli_Bunting:(0.9841) cub_016_Painted_Bunting:(0.9932) cub_017_Cardinal:(0.9971) cub_020_Yellow_breasted_Chat:(0.9974) cub_021_Eastern_Towhee:(0.9957) cub_026_Bronzed_Cowbird:(0.9771) cub_027_Shiny_Cowbird:(0.9803) cub_034_Gray_crowned_Rosy_Finch:(0.9788) cub_035_Purple_Finch:(0.9832) cub_047_American_Goldfinch:(0.9969) cub_048_European_Goldfinch:(0.9972) cub_049_Boat_tailed_Grackle:(0.9914) cub_054_Blue_Grosbeak:(0.9976) cub_055_Evening_Grosbeak:(0.9984) cub_056_Pine_Grosbeak:(0.9462) cub_057_Rose_breasted_Grosbeak:(0.9995) cub_076_Dark_eyed_Junco:(0.9968) cub_088_Western_Meadowlark:(0.9938) cub_095_Baltimore_Oriole:(0.9953) cub_096_Hooded_Oriole:(0.9984) cub_097_Orchard_Oriole:(0.9954) cub_098_Scott_Oriole:(0.9917) cub_099_Ovenbird:(0.9633) cub_104_American_Pipit:(0.7386) cub_109_American_Redstart:(0.9964) cub_113_Baird_Sparrow:(0.983) cub_114_Black_throated_Sparrow:(0.9919) cub_115_Brewer_Sparrow:(0.9548) cub_116_Chipping_Sparrow:(0.8919) cub_117_Clay_colored_Sparrow:(0.9819) cub_118_House_Sparrow:(0.9917) cub_119_Field_Sparrow:(0.9591) cub_120_Fox_Sparrow:(0.9396) cub_121_Grasshopper_Sparrow:(0.9393) cub_122_Harris_Sparrow:(0.9984) cub_123_Henslow_Sparrow:(0.9941) cub_124_Le_Conte_Sparrow:(0.9887) cub_125_Lincoln_Sparrow:(0.9673) cub_126_Nelson_Sharp_tailed_Sparrow:(0.993) cub_127_Savannah_Sparrow:(0.9964) cub_128_Seaside_Sparrow:(0.9734) cub_129_Song_Sparrow:(0.942) cub_130_Tree_Sparrow:(0.9315) cub_131_Vesper_Sparrow:(0.9681) cub_132_White_crowned_Sparrow:(0.9537) cub_133_White_throated_Sparrow:(0.9984) cub_139_Scarlet_Tanager:(0.9942) cub_140_Summer_Tanager:(0.9616) cub_148_Green_tailed_Towhee:(0.9361) cub_158_Bay_breasted_Warbler:(0.9111) cub_159_Black_and_white_Warbler:(0.938) cub_160_Black_throated_Blue_Warbler:(0.9906) cub_161_Blue_winged_Warbler:(0.9956) cub_162_Canada_Warbler:(0.9998) cub_163_Cape_May_Warbler:(0.9977) cub_164_Cerulean_Warbler:(0.9099) cub_165_Chestnut_sided_Warbler:(0.989) cub_166_Golden_winged_Warbler:(0.9968) cub_167_Hooded_Warbler:(0.9986) cub_168_Kentucky_Warbler:(0.9996) cub_169_Magnolia_Warbler:(0.9985) cub_170_Mourning_Warbler:(0.8515) cub_172_Nashville_Warbler:(0.9702) cub_173_Orange_crowned_Warbler:(0.9337) cub_174_Palm_Warbler:(0.9839) cub_175_Pine_Warbler:(0.9818) cub_176_Prairie_Warbler:(0.9958) cub_177_Prothonotary_Warbler:(0.9869) cub_178_Swainson_Warbler:(0.5666) cub_179_Tennessee_Warbler:(0.86) cub_180_Wilson_Warbler:(0.9976) cub_181_Worm_eating_Warbler:(0.9641) cub_182_Yellow_Warbler:(0.9875) cub_183_Northern_Waterthrush:(0.8826) cub_184_Louisiana_Waterthrush:(0.8999) cub_200_Common_Yellowthroat:(0.9971) \n",
      "\t Child: 199+186\n",
      "\t\tProto:10 cub_019_Gray_Catbird:(0.6261) cub_028_Brown_Creeper:(0.9484) cub_091_Mockingbird:(0.1681) cub_094_White_breasted_Nuthatch:(0.9827) cub_149_Brown_Thrasher:(0.0977) cub_150_Sage_Thrasher:(0.1104) cub_185_Bohemian_Waxwing:(0.0616) cub_186_Cedar_Waxwing:(0.0072) cub_193_Bewick_Wren:(0.8733) cub_194_Cactus_Wren:(0.9433) cub_195_Carolina_Wren:(0.9626) cub_196_House_Wren:(0.8188) cub_197_Marsh_Wren:(0.9562) cub_198_Rock_Wren:(0.93) cub_199_Winter_Wren:(0.9833) \n",
      "\t\tProto:13 cub_019_Gray_Catbird:(0.8648) cub_028_Brown_Creeper:(0.45) cub_091_Mockingbird:(0.0602) cub_094_White_breasted_Nuthatch:(0.3771) cub_149_Brown_Thrasher:(0.0622) cub_150_Sage_Thrasher:(0.043) cub_185_Bohemian_Waxwing:(0.1383) cub_186_Cedar_Waxwing:(0.1386) cub_193_Bewick_Wren:(0.9475) cub_194_Cactus_Wren:(0.6451) cub_195_Carolina_Wren:(0.9291) cub_196_House_Wren:(0.8837) cub_197_Marsh_Wren:(0.929) cub_198_Rock_Wren:(0.4257) cub_199_Winter_Wren:(0.9677) \n",
      "\t\tProto:14 cub_019_Gray_Catbird:(0.0531) cub_028_Brown_Creeper:(0.2766) cub_091_Mockingbird:(0.9477) cub_094_White_breasted_Nuthatch:(0.0773) cub_149_Brown_Thrasher:(0.9882) cub_150_Sage_Thrasher:(0.9929) cub_185_Bohemian_Waxwing:(0.9196) cub_186_Cedar_Waxwing:(0.9007) cub_193_Bewick_Wren:(0.5519) cub_194_Cactus_Wren:(0.6395) cub_195_Carolina_Wren:(0.6625) cub_196_House_Wren:(0.4829) cub_197_Marsh_Wren:(0.6685) cub_198_Rock_Wren:(0.4114) cub_199_Winter_Wren:(0.8389) \n",
      "\t\tProto:17 cub_019_Gray_Catbird:(0.9475) cub_028_Brown_Creeper:(0.8513) cub_091_Mockingbird:(0.4689) cub_094_White_breasted_Nuthatch:(0.8565) cub_149_Brown_Thrasher:(0.1693) cub_150_Sage_Thrasher:(0.2527) cub_185_Bohemian_Waxwing:(0.9975) cub_186_Cedar_Waxwing:(0.9957) cub_193_Bewick_Wren:(0.8254) cub_194_Cactus_Wren:(0.368) cub_195_Carolina_Wren:(0.7571) cub_196_House_Wren:(0.8057) cub_197_Marsh_Wren:(0.8548) cub_198_Rock_Wren:(0.8534) cub_199_Winter_Wren:(0.5458) \n",
      "\t\tProto:18 cub_019_Gray_Catbird:(0.1617) cub_028_Brown_Creeper:(0.499) cub_091_Mockingbird:(0.256) cub_094_White_breasted_Nuthatch:(0.464) cub_149_Brown_Thrasher:(0.4181) cub_150_Sage_Thrasher:(0.2974) cub_185_Bohemian_Waxwing:(0.5174) cub_186_Cedar_Waxwing:(0.411) cub_193_Bewick_Wren:(0.4077) cub_194_Cactus_Wren:(0.2129) cub_195_Carolina_Wren:(0.3765) cub_196_House_Wren:(0.3817) cub_197_Marsh_Wren:(0.3839) cub_198_Rock_Wren:(0.5097) cub_199_Winter_Wren:(0.4515) \n",
      "\t\tProto:19 cub_019_Gray_Catbird:(0.0908) cub_028_Brown_Creeper:(0.2345) cub_091_Mockingbird:(0.0924) cub_094_White_breasted_Nuthatch:(0.0878) cub_149_Brown_Thrasher:(0.2453) cub_150_Sage_Thrasher:(0.1481) cub_185_Bohemian_Waxwing:(0.8769) cub_186_Cedar_Waxwing:(0.9279) cub_193_Bewick_Wren:(0.1707) cub_194_Cactus_Wren:(0.1815) cub_195_Carolina_Wren:(0.1578) cub_196_House_Wren:(0.1692) cub_197_Marsh_Wren:(0.2046) cub_198_Rock_Wren:(0.1519) cub_199_Winter_Wren:(0.17) \n"
     ]
    },
    {
     "name": "stderr",
     "output_type": "stream",
     "text": [
      "Collecting topk: 120it [00:20,  5.85it/s]  \n"
     ]
    },
    {
     "name": "stdout",
     "output_type": "stream",
     "text": [
      "Node 136+085\n",
      "\t Child: 136+138\n",
      "\t\tProto:8 cub_136_Barn_Swallow:(1.0) cub_137_Cliff_Swallow:(1.0) cub_138_Tree_Swallow:(0.9999) \n",
      "\t\tProto:1 cub_136_Barn_Swallow:(1.0) cub_137_Cliff_Swallow:(1.0) cub_138_Tree_Swallow:(1.0) \n",
      "\t\tProto:3 cub_136_Barn_Swallow:(1.0) cub_137_Cliff_Swallow:(1.0) cub_138_Tree_Swallow:(1.0) \n",
      "\t Child: cub_085_Horned_Lark\n",
      "\t\tProto:17 cub_085_Horned_Lark:(1.0) \n",
      "\t\tProto:14 cub_085_Horned_Lark:(1.0) \n",
      "\t\tProto:15 cub_085_Horned_Lark:(0.9999) \n"
     ]
    },
    {
     "name": "stderr",
     "output_type": "stream",
     "text": [
      "Collecting topk: 270it [00:27,  9.92it/s]\n"
     ]
    },
    {
     "name": "stdout",
     "output_type": "stream",
     "text": [
      "Node 107+111\n",
      "\t Child: 107+073\n",
      "\t\tProto:0 cub_029_American_Crow:(0.9999) cub_030_Fish_Crow:(0.9996) cub_073_Blue_Jay:(0.9986) cub_074_Florida_Jay:(0.9979) cub_093_Clark_Nutcracker:(0.9996) cub_107_Common_Raven:(0.9999) cub_108_White_necked_Raven:(0.9995) \n",
      "\t\tProto:1 cub_029_American_Crow:(0.9999) cub_030_Fish_Crow:(0.9999) cub_073_Blue_Jay:(0.9817) cub_074_Florida_Jay:(0.9941) cub_093_Clark_Nutcracker:(0.9985) cub_107_Common_Raven:(0.9999) cub_108_White_necked_Raven:(0.9998) \n",
      "\t\tProto:5 cub_029_American_Crow:(0.9997) cub_030_Fish_Crow:(0.9999) cub_073_Blue_Jay:(0.9994) cub_074_Florida_Jay:(0.9992) cub_093_Clark_Nutcracker:(0.9995) cub_107_Common_Raven:(1.0) cub_108_White_necked_Raven:(0.9972) \n",
      "\t\tProto:6 cub_029_American_Crow:(1.0) cub_030_Fish_Crow:(1.0) cub_073_Blue_Jay:(1.0) cub_074_Florida_Jay:(0.9999) cub_093_Clark_Nutcracker:(0.9996) cub_107_Common_Raven:(1.0) cub_108_White_necked_Raven:(0.9998) \n",
      "\t\tProto:7 cub_029_American_Crow:(0.9864) cub_030_Fish_Crow:(0.9873) cub_073_Blue_Jay:(0.9557) cub_074_Florida_Jay:(0.985) cub_093_Clark_Nutcracker:(0.9983) cub_107_Common_Raven:(0.9826) cub_108_White_necked_Raven:(0.9698) \n",
      "\t\tProto:8 cub_029_American_Crow:(0.9998) cub_030_Fish_Crow:(0.9996) cub_073_Blue_Jay:(0.9946) cub_074_Florida_Jay:(0.9989) cub_093_Clark_Nutcracker:(0.9994) cub_107_Common_Raven:(0.9998) cub_108_White_necked_Raven:(0.9975) \n",
      "\t\tProto:9 cub_029_American_Crow:(0.9997) cub_030_Fish_Crow:(0.9988) cub_073_Blue_Jay:(0.9994) cub_074_Florida_Jay:(0.9997) cub_093_Clark_Nutcracker:(0.9989) cub_107_Common_Raven:(0.9994) cub_108_White_necked_Raven:(0.9995) \n",
      "\t Child: 111+112\n",
      "\t\tProto:10 cub_111_Loggerhead_Shrike:(1.0) cub_112_Great_Grey_Shrike:(1.0) \n",
      "\t\tProto:11 cub_111_Loggerhead_Shrike:(0.9999) cub_112_Great_Grey_Shrike:(0.9998) \n",
      "\t\tProto:12 cub_111_Loggerhead_Shrike:(1.0) cub_112_Great_Grey_Shrike:(1.0) \n"
     ]
    },
    {
     "name": "stderr",
     "output_type": "stream",
     "text": [
      "Collecting topk: 199it [00:24,  8.28it/s]\n"
     ]
    },
    {
     "name": "stdout",
     "output_type": "stream",
     "text": [
      "Node 151+153\n",
      "\t Child: 151+157\n",
      "\t\tProto:1 cub_151_Black_capped_Vireo:(0.9995) cub_152_Blue_headed_Vireo:(0.9995) cub_156_White_eyed_Vireo:(0.9999) cub_157_Yellow_throated_Vireo:(0.9999) \n",
      "\t\tProto:3 cub_151_Black_capped_Vireo:(1.0) cub_152_Blue_headed_Vireo:(1.0) cub_156_White_eyed_Vireo:(0.9997) cub_157_Yellow_throated_Vireo:(0.9993) \n",
      "\t\tProto:5 cub_151_Black_capped_Vireo:(0.9999) cub_152_Blue_headed_Vireo:(0.9997) cub_156_White_eyed_Vireo:(1.0) cub_157_Yellow_throated_Vireo:(0.9999) \n",
      "\t\tProto:9 cub_151_Black_capped_Vireo:(1.0) cub_152_Blue_headed_Vireo:(0.9998) cub_156_White_eyed_Vireo:(0.9999) cub_157_Yellow_throated_Vireo:(0.9998) \n",
      "\t Child: 153+154\n",
      "\t\tProto:16 cub_153_Philadelphia_Vireo:(0.9994) cub_154_Red_eyed_Vireo:(0.9995) cub_155_Warbling_Vireo:(0.9997) \n",
      "\t\tProto:18 cub_153_Philadelphia_Vireo:(0.9999) cub_154_Red_eyed_Vireo:(1.0) cub_155_Warbling_Vireo:(0.9999) \n",
      "\t\tProto:19 cub_153_Philadelphia_Vireo:(0.9999) cub_154_Red_eyed_Vireo:(0.9999) cub_155_Warbling_Vireo:(0.9999) \n",
      "\t\tProto:12 cub_153_Philadelphia_Vireo:(0.999) cub_154_Red_eyed_Vireo:(0.9998) cub_155_Warbling_Vireo:(0.9997) \n"
     ]
    },
    {
     "name": "stderr",
     "output_type": "stream",
     "text": [
      "Collecting topk: 87it [00:19,  4.53it/s]   \n"
     ]
    },
    {
     "name": "stdout",
     "output_type": "stream",
     "text": [
      "Node 043+037\n",
      "\t Child: 043+039\n",
      "\t\tProto:0 cub_039_Least_Flycatcher:(0.9999) cub_043_Yellow_bellied_Flycatcher:(0.9999) \n",
      "\t\tProto:1 cub_039_Least_Flycatcher:(0.9999) cub_043_Yellow_bellied_Flycatcher:(1.0) \n",
      "\t\tProto:7 cub_039_Least_Flycatcher:(1.0) cub_043_Yellow_bellied_Flycatcher:(1.0) \n",
      "\t Child: cub_037_Acadian_Flycatcher\n",
      "\t\tProto:16 cub_037_Acadian_Flycatcher:(0.9574) \n",
      "\t\tProto:11 cub_037_Acadian_Flycatcher:(0.9999) \n",
      "\t\tProto:12 cub_037_Acadian_Flycatcher:(0.9999) \n"
     ]
    },
    {
     "name": "stderr",
     "output_type": "stream",
     "text": [
      "Collecting topk: 100% 60/60 [00:17<00:00,  3.36it/s]\n"
     ]
    },
    {
     "name": "stdout",
     "output_type": "stream",
     "text": [
      "Node 040+102\n",
      "\t Child: cub_040_Olive_sided_Flycatcher\n",
      "\t\tProto:9 cub_040_Olive_sided_Flycatcher:(1.0) \n",
      "\t\tProto:2 cub_040_Olive_sided_Flycatcher:(1.0) \n",
      "\t\tProto:4 cub_040_Olive_sided_Flycatcher:(0.9999) \n",
      "\t Child: cub_102_Western_Wood_Pewee\n",
      "\t\tProto:10 cub_102_Western_Wood_Pewee:(1.0) \n",
      "\t\tProto:19 cub_102_Western_Wood_Pewee:(0.9999) \n",
      "\t\tProto:13 cub_102_Western_Wood_Pewee:(0.9998) \n"
     ]
    },
    {
     "name": "stderr",
     "output_type": "stream",
     "text": [
      "Collecting topk: 100% 59/59 [00:17<00:00,  3.33it/s]\n"
     ]
    },
    {
     "name": "stdout",
     "output_type": "stream",
     "text": [
      "Node 078+077\n",
      "\t Child: cub_078_Gray_Kingbird\n",
      "\t\tProto:0 cub_078_Gray_Kingbird:(1.0) \n",
      "\t\tProto:1 cub_078_Gray_Kingbird:(1.0) \n",
      "\t Child: cub_077_Tropical_Kingbird\n",
      "\t\tProto:10 cub_077_Tropical_Kingbird:(0.9999) \n",
      "\t\tProto:18 cub_077_Tropical_Kingbird:(1.0) \n",
      "\t\tProto:13 cub_077_Tropical_Kingbird:(1.0) \n"
     ]
    },
    {
     "name": "stderr",
     "output_type": "stream",
     "text": [
      "Collecting topk: 100% 59/59 [00:17<00:00,  3.35it/s]\n"
     ]
    },
    {
     "name": "stdout",
     "output_type": "stream",
     "text": [
      "Node 192+190\n",
      "\t Child: cub_192_Downy_Woodpecker\n",
      "\t\tProto:3 cub_192_Downy_Woodpecker:(1.0) \n",
      "\t\tProto:4 cub_192_Downy_Woodpecker:(1.0) \n",
      "\t Child: cub_190_Red_cockaded_Woodpecker\n",
      "\t\tProto:17 cub_190_Red_cockaded_Woodpecker:(1.0) \n",
      "\t\tProto:11 cub_190_Red_cockaded_Woodpecker:(1.0) \n",
      "\t\tProto:12 cub_190_Red_cockaded_Woodpecker:(1.0) \n",
      "Skipping node 065+062\n",
      "Skipping node 144+145\n",
      "Skipping node 006+007\n",
      "Skipping node 024+025\n",
      "Skipping node 001+002\n"
     ]
    },
    {
     "name": "stderr",
     "output_type": "stream",
     "text": [
      "Collecting topk: 2420it [02:04, 19.49it/s] \n"
     ]
    },
    {
     "name": "stdout",
     "output_type": "stream",
     "text": [
      "Node 129+118\n",
      "\t Child: 129+104\n",
      "\t\tProto:0 cub_009_Brewer_Blackbird:(0.9983) cub_010_Red_winged_Blackbird:(0.9999) cub_011_Rusty_Blackbird:(0.9968) cub_012_Yellow_headed_Blackbird:(0.9993) cub_013_Bobolink:(0.9987) cub_014_Indigo_Bunting:(0.9991) cub_015_Lazuli_Bunting:(0.9965) cub_016_Painted_Bunting:(1.0) cub_017_Cardinal:(0.9884) cub_020_Yellow_breasted_Chat:(0.9985) cub_021_Eastern_Towhee:(0.9997) cub_026_Bronzed_Cowbird:(0.9996) cub_027_Shiny_Cowbird:(0.9988) cub_034_Gray_crowned_Rosy_Finch:(0.9871) cub_035_Purple_Finch:(0.9929) cub_047_American_Goldfinch:(0.9997) cub_048_European_Goldfinch:(0.9918) cub_049_Boat_tailed_Grackle:(0.9997) cub_054_Blue_Grosbeak:(0.9995) cub_055_Evening_Grosbeak:(0.9996) cub_056_Pine_Grosbeak:(0.9805) cub_057_Rose_breasted_Grosbeak:(0.9997) cub_076_Dark_eyed_Junco:(0.9987) cub_088_Western_Meadowlark:(0.9973) cub_095_Baltimore_Oriole:(0.9983) cub_096_Hooded_Oriole:(0.9996) cub_097_Orchard_Oriole:(0.9997) cub_098_Scott_Oriole:(0.9995) cub_099_Ovenbird:(0.999) cub_104_American_Pipit:(0.9975) cub_109_American_Redstart:(1.0) cub_113_Baird_Sparrow:(0.9985) cub_114_Black_throated_Sparrow:(0.9976) cub_115_Brewer_Sparrow:(0.9942) cub_116_Chipping_Sparrow:(0.9287) cub_117_Clay_colored_Sparrow:(0.9918) cub_119_Field_Sparrow:(0.9899) cub_120_Fox_Sparrow:(0.9962) cub_121_Grasshopper_Sparrow:(0.9987) cub_122_Harris_Sparrow:(0.9989) cub_123_Henslow_Sparrow:(0.9989) cub_124_Le_Conte_Sparrow:(0.9996) cub_125_Lincoln_Sparrow:(0.9911) cub_126_Nelson_Sharp_tailed_Sparrow:(0.9979) cub_127_Savannah_Sparrow:(0.999) cub_128_Seaside_Sparrow:(0.9915) cub_129_Song_Sparrow:(0.9927) cub_130_Tree_Sparrow:(0.8859) cub_131_Vesper_Sparrow:(0.9991) cub_132_White_crowned_Sparrow:(0.9901) cub_133_White_throated_Sparrow:(0.9953) cub_139_Scarlet_Tanager:(0.9985) cub_140_Summer_Tanager:(0.998) cub_148_Green_tailed_Towhee:(0.9897) cub_158_Bay_breasted_Warbler:(0.9958) cub_159_Black_and_white_Warbler:(0.9998) cub_160_Black_throated_Blue_Warbler:(0.9996) cub_161_Blue_winged_Warbler:(0.9996) cub_162_Canada_Warbler:(0.9999) cub_163_Cape_May_Warbler:(0.9993) cub_164_Cerulean_Warbler:(0.9932) cub_165_Chestnut_sided_Warbler:(0.9993) cub_166_Golden_winged_Warbler:(0.9996) cub_167_Hooded_Warbler:(0.9999) cub_168_Kentucky_Warbler:(0.9999) cub_169_Magnolia_Warbler:(0.9999) cub_170_Mourning_Warbler:(0.9994) cub_172_Nashville_Warbler:(0.9999) cub_173_Orange_crowned_Warbler:(0.9985) cub_174_Palm_Warbler:(0.9928) cub_175_Pine_Warbler:(0.9995) cub_176_Prairie_Warbler:(0.9996) cub_177_Prothonotary_Warbler:(0.9997) cub_178_Swainson_Warbler:(0.9389) cub_179_Tennessee_Warbler:(0.9948) cub_180_Wilson_Warbler:(0.9998) cub_181_Worm_eating_Warbler:(0.9976) cub_182_Yellow_Warbler:(0.9996) cub_183_Northern_Waterthrush:(0.9855) cub_184_Louisiana_Waterthrush:(0.9958) cub_200_Common_Yellowthroat:(0.9995) \n",
      "\t\tProto:3 cub_009_Brewer_Blackbird:(0.9999) cub_010_Red_winged_Blackbird:(0.9998) cub_011_Rusty_Blackbird:(0.9994) cub_012_Yellow_headed_Blackbird:(0.9996) cub_013_Bobolink:(0.9917) cub_014_Indigo_Bunting:(0.9998) cub_015_Lazuli_Bunting:(0.9979) cub_016_Painted_Bunting:(0.9999) cub_017_Cardinal:(0.9882) cub_020_Yellow_breasted_Chat:(0.9999) cub_021_Eastern_Towhee:(0.9967) cub_026_Bronzed_Cowbird:(0.9999) cub_027_Shiny_Cowbird:(0.9999) cub_034_Gray_crowned_Rosy_Finch:(0.9802) cub_035_Purple_Finch:(0.998) cub_047_American_Goldfinch:(0.9999) cub_048_European_Goldfinch:(0.9945) cub_049_Boat_tailed_Grackle:(0.9999) cub_054_Blue_Grosbeak:(0.9991) cub_055_Evening_Grosbeak:(0.9994) cub_056_Pine_Grosbeak:(0.9746) cub_057_Rose_breasted_Grosbeak:(0.9967) cub_076_Dark_eyed_Junco:(0.9958) cub_088_Western_Meadowlark:(0.9999) cub_095_Baltimore_Oriole:(0.9999) cub_096_Hooded_Oriole:(0.9999) cub_097_Orchard_Oriole:(0.9994) cub_098_Scott_Oriole:(0.9995) cub_099_Ovenbird:(0.9991) cub_104_American_Pipit:(0.9939) cub_109_American_Redstart:(0.9996) cub_113_Baird_Sparrow:(0.9996) cub_114_Black_throated_Sparrow:(0.9574) cub_115_Brewer_Sparrow:(0.9926) cub_116_Chipping_Sparrow:(0.9556) cub_117_Clay_colored_Sparrow:(0.9976) cub_119_Field_Sparrow:(0.9949) cub_120_Fox_Sparrow:(0.9974) cub_121_Grasshopper_Sparrow:(0.9998) cub_122_Harris_Sparrow:(0.9955) cub_123_Henslow_Sparrow:(0.9999) cub_124_Le_Conte_Sparrow:(0.9998) cub_125_Lincoln_Sparrow:(0.9971) cub_126_Nelson_Sharp_tailed_Sparrow:(0.9998) cub_127_Savannah_Sparrow:(1.0) cub_128_Seaside_Sparrow:(0.999) cub_129_Song_Sparrow:(0.9985) cub_130_Tree_Sparrow:(0.9814) cub_131_Vesper_Sparrow:(0.9955) cub_132_White_crowned_Sparrow:(0.9329) cub_133_White_throated_Sparrow:(0.9981) cub_139_Scarlet_Tanager:(0.9996) cub_140_Summer_Tanager:(0.9991) cub_148_Green_tailed_Towhee:(0.9815) cub_158_Bay_breasted_Warbler:(0.9904) cub_159_Black_and_white_Warbler:(0.9997) cub_160_Black_throated_Blue_Warbler:(0.9988) cub_161_Blue_winged_Warbler:(0.9998) cub_162_Canada_Warbler:(1.0) cub_163_Cape_May_Warbler:(0.9999) cub_164_Cerulean_Warbler:(0.9875) cub_165_Chestnut_sided_Warbler:(0.9967) cub_166_Golden_winged_Warbler:(0.9982) cub_167_Hooded_Warbler:(0.9999) cub_168_Kentucky_Warbler:(0.9999) cub_169_Magnolia_Warbler:(0.9998) cub_170_Mourning_Warbler:(0.9975) cub_172_Nashville_Warbler:(1.0) cub_173_Orange_crowned_Warbler:(0.9995) cub_174_Palm_Warbler:(0.9998) cub_175_Pine_Warbler:(1.0) cub_176_Prairie_Warbler:(1.0) cub_177_Prothonotary_Warbler:(1.0) cub_178_Swainson_Warbler:(0.9913) cub_179_Tennessee_Warbler:(0.9994) cub_180_Wilson_Warbler:(1.0) cub_181_Worm_eating_Warbler:(0.9992) cub_182_Yellow_Warbler:(1.0) cub_183_Northern_Waterthrush:(0.9989) cub_184_Louisiana_Waterthrush:(0.9958) cub_200_Common_Yellowthroat:(0.9991) \n",
      "\t\tProto:6 cub_009_Brewer_Blackbird:(0.9984) cub_010_Red_winged_Blackbird:(0.9988) cub_011_Rusty_Blackbird:(0.9968) cub_012_Yellow_headed_Blackbird:(0.9994) cub_013_Bobolink:(0.9988) cub_014_Indigo_Bunting:(0.9994) cub_015_Lazuli_Bunting:(0.9997) cub_016_Painted_Bunting:(0.9998) cub_017_Cardinal:(0.9931) cub_020_Yellow_breasted_Chat:(0.9995) cub_021_Eastern_Towhee:(0.9997) cub_026_Bronzed_Cowbird:(0.9998) cub_027_Shiny_Cowbird:(0.9997) cub_034_Gray_crowned_Rosy_Finch:(0.9942) cub_035_Purple_Finch:(0.9976) cub_047_American_Goldfinch:(1.0) cub_048_European_Goldfinch:(0.9993) cub_049_Boat_tailed_Grackle:(0.9971) cub_054_Blue_Grosbeak:(0.9994) cub_055_Evening_Grosbeak:(0.9997) cub_056_Pine_Grosbeak:(0.9908) cub_057_Rose_breasted_Grosbeak:(0.9999) cub_076_Dark_eyed_Junco:(0.9996) cub_088_Western_Meadowlark:(0.9993) cub_095_Baltimore_Oriole:(0.9998) cub_096_Hooded_Oriole:(0.9999) cub_097_Orchard_Oriole:(0.9992) cub_098_Scott_Oriole:(0.9999) cub_099_Ovenbird:(0.9998) cub_104_American_Pipit:(0.9947) cub_109_American_Redstart:(0.9998) cub_113_Baird_Sparrow:(0.9998) cub_114_Black_throated_Sparrow:(0.9839) cub_115_Brewer_Sparrow:(0.9978) cub_116_Chipping_Sparrow:(0.9892) cub_117_Clay_colored_Sparrow:(0.9978) cub_119_Field_Sparrow:(0.9964) cub_120_Fox_Sparrow:(0.9907) cub_121_Grasshopper_Sparrow:(0.9995) cub_122_Harris_Sparrow:(0.9994) cub_123_Henslow_Sparrow:(0.9998) cub_124_Le_Conte_Sparrow:(0.9999) cub_125_Lincoln_Sparrow:(0.9967) cub_126_Nelson_Sharp_tailed_Sparrow:(1.0) cub_127_Savannah_Sparrow:(0.9996) cub_128_Seaside_Sparrow:(0.9998) cub_129_Song_Sparrow:(0.9936) cub_130_Tree_Sparrow:(0.948) cub_131_Vesper_Sparrow:(0.998) cub_132_White_crowned_Sparrow:(0.9897) cub_133_White_throated_Sparrow:(0.9981) cub_139_Scarlet_Tanager:(0.9997) cub_140_Summer_Tanager:(0.9993) cub_148_Green_tailed_Towhee:(0.9976) cub_158_Bay_breasted_Warbler:(0.9891) cub_159_Black_and_white_Warbler:(0.9994) cub_160_Black_throated_Blue_Warbler:(0.9991) cub_161_Blue_winged_Warbler:(0.9995) cub_162_Canada_Warbler:(0.9995) cub_163_Cape_May_Warbler:(0.9998) cub_164_Cerulean_Warbler:(0.9994) cub_165_Chestnut_sided_Warbler:(0.9955) cub_166_Golden_winged_Warbler:(0.9974) cub_167_Hooded_Warbler:(0.9999) cub_168_Kentucky_Warbler:(0.999) cub_169_Magnolia_Warbler:(0.999) cub_170_Mourning_Warbler:(0.9998) cub_172_Nashville_Warbler:(0.9983) cub_173_Orange_crowned_Warbler:(0.9997) cub_174_Palm_Warbler:(0.9971) cub_175_Pine_Warbler:(0.9996) cub_176_Prairie_Warbler:(0.9995) cub_177_Prothonotary_Warbler:(1.0) cub_178_Swainson_Warbler:(0.9786) cub_179_Tennessee_Warbler:(0.9998) cub_180_Wilson_Warbler:(1.0) cub_181_Worm_eating_Warbler:(0.9994) cub_182_Yellow_Warbler:(0.9998) cub_183_Northern_Waterthrush:(0.9976) cub_184_Louisiana_Waterthrush:(0.998) cub_200_Common_Yellowthroat:(0.9992) \n",
      "\t Child: cub_118_House_Sparrow\n",
      "\t\tProto:16 cub_118_House_Sparrow:(0.774) \n",
      "\t\tProto:11 cub_118_House_Sparrow:(0.0716) \n",
      "\t\tProto:13 cub_118_House_Sparrow:(0.0813) \n",
      "\t\tProto:14 cub_118_House_Sparrow:(0.0779) \n"
     ]
    },
    {
     "name": "stderr",
     "output_type": "stream",
     "text": [
      "Collecting topk: 447it [00:35, 12.66it/s]\n"
     ]
    },
    {
     "name": "stdout",
     "output_type": "stream",
     "text": [
      "Node 199+186\n",
      "\t Child: 199+150\n",
      "\t\tProto:1 cub_019_Gray_Catbird:(0.9817) cub_028_Brown_Creeper:(0.8192) cub_091_Mockingbird:(0.9958) cub_094_White_breasted_Nuthatch:(0.9083) cub_149_Brown_Thrasher:(0.9994) cub_150_Sage_Thrasher:(0.9999) cub_193_Bewick_Wren:(0.994) cub_194_Cactus_Wren:(0.9991) cub_195_Carolina_Wren:(0.9875) cub_196_House_Wren:(0.9816) cub_197_Marsh_Wren:(0.984) cub_198_Rock_Wren:(0.9369) cub_199_Winter_Wren:(0.9994) \n",
      "\t\tProto:2 cub_019_Gray_Catbird:(0.9999) cub_028_Brown_Creeper:(0.9962) cub_091_Mockingbird:(0.9996) cub_094_White_breasted_Nuthatch:(0.9999) cub_149_Brown_Thrasher:(0.9998) cub_150_Sage_Thrasher:(1.0) cub_193_Bewick_Wren:(0.9994) cub_194_Cactus_Wren:(0.9998) cub_195_Carolina_Wren:(0.9973) cub_196_House_Wren:(0.9999) cub_197_Marsh_Wren:(1.0) cub_198_Rock_Wren:(0.9999) cub_199_Winter_Wren:(0.9999) \n",
      "\t\tProto:3 cub_019_Gray_Catbird:(0.9945) cub_028_Brown_Creeper:(0.9978) cub_091_Mockingbird:(0.9967) cub_094_White_breasted_Nuthatch:(0.9955) cub_149_Brown_Thrasher:(0.9996) cub_150_Sage_Thrasher:(0.9994) cub_193_Bewick_Wren:(0.9987) cub_194_Cactus_Wren:(0.9988) cub_195_Carolina_Wren:(0.9972) cub_196_House_Wren:(0.9994) cub_197_Marsh_Wren:(0.9991) cub_198_Rock_Wren:(0.9995) cub_199_Winter_Wren:(0.9947) \n",
      "\t\tProto:5 cub_019_Gray_Catbird:(0.9987) cub_028_Brown_Creeper:(0.9956) cub_091_Mockingbird:(0.9995) cub_094_White_breasted_Nuthatch:(0.9987) cub_149_Brown_Thrasher:(0.9981) cub_150_Sage_Thrasher:(0.9997) cub_193_Bewick_Wren:(0.9996) cub_194_Cactus_Wren:(0.9998) cub_195_Carolina_Wren:(0.9996) cub_196_House_Wren:(0.9998) cub_197_Marsh_Wren:(0.9988) cub_198_Rock_Wren:(0.9997) cub_199_Winter_Wren:(0.9943) \n",
      "\t\tProto:6 cub_019_Gray_Catbird:(0.9996) cub_028_Brown_Creeper:(0.9991) cub_091_Mockingbird:(0.9999) cub_094_White_breasted_Nuthatch:(0.9999) cub_149_Brown_Thrasher:(0.9973) cub_150_Sage_Thrasher:(0.9999) cub_193_Bewick_Wren:(0.9998) cub_194_Cactus_Wren:(0.9998) cub_195_Carolina_Wren:(0.9997) cub_196_House_Wren:(0.9999) cub_197_Marsh_Wren:(1.0) cub_198_Rock_Wren:(1.0) cub_199_Winter_Wren:(0.9991) \n",
      "\t\tProto:9 cub_019_Gray_Catbird:(0.9968) cub_028_Brown_Creeper:(0.9957) cub_091_Mockingbird:(0.9795) cub_094_White_breasted_Nuthatch:(0.9996) cub_149_Brown_Thrasher:(0.9985) cub_150_Sage_Thrasher:(0.9921) cub_193_Bewick_Wren:(0.9995) cub_194_Cactus_Wren:(0.9983) cub_195_Carolina_Wren:(0.9991) cub_196_House_Wren:(0.9995) cub_197_Marsh_Wren:(0.9993) cub_198_Rock_Wren:(0.999) cub_199_Winter_Wren:(0.9994) \n",
      "\t Child: 186+185\n",
      "\t\tProto:19 cub_185_Bohemian_Waxwing:(0.9958) cub_186_Cedar_Waxwing:(0.9993) \n",
      "\t\tProto:11 cub_185_Bohemian_Waxwing:(0.9993) cub_186_Cedar_Waxwing:(0.9995) \n",
      "\t\tProto:14 cub_185_Bohemian_Waxwing:(1.0) cub_186_Cedar_Waxwing:(0.9999) \n",
      "\t\tProto:15 cub_185_Bohemian_Waxwing:(0.9891) cub_186_Cedar_Waxwing:(0.9963) \n"
     ]
    },
    {
     "name": "stderr",
     "output_type": "stream",
     "text": [
      "Collecting topk: 90it [00:19,  4.58it/s]   \n"
     ]
    },
    {
     "name": "stdout",
     "output_type": "stream",
     "text": [
      "Node 136+138\n",
      "\t Child: 136+137\n",
      "\t\tProto:3 cub_136_Barn_Swallow:(1.0) cub_137_Cliff_Swallow:(1.0) \n",
      "\t\tProto:5 cub_136_Barn_Swallow:(0.9999) cub_137_Cliff_Swallow:(1.0) \n",
      "\t\tProto:6 cub_136_Barn_Swallow:(1.0) cub_137_Cliff_Swallow:(1.0) \n",
      "\t Child: cub_138_Tree_Swallow\n",
      "\t\tProto:19 cub_138_Tree_Swallow:(1.0) \n",
      "\t\tProto:15 cub_138_Tree_Swallow:(1.0) \n"
     ]
    },
    {
     "name": "stderr",
     "output_type": "stream",
     "text": [
      "Collecting topk: 210it [00:24,  8.52it/s]\n"
     ]
    },
    {
     "name": "stdout",
     "output_type": "stream",
     "text": [
      "Node 107+073\n",
      "\t Child: 107+093\n",
      "\t\tProto:2 cub_029_American_Crow:(0.9939) cub_030_Fish_Crow:(0.9944) cub_093_Clark_Nutcracker:(0.9856) cub_107_Common_Raven:(0.9865) cub_108_White_necked_Raven:(0.988) \n",
      "\t\tProto:3 cub_029_American_Crow:(0.9998) cub_030_Fish_Crow:(0.9999) cub_093_Clark_Nutcracker:(0.9989) cub_107_Common_Raven:(0.9999) cub_108_White_necked_Raven:(0.9985) \n",
      "\t\tProto:5 cub_029_American_Crow:(0.9999) cub_030_Fish_Crow:(0.9999) cub_093_Clark_Nutcracker:(0.9936) cub_107_Common_Raven:(0.9999) cub_108_White_necked_Raven:(1.0) \n",
      "\t\tProto:7 cub_029_American_Crow:(0.8629) cub_030_Fish_Crow:(0.9258) cub_093_Clark_Nutcracker:(0.8964) cub_107_Common_Raven:(0.8324) cub_108_White_necked_Raven:(0.9108) \n",
      "\t\tProto:8 cub_029_American_Crow:(0.9998) cub_030_Fish_Crow:(0.9999) cub_093_Clark_Nutcracker:(0.9985) cub_107_Common_Raven:(0.9999) cub_108_White_necked_Raven:(0.9999) \n",
      "\t\tProto:9 cub_029_American_Crow:(1.0) cub_030_Fish_Crow:(0.9999) cub_093_Clark_Nutcracker:(0.9998) cub_107_Common_Raven:(0.9998) cub_108_White_necked_Raven:(0.9999) \n",
      "\t Child: 073+074\n",
      "\t\tProto:16 cub_073_Blue_Jay:(0.9967) cub_074_Florida_Jay:(0.9955) \n",
      "\t\tProto:17 cub_073_Blue_Jay:(1.0) cub_074_Florida_Jay:(0.9999) \n",
      "\t\tProto:19 cub_073_Blue_Jay:(1.0) cub_074_Florida_Jay:(1.0) \n"
     ]
    },
    {
     "name": "stderr",
     "output_type": "stream",
     "text": [
      "Collecting topk: 100% 60/60 [00:18<00:00,  3.27it/s]\n"
     ]
    },
    {
     "name": "stdout",
     "output_type": "stream",
     "text": [
      "Node 111+112\n",
      "\t Child: cub_111_Loggerhead_Shrike\n",
      "\t\tProto:0 cub_111_Loggerhead_Shrike:(0.9998) \n",
      "\t\tProto:4 cub_111_Loggerhead_Shrike:(1.0) \n",
      "\t Child: cub_112_Great_Grey_Shrike\n",
      "\t\tProto:19 cub_112_Great_Grey_Shrike:(0.9744) \n",
      "\t\tProto:10 cub_112_Great_Grey_Shrike:(1.0) \n",
      "\t\tProto:18 cub_112_Great_Grey_Shrike:(1.0) \n"
     ]
    },
    {
     "name": "stderr",
     "output_type": "stream",
     "text": [
      "Collecting topk: 110it [00:20,  5.38it/s]\n"
     ]
    },
    {
     "name": "stdout",
     "output_type": "stream",
     "text": [
      "Node 151+157\n",
      "\t Child: 151+156\n",
      "\t\tProto:2 cub_151_Black_capped_Vireo:(1.0) cub_156_White_eyed_Vireo:(1.0) \n",
      "\t\tProto:4 cub_151_Black_capped_Vireo:(1.0) cub_156_White_eyed_Vireo:(1.0) \n",
      "\t\tProto:5 cub_151_Black_capped_Vireo:(0.9999) cub_156_White_eyed_Vireo:(1.0) \n",
      "\t Child: 157+152\n",
      "\t\tProto:11 cub_152_Blue_headed_Vireo:(1.0) cub_157_Yellow_throated_Vireo:(1.0) \n",
      "\t\tProto:12 cub_152_Blue_headed_Vireo:(1.0) cub_157_Yellow_throated_Vireo:(0.9993) \n",
      "\t\tProto:13 cub_152_Blue_headed_Vireo:(0.9984) cub_157_Yellow_throated_Vireo:(0.9999) \n"
     ]
    },
    {
     "name": "stderr",
     "output_type": "stream",
     "text": [
      "Collecting topk: 89it [00:19,  4.51it/s]   \n"
     ]
    },
    {
     "name": "stdout",
     "output_type": "stream",
     "text": [
      "Node 153+154\n",
      "\t Child: 153+155\n",
      "\t\tProto:9 cub_153_Philadelphia_Vireo:(1.0) cub_155_Warbling_Vireo:(1.0) \n",
      "\t\tProto:3 cub_153_Philadelphia_Vireo:(1.0) cub_155_Warbling_Vireo:(0.9999) \n",
      "\t\tProto:5 cub_153_Philadelphia_Vireo:(1.0) cub_155_Warbling_Vireo:(1.0) \n",
      "\t Child: cub_154_Red_eyed_Vireo\n",
      "\t\tProto:19 cub_154_Red_eyed_Vireo:(0.9998) \n",
      "\t\tProto:11 cub_154_Red_eyed_Vireo:(1.0) \n",
      "\t\tProto:15 cub_154_Red_eyed_Vireo:(1.0) \n"
     ]
    },
    {
     "name": "stderr",
     "output_type": "stream",
     "text": [
      "Collecting topk: 100% 58/58 [00:17<00:00,  3.22it/s]\n"
     ]
    },
    {
     "name": "stdout",
     "output_type": "stream",
     "text": [
      "Node 043+039\n",
      "\t Child: cub_043_Yellow_bellied_Flycatcher\n",
      "\t\tProto:2 cub_043_Yellow_bellied_Flycatcher:(0.9999) \n",
      "\t\tProto:3 cub_043_Yellow_bellied_Flycatcher:(1.0) \n",
      "\t\tProto:4 cub_043_Yellow_bellied_Flycatcher:(0.9884) \n",
      "\t Child: cub_039_Least_Flycatcher\n",
      "\t\tProto:18 cub_039_Least_Flycatcher:(0.9999) \n",
      "\t\tProto:11 cub_039_Least_Flycatcher:(1.0) \n",
      "Skipping node 065+059\n",
      "Skipping node 144+146\n"
     ]
    },
    {
     "name": "stderr",
     "output_type": "stream",
     "text": [
      "Collecting topk: 2390it [02:03, 19.41it/s] \n"
     ]
    },
    {
     "name": "stdout",
     "output_type": "stream",
     "text": [
      "Node 129+104\n",
      "\t Child: 129+035\n",
      "\t\tProto:1 cub_009_Brewer_Blackbird:(0.984) cub_010_Red_winged_Blackbird:(0.9982) cub_011_Rusty_Blackbird:(0.9953) cub_012_Yellow_headed_Blackbird:(0.9989) cub_013_Bobolink:(0.9999) cub_014_Indigo_Bunting:(0.9967) cub_015_Lazuli_Bunting:(0.9997) cub_016_Painted_Bunting:(0.9985) cub_017_Cardinal:(0.999) cub_020_Yellow_breasted_Chat:(0.997) cub_021_Eastern_Towhee:(0.9979) cub_026_Bronzed_Cowbird:(0.9919) cub_027_Shiny_Cowbird:(0.9987) cub_034_Gray_crowned_Rosy_Finch:(0.9969) cub_035_Purple_Finch:(0.9959) cub_047_American_Goldfinch:(0.9999) cub_048_European_Goldfinch:(0.9998) cub_049_Boat_tailed_Grackle:(0.9954) cub_054_Blue_Grosbeak:(0.9991) cub_055_Evening_Grosbeak:(0.9981) cub_056_Pine_Grosbeak:(0.9968) cub_057_Rose_breasted_Grosbeak:(0.9999) cub_076_Dark_eyed_Junco:(0.9981) cub_088_Western_Meadowlark:(0.9884) cub_095_Baltimore_Oriole:(0.9995) cub_096_Hooded_Oriole:(0.9999) cub_097_Orchard_Oriole:(0.9988) cub_098_Scott_Oriole:(0.9984) cub_099_Ovenbird:(0.9749) cub_109_American_Redstart:(0.9959) cub_113_Baird_Sparrow:(0.966) cub_114_Black_throated_Sparrow:(0.9997) cub_115_Brewer_Sparrow:(0.9516) cub_116_Chipping_Sparrow:(0.9996) cub_117_Clay_colored_Sparrow:(0.9895) cub_119_Field_Sparrow:(0.9932) cub_120_Fox_Sparrow:(0.9699) cub_121_Grasshopper_Sparrow:(0.9991) cub_122_Harris_Sparrow:(0.9991) cub_123_Henslow_Sparrow:(0.998) cub_124_Le_Conte_Sparrow:(0.9972) cub_125_Lincoln_Sparrow:(0.9849) cub_126_Nelson_Sharp_tailed_Sparrow:(0.994) cub_127_Savannah_Sparrow:(0.9892) cub_128_Seaside_Sparrow:(0.9957) cub_129_Song_Sparrow:(0.9798) cub_130_Tree_Sparrow:(0.9981) cub_131_Vesper_Sparrow:(0.9396) cub_132_White_crowned_Sparrow:(0.9994) cub_133_White_throated_Sparrow:(0.9941) cub_139_Scarlet_Tanager:(0.999) cub_140_Summer_Tanager:(0.9901) cub_148_Green_tailed_Towhee:(0.9974) cub_158_Bay_breasted_Warbler:(0.9975) cub_159_Black_and_white_Warbler:(0.9951) cub_160_Black_throated_Blue_Warbler:(0.9993) cub_161_Blue_winged_Warbler:(0.9992) cub_162_Canada_Warbler:(0.9993) cub_163_Cape_May_Warbler:(0.9973) cub_164_Cerulean_Warbler:(0.9986) cub_165_Chestnut_sided_Warbler:(0.9991) cub_166_Golden_winged_Warbler:(0.9993) cub_167_Hooded_Warbler:(0.9996) cub_168_Kentucky_Warbler:(0.9979) cub_169_Magnolia_Warbler:(0.9971) cub_170_Mourning_Warbler:(0.9974) cub_172_Nashville_Warbler:(0.992) cub_173_Orange_crowned_Warbler:(0.9878) cub_174_Palm_Warbler:(0.995) cub_175_Pine_Warbler:(0.9968) cub_176_Prairie_Warbler:(0.9985) cub_177_Prothonotary_Warbler:(0.9992) cub_178_Swainson_Warbler:(0.9954) cub_179_Tennessee_Warbler:(0.9968) cub_180_Wilson_Warbler:(0.9985) cub_181_Worm_eating_Warbler:(0.9979) cub_182_Yellow_Warbler:(0.9987) cub_183_Northern_Waterthrush:(0.9839) cub_184_Louisiana_Waterthrush:(0.9965) cub_200_Common_Yellowthroat:(0.9967) \n",
      "\t\tProto:4 cub_009_Brewer_Blackbird:(0.9985) cub_010_Red_winged_Blackbird:(0.9989) cub_011_Rusty_Blackbird:(0.9992) cub_012_Yellow_headed_Blackbird:(0.9995) cub_013_Bobolink:(0.9979) cub_014_Indigo_Bunting:(0.9991) cub_015_Lazuli_Bunting:(0.9996) cub_016_Painted_Bunting:(0.9994) cub_017_Cardinal:(0.9993) cub_020_Yellow_breasted_Chat:(0.9971) cub_021_Eastern_Towhee:(0.9998) cub_026_Bronzed_Cowbird:(0.9986) cub_027_Shiny_Cowbird:(0.9994) cub_034_Gray_crowned_Rosy_Finch:(0.9997) cub_035_Purple_Finch:(0.998) cub_047_American_Goldfinch:(0.9991) cub_048_European_Goldfinch:(0.9995) cub_049_Boat_tailed_Grackle:(0.9995) cub_054_Blue_Grosbeak:(0.9996) cub_055_Evening_Grosbeak:(0.9998) cub_056_Pine_Grosbeak:(0.9987) cub_057_Rose_breasted_Grosbeak:(0.9985) cub_076_Dark_eyed_Junco:(0.9992) cub_088_Western_Meadowlark:(0.9997) cub_095_Baltimore_Oriole:(0.999) cub_096_Hooded_Oriole:(0.9999) cub_097_Orchard_Oriole:(0.9991) cub_098_Scott_Oriole:(0.9995) cub_099_Ovenbird:(0.9991) cub_109_American_Redstart:(0.9987) cub_113_Baird_Sparrow:(0.9961) cub_114_Black_throated_Sparrow:(0.9997) cub_115_Brewer_Sparrow:(0.9916) cub_116_Chipping_Sparrow:(0.9998) cub_117_Clay_colored_Sparrow:(0.9958) cub_119_Field_Sparrow:(0.9977) cub_120_Fox_Sparrow:(0.9599) cub_121_Grasshopper_Sparrow:(0.9998) cub_122_Harris_Sparrow:(0.9996) cub_123_Henslow_Sparrow:(0.9998) cub_124_Le_Conte_Sparrow:(0.9986) cub_125_Lincoln_Sparrow:(0.9985) cub_126_Nelson_Sharp_tailed_Sparrow:(0.9999) cub_127_Savannah_Sparrow:(0.999) cub_128_Seaside_Sparrow:(0.9989) cub_129_Song_Sparrow:(0.9981) cub_130_Tree_Sparrow:(0.9995) cub_131_Vesper_Sparrow:(0.9795) cub_132_White_crowned_Sparrow:(0.9997) cub_133_White_throated_Sparrow:(0.9996) cub_139_Scarlet_Tanager:(0.9997) cub_140_Summer_Tanager:(0.9973) cub_148_Green_tailed_Towhee:(0.9994) cub_158_Bay_breasted_Warbler:(0.9998) cub_159_Black_and_white_Warbler:(0.9977) cub_160_Black_throated_Blue_Warbler:(0.9998) cub_161_Blue_winged_Warbler:(0.9994) cub_162_Canada_Warbler:(0.9999) cub_163_Cape_May_Warbler:(0.9991) cub_164_Cerulean_Warbler:(0.9997) cub_165_Chestnut_sided_Warbler:(0.999) cub_166_Golden_winged_Warbler:(0.9991) cub_167_Hooded_Warbler:(0.9998) cub_168_Kentucky_Warbler:(0.9999) cub_169_Magnolia_Warbler:(0.9957) cub_170_Mourning_Warbler:(0.9999) cub_172_Nashville_Warbler:(0.9985) cub_173_Orange_crowned_Warbler:(0.9989) cub_174_Palm_Warbler:(0.9983) cub_175_Pine_Warbler:(0.9994) cub_176_Prairie_Warbler:(0.9992) cub_177_Prothonotary_Warbler:(0.9995) cub_178_Swainson_Warbler:(0.999) cub_179_Tennessee_Warbler:(0.9985) cub_180_Wilson_Warbler:(0.9997) cub_181_Worm_eating_Warbler:(0.9999) cub_182_Yellow_Warbler:(0.9997) cub_183_Northern_Waterthrush:(0.9965) cub_184_Louisiana_Waterthrush:(0.9992) cub_200_Common_Yellowthroat:(0.9987) \n",
      "\t\tProto:6 cub_009_Brewer_Blackbird:(0.9939) cub_010_Red_winged_Blackbird:(0.9984) cub_011_Rusty_Blackbird:(0.9977) cub_012_Yellow_headed_Blackbird:(0.9952) cub_013_Bobolink:(0.996) cub_014_Indigo_Bunting:(0.9948) cub_015_Lazuli_Bunting:(0.9981) cub_016_Painted_Bunting:(0.9979) cub_017_Cardinal:(0.9988) cub_020_Yellow_breasted_Chat:(0.989) cub_021_Eastern_Towhee:(0.9993) cub_026_Bronzed_Cowbird:(0.9996) cub_027_Shiny_Cowbird:(0.9938) cub_034_Gray_crowned_Rosy_Finch:(0.9983) cub_035_Purple_Finch:(0.9969) cub_047_American_Goldfinch:(0.9986) cub_048_European_Goldfinch:(0.9991) cub_049_Boat_tailed_Grackle:(0.9944) cub_054_Blue_Grosbeak:(0.994) cub_055_Evening_Grosbeak:(0.9959) cub_056_Pine_Grosbeak:(0.9976) cub_057_Rose_breasted_Grosbeak:(0.9987) cub_076_Dark_eyed_Junco:(0.9998) cub_088_Western_Meadowlark:(0.9885) cub_095_Baltimore_Oriole:(0.9993) cub_096_Hooded_Oriole:(0.9971) cub_097_Orchard_Oriole:(0.9986) cub_098_Scott_Oriole:(0.9924) cub_099_Ovenbird:(0.9907) cub_109_American_Redstart:(0.9991) cub_113_Baird_Sparrow:(0.9853) cub_114_Black_throated_Sparrow:(0.9976) cub_115_Brewer_Sparrow:(0.9742) cub_116_Chipping_Sparrow:(0.9984) cub_117_Clay_colored_Sparrow:(0.9949) cub_119_Field_Sparrow:(0.9891) cub_120_Fox_Sparrow:(0.9813) cub_121_Grasshopper_Sparrow:(0.9914) cub_122_Harris_Sparrow:(0.9996) cub_123_Henslow_Sparrow:(0.9884) cub_124_Le_Conte_Sparrow:(0.9975) cub_125_Lincoln_Sparrow:(0.9809) cub_126_Nelson_Sharp_tailed_Sparrow:(0.9992) cub_127_Savannah_Sparrow:(0.9828) cub_128_Seaside_Sparrow:(0.9994) cub_129_Song_Sparrow:(0.9832) cub_130_Tree_Sparrow:(0.9959) cub_131_Vesper_Sparrow:(0.9264) cub_132_White_crowned_Sparrow:(0.998) cub_133_White_throated_Sparrow:(0.9971) cub_139_Scarlet_Tanager:(0.9908) cub_140_Summer_Tanager:(0.9814) cub_148_Green_tailed_Towhee:(0.9987) cub_158_Bay_breasted_Warbler:(0.9989) cub_159_Black_and_white_Warbler:(0.9894) cub_160_Black_throated_Blue_Warbler:(0.9889) cub_161_Blue_winged_Warbler:(0.9968) cub_162_Canada_Warbler:(0.9988) cub_163_Cape_May_Warbler:(0.9916) cub_164_Cerulean_Warbler:(0.9957) cub_165_Chestnut_sided_Warbler:(0.997) cub_166_Golden_winged_Warbler:(0.9978) cub_167_Hooded_Warbler:(0.9981) cub_168_Kentucky_Warbler:(0.9974) cub_169_Magnolia_Warbler:(0.9904) cub_170_Mourning_Warbler:(0.9993) cub_172_Nashville_Warbler:(0.9951) cub_173_Orange_crowned_Warbler:(0.9893) cub_174_Palm_Warbler:(0.9975) cub_175_Pine_Warbler:(0.9989) cub_176_Prairie_Warbler:(0.9982) cub_177_Prothonotary_Warbler:(0.9982) cub_178_Swainson_Warbler:(0.9978) cub_179_Tennessee_Warbler:(0.9783) cub_180_Wilson_Warbler:(0.9983) cub_181_Worm_eating_Warbler:(0.9983) cub_182_Yellow_Warbler:(0.9952) cub_183_Northern_Waterthrush:(0.9976) cub_184_Louisiana_Waterthrush:(0.9956) cub_200_Common_Yellowthroat:(0.9935) \n",
      "\t\tProto:7 cub_009_Brewer_Blackbird:(0.9931) cub_010_Red_winged_Blackbird:(0.9995) cub_011_Rusty_Blackbird:(0.9923) cub_012_Yellow_headed_Blackbird:(0.9996) cub_013_Bobolink:(0.9989) cub_014_Indigo_Bunting:(0.9994) cub_015_Lazuli_Bunting:(0.9999) cub_016_Painted_Bunting:(0.9998) cub_017_Cardinal:(0.9922) cub_020_Yellow_breasted_Chat:(0.999) cub_021_Eastern_Towhee:(0.9993) cub_026_Bronzed_Cowbird:(0.9992) cub_027_Shiny_Cowbird:(0.9991) cub_034_Gray_crowned_Rosy_Finch:(0.9983) cub_035_Purple_Finch:(0.9936) cub_047_American_Goldfinch:(0.9997) cub_048_European_Goldfinch:(0.9989) cub_049_Boat_tailed_Grackle:(0.9977) cub_054_Blue_Grosbeak:(0.9996) cub_055_Evening_Grosbeak:(0.9998) cub_056_Pine_Grosbeak:(0.9939) cub_057_Rose_breasted_Grosbeak:(0.9993) cub_076_Dark_eyed_Junco:(0.9972) cub_088_Western_Meadowlark:(0.9976) cub_095_Baltimore_Oriole:(0.9984) cub_096_Hooded_Oriole:(0.9997) cub_097_Orchard_Oriole:(0.9996) cub_098_Scott_Oriole:(0.9986) cub_099_Ovenbird:(0.9934) cub_109_American_Redstart:(0.9996) cub_113_Baird_Sparrow:(0.9641) cub_114_Black_throated_Sparrow:(0.9986) cub_115_Brewer_Sparrow:(0.9833) cub_116_Chipping_Sparrow:(0.9998) cub_117_Clay_colored_Sparrow:(0.9942) cub_119_Field_Sparrow:(0.9917) cub_120_Fox_Sparrow:(0.8887) cub_121_Grasshopper_Sparrow:(0.9921) cub_122_Harris_Sparrow:(0.9983) cub_123_Henslow_Sparrow:(0.9931) cub_124_Le_Conte_Sparrow:(0.9973) cub_125_Lincoln_Sparrow:(0.9982) cub_126_Nelson_Sharp_tailed_Sparrow:(0.9994) cub_127_Savannah_Sparrow:(0.9958) cub_128_Seaside_Sparrow:(0.9975) cub_129_Song_Sparrow:(0.9865) cub_130_Tree_Sparrow:(0.9995) cub_131_Vesper_Sparrow:(0.8502) cub_132_White_crowned_Sparrow:(0.9997) cub_133_White_throated_Sparrow:(0.9999) cub_139_Scarlet_Tanager:(0.9987) cub_140_Summer_Tanager:(0.9934) cub_148_Green_tailed_Towhee:(0.9992) cub_158_Bay_breasted_Warbler:(0.9992) cub_159_Black_and_white_Warbler:(0.9992) cub_160_Black_throated_Blue_Warbler:(0.9998) cub_161_Blue_winged_Warbler:(0.9994) cub_162_Canada_Warbler:(0.9964) cub_163_Cape_May_Warbler:(0.9996) cub_164_Cerulean_Warbler:(0.9998) cub_165_Chestnut_sided_Warbler:(0.9997) cub_166_Golden_winged_Warbler:(0.9992) cub_167_Hooded_Warbler:(0.9997) cub_168_Kentucky_Warbler:(0.9993) cub_169_Magnolia_Warbler:(0.9976) cub_170_Mourning_Warbler:(0.9993) cub_172_Nashville_Warbler:(0.9972) cub_173_Orange_crowned_Warbler:(0.9871) cub_174_Palm_Warbler:(0.9976) cub_175_Pine_Warbler:(0.9953) cub_176_Prairie_Warbler:(0.9956) cub_177_Prothonotary_Warbler:(0.9984) cub_178_Swainson_Warbler:(0.9954) cub_179_Tennessee_Warbler:(0.9915) cub_180_Wilson_Warbler:(0.998) cub_181_Worm_eating_Warbler:(0.9979) cub_182_Yellow_Warbler:(0.995) cub_183_Northern_Waterthrush:(0.9936) cub_184_Louisiana_Waterthrush:(0.9935) cub_200_Common_Yellowthroat:(0.9998) \n",
      "\t\tProto:8 cub_009_Brewer_Blackbird:(0.9973) cub_010_Red_winged_Blackbird:(0.9973) cub_011_Rusty_Blackbird:(0.9897) cub_012_Yellow_headed_Blackbird:(0.9998) cub_013_Bobolink:(0.9988) cub_014_Indigo_Bunting:(0.999) cub_015_Lazuli_Bunting:(0.9993) cub_016_Painted_Bunting:(0.9979) cub_017_Cardinal:(0.9997) cub_020_Yellow_breasted_Chat:(0.9991) cub_021_Eastern_Towhee:(0.9992) cub_026_Bronzed_Cowbird:(0.9975) cub_027_Shiny_Cowbird:(0.9949) cub_034_Gray_crowned_Rosy_Finch:(0.999) cub_035_Purple_Finch:(0.999) cub_047_American_Goldfinch:(0.9999) cub_048_European_Goldfinch:(0.9999) cub_049_Boat_tailed_Grackle:(0.9946) cub_054_Blue_Grosbeak:(0.999) cub_055_Evening_Grosbeak:(0.9981) cub_056_Pine_Grosbeak:(0.9994) cub_057_Rose_breasted_Grosbeak:(0.9989) cub_076_Dark_eyed_Junco:(0.9978) cub_088_Western_Meadowlark:(0.9879) cub_095_Baltimore_Oriole:(0.9985) cub_096_Hooded_Oriole:(0.9992) cub_097_Orchard_Oriole:(0.9969) cub_098_Scott_Oriole:(0.9991) cub_099_Ovenbird:(0.9882) cub_109_American_Redstart:(0.998) cub_113_Baird_Sparrow:(0.9909) cub_114_Black_throated_Sparrow:(0.9993) cub_115_Brewer_Sparrow:(0.9851) cub_116_Chipping_Sparrow:(0.9999) cub_117_Clay_colored_Sparrow:(0.9953) cub_119_Field_Sparrow:(0.9965) cub_120_Fox_Sparrow:(0.982) cub_121_Grasshopper_Sparrow:(0.9971) cub_122_Harris_Sparrow:(0.9996) cub_123_Henslow_Sparrow:(0.9996) cub_124_Le_Conte_Sparrow:(0.9999) cub_125_Lincoln_Sparrow:(0.9975) cub_126_Nelson_Sharp_tailed_Sparrow:(0.9998) cub_127_Savannah_Sparrow:(0.9987) cub_128_Seaside_Sparrow:(0.9925) cub_129_Song_Sparrow:(0.997) cub_130_Tree_Sparrow:(0.9997) cub_131_Vesper_Sparrow:(0.9278) cub_132_White_crowned_Sparrow:(0.9996) cub_133_White_throated_Sparrow:(0.9998) cub_139_Scarlet_Tanager:(0.9991) cub_140_Summer_Tanager:(0.9839) cub_148_Green_tailed_Towhee:(0.9998) cub_158_Bay_breasted_Warbler:(0.9985) cub_159_Black_and_white_Warbler:(0.9974) cub_160_Black_throated_Blue_Warbler:(0.9982) cub_161_Blue_winged_Warbler:(0.9996) cub_162_Canada_Warbler:(0.997) cub_163_Cape_May_Warbler:(0.9994) cub_164_Cerulean_Warbler:(0.9979) cub_165_Chestnut_sided_Warbler:(0.9998) cub_166_Golden_winged_Warbler:(0.9995) cub_167_Hooded_Warbler:(0.9991) cub_168_Kentucky_Warbler:(0.9977) cub_169_Magnolia_Warbler:(0.9981) cub_170_Mourning_Warbler:(0.9986) cub_172_Nashville_Warbler:(0.999) cub_173_Orange_crowned_Warbler:(0.9994) cub_174_Palm_Warbler:(0.9995) cub_175_Pine_Warbler:(0.9993) cub_176_Prairie_Warbler:(0.9993) cub_177_Prothonotary_Warbler:(0.9997) cub_178_Swainson_Warbler:(0.998) cub_179_Tennessee_Warbler:(0.9992) cub_180_Wilson_Warbler:(0.9998) cub_181_Worm_eating_Warbler:(0.9994) cub_182_Yellow_Warbler:(0.9996) cub_183_Northern_Waterthrush:(0.9964) cub_184_Louisiana_Waterthrush:(0.9972) cub_200_Common_Yellowthroat:(0.9899) \n",
      "\t Child: cub_104_American_Pipit\n",
      "\t\tProto:10 cub_104_American_Pipit:(0.0943) \n",
      "\t\tProto:18 cub_104_American_Pipit:(0.9825) \n"
     ]
    },
    {
     "name": "stderr",
     "output_type": "stream",
     "text": [
      "Collecting topk: 387it [00:32, 11.81it/s]\n"
     ]
    },
    {
     "name": "stdout",
     "output_type": "stream",
     "text": [
      "Node 199+150\n",
      "\t Child: 199+094\n",
      "\t\tProto:0 cub_028_Brown_Creeper:(0.9802) cub_094_White_breasted_Nuthatch:(0.9928) cub_193_Bewick_Wren:(0.9989) cub_194_Cactus_Wren:(0.9976) cub_195_Carolina_Wren:(0.9981) cub_196_House_Wren:(0.9989) cub_197_Marsh_Wren:(0.9989) cub_198_Rock_Wren:(0.9984) cub_199_Winter_Wren:(0.9969) \n",
      "\t\tProto:2 cub_028_Brown_Creeper:(0.9995) cub_094_White_breasted_Nuthatch:(0.9997) cub_193_Bewick_Wren:(0.9999) cub_194_Cactus_Wren:(0.9977) cub_195_Carolina_Wren:(0.9997) cub_196_House_Wren:(0.9994) cub_197_Marsh_Wren:(0.9996) cub_198_Rock_Wren:(0.9992) cub_199_Winter_Wren:(0.9999) \n",
      "\t\tProto:5 cub_028_Brown_Creeper:(0.9807) cub_094_White_breasted_Nuthatch:(0.9285) cub_193_Bewick_Wren:(0.9993) cub_194_Cactus_Wren:(0.9676) cub_195_Carolina_Wren:(0.9832) cub_196_House_Wren:(0.9943) cub_197_Marsh_Wren:(0.997) cub_198_Rock_Wren:(0.9922) cub_199_Winter_Wren:(0.9988) \n",
      "\t\tProto:7 cub_028_Brown_Creeper:(0.9942) cub_094_White_breasted_Nuthatch:(0.9742) cub_193_Bewick_Wren:(0.9996) cub_194_Cactus_Wren:(0.9739) cub_195_Carolina_Wren:(0.9993) cub_196_House_Wren:(0.9966) cub_197_Marsh_Wren:(0.9994) cub_198_Rock_Wren:(0.9991) cub_199_Winter_Wren:(0.9998) \n",
      "\t\tProto:8 cub_028_Brown_Creeper:(0.9357) cub_094_White_breasted_Nuthatch:(0.9122) cub_193_Bewick_Wren:(0.9971) cub_194_Cactus_Wren:(0.9788) cub_195_Carolina_Wren:(0.9982) cub_196_House_Wren:(0.9986) cub_197_Marsh_Wren:(0.9965) cub_198_Rock_Wren:(0.9531) cub_199_Winter_Wren:(0.9999) \n",
      "\t\tProto:9 cub_028_Brown_Creeper:(0.9962) cub_094_White_breasted_Nuthatch:(0.961) cub_193_Bewick_Wren:(0.994) cub_194_Cactus_Wren:(0.8882) cub_195_Carolina_Wren:(0.9989) cub_196_House_Wren:(0.989) cub_197_Marsh_Wren:(0.9981) cub_198_Rock_Wren:(0.9926) cub_199_Winter_Wren:(0.9883) \n",
      "\t Child: 150+019\n",
      "\t\tProto:16 cub_019_Gray_Catbird:(1.0) cub_091_Mockingbird:(0.9998) cub_149_Brown_Thrasher:(0.9979) cub_150_Sage_Thrasher:(0.9989) \n",
      "\t\tProto:12 cub_019_Gray_Catbird:(0.8518) cub_091_Mockingbird:(0.9613) cub_149_Brown_Thrasher:(0.9094) cub_150_Sage_Thrasher:(0.8879) \n",
      "\t\tProto:13 cub_019_Gray_Catbird:(0.9997) cub_091_Mockingbird:(0.9999) cub_149_Brown_Thrasher:(0.9994) cub_150_Sage_Thrasher:(0.9998) \n",
      "\t\tProto:14 cub_019_Gray_Catbird:(0.9411) cub_091_Mockingbird:(0.9652) cub_149_Brown_Thrasher:(0.9446) cub_150_Sage_Thrasher:(0.9276) \n"
     ]
    },
    {
     "name": "stderr",
     "output_type": "stream",
     "text": [
      "Collecting topk: 100% 60/60 [00:17<00:00,  3.39it/s]\n"
     ]
    },
    {
     "name": "stdout",
     "output_type": "stream",
     "text": [
      "Node 186+185\n",
      "\t Child: cub_186_Cedar_Waxwing\n",
      "\t\tProto:0 cub_186_Cedar_Waxwing:(0.9998) \n",
      "\t\tProto:3 cub_186_Cedar_Waxwing:(1.0) \n",
      "\t\tProto:4 cub_186_Cedar_Waxwing:(0.9772) \n",
      "\t\tProto:6 cub_186_Cedar_Waxwing:(1.0) \n",
      "\t Child: cub_185_Bohemian_Waxwing\n",
      "\t\tProto:17 cub_185_Bohemian_Waxwing:(1.0) \n",
      "\t\tProto:12 cub_185_Bohemian_Waxwing:(1.0) \n",
      "\t\tProto:13 cub_185_Bohemian_Waxwing:(0.9974) \n"
     ]
    },
    {
     "name": "stderr",
     "output_type": "stream",
     "text": [
      "Collecting topk: 100% 60/60 [00:18<00:00,  3.32it/s]\n"
     ]
    },
    {
     "name": "stdout",
     "output_type": "stream",
     "text": [
      "Node 136+137\n",
      "\t Child: cub_136_Barn_Swallow\n",
      "\t\tProto:6 cub_136_Barn_Swallow:(1.0) \n",
      "\t\tProto:7 cub_136_Barn_Swallow:(1.0) \n",
      "\t Child: cub_137_Cliff_Swallow\n",
      "\t\tProto:16 cub_137_Cliff_Swallow:(1.0) \n",
      "\t\tProto:19 cub_137_Cliff_Swallow:(0.9906) \n",
      "\t\tProto:13 cub_137_Cliff_Swallow:(1.0) \n"
     ]
    },
    {
     "name": "stderr",
     "output_type": "stream",
     "text": [
      "Collecting topk: 150it [00:22,  6.82it/s]  \n"
     ]
    },
    {
     "name": "stdout",
     "output_type": "stream",
     "text": [
      "Node 107+093\n",
      "\t Child: 107+030\n",
      "\t\tProto:3 cub_029_American_Crow:(1.0) cub_030_Fish_Crow:(1.0) cub_107_Common_Raven:(1.0) cub_108_White_necked_Raven:(0.9998) \n",
      "\t\tProto:5 cub_029_American_Crow:(1.0) cub_030_Fish_Crow:(1.0) cub_107_Common_Raven:(1.0) cub_108_White_necked_Raven:(0.9999) \n",
      "\t\tProto:7 cub_029_American_Crow:(1.0) cub_030_Fish_Crow:(1.0) cub_107_Common_Raven:(1.0) cub_108_White_necked_Raven:(1.0) \n",
      "\t\tProto:8 cub_029_American_Crow:(0.9997) cub_030_Fish_Crow:(0.9999) cub_107_Common_Raven:(0.9999) cub_108_White_necked_Raven:(0.9997) \n",
      "\t\tProto:9 cub_029_American_Crow:(1.0) cub_030_Fish_Crow:(0.999) cub_107_Common_Raven:(0.9988) cub_108_White_necked_Raven:(0.998) \n",
      "\t Child: cub_093_Clark_Nutcracker\n",
      "\t\tProto:17 cub_093_Clark_Nutcracker:(1.0) \n",
      "\t\tProto:15 cub_093_Clark_Nutcracker:(0.9998) \n"
     ]
    },
    {
     "name": "stderr",
     "output_type": "stream",
     "text": [
      "Collecting topk: 100% 60/60 [00:17<00:00,  3.41it/s]\n"
     ]
    },
    {
     "name": "stdout",
     "output_type": "stream",
     "text": [
      "Node 073+074\n",
      "\t Child: cub_073_Blue_Jay\n",
      "\t\tProto:0 cub_073_Blue_Jay:(1.0) \n",
      "\t\tProto:6 cub_073_Blue_Jay:(1.0) \n",
      "\t\tProto:7 cub_073_Blue_Jay:(1.0) \n",
      "\t Child: cub_074_Florida_Jay\n",
      "\t\tProto:18 cub_074_Florida_Jay:(1.0) \n",
      "\t\tProto:15 cub_074_Florida_Jay:(1.0) \n"
     ]
    },
    {
     "name": "stderr",
     "output_type": "stream",
     "text": [
      "Collecting topk: 100% 51/51 [00:17<00:00,  2.98it/s]\n"
     ]
    },
    {
     "name": "stdout",
     "output_type": "stream",
     "text": [
      "Node 151+156\n",
      "\t Child: cub_151_Black_capped_Vireo\n",
      "\t\tProto:1 cub_151_Black_capped_Vireo:(1.0) \n",
      "\t\tProto:4 cub_151_Black_capped_Vireo:(1.0) \n",
      "\t\tProto:7 cub_151_Black_capped_Vireo:(1.0) \n",
      "\t Child: cub_156_White_eyed_Vireo\n",
      "\t\tProto:13 cub_156_White_eyed_Vireo:(1.0) \n",
      "\t\tProto:14 cub_156_White_eyed_Vireo:(0.9998) \n",
      "\t\tProto:15 cub_156_White_eyed_Vireo:(1.0) \n"
     ]
    },
    {
     "name": "stderr",
     "output_type": "stream",
     "text": [
      "Collecting topk: 100% 59/59 [00:18<00:00,  3.27it/s]\n"
     ]
    },
    {
     "name": "stdout",
     "output_type": "stream",
     "text": [
      "Node 157+152\n",
      "\t Child: cub_157_Yellow_throated_Vireo\n",
      "\t\tProto:1 cub_157_Yellow_throated_Vireo:(1.0) \n",
      "\t\tProto:4 cub_157_Yellow_throated_Vireo:(1.0) \n",
      "\t Child: cub_152_Blue_headed_Vireo\n",
      "\t\tProto:17 cub_152_Blue_headed_Vireo:(1.0) \n",
      "\t\tProto:12 cub_152_Blue_headed_Vireo:(1.0) \n"
     ]
    },
    {
     "name": "stderr",
     "output_type": "stream",
     "text": [
      "Collecting topk: 100% 59/59 [00:17<00:00,  3.30it/s]\n"
     ]
    },
    {
     "name": "stdout",
     "output_type": "stream",
     "text": [
      "Node 153+155\n",
      "\t Child: cub_153_Philadelphia_Vireo\n",
      "\t\tProto:5 cub_153_Philadelphia_Vireo:(1.0) \n",
      "\t\tProto:6 cub_153_Philadelphia_Vireo:(1.0) \n",
      "\t Child: cub_155_Warbling_Vireo\n",
      "\t\tProto:16 cub_155_Warbling_Vireo:(1.0) \n",
      "\t\tProto:19 cub_155_Warbling_Vireo:(1.0) \n",
      "Skipping node 065+060\n",
      "Skipping node 144+141\n"
     ]
    },
    {
     "name": "stderr",
     "output_type": "stream",
     "text": [
      "Collecting topk: 2360it [02:02, 19.31it/s]\n"
     ]
    },
    {
     "name": "stdout",
     "output_type": "stream",
     "text": [
      "Node 129+035\n",
      "\t Child: 129+054\n",
      "\t\tProto:0 cub_009_Brewer_Blackbird:(0.5189) cub_010_Red_winged_Blackbird:(0.5074) cub_011_Rusty_Blackbird:(0.5912) cub_012_Yellow_headed_Blackbird:(0.5787) cub_013_Bobolink:(0.3559) cub_014_Indigo_Bunting:(0.9078) cub_015_Lazuli_Bunting:(0.3852) cub_016_Painted_Bunting:(0.6225) cub_017_Cardinal:(0.9608) cub_020_Yellow_breasted_Chat:(0.744) cub_021_Eastern_Towhee:(0.9251) cub_026_Bronzed_Cowbird:(0.8215) cub_027_Shiny_Cowbird:(0.6346) cub_049_Boat_tailed_Grackle:(0.7676) cub_054_Blue_Grosbeak:(0.5661) cub_057_Rose_breasted_Grosbeak:(0.1998) cub_076_Dark_eyed_Junco:(0.6226) cub_088_Western_Meadowlark:(0.4854) cub_095_Baltimore_Oriole:(0.8335) cub_096_Hooded_Oriole:(0.9269) cub_097_Orchard_Oriole:(0.5773) cub_098_Scott_Oriole:(0.8711) cub_099_Ovenbird:(0.8949) cub_109_American_Redstart:(0.9176) cub_113_Baird_Sparrow:(0.3824) cub_114_Black_throated_Sparrow:(0.5239) cub_115_Brewer_Sparrow:(0.814) cub_116_Chipping_Sparrow:(0.6851) cub_117_Clay_colored_Sparrow:(0.7913) cub_119_Field_Sparrow:(0.8091) cub_120_Fox_Sparrow:(0.9884) cub_121_Grasshopper_Sparrow:(0.7325) cub_122_Harris_Sparrow:(0.8336) cub_123_Henslow_Sparrow:(0.894) cub_124_Le_Conte_Sparrow:(0.842) cub_125_Lincoln_Sparrow:(0.9794) cub_126_Nelson_Sharp_tailed_Sparrow:(0.9328) cub_127_Savannah_Sparrow:(0.7794) cub_128_Seaside_Sparrow:(0.7514) cub_129_Song_Sparrow:(0.974) cub_130_Tree_Sparrow:(0.6638) cub_131_Vesper_Sparrow:(0.427) cub_132_White_crowned_Sparrow:(0.7515) cub_133_White_throated_Sparrow:(0.9112) cub_139_Scarlet_Tanager:(0.6974) cub_140_Summer_Tanager:(0.8683) cub_148_Green_tailed_Towhee:(0.9881) cub_158_Bay_breasted_Warbler:(0.3728) cub_159_Black_and_white_Warbler:(0.3758) cub_160_Black_throated_Blue_Warbler:(0.59) cub_161_Blue_winged_Warbler:(0.6391) cub_162_Canada_Warbler:(0.4784) cub_163_Cape_May_Warbler:(0.4447) cub_164_Cerulean_Warbler:(0.6324) cub_165_Chestnut_sided_Warbler:(0.6931) cub_166_Golden_winged_Warbler:(0.7323) cub_167_Hooded_Warbler:(0.9266) cub_168_Kentucky_Warbler:(0.6908) cub_169_Magnolia_Warbler:(0.535) cub_170_Mourning_Warbler:(0.8628) cub_172_Nashville_Warbler:(0.7811) cub_173_Orange_crowned_Warbler:(0.8838) cub_174_Palm_Warbler:(0.6544) cub_175_Pine_Warbler:(0.4554) cub_176_Prairie_Warbler:(0.8498) cub_177_Prothonotary_Warbler:(0.5148) cub_178_Swainson_Warbler:(0.4791) cub_179_Tennessee_Warbler:(0.7506) cub_180_Wilson_Warbler:(0.9369) cub_181_Worm_eating_Warbler:(0.8291) cub_182_Yellow_Warbler:(0.9244) cub_183_Northern_Waterthrush:(0.6625) cub_184_Louisiana_Waterthrush:(0.5325) cub_200_Common_Yellowthroat:(0.9795) \n",
      "\t\tProto:1 cub_009_Brewer_Blackbird:(0.9677) cub_010_Red_winged_Blackbird:(0.9744) cub_011_Rusty_Blackbird:(0.9642) cub_012_Yellow_headed_Blackbird:(0.1518) cub_013_Bobolink:(0.9502) cub_014_Indigo_Bunting:(0.9791) cub_015_Lazuli_Bunting:(0.9868) cub_016_Painted_Bunting:(0.964) cub_017_Cardinal:(0.4605) cub_020_Yellow_breasted_Chat:(0.9855) cub_021_Eastern_Towhee:(0.9839) cub_026_Bronzed_Cowbird:(0.9667) cub_027_Shiny_Cowbird:(0.991) cub_049_Boat_tailed_Grackle:(0.9783) cub_054_Blue_Grosbeak:(0.992) cub_057_Rose_breasted_Grosbeak:(0.9867) cub_076_Dark_eyed_Junco:(0.9932) cub_088_Western_Meadowlark:(0.9791) cub_095_Baltimore_Oriole:(0.9342) cub_096_Hooded_Oriole:(0.8479) cub_097_Orchard_Oriole:(0.9875) cub_098_Scott_Oriole:(0.9936) cub_099_Ovenbird:(0.9734) cub_109_American_Redstart:(0.9915) cub_113_Baird_Sparrow:(0.9972) cub_114_Black_throated_Sparrow:(0.9987) cub_115_Brewer_Sparrow:(0.9834) cub_116_Chipping_Sparrow:(0.9836) cub_117_Clay_colored_Sparrow:(0.9884) cub_119_Field_Sparrow:(0.9739) cub_120_Fox_Sparrow:(0.9631) cub_121_Grasshopper_Sparrow:(0.9958) cub_122_Harris_Sparrow:(0.9919) cub_123_Henslow_Sparrow:(0.979) cub_124_Le_Conte_Sparrow:(0.9901) cub_125_Lincoln_Sparrow:(0.993) cub_126_Nelson_Sharp_tailed_Sparrow:(0.9756) cub_127_Savannah_Sparrow:(0.9949) cub_128_Seaside_Sparrow:(0.9272) cub_129_Song_Sparrow:(0.9876) cub_130_Tree_Sparrow:(0.9668) cub_131_Vesper_Sparrow:(0.9912) cub_132_White_crowned_Sparrow:(0.9751) cub_133_White_throated_Sparrow:(0.9946) cub_139_Scarlet_Tanager:(0.2245) cub_140_Summer_Tanager:(0.0596) cub_148_Green_tailed_Towhee:(0.9739) cub_158_Bay_breasted_Warbler:(0.9059) cub_159_Black_and_white_Warbler:(0.9993) cub_160_Black_throated_Blue_Warbler:(0.9965) cub_161_Blue_winged_Warbler:(0.38) cub_162_Canada_Warbler:(0.9801) cub_163_Cape_May_Warbler:(0.9457) cub_164_Cerulean_Warbler:(0.997) cub_165_Chestnut_sided_Warbler:(0.9792) cub_166_Golden_winged_Warbler:(0.9324) cub_167_Hooded_Warbler:(0.8201) cub_168_Kentucky_Warbler:(0.9708) cub_169_Magnolia_Warbler:(0.984) cub_170_Mourning_Warbler:(0.9969) cub_172_Nashville_Warbler:(0.7508) cub_173_Orange_crowned_Warbler:(0.9742) cub_174_Palm_Warbler:(0.9873) cub_175_Pine_Warbler:(0.869) cub_176_Prairie_Warbler:(0.9908) cub_177_Prothonotary_Warbler:(0.1959) cub_178_Swainson_Warbler:(0.9819) cub_179_Tennessee_Warbler:(0.9768) cub_180_Wilson_Warbler:(0.4859) cub_181_Worm_eating_Warbler:(0.9719) cub_182_Yellow_Warbler:(0.4626) cub_183_Northern_Waterthrush:(0.9949) cub_184_Louisiana_Waterthrush:(0.9891) cub_200_Common_Yellowthroat:(0.9301) \n",
      "\t\tProto:3 cub_009_Brewer_Blackbird:(0.9912) cub_010_Red_winged_Blackbird:(0.9527) cub_011_Rusty_Blackbird:(0.982) cub_012_Yellow_headed_Blackbird:(0.9237) cub_013_Bobolink:(0.9752) cub_014_Indigo_Bunting:(0.9524) cub_015_Lazuli_Bunting:(0.9348) cub_016_Painted_Bunting:(0.9312) cub_017_Cardinal:(0.363) cub_020_Yellow_breasted_Chat:(0.9534) cub_021_Eastern_Towhee:(0.9872) cub_026_Bronzed_Cowbird:(0.9837) cub_027_Shiny_Cowbird:(0.9641) cub_049_Boat_tailed_Grackle:(0.9551) cub_054_Blue_Grosbeak:(0.9411) cub_057_Rose_breasted_Grosbeak:(0.8815) cub_076_Dark_eyed_Junco:(0.9403) cub_088_Western_Meadowlark:(0.9906) cub_095_Baltimore_Oriole:(0.9853) cub_096_Hooded_Oriole:(0.9815) cub_097_Orchard_Oriole:(0.9901) cub_098_Scott_Oriole:(0.9628) cub_099_Ovenbird:(0.9893) cub_109_American_Redstart:(0.9832) cub_113_Baird_Sparrow:(0.9875) cub_114_Black_throated_Sparrow:(0.9955) cub_115_Brewer_Sparrow:(0.9917) cub_116_Chipping_Sparrow:(0.9262) cub_117_Clay_colored_Sparrow:(0.9734) cub_119_Field_Sparrow:(0.9558) cub_120_Fox_Sparrow:(0.8368) cub_121_Grasshopper_Sparrow:(0.9913) cub_122_Harris_Sparrow:(0.9311) cub_123_Henslow_Sparrow:(0.9643) cub_124_Le_Conte_Sparrow:(0.979) cub_125_Lincoln_Sparrow:(0.9836) cub_126_Nelson_Sharp_tailed_Sparrow:(0.9853) cub_127_Savannah_Sparrow:(0.9889) cub_128_Seaside_Sparrow:(0.9607) cub_129_Song_Sparrow:(0.9421) cub_130_Tree_Sparrow:(0.8509) cub_131_Vesper_Sparrow:(0.9877) cub_132_White_crowned_Sparrow:(0.7393) cub_133_White_throated_Sparrow:(0.9464) cub_139_Scarlet_Tanager:(0.607) cub_140_Summer_Tanager:(0.6907) cub_148_Green_tailed_Towhee:(0.969) cub_158_Bay_breasted_Warbler:(0.9815) cub_159_Black_and_white_Warbler:(0.9936) cub_160_Black_throated_Blue_Warbler:(0.9861) cub_161_Blue_winged_Warbler:(0.9818) cub_162_Canada_Warbler:(0.9866) cub_163_Cape_May_Warbler:(0.9856) cub_164_Cerulean_Warbler:(0.9925) cub_165_Chestnut_sided_Warbler:(0.9848) cub_166_Golden_winged_Warbler:(0.981) cub_167_Hooded_Warbler:(0.9342) cub_168_Kentucky_Warbler:(0.9542) cub_169_Magnolia_Warbler:(0.9634) cub_170_Mourning_Warbler:(0.9614) cub_172_Nashville_Warbler:(0.9656) cub_173_Orange_crowned_Warbler:(0.9594) cub_174_Palm_Warbler:(0.9922) cub_175_Pine_Warbler:(0.9841) cub_176_Prairie_Warbler:(0.982) cub_177_Prothonotary_Warbler:(0.9665) cub_178_Swainson_Warbler:(0.9864) cub_179_Tennessee_Warbler:(0.9833) cub_180_Wilson_Warbler:(0.9862) cub_181_Worm_eating_Warbler:(0.9841) cub_182_Yellow_Warbler:(0.9787) cub_183_Northern_Waterthrush:(0.9914) cub_184_Louisiana_Waterthrush:(0.9928) cub_200_Common_Yellowthroat:(0.9669) \n",
      "\t\tProto:4 cub_009_Brewer_Blackbird:(0.9922) cub_010_Red_winged_Blackbird:(0.9624) cub_011_Rusty_Blackbird:(0.9848) cub_012_Yellow_headed_Blackbird:(0.9035) cub_013_Bobolink:(0.9496) cub_014_Indigo_Bunting:(0.9899) cub_015_Lazuli_Bunting:(0.9879) cub_016_Painted_Bunting:(0.9344) cub_017_Cardinal:(0.2493) cub_020_Yellow_breasted_Chat:(0.979) cub_021_Eastern_Towhee:(0.9376) cub_026_Bronzed_Cowbird:(0.9579) cub_027_Shiny_Cowbird:(0.9953) cub_049_Boat_tailed_Grackle:(0.985) cub_054_Blue_Grosbeak:(0.9911) cub_057_Rose_breasted_Grosbeak:(0.701) cub_076_Dark_eyed_Junco:(0.8621) cub_088_Western_Meadowlark:(0.9957) cub_095_Baltimore_Oriole:(0.9748) cub_096_Hooded_Oriole:(0.9599) cub_097_Orchard_Oriole:(0.9521) cub_098_Scott_Oriole:(0.9817) cub_099_Ovenbird:(0.9955) cub_109_American_Redstart:(0.9744) cub_113_Baird_Sparrow:(0.9947) cub_114_Black_throated_Sparrow:(0.9834) cub_115_Brewer_Sparrow:(0.9948) cub_116_Chipping_Sparrow:(0.9967) cub_117_Clay_colored_Sparrow:(0.9972) cub_119_Field_Sparrow:(0.9499) cub_120_Fox_Sparrow:(0.7949) cub_121_Grasshopper_Sparrow:(0.9912) cub_122_Harris_Sparrow:(0.8676) cub_123_Henslow_Sparrow:(0.9952) cub_124_Le_Conte_Sparrow:(0.996) cub_125_Lincoln_Sparrow:(0.9889) cub_126_Nelson_Sharp_tailed_Sparrow:(0.9181) cub_127_Savannah_Sparrow:(0.992) cub_128_Seaside_Sparrow:(0.995) cub_129_Song_Sparrow:(0.9789) cub_130_Tree_Sparrow:(0.9612) cub_131_Vesper_Sparrow:(0.9643) cub_132_White_crowned_Sparrow:(0.9842) cub_133_White_throated_Sparrow:(0.9762) cub_139_Scarlet_Tanager:(0.1709) cub_140_Summer_Tanager:(0.3013) cub_148_Green_tailed_Towhee:(0.9606) cub_158_Bay_breasted_Warbler:(0.9736) cub_159_Black_and_white_Warbler:(0.9964) cub_160_Black_throated_Blue_Warbler:(0.9949) cub_161_Blue_winged_Warbler:(0.945) cub_162_Canada_Warbler:(0.9884) cub_163_Cape_May_Warbler:(0.9967) cub_164_Cerulean_Warbler:(0.9948) cub_165_Chestnut_sided_Warbler:(0.9737) cub_166_Golden_winged_Warbler:(0.9509) cub_167_Hooded_Warbler:(0.9956) cub_168_Kentucky_Warbler:(0.965) cub_169_Magnolia_Warbler:(0.898) cub_170_Mourning_Warbler:(0.9816) cub_172_Nashville_Warbler:(0.9438) cub_173_Orange_crowned_Warbler:(0.9714) cub_174_Palm_Warbler:(0.9968) cub_175_Pine_Warbler:(0.9905) cub_176_Prairie_Warbler:(0.9932) cub_177_Prothonotary_Warbler:(0.992) cub_178_Swainson_Warbler:(0.9896) cub_179_Tennessee_Warbler:(0.9778) cub_180_Wilson_Warbler:(0.9897) cub_181_Worm_eating_Warbler:(0.9969) cub_182_Yellow_Warbler:(0.9856) cub_183_Northern_Waterthrush:(0.996) cub_184_Louisiana_Waterthrush:(0.9943) cub_200_Common_Yellowthroat:(0.9209) \n",
      "\t\tProto:5 cub_009_Brewer_Blackbird:(0.9922) cub_010_Red_winged_Blackbird:(0.9773) cub_011_Rusty_Blackbird:(0.9956) cub_012_Yellow_headed_Blackbird:(0.8148) cub_013_Bobolink:(0.9892) cub_014_Indigo_Bunting:(0.9678) cub_015_Lazuli_Bunting:(0.9718) cub_016_Painted_Bunting:(0.9627) cub_017_Cardinal:(0.6577) cub_020_Yellow_breasted_Chat:(0.9752) cub_021_Eastern_Towhee:(0.9766) cub_026_Bronzed_Cowbird:(0.9847) cub_027_Shiny_Cowbird:(0.9851) cub_049_Boat_tailed_Grackle:(0.9881) cub_054_Blue_Grosbeak:(0.9409) cub_057_Rose_breasted_Grosbeak:(0.9774) cub_076_Dark_eyed_Junco:(0.9483) cub_088_Western_Meadowlark:(0.9878) cub_095_Baltimore_Oriole:(0.9806) cub_096_Hooded_Oriole:(0.996) cub_097_Orchard_Oriole:(0.9887) cub_098_Scott_Oriole:(0.9799) cub_099_Ovenbird:(0.9974) cub_109_American_Redstart:(0.9897) cub_113_Baird_Sparrow:(0.9954) cub_114_Black_throated_Sparrow:(0.9652) cub_115_Brewer_Sparrow:(0.9946) cub_116_Chipping_Sparrow:(0.9365) cub_117_Clay_colored_Sparrow:(0.9859) cub_119_Field_Sparrow:(0.9478) cub_120_Fox_Sparrow:(0.9046) cub_121_Grasshopper_Sparrow:(0.982) cub_122_Harris_Sparrow:(0.9754) cub_123_Henslow_Sparrow:(0.9991) cub_124_Le_Conte_Sparrow:(0.982) cub_125_Lincoln_Sparrow:(0.992) cub_126_Nelson_Sharp_tailed_Sparrow:(0.9844) cub_127_Savannah_Sparrow:(0.9971) cub_128_Seaside_Sparrow:(0.9746) cub_129_Song_Sparrow:(0.9688) cub_130_Tree_Sparrow:(0.9194) cub_131_Vesper_Sparrow:(0.9784) cub_132_White_crowned_Sparrow:(0.7225) cub_133_White_throated_Sparrow:(0.8732) cub_139_Scarlet_Tanager:(0.3281) cub_140_Summer_Tanager:(0.3017) cub_148_Green_tailed_Towhee:(0.9521) cub_158_Bay_breasted_Warbler:(0.9471) cub_159_Black_and_white_Warbler:(0.9964) cub_160_Black_throated_Blue_Warbler:(0.9972) cub_161_Blue_winged_Warbler:(0.9676) cub_162_Canada_Warbler:(0.9836) cub_163_Cape_May_Warbler:(0.9948) cub_164_Cerulean_Warbler:(0.9974) cub_165_Chestnut_sided_Warbler:(0.9542) cub_166_Golden_winged_Warbler:(0.9849) cub_167_Hooded_Warbler:(0.9773) cub_168_Kentucky_Warbler:(0.9605) cub_169_Magnolia_Warbler:(0.9825) cub_170_Mourning_Warbler:(0.9731) cub_172_Nashville_Warbler:(0.9863) cub_173_Orange_crowned_Warbler:(0.9796) cub_174_Palm_Warbler:(0.9911) cub_175_Pine_Warbler:(0.9882) cub_176_Prairie_Warbler:(0.9976) cub_177_Prothonotary_Warbler:(0.9663) cub_178_Swainson_Warbler:(0.989) cub_179_Tennessee_Warbler:(0.9883) cub_180_Wilson_Warbler:(0.9714) cub_181_Worm_eating_Warbler:(0.97) cub_182_Yellow_Warbler:(0.9865) cub_183_Northern_Waterthrush:(0.9978) cub_184_Louisiana_Waterthrush:(0.9967) cub_200_Common_Yellowthroat:(0.9732) \n",
      "\t\tProto:7 cub_009_Brewer_Blackbird:(0.965) cub_010_Red_winged_Blackbird:(0.9511) cub_011_Rusty_Blackbird:(0.9808) cub_012_Yellow_headed_Blackbird:(0.8006) cub_013_Bobolink:(0.9416) cub_014_Indigo_Bunting:(0.9572) cub_015_Lazuli_Bunting:(0.9448) cub_016_Painted_Bunting:(0.9367) cub_017_Cardinal:(0.6421) cub_020_Yellow_breasted_Chat:(0.9337) cub_021_Eastern_Towhee:(0.9811) cub_026_Bronzed_Cowbird:(0.918) cub_027_Shiny_Cowbird:(0.9743) cub_049_Boat_tailed_Grackle:(0.9462) cub_054_Blue_Grosbeak:(0.9336) cub_057_Rose_breasted_Grosbeak:(0.7067) cub_076_Dark_eyed_Junco:(0.931) cub_088_Western_Meadowlark:(0.9796) cub_095_Baltimore_Oriole:(0.9522) cub_096_Hooded_Oriole:(0.8975) cub_097_Orchard_Oriole:(0.9255) cub_098_Scott_Oriole:(0.9613) cub_099_Ovenbird:(0.9854) cub_109_American_Redstart:(0.942) cub_113_Baird_Sparrow:(0.9918) cub_114_Black_throated_Sparrow:(0.9613) cub_115_Brewer_Sparrow:(0.9781) cub_116_Chipping_Sparrow:(0.9368) cub_117_Clay_colored_Sparrow:(0.9638) cub_119_Field_Sparrow:(0.8932) cub_120_Fox_Sparrow:(0.9711) cub_121_Grasshopper_Sparrow:(0.9907) cub_122_Harris_Sparrow:(0.9589) cub_123_Henslow_Sparrow:(0.9505) cub_124_Le_Conte_Sparrow:(0.9718) cub_125_Lincoln_Sparrow:(0.9788) cub_126_Nelson_Sharp_tailed_Sparrow:(0.9848) cub_127_Savannah_Sparrow:(0.9714) cub_128_Seaside_Sparrow:(0.9696) cub_129_Song_Sparrow:(0.9734) cub_130_Tree_Sparrow:(0.7896) cub_131_Vesper_Sparrow:(0.9947) cub_132_White_crowned_Sparrow:(0.491) cub_133_White_throated_Sparrow:(0.9366) cub_139_Scarlet_Tanager:(0.3675) cub_140_Summer_Tanager:(0.5858) cub_148_Green_tailed_Towhee:(0.9188) cub_158_Bay_breasted_Warbler:(0.923) cub_159_Black_and_white_Warbler:(0.9888) cub_160_Black_throated_Blue_Warbler:(0.9893) cub_161_Blue_winged_Warbler:(0.9798) cub_162_Canada_Warbler:(0.978) cub_163_Cape_May_Warbler:(0.9791) cub_164_Cerulean_Warbler:(0.9774) cub_165_Chestnut_sided_Warbler:(0.9365) cub_166_Golden_winged_Warbler:(0.9328) cub_167_Hooded_Warbler:(0.9473) cub_168_Kentucky_Warbler:(0.9599) cub_169_Magnolia_Warbler:(0.9773) cub_170_Mourning_Warbler:(0.9819) cub_172_Nashville_Warbler:(0.9606) cub_173_Orange_crowned_Warbler:(0.9662) cub_174_Palm_Warbler:(0.9532) cub_175_Pine_Warbler:(0.9849) cub_176_Prairie_Warbler:(0.9833) cub_177_Prothonotary_Warbler:(0.9701) cub_178_Swainson_Warbler:(0.9743) cub_179_Tennessee_Warbler:(0.9619) cub_180_Wilson_Warbler:(0.9271) cub_181_Worm_eating_Warbler:(0.9027) cub_182_Yellow_Warbler:(0.9425) cub_183_Northern_Waterthrush:(0.9638) cub_184_Louisiana_Waterthrush:(0.9656) cub_200_Common_Yellowthroat:(0.9377) \n",
      "\t\tProto:9 cub_009_Brewer_Blackbird:(0.9404) cub_010_Red_winged_Blackbird:(0.8616) cub_011_Rusty_Blackbird:(0.9422) cub_012_Yellow_headed_Blackbird:(0.9696) cub_013_Bobolink:(0.9193) cub_014_Indigo_Bunting:(0.7811) cub_015_Lazuli_Bunting:(0.7936) cub_016_Painted_Bunting:(0.8442) cub_017_Cardinal:(0.9379) cub_020_Yellow_breasted_Chat:(0.8348) cub_021_Eastern_Towhee:(0.8412) cub_026_Bronzed_Cowbird:(0.9491) cub_027_Shiny_Cowbird:(0.9257) cub_049_Boat_tailed_Grackle:(0.839) cub_054_Blue_Grosbeak:(0.7001) cub_057_Rose_breasted_Grosbeak:(0.4334) cub_076_Dark_eyed_Junco:(0.6357) cub_088_Western_Meadowlark:(0.9548) cub_095_Baltimore_Oriole:(0.5402) cub_096_Hooded_Oriole:(0.9254) cub_097_Orchard_Oriole:(0.8507) cub_098_Scott_Oriole:(0.8093) cub_099_Ovenbird:(0.9836) cub_109_American_Redstart:(0.9692) cub_113_Baird_Sparrow:(0.9391) cub_114_Black_throated_Sparrow:(0.9602) cub_115_Brewer_Sparrow:(0.9504) cub_116_Chipping_Sparrow:(0.9319) cub_117_Clay_colored_Sparrow:(0.8453) cub_119_Field_Sparrow:(0.9723) cub_120_Fox_Sparrow:(0.8241) cub_121_Grasshopper_Sparrow:(0.917) cub_122_Harris_Sparrow:(0.9665) cub_123_Henslow_Sparrow:(0.84) cub_124_Le_Conte_Sparrow:(0.9755) cub_125_Lincoln_Sparrow:(0.8663) cub_126_Nelson_Sharp_tailed_Sparrow:(0.9592) cub_127_Savannah_Sparrow:(0.9876) cub_128_Seaside_Sparrow:(0.7543) cub_129_Song_Sparrow:(0.97) cub_130_Tree_Sparrow:(0.7797) cub_131_Vesper_Sparrow:(0.8778) cub_132_White_crowned_Sparrow:(0.7659) cub_133_White_throated_Sparrow:(0.933) cub_139_Scarlet_Tanager:(0.9789) cub_140_Summer_Tanager:(0.7747) cub_148_Green_tailed_Towhee:(0.7687) cub_158_Bay_breasted_Warbler:(0.7139) cub_159_Black_and_white_Warbler:(0.9872) cub_160_Black_throated_Blue_Warbler:(0.97) cub_161_Blue_winged_Warbler:(0.6237) cub_162_Canada_Warbler:(0.9269) cub_163_Cape_May_Warbler:(0.8712) cub_164_Cerulean_Warbler:(0.9869) cub_165_Chestnut_sided_Warbler:(0.919) cub_166_Golden_winged_Warbler:(0.9724) cub_167_Hooded_Warbler:(0.9655) cub_168_Kentucky_Warbler:(0.9397) cub_169_Magnolia_Warbler:(0.983) cub_170_Mourning_Warbler:(0.8701) cub_172_Nashville_Warbler:(0.8504) cub_173_Orange_crowned_Warbler:(0.6737) cub_174_Palm_Warbler:(0.99) cub_175_Pine_Warbler:(0.7669) cub_176_Prairie_Warbler:(0.8952) cub_177_Prothonotary_Warbler:(0.9165) cub_178_Swainson_Warbler:(0.9397) cub_179_Tennessee_Warbler:(0.8065) cub_180_Wilson_Warbler:(0.9786) cub_181_Worm_eating_Warbler:(0.9489) cub_182_Yellow_Warbler:(0.8809) cub_183_Northern_Waterthrush:(0.9977) cub_184_Louisiana_Waterthrush:(0.9961) cub_200_Common_Yellowthroat:(0.9291) \n",
      "\t Child: 035+055\n",
      "\t\tProto:16 cub_034_Gray_crowned_Rosy_Finch:(0.1131) cub_035_Purple_Finch:(0.1316) cub_047_American_Goldfinch:(0.1422) cub_048_European_Goldfinch:(0.1503) cub_055_Evening_Grosbeak:(0.156) cub_056_Pine_Grosbeak:(0.1043) \n",
      "\t\tProto:19 cub_034_Gray_crowned_Rosy_Finch:(0.2747) cub_035_Purple_Finch:(0.7587) cub_047_American_Goldfinch:(0.9856) cub_048_European_Goldfinch:(0.9555) cub_055_Evening_Grosbeak:(0.0665) cub_056_Pine_Grosbeak:(0.929) \n",
      "\t\tProto:11 cub_034_Gray_crowned_Rosy_Finch:(0.9985) cub_035_Purple_Finch:(0.8775) cub_047_American_Goldfinch:(0.9605) cub_048_European_Goldfinch:(0.9933) cub_055_Evening_Grosbeak:(0.9903) cub_056_Pine_Grosbeak:(0.8539) \n",
      "\t\tProto:12 cub_034_Gray_crowned_Rosy_Finch:(0.1222) cub_035_Purple_Finch:(0.8865) cub_047_American_Goldfinch:(0.1511) cub_048_European_Goldfinch:(0.178) cub_055_Evening_Grosbeak:(0.9437) cub_056_Pine_Grosbeak:(0.9762) \n"
     ]
    },
    {
     "name": "stderr",
     "output_type": "stream",
     "text": [
      "Collecting topk: 269it [00:27,  9.84it/s]  \n"
     ]
    },
    {
     "name": "stdout",
     "output_type": "stream",
     "text": [
      "Node 199+094\n",
      "\t Child: 199+028\n",
      "\t\tProto:1 cub_028_Brown_Creeper:(0.9998) cub_193_Bewick_Wren:(0.9999) cub_194_Cactus_Wren:(0.9999) cub_195_Carolina_Wren:(0.9993) cub_196_House_Wren:(0.9996) cub_197_Marsh_Wren:(0.9993) cub_198_Rock_Wren:(1.0) cub_199_Winter_Wren:(0.9995) \n",
      "\t\tProto:2 cub_028_Brown_Creeper:(0.987) cub_193_Bewick_Wren:(0.9916) cub_194_Cactus_Wren:(0.9401) cub_195_Carolina_Wren:(0.9965) cub_196_House_Wren:(0.9979) cub_197_Marsh_Wren:(0.9879) cub_198_Rock_Wren:(0.9583) cub_199_Winter_Wren:(0.9968) \n",
      "\t\tProto:3 cub_028_Brown_Creeper:(0.9979) cub_193_Bewick_Wren:(0.9999) cub_194_Cactus_Wren:(0.9999) cub_195_Carolina_Wren:(0.9998) cub_196_House_Wren:(0.9997) cub_197_Marsh_Wren:(0.9999) cub_198_Rock_Wren:(1.0) cub_199_Winter_Wren:(0.9999) \n",
      "\t\tProto:5 cub_028_Brown_Creeper:(0.9996) cub_193_Bewick_Wren:(0.9993) cub_194_Cactus_Wren:(0.9984) cub_195_Carolina_Wren:(0.9991) cub_196_House_Wren:(0.9995) cub_197_Marsh_Wren:(0.9982) cub_198_Rock_Wren:(0.9998) cub_199_Winter_Wren:(0.9979) \n",
      "\t\tProto:8 cub_028_Brown_Creeper:(0.9997) cub_193_Bewick_Wren:(1.0) cub_194_Cactus_Wren:(0.9997) cub_195_Carolina_Wren:(0.9997) cub_196_House_Wren:(0.9995) cub_197_Marsh_Wren:(0.999) cub_198_Rock_Wren:(0.9998) cub_199_Winter_Wren:(0.9997) \n",
      "\t\tProto:9 cub_028_Brown_Creeper:(0.9977) cub_193_Bewick_Wren:(0.9998) cub_194_Cactus_Wren:(1.0) cub_195_Carolina_Wren:(0.9999) cub_196_House_Wren:(0.9999) cub_197_Marsh_Wren:(1.0) cub_198_Rock_Wren:(0.9997) cub_199_Winter_Wren:(0.9978) \n",
      "\t Child: cub_094_White_breasted_Nuthatch\n",
      "\t\tProto:11 cub_094_White_breasted_Nuthatch:(0.9932) \n",
      "\t\tProto:14 cub_094_White_breasted_Nuthatch:(0.9999) \n",
      "\t\tProto:15 cub_094_White_breasted_Nuthatch:(0.9966) \n"
     ]
    },
    {
     "name": "stderr",
     "output_type": "stream",
     "text": [
      "Collecting topk: 118it [00:20,  5.71it/s]  \n"
     ]
    },
    {
     "name": "stdout",
     "output_type": "stream",
     "text": [
      "Node 150+019\n",
      "\t Child: 150+149\n",
      "\t\tProto:8 cub_091_Mockingbird:(1.0) cub_149_Brown_Thrasher:(1.0) cub_150_Sage_Thrasher:(1.0) \n",
      "\t\tProto:9 cub_091_Mockingbird:(0.9993) cub_149_Brown_Thrasher:(0.9999) cub_150_Sage_Thrasher:(0.9999) \n",
      "\t\tProto:3 cub_091_Mockingbird:(0.9999) cub_149_Brown_Thrasher:(1.0) cub_150_Sage_Thrasher:(1.0) \n",
      "\t\tProto:7 cub_091_Mockingbird:(1.0) cub_149_Brown_Thrasher:(1.0) cub_150_Sage_Thrasher:(1.0) \n",
      "\t Child: cub_019_Gray_Catbird\n",
      "\t\tProto:10 cub_019_Gray_Catbird:(1.0) \n",
      "\t\tProto:14 cub_019_Gray_Catbird:(0.9999) \n"
     ]
    },
    {
     "name": "stderr",
     "output_type": "stream",
     "text": [
      "Collecting topk: 120it [00:20,  5.95it/s]  \n"
     ]
    },
    {
     "name": "stdout",
     "output_type": "stream",
     "text": [
      "Node 107+030\n",
      "\t Child: 107+029\n",
      "\t\tProto:0 cub_029_American_Crow:(0.9996) cub_107_Common_Raven:(0.9999) cub_108_White_necked_Raven:(0.9999) \n",
      "\t\tProto:1 cub_029_American_Crow:(1.0) cub_107_Common_Raven:(1.0) cub_108_White_necked_Raven:(1.0) \n",
      "\t\tProto:2 cub_029_American_Crow:(0.9986) cub_107_Common_Raven:(0.9999) cub_108_White_necked_Raven:(0.9975) \n",
      "\t\tProto:3 cub_029_American_Crow:(0.8943) cub_107_Common_Raven:(0.8249) cub_108_White_necked_Raven:(0.8669) \n",
      "\t Child: cub_030_Fish_Crow\n",
      "\t\tProto:16 cub_030_Fish_Crow:(0.748) \n",
      "\t\tProto:11 cub_030_Fish_Crow:(0.9991) \n",
      "\t\tProto:13 cub_030_Fish_Crow:(0.9538) \n",
      "\t\tProto:15 cub_030_Fish_Crow:(0.9872) \n"
     ]
    },
    {
     "name": "stderr",
     "output_type": "stream",
     "text": [
      "Collecting topk: 2181it [01:54, 19.12it/s]\n"
     ]
    },
    {
     "name": "stdout",
     "output_type": "stream",
     "text": [
      "Node 129+054\n",
      "\t Child: 129+175\n",
      "\t\tProto:0 cub_009_Brewer_Blackbird:(0.9033) cub_010_Red_winged_Blackbird:(0.7837) cub_011_Rusty_Blackbird:(0.9436) cub_012_Yellow_headed_Blackbird:(0.9578) cub_013_Bobolink:(0.8451) cub_020_Yellow_breasted_Chat:(0.8727) cub_021_Eastern_Towhee:(0.7887) cub_026_Bronzed_Cowbird:(0.7244) cub_027_Shiny_Cowbird:(0.7435) cub_049_Boat_tailed_Grackle:(0.6542) cub_076_Dark_eyed_Junco:(0.3426) cub_088_Western_Meadowlark:(0.9831) cub_095_Baltimore_Oriole:(0.8145) cub_096_Hooded_Oriole:(0.957) cub_097_Orchard_Oriole:(0.7566) cub_098_Scott_Oriole:(0.873) cub_099_Ovenbird:(0.972) cub_109_American_Redstart:(0.8968) cub_113_Baird_Sparrow:(0.9642) cub_114_Black_throated_Sparrow:(0.9691) cub_115_Brewer_Sparrow:(0.9258) cub_116_Chipping_Sparrow:(0.9779) cub_117_Clay_colored_Sparrow:(0.9825) cub_119_Field_Sparrow:(0.8874) cub_120_Fox_Sparrow:(0.8482) cub_121_Grasshopper_Sparrow:(0.9812) cub_122_Harris_Sparrow:(0.85) cub_123_Henslow_Sparrow:(0.9502) cub_124_Le_Conte_Sparrow:(0.9907) cub_125_Lincoln_Sparrow:(0.9639) cub_126_Nelson_Sharp_tailed_Sparrow:(0.9599) cub_127_Savannah_Sparrow:(0.9598) cub_128_Seaside_Sparrow:(0.972) cub_129_Song_Sparrow:(0.9309) cub_130_Tree_Sparrow:(0.9546) cub_131_Vesper_Sparrow:(0.9723) cub_132_White_crowned_Sparrow:(0.9258) cub_133_White_throated_Sparrow:(0.9878) cub_148_Green_tailed_Towhee:(0.882) cub_158_Bay_breasted_Warbler:(0.9252) cub_159_Black_and_white_Warbler:(0.9739) cub_160_Black_throated_Blue_Warbler:(0.9071) cub_161_Blue_winged_Warbler:(0.9847) cub_162_Canada_Warbler:(0.9659) cub_163_Cape_May_Warbler:(0.9938) cub_164_Cerulean_Warbler:(0.8737) cub_165_Chestnut_sided_Warbler:(0.978) cub_166_Golden_winged_Warbler:(0.988) cub_167_Hooded_Warbler:(0.9688) cub_168_Kentucky_Warbler:(0.9855) cub_169_Magnolia_Warbler:(0.9688) cub_170_Mourning_Warbler:(0.652) cub_172_Nashville_Warbler:(0.9393) cub_173_Orange_crowned_Warbler:(0.9258) cub_174_Palm_Warbler:(0.9703) cub_175_Pine_Warbler:(0.9335) cub_176_Prairie_Warbler:(0.9916) cub_177_Prothonotary_Warbler:(0.8949) cub_178_Swainson_Warbler:(0.9777) cub_179_Tennessee_Warbler:(0.9496) cub_180_Wilson_Warbler:(0.9375) cub_181_Worm_eating_Warbler:(0.9965) cub_182_Yellow_Warbler:(0.9431) cub_183_Northern_Waterthrush:(0.9815) cub_184_Louisiana_Waterthrush:(0.9815) cub_200_Common_Yellowthroat:(0.9452) \n",
      "\t\tProto:1 cub_009_Brewer_Blackbird:(0.8933) cub_010_Red_winged_Blackbird:(0.6456) cub_011_Rusty_Blackbird:(0.7726) cub_012_Yellow_headed_Blackbird:(0.9421) cub_013_Bobolink:(0.9078) cub_020_Yellow_breasted_Chat:(0.9913) cub_021_Eastern_Towhee:(0.6107) cub_026_Bronzed_Cowbird:(0.7899) cub_027_Shiny_Cowbird:(0.8735) cub_049_Boat_tailed_Grackle:(0.7733) cub_076_Dark_eyed_Junco:(0.478) cub_088_Western_Meadowlark:(0.9858) cub_095_Baltimore_Oriole:(0.9088) cub_096_Hooded_Oriole:(0.9426) cub_097_Orchard_Oriole:(0.7513) cub_098_Scott_Oriole:(0.9158) cub_099_Ovenbird:(0.9855) cub_109_American_Redstart:(0.8847) cub_113_Baird_Sparrow:(0.9616) cub_114_Black_throated_Sparrow:(0.9665) cub_115_Brewer_Sparrow:(0.954) cub_116_Chipping_Sparrow:(0.9838) cub_117_Clay_colored_Sparrow:(0.9789) cub_119_Field_Sparrow:(0.8828) cub_120_Fox_Sparrow:(0.8598) cub_121_Grasshopper_Sparrow:(0.9796) cub_122_Harris_Sparrow:(0.9764) cub_123_Henslow_Sparrow:(0.9922) cub_124_Le_Conte_Sparrow:(0.9618) cub_125_Lincoln_Sparrow:(0.9562) cub_126_Nelson_Sharp_tailed_Sparrow:(0.9663) cub_127_Savannah_Sparrow:(0.9878) cub_128_Seaside_Sparrow:(0.9732) cub_129_Song_Sparrow:(0.9417) cub_130_Tree_Sparrow:(0.9529) cub_131_Vesper_Sparrow:(0.9103) cub_132_White_crowned_Sparrow:(0.9594) cub_133_White_throated_Sparrow:(0.9673) cub_148_Green_tailed_Towhee:(0.9561) cub_158_Bay_breasted_Warbler:(0.9297) cub_159_Black_and_white_Warbler:(0.9803) cub_160_Black_throated_Blue_Warbler:(0.7954) cub_161_Blue_winged_Warbler:(0.9723) cub_162_Canada_Warbler:(0.9026) cub_163_Cape_May_Warbler:(0.9847) cub_164_Cerulean_Warbler:(0.8767) cub_165_Chestnut_sided_Warbler:(0.9653) cub_166_Golden_winged_Warbler:(0.9791) cub_167_Hooded_Warbler:(0.9766) cub_168_Kentucky_Warbler:(0.9841) cub_169_Magnolia_Warbler:(0.9853) cub_170_Mourning_Warbler:(0.8719) cub_172_Nashville_Warbler:(0.8679) cub_173_Orange_crowned_Warbler:(0.9012) cub_174_Palm_Warbler:(0.9767) cub_175_Pine_Warbler:(0.9297) cub_176_Prairie_Warbler:(0.9805) cub_177_Prothonotary_Warbler:(0.9318) cub_178_Swainson_Warbler:(0.9734) cub_179_Tennessee_Warbler:(0.9527) cub_180_Wilson_Warbler:(0.9207) cub_181_Worm_eating_Warbler:(0.9847) cub_182_Yellow_Warbler:(0.9256) cub_183_Northern_Waterthrush:(0.976) cub_184_Louisiana_Waterthrush:(0.9598) cub_200_Common_Yellowthroat:(0.9765) \n",
      "\t\tProto:2 cub_009_Brewer_Blackbird:(0.962) cub_010_Red_winged_Blackbird:(0.9271) cub_011_Rusty_Blackbird:(0.9893) cub_012_Yellow_headed_Blackbird:(0.9888) cub_013_Bobolink:(0.9326) cub_020_Yellow_breasted_Chat:(0.9876) cub_021_Eastern_Towhee:(0.9488) cub_026_Bronzed_Cowbird:(0.9253) cub_027_Shiny_Cowbird:(0.9285) cub_049_Boat_tailed_Grackle:(0.6591) cub_076_Dark_eyed_Junco:(0.9858) cub_088_Western_Meadowlark:(0.9983) cub_095_Baltimore_Oriole:(0.9733) cub_096_Hooded_Oriole:(0.9509) cub_097_Orchard_Oriole:(0.8424) cub_098_Scott_Oriole:(0.9565) cub_099_Ovenbird:(0.9917) cub_109_American_Redstart:(0.9721) cub_113_Baird_Sparrow:(0.9856) cub_114_Black_throated_Sparrow:(0.9964) cub_115_Brewer_Sparrow:(0.999) cub_116_Chipping_Sparrow:(0.9986) cub_117_Clay_colored_Sparrow:(0.9973) cub_119_Field_Sparrow:(0.9917) cub_120_Fox_Sparrow:(0.9926) cub_121_Grasshopper_Sparrow:(0.9895) cub_122_Harris_Sparrow:(0.9965) cub_123_Henslow_Sparrow:(0.9931) cub_124_Le_Conte_Sparrow:(0.991) cub_125_Lincoln_Sparrow:(0.9991) cub_126_Nelson_Sharp_tailed_Sparrow:(0.9936) cub_127_Savannah_Sparrow:(0.9986) cub_128_Seaside_Sparrow:(0.9987) cub_129_Song_Sparrow:(0.992) cub_130_Tree_Sparrow:(0.994) cub_131_Vesper_Sparrow:(0.9977) cub_132_White_crowned_Sparrow:(0.9921) cub_133_White_throated_Sparrow:(0.9994) cub_148_Green_tailed_Towhee:(0.9261) cub_158_Bay_breasted_Warbler:(0.9496) cub_159_Black_and_white_Warbler:(0.9954) cub_160_Black_throated_Blue_Warbler:(0.645) cub_161_Blue_winged_Warbler:(0.9751) cub_162_Canada_Warbler:(0.9841) cub_163_Cape_May_Warbler:(0.9976) cub_164_Cerulean_Warbler:(0.5605) cub_165_Chestnut_sided_Warbler:(0.9882) cub_166_Golden_winged_Warbler:(0.9943) cub_167_Hooded_Warbler:(0.9999) cub_168_Kentucky_Warbler:(0.9909) cub_169_Magnolia_Warbler:(0.9953) cub_170_Mourning_Warbler:(0.9063) cub_172_Nashville_Warbler:(0.9832) cub_173_Orange_crowned_Warbler:(0.9734) cub_174_Palm_Warbler:(0.9997) cub_175_Pine_Warbler:(0.9014) cub_176_Prairie_Warbler:(0.9931) cub_177_Prothonotary_Warbler:(0.8978) cub_178_Swainson_Warbler:(0.9958) cub_179_Tennessee_Warbler:(0.9886) cub_180_Wilson_Warbler:(0.9804) cub_181_Worm_eating_Warbler:(0.9981) cub_182_Yellow_Warbler:(0.9633) cub_183_Northern_Waterthrush:(0.9999) cub_184_Louisiana_Waterthrush:(0.9996) cub_200_Common_Yellowthroat:(0.988) \n",
      "\t\tProto:3 cub_009_Brewer_Blackbird:(0.9728) cub_010_Red_winged_Blackbird:(0.9146) cub_011_Rusty_Blackbird:(0.9969) cub_012_Yellow_headed_Blackbird:(0.9531) cub_013_Bobolink:(0.9354) cub_020_Yellow_breasted_Chat:(0.979) cub_021_Eastern_Towhee:(0.8781) cub_026_Bronzed_Cowbird:(0.9205) cub_027_Shiny_Cowbird:(0.9478) cub_049_Boat_tailed_Grackle:(0.9227) cub_076_Dark_eyed_Junco:(0.5519) cub_088_Western_Meadowlark:(0.997) cub_095_Baltimore_Oriole:(0.8162) cub_096_Hooded_Oriole:(0.9813) cub_097_Orchard_Oriole:(0.905) cub_098_Scott_Oriole:(0.9378) cub_099_Ovenbird:(0.9939) cub_109_American_Redstart:(0.9777) cub_113_Baird_Sparrow:(0.9795) cub_114_Black_throated_Sparrow:(0.9755) cub_115_Brewer_Sparrow:(0.9944) cub_116_Chipping_Sparrow:(0.9823) cub_117_Clay_colored_Sparrow:(0.9963) cub_119_Field_Sparrow:(0.9378) cub_120_Fox_Sparrow:(0.842) cub_121_Grasshopper_Sparrow:(0.9841) cub_122_Harris_Sparrow:(0.9273) cub_123_Henslow_Sparrow:(0.9895) cub_124_Le_Conte_Sparrow:(0.9495) cub_125_Lincoln_Sparrow:(0.9767) cub_126_Nelson_Sharp_tailed_Sparrow:(0.9634) cub_127_Savannah_Sparrow:(0.9974) cub_128_Seaside_Sparrow:(0.9857) cub_129_Song_Sparrow:(0.9514) cub_130_Tree_Sparrow:(0.9296) cub_131_Vesper_Sparrow:(0.9853) cub_132_White_crowned_Sparrow:(0.9646) cub_133_White_throated_Sparrow:(0.9702) cub_148_Green_tailed_Towhee:(0.9677) cub_158_Bay_breasted_Warbler:(0.9395) cub_159_Black_and_white_Warbler:(0.9942) cub_160_Black_throated_Blue_Warbler:(0.9846) cub_161_Blue_winged_Warbler:(0.9713) cub_162_Canada_Warbler:(0.9969) cub_163_Cape_May_Warbler:(0.9984) cub_164_Cerulean_Warbler:(0.9762) cub_165_Chestnut_sided_Warbler:(0.9459) cub_166_Golden_winged_Warbler:(0.9852) cub_167_Hooded_Warbler:(0.9932) cub_168_Kentucky_Warbler:(0.9896) cub_169_Magnolia_Warbler:(0.9783) cub_170_Mourning_Warbler:(0.9459) cub_172_Nashville_Warbler:(0.7776) cub_173_Orange_crowned_Warbler:(0.9604) cub_174_Palm_Warbler:(0.9919) cub_175_Pine_Warbler:(0.9784) cub_176_Prairie_Warbler:(0.9951) cub_177_Prothonotary_Warbler:(0.9326) cub_178_Swainson_Warbler:(0.9929) cub_179_Tennessee_Warbler:(0.977) cub_180_Wilson_Warbler:(0.9487) cub_181_Worm_eating_Warbler:(0.9958) cub_182_Yellow_Warbler:(0.9478) cub_183_Northern_Waterthrush:(0.9978) cub_184_Louisiana_Waterthrush:(0.9929) cub_200_Common_Yellowthroat:(0.9827) \n",
      "\t\tProto:4 cub_009_Brewer_Blackbird:(0.7798) cub_010_Red_winged_Blackbird:(0.83) cub_011_Rusty_Blackbird:(0.9239) cub_012_Yellow_headed_Blackbird:(0.8804) cub_013_Bobolink:(0.9428) cub_020_Yellow_breasted_Chat:(0.9315) cub_021_Eastern_Towhee:(0.872) cub_026_Bronzed_Cowbird:(0.755) cub_027_Shiny_Cowbird:(0.8769) cub_049_Boat_tailed_Grackle:(0.7448) cub_076_Dark_eyed_Junco:(0.779) cub_088_Western_Meadowlark:(0.9886) cub_095_Baltimore_Oriole:(0.7487) cub_096_Hooded_Oriole:(0.8406) cub_097_Orchard_Oriole:(0.7826) cub_098_Scott_Oriole:(0.9229) cub_099_Ovenbird:(0.9932) cub_109_American_Redstart:(0.9252) cub_113_Baird_Sparrow:(0.9668) cub_114_Black_throated_Sparrow:(0.9804) cub_115_Brewer_Sparrow:(0.9462) cub_116_Chipping_Sparrow:(0.9718) cub_117_Clay_colored_Sparrow:(0.9631) cub_119_Field_Sparrow:(0.9731) cub_120_Fox_Sparrow:(0.9854) cub_121_Grasshopper_Sparrow:(0.9621) cub_122_Harris_Sparrow:(0.9393) cub_123_Henslow_Sparrow:(0.9401) cub_124_Le_Conte_Sparrow:(0.9091) cub_125_Lincoln_Sparrow:(0.9751) cub_126_Nelson_Sharp_tailed_Sparrow:(0.9258) cub_127_Savannah_Sparrow:(0.9858) cub_128_Seaside_Sparrow:(0.9691) cub_129_Song_Sparrow:(0.9716) cub_130_Tree_Sparrow:(0.9448) cub_131_Vesper_Sparrow:(0.9912) cub_132_White_crowned_Sparrow:(0.9179) cub_133_White_throated_Sparrow:(0.9845) cub_148_Green_tailed_Towhee:(0.9396) cub_158_Bay_breasted_Warbler:(0.9511) cub_159_Black_and_white_Warbler:(0.9856) cub_160_Black_throated_Blue_Warbler:(0.9782) cub_161_Blue_winged_Warbler:(0.9468) cub_162_Canada_Warbler:(0.9836) cub_163_Cape_May_Warbler:(0.9758) cub_164_Cerulean_Warbler:(0.971) cub_165_Chestnut_sided_Warbler:(0.9807) cub_166_Golden_winged_Warbler:(0.9849) cub_167_Hooded_Warbler:(0.9728) cub_168_Kentucky_Warbler:(0.9939) cub_169_Magnolia_Warbler:(0.9912) cub_170_Mourning_Warbler:(0.927) cub_172_Nashville_Warbler:(0.9418) cub_173_Orange_crowned_Warbler:(0.9091) cub_174_Palm_Warbler:(0.9911) cub_175_Pine_Warbler:(0.9695) cub_176_Prairie_Warbler:(0.9899) cub_177_Prothonotary_Warbler:(0.8342) cub_178_Swainson_Warbler:(0.9799) cub_179_Tennessee_Warbler:(0.8933) cub_180_Wilson_Warbler:(0.8115) cub_181_Worm_eating_Warbler:(0.943) cub_182_Yellow_Warbler:(0.9174) cub_183_Northern_Waterthrush:(0.9968) cub_184_Louisiana_Waterthrush:(0.9967) cub_200_Common_Yellowthroat:(0.9576) \n",
      "\t\tProto:6 cub_009_Brewer_Blackbird:(0.9587) cub_010_Red_winged_Blackbird:(0.8826) cub_011_Rusty_Blackbird:(0.9761) cub_012_Yellow_headed_Blackbird:(0.9278) cub_013_Bobolink:(0.8846) cub_020_Yellow_breasted_Chat:(0.9304) cub_021_Eastern_Towhee:(0.9203) cub_026_Bronzed_Cowbird:(0.9856) cub_027_Shiny_Cowbird:(0.9172) cub_049_Boat_tailed_Grackle:(0.9457) cub_076_Dark_eyed_Junco:(0.9569) cub_088_Western_Meadowlark:(0.9972) cub_095_Baltimore_Oriole:(0.9219) cub_096_Hooded_Oriole:(0.9742) cub_097_Orchard_Oriole:(0.8821) cub_098_Scott_Oriole:(0.9506) cub_099_Ovenbird:(0.986) cub_109_American_Redstart:(0.932) cub_113_Baird_Sparrow:(0.994) cub_114_Black_throated_Sparrow:(0.9734) cub_115_Brewer_Sparrow:(0.9771) cub_116_Chipping_Sparrow:(0.9886) cub_117_Clay_colored_Sparrow:(0.9952) cub_119_Field_Sparrow:(0.9368) cub_120_Fox_Sparrow:(0.8011) cub_121_Grasshopper_Sparrow:(0.969) cub_122_Harris_Sparrow:(0.9317) cub_123_Henslow_Sparrow:(0.9875) cub_124_Le_Conte_Sparrow:(0.9536) cub_125_Lincoln_Sparrow:(0.9591) cub_126_Nelson_Sharp_tailed_Sparrow:(0.9274) cub_127_Savannah_Sparrow:(0.9907) cub_128_Seaside_Sparrow:(0.9949) cub_129_Song_Sparrow:(0.9327) cub_130_Tree_Sparrow:(0.9063) cub_131_Vesper_Sparrow:(0.9873) cub_132_White_crowned_Sparrow:(0.9919) cub_133_White_throated_Sparrow:(0.9905) cub_148_Green_tailed_Towhee:(0.9676) cub_158_Bay_breasted_Warbler:(0.9609) cub_159_Black_and_white_Warbler:(0.9917) cub_160_Black_throated_Blue_Warbler:(0.7823) cub_161_Blue_winged_Warbler:(0.9759) cub_162_Canada_Warbler:(0.9855) cub_163_Cape_May_Warbler:(0.9824) cub_164_Cerulean_Warbler:(0.8137) cub_165_Chestnut_sided_Warbler:(0.9889) cub_166_Golden_winged_Warbler:(0.9952) cub_167_Hooded_Warbler:(0.986) cub_168_Kentucky_Warbler:(0.9799) cub_169_Magnolia_Warbler:(0.9727) cub_170_Mourning_Warbler:(0.9633) cub_172_Nashville_Warbler:(0.861) cub_173_Orange_crowned_Warbler:(0.9655) cub_174_Palm_Warbler:(0.9926) cub_175_Pine_Warbler:(0.9636) cub_176_Prairie_Warbler:(0.9895) cub_177_Prothonotary_Warbler:(0.9707) cub_178_Swainson_Warbler:(0.9963) cub_179_Tennessee_Warbler:(0.993) cub_180_Wilson_Warbler:(0.9728) cub_181_Worm_eating_Warbler:(0.9973) cub_182_Yellow_Warbler:(0.9682) cub_183_Northern_Waterthrush:(0.9932) cub_184_Louisiana_Waterthrush:(0.9904) cub_200_Common_Yellowthroat:(0.967) \n",
      "\t\tProto:8 cub_009_Brewer_Blackbird:(0.9973) cub_010_Red_winged_Blackbird:(0.9927) cub_011_Rusty_Blackbird:(0.997) cub_012_Yellow_headed_Blackbird:(0.9879) cub_013_Bobolink:(0.9762) cub_020_Yellow_breasted_Chat:(0.9883) cub_021_Eastern_Towhee:(0.9524) cub_026_Bronzed_Cowbird:(0.8001) cub_027_Shiny_Cowbird:(0.9951) cub_049_Boat_tailed_Grackle:(0.9946) cub_076_Dark_eyed_Junco:(0.8146) cub_088_Western_Meadowlark:(0.992) cub_095_Baltimore_Oriole:(0.9988) cub_096_Hooded_Oriole:(0.9712) cub_097_Orchard_Oriole:(0.9876) cub_098_Scott_Oriole:(0.9943) cub_099_Ovenbird:(0.986) cub_109_American_Redstart:(0.9758) cub_113_Baird_Sparrow:(0.9609) cub_114_Black_throated_Sparrow:(0.9975) cub_115_Brewer_Sparrow:(0.9967) cub_116_Chipping_Sparrow:(0.9974) cub_117_Clay_colored_Sparrow:(0.9967) cub_119_Field_Sparrow:(0.997) cub_120_Fox_Sparrow:(0.9802) cub_121_Grasshopper_Sparrow:(0.9924) cub_122_Harris_Sparrow:(0.901) cub_123_Henslow_Sparrow:(0.983) cub_124_Le_Conte_Sparrow:(0.9939) cub_125_Lincoln_Sparrow:(0.9814) cub_126_Nelson_Sharp_tailed_Sparrow:(0.9783) cub_127_Savannah_Sparrow:(0.9955) cub_128_Seaside_Sparrow:(0.9923) cub_129_Song_Sparrow:(0.9883) cub_130_Tree_Sparrow:(0.992) cub_131_Vesper_Sparrow:(0.989) cub_132_White_crowned_Sparrow:(0.995) cub_133_White_throated_Sparrow:(0.9977) cub_148_Green_tailed_Towhee:(0.9603) cub_158_Bay_breasted_Warbler:(0.9948) cub_159_Black_and_white_Warbler:(0.9959) cub_160_Black_throated_Blue_Warbler:(0.5887) cub_161_Blue_winged_Warbler:(0.9962) cub_162_Canada_Warbler:(0.9974) cub_163_Cape_May_Warbler:(0.9934) cub_164_Cerulean_Warbler:(0.6081) cub_165_Chestnut_sided_Warbler:(0.9907) cub_166_Golden_winged_Warbler:(0.9932) cub_167_Hooded_Warbler:(0.9911) cub_168_Kentucky_Warbler:(0.9925) cub_169_Magnolia_Warbler:(0.9682) cub_170_Mourning_Warbler:(0.9007) cub_172_Nashville_Warbler:(0.9965) cub_173_Orange_crowned_Warbler:(0.9829) cub_174_Palm_Warbler:(0.9983) cub_175_Pine_Warbler:(0.9892) cub_176_Prairie_Warbler:(0.9966) cub_177_Prothonotary_Warbler:(0.9826) cub_178_Swainson_Warbler:(0.9985) cub_179_Tennessee_Warbler:(0.9952) cub_180_Wilson_Warbler:(0.985) cub_181_Worm_eating_Warbler:(0.9967) cub_182_Yellow_Warbler:(0.9872) cub_183_Northern_Waterthrush:(0.999) cub_184_Louisiana_Waterthrush:(0.9954) cub_200_Common_Yellowthroat:(0.9902) \n",
      "\t Child: 054+140\n",
      "\t\tProto:10 cub_014_Indigo_Bunting:(0.9358) cub_015_Lazuli_Bunting:(0.8626) cub_016_Painted_Bunting:(0.9753) cub_017_Cardinal:(0.8908) cub_054_Blue_Grosbeak:(0.8706) cub_057_Rose_breasted_Grosbeak:(0.0356) cub_139_Scarlet_Tanager:(0.9784) cub_140_Summer_Tanager:(0.9828) \n",
      "\t\tProto:14 cub_014_Indigo_Bunting:(0.7946) cub_015_Lazuli_Bunting:(0.8932) cub_016_Painted_Bunting:(0.908) cub_017_Cardinal:(0.8135) cub_054_Blue_Grosbeak:(0.9028) cub_057_Rose_breasted_Grosbeak:(0.601) cub_139_Scarlet_Tanager:(0.9535) cub_140_Summer_Tanager:(0.9836) \n",
      "\t\tProto:15 cub_014_Indigo_Bunting:(0.8618) cub_015_Lazuli_Bunting:(0.9232) cub_016_Painted_Bunting:(0.939) cub_017_Cardinal:(0.9723) cub_054_Blue_Grosbeak:(0.9697) cub_057_Rose_breasted_Grosbeak:(0.9853) cub_139_Scarlet_Tanager:(0.9772) cub_140_Summer_Tanager:(0.975) \n",
      "\t\tProto:18 cub_014_Indigo_Bunting:(0.811) cub_015_Lazuli_Bunting:(0.5755) cub_016_Painted_Bunting:(0.6364) cub_017_Cardinal:(0.5623) cub_054_Blue_Grosbeak:(0.8599) cub_057_Rose_breasted_Grosbeak:(0.5211) cub_139_Scarlet_Tanager:(0.7888) cub_140_Summer_Tanager:(0.6121) \n",
      "\t\tProto:19 cub_014_Indigo_Bunting:(0.9601) cub_015_Lazuli_Bunting:(0.8172) cub_016_Painted_Bunting:(0.9574) cub_017_Cardinal:(0.4981) cub_054_Blue_Grosbeak:(0.9649) cub_057_Rose_breasted_Grosbeak:(0.6479) cub_139_Scarlet_Tanager:(0.9592) cub_140_Summer_Tanager:(0.9685) \n"
     ]
    },
    {
     "name": "stderr",
     "output_type": "stream",
     "text": [
      "Collecting topk: 179it [00:23,  7.74it/s]  \n"
     ]
    },
    {
     "name": "stdout",
     "output_type": "stream",
     "text": [
      "Node 035+055\n",
      "\t Child: 035+048\n",
      "\t\tProto:0 cub_034_Gray_crowned_Rosy_Finch:(0.9997) cub_035_Purple_Finch:(1.0) cub_047_American_Goldfinch:(1.0) cub_048_European_Goldfinch:(1.0) cub_056_Pine_Grosbeak:(0.9999) \n",
      "\t\tProto:1 cub_034_Gray_crowned_Rosy_Finch:(1.0) cub_035_Purple_Finch:(0.9999) cub_047_American_Goldfinch:(0.9998) cub_048_European_Goldfinch:(0.9999) cub_056_Pine_Grosbeak:(0.9999) \n",
      "\t\tProto:6 cub_034_Gray_crowned_Rosy_Finch:(0.9999) cub_035_Purple_Finch:(0.9999) cub_047_American_Goldfinch:(1.0) cub_048_European_Goldfinch:(0.9999) cub_056_Pine_Grosbeak:(1.0) \n",
      "\t\tProto:7 cub_034_Gray_crowned_Rosy_Finch:(1.0) cub_035_Purple_Finch:(1.0) cub_047_American_Goldfinch:(1.0) cub_048_European_Goldfinch:(1.0) cub_056_Pine_Grosbeak:(0.9999) \n",
      "\t\tProto:9 cub_034_Gray_crowned_Rosy_Finch:(1.0) cub_035_Purple_Finch:(1.0) cub_047_American_Goldfinch:(1.0) cub_048_European_Goldfinch:(1.0) cub_056_Pine_Grosbeak:(0.9999) \n",
      "\t Child: cub_055_Evening_Grosbeak\n",
      "\t\tProto:16 cub_055_Evening_Grosbeak:(1.0) \n",
      "\t\tProto:19 cub_055_Evening_Grosbeak:(1.0) \n",
      "\t\tProto:13 cub_055_Evening_Grosbeak:(0.9997) \n"
     ]
    },
    {
     "name": "stderr",
     "output_type": "stream",
     "text": [
      "Collecting topk: 239it [00:26,  9.17it/s]  \n"
     ]
    },
    {
     "name": "stdout",
     "output_type": "stream",
     "text": [
      "Node 199+028\n",
      "\t Child: 199+198\n",
      "\t\tProto:0 cub_193_Bewick_Wren:(0.9997) cub_194_Cactus_Wren:(0.9997) cub_195_Carolina_Wren:(0.9997) cub_196_House_Wren:(0.9998) cub_197_Marsh_Wren:(0.9992) cub_198_Rock_Wren:(0.9999) cub_199_Winter_Wren:(0.9996) \n",
      "\t\tProto:1 cub_193_Bewick_Wren:(0.9995) cub_194_Cactus_Wren:(0.9998) cub_195_Carolina_Wren:(0.9999) cub_196_House_Wren:(0.9996) cub_197_Marsh_Wren:(0.9994) cub_198_Rock_Wren:(1.0) cub_199_Winter_Wren:(0.9997) \n",
      "\t\tProto:2 cub_193_Bewick_Wren:(0.9998) cub_194_Cactus_Wren:(0.9984) cub_195_Carolina_Wren:(0.9999) cub_196_House_Wren:(0.9999) cub_197_Marsh_Wren:(0.9999) cub_198_Rock_Wren:(0.9999) cub_199_Winter_Wren:(0.9999) \n",
      "\t\tProto:3 cub_193_Bewick_Wren:(0.9997) cub_194_Cactus_Wren:(0.9997) cub_195_Carolina_Wren:(1.0) cub_196_House_Wren:(1.0) cub_197_Marsh_Wren:(0.9996) cub_198_Rock_Wren:(0.9999) cub_199_Winter_Wren:(0.9997) \n",
      "\t\tProto:4 cub_193_Bewick_Wren:(0.9999) cub_194_Cactus_Wren:(0.9996) cub_195_Carolina_Wren:(1.0) cub_196_House_Wren:(0.9999) cub_197_Marsh_Wren:(0.9998) cub_198_Rock_Wren:(1.0) cub_199_Winter_Wren:(0.9999) \n",
      "\t\tProto:6 cub_193_Bewick_Wren:(0.9997) cub_194_Cactus_Wren:(0.999) cub_195_Carolina_Wren:(0.9998) cub_196_House_Wren:(0.9998) cub_197_Marsh_Wren:(0.9999) cub_198_Rock_Wren:(0.9999) cub_199_Winter_Wren:(0.9998) \n",
      "\t\tProto:9 cub_193_Bewick_Wren:(1.0) cub_194_Cactus_Wren:(0.9994) cub_195_Carolina_Wren:(1.0) cub_196_House_Wren:(0.9999) cub_197_Marsh_Wren:(0.9996) cub_198_Rock_Wren:(0.9999) cub_199_Winter_Wren:(1.0) \n",
      "\t Child: cub_028_Brown_Creeper\n",
      "\t\tProto:11 cub_028_Brown_Creeper:(0.9997) \n",
      "\t\tProto:12 cub_028_Brown_Creeper:(0.9917) \n",
      "\t\tProto:13 cub_028_Brown_Creeper:(0.893) \n",
      "\t\tProto:14 cub_028_Brown_Creeper:(0.9997) \n"
     ]
    },
    {
     "name": "stderr",
     "output_type": "stream",
     "text": [
      "Collecting topk: 89it [00:18,  4.71it/s]   \n"
     ]
    },
    {
     "name": "stdout",
     "output_type": "stream",
     "text": [
      "Node 150+149\n",
      "\t Child: 150+091\n",
      "\t\tProto:1 cub_091_Mockingbird:(1.0) cub_150_Sage_Thrasher:(1.0) \n",
      "\t\tProto:3 cub_091_Mockingbird:(0.9996) cub_150_Sage_Thrasher:(0.9998) \n",
      "\t\tProto:6 cub_091_Mockingbird:(1.0) cub_150_Sage_Thrasher:(1.0) \n",
      "\t\tProto:9 cub_091_Mockingbird:(1.0) cub_150_Sage_Thrasher:(1.0) \n",
      "\t Child: cub_149_Brown_Thrasher\n",
      "\t\tProto:11 cub_149_Brown_Thrasher:(1.0) \n",
      "\t\tProto:13 cub_149_Brown_Thrasher:(0.9933) \n"
     ]
    },
    {
     "name": "stderr",
     "output_type": "stream",
     "text": [
      "Collecting topk: 90it [00:18,  4.77it/s]   \n"
     ]
    },
    {
     "name": "stdout",
     "output_type": "stream",
     "text": [
      "Node 107+029\n",
      "\t Child: 107+108\n",
      "\t\tProto:0 cub_107_Common_Raven:(1.0) cub_108_White_necked_Raven:(0.9999) \n",
      "\t\tProto:4 cub_107_Common_Raven:(0.9985) cub_108_White_necked_Raven:(1.0) \n",
      "\t\tProto:6 cub_107_Common_Raven:(1.0) cub_108_White_necked_Raven:(1.0) \n",
      "\t Child: cub_029_American_Crow\n",
      "\t\tProto:19 cub_029_American_Crow:(0.9947) \n",
      "\t\tProto:12 cub_029_American_Crow:(0.9983) \n",
      "\t\tProto:13 cub_029_American_Crow:(0.9985) \n"
     ]
    },
    {
     "name": "stderr",
     "output_type": "stream",
     "text": [
      "Collecting topk: 1948it [01:43, 18.78it/s]\n"
     ]
    },
    {
     "name": "stdout",
     "output_type": "stream",
     "text": [
      "Node 129+175\n",
      "\t Child: 129+011\n",
      "\t\tProto:0 cub_009_Brewer_Blackbird:(0.8734) cub_010_Red_winged_Blackbird:(0.6899) cub_011_Rusty_Blackbird:(0.8139) cub_012_Yellow_headed_Blackbird:(0.3653) cub_013_Bobolink:(0.7499) cub_021_Eastern_Towhee:(0.7609) cub_026_Bronzed_Cowbird:(0.8959) cub_027_Shiny_Cowbird:(0.7042) cub_049_Boat_tailed_Grackle:(0.7767) cub_076_Dark_eyed_Junco:(0.8784) cub_088_Western_Meadowlark:(0.0432) cub_095_Baltimore_Oriole:(0.3165) cub_096_Hooded_Oriole:(0.3088) cub_097_Orchard_Oriole:(0.4843) cub_098_Scott_Oriole:(0.2717) cub_113_Baird_Sparrow:(0.3871) cub_114_Black_throated_Sparrow:(0.8163) cub_115_Brewer_Sparrow:(0.9108) cub_116_Chipping_Sparrow:(0.9364) cub_117_Clay_colored_Sparrow:(0.7346) cub_119_Field_Sparrow:(0.8869) cub_120_Fox_Sparrow:(0.8928) cub_121_Grasshopper_Sparrow:(0.4609) cub_122_Harris_Sparrow:(0.8854) cub_123_Henslow_Sparrow:(0.4546) cub_124_Le_Conte_Sparrow:(0.5434) cub_125_Lincoln_Sparrow:(0.582) cub_126_Nelson_Sharp_tailed_Sparrow:(0.4587) cub_127_Savannah_Sparrow:(0.5013) cub_128_Seaside_Sparrow:(0.6696) cub_129_Song_Sparrow:(0.7406) cub_130_Tree_Sparrow:(0.8975) cub_131_Vesper_Sparrow:(0.8244) cub_132_White_crowned_Sparrow:(0.9845) cub_133_White_throated_Sparrow:(0.6709) cub_148_Green_tailed_Towhee:(0.8814) \n",
      "\t\tProto:1 cub_009_Brewer_Blackbird:(0.5742) cub_010_Red_winged_Blackbird:(0.0836) cub_011_Rusty_Blackbird:(0.845) cub_012_Yellow_headed_Blackbird:(0.0227) cub_013_Bobolink:(0.2602) cub_021_Eastern_Towhee:(0.6763) cub_026_Bronzed_Cowbird:(0.6549) cub_027_Shiny_Cowbird:(0.258) cub_049_Boat_tailed_Grackle:(0.6803) cub_076_Dark_eyed_Junco:(0.6583) cub_088_Western_Meadowlark:(0.9021) cub_095_Baltimore_Oriole:(0.0514) cub_096_Hooded_Oriole:(0.1371) cub_097_Orchard_Oriole:(0.4568) cub_098_Scott_Oriole:(0.1572) cub_113_Baird_Sparrow:(0.9979) cub_114_Black_throated_Sparrow:(0.1615) cub_115_Brewer_Sparrow:(0.9884) cub_116_Chipping_Sparrow:(0.9775) cub_117_Clay_colored_Sparrow:(0.9948) cub_119_Field_Sparrow:(0.9973) cub_120_Fox_Sparrow:(0.9937) cub_121_Grasshopper_Sparrow:(0.9977) cub_122_Harris_Sparrow:(0.9874) cub_123_Henslow_Sparrow:(0.996) cub_124_Le_Conte_Sparrow:(0.9978) cub_125_Lincoln_Sparrow:(0.9998) cub_126_Nelson_Sharp_tailed_Sparrow:(0.9811) cub_127_Savannah_Sparrow:(0.9839) cub_128_Seaside_Sparrow:(0.9807) cub_129_Song_Sparrow:(0.9975) cub_130_Tree_Sparrow:(0.9988) cub_131_Vesper_Sparrow:(0.9978) cub_132_White_crowned_Sparrow:(0.6754) cub_133_White_throated_Sparrow:(0.9143) cub_148_Green_tailed_Towhee:(0.9662) \n",
      "\t\tProto:2 cub_009_Brewer_Blackbird:(0.7089) cub_010_Red_winged_Blackbird:(0.9511) cub_011_Rusty_Blackbird:(0.6459) cub_012_Yellow_headed_Blackbird:(0.384) cub_013_Bobolink:(0.969) cub_021_Eastern_Towhee:(0.9571) cub_026_Bronzed_Cowbird:(0.9791) cub_027_Shiny_Cowbird:(0.8298) cub_049_Boat_tailed_Grackle:(0.7112) cub_076_Dark_eyed_Junco:(0.9549) cub_088_Western_Meadowlark:(0.3682) cub_095_Baltimore_Oriole:(0.9065) cub_096_Hooded_Oriole:(0.8661) cub_097_Orchard_Oriole:(0.9158) cub_098_Scott_Oriole:(0.9256) cub_113_Baird_Sparrow:(0.9573) cub_114_Black_throated_Sparrow:(0.9596) cub_115_Brewer_Sparrow:(0.8703) cub_116_Chipping_Sparrow:(0.5457) cub_117_Clay_colored_Sparrow:(0.9695) cub_119_Field_Sparrow:(0.97) cub_120_Fox_Sparrow:(0.9503) cub_121_Grasshopper_Sparrow:(0.9795) cub_122_Harris_Sparrow:(0.9613) cub_123_Henslow_Sparrow:(0.8276) cub_124_Le_Conte_Sparrow:(0.9269) cub_125_Lincoln_Sparrow:(0.7967) cub_126_Nelson_Sharp_tailed_Sparrow:(0.9955) cub_127_Savannah_Sparrow:(0.9528) cub_128_Seaside_Sparrow:(0.9747) cub_129_Song_Sparrow:(0.9036) cub_130_Tree_Sparrow:(0.8414) cub_131_Vesper_Sparrow:(0.931) cub_132_White_crowned_Sparrow:(0.9713) cub_133_White_throated_Sparrow:(0.9067) cub_148_Green_tailed_Towhee:(0.5629) \n",
      "\t\tProto:3 cub_009_Brewer_Blackbird:(0.9985) cub_010_Red_winged_Blackbird:(0.9811) cub_011_Rusty_Blackbird:(0.9916) cub_012_Yellow_headed_Blackbird:(0.9417) cub_013_Bobolink:(0.9135) cub_021_Eastern_Towhee:(0.2311) cub_026_Bronzed_Cowbird:(0.9958) cub_027_Shiny_Cowbird:(0.9979) cub_049_Boat_tailed_Grackle:(0.9975) cub_076_Dark_eyed_Junco:(0.7325) cub_088_Western_Meadowlark:(0.2747) cub_095_Baltimore_Oriole:(0.9745) cub_096_Hooded_Oriole:(0.9735) cub_097_Orchard_Oriole:(0.7189) cub_098_Scott_Oriole:(0.7956) cub_113_Baird_Sparrow:(0.4097) cub_114_Black_throated_Sparrow:(0.389) cub_115_Brewer_Sparrow:(0.5209) cub_116_Chipping_Sparrow:(0.7351) cub_117_Clay_colored_Sparrow:(0.3427) cub_119_Field_Sparrow:(0.7117) cub_120_Fox_Sparrow:(0.5404) cub_121_Grasshopper_Sparrow:(0.6126) cub_122_Harris_Sparrow:(0.4457) cub_123_Henslow_Sparrow:(0.5188) cub_124_Le_Conte_Sparrow:(0.4542) cub_125_Lincoln_Sparrow:(0.4614) cub_126_Nelson_Sharp_tailed_Sparrow:(0.4242) cub_127_Savannah_Sparrow:(0.4703) cub_128_Seaside_Sparrow:(0.8497) cub_129_Song_Sparrow:(0.8363) cub_130_Tree_Sparrow:(0.4272) cub_131_Vesper_Sparrow:(0.811) cub_132_White_crowned_Sparrow:(0.8198) cub_133_White_throated_Sparrow:(0.96) cub_148_Green_tailed_Towhee:(0.6161) \n",
      "\t\tProto:5 cub_009_Brewer_Blackbird:(0.6568) cub_010_Red_winged_Blackbird:(0.7035) cub_011_Rusty_Blackbird:(0.6686) cub_012_Yellow_headed_Blackbird:(0.4441) cub_013_Bobolink:(0.372) cub_021_Eastern_Towhee:(0.8386) cub_026_Bronzed_Cowbird:(0.6082) cub_027_Shiny_Cowbird:(0.781) cub_049_Boat_tailed_Grackle:(0.7213) cub_076_Dark_eyed_Junco:(0.7013) cub_088_Western_Meadowlark:(0.6494) cub_095_Baltimore_Oriole:(0.4311) cub_096_Hooded_Oriole:(0.581) cub_097_Orchard_Oriole:(0.7739) cub_098_Scott_Oriole:(0.0898) cub_113_Baird_Sparrow:(0.352) cub_114_Black_throated_Sparrow:(0.6602) cub_115_Brewer_Sparrow:(0.5297) cub_116_Chipping_Sparrow:(0.3142) cub_117_Clay_colored_Sparrow:(0.7593) cub_119_Field_Sparrow:(0.7274) cub_120_Fox_Sparrow:(0.9618) cub_121_Grasshopper_Sparrow:(0.2923) cub_122_Harris_Sparrow:(0.751) cub_123_Henslow_Sparrow:(0.6731) cub_124_Le_Conte_Sparrow:(0.4856) cub_125_Lincoln_Sparrow:(0.9151) cub_126_Nelson_Sharp_tailed_Sparrow:(0.5259) cub_127_Savannah_Sparrow:(0.7517) cub_128_Seaside_Sparrow:(0.7545) cub_129_Song_Sparrow:(0.944) cub_130_Tree_Sparrow:(0.549) cub_131_Vesper_Sparrow:(0.4283) cub_132_White_crowned_Sparrow:(0.7666) cub_133_White_throated_Sparrow:(0.9664) cub_148_Green_tailed_Towhee:(0.521) \n",
      "\t\tProto:6 cub_009_Brewer_Blackbird:(0.8256) cub_010_Red_winged_Blackbird:(0.7387) cub_011_Rusty_Blackbird:(0.7765) cub_012_Yellow_headed_Blackbird:(0.5685) cub_013_Bobolink:(0.4343) cub_021_Eastern_Towhee:(0.8225) cub_026_Bronzed_Cowbird:(0.9829) cub_027_Shiny_Cowbird:(0.7758) cub_049_Boat_tailed_Grackle:(0.7902) cub_076_Dark_eyed_Junco:(0.8375) cub_088_Western_Meadowlark:(0.8748) cub_095_Baltimore_Oriole:(0.1711) cub_096_Hooded_Oriole:(0.54) cub_097_Orchard_Oriole:(0.5404) cub_098_Scott_Oriole:(0.3985) cub_113_Baird_Sparrow:(0.6112) cub_114_Black_throated_Sparrow:(0.5138) cub_115_Brewer_Sparrow:(0.6186) cub_116_Chipping_Sparrow:(0.8843) cub_117_Clay_colored_Sparrow:(0.6562) cub_119_Field_Sparrow:(0.2658) cub_120_Fox_Sparrow:(0.4487) cub_121_Grasshopper_Sparrow:(0.9084) cub_122_Harris_Sparrow:(0.9655) cub_123_Henslow_Sparrow:(0.5046) cub_124_Le_Conte_Sparrow:(0.612) cub_125_Lincoln_Sparrow:(0.401) cub_126_Nelson_Sharp_tailed_Sparrow:(0.9352) cub_127_Savannah_Sparrow:(0.8756) cub_128_Seaside_Sparrow:(0.9013) cub_129_Song_Sparrow:(0.4094) cub_130_Tree_Sparrow:(0.3924) cub_131_Vesper_Sparrow:(0.5454) cub_132_White_crowned_Sparrow:(0.255) cub_133_White_throated_Sparrow:(0.8522) cub_148_Green_tailed_Towhee:(0.6911) \n",
      "\t\tProto:7 cub_009_Brewer_Blackbird:(0.9991) cub_010_Red_winged_Blackbird:(0.996) cub_011_Rusty_Blackbird:(0.9975) cub_012_Yellow_headed_Blackbird:(0.9978) cub_013_Bobolink:(0.9995) cub_021_Eastern_Towhee:(0.9839) cub_026_Bronzed_Cowbird:(0.9969) cub_027_Shiny_Cowbird:(0.9973) cub_049_Boat_tailed_Grackle:(0.9988) cub_076_Dark_eyed_Junco:(0.9967) cub_088_Western_Meadowlark:(0.9906) cub_095_Baltimore_Oriole:(0.9907) cub_096_Hooded_Oriole:(0.9916) cub_097_Orchard_Oriole:(0.9735) cub_098_Scott_Oriole:(0.9989) cub_113_Baird_Sparrow:(0.9978) cub_114_Black_throated_Sparrow:(0.9999) cub_115_Brewer_Sparrow:(0.9898) cub_116_Chipping_Sparrow:(0.9969) cub_117_Clay_colored_Sparrow:(0.9949) cub_119_Field_Sparrow:(0.9201) cub_120_Fox_Sparrow:(0.9656) cub_121_Grasshopper_Sparrow:(0.9881) cub_122_Harris_Sparrow:(0.9992) cub_123_Henslow_Sparrow:(0.9888) cub_124_Le_Conte_Sparrow:(0.9478) cub_125_Lincoln_Sparrow:(0.9654) cub_126_Nelson_Sharp_tailed_Sparrow:(0.9915) cub_127_Savannah_Sparrow:(0.9917) cub_128_Seaside_Sparrow:(0.9992) cub_129_Song_Sparrow:(0.9694) cub_130_Tree_Sparrow:(0.9906) cub_131_Vesper_Sparrow:(0.9887) cub_132_White_crowned_Sparrow:(0.9996) cub_133_White_throated_Sparrow:(0.9994) cub_148_Green_tailed_Towhee:(0.9988) \n",
      "\t\tProto:9 cub_009_Brewer_Blackbird:(0.8731) cub_010_Red_winged_Blackbird:(0.8866) cub_011_Rusty_Blackbird:(0.7303) cub_012_Yellow_headed_Blackbird:(0.2159) cub_013_Bobolink:(0.9579) cub_021_Eastern_Towhee:(0.9351) cub_026_Bronzed_Cowbird:(0.9975) cub_027_Shiny_Cowbird:(0.9697) cub_049_Boat_tailed_Grackle:(0.7367) cub_076_Dark_eyed_Junco:(0.9755) cub_088_Western_Meadowlark:(0.9782) cub_095_Baltimore_Oriole:(0.8637) cub_096_Hooded_Oriole:(0.9923) cub_097_Orchard_Oriole:(0.9) cub_098_Scott_Oriole:(0.903) cub_113_Baird_Sparrow:(0.9853) cub_114_Black_throated_Sparrow:(0.8433) cub_115_Brewer_Sparrow:(0.916) cub_116_Chipping_Sparrow:(0.689) cub_117_Clay_colored_Sparrow:(0.9492) cub_119_Field_Sparrow:(0.9194) cub_120_Fox_Sparrow:(0.631) cub_121_Grasshopper_Sparrow:(0.9889) cub_122_Harris_Sparrow:(0.9938) cub_123_Henslow_Sparrow:(0.9714) cub_124_Le_Conte_Sparrow:(0.9357) cub_125_Lincoln_Sparrow:(0.596) cub_126_Nelson_Sharp_tailed_Sparrow:(0.9932) cub_127_Savannah_Sparrow:(0.9825) cub_128_Seaside_Sparrow:(0.9925) cub_129_Song_Sparrow:(0.7938) cub_130_Tree_Sparrow:(0.8818) cub_131_Vesper_Sparrow:(0.5547) cub_132_White_crowned_Sparrow:(0.9816) cub_133_White_throated_Sparrow:(0.9829) cub_148_Green_tailed_Towhee:(0.9151) \n",
      "\t Child: 175+020\n",
      "\t\tProto:11 cub_020_Yellow_breasted_Chat:(0.3918) cub_099_Ovenbird:(0.7845) cub_109_American_Redstart:(0.8749) cub_158_Bay_breasted_Warbler:(0.5748) cub_159_Black_and_white_Warbler:(0.5988) cub_160_Black_throated_Blue_Warbler:(0.5661) cub_161_Blue_winged_Warbler:(0.56) cub_162_Canada_Warbler:(0.5131) cub_163_Cape_May_Warbler:(0.6848) cub_164_Cerulean_Warbler:(0.7633) cub_165_Chestnut_sided_Warbler:(0.8478) cub_166_Golden_winged_Warbler:(0.5883) cub_167_Hooded_Warbler:(0.6878) cub_168_Kentucky_Warbler:(0.8059) cub_169_Magnolia_Warbler:(0.6791) cub_170_Mourning_Warbler:(0.7444) cub_172_Nashville_Warbler:(0.7944) cub_173_Orange_crowned_Warbler:(0.6295) cub_174_Palm_Warbler:(0.6792) cub_175_Pine_Warbler:(0.5626) cub_176_Prairie_Warbler:(0.6234) cub_177_Prothonotary_Warbler:(0.6032) cub_178_Swainson_Warbler:(0.4367) cub_179_Tennessee_Warbler:(0.869) cub_180_Wilson_Warbler:(0.7188) cub_181_Worm_eating_Warbler:(0.7475) cub_182_Yellow_Warbler:(0.6071) cub_183_Northern_Waterthrush:(0.7747) cub_184_Louisiana_Waterthrush:(0.7996) cub_200_Common_Yellowthroat:(0.8243) \n",
      "\t\tProto:14 cub_020_Yellow_breasted_Chat:(0.9996) cub_099_Ovenbird:(0.9933) cub_109_American_Redstart:(0.7486) cub_158_Bay_breasted_Warbler:(0.9609) cub_159_Black_and_white_Warbler:(0.9699) cub_160_Black_throated_Blue_Warbler:(0.9942) cub_161_Blue_winged_Warbler:(0.9993) cub_162_Canada_Warbler:(0.9958) cub_163_Cape_May_Warbler:(0.9677) cub_164_Cerulean_Warbler:(0.9996) cub_165_Chestnut_sided_Warbler:(0.9855) cub_166_Golden_winged_Warbler:(0.9983) cub_167_Hooded_Warbler:(0.999) cub_168_Kentucky_Warbler:(0.9998) cub_169_Magnolia_Warbler:(0.9964) cub_170_Mourning_Warbler:(0.9944) cub_172_Nashville_Warbler:(0.9924) cub_173_Orange_crowned_Warbler:(0.9975) cub_174_Palm_Warbler:(0.9821) cub_175_Pine_Warbler:(0.9993) cub_176_Prairie_Warbler:(0.9998) cub_177_Prothonotary_Warbler:(0.9933) cub_178_Swainson_Warbler:(0.9878) cub_179_Tennessee_Warbler:(0.9986) cub_180_Wilson_Warbler:(0.9994) cub_181_Worm_eating_Warbler:(0.9858) cub_182_Yellow_Warbler:(0.9984) cub_183_Northern_Waterthrush:(0.9761) cub_184_Louisiana_Waterthrush:(0.9821) cub_200_Common_Yellowthroat:(0.9999) \n",
      "\t\tProto:15 cub_020_Yellow_breasted_Chat:(0.9442) cub_099_Ovenbird:(0.7919) cub_109_American_Redstart:(0.8417) cub_158_Bay_breasted_Warbler:(0.9583) cub_159_Black_and_white_Warbler:(0.9378) cub_160_Black_throated_Blue_Warbler:(0.9271) cub_161_Blue_winged_Warbler:(0.9956) cub_162_Canada_Warbler:(0.9919) cub_163_Cape_May_Warbler:(0.9826) cub_164_Cerulean_Warbler:(0.9666) cub_165_Chestnut_sided_Warbler:(0.9805) cub_166_Golden_winged_Warbler:(0.9871) cub_167_Hooded_Warbler:(0.9823) cub_168_Kentucky_Warbler:(0.9865) cub_169_Magnolia_Warbler:(0.9784) cub_170_Mourning_Warbler:(0.9052) cub_172_Nashville_Warbler:(0.9533) cub_173_Orange_crowned_Warbler:(0.9789) cub_174_Palm_Warbler:(0.9472) cub_175_Pine_Warbler:(0.9898) cub_176_Prairie_Warbler:(0.99) cub_177_Prothonotary_Warbler:(0.9941) cub_178_Swainson_Warbler:(0.9909) cub_179_Tennessee_Warbler:(0.9784) cub_180_Wilson_Warbler:(0.9863) cub_181_Worm_eating_Warbler:(0.9902) cub_182_Yellow_Warbler:(0.9774) cub_183_Northern_Waterthrush:(0.9256) cub_184_Louisiana_Waterthrush:(0.9855) cub_200_Common_Yellowthroat:(0.9509) \n",
      "\t\tProto:16 cub_020_Yellow_breasted_Chat:(0.9518) cub_099_Ovenbird:(0.3122) cub_109_American_Redstart:(0.8665) cub_158_Bay_breasted_Warbler:(0.7336) cub_159_Black_and_white_Warbler:(0.8868) cub_160_Black_throated_Blue_Warbler:(0.9816) cub_161_Blue_winged_Warbler:(0.9939) cub_162_Canada_Warbler:(0.9628) cub_163_Cape_May_Warbler:(0.9912) cub_164_Cerulean_Warbler:(0.9965) cub_165_Chestnut_sided_Warbler:(0.9099) cub_166_Golden_winged_Warbler:(0.9873) cub_167_Hooded_Warbler:(0.9756) cub_168_Kentucky_Warbler:(0.9982) cub_169_Magnolia_Warbler:(0.956) cub_170_Mourning_Warbler:(0.8986) cub_172_Nashville_Warbler:(0.9221) cub_173_Orange_crowned_Warbler:(0.8947) cub_174_Palm_Warbler:(0.9318) cub_175_Pine_Warbler:(0.9616) cub_176_Prairie_Warbler:(0.9949) cub_177_Prothonotary_Warbler:(0.9752) cub_178_Swainson_Warbler:(0.9834) cub_179_Tennessee_Warbler:(0.9753) cub_180_Wilson_Warbler:(0.9862) cub_181_Worm_eating_Warbler:(0.9916) cub_182_Yellow_Warbler:(0.9556) cub_183_Northern_Waterthrush:(0.9483) cub_184_Louisiana_Waterthrush:(0.9049) cub_200_Common_Yellowthroat:(0.9562) \n",
      "\t\tProto:18 cub_020_Yellow_breasted_Chat:(0.9896) cub_099_Ovenbird:(0.8937) cub_109_American_Redstart:(0.8265) cub_158_Bay_breasted_Warbler:(0.9337) cub_159_Black_and_white_Warbler:(0.9476) cub_160_Black_throated_Blue_Warbler:(0.9403) cub_161_Blue_winged_Warbler:(0.9613) cub_162_Canada_Warbler:(0.9966) cub_163_Cape_May_Warbler:(0.9698) cub_164_Cerulean_Warbler:(0.9909) cub_165_Chestnut_sided_Warbler:(0.9196) cub_166_Golden_winged_Warbler:(0.9544) cub_167_Hooded_Warbler:(0.9331) cub_168_Kentucky_Warbler:(0.9769) cub_169_Magnolia_Warbler:(0.9942) cub_170_Mourning_Warbler:(0.9869) cub_172_Nashville_Warbler:(0.996) cub_173_Orange_crowned_Warbler:(0.9743) cub_174_Palm_Warbler:(0.9644) cub_175_Pine_Warbler:(0.9489) cub_176_Prairie_Warbler:(0.9806) cub_177_Prothonotary_Warbler:(0.8697) cub_178_Swainson_Warbler:(0.9838) cub_179_Tennessee_Warbler:(0.9886) cub_180_Wilson_Warbler:(0.9243) cub_181_Worm_eating_Warbler:(0.9813) cub_182_Yellow_Warbler:(0.7301) cub_183_Northern_Waterthrush:(0.9877) cub_184_Louisiana_Waterthrush:(0.9857) cub_200_Common_Yellowthroat:(0.9859) \n"
     ]
    },
    {
     "name": "stderr",
     "output_type": "stream",
     "text": [
      "Collecting topk: 233it [00:25,  9.07it/s]\n"
     ]
    },
    {
     "name": "stdout",
     "output_type": "stream",
     "text": [
      "Node 054+140\n",
      "\t Child: 054+057\n",
      "\t\tProto:0 cub_014_Indigo_Bunting:(1.0) cub_015_Lazuli_Bunting:(1.0) cub_016_Painted_Bunting:(1.0) cub_054_Blue_Grosbeak:(1.0) cub_057_Rose_breasted_Grosbeak:(0.9996) \n",
      "\t\tProto:3 cub_014_Indigo_Bunting:(0.9999) cub_015_Lazuli_Bunting:(1.0) cub_016_Painted_Bunting:(1.0) cub_054_Blue_Grosbeak:(1.0) cub_057_Rose_breasted_Grosbeak:(1.0) \n",
      "\t\tProto:6 cub_014_Indigo_Bunting:(1.0) cub_015_Lazuli_Bunting:(1.0) cub_016_Painted_Bunting:(1.0) cub_054_Blue_Grosbeak:(1.0) cub_057_Rose_breasted_Grosbeak:(1.0) \n",
      "\t\tProto:7 cub_014_Indigo_Bunting:(1.0) cub_015_Lazuli_Bunting:(1.0) cub_016_Painted_Bunting:(1.0) cub_054_Blue_Grosbeak:(1.0) cub_057_Rose_breasted_Grosbeak:(0.9999) \n",
      "\t\tProto:9 cub_014_Indigo_Bunting:(0.9832) cub_015_Lazuli_Bunting:(0.9771) cub_016_Painted_Bunting:(0.976) cub_054_Blue_Grosbeak:(0.9904) cub_057_Rose_breasted_Grosbeak:(0.9837) \n",
      "\t Child: 140+017\n",
      "\t\tProto:16 cub_017_Cardinal:(1.0) cub_139_Scarlet_Tanager:(1.0) cub_140_Summer_Tanager:(0.9999) \n",
      "\t\tProto:17 cub_017_Cardinal:(0.9999) cub_139_Scarlet_Tanager:(0.9996) cub_140_Summer_Tanager:(0.999) \n",
      "\t\tProto:18 cub_017_Cardinal:(0.9995) cub_139_Scarlet_Tanager:(0.9998) cub_140_Summer_Tanager:(0.9999) \n",
      "\t\tProto:13 cub_017_Cardinal:(1.0) cub_139_Scarlet_Tanager:(1.0) cub_140_Summer_Tanager:(1.0) \n"
     ]
    },
    {
     "name": "stderr",
     "output_type": "stream",
     "text": [
      "Collecting topk: 149it [00:22,  6.77it/s]\n"
     ]
    },
    {
     "name": "stdout",
     "output_type": "stream",
     "text": [
      "Node 035+048\n",
      "\t Child: 035+056\n",
      "\t\tProto:8 cub_034_Gray_crowned_Rosy_Finch:(1.0) cub_035_Purple_Finch:(1.0) cub_056_Pine_Grosbeak:(1.0) \n",
      "\t\tProto:3 cub_034_Gray_crowned_Rosy_Finch:(1.0) cub_035_Purple_Finch:(1.0) cub_056_Pine_Grosbeak:(1.0) \n",
      "\t\tProto:4 cub_034_Gray_crowned_Rosy_Finch:(0.9999) cub_035_Purple_Finch:(1.0) cub_056_Pine_Grosbeak:(0.9999) \n",
      "\t Child: 048+047\n",
      "\t\tProto:19 cub_047_American_Goldfinch:(1.0) cub_048_European_Goldfinch:(1.0) \n",
      "\t\tProto:10 cub_047_American_Goldfinch:(0.9998) cub_048_European_Goldfinch:(1.0) \n",
      "\t\tProto:18 cub_047_American_Goldfinch:(0.9996) cub_048_European_Goldfinch:(0.9998) \n",
      "\t\tProto:15 cub_047_American_Goldfinch:(0.9999) cub_048_European_Goldfinch:(1.0) \n"
     ]
    },
    {
     "name": "stderr",
     "output_type": "stream",
     "text": [
      "Collecting topk: 210it [00:24,  8.47it/s]  \n"
     ]
    },
    {
     "name": "stdout",
     "output_type": "stream",
     "text": [
      "Node 199+198\n",
      "\t Child: 199+194\n",
      "\t\tProto:0 cub_193_Bewick_Wren:(0.9985) cub_194_Cactus_Wren:(0.9636) cub_195_Carolina_Wren:(0.9997) cub_196_House_Wren:(0.9978) cub_197_Marsh_Wren:(0.9997) cub_199_Winter_Wren:(0.9998) \n",
      "\t\tProto:3 cub_193_Bewick_Wren:(0.9999) cub_194_Cactus_Wren:(0.9992) cub_195_Carolina_Wren:(0.9999) cub_196_House_Wren:(0.9957) cub_197_Marsh_Wren:(0.9994) cub_199_Winter_Wren:(0.9999) \n",
      "\t\tProto:4 cub_193_Bewick_Wren:(0.9994) cub_194_Cactus_Wren:(0.9997) cub_195_Carolina_Wren:(0.9997) cub_196_House_Wren:(0.9977) cub_197_Marsh_Wren:(0.9997) cub_199_Winter_Wren:(0.996) \n",
      "\t\tProto:5 cub_193_Bewick_Wren:(0.9542) cub_194_Cactus_Wren:(0.9658) cub_195_Carolina_Wren:(0.8837) cub_196_House_Wren:(0.8915) cub_197_Marsh_Wren:(0.9386) cub_199_Winter_Wren:(0.946) \n",
      "\t\tProto:6 cub_193_Bewick_Wren:(1.0) cub_194_Cactus_Wren:(1.0) cub_195_Carolina_Wren:(1.0) cub_196_House_Wren:(0.9999) cub_197_Marsh_Wren:(1.0) cub_199_Winter_Wren:(0.9999) \n",
      "\t\tProto:9 cub_193_Bewick_Wren:(0.9973) cub_194_Cactus_Wren:(0.9963) cub_195_Carolina_Wren:(0.9987) cub_196_House_Wren:(0.9995) cub_197_Marsh_Wren:(0.9976) cub_199_Winter_Wren:(0.9999) \n",
      "\t Child: cub_198_Rock_Wren\n",
      "\t\tProto:16 cub_198_Rock_Wren:(0.9782) \n",
      "\t\tProto:19 cub_198_Rock_Wren:(1.0) \n",
      "\t\tProto:13 cub_198_Rock_Wren:(1.0) \n",
      "\t\tProto:15 cub_198_Rock_Wren:(0.9508) \n"
     ]
    },
    {
     "name": "stderr",
     "output_type": "stream",
     "text": [
      "Collecting topk: 100% 60/60 [00:18<00:00,  3.30it/s]\n"
     ]
    },
    {
     "name": "stdout",
     "output_type": "stream",
     "text": [
      "Node 150+091\n",
      "\t Child: cub_150_Sage_Thrasher\n",
      "\t\tProto:0 cub_150_Sage_Thrasher:(1.0) \n",
      "\t\tProto:3 cub_150_Sage_Thrasher:(1.0) \n",
      "\t\tProto:6 cub_150_Sage_Thrasher:(1.0) \n",
      "\t Child: cub_091_Mockingbird\n",
      "\t\tProto:16 cub_091_Mockingbird:(1.0) \n",
      "\t\tProto:11 cub_091_Mockingbird:(1.0) \n",
      "\t\tProto:13 cub_091_Mockingbird:(1.0) \n"
     ]
    },
    {
     "name": "stderr",
     "output_type": "stream",
     "text": [
      "Collecting topk: 100% 60/60 [00:17<00:00,  3.34it/s]\n"
     ]
    },
    {
     "name": "stdout",
     "output_type": "stream",
     "text": [
      "Node 107+108\n",
      "\t Child: cub_107_Common_Raven\n",
      "\t\tProto:1 cub_107_Common_Raven:(1.0) \n",
      "\t\tProto:6 cub_107_Common_Raven:(0.9998) \n",
      "\t Child: cub_108_White_necked_Raven\n",
      "\t\tProto:18 cub_108_White_necked_Raven:(1.0) \n",
      "\t\tProto:11 cub_108_White_necked_Raven:(1.0) \n"
     ]
    },
    {
     "name": "stderr",
     "output_type": "stream",
     "text": [
      "Collecting topk: 1059it [01:02, 16.86it/s]\n"
     ]
    },
    {
     "name": "stdout",
     "output_type": "stream",
     "text": [
      "Node 129+011\n",
      "\t Child: 129+121\n",
      "\t\tProto:0 cub_021_Eastern_Towhee:(0.568) cub_076_Dark_eyed_Junco:(0.8372) cub_113_Baird_Sparrow:(0.9989) cub_114_Black_throated_Sparrow:(0.9837) cub_115_Brewer_Sparrow:(0.9999) cub_116_Chipping_Sparrow:(0.9999) cub_117_Clay_colored_Sparrow:(0.9998) cub_119_Field_Sparrow:(0.9976) cub_120_Fox_Sparrow:(0.9269) cub_121_Grasshopper_Sparrow:(0.9812) cub_122_Harris_Sparrow:(0.9964) cub_123_Henslow_Sparrow:(0.9914) cub_124_Le_Conte_Sparrow:(0.9988) cub_125_Lincoln_Sparrow:(1.0) cub_126_Nelson_Sharp_tailed_Sparrow:(0.9981) cub_127_Savannah_Sparrow:(0.9978) cub_128_Seaside_Sparrow:(0.9426) cub_129_Song_Sparrow:(0.9972) cub_130_Tree_Sparrow:(0.9998) cub_131_Vesper_Sparrow:(0.9936) cub_132_White_crowned_Sparrow:(0.9992) cub_133_White_throated_Sparrow:(0.9993) cub_148_Green_tailed_Towhee:(0.9971) \n",
      "\t\tProto:3 cub_021_Eastern_Towhee:(0.5538) cub_076_Dark_eyed_Junco:(0.9921) cub_113_Baird_Sparrow:(0.9975) cub_114_Black_throated_Sparrow:(0.985) cub_115_Brewer_Sparrow:(0.9946) cub_116_Chipping_Sparrow:(0.9978) cub_117_Clay_colored_Sparrow:(0.9996) cub_119_Field_Sparrow:(0.9991) cub_120_Fox_Sparrow:(0.9777) cub_121_Grasshopper_Sparrow:(0.9959) cub_122_Harris_Sparrow:(0.997) cub_123_Henslow_Sparrow:(0.9975) cub_124_Le_Conte_Sparrow:(0.9997) cub_125_Lincoln_Sparrow:(0.995) cub_126_Nelson_Sharp_tailed_Sparrow:(0.999) cub_127_Savannah_Sparrow:(0.9991) cub_128_Seaside_Sparrow:(0.998) cub_129_Song_Sparrow:(0.9926) cub_130_Tree_Sparrow:(0.998) cub_131_Vesper_Sparrow:(0.9934) cub_132_White_crowned_Sparrow:(0.9979) cub_133_White_throated_Sparrow:(0.9983) cub_148_Green_tailed_Towhee:(0.9987) \n",
      "\t\tProto:5 cub_021_Eastern_Towhee:(0.5908) cub_076_Dark_eyed_Junco:(0.6026) cub_113_Baird_Sparrow:(0.9941) cub_114_Black_throated_Sparrow:(0.9782) cub_115_Brewer_Sparrow:(0.993) cub_116_Chipping_Sparrow:(0.9883) cub_117_Clay_colored_Sparrow:(0.9955) cub_119_Field_Sparrow:(0.9941) cub_120_Fox_Sparrow:(0.9525) cub_121_Grasshopper_Sparrow:(0.9819) cub_122_Harris_Sparrow:(0.964) cub_123_Henslow_Sparrow:(0.9925) cub_124_Le_Conte_Sparrow:(0.9492) cub_125_Lincoln_Sparrow:(0.9905) cub_126_Nelson_Sharp_tailed_Sparrow:(0.9559) cub_127_Savannah_Sparrow:(0.9873) cub_128_Seaside_Sparrow:(0.9736) cub_129_Song_Sparrow:(0.9941) cub_130_Tree_Sparrow:(0.9929) cub_131_Vesper_Sparrow:(0.9811) cub_132_White_crowned_Sparrow:(0.9527) cub_133_White_throated_Sparrow:(0.9915) cub_148_Green_tailed_Towhee:(0.9933) \n",
      "\t\tProto:6 cub_021_Eastern_Towhee:(0.4226) cub_076_Dark_eyed_Junco:(0.3977) cub_113_Baird_Sparrow:(0.9985) cub_114_Black_throated_Sparrow:(0.9897) cub_115_Brewer_Sparrow:(0.9974) cub_116_Chipping_Sparrow:(0.9985) cub_117_Clay_colored_Sparrow:(0.9996) cub_119_Field_Sparrow:(0.997) cub_120_Fox_Sparrow:(0.9407) cub_121_Grasshopper_Sparrow:(0.9807) cub_122_Harris_Sparrow:(0.9971) cub_123_Henslow_Sparrow:(0.9978) cub_124_Le_Conte_Sparrow:(0.9995) cub_125_Lincoln_Sparrow:(0.999) cub_126_Nelson_Sharp_tailed_Sparrow:(0.9986) cub_127_Savannah_Sparrow:(0.9988) cub_128_Seaside_Sparrow:(0.9629) cub_129_Song_Sparrow:(0.9888) cub_130_Tree_Sparrow:(0.9988) cub_131_Vesper_Sparrow:(0.9461) cub_132_White_crowned_Sparrow:(0.9978) cub_133_White_throated_Sparrow:(0.9989) cub_148_Green_tailed_Towhee:(0.9953) \n",
      "\t\tProto:7 cub_021_Eastern_Towhee:(0.9609) cub_076_Dark_eyed_Junco:(0.7647) cub_113_Baird_Sparrow:(0.561) cub_114_Black_throated_Sparrow:(0.5845) cub_115_Brewer_Sparrow:(0.7393) cub_116_Chipping_Sparrow:(0.7208) cub_117_Clay_colored_Sparrow:(0.9648) cub_119_Field_Sparrow:(0.865) cub_120_Fox_Sparrow:(0.9044) cub_121_Grasshopper_Sparrow:(0.8877) cub_122_Harris_Sparrow:(0.9343) cub_123_Henslow_Sparrow:(0.9181) cub_124_Le_Conte_Sparrow:(0.8518) cub_125_Lincoln_Sparrow:(0.9742) cub_126_Nelson_Sharp_tailed_Sparrow:(0.7853) cub_127_Savannah_Sparrow:(0.9571) cub_128_Seaside_Sparrow:(0.9511) cub_129_Song_Sparrow:(0.9853) cub_130_Tree_Sparrow:(0.8974) cub_131_Vesper_Sparrow:(0.8225) cub_132_White_crowned_Sparrow:(0.8929) cub_133_White_throated_Sparrow:(0.9875) cub_148_Green_tailed_Towhee:(0.9714) \n",
      "\t\tProto:9 cub_021_Eastern_Towhee:(0.6572) cub_076_Dark_eyed_Junco:(0.9968) cub_113_Baird_Sparrow:(0.9964) cub_114_Black_throated_Sparrow:(0.9776) cub_115_Brewer_Sparrow:(0.9941) cub_116_Chipping_Sparrow:(0.9969) cub_117_Clay_colored_Sparrow:(0.9936) cub_119_Field_Sparrow:(0.9921) cub_120_Fox_Sparrow:(0.9934) cub_121_Grasshopper_Sparrow:(0.9962) cub_122_Harris_Sparrow:(0.9996) cub_123_Henslow_Sparrow:(0.9921) cub_124_Le_Conte_Sparrow:(0.9821) cub_125_Lincoln_Sparrow:(0.9947) cub_126_Nelson_Sharp_tailed_Sparrow:(0.9932) cub_127_Savannah_Sparrow:(0.9877) cub_128_Seaside_Sparrow:(0.9847) cub_129_Song_Sparrow:(0.977) cub_130_Tree_Sparrow:(0.9984) cub_131_Vesper_Sparrow:(0.9881) cub_132_White_crowned_Sparrow:(0.9949) cub_133_White_throated_Sparrow:(0.999) cub_148_Green_tailed_Towhee:(0.9956) \n",
      "\t Child: 011+013\n",
      "\t\tProto:10 cub_009_Brewer_Blackbird:(0.9992) cub_010_Red_winged_Blackbird:(0.9963) cub_011_Rusty_Blackbird:(0.9446) cub_012_Yellow_headed_Blackbird:(0.9928) cub_013_Bobolink:(0.9794) cub_026_Bronzed_Cowbird:(0.9988) cub_027_Shiny_Cowbird:(0.9983) cub_049_Boat_tailed_Grackle:(0.9991) cub_088_Western_Meadowlark:(0.9287) cub_095_Baltimore_Oriole:(0.9925) cub_096_Hooded_Oriole:(0.9953) cub_097_Orchard_Oriole:(0.9754) cub_098_Scott_Oriole:(0.9983) \n",
      "\t\tProto:11 cub_009_Brewer_Blackbird:(0.6721) cub_010_Red_winged_Blackbird:(0.9921) cub_011_Rusty_Blackbird:(0.7809) cub_012_Yellow_headed_Blackbird:(0.9689) cub_013_Bobolink:(0.9902) cub_026_Bronzed_Cowbird:(0.3916) cub_027_Shiny_Cowbird:(0.9854) cub_049_Boat_tailed_Grackle:(0.9827) cub_088_Western_Meadowlark:(0.4403) cub_095_Baltimore_Oriole:(0.9981) cub_096_Hooded_Oriole:(0.9974) cub_097_Orchard_Oriole:(0.9973) cub_098_Scott_Oriole:(0.9965) \n",
      "\t\tProto:12 cub_009_Brewer_Blackbird:(0.9907) cub_010_Red_winged_Blackbird:(0.9872) cub_011_Rusty_Blackbird:(0.9018) cub_012_Yellow_headed_Blackbird:(0.9991) cub_013_Bobolink:(0.9984) cub_026_Bronzed_Cowbird:(0.8625) cub_027_Shiny_Cowbird:(0.9933) cub_049_Boat_tailed_Grackle:(0.9884) cub_088_Western_Meadowlark:(0.9981) cub_095_Baltimore_Oriole:(0.9981) cub_096_Hooded_Oriole:(0.9988) cub_097_Orchard_Oriole:(0.9779) cub_098_Scott_Oriole:(0.9546) \n",
      "\t\tProto:13 cub_009_Brewer_Blackbird:(0.9998) cub_010_Red_winged_Blackbird:(0.9987) cub_011_Rusty_Blackbird:(0.9954) cub_012_Yellow_headed_Blackbird:(0.9996) cub_013_Bobolink:(0.9827) cub_026_Bronzed_Cowbird:(0.9991) cub_027_Shiny_Cowbird:(0.9999) cub_049_Boat_tailed_Grackle:(0.9999) cub_088_Western_Meadowlark:(0.9645) cub_095_Baltimore_Oriole:(0.9871) cub_096_Hooded_Oriole:(0.9878) cub_097_Orchard_Oriole:(0.9834) cub_098_Scott_Oriole:(0.9977) \n",
      "\t\tProto:14 cub_009_Brewer_Blackbird:(0.991) cub_010_Red_winged_Blackbird:(0.9865) cub_011_Rusty_Blackbird:(0.997) cub_012_Yellow_headed_Blackbird:(0.9966) cub_013_Bobolink:(0.9959) cub_026_Bronzed_Cowbird:(0.9975) cub_027_Shiny_Cowbird:(0.9863) cub_049_Boat_tailed_Grackle:(0.9797) cub_088_Western_Meadowlark:(0.9944) cub_095_Baltimore_Oriole:(0.9994) cub_096_Hooded_Oriole:(0.9984) cub_097_Orchard_Oriole:(0.9784) cub_098_Scott_Oriole:(0.9983) \n"
     ]
    },
    {
     "name": "stderr",
     "output_type": "stream",
     "text": [
      "Collecting topk: 889it [00:55, 15.98it/s]  \n"
     ]
    },
    {
     "name": "stdout",
     "output_type": "stream",
     "text": [
      "Node 175+020\n",
      "\t Child: 175+099\n",
      "\t\tProto:0 cub_099_Ovenbird:(0.9947) cub_109_American_Redstart:(0.9932) cub_158_Bay_breasted_Warbler:(0.9994) cub_159_Black_and_white_Warbler:(0.9973) cub_160_Black_throated_Blue_Warbler:(0.9968) cub_161_Blue_winged_Warbler:(0.9881) cub_162_Canada_Warbler:(0.9892) cub_163_Cape_May_Warbler:(0.9949) cub_164_Cerulean_Warbler:(0.9985) cub_165_Chestnut_sided_Warbler:(0.9887) cub_166_Golden_winged_Warbler:(0.995) cub_167_Hooded_Warbler:(0.9898) cub_168_Kentucky_Warbler:(0.9897) cub_169_Magnolia_Warbler:(0.9627) cub_170_Mourning_Warbler:(0.9952) cub_172_Nashville_Warbler:(0.9577) cub_173_Orange_crowned_Warbler:(0.9964) cub_174_Palm_Warbler:(0.9954) cub_175_Pine_Warbler:(0.9677) cub_176_Prairie_Warbler:(0.996) cub_177_Prothonotary_Warbler:(0.9922) cub_178_Swainson_Warbler:(0.9961) cub_179_Tennessee_Warbler:(0.9932) cub_180_Wilson_Warbler:(0.992) cub_181_Worm_eating_Warbler:(0.9967) cub_182_Yellow_Warbler:(0.9965) cub_183_Northern_Waterthrush:(0.9995) cub_184_Louisiana_Waterthrush:(0.9977) cub_200_Common_Yellowthroat:(0.7134) \n",
      "\t\tProto:2 cub_099_Ovenbird:(0.9998) cub_109_American_Redstart:(0.9993) cub_158_Bay_breasted_Warbler:(0.9994) cub_159_Black_and_white_Warbler:(0.999) cub_160_Black_throated_Blue_Warbler:(0.9998) cub_161_Blue_winged_Warbler:(0.9998) cub_162_Canada_Warbler:(0.9955) cub_163_Cape_May_Warbler:(0.9981) cub_164_Cerulean_Warbler:(0.9985) cub_165_Chestnut_sided_Warbler:(0.9945) cub_166_Golden_winged_Warbler:(0.9965) cub_167_Hooded_Warbler:(0.9996) cub_168_Kentucky_Warbler:(0.9983) cub_169_Magnolia_Warbler:(0.9974) cub_170_Mourning_Warbler:(0.9998) cub_172_Nashville_Warbler:(0.9937) cub_173_Orange_crowned_Warbler:(0.9998) cub_174_Palm_Warbler:(0.9996) cub_175_Pine_Warbler:(0.997) cub_176_Prairie_Warbler:(0.9988) cub_177_Prothonotary_Warbler:(0.9969) cub_178_Swainson_Warbler:(0.9994) cub_179_Tennessee_Warbler:(0.9947) cub_180_Wilson_Warbler:(0.9999) cub_181_Worm_eating_Warbler:(0.9987) cub_182_Yellow_Warbler:(0.9996) cub_183_Northern_Waterthrush:(0.9997) cub_184_Louisiana_Waterthrush:(0.9974) cub_200_Common_Yellowthroat:(0.9958) \n",
      "\t\tProto:3 cub_099_Ovenbird:(0.9981) cub_109_American_Redstart:(0.9881) cub_158_Bay_breasted_Warbler:(0.9874) cub_159_Black_and_white_Warbler:(0.991) cub_160_Black_throated_Blue_Warbler:(0.9894) cub_161_Blue_winged_Warbler:(0.9949) cub_162_Canada_Warbler:(0.9926) cub_163_Cape_May_Warbler:(0.9943) cub_164_Cerulean_Warbler:(0.9841) cub_165_Chestnut_sided_Warbler:(0.9966) cub_166_Golden_winged_Warbler:(0.9989) cub_167_Hooded_Warbler:(0.9984) cub_168_Kentucky_Warbler:(0.9907) cub_169_Magnolia_Warbler:(0.9957) cub_170_Mourning_Warbler:(0.9924) cub_172_Nashville_Warbler:(0.9881) cub_173_Orange_crowned_Warbler:(0.9982) cub_174_Palm_Warbler:(0.9994) cub_175_Pine_Warbler:(0.9895) cub_176_Prairie_Warbler:(0.9917) cub_177_Prothonotary_Warbler:(0.9929) cub_178_Swainson_Warbler:(0.9947) cub_179_Tennessee_Warbler:(0.9905) cub_180_Wilson_Warbler:(0.999) cub_181_Worm_eating_Warbler:(0.9997) cub_182_Yellow_Warbler:(0.9978) cub_183_Northern_Waterthrush:(0.9935) cub_184_Louisiana_Waterthrush:(0.9827) cub_200_Common_Yellowthroat:(0.9903) \n",
      "\t\tProto:4 cub_099_Ovenbird:(0.9989) cub_109_American_Redstart:(0.999) cub_158_Bay_breasted_Warbler:(0.999) cub_159_Black_and_white_Warbler:(0.9928) cub_160_Black_throated_Blue_Warbler:(0.9986) cub_161_Blue_winged_Warbler:(0.9961) cub_162_Canada_Warbler:(0.9964) cub_163_Cape_May_Warbler:(0.9988) cub_164_Cerulean_Warbler:(0.8888) cub_165_Chestnut_sided_Warbler:(0.9988) cub_166_Golden_winged_Warbler:(0.9928) cub_167_Hooded_Warbler:(0.9968) cub_168_Kentucky_Warbler:(0.9894) cub_169_Magnolia_Warbler:(0.9742) cub_170_Mourning_Warbler:(0.968) cub_172_Nashville_Warbler:(0.9824) cub_173_Orange_crowned_Warbler:(0.9973) cub_174_Palm_Warbler:(0.9981) cub_175_Pine_Warbler:(0.9983) cub_176_Prairie_Warbler:(0.9988) cub_177_Prothonotary_Warbler:(0.998) cub_178_Swainson_Warbler:(0.9978) cub_179_Tennessee_Warbler:(0.9991) cub_180_Wilson_Warbler:(0.9992) cub_181_Worm_eating_Warbler:(0.9998) cub_182_Yellow_Warbler:(0.9989) cub_183_Northern_Waterthrush:(0.9996) cub_184_Louisiana_Waterthrush:(0.9944) cub_200_Common_Yellowthroat:(0.944) \n",
      "\t\tProto:5 cub_099_Ovenbird:(0.9997) cub_109_American_Redstart:(0.9422) cub_158_Bay_breasted_Warbler:(0.8335) cub_159_Black_and_white_Warbler:(0.9767) cub_160_Black_throated_Blue_Warbler:(0.9873) cub_161_Blue_winged_Warbler:(0.8766) cub_162_Canada_Warbler:(0.9787) cub_163_Cape_May_Warbler:(0.9793) cub_164_Cerulean_Warbler:(0.964) cub_165_Chestnut_sided_Warbler:(0.9462) cub_166_Golden_winged_Warbler:(0.9786) cub_167_Hooded_Warbler:(0.9923) cub_168_Kentucky_Warbler:(0.9575) cub_169_Magnolia_Warbler:(0.9801) cub_170_Mourning_Warbler:(0.9913) cub_172_Nashville_Warbler:(0.9334) cub_173_Orange_crowned_Warbler:(0.9828) cub_174_Palm_Warbler:(0.9891) cub_175_Pine_Warbler:(0.9901) cub_176_Prairie_Warbler:(0.9612) cub_177_Prothonotary_Warbler:(0.8267) cub_178_Swainson_Warbler:(0.9946) cub_179_Tennessee_Warbler:(0.9619) cub_180_Wilson_Warbler:(0.9982) cub_181_Worm_eating_Warbler:(0.9773) cub_182_Yellow_Warbler:(0.9888) cub_183_Northern_Waterthrush:(0.9977) cub_184_Louisiana_Waterthrush:(0.9997) cub_200_Common_Yellowthroat:(0.9859) \n",
      "\t\tProto:6 cub_099_Ovenbird:(0.9993) cub_109_American_Redstart:(0.9946) cub_158_Bay_breasted_Warbler:(0.9908) cub_159_Black_and_white_Warbler:(0.996) cub_160_Black_throated_Blue_Warbler:(0.9984) cub_161_Blue_winged_Warbler:(0.9964) cub_162_Canada_Warbler:(0.9829) cub_163_Cape_May_Warbler:(0.9977) cub_164_Cerulean_Warbler:(0.9981) cub_165_Chestnut_sided_Warbler:(0.9999) cub_166_Golden_winged_Warbler:(0.9991) cub_167_Hooded_Warbler:(0.9978) cub_168_Kentucky_Warbler:(0.9973) cub_169_Magnolia_Warbler:(0.9921) cub_170_Mourning_Warbler:(0.9947) cub_172_Nashville_Warbler:(0.9925) cub_173_Orange_crowned_Warbler:(0.9998) cub_174_Palm_Warbler:(0.9996) cub_175_Pine_Warbler:(0.9987) cub_176_Prairie_Warbler:(0.9996) cub_177_Prothonotary_Warbler:(0.9968) cub_178_Swainson_Warbler:(0.9971) cub_179_Tennessee_Warbler:(0.9995) cub_180_Wilson_Warbler:(0.9983) cub_181_Worm_eating_Warbler:(0.9972) cub_182_Yellow_Warbler:(0.9998) cub_183_Northern_Waterthrush:(0.995) cub_184_Louisiana_Waterthrush:(0.996) cub_200_Common_Yellowthroat:(0.6005) \n",
      "\t\tProto:7 cub_099_Ovenbird:(0.9906) cub_109_American_Redstart:(0.9928) cub_158_Bay_breasted_Warbler:(0.9946) cub_159_Black_and_white_Warbler:(0.9848) cub_160_Black_throated_Blue_Warbler:(0.9965) cub_161_Blue_winged_Warbler:(0.9632) cub_162_Canada_Warbler:(0.9698) cub_163_Cape_May_Warbler:(0.9901) cub_164_Cerulean_Warbler:(0.9903) cub_165_Chestnut_sided_Warbler:(0.9968) cub_166_Golden_winged_Warbler:(0.9907) cub_167_Hooded_Warbler:(0.9934) cub_168_Kentucky_Warbler:(0.9926) cub_169_Magnolia_Warbler:(0.9051) cub_170_Mourning_Warbler:(0.9977) cub_172_Nashville_Warbler:(0.9813) cub_173_Orange_crowned_Warbler:(0.9931) cub_174_Palm_Warbler:(0.9956) cub_175_Pine_Warbler:(0.9914) cub_176_Prairie_Warbler:(0.9928) cub_177_Prothonotary_Warbler:(0.9971) cub_178_Swainson_Warbler:(0.9973) cub_179_Tennessee_Warbler:(0.9933) cub_180_Wilson_Warbler:(0.995) cub_181_Worm_eating_Warbler:(0.9969) cub_182_Yellow_Warbler:(0.9959) cub_183_Northern_Waterthrush:(0.994) cub_184_Louisiana_Waterthrush:(0.9954) cub_200_Common_Yellowthroat:(0.7528) \n",
      "\t\tProto:8 cub_099_Ovenbird:(0.999) cub_109_American_Redstart:(0.9889) cub_158_Bay_breasted_Warbler:(0.9821) cub_159_Black_and_white_Warbler:(0.9987) cub_160_Black_throated_Blue_Warbler:(0.9907) cub_161_Blue_winged_Warbler:(0.9769) cub_162_Canada_Warbler:(0.9802) cub_163_Cape_May_Warbler:(0.9942) cub_164_Cerulean_Warbler:(0.9949) cub_165_Chestnut_sided_Warbler:(0.9971) cub_166_Golden_winged_Warbler:(0.9973) cub_167_Hooded_Warbler:(0.9975) cub_168_Kentucky_Warbler:(0.9884) cub_169_Magnolia_Warbler:(0.9487) cub_170_Mourning_Warbler:(0.9952) cub_172_Nashville_Warbler:(0.9502) cub_173_Orange_crowned_Warbler:(0.997) cub_174_Palm_Warbler:(0.9981) cub_175_Pine_Warbler:(0.9943) cub_176_Prairie_Warbler:(0.9989) cub_177_Prothonotary_Warbler:(0.9881) cub_178_Swainson_Warbler:(0.9957) cub_179_Tennessee_Warbler:(0.9956) cub_180_Wilson_Warbler:(0.9935) cub_181_Worm_eating_Warbler:(0.9986) cub_182_Yellow_Warbler:(0.9982) cub_183_Northern_Waterthrush:(0.9989) cub_184_Louisiana_Waterthrush:(0.9984) cub_200_Common_Yellowthroat:(0.14) \n",
      "\t\tProto:9 cub_099_Ovenbird:(0.997) cub_109_American_Redstart:(0.9915) cub_158_Bay_breasted_Warbler:(0.9967) cub_159_Black_and_white_Warbler:(0.9976) cub_160_Black_throated_Blue_Warbler:(0.9982) cub_161_Blue_winged_Warbler:(0.9934) cub_162_Canada_Warbler:(0.9805) cub_163_Cape_May_Warbler:(0.9924) cub_164_Cerulean_Warbler:(0.9899) cub_165_Chestnut_sided_Warbler:(0.9935) cub_166_Golden_winged_Warbler:(0.9928) cub_167_Hooded_Warbler:(0.9947) cub_168_Kentucky_Warbler:(0.9846) cub_169_Magnolia_Warbler:(0.8806) cub_170_Mourning_Warbler:(0.9958) cub_172_Nashville_Warbler:(0.9849) cub_173_Orange_crowned_Warbler:(0.9963) cub_174_Palm_Warbler:(0.9938) cub_175_Pine_Warbler:(0.984) cub_176_Prairie_Warbler:(0.9958) cub_177_Prothonotary_Warbler:(0.9973) cub_178_Swainson_Warbler:(0.9903) cub_179_Tennessee_Warbler:(0.9822) cub_180_Wilson_Warbler:(0.9983) cub_181_Worm_eating_Warbler:(0.9961) cub_182_Yellow_Warbler:(0.9989) cub_183_Northern_Waterthrush:(0.9974) cub_184_Louisiana_Waterthrush:(0.9894) cub_200_Common_Yellowthroat:(0.9021) \n",
      "\t Child: cub_020_Yellow_breasted_Chat\n",
      "\t\tProto:16 cub_020_Yellow_breasted_Chat:(0.1558) \n",
      "\t\tProto:17 cub_020_Yellow_breasted_Chat:(0.998) \n",
      "\t\tProto:14 cub_020_Yellow_breasted_Chat:(0.9812) \n"
     ]
    },
    {
     "name": "stderr",
     "output_type": "stream",
     "text": [
      "Collecting topk: 146it [00:21,  6.74it/s]  \n"
     ]
    },
    {
     "name": "stdout",
     "output_type": "stream",
     "text": [
      "Node 054+057\n",
      "\t Child: 054+014\n",
      "\t\tProto:0 cub_014_Indigo_Bunting:(1.0) cub_015_Lazuli_Bunting:(1.0) cub_016_Painted_Bunting:(1.0) cub_054_Blue_Grosbeak:(1.0) \n",
      "\t\tProto:1 cub_014_Indigo_Bunting:(1.0) cub_015_Lazuli_Bunting:(1.0) cub_016_Painted_Bunting:(1.0) cub_054_Blue_Grosbeak:(1.0) \n",
      "\t\tProto:4 cub_014_Indigo_Bunting:(1.0) cub_015_Lazuli_Bunting:(1.0) cub_016_Painted_Bunting:(1.0) cub_054_Blue_Grosbeak:(1.0) \n",
      "\t\tProto:6 cub_014_Indigo_Bunting:(1.0) cub_015_Lazuli_Bunting:(1.0) cub_016_Painted_Bunting:(0.9999) cub_054_Blue_Grosbeak:(1.0) \n",
      "\t\tProto:8 cub_014_Indigo_Bunting:(1.0) cub_015_Lazuli_Bunting:(1.0) cub_016_Painted_Bunting:(0.9999) cub_054_Blue_Grosbeak:(1.0) \n",
      "\t Child: cub_057_Rose_breasted_Grosbeak\n",
      "\t\tProto:17 cub_057_Rose_breasted_Grosbeak:(1.0) \n",
      "\t\tProto:18 cub_057_Rose_breasted_Grosbeak:(1.0) \n"
     ]
    },
    {
     "name": "stderr",
     "output_type": "stream",
     "text": [
      "Collecting topk: 87it [00:19,  4.56it/s]   \n"
     ]
    },
    {
     "name": "stdout",
     "output_type": "stream",
     "text": [
      "Node 140+017\n",
      "\t Child: 140+139\n",
      "\t\tProto:8 cub_139_Scarlet_Tanager:(1.0) cub_140_Summer_Tanager:(1.0) \n",
      "\t\tProto:4 cub_139_Scarlet_Tanager:(1.0) cub_140_Summer_Tanager:(1.0) \n",
      "\t\tProto:5 cub_139_Scarlet_Tanager:(1.0) cub_140_Summer_Tanager:(1.0) \n",
      "\t\tProto:7 cub_139_Scarlet_Tanager:(0.9999) cub_140_Summer_Tanager:(1.0) \n",
      "\t Child: cub_017_Cardinal\n",
      "\t\tProto:17 cub_017_Cardinal:(1.0) \n",
      "\t\tProto:12 cub_017_Cardinal:(1.0) \n"
     ]
    },
    {
     "name": "stderr",
     "output_type": "stream",
     "text": [
      "Collecting topk: 89it [00:18,  4.71it/s]   \n"
     ]
    },
    {
     "name": "stdout",
     "output_type": "stream",
     "text": [
      "Node 035+056\n",
      "\t Child: 035+034\n",
      "\t\tProto:0 cub_034_Gray_crowned_Rosy_Finch:(1.0) cub_035_Purple_Finch:(1.0) \n",
      "\t\tProto:1 cub_034_Gray_crowned_Rosy_Finch:(0.9999) cub_035_Purple_Finch:(0.9991) \n",
      "\t\tProto:3 cub_034_Gray_crowned_Rosy_Finch:(1.0) cub_035_Purple_Finch:(0.9999) \n",
      "\t\tProto:6 cub_034_Gray_crowned_Rosy_Finch:(1.0) cub_035_Purple_Finch:(1.0) \n",
      "\t\tProto:9 cub_034_Gray_crowned_Rosy_Finch:(1.0) cub_035_Purple_Finch:(0.9996) \n",
      "\t Child: cub_056_Pine_Grosbeak\n",
      "\t\tProto:16 cub_056_Pine_Grosbeak:(1.0) \n",
      "\t\tProto:13 cub_056_Pine_Grosbeak:(1.0) \n",
      "\t\tProto:15 cub_056_Pine_Grosbeak:(0.9998) \n"
     ]
    },
    {
     "name": "stderr",
     "output_type": "stream",
     "text": [
      "Collecting topk: 100% 60/60 [00:17<00:00,  3.34it/s]\n"
     ]
    },
    {
     "name": "stdout",
     "output_type": "stream",
     "text": [
      "Node 048+047\n",
      "\t Child: cub_048_European_Goldfinch\n",
      "\t\tProto:2 cub_048_European_Goldfinch:(1.0) \n",
      "\t\tProto:6 cub_048_European_Goldfinch:(1.0) \n",
      "\t\tProto:7 cub_048_European_Goldfinch:(1.0) \n",
      "\t Child: cub_047_American_Goldfinch\n",
      "\t\tProto:10 cub_047_American_Goldfinch:(1.0) \n",
      "\t\tProto:15 cub_047_American_Goldfinch:(1.0) \n"
     ]
    },
    {
     "name": "stderr",
     "output_type": "stream",
     "text": [
      "Collecting topk: 180it [00:23,  7.69it/s]  \n"
     ]
    },
    {
     "name": "stdout",
     "output_type": "stream",
     "text": [
      "Node 199+194\n",
      "\t Child: 199+193\n",
      "\t\tProto:0 cub_193_Bewick_Wren:(1.0) cub_195_Carolina_Wren:(1.0) cub_196_House_Wren:(1.0) cub_197_Marsh_Wren:(1.0) cub_199_Winter_Wren:(1.0) \n",
      "\t\tProto:1 cub_193_Bewick_Wren:(0.9999) cub_195_Carolina_Wren:(1.0) cub_196_House_Wren:(1.0) cub_197_Marsh_Wren:(1.0) cub_199_Winter_Wren:(1.0) \n",
      "\t\tProto:5 cub_193_Bewick_Wren:(1.0) cub_195_Carolina_Wren:(1.0) cub_196_House_Wren:(1.0) cub_197_Marsh_Wren:(1.0) cub_199_Winter_Wren:(1.0) \n",
      "\t\tProto:6 cub_193_Bewick_Wren:(0.9936) cub_195_Carolina_Wren:(0.994) cub_196_House_Wren:(0.983) cub_197_Marsh_Wren:(0.9905) cub_199_Winter_Wren:(0.9996) \n",
      "\t\tProto:7 cub_193_Bewick_Wren:(0.9829) cub_195_Carolina_Wren:(0.9905) cub_196_House_Wren:(0.9949) cub_197_Marsh_Wren:(0.9855) cub_199_Winter_Wren:(0.9989) \n",
      "\t\tProto:8 cub_193_Bewick_Wren:(0.9999) cub_195_Carolina_Wren:(0.9998) cub_196_House_Wren:(1.0) cub_197_Marsh_Wren:(0.9999) cub_199_Winter_Wren:(1.0) \n",
      "\t Child: cub_194_Cactus_Wren\n",
      "\t\tProto:17 cub_194_Cactus_Wren:(1.0) \n",
      "\t\tProto:19 cub_194_Cactus_Wren:(0.9997) \n",
      "\t\tProto:12 cub_194_Cactus_Wren:(0.9762) \n",
      "\t\tProto:15 cub_194_Cactus_Wren:(0.9999) \n"
     ]
    },
    {
     "name": "stderr",
     "output_type": "stream",
     "text": [
      "Collecting topk: 675it [00:45, 14.92it/s]  \n"
     ]
    },
    {
     "name": "stdout",
     "output_type": "stream",
     "text": [
      "Node 129+121\n",
      "\t Child: 129+117\n",
      "\t\tProto:1 cub_021_Eastern_Towhee:(0.9933) cub_076_Dark_eyed_Junco:(0.9974) cub_113_Baird_Sparrow:(0.9984) cub_114_Black_throated_Sparrow:(0.9999) cub_115_Brewer_Sparrow:(0.9961) cub_116_Chipping_Sparrow:(0.9997) cub_117_Clay_colored_Sparrow:(0.9916) cub_119_Field_Sparrow:(0.9982) cub_120_Fox_Sparrow:(0.9985) cub_122_Harris_Sparrow:(0.9999) cub_123_Henslow_Sparrow:(0.9984) cub_124_Le_Conte_Sparrow:(0.8659) cub_125_Lincoln_Sparrow:(0.9996) cub_126_Nelson_Sharp_tailed_Sparrow:(0.915) cub_127_Savannah_Sparrow:(0.9995) cub_128_Seaside_Sparrow:(0.9782) cub_129_Song_Sparrow:(0.9999) cub_130_Tree_Sparrow:(0.9995) cub_131_Vesper_Sparrow:(0.9978) cub_132_White_crowned_Sparrow:(0.9991) cub_133_White_throated_Sparrow:(0.9966) cub_148_Green_tailed_Towhee:(0.9995) \n",
      "\t\tProto:3 cub_021_Eastern_Towhee:(0.9996) cub_076_Dark_eyed_Junco:(0.9996) cub_113_Baird_Sparrow:(0.923) cub_114_Black_throated_Sparrow:(0.9995) cub_115_Brewer_Sparrow:(0.9874) cub_116_Chipping_Sparrow:(0.9992) cub_117_Clay_colored_Sparrow:(0.9887) cub_119_Field_Sparrow:(0.9991) cub_120_Fox_Sparrow:(0.9986) cub_122_Harris_Sparrow:(0.9975) cub_123_Henslow_Sparrow:(0.9716) cub_124_Le_Conte_Sparrow:(0.9982) cub_125_Lincoln_Sparrow:(0.9993) cub_126_Nelson_Sharp_tailed_Sparrow:(0.9993) cub_127_Savannah_Sparrow:(0.9916) cub_128_Seaside_Sparrow:(0.9975) cub_129_Song_Sparrow:(0.9962) cub_130_Tree_Sparrow:(0.9993) cub_131_Vesper_Sparrow:(0.9749) cub_132_White_crowned_Sparrow:(0.9974) cub_133_White_throated_Sparrow:(0.9988) cub_148_Green_tailed_Towhee:(0.9996) \n",
      "\t\tProto:6 cub_021_Eastern_Towhee:(0.9979) cub_076_Dark_eyed_Junco:(0.9985) cub_113_Baird_Sparrow:(0.9788) cub_114_Black_throated_Sparrow:(0.9997) cub_115_Brewer_Sparrow:(0.9976) cub_116_Chipping_Sparrow:(0.9991) cub_117_Clay_colored_Sparrow:(0.9548) cub_119_Field_Sparrow:(0.9997) cub_120_Fox_Sparrow:(0.9974) cub_122_Harris_Sparrow:(0.9988) cub_123_Henslow_Sparrow:(0.9564) cub_124_Le_Conte_Sparrow:(0.9279) cub_125_Lincoln_Sparrow:(0.9995) cub_126_Nelson_Sharp_tailed_Sparrow:(0.9998) cub_127_Savannah_Sparrow:(0.9875) cub_128_Seaside_Sparrow:(0.9966) cub_129_Song_Sparrow:(0.9988) cub_130_Tree_Sparrow:(0.9997) cub_131_Vesper_Sparrow:(0.9789) cub_132_White_crowned_Sparrow:(0.9932) cub_133_White_throated_Sparrow:(0.9934) cub_148_Green_tailed_Towhee:(0.9999) \n",
      "\t\tProto:7 cub_021_Eastern_Towhee:(0.9962) cub_076_Dark_eyed_Junco:(0.9996) cub_113_Baird_Sparrow:(0.9934) cub_114_Black_throated_Sparrow:(0.9995) cub_115_Brewer_Sparrow:(0.9987) cub_116_Chipping_Sparrow:(0.9995) cub_117_Clay_colored_Sparrow:(0.9931) cub_119_Field_Sparrow:(0.999) cub_120_Fox_Sparrow:(0.9972) cub_122_Harris_Sparrow:(0.9993) cub_123_Henslow_Sparrow:(0.9934) cub_124_Le_Conte_Sparrow:(0.993) cub_125_Lincoln_Sparrow:(0.9984) cub_126_Nelson_Sharp_tailed_Sparrow:(0.9969) cub_127_Savannah_Sparrow:(0.9991) cub_128_Seaside_Sparrow:(0.9975) cub_129_Song_Sparrow:(0.9953) cub_130_Tree_Sparrow:(0.9994) cub_131_Vesper_Sparrow:(0.9981) cub_132_White_crowned_Sparrow:(0.9954) cub_133_White_throated_Sparrow:(0.9889) cub_148_Green_tailed_Towhee:(0.997) \n",
      "\t\tProto:8 cub_021_Eastern_Towhee:(0.9967) cub_076_Dark_eyed_Junco:(0.9962) cub_113_Baird_Sparrow:(0.9885) cub_114_Black_throated_Sparrow:(0.9999) cub_115_Brewer_Sparrow:(0.9925) cub_116_Chipping_Sparrow:(0.9986) cub_117_Clay_colored_Sparrow:(0.9706) cub_119_Field_Sparrow:(0.9955) cub_120_Fox_Sparrow:(0.9905) cub_122_Harris_Sparrow:(0.9985) cub_123_Henslow_Sparrow:(0.982) cub_124_Le_Conte_Sparrow:(0.9295) cub_125_Lincoln_Sparrow:(0.9956) cub_126_Nelson_Sharp_tailed_Sparrow:(0.9761) cub_127_Savannah_Sparrow:(0.9863) cub_128_Seaside_Sparrow:(0.9423) cub_129_Song_Sparrow:(0.9986) cub_130_Tree_Sparrow:(0.9995) cub_131_Vesper_Sparrow:(0.9879) cub_132_White_crowned_Sparrow:(0.9959) cub_133_White_throated_Sparrow:(0.9494) cub_148_Green_tailed_Towhee:(0.9989) \n",
      "\t Child: cub_121_Grasshopper_Sparrow\n",
      "\t\tProto:19 cub_121_Grasshopper_Sparrow:(0.998) \n",
      "\t\tProto:14 cub_121_Grasshopper_Sparrow:(0.9955) \n"
     ]
    },
    {
     "name": "stderr",
     "output_type": "stream",
     "text": [
      "Collecting topk: 384it [00:32, 11.85it/s]\n"
     ]
    },
    {
     "name": "stdout",
     "output_type": "stream",
     "text": [
      "Node 011+013\n",
      "\t Child: 011+095\n",
      "\t\tProto:0 cub_009_Brewer_Blackbird:(0.9998) cub_010_Red_winged_Blackbird:(0.9998) cub_011_Rusty_Blackbird:(0.9994) cub_026_Bronzed_Cowbird:(0.9999) cub_027_Shiny_Cowbird:(0.9997) cub_049_Boat_tailed_Grackle:(0.9992) cub_095_Baltimore_Oriole:(0.9996) cub_096_Hooded_Oriole:(0.993) cub_097_Orchard_Oriole:(0.9999) cub_098_Scott_Oriole:(0.9967) \n",
      "\t\tProto:1 cub_009_Brewer_Blackbird:(0.9949) cub_010_Red_winged_Blackbird:(0.9753) cub_011_Rusty_Blackbird:(0.9972) cub_026_Bronzed_Cowbird:(0.9951) cub_027_Shiny_Cowbird:(0.9855) cub_049_Boat_tailed_Grackle:(0.995) cub_095_Baltimore_Oriole:(0.8865) cub_096_Hooded_Oriole:(0.9812) cub_097_Orchard_Oriole:(0.9616) cub_098_Scott_Oriole:(0.9834) \n",
      "\t\tProto:2 cub_009_Brewer_Blackbird:(0.9989) cub_010_Red_winged_Blackbird:(0.9999) cub_011_Rusty_Blackbird:(0.997) cub_026_Bronzed_Cowbird:(0.9993) cub_027_Shiny_Cowbird:(0.9998) cub_049_Boat_tailed_Grackle:(0.9982) cub_095_Baltimore_Oriole:(0.9905) cub_096_Hooded_Oriole:(0.9551) cub_097_Orchard_Oriole:(0.9998) cub_098_Scott_Oriole:(0.9989) \n",
      "\t\tProto:3 cub_009_Brewer_Blackbird:(0.9979) cub_010_Red_winged_Blackbird:(0.9994) cub_011_Rusty_Blackbird:(0.9996) cub_026_Bronzed_Cowbird:(0.993) cub_027_Shiny_Cowbird:(0.999) cub_049_Boat_tailed_Grackle:(0.9978) cub_095_Baltimore_Oriole:(0.9995) cub_096_Hooded_Oriole:(0.9997) cub_097_Orchard_Oriole:(0.9999) cub_098_Scott_Oriole:(0.9962) \n",
      "\t\tProto:4 cub_009_Brewer_Blackbird:(0.9796) cub_010_Red_winged_Blackbird:(0.8107) cub_011_Rusty_Blackbird:(0.9951) cub_026_Bronzed_Cowbird:(0.966) cub_027_Shiny_Cowbird:(0.8556) cub_049_Boat_tailed_Grackle:(0.8995) cub_095_Baltimore_Oriole:(0.9893) cub_096_Hooded_Oriole:(0.9963) cub_097_Orchard_Oriole:(0.9924) cub_098_Scott_Oriole:(0.9812) \n",
      "\t\tProto:5 cub_009_Brewer_Blackbird:(0.9953) cub_010_Red_winged_Blackbird:(0.9978) cub_011_Rusty_Blackbird:(0.9922) cub_026_Bronzed_Cowbird:(0.9968) cub_027_Shiny_Cowbird:(0.9977) cub_049_Boat_tailed_Grackle:(0.9948) cub_095_Baltimore_Oriole:(0.9998) cub_096_Hooded_Oriole:(0.9867) cub_097_Orchard_Oriole:(0.9995) cub_098_Scott_Oriole:(0.9938) \n",
      "\t\tProto:7 cub_009_Brewer_Blackbird:(0.9988) cub_010_Red_winged_Blackbird:(0.9998) cub_011_Rusty_Blackbird:(0.9995) cub_026_Bronzed_Cowbird:(0.9909) cub_027_Shiny_Cowbird:(0.9989) cub_049_Boat_tailed_Grackle:(0.9954) cub_095_Baltimore_Oriole:(0.9922) cub_096_Hooded_Oriole:(0.9917) cub_097_Orchard_Oriole:(0.9998) cub_098_Scott_Oriole:(0.9856) \n",
      "\t Child: 013+088\n",
      "\t\tProto:16 cub_012_Yellow_headed_Blackbird:(0.9996) cub_013_Bobolink:(1.0) cub_088_Western_Meadowlark:(0.9997) \n",
      "\t\tProto:10 cub_012_Yellow_headed_Blackbird:(0.9989) cub_013_Bobolink:(1.0) cub_088_Western_Meadowlark:(0.9991) \n",
      "\t\tProto:15 cub_012_Yellow_headed_Blackbird:(1.0) cub_013_Bobolink:(0.9997) cub_088_Western_Meadowlark:(0.9991) \n"
     ]
    },
    {
     "name": "stderr",
     "output_type": "stream",
     "text": [
      "Collecting topk: 860it [00:53, 16.07it/s]  \n"
     ]
    },
    {
     "name": "stdout",
     "output_type": "stream",
     "text": [
      "Node 175+099\n",
      "\t Child: 175+181\n",
      "\t\tProto:1 cub_109_American_Redstart:(0.9981) cub_158_Bay_breasted_Warbler:(0.9984) cub_159_Black_and_white_Warbler:(0.991) cub_160_Black_throated_Blue_Warbler:(0.9958) cub_161_Blue_winged_Warbler:(1.0) cub_162_Canada_Warbler:(0.9973) cub_163_Cape_May_Warbler:(0.9993) cub_164_Cerulean_Warbler:(0.9998) cub_165_Chestnut_sided_Warbler:(0.9955) cub_166_Golden_winged_Warbler:(0.9998) cub_167_Hooded_Warbler:(0.9992) cub_168_Kentucky_Warbler:(0.9993) cub_169_Magnolia_Warbler:(0.9988) cub_170_Mourning_Warbler:(0.9977) cub_172_Nashville_Warbler:(0.9934) cub_173_Orange_crowned_Warbler:(0.9954) cub_174_Palm_Warbler:(0.9991) cub_175_Pine_Warbler:(0.9994) cub_176_Prairie_Warbler:(0.9992) cub_177_Prothonotary_Warbler:(0.9994) cub_178_Swainson_Warbler:(0.9982) cub_179_Tennessee_Warbler:(0.9999) cub_180_Wilson_Warbler:(0.9976) cub_181_Worm_eating_Warbler:(0.9999) cub_182_Yellow_Warbler:(0.9989) cub_183_Northern_Waterthrush:(0.9958) cub_184_Louisiana_Waterthrush:(0.9985) cub_200_Common_Yellowthroat:(0.9968) \n",
      "\t\tProto:5 cub_109_American_Redstart:(0.9996) cub_158_Bay_breasted_Warbler:(0.999) cub_159_Black_and_white_Warbler:(0.9983) cub_160_Black_throated_Blue_Warbler:(0.9989) cub_161_Blue_winged_Warbler:(0.9999) cub_162_Canada_Warbler:(0.9898) cub_163_Cape_May_Warbler:(0.9992) cub_164_Cerulean_Warbler:(0.9995) cub_165_Chestnut_sided_Warbler:(0.9946) cub_166_Golden_winged_Warbler:(0.9951) cub_167_Hooded_Warbler:(0.9995) cub_168_Kentucky_Warbler:(0.9986) cub_169_Magnolia_Warbler:(0.9947) cub_170_Mourning_Warbler:(0.9996) cub_172_Nashville_Warbler:(0.9984) cub_173_Orange_crowned_Warbler:(0.9995) cub_174_Palm_Warbler:(0.9991) cub_175_Pine_Warbler:(0.9985) cub_176_Prairie_Warbler:(0.9989) cub_177_Prothonotary_Warbler:(0.9988) cub_178_Swainson_Warbler:(0.995) cub_179_Tennessee_Warbler:(0.9999) cub_180_Wilson_Warbler:(0.9999) cub_181_Worm_eating_Warbler:(0.9939) cub_182_Yellow_Warbler:(0.993) cub_183_Northern_Waterthrush:(0.9995) cub_184_Louisiana_Waterthrush:(0.9999) cub_200_Common_Yellowthroat:(0.9993) \n",
      "\t\tProto:6 cub_109_American_Redstart:(0.994) cub_158_Bay_breasted_Warbler:(0.9948) cub_159_Black_and_white_Warbler:(0.9958) cub_160_Black_throated_Blue_Warbler:(0.9995) cub_161_Blue_winged_Warbler:(0.9999) cub_162_Canada_Warbler:(0.9998) cub_163_Cape_May_Warbler:(0.9904) cub_164_Cerulean_Warbler:(0.9999) cub_165_Chestnut_sided_Warbler:(0.9958) cub_166_Golden_winged_Warbler:(0.9987) cub_167_Hooded_Warbler:(0.9999) cub_168_Kentucky_Warbler:(0.9992) cub_169_Magnolia_Warbler:(0.9985) cub_170_Mourning_Warbler:(0.9996) cub_172_Nashville_Warbler:(0.9993) cub_173_Orange_crowned_Warbler:(0.9987) cub_174_Palm_Warbler:(0.996) cub_175_Pine_Warbler:(0.9986) cub_176_Prairie_Warbler:(0.9996) cub_177_Prothonotary_Warbler:(0.9998) cub_178_Swainson_Warbler:(0.9979) cub_179_Tennessee_Warbler:(0.9955) cub_180_Wilson_Warbler:(0.9994) cub_181_Worm_eating_Warbler:(0.998) cub_182_Yellow_Warbler:(0.9988) cub_183_Northern_Waterthrush:(0.9996) cub_184_Louisiana_Waterthrush:(1.0) cub_200_Common_Yellowthroat:(0.9998) \n",
      "\t\tProto:7 cub_109_American_Redstart:(0.9985) cub_158_Bay_breasted_Warbler:(0.9986) cub_159_Black_and_white_Warbler:(0.9951) cub_160_Black_throated_Blue_Warbler:(0.9996) cub_161_Blue_winged_Warbler:(0.9998) cub_162_Canada_Warbler:(0.9987) cub_163_Cape_May_Warbler:(0.9993) cub_164_Cerulean_Warbler:(0.9996) cub_165_Chestnut_sided_Warbler:(0.9998) cub_166_Golden_winged_Warbler:(0.9997) cub_167_Hooded_Warbler:(0.9997) cub_168_Kentucky_Warbler:(0.9995) cub_169_Magnolia_Warbler:(0.9978) cub_170_Mourning_Warbler:(0.9996) cub_172_Nashville_Warbler:(0.9989) cub_173_Orange_crowned_Warbler:(0.9997) cub_174_Palm_Warbler:(0.9991) cub_175_Pine_Warbler:(0.9984) cub_176_Prairie_Warbler:(0.9971) cub_177_Prothonotary_Warbler:(0.998) cub_178_Swainson_Warbler:(0.999) cub_179_Tennessee_Warbler:(0.9997) cub_180_Wilson_Warbler:(0.9983) cub_181_Worm_eating_Warbler:(0.9991) cub_182_Yellow_Warbler:(0.9971) cub_183_Northern_Waterthrush:(0.9977) cub_184_Louisiana_Waterthrush:(0.9997) cub_200_Common_Yellowthroat:(0.9957) \n",
      "\t Child: cub_099_Ovenbird\n",
      "\t\tProto:19 cub_099_Ovenbird:(0.8412) \n",
      "\t\tProto:18 cub_099_Ovenbird:(0.982) \n",
      "\t\tProto:11 cub_099_Ovenbird:(0.955) \n",
      "\t\tProto:12 cub_099_Ovenbird:(0.9441) \n"
     ]
    },
    {
     "name": "stderr",
     "output_type": "stream",
     "text": [
      "Collecting topk: 116it [00:19,  5.82it/s]  \n"
     ]
    },
    {
     "name": "stdout",
     "output_type": "stream",
     "text": [
      "Node 054+014\n",
      "\t Child: 054+016\n",
      "\t\tProto:8 cub_015_Lazuli_Bunting:(1.0) cub_016_Painted_Bunting:(1.0) cub_054_Blue_Grosbeak:(0.9861) \n",
      "\t\tProto:1 cub_015_Lazuli_Bunting:(1.0) cub_016_Painted_Bunting:(1.0) cub_054_Blue_Grosbeak:(1.0) \n",
      "\t\tProto:6 cub_015_Lazuli_Bunting:(1.0) cub_016_Painted_Bunting:(1.0) cub_054_Blue_Grosbeak:(1.0) \n",
      "\t\tProto:7 cub_015_Lazuli_Bunting:(1.0) cub_016_Painted_Bunting:(1.0) cub_054_Blue_Grosbeak:(0.9999) \n",
      "\t Child: cub_014_Indigo_Bunting\n",
      "\t\tProto:17 cub_014_Indigo_Bunting:(0.991) \n",
      "\t\tProto:12 cub_014_Indigo_Bunting:(1.0) \n"
     ]
    },
    {
     "name": "stderr",
     "output_type": "stream",
     "text": [
      "Collecting topk: 100% 60/60 [00:18<00:00,  3.33it/s]\n"
     ]
    },
    {
     "name": "stdout",
     "output_type": "stream",
     "text": [
      "Node 140+139\n",
      "\t Child: cub_140_Summer_Tanager\n",
      "\t\tProto:2 cub_140_Summer_Tanager:(1.0) \n",
      "\t\tProto:3 cub_140_Summer_Tanager:(0.9999) \n",
      "\t\tProto:5 cub_140_Summer_Tanager:(1.0) \n",
      "\t Child: cub_139_Scarlet_Tanager\n",
      "\t\tProto:16 cub_139_Scarlet_Tanager:(0.9989) \n",
      "\t\tProto:18 cub_139_Scarlet_Tanager:(1.0) \n",
      "\t\tProto:19 cub_139_Scarlet_Tanager:(1.0) \n"
     ]
    },
    {
     "name": "stderr",
     "output_type": "stream",
     "text": [
      "Collecting topk: 100% 59/59 [00:17<00:00,  3.32it/s]\n"
     ]
    },
    {
     "name": "stdout",
     "output_type": "stream",
     "text": [
      "Node 035+034\n",
      "\t Child: cub_035_Purple_Finch\n",
      "\t\tProto:3 cub_035_Purple_Finch:(1.0) \n",
      "\t\tProto:5 cub_035_Purple_Finch:(1.0) \n",
      "\t\tProto:6 cub_035_Purple_Finch:(1.0) \n",
      "\t Child: cub_034_Gray_crowned_Rosy_Finch\n",
      "\t\tProto:17 cub_034_Gray_crowned_Rosy_Finch:(1.0) \n",
      "\t\tProto:12 cub_034_Gray_crowned_Rosy_Finch:(1.0) \n"
     ]
    },
    {
     "name": "stderr",
     "output_type": "stream",
     "text": [
      "Collecting topk: 150it [00:22,  6.62it/s]\n"
     ]
    },
    {
     "name": "stdout",
     "output_type": "stream",
     "text": [
      "Node 199+193\n",
      "\t Child: 199+197\n",
      "\t\tProto:9 cub_196_House_Wren:(1.0) cub_197_Marsh_Wren:(1.0) cub_199_Winter_Wren:(1.0) \n",
      "\t\tProto:5 cub_196_House_Wren:(1.0) cub_197_Marsh_Wren:(1.0) cub_199_Winter_Wren:(1.0) \n",
      "\t\tProto:6 cub_196_House_Wren:(1.0) cub_197_Marsh_Wren:(1.0) cub_199_Winter_Wren:(1.0) \n",
      "\t Child: 193+195\n",
      "\t\tProto:18 cub_193_Bewick_Wren:(0.9999) cub_195_Carolina_Wren:(1.0) \n",
      "\t\tProto:13 cub_193_Bewick_Wren:(1.0) cub_195_Carolina_Wren:(1.0) \n",
      "\t\tProto:14 cub_193_Bewick_Wren:(0.9995) cub_195_Carolina_Wren:(0.9994) \n",
      "\t\tProto:15 cub_193_Bewick_Wren:(1.0) cub_195_Carolina_Wren:(0.9999) \n"
     ]
    },
    {
     "name": "stderr",
     "output_type": "stream",
     "text": [
      "Collecting topk: 645it [00:43, 14.70it/s]\n"
     ]
    },
    {
     "name": "stdout",
     "output_type": "stream",
     "text": [
      "Node 129+117\n",
      "\t Child: 129+133\n",
      "\t\tProto:1 cub_021_Eastern_Towhee:(0.9982) cub_076_Dark_eyed_Junco:(0.9996) cub_113_Baird_Sparrow:(0.9771) cub_120_Fox_Sparrow:(0.9845) cub_122_Harris_Sparrow:(0.9964) cub_123_Henslow_Sparrow:(0.9993) cub_124_Le_Conte_Sparrow:(0.9969) cub_125_Lincoln_Sparrow:(0.9587) cub_126_Nelson_Sharp_tailed_Sparrow:(0.993) cub_127_Savannah_Sparrow:(0.9981) cub_128_Seaside_Sparrow:(0.9992) cub_129_Song_Sparrow:(0.9532) cub_130_Tree_Sparrow:(0.7714) cub_131_Vesper_Sparrow:(0.9585) cub_132_White_crowned_Sparrow:(0.3893) cub_133_White_throated_Sparrow:(0.995) cub_148_Green_tailed_Towhee:(0.992) \n",
      "\t\tProto:3 cub_021_Eastern_Towhee:(0.9784) cub_076_Dark_eyed_Junco:(0.9992) cub_113_Baird_Sparrow:(0.9776) cub_120_Fox_Sparrow:(0.9988) cub_122_Harris_Sparrow:(0.998) cub_123_Henslow_Sparrow:(0.9603) cub_124_Le_Conte_Sparrow:(0.8716) cub_125_Lincoln_Sparrow:(0.9987) cub_126_Nelson_Sharp_tailed_Sparrow:(0.9908) cub_127_Savannah_Sparrow:(0.9829) cub_128_Seaside_Sparrow:(0.9994) cub_129_Song_Sparrow:(0.9996) cub_130_Tree_Sparrow:(0.9545) cub_131_Vesper_Sparrow:(0.914) cub_132_White_crowned_Sparrow:(0.3129) cub_133_White_throated_Sparrow:(0.9895) cub_148_Green_tailed_Towhee:(0.9988) \n",
      "\t\tProto:4 cub_021_Eastern_Towhee:(0.9949) cub_076_Dark_eyed_Junco:(0.9894) cub_113_Baird_Sparrow:(0.7955) cub_120_Fox_Sparrow:(0.9719) cub_122_Harris_Sparrow:(0.9598) cub_123_Henslow_Sparrow:(0.9932) cub_124_Le_Conte_Sparrow:(0.9978) cub_125_Lincoln_Sparrow:(0.7095) cub_126_Nelson_Sharp_tailed_Sparrow:(0.9981) cub_127_Savannah_Sparrow:(0.9987) cub_128_Seaside_Sparrow:(0.9999) cub_129_Song_Sparrow:(0.9545) cub_130_Tree_Sparrow:(0.9839) cub_131_Vesper_Sparrow:(0.6641) cub_132_White_crowned_Sparrow:(0.9984) cub_133_White_throated_Sparrow:(0.9986) cub_148_Green_tailed_Towhee:(0.9761) \n",
      "\t\tProto:6 cub_021_Eastern_Towhee:(0.851) cub_076_Dark_eyed_Junco:(0.2532) cub_113_Baird_Sparrow:(0.9589) cub_120_Fox_Sparrow:(0.9676) cub_122_Harris_Sparrow:(0.9875) cub_123_Henslow_Sparrow:(0.9787) cub_124_Le_Conte_Sparrow:(0.9744) cub_125_Lincoln_Sparrow:(0.6811) cub_126_Nelson_Sharp_tailed_Sparrow:(0.9428) cub_127_Savannah_Sparrow:(0.935) cub_128_Seaside_Sparrow:(0.9711) cub_129_Song_Sparrow:(0.7219) cub_130_Tree_Sparrow:(0.2327) cub_131_Vesper_Sparrow:(0.9636) cub_132_White_crowned_Sparrow:(0.1027) cub_133_White_throated_Sparrow:(0.8499) cub_148_Green_tailed_Towhee:(0.8922) \n",
      "\t\tProto:7 cub_021_Eastern_Towhee:(0.9977) cub_076_Dark_eyed_Junco:(0.9985) cub_113_Baird_Sparrow:(0.933) cub_120_Fox_Sparrow:(0.9911) cub_122_Harris_Sparrow:(0.9991) cub_123_Henslow_Sparrow:(0.9949) cub_124_Le_Conte_Sparrow:(0.9964) cub_125_Lincoln_Sparrow:(0.646) cub_126_Nelson_Sharp_tailed_Sparrow:(0.9991) cub_127_Savannah_Sparrow:(0.9986) cub_128_Seaside_Sparrow:(0.9999) cub_129_Song_Sparrow:(0.1676) cub_130_Tree_Sparrow:(0.2785) cub_131_Vesper_Sparrow:(0.9996) cub_132_White_crowned_Sparrow:(0.9007) cub_133_White_throated_Sparrow:(0.9908) cub_148_Green_tailed_Towhee:(0.1634) \n",
      "\t\tProto:8 cub_021_Eastern_Towhee:(0.998) cub_076_Dark_eyed_Junco:(0.9874) cub_113_Baird_Sparrow:(0.988) cub_120_Fox_Sparrow:(0.9989) cub_122_Harris_Sparrow:(0.991) cub_123_Henslow_Sparrow:(0.9933) cub_124_Le_Conte_Sparrow:(0.9987) cub_125_Lincoln_Sparrow:(0.9984) cub_126_Nelson_Sharp_tailed_Sparrow:(0.991) cub_127_Savannah_Sparrow:(0.9914) cub_128_Seaside_Sparrow:(0.976) cub_129_Song_Sparrow:(0.9596) cub_130_Tree_Sparrow:(0.2891) cub_131_Vesper_Sparrow:(0.9969) cub_132_White_crowned_Sparrow:(1.0) cub_133_White_throated_Sparrow:(0.9602) cub_148_Green_tailed_Towhee:(0.3499) \n",
      "\t Child: 117+114\n",
      "\t\tProto:10 cub_114_Black_throated_Sparrow:(0.9964) cub_115_Brewer_Sparrow:(0.9969) cub_116_Chipping_Sparrow:(0.9936) cub_117_Clay_colored_Sparrow:(0.9914) cub_119_Field_Sparrow:(0.9987) \n",
      "\t\tProto:13 cub_114_Black_throated_Sparrow:(0.4929) cub_115_Brewer_Sparrow:(0.4891) cub_116_Chipping_Sparrow:(0.3696) cub_117_Clay_colored_Sparrow:(0.3487) cub_119_Field_Sparrow:(0.44) \n",
      "\t\tProto:15 cub_114_Black_throated_Sparrow:(0.9991) cub_115_Brewer_Sparrow:(0.3936) cub_116_Chipping_Sparrow:(0.4104) cub_117_Clay_colored_Sparrow:(0.742) cub_119_Field_Sparrow:(0.3244) \n",
      "\t\tProto:17 cub_114_Black_throated_Sparrow:(0.9979) cub_115_Brewer_Sparrow:(0.9897) cub_116_Chipping_Sparrow:(0.7455) cub_117_Clay_colored_Sparrow:(0.9974) cub_119_Field_Sparrow:(0.9973) \n",
      "\t\tProto:19 cub_114_Black_throated_Sparrow:(0.0314) cub_115_Brewer_Sparrow:(0.9443) cub_116_Chipping_Sparrow:(0.9729) cub_117_Clay_colored_Sparrow:(0.9807) cub_119_Field_Sparrow:(0.9981) \n"
     ]
    },
    {
     "name": "stderr",
     "output_type": "stream",
     "text": [
      "Collecting topk: 298it [00:28, 10.38it/s]\n"
     ]
    },
    {
     "name": "stdout",
     "output_type": "stream",
     "text": [
      "Node 011+095\n",
      "\t Child: 011+026\n",
      "\t\tProto:0 cub_009_Brewer_Blackbird:(0.9999) cub_010_Red_winged_Blackbird:(0.9976) cub_011_Rusty_Blackbird:(0.9956) cub_026_Bronzed_Cowbird:(0.9983) cub_027_Shiny_Cowbird:(0.9996) cub_049_Boat_tailed_Grackle:(0.9994) \n",
      "\t\tProto:2 cub_009_Brewer_Blackbird:(0.9998) cub_010_Red_winged_Blackbird:(0.9838) cub_011_Rusty_Blackbird:(0.9998) cub_026_Bronzed_Cowbird:(0.999) cub_027_Shiny_Cowbird:(0.999) cub_049_Boat_tailed_Grackle:(0.9997) \n",
      "\t\tProto:4 cub_009_Brewer_Blackbird:(1.0) cub_010_Red_winged_Blackbird:(0.997) cub_011_Rusty_Blackbird:(1.0) cub_026_Bronzed_Cowbird:(1.0) cub_027_Shiny_Cowbird:(0.9998) cub_049_Boat_tailed_Grackle:(1.0) \n",
      "\t\tProto:6 cub_009_Brewer_Blackbird:(0.9999) cub_010_Red_winged_Blackbird:(0.9997) cub_011_Rusty_Blackbird:(0.9991) cub_026_Bronzed_Cowbird:(0.9997) cub_027_Shiny_Cowbird:(0.9997) cub_049_Boat_tailed_Grackle:(0.9999) \n",
      "\t\tProto:7 cub_009_Brewer_Blackbird:(1.0) cub_010_Red_winged_Blackbird:(0.9998) cub_011_Rusty_Blackbird:(0.9998) cub_026_Bronzed_Cowbird:(0.9999) cub_027_Shiny_Cowbird:(1.0) cub_049_Boat_tailed_Grackle:(1.0) \n",
      "\t\tProto:8 cub_009_Brewer_Blackbird:(0.9914) cub_010_Red_winged_Blackbird:(0.9714) cub_011_Rusty_Blackbird:(0.986) cub_026_Bronzed_Cowbird:(0.9677) cub_027_Shiny_Cowbird:(0.9862) cub_049_Boat_tailed_Grackle:(0.9777) \n",
      "\t Child: 095+096\n",
      "\t\tProto:16 cub_095_Baltimore_Oriole:(0.9995) cub_096_Hooded_Oriole:(0.9985) cub_097_Orchard_Oriole:(0.9913) cub_098_Scott_Oriole:(0.9971) \n",
      "\t\tProto:10 cub_095_Baltimore_Oriole:(0.9881) cub_096_Hooded_Oriole:(0.9806) cub_097_Orchard_Oriole:(0.9793) cub_098_Scott_Oriole:(0.9706) \n",
      "\t\tProto:12 cub_095_Baltimore_Oriole:(1.0) cub_096_Hooded_Oriole:(0.9997) cub_097_Orchard_Oriole:(0.9997) cub_098_Scott_Oriole:(0.9999) \n",
      "\t\tProto:14 cub_095_Baltimore_Oriole:(0.9999) cub_096_Hooded_Oriole:(1.0) cub_097_Orchard_Oriole:(0.9994) cub_098_Scott_Oriole:(1.0) \n"
     ]
    },
    {
     "name": "stderr",
     "output_type": "stream",
     "text": [
      "Collecting topk: 86it [00:18,  4.61it/s]   \n"
     ]
    },
    {
     "name": "stdout",
     "output_type": "stream",
     "text": [
      "Node 013+088\n",
      "\t Child: 013+012\n",
      "\t\tProto:1 cub_012_Yellow_headed_Blackbird:(1.0) cub_013_Bobolink:(1.0) \n",
      "\t\tProto:4 cub_012_Yellow_headed_Blackbird:(1.0) cub_013_Bobolink:(1.0) \n",
      "\t\tProto:7 cub_012_Yellow_headed_Blackbird:(1.0) cub_013_Bobolink:(1.0) \n",
      "\t Child: cub_088_Western_Meadowlark\n",
      "\t\tProto:17 cub_088_Western_Meadowlark:(1.0) \n",
      "\t\tProto:13 cub_088_Western_Meadowlark:(1.0) \n"
     ]
    },
    {
     "name": "stderr",
     "output_type": "stream",
     "text": [
      "Collecting topk: 830it [00:52, 15.71it/s]  \n"
     ]
    },
    {
     "name": "stdout",
     "output_type": "stream",
     "text": [
      "Node 175+181\n",
      "\t Child: 175+168+173+183\n",
      "\t\tProto:2 cub_109_American_Redstart:(0.9984) cub_158_Bay_breasted_Warbler:(0.9995) cub_159_Black_and_white_Warbler:(0.9929) cub_160_Black_throated_Blue_Warbler:(0.9991) cub_161_Blue_winged_Warbler:(0.9963) cub_162_Canada_Warbler:(0.999) cub_163_Cape_May_Warbler:(0.9907) cub_164_Cerulean_Warbler:(0.9998) cub_165_Chestnut_sided_Warbler:(0.9995) cub_166_Golden_winged_Warbler:(0.9989) cub_167_Hooded_Warbler:(0.9997) cub_168_Kentucky_Warbler:(0.9962) cub_169_Magnolia_Warbler:(0.9966) cub_170_Mourning_Warbler:(0.9994) cub_172_Nashville_Warbler:(0.9996) cub_173_Orange_crowned_Warbler:(0.9989) cub_174_Palm_Warbler:(0.9996) cub_175_Pine_Warbler:(0.9996) cub_176_Prairie_Warbler:(0.9989) cub_177_Prothonotary_Warbler:(0.9981) cub_178_Swainson_Warbler:(0.9886) cub_179_Tennessee_Warbler:(0.9978) cub_180_Wilson_Warbler:(0.997) cub_182_Yellow_Warbler:(0.9993) cub_183_Northern_Waterthrush:(0.9997) cub_184_Louisiana_Waterthrush:(0.9989) cub_200_Common_Yellowthroat:(0.9977) \n",
      "\t\tProto:3 cub_109_American_Redstart:(0.9996) cub_158_Bay_breasted_Warbler:(0.9954) cub_159_Black_and_white_Warbler:(0.9987) cub_160_Black_throated_Blue_Warbler:(0.9998) cub_161_Blue_winged_Warbler:(0.9887) cub_162_Canada_Warbler:(0.9996) cub_163_Cape_May_Warbler:(0.9942) cub_164_Cerulean_Warbler:(0.9996) cub_165_Chestnut_sided_Warbler:(0.9999) cub_166_Golden_winged_Warbler:(0.9998) cub_167_Hooded_Warbler:(0.9996) cub_168_Kentucky_Warbler:(0.9939) cub_169_Magnolia_Warbler:(0.9933) cub_170_Mourning_Warbler:(0.9995) cub_172_Nashville_Warbler:(0.9994) cub_173_Orange_crowned_Warbler:(0.9989) cub_174_Palm_Warbler:(0.9998) cub_175_Pine_Warbler:(0.9981) cub_176_Prairie_Warbler:(0.9959) cub_177_Prothonotary_Warbler:(0.9942) cub_178_Swainson_Warbler:(0.9858) cub_179_Tennessee_Warbler:(0.9934) cub_180_Wilson_Warbler:(0.9992) cub_182_Yellow_Warbler:(0.999) cub_183_Northern_Waterthrush:(0.9912) cub_184_Louisiana_Waterthrush:(0.9963) cub_200_Common_Yellowthroat:(0.9986) \n",
      "\t\tProto:4 cub_109_American_Redstart:(0.9993) cub_158_Bay_breasted_Warbler:(0.9956) cub_159_Black_and_white_Warbler:(0.9935) cub_160_Black_throated_Blue_Warbler:(0.999) cub_161_Blue_winged_Warbler:(0.9901) cub_162_Canada_Warbler:(0.9993) cub_163_Cape_May_Warbler:(0.9818) cub_164_Cerulean_Warbler:(0.9979) cub_165_Chestnut_sided_Warbler:(0.9988) cub_166_Golden_winged_Warbler:(0.999) cub_167_Hooded_Warbler:(0.9929) cub_168_Kentucky_Warbler:(0.9942) cub_169_Magnolia_Warbler:(0.9994) cub_170_Mourning_Warbler:(0.9999) cub_172_Nashville_Warbler:(0.9995) cub_173_Orange_crowned_Warbler:(0.9995) cub_174_Palm_Warbler:(0.9984) cub_175_Pine_Warbler:(0.9976) cub_176_Prairie_Warbler:(0.9975) cub_177_Prothonotary_Warbler:(0.9997) cub_178_Swainson_Warbler:(0.9662) cub_179_Tennessee_Warbler:(0.9975) cub_180_Wilson_Warbler:(0.9959) cub_182_Yellow_Warbler:(0.9993) cub_183_Northern_Waterthrush:(0.9985) cub_184_Louisiana_Waterthrush:(0.9959) cub_200_Common_Yellowthroat:(0.9977) \n",
      "\t\tProto:5 cub_109_American_Redstart:(0.9995) cub_158_Bay_breasted_Warbler:(0.9983) cub_159_Black_and_white_Warbler:(0.9988) cub_160_Black_throated_Blue_Warbler:(0.9997) cub_161_Blue_winged_Warbler:(0.9994) cub_162_Canada_Warbler:(0.9991) cub_163_Cape_May_Warbler:(0.9957) cub_164_Cerulean_Warbler:(0.9999) cub_165_Chestnut_sided_Warbler:(0.9981) cub_166_Golden_winged_Warbler:(0.9991) cub_167_Hooded_Warbler:(0.9984) cub_168_Kentucky_Warbler:(0.9973) cub_169_Magnolia_Warbler:(0.9991) cub_170_Mourning_Warbler:(0.9997) cub_172_Nashville_Warbler:(0.9972) cub_173_Orange_crowned_Warbler:(0.9997) cub_174_Palm_Warbler:(0.9997) cub_175_Pine_Warbler:(0.9998) cub_176_Prairie_Warbler:(0.9993) cub_177_Prothonotary_Warbler:(0.9994) cub_178_Swainson_Warbler:(0.9681) cub_179_Tennessee_Warbler:(0.9989) cub_180_Wilson_Warbler:(0.9956) cub_182_Yellow_Warbler:(0.9997) cub_183_Northern_Waterthrush:(0.9991) cub_184_Louisiana_Waterthrush:(0.9995) cub_200_Common_Yellowthroat:(0.999) \n",
      "\t\tProto:7 cub_109_American_Redstart:(0.9997) cub_158_Bay_breasted_Warbler:(0.9981) cub_159_Black_and_white_Warbler:(0.9937) cub_160_Black_throated_Blue_Warbler:(0.999) cub_161_Blue_winged_Warbler:(0.9946) cub_162_Canada_Warbler:(0.9937) cub_163_Cape_May_Warbler:(0.9558) cub_164_Cerulean_Warbler:(0.9989) cub_165_Chestnut_sided_Warbler:(0.9967) cub_166_Golden_winged_Warbler:(0.9977) cub_167_Hooded_Warbler:(0.976) cub_168_Kentucky_Warbler:(0.9817) cub_169_Magnolia_Warbler:(0.9987) cub_170_Mourning_Warbler:(0.9976) cub_172_Nashville_Warbler:(0.9985) cub_173_Orange_crowned_Warbler:(0.9904) cub_174_Palm_Warbler:(0.9956) cub_175_Pine_Warbler:(0.9967) cub_176_Prairie_Warbler:(0.9956) cub_177_Prothonotary_Warbler:(0.9907) cub_178_Swainson_Warbler:(0.8616) cub_179_Tennessee_Warbler:(0.9605) cub_180_Wilson_Warbler:(0.9695) cub_182_Yellow_Warbler:(0.9938) cub_183_Northern_Waterthrush:(0.993) cub_184_Louisiana_Waterthrush:(0.9867) cub_200_Common_Yellowthroat:(0.9966) \n",
      "\t\tProto:9 cub_109_American_Redstart:(0.997) cub_158_Bay_breasted_Warbler:(0.997) cub_159_Black_and_white_Warbler:(0.9896) cub_160_Black_throated_Blue_Warbler:(0.9973) cub_161_Blue_winged_Warbler:(0.9981) cub_162_Canada_Warbler:(0.998) cub_163_Cape_May_Warbler:(0.9655) cub_164_Cerulean_Warbler:(0.9988) cub_165_Chestnut_sided_Warbler:(0.9965) cub_166_Golden_winged_Warbler:(0.9934) cub_167_Hooded_Warbler:(0.9896) cub_168_Kentucky_Warbler:(0.9895) cub_169_Magnolia_Warbler:(0.9889) cub_170_Mourning_Warbler:(0.9917) cub_172_Nashville_Warbler:(0.9981) cub_173_Orange_crowned_Warbler:(0.9968) cub_174_Palm_Warbler:(0.9943) cub_175_Pine_Warbler:(0.9984) cub_176_Prairie_Warbler:(0.9979) cub_177_Prothonotary_Warbler:(0.9925) cub_178_Swainson_Warbler:(0.9763) cub_179_Tennessee_Warbler:(0.998) cub_180_Wilson_Warbler:(0.9809) cub_182_Yellow_Warbler:(0.9983) cub_183_Northern_Waterthrush:(0.9906) cub_184_Louisiana_Waterthrush:(0.9809) cub_200_Common_Yellowthroat:(0.9962) \n",
      "\t Child: cub_181_Worm_eating_Warbler\n",
      "\t\tProto:16 cub_181_Worm_eating_Warbler:(0.9996) \n",
      "\t\tProto:19 cub_181_Worm_eating_Warbler:(0.1663) \n",
      "\t\tProto:15 cub_181_Worm_eating_Warbler:(0.9311) \n"
     ]
    },
    {
     "name": "stderr",
     "output_type": "stream",
     "text": [
      "Collecting topk: 86it [00:19,  4.50it/s]   \n"
     ]
    },
    {
     "name": "stdout",
     "output_type": "stream",
     "text": [
      "Node 054+016\n",
      "\t Child: 054+015\n",
      "\t\tProto:0 cub_015_Lazuli_Bunting:(1.0) cub_054_Blue_Grosbeak:(1.0) \n",
      "\t\tProto:2 cub_015_Lazuli_Bunting:(1.0) cub_054_Blue_Grosbeak:(1.0) \n",
      "\t\tProto:7 cub_015_Lazuli_Bunting:(1.0) cub_054_Blue_Grosbeak:(1.0) \n",
      "\t Child: cub_016_Painted_Bunting\n",
      "\t\tProto:16 cub_016_Painted_Bunting:(0.9999) \n",
      "\t\tProto:15 cub_016_Painted_Bunting:(1.0) \n"
     ]
    },
    {
     "name": "stderr",
     "output_type": "stream",
     "text": [
      "Collecting topk: 90it [00:19,  4.73it/s]   \n"
     ]
    },
    {
     "name": "stdout",
     "output_type": "stream",
     "text": [
      "Node 199+197\n",
      "\t Child: 199+196\n",
      "\t\tProto:1 cub_196_House_Wren:(1.0) cub_199_Winter_Wren:(1.0) \n",
      "\t\tProto:5 cub_196_House_Wren:(1.0) cub_199_Winter_Wren:(1.0) \n",
      "\t\tProto:6 cub_196_House_Wren:(1.0) cub_199_Winter_Wren:(1.0) \n",
      "\t Child: cub_197_Marsh_Wren\n",
      "\t\tProto:10 cub_197_Marsh_Wren:(1.0) \n",
      "\t\tProto:19 cub_197_Marsh_Wren:(1.0) \n"
     ]
    },
    {
     "name": "stderr",
     "output_type": "stream",
     "text": [
      "Collecting topk: 100% 60/60 [00:17<00:00,  3.41it/s]\n"
     ]
    },
    {
     "name": "stdout",
     "output_type": "stream",
     "text": [
      "Node 193+195\n",
      "\t Child: cub_193_Bewick_Wren\n",
      "\t\tProto:2 cub_193_Bewick_Wren:(1.0) \n",
      "\t\tProto:6 cub_193_Bewick_Wren:(0.9998) \n",
      "\t Child: cub_195_Carolina_Wren\n",
      "\t\tProto:13 cub_195_Carolina_Wren:(1.0) \n",
      "\t\tProto:15 cub_195_Carolina_Wren:(0.9998) \n"
     ]
    },
    {
     "name": "stderr",
     "output_type": "stream",
     "text": [
      "Collecting topk: 498it [00:37, 13.12it/s]\n"
     ]
    },
    {
     "name": "stdout",
     "output_type": "stream",
     "text": [
      "Node 129+133\n",
      "\t Child: 129+021\n",
      "\t\tProto:0 cub_021_Eastern_Towhee:(0.8286) cub_113_Baird_Sparrow:(0.9803) cub_123_Henslow_Sparrow:(0.9925) cub_124_Le_Conte_Sparrow:(0.9975) cub_125_Lincoln_Sparrow:(0.9967) cub_126_Nelson_Sharp_tailed_Sparrow:(0.9967) cub_127_Savannah_Sparrow:(0.9977) cub_128_Seaside_Sparrow:(0.9883) cub_129_Song_Sparrow:(0.9148) cub_131_Vesper_Sparrow:(0.9933) cub_148_Green_tailed_Towhee:(0.8166) \n",
      "\t\tProto:2 cub_021_Eastern_Towhee:(0.9873) cub_113_Baird_Sparrow:(0.9954) cub_123_Henslow_Sparrow:(0.9983) cub_124_Le_Conte_Sparrow:(0.9885) cub_125_Lincoln_Sparrow:(0.994) cub_126_Nelson_Sharp_tailed_Sparrow:(0.9811) cub_127_Savannah_Sparrow:(0.9986) cub_128_Seaside_Sparrow:(0.9512) cub_129_Song_Sparrow:(0.983) cub_131_Vesper_Sparrow:(0.9966) cub_148_Green_tailed_Towhee:(0.9628) \n",
      "\t\tProto:3 cub_021_Eastern_Towhee:(0.9901) cub_113_Baird_Sparrow:(0.9886) cub_123_Henslow_Sparrow:(0.9969) cub_124_Le_Conte_Sparrow:(0.9865) cub_125_Lincoln_Sparrow:(0.995) cub_126_Nelson_Sharp_tailed_Sparrow:(0.9845) cub_127_Savannah_Sparrow:(0.999) cub_128_Seaside_Sparrow:(0.9957) cub_129_Song_Sparrow:(0.9272) cub_131_Vesper_Sparrow:(0.9905) cub_148_Green_tailed_Towhee:(0.9328) \n",
      "\t\tProto:6 cub_021_Eastern_Towhee:(0.4528) cub_113_Baird_Sparrow:(0.9945) cub_123_Henslow_Sparrow:(0.9978) cub_124_Le_Conte_Sparrow:(0.999) cub_125_Lincoln_Sparrow:(0.9918) cub_126_Nelson_Sharp_tailed_Sparrow:(0.9981) cub_127_Savannah_Sparrow:(0.997) cub_128_Seaside_Sparrow:(0.9938) cub_129_Song_Sparrow:(0.9973) cub_131_Vesper_Sparrow:(0.9995) cub_148_Green_tailed_Towhee:(0.998) \n",
      "\t\tProto:7 cub_021_Eastern_Towhee:(0.9967) cub_113_Baird_Sparrow:(0.995) cub_123_Henslow_Sparrow:(0.9996) cub_124_Le_Conte_Sparrow:(0.9942) cub_125_Lincoln_Sparrow:(0.9925) cub_126_Nelson_Sharp_tailed_Sparrow:(0.9835) cub_127_Savannah_Sparrow:(0.9972) cub_128_Seaside_Sparrow:(0.998) cub_129_Song_Sparrow:(0.9909) cub_131_Vesper_Sparrow:(0.995) cub_148_Green_tailed_Towhee:(0.9973) \n",
      "\t\tProto:9 cub_021_Eastern_Towhee:(0.0303) cub_113_Baird_Sparrow:(0.9971) cub_123_Henslow_Sparrow:(0.9608) cub_124_Le_Conte_Sparrow:(0.9932) cub_125_Lincoln_Sparrow:(0.9967) cub_126_Nelson_Sharp_tailed_Sparrow:(0.9975) cub_127_Savannah_Sparrow:(0.9989) cub_128_Seaside_Sparrow:(0.9976) cub_129_Song_Sparrow:(0.9845) cub_131_Vesper_Sparrow:(0.9947) cub_148_Green_tailed_Towhee:(0.999) \n",
      "\t Child: 133+130\n",
      "\t\tProto:10 cub_076_Dark_eyed_Junco:(0.9997) cub_120_Fox_Sparrow:(0.9401) cub_122_Harris_Sparrow:(0.9371) cub_130_Tree_Sparrow:(0.9873) cub_132_White_crowned_Sparrow:(0.9927) cub_133_White_throated_Sparrow:(0.9996) \n",
      "\t\tProto:13 cub_076_Dark_eyed_Junco:(0.9994) cub_120_Fox_Sparrow:(0.9984) cub_122_Harris_Sparrow:(0.9974) cub_130_Tree_Sparrow:(0.9867) cub_132_White_crowned_Sparrow:(0.9998) cub_133_White_throated_Sparrow:(0.9991) \n",
      "\t\tProto:14 cub_076_Dark_eyed_Junco:(0.7189) cub_120_Fox_Sparrow:(0.9842) cub_122_Harris_Sparrow:(0.9784) cub_130_Tree_Sparrow:(0.9743) cub_132_White_crowned_Sparrow:(0.9993) cub_133_White_throated_Sparrow:(0.9997) \n",
      "\t\tProto:15 cub_076_Dark_eyed_Junco:(0.837) cub_120_Fox_Sparrow:(0.9981) cub_122_Harris_Sparrow:(0.9888) cub_130_Tree_Sparrow:(0.9902) cub_132_White_crowned_Sparrow:(0.9988) cub_133_White_throated_Sparrow:(0.9929) \n",
      "\t\tProto:16 cub_076_Dark_eyed_Junco:(0.9988) cub_120_Fox_Sparrow:(0.4608) cub_122_Harris_Sparrow:(0.9997) cub_130_Tree_Sparrow:(0.2118) cub_132_White_crowned_Sparrow:(0.9784) cub_133_White_throated_Sparrow:(0.3219) \n",
      "\t\tProto:18 cub_076_Dark_eyed_Junco:(0.1965) cub_120_Fox_Sparrow:(0.9998) cub_122_Harris_Sparrow:(0.0965) cub_130_Tree_Sparrow:(0.9976) cub_132_White_crowned_Sparrow:(0.9994) cub_133_White_throated_Sparrow:(0.9959) \n"
     ]
    },
    {
     "name": "stderr",
     "output_type": "stream",
     "text": [
      "Collecting topk: 147it [00:21,  6.87it/s]  \n"
     ]
    },
    {
     "name": "stdout",
     "output_type": "stream",
     "text": [
      "Node 117+114\n",
      "\t Child: 117+115\n",
      "\t\tProto:0 cub_115_Brewer_Sparrow:(0.9995) cub_116_Chipping_Sparrow:(0.9991) cub_117_Clay_colored_Sparrow:(0.9987) cub_119_Field_Sparrow:(0.9993) \n",
      "\t\tProto:1 cub_115_Brewer_Sparrow:(0.9998) cub_116_Chipping_Sparrow:(0.9999) cub_117_Clay_colored_Sparrow:(0.9999) cub_119_Field_Sparrow:(0.9999) \n",
      "\t\tProto:3 cub_115_Brewer_Sparrow:(1.0) cub_116_Chipping_Sparrow:(1.0) cub_117_Clay_colored_Sparrow:(0.9999) cub_119_Field_Sparrow:(0.9999) \n",
      "\t\tProto:7 cub_115_Brewer_Sparrow:(0.9998) cub_116_Chipping_Sparrow:(0.9999) cub_117_Clay_colored_Sparrow:(0.9999) cub_119_Field_Sparrow:(0.9997) \n",
      "\t\tProto:8 cub_115_Brewer_Sparrow:(0.9999) cub_116_Chipping_Sparrow:(1.0) cub_117_Clay_colored_Sparrow:(1.0) cub_119_Field_Sparrow:(1.0) \n",
      "\t\tProto:9 cub_115_Brewer_Sparrow:(1.0) cub_116_Chipping_Sparrow:(0.9998) cub_117_Clay_colored_Sparrow:(1.0) cub_119_Field_Sparrow:(1.0) \n",
      "\t Child: cub_114_Black_throated_Sparrow\n",
      "\t\tProto:16 cub_114_Black_throated_Sparrow:(1.0) \n",
      "\t\tProto:19 cub_114_Black_throated_Sparrow:(1.0) \n",
      "\t\tProto:14 cub_114_Black_throated_Sparrow:(0.7692) \n"
     ]
    },
    {
     "name": "stderr",
     "output_type": "stream",
     "text": [
      "Collecting topk: 179it [00:22,  7.80it/s]\n"
     ]
    },
    {
     "name": "stdout",
     "output_type": "stream",
     "text": [
      "Node 011+026\n",
      "\t Child: 011+049\n",
      "\t\tProto:8 cub_009_Brewer_Blackbird:(1.0) cub_011_Rusty_Blackbird:(1.0) cub_049_Boat_tailed_Grackle:(0.9999) \n",
      "\t\tProto:1 cub_009_Brewer_Blackbird:(0.9991) cub_011_Rusty_Blackbird:(0.9996) cub_049_Boat_tailed_Grackle:(0.9978) \n",
      "\t\tProto:2 cub_009_Brewer_Blackbird:(1.0) cub_011_Rusty_Blackbird:(1.0) cub_049_Boat_tailed_Grackle:(0.9997) \n",
      "\t Child: 026+010\n",
      "\t\tProto:18 cub_010_Red_winged_Blackbird:(0.9998) cub_026_Bronzed_Cowbird:(1.0) cub_027_Shiny_Cowbird:(0.9989) \n",
      "\t\tProto:19 cub_010_Red_winged_Blackbird:(0.9998) cub_026_Bronzed_Cowbird:(1.0) cub_027_Shiny_Cowbird:(0.9994) \n",
      "\t\tProto:13 cub_010_Red_winged_Blackbird:(1.0) cub_026_Bronzed_Cowbird:(0.9997) cub_027_Shiny_Cowbird:(0.9986) \n"
     ]
    },
    {
     "name": "stderr",
     "output_type": "stream",
     "text": [
      "Collecting topk: 119it [00:20,  5.85it/s]\n"
     ]
    },
    {
     "name": "stdout",
     "output_type": "stream",
     "text": [
      "Node 095+096\n",
      "\t Child: 095+098\n",
      "\t\tProto:1 cub_095_Baltimore_Oriole:(0.9999) cub_098_Scott_Oriole:(0.9999) \n",
      "\t\tProto:6 cub_095_Baltimore_Oriole:(1.0) cub_098_Scott_Oriole:(1.0) \n",
      "\t\tProto:7 cub_095_Baltimore_Oriole:(0.9998) cub_098_Scott_Oriole:(0.9999) \n",
      "\t Child: 096+097\n",
      "\t\tProto:16 cub_096_Hooded_Oriole:(1.0) cub_097_Orchard_Oriole:(0.9998) \n",
      "\t\tProto:14 cub_096_Hooded_Oriole:(1.0) cub_097_Orchard_Oriole:(0.9889) \n",
      "\t\tProto:15 cub_096_Hooded_Oriole:(0.9999) cub_097_Orchard_Oriole:(1.0) \n"
     ]
    },
    {
     "name": "stderr",
     "output_type": "stream",
     "text": [
      "Collecting topk: 100% 56/56 [00:17<00:00,  3.18it/s]\n"
     ]
    },
    {
     "name": "stdout",
     "output_type": "stream",
     "text": [
      "Node 013+012\n",
      "\t Child: cub_013_Bobolink\n",
      "\t\tProto:8 cub_013_Bobolink:(1.0) \n",
      "\t\tProto:5 cub_013_Bobolink:(1.0) \n",
      "\t Child: cub_012_Yellow_headed_Blackbird\n",
      "\t\tProto:14 cub_012_Yellow_headed_Blackbird:(1.0) \n",
      "\t\tProto:15 cub_012_Yellow_headed_Blackbird:(1.0) \n"
     ]
    },
    {
     "name": "stderr",
     "output_type": "stream",
     "text": [
      "Collecting topk: 801it [00:51, 15.53it/s]\n"
     ]
    },
    {
     "name": "stdout",
     "output_type": "stream",
     "text": [
      "Node 175+168+173+183\n",
      "\t Child: 175+162\n",
      "\t\tProto:0 cub_109_American_Redstart:(1.0) cub_158_Bay_breasted_Warbler:(1.0) cub_160_Black_throated_Blue_Warbler:(1.0) cub_162_Canada_Warbler:(1.0) cub_163_Cape_May_Warbler:(1.0) cub_164_Cerulean_Warbler:(1.0) cub_165_Chestnut_sided_Warbler:(1.0) cub_167_Hooded_Warbler:(1.0) cub_169_Magnolia_Warbler:(1.0) cub_174_Palm_Warbler:(1.0) cub_175_Pine_Warbler:(1.0) cub_176_Prairie_Warbler:(1.0) cub_180_Wilson_Warbler:(1.0) cub_182_Yellow_Warbler:(1.0) \n",
      "\t\tProto:1 cub_109_American_Redstart:(0.9999) cub_158_Bay_breasted_Warbler:(1.0) cub_160_Black_throated_Blue_Warbler:(0.9987) cub_162_Canada_Warbler:(0.9987) cub_163_Cape_May_Warbler:(0.9596) cub_164_Cerulean_Warbler:(0.9997) cub_165_Chestnut_sided_Warbler:(0.9994) cub_167_Hooded_Warbler:(0.8152) cub_169_Magnolia_Warbler:(0.9813) cub_174_Palm_Warbler:(0.9639) cub_175_Pine_Warbler:(0.9192) cub_176_Prairie_Warbler:(0.9481) cub_180_Wilson_Warbler:(0.841) cub_182_Yellow_Warbler:(0.947) \n",
      "\t Child: 168+177\n",
      "\t\tProto:8 cub_168_Kentucky_Warbler:(0.9952) cub_170_Mourning_Warbler:(0.9993) cub_177_Prothonotary_Warbler:(0.9977) cub_178_Swainson_Warbler:(0.9961) cub_200_Common_Yellowthroat:(0.9975) \n",
      "\t\tProto:9 cub_168_Kentucky_Warbler:(0.9835) cub_170_Mourning_Warbler:(0.9947) cub_177_Prothonotary_Warbler:(0.8724) cub_178_Swainson_Warbler:(0.8707) cub_200_Common_Yellowthroat:(0.9968) \n",
      "\t\tProto:5 cub_168_Kentucky_Warbler:(0.9949) cub_170_Mourning_Warbler:(0.9847) cub_177_Prothonotary_Warbler:(0.9591) cub_178_Swainson_Warbler:(0.9774) cub_200_Common_Yellowthroat:(0.9927) \n",
      "\t Child: 173+161\n",
      "\t\tProto:11 cub_161_Blue_winged_Warbler:(0.9974) cub_166_Golden_winged_Warbler:(0.9937) cub_172_Nashville_Warbler:(0.9934) cub_173_Orange_crowned_Warbler:(0.9916) cub_179_Tennessee_Warbler:(0.9801) \n",
      "\t\tProto:12 cub_161_Blue_winged_Warbler:(0.996) cub_166_Golden_winged_Warbler:(0.9984) cub_172_Nashville_Warbler:(0.1814) cub_173_Orange_crowned_Warbler:(0.2117) cub_179_Tennessee_Warbler:(0.5016) \n",
      "\t\tProto:13 cub_161_Blue_winged_Warbler:(0.9853) cub_166_Golden_winged_Warbler:(0.9913) cub_172_Nashville_Warbler:(0.9828) cub_173_Orange_crowned_Warbler:(0.9742) cub_179_Tennessee_Warbler:(0.9656) \n",
      "\t Child: 183+159\n",
      "\t\tProto:16 cub_159_Black_and_white_Warbler:(0.9973) cub_183_Northern_Waterthrush:(0.9988) cub_184_Louisiana_Waterthrush:(0.9991) \n",
      "\t\tProto:17 cub_159_Black_and_white_Warbler:(0.6749) cub_183_Northern_Waterthrush:(0.9548) cub_184_Louisiana_Waterthrush:(0.9789) \n",
      "\t\tProto:18 cub_159_Black_and_white_Warbler:(0.9945) cub_183_Northern_Waterthrush:(0.9944) cub_184_Louisiana_Waterthrush:(0.9806) \n",
      "\t\tProto:19 cub_159_Black_and_white_Warbler:(0.9998) cub_183_Northern_Waterthrush:(0.9998) cub_184_Louisiana_Waterthrush:(0.9992) \n"
     ]
    },
    {
     "name": "stderr",
     "output_type": "stream",
     "text": [
      "Collecting topk: 100% 58/58 [00:17<00:00,  3.28it/s]\n"
     ]
    },
    {
     "name": "stdout",
     "output_type": "stream",
     "text": [
      "Node 054+015\n",
      "\t Child: cub_054_Blue_Grosbeak\n",
      "\t\tProto:0 cub_054_Blue_Grosbeak:(1.0) \n",
      "\t\tProto:1 cub_054_Blue_Grosbeak:(1.0) \n",
      "\t\tProto:7 cub_054_Blue_Grosbeak:(1.0) \n",
      "\t Child: cub_015_Lazuli_Bunting\n",
      "\t\tProto:19 cub_015_Lazuli_Bunting:(1.0) \n",
      "\t\tProto:13 cub_015_Lazuli_Bunting:(1.0) \n"
     ]
    },
    {
     "name": "stderr",
     "output_type": "stream",
     "text": [
      "Collecting topk: 100% 60/60 [00:17<00:00,  3.41it/s]\n"
     ]
    },
    {
     "name": "stdout",
     "output_type": "stream",
     "text": [
      "Node 199+196\n",
      "\t Child: cub_199_Winter_Wren\n",
      "\t\tProto:0 cub_199_Winter_Wren:(1.0) \n",
      "\t\tProto:1 cub_199_Winter_Wren:(1.0) \n",
      "\t Child: cub_196_House_Wren\n",
      "\t\tProto:18 cub_196_House_Wren:(1.0) \n",
      "\t\tProto:12 cub_196_House_Wren:(1.0) \n",
      "\t\tProto:13 cub_196_House_Wren:(1.0) \n"
     ]
    },
    {
     "name": "stderr",
     "output_type": "stream",
     "text": [
      "Collecting topk: 318it [00:29, 10.76it/s]\n"
     ]
    },
    {
     "name": "stdout",
     "output_type": "stream",
     "text": [
      "Node 129+021\n",
      "\t Child: 129+128\n",
      "\t\tProto:0 cub_113_Baird_Sparrow:(0.9998) cub_123_Henslow_Sparrow:(0.9993) cub_124_Le_Conte_Sparrow:(0.9998) cub_125_Lincoln_Sparrow:(0.9996) cub_126_Nelson_Sharp_tailed_Sparrow:(1.0) cub_127_Savannah_Sparrow:(0.9993) cub_128_Seaside_Sparrow:(0.9999) cub_129_Song_Sparrow:(0.9998) cub_131_Vesper_Sparrow:(0.9995) \n",
      "\t\tProto:1 cub_113_Baird_Sparrow:(0.9986) cub_123_Henslow_Sparrow:(0.9997) cub_124_Le_Conte_Sparrow:(0.9999) cub_125_Lincoln_Sparrow:(1.0) cub_126_Nelson_Sharp_tailed_Sparrow:(0.9999) cub_127_Savannah_Sparrow:(0.9999) cub_128_Seaside_Sparrow:(0.9997) cub_129_Song_Sparrow:(0.9999) cub_131_Vesper_Sparrow:(0.9999) \n",
      "\t\tProto:4 cub_113_Baird_Sparrow:(0.9956) cub_123_Henslow_Sparrow:(0.995) cub_124_Le_Conte_Sparrow:(0.998) cub_125_Lincoln_Sparrow:(0.9982) cub_126_Nelson_Sharp_tailed_Sparrow:(0.9977) cub_127_Savannah_Sparrow:(0.9992) cub_128_Seaside_Sparrow:(0.9687) cub_129_Song_Sparrow:(0.979) cub_131_Vesper_Sparrow:(0.9948) \n",
      "\t\tProto:6 cub_113_Baird_Sparrow:(0.9999) cub_123_Henslow_Sparrow:(0.9998) cub_124_Le_Conte_Sparrow:(0.9992) cub_125_Lincoln_Sparrow:(0.9998) cub_126_Nelson_Sharp_tailed_Sparrow:(0.9998) cub_127_Savannah_Sparrow:(0.9999) cub_128_Seaside_Sparrow:(0.9998) cub_129_Song_Sparrow:(0.9988) cub_131_Vesper_Sparrow:(0.9996) \n",
      "\t\tProto:9 cub_113_Baird_Sparrow:(0.9999) cub_123_Henslow_Sparrow:(0.9996) cub_124_Le_Conte_Sparrow:(0.9998) cub_125_Lincoln_Sparrow:(0.9998) cub_126_Nelson_Sharp_tailed_Sparrow:(0.9998) cub_127_Savannah_Sparrow:(1.0) cub_128_Seaside_Sparrow:(0.9997) cub_129_Song_Sparrow:(0.9959) cub_131_Vesper_Sparrow:(0.9999) \n",
      "\t Child: 021+148\n",
      "\t\tProto:16 cub_021_Eastern_Towhee:(1.0) cub_148_Green_tailed_Towhee:(0.9999) \n",
      "\t\tProto:19 cub_021_Eastern_Towhee:(1.0) cub_148_Green_tailed_Towhee:(0.9999) \n",
      "\t\tProto:12 cub_021_Eastern_Towhee:(0.9999) cub_148_Green_tailed_Towhee:(0.9999) \n",
      "\t\tProto:14 cub_021_Eastern_Towhee:(0.9998) cub_148_Green_tailed_Towhee:(0.9993) \n"
     ]
    },
    {
     "name": "stderr",
     "output_type": "stream",
     "text": [
      "Collecting topk: 180it [00:23,  7.80it/s]\n"
     ]
    },
    {
     "name": "stdout",
     "output_type": "stream",
     "text": [
      "Node 133+130\n",
      "\t Child: 133+076\n",
      "\t\tProto:0 cub_076_Dark_eyed_Junco:(0.9996) cub_122_Harris_Sparrow:(1.0) cub_132_White_crowned_Sparrow:(0.9999) cub_133_White_throated_Sparrow:(0.9999) \n",
      "\t\tProto:1 cub_076_Dark_eyed_Junco:(0.9966) cub_122_Harris_Sparrow:(0.9997) cub_132_White_crowned_Sparrow:(0.9998) cub_133_White_throated_Sparrow:(0.9988) \n",
      "\t\tProto:5 cub_076_Dark_eyed_Junco:(0.9999) cub_122_Harris_Sparrow:(0.9996) cub_132_White_crowned_Sparrow:(1.0) cub_133_White_throated_Sparrow:(1.0) \n",
      "\t\tProto:7 cub_076_Dark_eyed_Junco:(0.9999) cub_122_Harris_Sparrow:(0.9999) cub_132_White_crowned_Sparrow:(0.9999) cub_133_White_throated_Sparrow:(0.9998) \n",
      "\t Child: 130+120\n",
      "\t\tProto:19 cub_120_Fox_Sparrow:(1.0) cub_130_Tree_Sparrow:(1.0) \n",
      "\t\tProto:12 cub_120_Fox_Sparrow:(0.9998) cub_130_Tree_Sparrow:(1.0) \n",
      "\t\tProto:14 cub_120_Fox_Sparrow:(1.0) cub_130_Tree_Sparrow:(0.9999) \n"
     ]
    },
    {
     "name": "stderr",
     "output_type": "stream",
     "text": [
      "Collecting topk: 117it [00:20,  5.74it/s]\n"
     ]
    },
    {
     "name": "stdout",
     "output_type": "stream",
     "text": [
      "Node 117+115\n",
      "\t Child: 117+116\n",
      "\t\tProto:1 cub_116_Chipping_Sparrow:(0.9999) cub_117_Clay_colored_Sparrow:(0.9999) \n",
      "\t\tProto:5 cub_116_Chipping_Sparrow:(1.0) cub_117_Clay_colored_Sparrow:(0.9999) \n",
      "\t\tProto:6 cub_116_Chipping_Sparrow:(0.9995) cub_117_Clay_colored_Sparrow:(0.9999) \n",
      "\t\tProto:9 cub_116_Chipping_Sparrow:(1.0) cub_117_Clay_colored_Sparrow:(0.9999) \n",
      "\t Child: 115+119\n",
      "\t\tProto:10 cub_115_Brewer_Sparrow:(0.9999) cub_119_Field_Sparrow:(1.0) \n",
      "\t\tProto:11 cub_115_Brewer_Sparrow:(1.0) cub_119_Field_Sparrow:(1.0) \n",
      "\t\tProto:16 cub_115_Brewer_Sparrow:(0.9991) cub_119_Field_Sparrow:(0.9999) \n",
      "\t\tProto:17 cub_115_Brewer_Sparrow:(0.9998) cub_119_Field_Sparrow:(1.0) \n",
      "\t\tProto:18 cub_115_Brewer_Sparrow:(0.9996) cub_119_Field_Sparrow:(1.0) \n"
     ]
    },
    {
     "name": "stderr",
     "output_type": "stream",
     "text": [
      "Collecting topk: 89it [00:19,  4.68it/s]   \n"
     ]
    },
    {
     "name": "stdout",
     "output_type": "stream",
     "text": [
      "Node 011+049\n",
      "\t Child: 011+009\n",
      "\t\tProto:0 cub_009_Brewer_Blackbird:(0.9998) cub_011_Rusty_Blackbird:(1.0) \n",
      "\t\tProto:1 cub_009_Brewer_Blackbird:(0.9999) cub_011_Rusty_Blackbird:(1.0) \n",
      "\t\tProto:9 cub_009_Brewer_Blackbird:(1.0) cub_011_Rusty_Blackbird:(1.0) \n",
      "\t Child: cub_049_Boat_tailed_Grackle\n",
      "\t\tProto:16 cub_049_Boat_tailed_Grackle:(0.9999) \n",
      "\t\tProto:14 cub_049_Boat_tailed_Grackle:(0.9987) \n",
      "\t\tProto:15 cub_049_Boat_tailed_Grackle:(0.9997) \n"
     ]
    },
    {
     "name": "stderr",
     "output_type": "stream",
     "text": [
      "Collecting topk: 90it [00:18,  4.85it/s]   \n"
     ]
    },
    {
     "name": "stdout",
     "output_type": "stream",
     "text": [
      "Node 026+010\n",
      "\t Child: 026+027\n",
      "\t\tProto:3 cub_026_Bronzed_Cowbird:(1.0) cub_027_Shiny_Cowbird:(1.0) \n",
      "\t\tProto:4 cub_026_Bronzed_Cowbird:(1.0) cub_027_Shiny_Cowbird:(0.9998) \n",
      "\t\tProto:5 cub_026_Bronzed_Cowbird:(1.0) cub_027_Shiny_Cowbird:(1.0) \n",
      "\t Child: cub_010_Red_winged_Blackbird\n",
      "\t\tProto:18 cub_010_Red_winged_Blackbird:(1.0) \n",
      "\t\tProto:14 cub_010_Red_winged_Blackbird:(1.0) \n"
     ]
    },
    {
     "name": "stderr",
     "output_type": "stream",
     "text": [
      "Collecting topk: 100% 60/60 [00:17<00:00,  3.43it/s]\n"
     ]
    },
    {
     "name": "stdout",
     "output_type": "stream",
     "text": [
      "Node 095+098\n",
      "\t Child: cub_095_Baltimore_Oriole\n",
      "\t\tProto:8 cub_095_Baltimore_Oriole:(1.0) \n",
      "\t\tProto:9 cub_095_Baltimore_Oriole:(0.9999) \n",
      "\t Child: cub_098_Scott_Oriole\n",
      "\t\tProto:16 cub_098_Scott_Oriole:(1.0) \n",
      "\t\tProto:10 cub_098_Scott_Oriole:(0.9996) \n",
      "\t\tProto:19 cub_098_Scott_Oriole:(1.0) \n"
     ]
    },
    {
     "name": "stderr",
     "output_type": "stream",
     "text": [
      "Collecting topk: 100% 59/59 [00:17<00:00,  3.41it/s]\n"
     ]
    },
    {
     "name": "stdout",
     "output_type": "stream",
     "text": [
      "Node 096+097\n",
      "\t Child: cub_096_Hooded_Oriole\n",
      "\t\tProto:0 cub_096_Hooded_Oriole:(1.0) \n",
      "\t\tProto:4 cub_096_Hooded_Oriole:(1.0) \n",
      "\t Child: cub_097_Orchard_Oriole\n",
      "\t\tProto:17 cub_097_Orchard_Oriole:(0.9998) \n",
      "\t\tProto:14 cub_097_Orchard_Oriole:(1.0) \n",
      "\t\tProto:15 cub_097_Orchard_Oriole:(1.0) \n"
     ]
    },
    {
     "name": "stderr",
     "output_type": "stream",
     "text": [
      "Collecting topk: 418it [00:34, 12.15it/s]\n"
     ]
    },
    {
     "name": "stdout",
     "output_type": "stream",
     "text": [
      "Node 175+162\n",
      "\t Child: 175+167\n",
      "\t\tProto:0 cub_109_American_Redstart:(0.9975) cub_158_Bay_breasted_Warbler:(0.9998) cub_160_Black_throated_Blue_Warbler:(0.9994) cub_163_Cape_May_Warbler:(0.9975) cub_164_Cerulean_Warbler:(0.9999) cub_165_Chestnut_sided_Warbler:(0.9995) cub_167_Hooded_Warbler:(0.9898) cub_169_Magnolia_Warbler:(0.9615) cub_174_Palm_Warbler:(0.9996) cub_175_Pine_Warbler:(0.9986) cub_176_Prairie_Warbler:(0.9989) cub_182_Yellow_Warbler:(0.9989) \n",
      "\t\tProto:2 cub_109_American_Redstart:(0.9991) cub_158_Bay_breasted_Warbler:(0.999) cub_160_Black_throated_Blue_Warbler:(0.9892) cub_163_Cape_May_Warbler:(0.9848) cub_164_Cerulean_Warbler:(0.9928) cub_165_Chestnut_sided_Warbler:(0.9977) cub_167_Hooded_Warbler:(0.8367) cub_169_Magnolia_Warbler:(0.9908) cub_174_Palm_Warbler:(0.9819) cub_175_Pine_Warbler:(0.9324) cub_176_Prairie_Warbler:(0.8858) cub_182_Yellow_Warbler:(0.7706) \n",
      "\t\tProto:3 cub_109_American_Redstart:(0.9976) cub_158_Bay_breasted_Warbler:(0.9991) cub_160_Black_throated_Blue_Warbler:(0.9994) cub_163_Cape_May_Warbler:(0.9783) cub_164_Cerulean_Warbler:(0.9987) cub_165_Chestnut_sided_Warbler:(0.9973) cub_167_Hooded_Warbler:(0.8817) cub_169_Magnolia_Warbler:(0.9498) cub_174_Palm_Warbler:(0.9989) cub_175_Pine_Warbler:(0.9873) cub_176_Prairie_Warbler:(0.9831) cub_182_Yellow_Warbler:(0.9268) \n",
      "\t\tProto:4 cub_109_American_Redstart:(0.9931) cub_158_Bay_breasted_Warbler:(0.9995) cub_160_Black_throated_Blue_Warbler:(0.9979) cub_163_Cape_May_Warbler:(0.9991) cub_164_Cerulean_Warbler:(0.9971) cub_165_Chestnut_sided_Warbler:(0.9984) cub_167_Hooded_Warbler:(0.9994) cub_169_Magnolia_Warbler:(0.9711) cub_174_Palm_Warbler:(0.9989) cub_175_Pine_Warbler:(0.9986) cub_176_Prairie_Warbler:(0.9989) cub_182_Yellow_Warbler:(0.9975) \n",
      "\t\tProto:5 cub_109_American_Redstart:(0.9989) cub_158_Bay_breasted_Warbler:(0.9987) cub_160_Black_throated_Blue_Warbler:(0.9979) cub_163_Cape_May_Warbler:(0.9977) cub_164_Cerulean_Warbler:(0.9982) cub_165_Chestnut_sided_Warbler:(0.9996) cub_167_Hooded_Warbler:(0.9728) cub_169_Magnolia_Warbler:(0.9986) cub_174_Palm_Warbler:(1.0) cub_175_Pine_Warbler:(0.9996) cub_176_Prairie_Warbler:(0.9991) cub_182_Yellow_Warbler:(0.9978) \n",
      "\t\tProto:6 cub_109_American_Redstart:(0.999) cub_158_Bay_breasted_Warbler:(0.9999) cub_160_Black_throated_Blue_Warbler:(0.9989) cub_163_Cape_May_Warbler:(0.9966) cub_164_Cerulean_Warbler:(0.9996) cub_165_Chestnut_sided_Warbler:(0.9869) cub_167_Hooded_Warbler:(0.9676) cub_169_Magnolia_Warbler:(0.9594) cub_174_Palm_Warbler:(1.0) cub_175_Pine_Warbler:(0.997) cub_176_Prairie_Warbler:(0.9984) cub_182_Yellow_Warbler:(0.9981) \n",
      "\t\tProto:7 cub_109_American_Redstart:(0.9992) cub_158_Bay_breasted_Warbler:(0.9993) cub_160_Black_throated_Blue_Warbler:(0.9999) cub_163_Cape_May_Warbler:(0.9991) cub_164_Cerulean_Warbler:(0.9999) cub_165_Chestnut_sided_Warbler:(0.9977) cub_167_Hooded_Warbler:(0.9988) cub_169_Magnolia_Warbler:(0.9932) cub_174_Palm_Warbler:(0.9989) cub_175_Pine_Warbler:(0.9998) cub_176_Prairie_Warbler:(1.0) cub_182_Yellow_Warbler:(1.0) \n",
      "\t\tProto:8 cub_109_American_Redstart:(0.9998) cub_158_Bay_breasted_Warbler:(0.9998) cub_160_Black_throated_Blue_Warbler:(0.9995) cub_163_Cape_May_Warbler:(0.9999) cub_164_Cerulean_Warbler:(0.999) cub_165_Chestnut_sided_Warbler:(0.9998) cub_167_Hooded_Warbler:(1.0) cub_169_Magnolia_Warbler:(0.9996) cub_174_Palm_Warbler:(0.9999) cub_175_Pine_Warbler:(0.9995) cub_176_Prairie_Warbler:(0.9996) cub_182_Yellow_Warbler:(0.9946) \n",
      "\t\tProto:9 cub_109_American_Redstart:(0.9998) cub_158_Bay_breasted_Warbler:(0.9992) cub_160_Black_throated_Blue_Warbler:(0.9999) cub_163_Cape_May_Warbler:(0.9859) cub_164_Cerulean_Warbler:(0.9992) cub_165_Chestnut_sided_Warbler:(0.9996) cub_167_Hooded_Warbler:(0.9998) cub_169_Magnolia_Warbler:(0.9751) cub_174_Palm_Warbler:(0.9978) cub_175_Pine_Warbler:(0.9112) cub_176_Prairie_Warbler:(0.9998) cub_182_Yellow_Warbler:(0.9168) \n",
      "\t Child: 162+180\n",
      "\t\tProto:17 cub_162_Canada_Warbler:(0.999) cub_180_Wilson_Warbler:(0.9978) \n",
      "\t\tProto:10 cub_162_Canada_Warbler:(0.9972) cub_180_Wilson_Warbler:(0.9887) \n",
      "\t\tProto:12 cub_162_Canada_Warbler:(0.9993) cub_180_Wilson_Warbler:(0.9986) \n",
      "\t\tProto:15 cub_162_Canada_Warbler:(0.9999) cub_180_Wilson_Warbler:(0.9988) \n"
     ]
    },
    {
     "name": "stderr",
     "output_type": "stream",
     "text": [
      "Collecting topk: 145it [00:21,  6.65it/s]\n"
     ]
    },
    {
     "name": "stdout",
     "output_type": "stream",
     "text": [
      "Node 168+177\n",
      "\t Child: 168+200\n",
      "\t\tProto:1 cub_168_Kentucky_Warbler:(1.0) cub_170_Mourning_Warbler:(1.0) cub_200_Common_Yellowthroat:(1.0) \n",
      "\t\tProto:3 cub_168_Kentucky_Warbler:(1.0) cub_170_Mourning_Warbler:(1.0) cub_200_Common_Yellowthroat:(1.0) \n",
      "\t\tProto:9 cub_168_Kentucky_Warbler:(0.9997) cub_170_Mourning_Warbler:(1.0) cub_200_Common_Yellowthroat:(0.9999) \n",
      "\t\tProto:7 cub_168_Kentucky_Warbler:(0.9999) cub_170_Mourning_Warbler:(0.9999) cub_200_Common_Yellowthroat:(1.0) \n",
      "\t Child: 177+178\n",
      "\t\tProto:18 cub_177_Prothonotary_Warbler:(0.9995) cub_178_Swainson_Warbler:(0.9994) \n",
      "\t\tProto:10 cub_177_Prothonotary_Warbler:(1.0) cub_178_Swainson_Warbler:(1.0) \n",
      "\t\tProto:11 cub_177_Prothonotary_Warbler:(0.9998) cub_178_Swainson_Warbler:(0.9999) \n",
      "\t\tProto:13 cub_177_Prothonotary_Warbler:(0.9296) cub_178_Swainson_Warbler:(1.0) \n"
     ]
    },
    {
     "name": "stderr",
     "output_type": "stream",
     "text": [
      "Collecting topk: 148it [00:21,  6.80it/s]\n"
     ]
    },
    {
     "name": "stdout",
     "output_type": "stream",
     "text": [
      "Node 173+161\n",
      "\t Child: 173+179\n",
      "\t\tProto:2 cub_172_Nashville_Warbler:(0.9999) cub_173_Orange_crowned_Warbler:(1.0) cub_179_Tennessee_Warbler:(1.0) \n",
      "\t\tProto:4 cub_172_Nashville_Warbler:(1.0) cub_173_Orange_crowned_Warbler:(1.0) cub_179_Tennessee_Warbler:(1.0) \n",
      "\t\tProto:5 cub_172_Nashville_Warbler:(1.0) cub_173_Orange_crowned_Warbler:(0.9996) cub_179_Tennessee_Warbler:(0.9998) \n",
      "\t\tProto:6 cub_172_Nashville_Warbler:(1.0) cub_173_Orange_crowned_Warbler:(1.0) cub_179_Tennessee_Warbler:(1.0) \n",
      "\t Child: 161+166\n",
      "\t\tProto:16 cub_161_Blue_winged_Warbler:(1.0) cub_166_Golden_winged_Warbler:(0.9999) \n",
      "\t\tProto:18 cub_161_Blue_winged_Warbler:(0.9993) cub_166_Golden_winged_Warbler:(0.9995) \n",
      "\t\tProto:13 cub_161_Blue_winged_Warbler:(1.0) cub_166_Golden_winged_Warbler:(1.0) \n"
     ]
    },
    {
     "name": "stderr",
     "output_type": "stream",
     "text": [
      "Collecting topk: 90it [00:18,  4.77it/s]   \n"
     ]
    },
    {
     "name": "stdout",
     "output_type": "stream",
     "text": [
      "Node 183+159\n",
      "\t Child: 183+184\n",
      "\t\tProto:1 cub_183_Northern_Waterthrush:(1.0) cub_184_Louisiana_Waterthrush:(1.0) \n",
      "\t\tProto:2 cub_183_Northern_Waterthrush:(1.0) cub_184_Louisiana_Waterthrush:(1.0) \n",
      "\t\tProto:4 cub_183_Northern_Waterthrush:(1.0) cub_184_Louisiana_Waterthrush:(1.0) \n",
      "\t Child: cub_159_Black_and_white_Warbler\n",
      "\t\tProto:17 cub_159_Black_and_white_Warbler:(1.0) \n",
      "\t\tProto:13 cub_159_Black_and_white_Warbler:(1.0) \n"
     ]
    },
    {
     "name": "stderr",
     "output_type": "stream",
     "text": [
      "Collecting topk: 258it [00:26,  9.68it/s]\n"
     ]
    },
    {
     "name": "stdout",
     "output_type": "stream",
     "text": [
      "Node 129+128\n",
      "\t Child: 129+127\n",
      "\t\tProto:0 cub_113_Baird_Sparrow:(0.9921) cub_123_Henslow_Sparrow:(0.9995) cub_125_Lincoln_Sparrow:(0.9988) cub_127_Savannah_Sparrow:(0.9926) cub_129_Song_Sparrow:(0.9994) \n",
      "\t\tProto:9 cub_113_Baird_Sparrow:(1.0) cub_123_Henslow_Sparrow:(1.0) cub_125_Lincoln_Sparrow:(0.9999) cub_127_Savannah_Sparrow:(0.9995) cub_129_Song_Sparrow:(0.9999) \n",
      "\t\tProto:5 cub_113_Baird_Sparrow:(0.9945) cub_123_Henslow_Sparrow:(0.9979) cub_125_Lincoln_Sparrow:(1.0) cub_127_Savannah_Sparrow:(0.9998) cub_129_Song_Sparrow:(0.9999) \n",
      "\t\tProto:6 cub_113_Baird_Sparrow:(0.6937) cub_123_Henslow_Sparrow:(0.8964) cub_125_Lincoln_Sparrow:(0.9449) cub_127_Savannah_Sparrow:(0.7444) cub_129_Song_Sparrow:(0.9879) \n",
      "\t Child: 128+131\n",
      "\t\tProto:11 cub_124_Le_Conte_Sparrow:(0.9997) cub_126_Nelson_Sharp_tailed_Sparrow:(1.0) cub_128_Seaside_Sparrow:(1.0) cub_131_Vesper_Sparrow:(0.995) \n",
      "\t\tProto:13 cub_124_Le_Conte_Sparrow:(1.0) cub_126_Nelson_Sharp_tailed_Sparrow:(1.0) cub_128_Seaside_Sparrow:(0.9991) cub_131_Vesper_Sparrow:(0.9998) \n",
      "\t\tProto:15 cub_124_Le_Conte_Sparrow:(0.9996) cub_126_Nelson_Sharp_tailed_Sparrow:(0.9999) cub_128_Seaside_Sparrow:(0.9989) cub_131_Vesper_Sparrow:(0.9988) \n",
      "\t\tProto:16 cub_124_Le_Conte_Sparrow:(0.9995) cub_126_Nelson_Sharp_tailed_Sparrow:(0.9984) cub_128_Seaside_Sparrow:(0.9984) cub_131_Vesper_Sparrow:(0.978) \n",
      "\t\tProto:18 cub_124_Le_Conte_Sparrow:(0.9998) cub_126_Nelson_Sharp_tailed_Sparrow:(0.9998) cub_128_Seaside_Sparrow:(0.9977) cub_131_Vesper_Sparrow:(0.9972) \n"
     ]
    },
    {
     "name": "stderr",
     "output_type": "stream",
     "text": [
      "Collecting topk: 100% 60/60 [00:17<00:00,  3.41it/s]\n"
     ]
    },
    {
     "name": "stdout",
     "output_type": "stream",
     "text": [
      "Node 021+148\n",
      "\t Child: cub_021_Eastern_Towhee\n",
      "\t\tProto:0 cub_021_Eastern_Towhee:(1.0) \n",
      "\t\tProto:9 cub_021_Eastern_Towhee:(1.0) \n",
      "\t Child: cub_148_Green_tailed_Towhee\n",
      "\t\tProto:16 cub_148_Green_tailed_Towhee:(1.0) \n",
      "\t\tProto:19 cub_148_Green_tailed_Towhee:(1.0) \n"
     ]
    },
    {
     "name": "stderr",
     "output_type": "stream",
     "text": [
      "Collecting topk: 120it [00:20,  5.91it/s]  \n"
     ]
    },
    {
     "name": "stdout",
     "output_type": "stream",
     "text": [
      "Node 133+076\n",
      "\t Child: 133+132\n",
      "\t\tProto:1 cub_122_Harris_Sparrow:(1.0) cub_132_White_crowned_Sparrow:(1.0) cub_133_White_throated_Sparrow:(1.0) \n",
      "\t\tProto:9 cub_122_Harris_Sparrow:(1.0) cub_132_White_crowned_Sparrow:(1.0) cub_133_White_throated_Sparrow:(1.0) \n",
      "\t\tProto:7 cub_122_Harris_Sparrow:(1.0) cub_132_White_crowned_Sparrow:(1.0) cub_133_White_throated_Sparrow:(1.0) \n",
      "\t Child: cub_076_Dark_eyed_Junco\n",
      "\t\tProto:12 cub_076_Dark_eyed_Junco:(1.0) \n",
      "\t\tProto:15 cub_076_Dark_eyed_Junco:(1.0) \n"
     ]
    },
    {
     "name": "stderr",
     "output_type": "stream",
     "text": [
      "Collecting topk: 100% 60/60 [00:18<00:00,  3.31it/s]\n"
     ]
    },
    {
     "name": "stdout",
     "output_type": "stream",
     "text": [
      "Node 130+120\n",
      "\t Child: cub_130_Tree_Sparrow\n",
      "\t\tProto:9 cub_130_Tree_Sparrow:(0.9997) \n",
      "\t\tProto:4 cub_130_Tree_Sparrow:(1.0) \n",
      "\t Child: cub_120_Fox_Sparrow\n",
      "\t\tProto:12 cub_120_Fox_Sparrow:(1.0) \n",
      "\t\tProto:15 cub_120_Fox_Sparrow:(1.0) \n"
     ]
    },
    {
     "name": "stderr",
     "output_type": "stream",
     "text": [
      "Collecting topk: 100% 59/59 [00:17<00:00,  3.34it/s]\n"
     ]
    },
    {
     "name": "stdout",
     "output_type": "stream",
     "text": [
      "Node 117+116\n",
      "\t Child: cub_117_Clay_colored_Sparrow\n",
      "\t\tProto:8 cub_117_Clay_colored_Sparrow:(1.0) \n",
      "\t\tProto:4 cub_117_Clay_colored_Sparrow:(1.0) \n",
      "\t Child: cub_116_Chipping_Sparrow\n",
      "\t\tProto:16 cub_116_Chipping_Sparrow:(1.0) \n",
      "\t\tProto:18 cub_116_Chipping_Sparrow:(1.0) \n",
      "\t\tProto:11 cub_116_Chipping_Sparrow:(1.0) \n"
     ]
    },
    {
     "name": "stderr",
     "output_type": "stream",
     "text": [
      "Collecting topk: 100% 58/58 [00:17<00:00,  3.30it/s]\n"
     ]
    },
    {
     "name": "stdout",
     "output_type": "stream",
     "text": [
      "Node 115+119\n",
      "\t Child: cub_115_Brewer_Sparrow\n",
      "\t\tProto:1 cub_115_Brewer_Sparrow:(1.0) \n",
      "\t\tProto:5 cub_115_Brewer_Sparrow:(1.0) \n",
      "\t Child: cub_119_Field_Sparrow\n",
      "\t\tProto:18 cub_119_Field_Sparrow:(1.0) \n",
      "\t\tProto:19 cub_119_Field_Sparrow:(1.0) \n",
      "\t\tProto:15 cub_119_Field_Sparrow:(1.0) \n"
     ]
    },
    {
     "name": "stderr",
     "output_type": "stream",
     "text": [
      "Collecting topk: 100% 59/59 [00:17<00:00,  3.39it/s]\n"
     ]
    },
    {
     "name": "stdout",
     "output_type": "stream",
     "text": [
      "Node 011+009\n",
      "\t Child: cub_011_Rusty_Blackbird\n",
      "\t\tProto:8 cub_011_Rusty_Blackbird:(1.0) \n",
      "\t\tProto:1 cub_011_Rusty_Blackbird:(0.9804) \n",
      "\t\tProto:7 cub_011_Rusty_Blackbird:(1.0) \n",
      "\t Child: cub_009_Brewer_Blackbird\n",
      "\t\tProto:11 cub_009_Brewer_Blackbird:(1.0) \n",
      "\t\tProto:13 cub_009_Brewer_Blackbird:(1.0) \n"
     ]
    },
    {
     "name": "stderr",
     "output_type": "stream",
     "text": [
      "Collecting topk: 100% 60/60 [00:17<00:00,  3.37it/s]\n"
     ]
    },
    {
     "name": "stdout",
     "output_type": "stream",
     "text": [
      "Node 026+027\n",
      "\t Child: cub_026_Bronzed_Cowbird\n",
      "\t\tProto:2 cub_026_Bronzed_Cowbird:(1.0) \n",
      "\t\tProto:6 cub_026_Bronzed_Cowbird:(1.0) \n",
      "\t Child: cub_027_Shiny_Cowbird\n",
      "\t\tProto:18 cub_027_Shiny_Cowbird:(1.0) \n",
      "\t\tProto:19 cub_027_Shiny_Cowbird:(1.0) \n",
      "\t\tProto:14 cub_027_Shiny_Cowbird:(1.0) \n"
     ]
    },
    {
     "name": "stderr",
     "output_type": "stream",
     "text": [
      "Collecting topk: 358it [00:30, 11.70it/s]  \n"
     ]
    },
    {
     "name": "stdout",
     "output_type": "stream",
     "text": [
      "Node 175+167\n",
      "\t Child: 175+169\n",
      "\t\tProto:0 cub_109_American_Redstart:(0.9973) cub_158_Bay_breasted_Warbler:(0.9977) cub_160_Black_throated_Blue_Warbler:(0.9973) cub_163_Cape_May_Warbler:(0.9939) cub_164_Cerulean_Warbler:(0.9967) cub_165_Chestnut_sided_Warbler:(0.9954) cub_169_Magnolia_Warbler:(0.996) cub_174_Palm_Warbler:(0.995) cub_175_Pine_Warbler:(0.9797) cub_176_Prairie_Warbler:(0.9626) cub_182_Yellow_Warbler:(0.9807) \n",
      "\t\tProto:1 cub_109_American_Redstart:(0.9996) cub_158_Bay_breasted_Warbler:(0.9991) cub_160_Black_throated_Blue_Warbler:(0.9994) cub_163_Cape_May_Warbler:(0.9933) cub_164_Cerulean_Warbler:(0.9999) cub_165_Chestnut_sided_Warbler:(0.9991) cub_169_Magnolia_Warbler:(0.9979) cub_174_Palm_Warbler:(0.9997) cub_175_Pine_Warbler:(0.9999) cub_176_Prairie_Warbler:(0.9917) cub_182_Yellow_Warbler:(0.9977) \n",
      "\t\tProto:2 cub_109_American_Redstart:(0.998) cub_158_Bay_breasted_Warbler:(0.9991) cub_160_Black_throated_Blue_Warbler:(0.9993) cub_163_Cape_May_Warbler:(0.9888) cub_164_Cerulean_Warbler:(0.999) cub_165_Chestnut_sided_Warbler:(0.9964) cub_169_Magnolia_Warbler:(0.9793) cub_174_Palm_Warbler:(0.999) cub_175_Pine_Warbler:(0.9976) cub_176_Prairie_Warbler:(0.9974) cub_182_Yellow_Warbler:(0.9882) \n",
      "\t\tProto:4 cub_109_American_Redstart:(0.9966) cub_158_Bay_breasted_Warbler:(0.9993) cub_160_Black_throated_Blue_Warbler:(0.997) cub_163_Cape_May_Warbler:(0.9981) cub_164_Cerulean_Warbler:(0.9982) cub_165_Chestnut_sided_Warbler:(0.9971) cub_169_Magnolia_Warbler:(0.9817) cub_174_Palm_Warbler:(0.9998) cub_175_Pine_Warbler:(0.9956) cub_176_Prairie_Warbler:(0.9985) cub_182_Yellow_Warbler:(0.9895) \n",
      "\t\tProto:5 cub_109_American_Redstart:(0.9999) cub_158_Bay_breasted_Warbler:(0.9999) cub_160_Black_throated_Blue_Warbler:(0.9998) cub_163_Cape_May_Warbler:(0.9996) cub_164_Cerulean_Warbler:(0.9997) cub_165_Chestnut_sided_Warbler:(0.9993) cub_169_Magnolia_Warbler:(0.9983) cub_174_Palm_Warbler:(0.9999) cub_175_Pine_Warbler:(0.9995) cub_176_Prairie_Warbler:(0.9998) cub_182_Yellow_Warbler:(0.9979) \n",
      "\t\tProto:8 cub_109_American_Redstart:(0.9991) cub_158_Bay_breasted_Warbler:(0.9991) cub_160_Black_throated_Blue_Warbler:(0.9982) cub_163_Cape_May_Warbler:(0.991) cub_164_Cerulean_Warbler:(0.9984) cub_165_Chestnut_sided_Warbler:(0.9986) cub_169_Magnolia_Warbler:(0.9901) cub_174_Palm_Warbler:(1.0) cub_175_Pine_Warbler:(0.9946) cub_176_Prairie_Warbler:(0.9925) cub_182_Yellow_Warbler:(0.9978) \n",
      "\t\tProto:9 cub_109_American_Redstart:(0.9995) cub_158_Bay_breasted_Warbler:(0.9999) cub_160_Black_throated_Blue_Warbler:(0.9998) cub_163_Cape_May_Warbler:(0.9995) cub_164_Cerulean_Warbler:(0.9995) cub_165_Chestnut_sided_Warbler:(0.9989) cub_169_Magnolia_Warbler:(0.985) cub_174_Palm_Warbler:(1.0) cub_175_Pine_Warbler:(0.9986) cub_176_Prairie_Warbler:(0.9982) cub_182_Yellow_Warbler:(0.9944) \n",
      "\t Child: cub_167_Hooded_Warbler\n",
      "\t\tProto:16 cub_167_Hooded_Warbler:(1.0) \n",
      "\t\tProto:12 cub_167_Hooded_Warbler:(1.0) \n",
      "\t\tProto:13 cub_167_Hooded_Warbler:(0.9973) \n",
      "\t\tProto:15 cub_167_Hooded_Warbler:(1.0) \n"
     ]
    },
    {
     "name": "stderr",
     "output_type": "stream",
     "text": [
      "Collecting topk: 100% 60/60 [00:17<00:00,  3.38it/s]\n"
     ]
    },
    {
     "name": "stdout",
     "output_type": "stream",
     "text": [
      "Node 162+180\n",
      "\t Child: cub_162_Canada_Warbler\n",
      "\t\tProto:8 cub_162_Canada_Warbler:(1.0) \n",
      "\t\tProto:9 cub_162_Canada_Warbler:(1.0) \n",
      "\t Child: cub_180_Wilson_Warbler\n",
      "\t\tProto:16 cub_180_Wilson_Warbler:(1.0) \n",
      "\t\tProto:17 cub_180_Wilson_Warbler:(1.0) \n"
     ]
    },
    {
     "name": "stderr",
     "output_type": "stream",
     "text": [
      "Collecting topk: 89it [00:18,  4.80it/s]   \n"
     ]
    },
    {
     "name": "stdout",
     "output_type": "stream",
     "text": [
      "Node 168+200\n",
      "\t Child: 168+170\n",
      "\t\tProto:0 cub_168_Kentucky_Warbler:(1.0) cub_170_Mourning_Warbler:(1.0) \n",
      "\t\tProto:2 cub_168_Kentucky_Warbler:(0.9999) cub_170_Mourning_Warbler:(0.9999) \n",
      "\t\tProto:7 cub_168_Kentucky_Warbler:(1.0) cub_170_Mourning_Warbler:(0.9999) \n",
      "\t Child: cub_200_Common_Yellowthroat\n",
      "\t\tProto:17 cub_200_Common_Yellowthroat:(1.0) \n",
      "\t\tProto:10 cub_200_Common_Yellowthroat:(1.0) \n",
      "\t\tProto:14 cub_200_Common_Yellowthroat:(1.0) \n"
     ]
    },
    {
     "name": "stderr",
     "output_type": "stream",
     "text": [
      "Collecting topk: 100% 56/56 [00:17<00:00,  3.13it/s]\n"
     ]
    },
    {
     "name": "stdout",
     "output_type": "stream",
     "text": [
      "Node 177+178\n",
      "\t Child: cub_177_Prothonotary_Warbler\n",
      "\t\tProto:9 cub_177_Prothonotary_Warbler:(1.0) \n",
      "\t\tProto:6 cub_177_Prothonotary_Warbler:(1.0) \n",
      "\t Child: cub_178_Swainson_Warbler\n",
      "\t\tProto:10 cub_178_Swainson_Warbler:(1.0) \n",
      "\t\tProto:15 cub_178_Swainson_Warbler:(1.0) \n"
     ]
    },
    {
     "name": "stderr",
     "output_type": "stream",
     "text": [
      "Collecting topk: 89it [00:19,  4.62it/s]   \n"
     ]
    },
    {
     "name": "stdout",
     "output_type": "stream",
     "text": [
      "Node 173+179\n",
      "\t Child: 173+172\n",
      "\t\tProto:0 cub_172_Nashville_Warbler:(1.0) cub_173_Orange_crowned_Warbler:(1.0) \n",
      "\t\tProto:9 cub_172_Nashville_Warbler:(0.9998) cub_173_Orange_crowned_Warbler:(0.9982) \n",
      "\t\tProto:3 cub_172_Nashville_Warbler:(0.9998) cub_173_Orange_crowned_Warbler:(0.9998) \n",
      "\t\tProto:5 cub_172_Nashville_Warbler:(1.0) cub_173_Orange_crowned_Warbler:(1.0) \n",
      "\t Child: cub_179_Tennessee_Warbler\n",
      "\t\tProto:17 cub_179_Tennessee_Warbler:(0.9999) \n",
      "\t\tProto:11 cub_179_Tennessee_Warbler:(1.0) \n"
     ]
    },
    {
     "name": "stderr",
     "output_type": "stream",
     "text": [
      "Collecting topk: 100% 59/59 [00:17<00:00,  3.30it/s]\n"
     ]
    },
    {
     "name": "stdout",
     "output_type": "stream",
     "text": [
      "Node 161+166\n",
      "\t Child: cub_161_Blue_winged_Warbler\n",
      "\t\tProto:0 cub_161_Blue_winged_Warbler:(1.0) \n",
      "\t\tProto:2 cub_161_Blue_winged_Warbler:(1.0) \n",
      "\t Child: cub_166_Golden_winged_Warbler\n",
      "\t\tProto:17 cub_166_Golden_winged_Warbler:(1.0) \n",
      "\t\tProto:19 cub_166_Golden_winged_Warbler:(1.0) \n"
     ]
    },
    {
     "name": "stderr",
     "output_type": "stream",
     "text": [
      "Collecting topk: 100% 60/60 [00:18<00:00,  3.31it/s]\n"
     ]
    },
    {
     "name": "stdout",
     "output_type": "stream",
     "text": [
      "Node 183+184\n",
      "\t Child: cub_183_Northern_Waterthrush\n",
      "\t\tProto:8 cub_183_Northern_Waterthrush:(1.0) \n",
      "\t\tProto:9 cub_183_Northern_Waterthrush:(1.0) \n",
      "\t Child: cub_184_Louisiana_Waterthrush\n",
      "\t\tProto:16 cub_184_Louisiana_Waterthrush:(1.0) \n",
      "\t\tProto:10 cub_184_Louisiana_Waterthrush:(0.9998) \n",
      "\t\tProto:13 cub_184_Louisiana_Waterthrush:(1.0) \n"
     ]
    },
    {
     "name": "stderr",
     "output_type": "stream",
     "text": [
      "Collecting topk: 139it [00:21,  6.49it/s]  \n"
     ]
    },
    {
     "name": "stdout",
     "output_type": "stream",
     "text": [
      "Node 129+127\n",
      "\t Child: 129+123\n",
      "\t\tProto:0 cub_113_Baird_Sparrow:(0.9998) cub_123_Henslow_Sparrow:(1.0) cub_125_Lincoln_Sparrow:(0.9998) cub_129_Song_Sparrow:(0.9999) \n",
      "\t\tProto:1 cub_113_Baird_Sparrow:(1.0) cub_123_Henslow_Sparrow:(1.0) cub_125_Lincoln_Sparrow:(0.994) cub_129_Song_Sparrow:(0.9591) \n",
      "\t\tProto:5 cub_113_Baird_Sparrow:(1.0) cub_123_Henslow_Sparrow:(1.0) cub_125_Lincoln_Sparrow:(1.0) cub_129_Song_Sparrow:(0.9999) \n",
      "\t\tProto:6 cub_113_Baird_Sparrow:(0.9996) cub_123_Henslow_Sparrow:(0.9999) cub_125_Lincoln_Sparrow:(0.9971) cub_129_Song_Sparrow:(0.9953) \n",
      "\t\tProto:8 cub_113_Baird_Sparrow:(0.9998) cub_123_Henslow_Sparrow:(1.0) cub_125_Lincoln_Sparrow:(1.0) cub_129_Song_Sparrow:(0.999) \n",
      "\t Child: cub_127_Savannah_Sparrow\n",
      "\t\tProto:19 cub_127_Savannah_Sparrow:(0.9998) \n",
      "\t\tProto:12 cub_127_Savannah_Sparrow:(1.0) \n"
     ]
    },
    {
     "name": "stderr",
     "output_type": "stream",
     "text": [
      "Collecting topk: 119it [00:20,  5.83it/s]  \n"
     ]
    },
    {
     "name": "stdout",
     "output_type": "stream",
     "text": [
      "Node 128+131\n",
      "\t Child: 128+124\n",
      "\t\tProto:9 cub_124_Le_Conte_Sparrow:(1.0) cub_126_Nelson_Sharp_tailed_Sparrow:(1.0) cub_128_Seaside_Sparrow:(1.0) \n",
      "\t\tProto:5 cub_124_Le_Conte_Sparrow:(0.9994) cub_126_Nelson_Sharp_tailed_Sparrow:(1.0) cub_128_Seaside_Sparrow:(1.0) \n",
      "\t\tProto:6 cub_124_Le_Conte_Sparrow:(1.0) cub_126_Nelson_Sharp_tailed_Sparrow:(1.0) cub_128_Seaside_Sparrow:(1.0) \n",
      "\t Child: cub_131_Vesper_Sparrow\n",
      "\t\tProto:17 cub_131_Vesper_Sparrow:(1.0) \n",
      "\t\tProto:10 cub_131_Vesper_Sparrow:(1.0) \n"
     ]
    },
    {
     "name": "stderr",
     "output_type": "stream",
     "text": [
      "Collecting topk: 90it [00:18,  4.82it/s]   \n"
     ]
    },
    {
     "name": "stdout",
     "output_type": "stream",
     "text": [
      "Node 133+132\n",
      "\t Child: 133+122\n",
      "\t\tProto:0 cub_122_Harris_Sparrow:(1.0) cub_133_White_throated_Sparrow:(1.0) \n",
      "\t\tProto:1 cub_122_Harris_Sparrow:(1.0) cub_133_White_throated_Sparrow:(1.0) \n",
      "\t\tProto:8 cub_122_Harris_Sparrow:(1.0) cub_133_White_throated_Sparrow:(1.0) \n",
      "\t Child: cub_132_White_crowned_Sparrow\n",
      "\t\tProto:16 cub_132_White_crowned_Sparrow:(1.0) \n",
      "\t\tProto:12 cub_132_White_crowned_Sparrow:(1.0) \n"
     ]
    },
    {
     "name": "stderr",
     "output_type": "stream",
     "text": [
      "Collecting topk: 328it [00:30, 10.89it/s]  \n"
     ]
    },
    {
     "name": "stdout",
     "output_type": "stream",
     "text": [
      "Node 175+169\n",
      "\t Child: 175+165+182\n",
      "\t\tProto:0 cub_109_American_Redstart:(0.9947) cub_158_Bay_breasted_Warbler:(0.9994) cub_160_Black_throated_Blue_Warbler:(0.996) cub_163_Cape_May_Warbler:(0.9999) cub_164_Cerulean_Warbler:(0.9992) cub_165_Chestnut_sided_Warbler:(0.9968) cub_174_Palm_Warbler:(0.999) cub_175_Pine_Warbler:(0.997) cub_176_Prairie_Warbler:(0.9989) cub_182_Yellow_Warbler:(0.9997) \n",
      "\t\tProto:3 cub_109_American_Redstart:(0.9976) cub_158_Bay_breasted_Warbler:(0.9997) cub_160_Black_throated_Blue_Warbler:(0.9994) cub_163_Cape_May_Warbler:(0.9997) cub_164_Cerulean_Warbler:(0.9995) cub_165_Chestnut_sided_Warbler:(0.9992) cub_174_Palm_Warbler:(0.9976) cub_175_Pine_Warbler:(0.9959) cub_176_Prairie_Warbler:(0.9986) cub_182_Yellow_Warbler:(0.9997) \n",
      "\t\tProto:5 cub_109_American_Redstart:(0.9992) cub_158_Bay_breasted_Warbler:(0.9999) cub_160_Black_throated_Blue_Warbler:(0.9992) cub_163_Cape_May_Warbler:(0.9992) cub_164_Cerulean_Warbler:(0.9999) cub_165_Chestnut_sided_Warbler:(0.9988) cub_174_Palm_Warbler:(0.9999) cub_175_Pine_Warbler:(0.9998) cub_176_Prairie_Warbler:(0.9997) cub_182_Yellow_Warbler:(0.9996) \n",
      "\t\tProto:6 cub_109_American_Redstart:(0.9971) cub_158_Bay_breasted_Warbler:(0.9993) cub_160_Black_throated_Blue_Warbler:(0.9901) cub_163_Cape_May_Warbler:(0.9983) cub_164_Cerulean_Warbler:(0.9967) cub_165_Chestnut_sided_Warbler:(0.9998) cub_174_Palm_Warbler:(0.9969) cub_175_Pine_Warbler:(0.9987) cub_176_Prairie_Warbler:(0.9994) cub_182_Yellow_Warbler:(0.9997) \n",
      "\t\tProto:7 cub_109_American_Redstart:(0.9998) cub_158_Bay_breasted_Warbler:(0.9988) cub_160_Black_throated_Blue_Warbler:(0.9992) cub_163_Cape_May_Warbler:(0.9999) cub_164_Cerulean_Warbler:(0.9994) cub_165_Chestnut_sided_Warbler:(0.9987) cub_174_Palm_Warbler:(0.9999) cub_175_Pine_Warbler:(0.9996) cub_176_Prairie_Warbler:(1.0) cub_182_Yellow_Warbler:(0.998) \n",
      "\t\tProto:8 cub_109_American_Redstart:(0.9982) cub_158_Bay_breasted_Warbler:(0.9999) cub_160_Black_throated_Blue_Warbler:(0.9989) cub_163_Cape_May_Warbler:(0.9978) cub_164_Cerulean_Warbler:(0.9996) cub_165_Chestnut_sided_Warbler:(0.9997) cub_174_Palm_Warbler:(0.9999) cub_175_Pine_Warbler:(0.9998) cub_176_Prairie_Warbler:(0.9992) cub_182_Yellow_Warbler:(0.9996) \n",
      "\t\tProto:9 cub_109_American_Redstart:(0.9999) cub_158_Bay_breasted_Warbler:(1.0) cub_160_Black_throated_Blue_Warbler:(0.9995) cub_163_Cape_May_Warbler:(0.9999) cub_164_Cerulean_Warbler:(0.9998) cub_165_Chestnut_sided_Warbler:(0.9999) cub_174_Palm_Warbler:(0.9998) cub_175_Pine_Warbler:(0.9999) cub_176_Prairie_Warbler:(0.9941) cub_182_Yellow_Warbler:(0.9998) \n",
      "\t Child: cub_169_Magnolia_Warbler\n",
      "\t\tProto:17 cub_169_Magnolia_Warbler:(0.9988) \n",
      "\t\tProto:10 cub_169_Magnolia_Warbler:(0.9998) \n",
      "\t\tProto:13 cub_169_Magnolia_Warbler:(0.9999) \n"
     ]
    },
    {
     "name": "stderr",
     "output_type": "stream",
     "text": [
      "Collecting topk: 100% 59/59 [00:17<00:00,  3.35it/s]\n"
     ]
    },
    {
     "name": "stdout",
     "output_type": "stream",
     "text": [
      "Node 168+170\n",
      "\t Child: cub_168_Kentucky_Warbler\n",
      "\t\tProto:9 cub_168_Kentucky_Warbler:(0.9999) \n",
      "\t\tProto:2 cub_168_Kentucky_Warbler:(1.0) \n",
      "\t Child: cub_170_Mourning_Warbler\n",
      "\t\tProto:16 cub_170_Mourning_Warbler:(1.0) \n",
      "\t\tProto:17 cub_170_Mourning_Warbler:(1.0) \n",
      "\t\tProto:18 cub_170_Mourning_Warbler:(1.0) \n",
      "\t\tProto:11 cub_170_Mourning_Warbler:(1.0) \n"
     ]
    },
    {
     "name": "stderr",
     "output_type": "stream",
     "text": [
      "Collecting topk: 100% 60/60 [00:17<00:00,  3.37it/s]\n"
     ]
    },
    {
     "name": "stdout",
     "output_type": "stream",
     "text": [
      "Node 173+172\n",
      "\t Child: cub_173_Orange_crowned_Warbler\n",
      "\t\tProto:8 cub_173_Orange_crowned_Warbler:(1.0) \n",
      "\t\tProto:1 cub_173_Orange_crowned_Warbler:(1.0) \n",
      "\t\tProto:9 cub_173_Orange_crowned_Warbler:(1.0) \n",
      "\t Child: cub_172_Nashville_Warbler\n",
      "\t\tProto:19 cub_172_Nashville_Warbler:(1.0) \n",
      "\t\tProto:12 cub_172_Nashville_Warbler:(1.0) \n",
      "\t\tProto:14 cub_172_Nashville_Warbler:(1.0) \n"
     ]
    },
    {
     "name": "stderr",
     "output_type": "stream",
     "text": [
      "Collecting topk: 109it [00:19,  5.49it/s]\n"
     ]
    },
    {
     "name": "stdout",
     "output_type": "stream",
     "text": [
      "Node 129+123\n",
      "\t Child: 129+125\n",
      "\t\tProto:0 cub_125_Lincoln_Sparrow:(1.0) cub_129_Song_Sparrow:(1.0) \n",
      "\t\tProto:6 cub_125_Lincoln_Sparrow:(1.0) cub_129_Song_Sparrow:(1.0) \n",
      "\t Child: 123+113\n",
      "\t\tProto:10 cub_113_Baird_Sparrow:(0.9998) cub_123_Henslow_Sparrow:(0.9999) \n",
      "\t\tProto:18 cub_113_Baird_Sparrow:(0.9998) cub_123_Henslow_Sparrow:(0.9999) \n",
      "\t\tProto:13 cub_113_Baird_Sparrow:(1.0) cub_123_Henslow_Sparrow:(1.0) \n",
      "\t\tProto:15 cub_113_Baird_Sparrow:(1.0) cub_123_Henslow_Sparrow:(1.0) \n"
     ]
    },
    {
     "name": "stderr",
     "output_type": "stream",
     "text": [
      "Collecting topk: 89it [00:19,  4.63it/s]   \n"
     ]
    },
    {
     "name": "stdout",
     "output_type": "stream",
     "text": [
      "Node 128+124\n",
      "\t Child: 128+126\n",
      "\t\tProto:1 cub_126_Nelson_Sharp_tailed_Sparrow:(1.0) cub_128_Seaside_Sparrow:(1.0) \n",
      "\t\tProto:4 cub_126_Nelson_Sharp_tailed_Sparrow:(1.0) cub_128_Seaside_Sparrow:(1.0) \n",
      "\t Child: cub_124_Le_Conte_Sparrow\n",
      "\t\tProto:14 cub_124_Le_Conte_Sparrow:(1.0) \n"
     ]
    },
    {
     "name": "stderr",
     "output_type": "stream",
     "text": [
      "Collecting topk: 100% 60/60 [00:17<00:00,  3.41it/s]\n"
     ]
    },
    {
     "name": "stdout",
     "output_type": "stream",
     "text": [
      "Node 133+122\n",
      "\t Child: cub_133_White_throated_Sparrow\n",
      "\t\tProto:5 cub_133_White_throated_Sparrow:(1.0) \n",
      "\t\tProto:7 cub_133_White_throated_Sparrow:(1.0) \n",
      "\t Child: cub_122_Harris_Sparrow\n",
      "\t\tProto:16 cub_122_Harris_Sparrow:(1.0) \n",
      "\t\tProto:10 cub_122_Harris_Sparrow:(1.0) \n",
      "\t\tProto:12 cub_122_Harris_Sparrow:(0.9998) \n"
     ]
    },
    {
     "name": "stderr",
     "output_type": "stream",
     "text": [
      "Collecting topk: 299it [00:28, 10.40it/s]  \n"
     ]
    },
    {
     "name": "stdout",
     "output_type": "stream",
     "text": [
      "Node 175+165+182\n",
      "\t Child: 175+160\n",
      "\t\tProto:1 cub_109_American_Redstart:(0.9998) cub_160_Black_throated_Blue_Warbler:(0.9997) cub_174_Palm_Warbler:(0.9996) cub_175_Pine_Warbler:(0.9942) cub_176_Prairie_Warbler:(0.9964) \n",
      "\t\tProto:4 cub_109_American_Redstart:(0.9991) cub_160_Black_throated_Blue_Warbler:(0.9884) cub_174_Palm_Warbler:(0.9911) cub_175_Pine_Warbler:(0.995) cub_176_Prairie_Warbler:(0.9986) \n",
      "\t\tProto:6 cub_109_American_Redstart:(0.9996) cub_160_Black_throated_Blue_Warbler:(0.9999) cub_174_Palm_Warbler:(0.9994) cub_175_Pine_Warbler:(0.9978) cub_176_Prairie_Warbler:(0.9998) \n",
      "\t Child: 165+164+163\n",
      "\t\tProto:8 cub_158_Bay_breasted_Warbler:(0.9977) cub_163_Cape_May_Warbler:(0.9921) cub_164_Cerulean_Warbler:(0.9987) cub_165_Chestnut_sided_Warbler:(0.9999) \n",
      "\t\tProto:11 cub_158_Bay_breasted_Warbler:(0.9955) cub_163_Cape_May_Warbler:(0.998) cub_164_Cerulean_Warbler:(0.9843) cub_165_Chestnut_sided_Warbler:(0.9987) \n",
      "\t\tProto:13 cub_158_Bay_breasted_Warbler:(0.9854) cub_163_Cape_May_Warbler:(0.754) cub_164_Cerulean_Warbler:(0.8948) cub_165_Chestnut_sided_Warbler:(0.7328) \n",
      "\t\tProto:7 cub_158_Bay_breasted_Warbler:(0.9984) cub_163_Cape_May_Warbler:(0.9988) cub_164_Cerulean_Warbler:(0.9985) cub_165_Chestnut_sided_Warbler:(0.9997) \n",
      "\t Child: cub_182_Yellow_Warbler\n",
      "\t\tProto:17 cub_182_Yellow_Warbler:(0.9998) \n",
      "\t\tProto:18 cub_182_Yellow_Warbler:(0.9971) \n",
      "\t\tProto:15 cub_182_Yellow_Warbler:(0.9992) \n"
     ]
    },
    {
     "name": "stderr",
     "output_type": "stream",
     "text": [
      "Collecting topk: 100% 59/59 [00:18<00:00,  3.26it/s]\n"
     ]
    },
    {
     "name": "stdout",
     "output_type": "stream",
     "text": [
      "Node 129+125\n",
      "\t Child: cub_129_Song_Sparrow\n",
      "\t\tProto:3 cub_129_Song_Sparrow:(1.0) \n",
      "\t\tProto:4 cub_129_Song_Sparrow:(1.0) \n",
      "\t\tProto:5 cub_129_Song_Sparrow:(1.0) \n",
      "\t Child: cub_125_Lincoln_Sparrow\n",
      "\t\tProto:16 cub_125_Lincoln_Sparrow:(1.0) \n",
      "\t\tProto:17 cub_125_Lincoln_Sparrow:(1.0) \n",
      "\t\tProto:13 cub_125_Lincoln_Sparrow:(1.0) \n"
     ]
    },
    {
     "name": "stderr",
     "output_type": "stream",
     "text": [
      "Collecting topk: 100% 50/50 [00:17<00:00,  2.92it/s]\n"
     ]
    },
    {
     "name": "stdout",
     "output_type": "stream",
     "text": [
      "Node 123+113\n",
      "\t Child: cub_123_Henslow_Sparrow\n",
      "\t\tProto:1 cub_123_Henslow_Sparrow:(1.0) \n",
      "\t\tProto:9 cub_123_Henslow_Sparrow:(1.0) \n",
      "\t Child: cub_113_Baird_Sparrow\n",
      "\t\tProto:18 cub_113_Baird_Sparrow:(1.0) \n",
      "\t\tProto:12 cub_113_Baird_Sparrow:(1.0) \n",
      "\t\tProto:15 cub_113_Baird_Sparrow:(1.0) \n"
     ]
    },
    {
     "name": "stderr",
     "output_type": "stream",
     "text": [
      "Collecting topk: 100% 60/60 [00:17<00:00,  3.47it/s]\n"
     ]
    },
    {
     "name": "stdout",
     "output_type": "stream",
     "text": [
      "Node 128+126\n",
      "\t Child: cub_128_Seaside_Sparrow\n",
      "\t\tProto:8 cub_128_Seaside_Sparrow:(1.0) \n",
      "\t\tProto:9 cub_128_Seaside_Sparrow:(1.0) \n",
      "\t\tProto:3 cub_128_Seaside_Sparrow:(1.0) \n",
      "\t Child: cub_126_Nelson_Sharp_tailed_Sparrow\n",
      "\t\tProto:16 cub_126_Nelson_Sharp_tailed_Sparrow:(1.0) \n",
      "\t\tProto:17 cub_126_Nelson_Sharp_tailed_Sparrow:(1.0) \n"
     ]
    },
    {
     "name": "stderr",
     "output_type": "stream",
     "text": [
      "Collecting topk: 149it [00:21,  6.99it/s]\n"
     ]
    },
    {
     "name": "stdout",
     "output_type": "stream",
     "text": [
      "Node 175+160\n",
      "\t Child: 175+176\n",
      "\t\tProto:0 cub_174_Palm_Warbler:(1.0) cub_175_Pine_Warbler:(1.0) cub_176_Prairie_Warbler:(1.0) \n",
      "\t\tProto:1 cub_174_Palm_Warbler:(1.0) cub_175_Pine_Warbler:(0.9999) cub_176_Prairie_Warbler:(1.0) \n",
      "\t\tProto:4 cub_174_Palm_Warbler:(1.0) cub_175_Pine_Warbler:(0.9999) cub_176_Prairie_Warbler:(1.0) \n",
      "\t\tProto:6 cub_174_Palm_Warbler:(1.0) cub_175_Pine_Warbler:(0.9999) cub_176_Prairie_Warbler:(1.0) \n",
      "\t Child: 160+109\n",
      "\t\tProto:10 cub_109_American_Redstart:(1.0) cub_160_Black_throated_Blue_Warbler:(1.0) \n",
      "\t\tProto:11 cub_109_American_Redstart:(1.0) cub_160_Black_throated_Blue_Warbler:(1.0) \n",
      "\t\tProto:13 cub_109_American_Redstart:(1.0) cub_160_Black_throated_Blue_Warbler:(1.0) \n"
     ]
    },
    {
     "name": "stderr",
     "output_type": "stream",
     "text": [
      "Collecting topk: 120it [00:20,  5.86it/s]  \n"
     ]
    },
    {
     "name": "stdout",
     "output_type": "stream",
     "text": [
      "Node 165+164+163\n",
      "\t Child: 165+158\n",
      "\t\tProto:0 cub_158_Bay_breasted_Warbler:(1.0) cub_165_Chestnut_sided_Warbler:(1.0) \n",
      "\t\tProto:2 cub_158_Bay_breasted_Warbler:(1.0) cub_165_Chestnut_sided_Warbler:(1.0) \n",
      "\t Child: cub_164_Cerulean_Warbler\n",
      "\t\tProto:11 cub_164_Cerulean_Warbler:(1.0) \n",
      "\t\tProto:13 cub_164_Cerulean_Warbler:(0.9999) \n",
      "\t Child: cub_163_Cape_May_Warbler\n",
      "\t\tProto:19 cub_163_Cape_May_Warbler:(1.0) \n",
      "\t\tProto:14 cub_163_Cape_May_Warbler:(1.0) \n",
      "\t\tProto:15 cub_163_Cape_May_Warbler:(1.0) \n"
     ]
    },
    {
     "name": "stderr",
     "output_type": "stream",
     "text": [
      "Collecting topk: 90it [00:19,  4.71it/s]   \n"
     ]
    },
    {
     "name": "stdout",
     "output_type": "stream",
     "text": [
      "Node 175+176\n",
      "\t Child: 175+174\n",
      "\t\tProto:2 cub_174_Palm_Warbler:(1.0) cub_175_Pine_Warbler:(1.0) \n",
      "\t\tProto:3 cub_174_Palm_Warbler:(1.0) cub_175_Pine_Warbler:(1.0) \n",
      "\t\tProto:5 cub_174_Palm_Warbler:(1.0) cub_175_Pine_Warbler:(0.9999) \n",
      "\t\tProto:6 cub_174_Palm_Warbler:(1.0) cub_175_Pine_Warbler:(1.0) \n",
      "\t Child: cub_176_Prairie_Warbler\n",
      "\t\tProto:16 cub_176_Prairie_Warbler:(1.0) \n",
      "\t\tProto:17 cub_176_Prairie_Warbler:(0.9998) \n",
      "\t\tProto:18 cub_176_Prairie_Warbler:(1.0) \n"
     ]
    },
    {
     "name": "stderr",
     "output_type": "stream",
     "text": [
      "Collecting topk: 100% 59/59 [00:17<00:00,  3.38it/s]\n"
     ]
    },
    {
     "name": "stdout",
     "output_type": "stream",
     "text": [
      "Node 160+109\n",
      "\t Child: cub_160_Black_throated_Blue_Warbler\n",
      "\t\tProto:1 cub_160_Black_throated_Blue_Warbler:(1.0) \n",
      "\t\tProto:2 cub_160_Black_throated_Blue_Warbler:(0.9977) \n",
      "\t\tProto:9 cub_160_Black_throated_Blue_Warbler:(1.0) \n",
      "\t Child: cub_109_American_Redstart\n",
      "\t\tProto:17 cub_109_American_Redstart:(0.9984) \n",
      "\t\tProto:18 cub_109_American_Redstart:(0.9984) \n",
      "\t\tProto:13 cub_109_American_Redstart:(1.0) \n"
     ]
    },
    {
     "name": "stderr",
     "output_type": "stream",
     "text": [
      "Collecting topk: 100% 60/60 [00:17<00:00,  3.48it/s]\n"
     ]
    },
    {
     "name": "stdout",
     "output_type": "stream",
     "text": [
      "Node 165+158\n",
      "\t Child: cub_165_Chestnut_sided_Warbler\n",
      "\t\tProto:7 cub_165_Chestnut_sided_Warbler:(1.0) \n",
      "\t Child: cub_158_Bay_breasted_Warbler\n",
      "\t\tProto:19 cub_158_Bay_breasted_Warbler:(1.0) \n",
      "\t\tProto:12 cub_158_Bay_breasted_Warbler:(1.0) \n"
     ]
    },
    {
     "name": "stderr",
     "output_type": "stream",
     "text": [
      "Collecting topk: 100% 60/60 [00:17<00:00,  3.38it/s]\n"
     ]
    },
    {
     "name": "stdout",
     "output_type": "stream",
     "text": [
      "Node 175+174\n",
      "\t Child: cub_175_Pine_Warbler\n",
      "\t\tProto:8 cub_175_Pine_Warbler:(0.9997) \n",
      "\t\tProto:2 cub_175_Pine_Warbler:(1.0) \n",
      "\t Child: cub_174_Palm_Warbler\n",
      "\t\tProto:16 cub_174_Palm_Warbler:(1.0) \n",
      "\t\tProto:17 cub_174_Palm_Warbler:(1.0) \n",
      "Done !!!\n"
     ]
    }
   ],
   "source": [
    "# Proto activations on leaf descendents - topk images\n",
    "\n",
    "def get_heatmap(latent_activation, input_image, constant_color_scale=False):\n",
    "    image_a = latent_activation.cpu().numpy()\n",
    "    # image_a = (image_a - image_a.min()) / (image_a.max() - image_a.min())\n",
    "\n",
    "    # input_image = (input_image - input_image.min()) / (input_image.max() - input_image.min())\n",
    "    image_b = input_image.permute(1, 2, 0).cpu().numpy()\n",
    "    \n",
    "    reshaped_image_a = np.array(Image.fromarray((image_a[0] * 255).astype('uint8')).resize((input_image.shape[-1], input_image.shape[-1])))\n",
    "\n",
    "    if constant_color_scale:\n",
    "        reshaped_image_a = np.concatenate((reshaped_image_a, np.zeros((reshaped_image_a.shape[1], 1)), np.ones((reshaped_image_a.shape[1], 1))*255), axis=1)\n",
    "    \n",
    "    normalized_heatmap = (reshaped_image_a - np.min(reshaped_image_a)) / (np.max(reshaped_image_a) - np.min(reshaped_image_a))\n",
    "\n",
    "    heatmap_colormap = plt.get_cmap('jet')\n",
    "    # heatmap_colormap = plt.get_cmap('rainbow')\n",
    "    heatmap_colored = heatmap_colormap(normalized_heatmap)\n",
    "\n",
    "    if constant_color_scale:\n",
    "        heatmap_colored = heatmap_colored[:, :-2]\n",
    "    \n",
    "    heatmap_colored_uint8 = (heatmap_colored[:, :, :3] * 255).astype(np.uint8)\n",
    "    image_a_heatmap_pillow = Image.fromarray(heatmap_colored_uint8)\n",
    "    image_b_pillow = Image.fromarray((image_b * 255).astype('uint8'))\n",
    "    \n",
    "    result_image = Image.blend(image_b_pillow, image_a_heatmap_pillow, alpha=0.3)\n",
    "    \n",
    "    return np.array(result_image)\n",
    "\n",
    "def get_heatmap_uninterpolated(latent_activation, input_image):\n",
    "    image_a = latent_activation.cpu().numpy()\n",
    "    image_a = (image_a - image_a.min()) / (image_a.max() - image_a.min())\n",
    "\n",
    "    input_image = (input_image - input_image.min()) / (input_image.max() - input_image.min())\n",
    "    image_b = input_image.permute(1, 2, 0).cpu().numpy()\n",
    "    \n",
    "    reshaped_image_a = np.array(Image.fromarray((image_a[0] * 255).astype('uint8')).resize((input_image.shape[-1], input_image.shape[-1]), \\\n",
    "                                                                                          resample=Image.NEAREST ))\n",
    "    normalized_heatmap = (reshaped_image_a - np.min(reshaped_image_a)) / (np.max(reshaped_image_a) - np.min(reshaped_image_a))\n",
    "    \n",
    "    heatmap_colormap = plt.get_cmap('jet')\n",
    "    heatmap_colored = heatmap_colormap(normalized_heatmap)\n",
    "    \n",
    "    heatmap_colored_uint8 = (heatmap_colored[:, :, :3] * 255).astype(np.uint8)\n",
    "    image_a_heatmap_pillow = Image.fromarray(heatmap_colored_uint8)\n",
    "    image_b_pillow = Image.fromarray((image_b * 255).astype('uint8'))\n",
    "    \n",
    "    result_image = Image.blend(image_b_pillow, image_a_heatmap_pillow, alpha=0.3)\n",
    "    \n",
    "    return np.array(result_image)\n",
    "\n",
    "from util.data import ModifiedLabelLoader\n",
    "from collections import defaultdict\n",
    "import heapq\n",
    "import pdb\n",
    "from util.vis_pipnet import get_img_coordinates\n",
    "import torchvision.transforms as transforms\n",
    "from PIL import ImageFont, Image, ImageDraw as D\n",
    "import torchvision\n",
    "from datetime import datetime\n",
    "from PIL import Image, ImageDraw, ImageFont\n",
    "import math\n",
    "# txt_file = open(os.path.join(run_path, \"num_proto_details_\"+datetime.now().strftime(\"%m:%d:%H:%M:%S\")+\".txt\"), \"a\")\n",
    "# txt_file.write('\\n')\n",
    "\n",
    "vizloader_name = 'testloader' # projectloader\n",
    "find_non_descendants = False # True, False # param\n",
    "topk = 3\n",
    "save_images = True # True, False\n",
    "font = ImageFont.truetype(\"arial.ttf\", 50)\n",
    "save_activation_as_npy_path = None # 'activation_as_npy'\n",
    "if (save_activation_as_npy_path is not None):\n",
    "    save_activation_as_npy_path = '_'.join(['activation_as_npy', vizloader_name])  # activation_as_npy, added for NUMPY SAVING\n",
    "if find_non_descendants and (save_activation_as_npy_path is not None):\n",
    "    save_activation_as_npy_path = save_activation_as_npy_path + '_non_desc'\n",
    "plot_overspecificity_score = True\n",
    "# subtree_root = root.get_node('024+051')\n",
    "subtree_root = root.get_node('129+192')\n",
    "# subtree_root = root.get_node('065+006')\n",
    "    \n",
    "from datetime import datetime\n",
    "# txt_file = open(os.path.join(run_path, \"num_proto_details_\"+datetime.now().strftime(\"%m:%d:%H:%M:%S\")+\".txt\"), \"a\")\n",
    "# txt_file.write('\\n')\n",
    "\n",
    "def write_num_proto_details(proto_mean_activations, node_name, net, threshold, txt_file, args):\n",
    "    \n",
    "    rand_input = torch.randn((1, 3, args.image_size, args.image_size))\n",
    "    with torch.no_grad():\n",
    "        *_, pooled, out = net(rand_input)\n",
    "    num_protos = pooled[node_name].shape[1]\n",
    "    used_protos = len(proto_mean_activations)\n",
    "    non_overspecific = 0\n",
    "    for p in proto_mean_activations:\n",
    "        logstr = '\\t'*2 + f'Proto:{p} '\n",
    "        protos_mean_for_all_leaf_descedants = []\n",
    "        for leaf_descendent in proto_mean_activations[p]:\n",
    "            mean_activation = round(np.mean([activation for activation, *_ in proto_mean_activations[p][leaf_descendent]]), 4)\n",
    "            protos_mean_for_all_leaf_descedants.append(mean_activation)\n",
    "            \n",
    "        if all([(mean_activation>0.2) for mean_activation in protos_mean_for_all_leaf_descedants]):\n",
    "            non_overspecific += 1\n",
    "            \n",
    "    txt_file.write(f\"Node:{node_name},Total:{num_protos},Used:{used_protos},Good:{non_overspecific},threshold={threshold}\\n\")\n",
    "\n",
    "\n",
    "def get_heap():\n",
    "    list_ = []\n",
    "    heapq.heapify(list_)\n",
    "    return list_\n",
    "\n",
    "patchsize, skip = get_patch_size(args)\n",
    "\n",
    "\n",
    "vizloader_dict = {'trainloader': trainloader,\n",
    "                 'projectloader': projectloader,\n",
    "                 'testloader': testloader,\n",
    "                 'test_projectloader': test_projectloader}\n",
    "vizloader_dict[vizloader_name] = unshuffle_dataloader(vizloader_dict[vizloader_name])\n",
    "\n",
    "\n",
    "if type(vizloader_dict[vizloader_name].dataset) == ImageFolder:\n",
    "    name2label = vizloader_dict[vizloader_name].dataset.class_to_idx\n",
    "    label2name = {label:name for name, label in name2label.items()}\n",
    "else:\n",
    "    name2label = vizloader_dict[vizloader_name].dataset.dataset.dataset.class_to_idx\n",
    "    label2name = {label:name for name, label in name2label.items()}\n",
    "    \n",
    "overspecificity_score_and_proto_mask = []\n",
    "\n",
    "for node in root.nodes_with_children():\n",
    "#     if node.name == 'root':\n",
    "#         continue\n",
    "#     non_leaf_children_names = [child.name for child in node.children if not child.is_leaf()]\n",
    "#     if len(non_leaf_children_names) == 0: # if all the children are leaf nodes then skip this node\n",
    "#         continue\n",
    "\n",
    "    if (node.name not in subtree_root.descendents) and (node.name != subtree_root.name):\n",
    "        print('Skipping node', node.name)\n",
    "        continue\n",
    "\n",
    "    name2label = vizloader_dict[vizloader_name].dataset.class_to_idx\n",
    "    label2name = {label:name for name, label in name2label.items()}\n",
    "    modifiedLabelLoader = ModifiedLabelLoader(vizloader_dict[vizloader_name], node)\n",
    "    coarse_label2name = modifiedLabelLoader.modifiedlabel2name\n",
    "    node_label_to_children = {label: name for name, label in node.children_to_labels.items()}\n",
    "    \n",
    "    imgs = modifiedLabelLoader.filtered_imgs\n",
    "\n",
    "    img_iter = tqdm(enumerate(modifiedLabelLoader),\n",
    "                    total=len(modifiedLabelLoader),\n",
    "                    mininterval=50.,\n",
    "                    desc='Collecting topk',\n",
    "                    ncols=0)\n",
    "\n",
    "    classification_weights = getattr(net.module, '_'+node.name+'_classification').weight\n",
    "    \n",
    "    # maps proto_number -> grand_child_name (or descendant leaf name) -> list of top-k activations\n",
    "    proto_mean_activations = defaultdict(lambda: defaultdict(get_heap))\n",
    "\n",
    "    # maps class names to the prototypes that belong to that\n",
    "    class_and_prototypes = defaultdict(set)\n",
    "\n",
    "    for i, (xs, orig_y, ys) in img_iter:\n",
    "#         if coarse_label2name[ys.item()] not in non_leaf_children_names:\n",
    "#             continue\n",
    "\n",
    "        xs, ys = xs.to(device), ys.to(device)\n",
    "\n",
    "        with torch.no_grad():\n",
    "            model_output = net(xs, inference=False)\n",
    "            if len(model_output) == 3:\n",
    "                softmaxes, pooled, _ = model_output\n",
    "            elif len(model_output) == 4:\n",
    "                _, softmaxes, pooled, _ = model_output\n",
    "            pooled = pooled[node.name].squeeze(0) \n",
    "            softmaxes = softmaxes[node.name]#.squeeze(0)\n",
    "\n",
    "            for p in range(pooled.shape[0]): # pooled.shape -> [768] (== num of prototypes)\n",
    "                c_weight = torch.max(classification_weights[:,p]) # classification_weights[:,p].shape -> [200] (== num of classes)\n",
    "                relevant_proto_classes = torch.nonzero(classification_weights[:, p] > 1e-3)\n",
    "                relevant_proto_class_names = [node_label_to_children[class_idx.item()] for class_idx in relevant_proto_classes]\n",
    "                \n",
    "                # Take the max per prototype.                             \n",
    "                max_per_prototype, max_idx_per_prototype = torch.max(softmaxes, dim=0)\n",
    "                max_per_prototype_h, max_idx_per_prototype_h = torch.max(max_per_prototype, dim=1)\n",
    "                max_per_prototype_w, max_idx_per_prototype_w = torch.max(max_per_prototype_h, dim=1) #shape (num_prototypes)\n",
    "                \n",
    "                h_idx = max_idx_per_prototype_h[p, max_idx_per_prototype_w[p]]\n",
    "                w_idx = max_idx_per_prototype_w[p]\n",
    "\n",
    "                if len(relevant_proto_class_names) == 0:\n",
    "                    continue\n",
    "                \n",
    "#                 if (len(relevant_proto_class_names) == 1) and (relevant_proto_class_names[0] not in non_leaf_children_names):\n",
    "#                     continue\n",
    "                \n",
    "                h_coor_min, h_coor_max, w_coor_min, w_coor_max = get_img_coordinates(args.image_size, softmaxes.shape, patchsize, skip, h_idx, w_idx)\n",
    "                latent_activation = softmaxes[:, p, :, :]\n",
    "                \n",
    "                if not find_non_descendants:\n",
    "                    if (coarse_label2name[ys.item()] in relevant_proto_class_names):\n",
    "                        child_node = root.get_node(coarse_label2name[ys.item()])\n",
    "                        leaf_descendent = label2name[orig_y.item()]#[4:7]\n",
    "                        img_to_open = imgs[i][0] # it is a tuple of (path to image, lable)\n",
    "                        if topk and (len(proto_mean_activations[p][leaf_descendent]) >= topk):\n",
    "                            heapq.heappushpop(proto_mean_activations[p][leaf_descendent],\\\n",
    "                                              (pooled[p].item(), img_to_open,\\\n",
    "                                               (h_coor_min, h_coor_max, w_coor_min, w_coor_max), latent_activation))\n",
    "                        else:\n",
    "                            heapq.heappush(proto_mean_activations[p][leaf_descendent],\\\n",
    "                                           (pooled[p].item(), img_to_open,\\\n",
    "                                            (h_coor_min, h_coor_max, w_coor_min, w_coor_max), latent_activation))\n",
    "                else:\n",
    "                    if (coarse_label2name[ys.item()] not in relevant_proto_class_names):\n",
    "                        child_node = root.get_node(coarse_label2name[ys.item()])\n",
    "                        leaf_descendent = label2name[orig_y.item()]#[4:7]\n",
    "                        img_to_open = imgs[i][0] # it is a tuple of (path to image, lable)\n",
    "                        if topk and (len(proto_mean_activations[p][leaf_descendent]) >= topk):\n",
    "                            heapq.heappushpop(proto_mean_activations[p][leaf_descendent],\\\n",
    "                                              (pooled[p].item(), img_to_open,\\\n",
    "                                               (h_coor_min, h_coor_max, w_coor_min, w_coor_max), latent_activation))\n",
    "                        else:\n",
    "                            heapq.heappush(proto_mean_activations[p][leaf_descendent],\\\n",
    "                                           (pooled[p].item(), img_to_open,\\\n",
    "                                            (h_coor_min, h_coor_max, w_coor_min, w_coor_max), latent_activation))\n",
    "\n",
    "                class_and_prototypes[', '.join(relevant_proto_class_names)].add(p)\n",
    "\n",
    "    # write_num_proto_details(proto_mean_activations, node.name, net, threshold=0.2, txt_file=txt_file, args=args)\n",
    "\n",
    "    if plot_overspecificity_score:\n",
    "        for child_classname in class_and_prototypes:\n",
    "            for p in class_and_prototypes[child_classname]:\n",
    "                mean_activation_of_every_leaf = []\n",
    "                for leaf_descendent in proto_mean_activations[p]:\n",
    "                    mean_activation = round(np.mean([activation for activation, *_ in proto_mean_activations[p][leaf_descendent]]), 4)\n",
    "                    mean_activation_of_every_leaf.append(mean_activation)\n",
    "\n",
    "                overspecificity_score = 1\n",
    "                for mean_act in mean_activation_of_every_leaf:\n",
    "                    overspecificity_score *= mean_act * 1.0\n",
    "                proto_presence = getattr(net.module, '_'+node.name+'_proto_presence')\n",
    "                proto_presence = F.gumbel_softmax(proto_presence, tau=0.5, hard=True, dim=-1)\n",
    "                proto_mask = proto_presence[p, 1].item()\n",
    "                overspecificity_score_and_proto_mask.append((overspecificity_score, len(mean_activation_of_every_leaf), proto_mask))\n",
    "\n",
    "    print('Node', node.name)\n",
    "    for child_classname in class_and_prototypes:\n",
    "        \n",
    "        print('\\t'*1, 'Child:', child_classname)\n",
    "        for p in class_and_prototypes[child_classname]:\n",
    "            \n",
    "            logstr = '\\t'*2 + f'Proto:{p} '\n",
    "            mean_activation_of_every_leaf = []\n",
    "            for leaf_descendent in proto_mean_activations[p]:\n",
    "                mean_activation = round(np.mean([activation for activation, *_ in proto_mean_activations[p][leaf_descendent]]), 4)\n",
    "                num_images = len(proto_mean_activations[p][leaf_descendent])\n",
    "                logstr += f'{leaf_descendent}:({mean_activation}) '\n",
    "                mean_activation_of_every_leaf.append(mean_activation)\n",
    "            print(logstr)\n",
    "            \n",
    "            # # if the mean_activation is less for all leaf descendants skip the node\n",
    "            # if all([mean_act < 0.2 for mean_act in mean_activation_of_every_leaf]):\n",
    "            #     if find_non_descendants:\n",
    "            #         print('\\t'*2 + f'Not skipping proto {p} of {node.name} coz of find_non_descendants')\n",
    "            #     else:\n",
    "            #         print('\\t'*2 + f'Skipping proto {p} of {node.name}')\n",
    "            #         continue\n",
    "            \n",
    "            # have this for NON descendants\n",
    "            if len(proto_mean_activations[p]) == 0:\n",
    "                continue\n",
    "            \n",
    "            if save_images or save_activation_as_npy_path:\n",
    "                patches = []\n",
    "                right_descriptions = []\n",
    "                text_region_width = 3 # 3x the width of a patch\n",
    "\n",
    "                font_size = 40\n",
    "                fnt = ImageFont.truetype(\"arial.ttf\", font_size)\n",
    "                max_width = ImageDraw.Draw(Image.new(\"RGB\", (100, 100), (255, 0, 0))).textlength('-', font=fnt)\n",
    "                \n",
    "                for leaf_descendent in proto_mean_activations[p]:\n",
    "                    for word in leaf_descendent.split('_')[2:]:\n",
    "                        width_of_word = ImageDraw.Draw(Image.new(\"RGB\", (100, 100), (255, 0, 0))).textlength(word, font=fnt)\n",
    "                        max_width = max(max_width, width_of_word)\n",
    "\n",
    "                for leaf_descendent, heap in proto_mean_activations[p].items():\n",
    "                    # if 'BUT' in args.dataset:\n",
    "                    #     species_name = ' '.join(leaf_descendent.split('_')[2:4])\n",
    "                    # else:\n",
    "                    species_name = ' '.join(leaf_descendent.split('_')[2:])\n",
    "                    heap = sorted(heap)[::-1]\n",
    "                    mean_activation = round(np.mean([activation for activation, *_ in proto_mean_activations[p][leaf_descendent]]), 4)\n",
    "                    for rank, ele in enumerate(heap):\n",
    "                        activation, img_to_open, (h_coor_min, h_coor_max, w_coor_min, w_coor_max), latent_activation = ele\n",
    "                        image = transforms.Resize(size=(args.image_size, args.image_size))(Image.open(img_to_open))\n",
    "                        img_tensor = transforms.ToTensor()(image)#.unsqueeze_(0) #shape (1, 3, h, w)\n",
    "\n",
    "                        overlayed_image_np = get_heatmap(latent_activation, img_tensor, constant_color_scale=True)\n",
    "                        overlayed_image = torch.tensor(overlayed_image_np).permute(2, 0, 1).float() / 255.\n",
    "                        \n",
    "                        reshaped_latent_activation = np.array(Image.fromarray((latent_activation.cpu().numpy()[0] * 255).astype('uint8')).resize((img_tensor.shape[-1], img_tensor.shape[-1])))\n",
    "                        center = np.unravel_index(np.argmax(reshaped_latent_activation), reshaped_latent_activation.shape)\n",
    "                        # center = ((h_coor_min + h_coor_max) / 2., (w_coor_min + w_coor_max) / 2.)\n",
    "                        patch_size = 64\n",
    "                        h_coor_min = int(max(0, center[0] - (patch_size/2.)))\n",
    "                        h_coor_max = int(min(img_tensor.shape[1], center[0] + (patch_size/2.)))\n",
    "                        w_coor_min = int(max(0, center[1] - (patch_size/2.)))\n",
    "                        w_coor_max = int(min(img_tensor.shape[2], center[1] + (patch_size/2.)))\n",
    "                        img_tensor_patch = img_tensor[:, h_coor_min:h_coor_max, w_coor_min:w_coor_max]\n",
    "\n",
    "                        \n",
    "                        \n",
    "                        \n",
    "                        # overlayed_image = img_tensor\n",
    "\n",
    "                        \n",
    "\n",
    "                        scale_factor = 1.7  # 70% increase\n",
    "\n",
    "                        heatmap_patch = overlayed_image[:, h_coor_min:h_coor_max, w_coor_min:w_coor_max]\n",
    "                        resized_heatmap_patch = F.interpolate(heatmap_patch.unsqueeze(0), scale_factor=scale_factor, \\\n",
    "                                                      mode='bilinear', align_corners=False).squeeze(0)\n",
    "                        resized_heatmap_patch = torchvision.utils.draw_bounding_boxes((resized_heatmap_patch * 255).to(torch.uint8), \\\n",
    "                                                                                torch.tensor([[0, 0, resized_heatmap_patch.shape[2], resized_heatmap_patch.shape[1]]]), \\\n",
    "                                                                                width=4, colors=(255, 0, 0))\n",
    "                        resized_heatmap_patch = resized_heatmap_patch.float() / 255.\n",
    "                        \n",
    "                        resized_img_patch = F.interpolate(img_tensor_patch.unsqueeze(0), scale_factor=scale_factor, \\\n",
    "                                                      mode='bilinear', align_corners=False).squeeze(0)\n",
    "                        resized_img_patch = torchvision.utils.draw_bounding_boxes((resized_img_patch * 255).to(torch.uint8), \\\n",
    "                                                                                torch.tensor([[0, 0, resized_img_patch.shape[2], resized_img_patch.shape[1]]]), \\\n",
    "                                                                                width=4, colors=(255, 255, 0))\n",
    "                        resized_img_patch = resized_img_patch.float() / 255.\n",
    "                        \n",
    "                        resized_patch = torchvision.utils.make_grid([resized_img_patch, resized_heatmap_patch], nrow=1, padding=1, pad_value=1., border=1)\n",
    "                        white_image = torch.ones(3, img_tensor.shape[1], img_tensor.shape[2])\n",
    "                        patch_height = resized_patch.shape[1]\n",
    "                        y_start = (white_image.shape[1] - patch_height) // 2                        \n",
    "                        x_start = 10  # 10 pixels from the left\n",
    "                        white_image[:, y_start:y_start+patch_height, x_start:x_start+resized_patch.shape[2]] = resized_patch\n",
    "\n",
    "                        # Bounding box on original image\n",
    "                        img_tensor = torchvision.utils.draw_bounding_boxes((img_tensor * 255).to(torch.uint8), \\\n",
    "                                                                                torch.tensor([[w_coor_min, h_coor_min, w_coor_max, h_coor_max]]), \\\n",
    "                                                                                width=2, colors=(255, 255, 0))\n",
    "                        img_tensor = img_tensor.float() / 255.\n",
    "\n",
    "                        # Bounding box on overlayed image\n",
    "                        overlayed_image = torchvision.utils.draw_bounding_boxes((overlayed_image * 255).to(torch.uint8), \\\n",
    "                                                                                torch.tensor([[w_coor_min, h_coor_min, w_coor_max, h_coor_max]]), \\\n",
    "                                                                                width=2, colors=(255, 0, 0))\n",
    "                        overlayed_image = overlayed_image.float() / 255.\n",
    "\n",
    "                        grid_cell = torchvision.utils.make_grid([overlayed_image, white_image], nrow=2, padding=5, pad_value=1., border=1)\n",
    "\n",
    "                        patches.append(grid_cell)\n",
    "                        \n",
    "                        # added for NUMPY SAVING\n",
    "                        \n",
    "                        if save_activation_as_npy_path:\n",
    "#                             upscaled_similarity_interpolated = get_upscaled_activation_interpolated(latent_activation,\n",
    "#                                                                                        image_size=(args.image_size, args.image_size))\n",
    "                            latent_activation_npy = latent_activation.squeeze().cpu().numpy()\n",
    "                            data = {'node_name': node.name,\n",
    "                                    'proto_num': p,\n",
    "                                    'child_name': child_classname,\n",
    "                                    'leaf_desc': leaf_descendent,\n",
    "                                     'rank': rank,\n",
    "                                     'img_path': img_to_open,\n",
    "                                     'img_filename': ntpath.basename(img_to_open),\n",
    "                                     'activation': latent_activation_npy,\n",
    "                                     'max_activation': activation,\n",
    "                                     'model_type': 'NAIVE-HPIPNET'}\n",
    "                            filename = str(rank)+ '-' + ntpath.basename(img_to_open) + '.npy'\n",
    "                            save_path = os.path.join(run_path, save_activation_as_npy_path, \\\n",
    "                                                     node.name, str(p), leaf_descendent,\n",
    "                                                     filename)\n",
    "                            os.makedirs(os.path.dirname(save_path), exist_ok=True)\n",
    "                            np.save(save_path, data, allow_pickle=True)\n",
    "\n",
    "                    # # description on the right hand side\n",
    "                    # text = f'{mean_activation}, {leaf_descendent}'\n",
    "                    # txtimage = Image.new(\"RGB\", (patches[0].shape[-2]*text_region_width,patches[0].shape[-1]), (255, 255, 255))\n",
    "                    # draw = D.Draw(txtimage)\n",
    "                    # draw.text((150, patches[0].shape[1]//2), text, anchor='mm', fill=\"black\", font=font)\n",
    "                    # pdb.set_trace()\n",
    "                    # txttensor = transforms.ToTensor()(txtimage)#.unsqueeze_(0)\n",
    "                    # right_descriptions.append(txttensor)\n",
    "\n",
    "                    text = '\\n'.join(species_name.split(' '))\n",
    "                    image_size = (math.ceil(max_width) + 10, patches[0].shape[1])\n",
    "                    txtimage = Image.new(\"RGB\", image_size, (255, 255, 255))\n",
    "                    d = ImageDraw.Draw(txtimage)\n",
    "                    d.multiline_text((image_size[0]/2, image_size[1]/2), text, font=fnt, fill=(0, 0, 0), align =\"center\", anchor=\"mm\")\n",
    "                    txttensor = transforms.ToTensor()(txtimage)#.unsqueeze_(0)\n",
    "                    right_descriptions.append(txttensor)\n",
    "                    \n",
    "\n",
    "                padding = 0\n",
    "\n",
    "                # grid = torchvision.utils.make_grid(patches, nrow=topk, padding=padding, border=0)\n",
    "                # grid_right_descriptions = torchvision.utils.make_grid(right_descriptions, nrow=1, padding=padding, border=0)\n",
    "                # grid = torch.cat([grid_right_descriptions, grid], dim=-1)\n",
    "\n",
    "                grid_rows = []\n",
    "                for k in range(len(proto_mean_activations[p])):\n",
    "                    grid_row = torchvision.utils.make_grid(patches[k*topk:(k+1)*topk], nrow=topk, padding=padding, border=0)\n",
    "                    grid_right_description = torchvision.utils.make_grid(right_descriptions[k], nrow=1, padding=padding, border=0)\n",
    "                    # pdb.set_trace()\n",
    "                    grid_row = torch.cat([grid_right_description, grid_row], dim=-1)\n",
    "                    grid_rows.append(grid_row)\n",
    "                # grid = torch.cat(grid_rows, dim=0)\n",
    "                grid = torchvision.utils.make_grid(grid_rows, nrow=1, padding=5, pad_value=1.)\n",
    "                    \n",
    "                # # description on the top\n",
    "                # text = f'Node:{node.name}, p{p}, Child:{child_classname}'\n",
    "                # txtimage = Image.new(\"RGB\", (grid.shape[-1], args.wshape), (0, 0, 0))\n",
    "                # draw = D.Draw(txtimage)\n",
    "                # draw.text((150, patches[0].shape[1]//2), text, anchor='mm', fill=\"white\", font=font)\n",
    "                # txttensor = transforms.ToTensor()(txtimage)#.unsqueeze_(0)\n",
    "\n",
    "                # merging top description with the grid of images\n",
    "                # grid = torch.cat([grid, txttensor], dim=1)\n",
    "                \n",
    "                if save_images:\n",
    "                    prefix = 'non_' if find_non_descendants else ''\n",
    "                    os.makedirs(os.path.join(run_path, prefix+f'descendent_specific_topk_heatmap_with_heatmap_colorzoomin_heatmapzoomin_ep={epoch}_{subtree_root.name}', node.name), exist_ok=True)\n",
    "                    torchvision.utils.save_image(grid, os.path.join(run_path, prefix+f'descendent_specific_topk_heatmap_with_heatmap_colorzoomin_heatmapzoomin_ep={epoch}_{subtree_root.name}', node.name, f'{child_classname}-p{p}.png'), border=0) # , border_color=(255, 255, 255), border=10\n",
    "\n",
    "# txt_file.write('\\n')\n",
    "# txt_file.close()\n",
    "print('Done !!!')"
   ]
  },
  {
   "cell_type": "code",
   "execution_count": 18,
   "metadata": {},
   "outputs": [
    {
     "data": {
      "image/png": "[encoded data removed]",
      "text/plain": [
       "<Figure size 640x480 with 1 Axes>"
      ]
     },
     "metadata": {},
     "output_type": "display_data"
    }
   ],
   "source": [
    "import matplotlib.pyplot as plt\n",
    "\n",
    "# Example list of tuples\n",
    "data = overspecificity_score_and_proto_mask\n",
    "\n",
    "# Separate the data based on the second value\n",
    "x_0 = [x for x, y, z in data if z == 0]  # First values where the second value is 0\n",
    "x_1 = [x for x, y, z in data if z == 1]  # First values where the second value is 1\n",
    "\n",
    "# Create a dummy y-axis value since this is a one-dimensional scatter plot\n",
    "# y_0 = [y for x, y, z in data if z == 0]  # Dummy y values for blue points\n",
    "# y_1 = [y for x, y, z in data if z == 1]  # Dummy y values for red points\n",
    "\n",
    "# y_0 = [1]*len(x_0)\n",
    "# y_1 = [1.5]*len(x_1)\n",
    "\n",
    "y_0 = [1]*len(x_0)\n",
    "y_1 = [1]*len(x_1)\n",
    "\n",
    "# Plot the data\n",
    "plt.scatter(x_1, y_1, color='red', label='Value 1', s=4)   # Plot points with second value 1 in red\n",
    "plt.scatter(x_0, y_0, color='blue', label='Value 0', s=4)  # Plot points with second value 0 in blue\n",
    "\n",
    "\n",
    "# Additional plot formatting\n",
    "plt.xlabel('Overspecificity score')\n",
    "# plt.ylabel('Num descendants')  # Hide y-axis ticks since it's a one-dimensional plot\n",
    "plt.yticks([])\n",
    "# plt.legend(loc='best')\n",
    "# plt.title('One-dimensional Scatter Plot')\n",
    "plt.show()\n"
   ]
  },
  {
   "cell_type": "code",
   "execution_count": 15,
   "metadata": {},
   "outputs": [
    {
     "name": "stdout",
     "output_type": "stream",
     "text": [
      "\u001b[33mWARNING: Package(s) not found: cairosvg\u001b[0m\u001b[33m\n",
      "\u001b[0m"
     ]
    }
   ],
   "source": [
    "!pip show cairosvg"
   ]
  },
  {
   "cell_type": "code",
   "execution_count": 64,
   "metadata": {},
   "outputs": [
    {
     "data": {
      "text/plain": [
       "<module 'torch.nn.functional' from '/home/harishbabu/.conda/envs/hpnet4/lib/python3.9/site-packages/torch/nn/functional.py'>"
      ]
     },
     "execution_count": 64,
     "metadata": {},
     "output_type": "execute_result"
    }
   ],
   "source": [
    "F"
   ]
  },
  {
   "cell_type": "code",
   "execution_count": null,
   "metadata": {},
   "outputs": [],
   "source": []
  }
 ],
 "metadata": {
  "kernelspec": {
   "display_name": "Python 3 (ipykernel)",
   "language": "python",
   "name": "python3"
  },
  "language_info": {
   "codemirror_mode": {
    "name": "ipython",
    "version": 3
   },
   "file_extension": ".py",
   "mimetype": "text/x-python",
   "name": "python",
   "nbconvert_exporter": "python",
   "pygments_lexer": "ipython3",
   "version": "3.9.18"
  }
 },
 "nbformat": 4,
 "nbformat_minor": 4
}
